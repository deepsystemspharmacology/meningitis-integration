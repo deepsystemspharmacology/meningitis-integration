{
 "cells": [
  {
   "cell_type": "markdown",
   "metadata": {},
   "source": [
    "### There is nothing in here!"
   ]
  },
  {
   "cell_type": "markdown",
   "metadata": {},
   "source": [
    "As this notebook grew, it has been split up into:\n",
    "- [Protein_data_unsupervised_analysis](Protein_data_unsupervised_analysis.ipynb)\n",
    "  - [Notes_on_PCA_with_prcomp_and_factoextra](Notes_on_PCA_with_prcomp_and_factoextra.ipynb)\n",
    "- [RNAseq_data_unsupervised_analysis](RNAseq_data_unsupervised_analysis.ipynb) (TBD)\n",
    "\n",
    "and others notebooks.\n",
    "\n",
    "NB: the supervised part will be placed outside of `data_exploration` directory."
   ]
  }
 ],
 "metadata": {
  "kernelspec": {
   "display_name": "Python 3",
   "language": "python",
   "name": "python3"
  },
  "language_info": {
   "codemirror_mode": {
    "name": "ipython",
    "version": 3
   },
   "file_extension": ".py",
   "mimetype": "text/x-python",
   "name": "python",
   "nbconvert_exporter": "python",
   "pygments_lexer": "ipython3",
   "version": "3.7.2"
  }
 },
 "nbformat": 4,
 "nbformat_minor": 2
}
