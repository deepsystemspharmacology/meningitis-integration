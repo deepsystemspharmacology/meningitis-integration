{
 "cells": [
  {
   "cell_type": "code",
   "execution_count": 1,
   "metadata": {},
   "outputs": [],
   "source": [
    "%matplotlib inline\n",
    "%load_ext autoreload\n",
    "%autoreload 2\n",
    "from helpers.utilities import *"
   ]
  },
  {
   "cell_type": "code",
   "execution_count": 2,
   "metadata": {},
   "outputs": [],
   "source": [
    "from os import chdir\n",
    "chdir('..')"
   ]
  },
  {
   "cell_type": "code",
   "execution_count": 3,
   "metadata": {},
   "outputs": [],
   "source": [
    "%%capture\n",
    "%load_ext rpy2.ipython\n",
    "%R library(ggplot2)\n",
    "%R library(factoextra);"
   ]
  },
  {
   "cell_type": "markdown",
   "metadata": {},
   "source": [
    "While analyzing the PCA plots for protein levels two problems have arisen:\n",
    "- the loadings plot did not show any variables that define PC2\n",
    "  - in order to select variables that explain both PC1 and PC2, a way to extract the contributions of variables of each PC (but not of joint PC1 and PC2) was needed\n",
    "- it was not obvious how are the contributions defined, given different terminologies in use\n",
    "\n",
    "This notebook addresses these questions using the protein levels data."
   ]
  },
  {
   "cell_type": "markdown",
   "metadata": {},
   "source": [
    "### Loading the data"
   ]
  },
  {
   "cell_type": "code",
   "execution_count": 4,
   "metadata": {},
   "outputs": [],
   "source": [
    "protein_levels = read_csv('data/clean/protein/levels.csv', index_col=2).drop(['soma_id', 'target_full_name', 'entrez_gene_symbol'], axis=1)"
   ]
  },
  {
   "cell_type": "code",
   "execution_count": 5,
   "metadata": {},
   "outputs": [],
   "source": [
    "def z_score(v):\n",
    "    return (v - v.mean()) / v.std()"
   ]
  },
  {
   "cell_type": "code",
   "execution_count": 6,
   "metadata": {},
   "outputs": [],
   "source": [
    "from numpy import log10"
   ]
  },
  {
   "cell_type": "code",
   "execution_count": 7,
   "metadata": {},
   "outputs": [],
   "source": [
    "log_matrix = protein_levels.applymap(log10)\n",
    "z_log_matrix = log_matrix.apply(z_score).apply(z_score, axis=1)"
   ]
  },
  {
   "cell_type": "code",
   "execution_count": 8,
   "metadata": {},
   "outputs": [],
   "source": [
    "%%R -i z_log_matrix -o pca\n",
    "pca = prcomp(t(z_log_matrix), scale=T)"
   ]
  },
  {
   "cell_type": "markdown",
   "metadata": {},
   "source": [
    "## Analysis"
   ]
  },
  {
   "cell_type": "markdown",
   "metadata": {},
   "source": [
    "### A quick look at the distribution of contributions to PC1/2"
   ]
  },
  {
   "cell_type": "code",
   "execution_count": 9,
   "metadata": {},
   "outputs": [],
   "source": [
    "%%R\n",
    "pc_contributions_distribution = function(pca_result, axes, choice='var', labels=FALSE) {\n",
    "    g = fviz_pca_contrib(pca, choice=choice, axes=axes)\n",
    "    if(!labels)\n",
    "        g = g + theme(\n",
    "            axis.text.x=element_blank(),\n",
    "            axis.ticks.x=element_blank()\n",
    "        )\n",
    "    g\n",
    "}"
   ]
  },
  {
   "cell_type": "code",
   "execution_count": 10,
   "metadata": {},
   "outputs": [
    {
     "data": {
      "image/png": "[encoded data removed]"
     },
     "metadata": {},
     "output_type": "display_data"
    }
   ],
   "source": [
    "%%R -w 300 -h 300 -u px\n",
    "# \"Reference line corresponds to the expected value if the contribution where uniform\"\n",
    "pc_contributions_distribution(pca, axes=1)"
   ]
  },
  {
   "cell_type": "markdown",
   "metadata": {},
   "source": [
    "The cut-off point for PC1 is much more to the right (PC1 has a heavy tail), thus more variables contribute to this dimension (compared to PC2, below). Dr Tim noted that similar pattern appears when the data are not centered, as then the first PC is essentially swapping the dataset into the origin."
   ]
  },
  {
   "cell_type": "markdown",
   "metadata": {},
   "source": [
    "While the z_log_matrix might not be centered on zero (due to the order of z-scores) the `prcomp` function does center it anyway (when scale=T)."
   ]
  },
  {
   "cell_type": "code",
   "execution_count": 11,
   "metadata": {},
   "outputs": [
    {
     "data": {
      "image/png": "[encoded data removed]"
     },
     "metadata": {},
     "output_type": "display_data"
    }
   ],
   "source": [
    "%%R -w 300 -h 300 -u px\n",
    "pc_contributions_distribution(pca, axes=2)"
   ]
  },
  {
   "cell_type": "markdown",
   "metadata": {},
   "source": [
    "While PC2 contributions are much more clearly defined by a small number of proteins, these dimensions do not account for enough variation to be shown on the original biplot."
   ]
  },
  {
   "cell_type": "markdown",
   "metadata": {},
   "source": [
    "### Getting the top contributors for each of the PCs"
   ]
  },
  {
   "cell_type": "markdown",
   "metadata": {},
   "source": [
    "Loadings are named \"rotations\" in `prcomp`; columns correspond to the eigenvectors."
   ]
  },
  {
   "cell_type": "code",
   "execution_count": 12,
   "metadata": {},
   "outputs": [],
   "source": [
    "%%R -o loadings -o stdev\n",
    "loadings = as.data.frame(pca$rotation)\n",
    "stdev = as.data.frame(pca$sdev)"
   ]
  },
  {
   "cell_type": "code",
   "execution_count": 13,
   "metadata": {},
   "outputs": [
    {
     "data": {
      "text/html": [
       "<div>\n",
       "<style scoped>\n",
       "    .dataframe tbody tr th:only-of-type {\n",
       "        vertical-align: middle;\n",
       "    }\n",
       "\n",
       "    .dataframe tbody tr th {\n",
       "        vertical-align: top;\n",
       "    }\n",
       "\n",
       "    .dataframe thead th {\n",
       "        text-align: right;\n",
       "    }\n",
       "</style>\n",
       "<table border=\"1\" class=\"dataframe\">\n",
       "  <thead>\n",
       "    <tr style=\"text-align: right;\">\n",
       "      <th></th>\n",
       "      <th>PC1</th>\n",
       "      <th>PC2</th>\n",
       "      <th>PC3</th>\n",
       "      <th>PC4</th>\n",
       "      <th>PC5</th>\n",
       "      <th>...</th>\n",
       "      <th>PC78</th>\n",
       "      <th>PC79</th>\n",
       "      <th>PC80</th>\n",
       "      <th>PC81</th>\n",
       "      <th>PC82</th>\n",
       "    </tr>\n",
       "  </thead>\n",
       "  <tbody>\n",
       "    <tr>\n",
       "      <th>CHIP</th>\n",
       "      <td>-0.030286</td>\n",
       "      <td>-0.010796</td>\n",
       "      <td>0.019527</td>\n",
       "      <td>-0.018871</td>\n",
       "      <td>-0.001675</td>\n",
       "      <td>...</td>\n",
       "      <td>0.019079</td>\n",
       "      <td>0.002251</td>\n",
       "      <td>0.022151</td>\n",
       "      <td>-0.027124</td>\n",
       "      <td>-0.629210</td>\n",
       "    </tr>\n",
       "    <tr>\n",
       "      <th>CEBPB</th>\n",
       "      <td>-0.013677</td>\n",
       "      <td>-0.053114</td>\n",
       "      <td>-0.035227</td>\n",
       "      <td>0.040743</td>\n",
       "      <td>0.016014</td>\n",
       "      <td>...</td>\n",
       "      <td>-0.048504</td>\n",
       "      <td>0.010487</td>\n",
       "      <td>-0.029901</td>\n",
       "      <td>-0.013329</td>\n",
       "      <td>0.216258</td>\n",
       "    </tr>\n",
       "    <tr>\n",
       "      <th>NSE</th>\n",
       "      <td>0.033534</td>\n",
       "      <td>-0.011904</td>\n",
       "      <td>0.032665</td>\n",
       "      <td>0.024509</td>\n",
       "      <td>-0.001668</td>\n",
       "      <td>...</td>\n",
       "      <td>-0.038495</td>\n",
       "      <td>-0.003225</td>\n",
       "      <td>0.016193</td>\n",
       "      <td>-0.005210</td>\n",
       "      <td>0.362001</td>\n",
       "    </tr>\n",
       "    <tr>\n",
       "      <th>PIAS4</th>\n",
       "      <td>0.001750</td>\n",
       "      <td>-0.052516</td>\n",
       "      <td>-0.044091</td>\n",
       "      <td>0.049317</td>\n",
       "      <td>0.019133</td>\n",
       "      <td>...</td>\n",
       "      <td>0.009833</td>\n",
       "      <td>-0.070958</td>\n",
       "      <td>0.014760</td>\n",
       "      <td>-0.022986</td>\n",
       "      <td>0.267293</td>\n",
       "    </tr>\n",
       "    <tr>\n",
       "      <th>IL-10 Ra</th>\n",
       "      <td>0.032442</td>\n",
       "      <td>0.015214</td>\n",
       "      <td>0.002669</td>\n",
       "      <td>-0.007186</td>\n",
       "      <td>0.022590</td>\n",
       "      <td>...</td>\n",
       "      <td>0.008955</td>\n",
       "      <td>0.064745</td>\n",
       "      <td>0.062419</td>\n",
       "      <td>-0.017625</td>\n",
       "      <td>0.081871</td>\n",
       "    </tr>\n",
       "  </tbody>\n",
       "</table>\n",
       "<p>5 rows × 82 columns</p>\n",
       "</div>"
      ],
      "text/plain": [
       "               PC1       PC2       PC3       PC4       PC5  ...      PC78  \\\n",
       "CHIP     -0.030286 -0.010796  0.019527 -0.018871 -0.001675  ...  0.019079   \n",
       "CEBPB    -0.013677 -0.053114 -0.035227  0.040743  0.016014  ... -0.048504   \n",
       "NSE       0.033534 -0.011904  0.032665  0.024509 -0.001668  ... -0.038495   \n",
       "PIAS4     0.001750 -0.052516 -0.044091  0.049317  0.019133  ...  0.009833   \n",
       "IL-10 Ra  0.032442  0.015214  0.002669 -0.007186  0.022590  ...  0.008955   \n",
       "\n",
       "              PC79      PC80      PC81      PC82  \n",
       "CHIP      0.002251  0.022151 -0.027124 -0.629210  \n",
       "CEBPB     0.010487 -0.029901 -0.013329  0.216258  \n",
       "NSE      -0.003225  0.016193 -0.005210  0.362001  \n",
       "PIAS4    -0.070958  0.014760 -0.022986  0.267293  \n",
       "IL-10 Ra  0.064745  0.062419 -0.017625  0.081871  \n",
       "\n",
       "[5 rows x 82 columns]"
      ]
     },
     "execution_count": 13,
     "metadata": {},
     "output_type": "execute_result"
    }
   ],
   "source": [
    "loadings.head()"
   ]
  },
  {
   "cell_type": "code",
   "execution_count": 14,
   "metadata": {},
   "outputs": [],
   "source": [
    "from helpers.unsupervised import top_variables"
   ]
  },
  {
   "cell_type": "code",
   "execution_count": 15,
   "metadata": {},
   "outputs": [
    {
     "data": {
      "text/html": [
       "<div class=\"highlight\"><pre><span></span><span class=\"k\">def</span> <span class=\"nf\">top_variables</span><span class=\"p\">(</span><span class=\"n\">loadings</span><span class=\"p\">,</span> <span class=\"n\">pc</span><span class=\"p\">,</span> <span class=\"n\">n</span><span class=\"o\">=</span><span class=\"mi\">20</span><span class=\"p\">):</span>\n",
       "    <span class=\"k\">return</span> <span class=\"n\">loadings</span><span class=\"p\">[</span><span class=\"n\">pc</span><span class=\"p\">]</span><span class=\"o\">.</span><span class=\"n\">abs</span><span class=\"p\">()</span><span class=\"o\">.</span><span class=\"n\">nlargest</span><span class=\"p\">(</span><span class=\"n\">n</span><span class=\"p\">)</span>\n",
       "</pre></div>\n"
      ],
      "text/plain": [
       "<IPython.core.display.HTML object>"
      ]
     },
     "metadata": {},
     "output_type": "display_data"
    }
   ],
   "source": [
    "show_source(top_variables)"
   ]
  },
  {
   "cell_type": "code",
   "execution_count": 16,
   "metadata": {},
   "outputs": [],
   "source": [
    "def top_variables(loadings, pc, n=20):\n",
    "    return loadings[pc].abs().nlargest(n)"
   ]
  },
  {
   "cell_type": "markdown",
   "metadata": {},
   "source": [
    "Quick check to verify that my results are same as of the R-package:"
   ]
  },
  {
   "cell_type": "code",
   "execution_count": 17,
   "metadata": {},
   "outputs": [
    {
     "data": {
      "text/plain": [
       "hnRNP A/B    0.039330\n",
       "IMB1         0.039219\n",
       "STAT3        0.039196\n",
       "PTK6         0.039172\n",
       "FGF9         0.039125\n",
       "Name: PC1, dtype: float64"
      ]
     },
     "execution_count": 17,
     "metadata": {},
     "output_type": "execute_result"
    }
   ],
   "source": [
    "top_variables(loadings, 'PC1', n=5) # I do not scale by variance - do not need it"
   ]
  },
  {
   "cell_type": "code",
   "execution_count": 18,
   "metadata": {},
   "outputs": [
    {
     "data": {
      "image/png": "[encoded data removed]"
     },
     "metadata": {},
     "output_type": "display_data"
    }
   ],
   "source": [
    "%%R -w 250 -h 200 -u px\n",
    "fviz_pca_contrib(pca, choice=\"var\", axes=1, top=5)"
   ]
  },
  {
   "cell_type": "markdown",
   "metadata": {},
   "source": [
    "### How are the contributions are defined?"
   ]
  },
  {
   "cell_type": "markdown",
   "metadata": {},
   "source": [
    "I recreate the calculation of contributions step-by-step for benefit of the reader (including me during the write-up):"
   ]
  },
  {
   "cell_type": "markdown",
   "metadata": {},
   "source": [
    "1) The loadings are normalized (scaled to unit vector):"
   ]
  },
  {
   "cell_type": "code",
   "execution_count": 19,
   "metadata": {},
   "outputs": [],
   "source": [
    "from numpy import isclose\n",
    "\n",
    "assert all(\n",
    "    isclose(pc_squared, 1) # equal 1 or very, very close\n",
    "    # (rtol=1e-05, atol=1e-08) - to allow for rounding errors\n",
    "    for pc_squared in loadings.pow(2).sum()\n",
    ")"
   ]
  },
  {
   "cell_type": "markdown",
   "metadata": {},
   "source": [
    "2) \"sdev\" gives us the square root of eigenvalues, which can be used to calculate the variance explained by each principal component:"
   ]
  },
  {
   "cell_type": "code",
   "execution_count": 20,
   "metadata": {},
   "outputs": [
    {
     "data": {
      "text/html": [
       "<div>\n",
       "<style scoped>\n",
       "    .dataframe tbody tr th:only-of-type {\n",
       "        vertical-align: middle;\n",
       "    }\n",
       "\n",
       "    .dataframe tbody tr th {\n",
       "        vertical-align: top;\n",
       "    }\n",
       "\n",
       "    .dataframe thead th {\n",
       "        text-align: right;\n",
       "    }\n",
       "</style>\n",
       "<table border=\"1\" class=\"dataframe\">\n",
       "  <thead>\n",
       "    <tr style=\"text-align: right;\">\n",
       "      <th></th>\n",
       "      <th>variance_explained</th>\n",
       "    </tr>\n",
       "  </thead>\n",
       "  <tbody>\n",
       "    <tr>\n",
       "      <th>PC1</th>\n",
       "      <td>0.479502</td>\n",
       "    </tr>\n",
       "    <tr>\n",
       "      <th>PC2</th>\n",
       "      <td>0.106114</td>\n",
       "    </tr>\n",
       "    <tr>\n",
       "      <th>PC3</th>\n",
       "      <td>0.045693</td>\n",
       "    </tr>\n",
       "    <tr>\n",
       "      <th>PC4</th>\n",
       "      <td>0.034823</td>\n",
       "    </tr>\n",
       "    <tr>\n",
       "      <th>PC5</th>\n",
       "      <td>0.030572</td>\n",
       "    </tr>\n",
       "  </tbody>\n",
       "</table>\n",
       "</div>"
      ],
      "text/plain": [
       "     variance_explained\n",
       "PC1            0.479502\n",
       "PC2            0.106114\n",
       "PC3            0.045693\n",
       "PC4            0.034823\n",
       "PC5            0.030572"
      ]
     },
     "execution_count": 20,
     "metadata": {},
     "output_type": "execute_result"
    }
   ],
   "source": [
    "variance_by_pc = stdev.pow(2)\n",
    "variance_explained = variance_by_pc / variance_by_pc.sum()\n",
    "variance_explained.columns = ['variance_explained']\n",
    "variance_explained.index = 'PC' + variance_explained.index\n",
    "variance_explained.head()"
   ]
  },
  {
   "cell_type": "markdown",
   "metadata": {},
   "source": [
    "In documentation the contributions are defined as:"
   ]
  },
  {
   "cell_type": "markdown",
   "metadata": {},
   "source": [
    "$\\text{contrib} = \\frac{\\text{variable.cos}^2 \\cdot 100}{\\text{total cos}^2 \\text{of the component}}$"
   ]
  },
  {
   "cell_type": "markdown",
   "metadata": {},
   "source": [
    "As the loadings are cosines of rotation of variables required to form the PCs:"
   ]
  },
  {
   "cell_type": "code",
   "execution_count": 21,
   "metadata": {},
   "outputs": [],
   "source": [
    "absolute_contributions = loadings.pow(2) * variance_explained.variance_explained\n",
    "relative_contributions = 100 * absolute_contributions / absolute_contributions.sum() "
   ]
  },
  {
   "cell_type": "code",
   "execution_count": 22,
   "metadata": {},
   "outputs": [
    {
     "data": {
      "text/plain": [
       "hnRNP A/B    0.154683\n",
       "IMB1         0.153810\n",
       "STAT3        0.153632\n",
       "PTK6         0.153442\n",
       "FGF9         0.153075\n",
       "Name: PC1, dtype: float64"
      ]
     },
     "execution_count": 22,
     "metadata": {},
     "output_type": "execute_result"
    }
   ],
   "source": [
    "relative_contributions['PC1'].nlargest()"
   ]
  },
  {
   "cell_type": "markdown",
   "metadata": {},
   "source": [
    "Which agrees with the values on the plot above."
   ]
  },
  {
   "cell_type": "markdown",
   "metadata": {},
   "source": [
    "**But how are the contributions for more than one PC calculated?**"
   ]
  },
  {
   "cell_type": "markdown",
   "metadata": {},
   "source": [
    "These are just means of contributions (i.e. means of squared loadings, weighted by variance explained by each of the principal components):"
   ]
  },
  {
   "cell_type": "code",
   "execution_count": 23,
   "metadata": {},
   "outputs": [
    {
     "data": {
      "text/plain": [
       "KREM2        0.127032\n",
       "hnRNP A/B    0.126739\n",
       "SPARCL1      0.126043\n",
       "IMB1         0.126038\n",
       "STAT3        0.125892\n",
       "dtype: float64"
      ]
     },
     "execution_count": 23,
     "metadata": {},
     "output_type": "execute_result"
    }
   ],
   "source": [
    "pc_1_2_contrib = absolute_contributions[['PC1', 'PC2']].mean(axis=1)\n",
    "(100 * pc_1_2_contrib / pc_1_2_contrib.sum()).nlargest()"
   ]
  },
  {
   "cell_type": "markdown",
   "metadata": {},
   "source": [
    "Please, compare with this plot:"
   ]
  },
  {
   "cell_type": "code",
   "execution_count": 24,
   "metadata": {},
   "outputs": [
    {
     "data": {
      "image/png": "[encoded data removed]"
     },
     "metadata": {},
     "output_type": "display_data"
    }
   ],
   "source": [
    "%%R -w 250 -h 200 -u px\n",
    "fviz_pca_contrib(pca, choice=\"var\", axes=1:2, top=5)"
   ]
  },
  {
   "cell_type": "markdown",
   "metadata": {},
   "source": [
    "This is of course different from getting a mean of relative contributions (which would assume equal importance of each of the principal components):"
   ]
  },
  {
   "cell_type": "code",
   "execution_count": 25,
   "metadata": {},
   "outputs": [
    {
     "data": {
      "text/plain": [
       "Plasmin    0.315266\n",
       "ANP        0.311123\n",
       "STAB2      0.303710\n",
       "FGF-8B     0.302288\n",
       "PECAM-1    0.293163\n",
       "dtype: float64"
      ]
     },
     "execution_count": 25,
     "metadata": {},
     "output_type": "execute_result"
    }
   ],
   "source": [
    "relative_contributions[['PC1', 'PC2']].mean(axis=1).nlargest()"
   ]
  }
 ],
 "metadata": {
  "kernelspec": {
   "display_name": "Python 3",
   "language": "python",
   "name": "python3"
  },
  "language_info": {
   "codemirror_mode": {
    "name": "ipython",
    "version": 3
   },
   "file_extension": ".py",
   "mimetype": "text/x-python",
   "name": "python",
   "nbconvert_exporter": "python",
   "pygments_lexer": "ipython3",
   "version": "3.7.2"
  }
 },
 "nbformat": 4,
 "nbformat_minor": 2
}
