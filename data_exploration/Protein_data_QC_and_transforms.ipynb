{
 "cells": [
  {
   "cell_type": "code",
   "execution_count": 2,
   "metadata": {},
   "outputs": [],
   "source": [
    "%matplotlib inline\n",
    "%load_ext autoreload\n",
    "%autoreload 2\n",
    "from helpers.utilities import *"
   ]
  },
  {
   "cell_type": "code",
   "execution_count": 3,
   "metadata": {},
   "outputs": [],
   "source": [
    "from os import chdir\n",
    "chdir('..')"
   ]
  },
  {
   "cell_type": "code",
   "execution_count": 4,
   "metadata": {},
   "outputs": [],
   "source": [
    "%%capture\n",
    "%load_ext rpy2.ipython\n",
    "%R require(ggplot2)"
   ]
  },
  {
   "cell_type": "markdown",
   "metadata": {},
   "source": [
    "# Protein levels - transformations and quality checks"
   ]
  },
  {
   "cell_type": "markdown",
   "metadata": {},
   "source": [
    "Protein levels were measured with SOMAscan platform (SomaLogic company) in version measuring 1.3k proteins.\n",
    "\n",
    "SOMAscan uses peptide aptamers (short, target specific protein fragments) binding for protein level quantification[1]:\n",
    " - designed for ~1.3k human proteins[1], with a newer version [capable of measuring ~5k human proteins](https://somalogic.com/somalogic-launches-new-version-somascan-assay/)\n",
    " - The company [claims](http://somalogic.com/wp-content/uploads/2017/06/SSM-002-Technical-White-Paper_010916_LSM1.pdf) achieving high dynamic range (10^8) and the readouts being directly proportional to protein concentrations\n",
    " - \"Many of the proteins are either secreted or known to be shed from the cell surface, and thus the platform is particularly well suited for plasma biomarker discovery.\" [(Ngo, et al. 2016)](https://www.ncbi.nlm.nih.gov/pmc/articles/PMC4963294/)\n",
    "\n",
    "Were there any previous studies on related diseases, sample types (CSF as in contrast to blood), and validated for application to signal from (potentially) multiple organisms?\n",
    " - previously applied to other species (e.g. mouse)[1] - taking advantage of non-specificity to human proteins/close homology of some mammal proteins; the [company report](http://www.somalogic.com/wp-content/uploads/2016/09/SSM-019-Rev-4-SOMAmer-tech-note-nonhuman-sample.pdf) demonstrates that non-human orthologs from dog, rat, cat and mouse can be used to measure levels of certain proteins in these species    \n",
    " - previously applied to TB:\n",
    "   - [Sequential inflammatory processes define human progression from M. tuberculosis infection to tuberculosis disease](https://journals.plos.org/plospathogens/article?id=10.1371/journal.ppat.1006687) - may be worth looking at as they also used both: SOMAscan and RNA-Seq data (plus the data are published in GEO!),\n",
    "   - [Highly Multiplexed Proteomic Analysis of Quantiferon Supernatants To Identify Biomarkers of Latent Tuberculosis Infection](https://jcm.asm.org/content/55/2/391.long)\n",
    " - applications to CSF: [Neuro Psychiatric SLE patients (somehow related to meningitis)](http://www.jimmunol.org/content/200/1_Supplement/100.11) just an abstract!, [Alzheimer study](https://alzres.biomedcentral.com/articles/10.1186/s13195-017-0258-6) in which many differentially expressed pathways were in agreement with previous studies (which supports the case for application of SOMAscan to CSF).\n",
    " - The company [was developing some of its reagents](https://somalogic.com/somalogic-announces-extension-of-funding-for-devel/) specifically with intent to diagnose for TB for many years, which was funded by the Bill & Melinda Gates foundation.\n",
    " - The SOMAscan was qualified for use with CSF for biomarker discovery according to [the technical whitepaper](http://somalogic.com/wp-content/uploads/2017/06/SSM-002-Technical-White-Paper_010916_LSM1.pdf).\n",
    " \n",
    "Technical validation and updates:\n",
    " - [\"Assessment of Variability in the SOMAscan Assay\", 2017](https://www.nature.com/articles/s41598-017-14755-5) report discusses the variability, data processing and normalization for SOMAscan, importantly sharing the data for variability. They compare performance on serum and plasma across multiple plates. \n",
    " - According to the company that coefficient of variation in healthy humans has [median of 4.6% and 2.9% for plasma and serum respectively](http://somalogic.com/wp-content/uploads/2017/06/SSM-046-Rev-2-Verification-and-Validation-of-the-SOMAscan-Assay-1.3k.pdf) (n=166) which is consistent with the findings of above mentioned study\n",
    " - [\"Complementarity of SOMAscan to LC-MS/MS and RNA-seq for quantitative profiling of human embryonic and mesenchymal stem cells\", 2017](https://www.sciencedirect.com/science/article/pii/S1874391916304006) compares SOMAscan to traditional platforms. I have not read this one yet.\n",
    " - SomaLogic released updates, informing customers of removal and changes in the reagents[1]. An [update from 2016](https://metabolomics.helmholtz-muenchen.de/pgwas/locuscards/updates/SSM-064_Rev_0_DCN_16-263.pdf) explains removal of five reagents due to specificity issues\n",
    " - A [technical note from SomaLogic (2017)](http://www.somalogic.com/wp-content/uploads/2017/01/SSM-067-Rev-1-Technical-Note-Characterization-of-SOMAmer-Reagents-Binding-Specificity-in-the-SOMAscan-1.3k-Assay.pdf) characterizes specificity for the proteins in 1.3k panel; specificity measured against related proteins was confirmed for 53% of the reagents at the time. Not a bad number, but I believe that we need to be cautious as that did not test cross-species mixtures!\n",
    " - https://www.nature.com/articles/s41598-018-26640-w\n",
    " \n",
    "Other useful resources:\n",
    " - [Web Tool for Navigating and Plotting SomaLogic ADAT Files](https://openresearchsoftware.metajnl.com/articles/10.5334/jors.166/) allow to visualize raw ADAT files (the files with raw data which I did not get); the website generates PCA, heatmaps for HCA and other plots and was originally hosted by NCI. Importantly there is a source code available to consult and trouble-shoot in case of any problems with SOMAscan-specific analysis/visualizations: https://github.com/foocheung/adat (Apache-2.0 license).\n",
    "\n",
    "1. https://www.nature.com/articles/s41598-017-14755-5\n",
    "\n",
    "**It might be useful to learn about the normalization procedures employed for SOMAscan.** What I would worry about is how they handled samples i.e. if these were placed on a single or multiple plates and what normalization followed. \n",
    "\n",
    "Overall the platform has a good performance but I am worried about the effect of non-specific binding of bacterial or viral proteins, which seems that was not tested before (the validation studies were all performed on healthy humans). On the other hand, if the signal for a protein is strong and discriminates TBM patients from other ones, it is a useful biomarker anyway (though with validity potentially restricted to this specific platform).\n",
    "\n",
    "Articles addressing my concern of non-specific bacterial/fungal/viral protein binding:\n",
    " - [Potential of high-affinity, Slow Off-Rate Modified Aptamer (SOMAmer) reagents for Mycobacterium tuberculosis proteins as tools for infection models and diagnostic applications.\"](https://www.ncbi.nlm.nih.gov/pubmed/28794178) - attempted to create a diagnostic test for TB using novel aptamers (created specifically for Mycobacterium proteins); in serum/urine concentrations of TB proteins were too low - and this is a hint that I need not worry greatly (as even SomaLogic scientists were not able to pick up signal from MTB using novel aptamers), but again they did not try CSF nor did they systematically check the aptamers from the 1.3k assay for noise from unspecific binding)\n",
    "\n",
    "I barely skimmed the topic, looking for things relevant to data cleaning and validation, will continue the review later.\n"
   ]
  },
  {
   "cell_type": "code",
   "execution_count": 5,
   "metadata": {},
   "outputs": [],
   "source": [
    "protein_levels = read_csv('data/clean/protein/levels.csv', index_col=[0,1,2,3])"
   ]
  },
  {
   "cell_type": "code",
   "execution_count": 6,
   "metadata": {},
   "outputs": [
    {
     "data": {
      "text/html": [
       "<div>\n",
       "<style scoped>\n",
       "    .dataframe tbody tr th:only-of-type {\n",
       "        vertical-align: middle;\n",
       "    }\n",
       "\n",
       "    .dataframe tbody tr th {\n",
       "        vertical-align: top;\n",
       "    }\n",
       "\n",
       "    .dataframe thead th {\n",
       "        text-align: right;\n",
       "    }\n",
       "</style>\n",
       "<table border=\"1\" class=\"dataframe\">\n",
       "  <thead>\n",
       "    <tr style=\"text-align: right;\">\n",
       "      <th></th>\n",
       "      <th></th>\n",
       "      <th></th>\n",
       "      <th></th>\n",
       "      <th>149.TMD</th>\n",
       "      <th>007.TMD</th>\n",
       "      <th>001.TMD</th>\n",
       "      <th>064.TMD</th>\n",
       "      <th>151.TMD</th>\n",
       "      <th>...</th>\n",
       "      <th>177.HC</th>\n",
       "      <th>189.HC</th>\n",
       "      <th>217.HC</th>\n",
       "      <th>221.HC</th>\n",
       "      <th>245.HC</th>\n",
       "    </tr>\n",
       "    <tr>\n",
       "      <th>soma_id</th>\n",
       "      <th>target_full_name</th>\n",
       "      <th>target</th>\n",
       "      <th>entrez_gene_symbol</th>\n",
       "      <th></th>\n",
       "      <th></th>\n",
       "      <th></th>\n",
       "      <th></th>\n",
       "      <th></th>\n",
       "      <th></th>\n",
       "      <th></th>\n",
       "      <th></th>\n",
       "      <th></th>\n",
       "      <th></th>\n",
       "      <th></th>\n",
       "    </tr>\n",
       "  </thead>\n",
       "  <tbody>\n",
       "    <tr>\n",
       "      <th>SL019100</th>\n",
       "      <th>E3 ubiquitin-protein ligase CHIP</th>\n",
       "      <th>CHIP</th>\n",
       "      <th>STUB1</th>\n",
       "      <td>174.1</td>\n",
       "      <td>521.1</td>\n",
       "      <td>57.0</td>\n",
       "      <td>158.1</td>\n",
       "      <td>62.1</td>\n",
       "      <td>...</td>\n",
       "      <td>12.6</td>\n",
       "      <td>11.4</td>\n",
       "      <td>12.2</td>\n",
       "      <td>15.8</td>\n",
       "      <td>22.2</td>\n",
       "    </tr>\n",
       "    <tr>\n",
       "      <th>SL007136</th>\n",
       "      <th>CCAAT/enhancer-binding protein beta</th>\n",
       "      <th>CEBPB</th>\n",
       "      <th>CEBPB</th>\n",
       "      <td>53.3</td>\n",
       "      <td>283.6</td>\n",
       "      <td>36.1</td>\n",
       "      <td>126.6</td>\n",
       "      <td>33.7</td>\n",
       "      <td>...</td>\n",
       "      <td>10.4</td>\n",
       "      <td>9.7</td>\n",
       "      <td>9.6</td>\n",
       "      <td>11.0</td>\n",
       "      <td>15.1</td>\n",
       "    </tr>\n",
       "    <tr>\n",
       "      <th>SL001731</th>\n",
       "      <th>Gamma-enolase</th>\n",
       "      <th>NSE</th>\n",
       "      <th>ENO2</th>\n",
       "      <td>11621.6</td>\n",
       "      <td>26883.3</td>\n",
       "      <td>10123.9</td>\n",
       "      <td>12015.4</td>\n",
       "      <td>3734.6</td>\n",
       "      <td>...</td>\n",
       "      <td>7699.7</td>\n",
       "      <td>5601.8</td>\n",
       "      <td>6421.7</td>\n",
       "      <td>8314.3</td>\n",
       "      <td>16016.8</td>\n",
       "    </tr>\n",
       "    <tr>\n",
       "      <th>SL019096</th>\n",
       "      <th>E3 SUMO-protein ligase PIAS4</th>\n",
       "      <th>PIAS4</th>\n",
       "      <th>PIAS4</th>\n",
       "      <td>50.9</td>\n",
       "      <td>177.8</td>\n",
       "      <td>31.6</td>\n",
       "      <td>75.3</td>\n",
       "      <td>25.5</td>\n",
       "      <td>...</td>\n",
       "      <td>11.0</td>\n",
       "      <td>10.7</td>\n",
       "      <td>9.6</td>\n",
       "      <td>10.8</td>\n",
       "      <td>17.0</td>\n",
       "    </tr>\n",
       "    <tr>\n",
       "      <th>SL005173</th>\n",
       "      <th>Interleukin-10 receptor subunit alpha</th>\n",
       "      <th>IL-10 Ra</th>\n",
       "      <th>IL10RA</th>\n",
       "      <td>174.6</td>\n",
       "      <td>385.3</td>\n",
       "      <td>116.8</td>\n",
       "      <td>192.7</td>\n",
       "      <td>104.0</td>\n",
       "      <td>...</td>\n",
       "      <td>50.2</td>\n",
       "      <td>46.9</td>\n",
       "      <td>44.9</td>\n",
       "      <td>53.3</td>\n",
       "      <td>82.9</td>\n",
       "    </tr>\n",
       "    <tr>\n",
       "      <th>...</th>\n",
       "      <th>...</th>\n",
       "      <th>...</th>\n",
       "      <th>...</th>\n",
       "      <td>...</td>\n",
       "      <td>...</td>\n",
       "      <td>...</td>\n",
       "      <td>...</td>\n",
       "      <td>...</td>\n",
       "      <td>...</td>\n",
       "      <td>...</td>\n",
       "      <td>...</td>\n",
       "      <td>...</td>\n",
       "      <td>...</td>\n",
       "      <td>...</td>\n",
       "    </tr>\n",
       "    <tr>\n",
       "      <th>SL003066</th>\n",
       "      <th>Pigment epithelium-derived factor</th>\n",
       "      <th>PEDF</th>\n",
       "      <th>SERPINF1</th>\n",
       "      <td>185698.9</td>\n",
       "      <td>199804.1</td>\n",
       "      <td>193171.3</td>\n",
       "      <td>208650.7</td>\n",
       "      <td>215160.2</td>\n",
       "      <td>...</td>\n",
       "      <td>177535.0</td>\n",
       "      <td>192301.2</td>\n",
       "      <td>206157.5</td>\n",
       "      <td>226385.4</td>\n",
       "      <td>159321.2</td>\n",
       "    </tr>\n",
       "    <tr>\n",
       "      <th>SL008381</th>\n",
       "      <th>Cathepsin F</th>\n",
       "      <th>CATF</th>\n",
       "      <th>CTSF</th>\n",
       "      <td>951.8</td>\n",
       "      <td>2055.0</td>\n",
       "      <td>1290.1</td>\n",
       "      <td>1958.2</td>\n",
       "      <td>914.1</td>\n",
       "      <td>...</td>\n",
       "      <td>1535.7</td>\n",
       "      <td>1198.8</td>\n",
       "      <td>970.8</td>\n",
       "      <td>1465.3</td>\n",
       "      <td>2022.2</td>\n",
       "    </tr>\n",
       "    <tr>\n",
       "      <th>SL018900</th>\n",
       "      <th>Formimidoyltransferase-cyclodeaminase</th>\n",
       "      <th>FTCD</th>\n",
       "      <th>FTCD</th>\n",
       "      <td>52.1</td>\n",
       "      <td>161.3</td>\n",
       "      <td>27.3</td>\n",
       "      <td>70.2</td>\n",
       "      <td>20.8</td>\n",
       "      <td>...</td>\n",
       "      <td>21.2</td>\n",
       "      <td>19.7</td>\n",
       "      <td>18.6</td>\n",
       "      <td>18.4</td>\n",
       "      <td>21.2</td>\n",
       "    </tr>\n",
       "    <tr>\n",
       "      <th>SL018947</th>\n",
       "      <th>Ubiquitin carboxyl-terminal hydrolase 25</th>\n",
       "      <th>UBP25</th>\n",
       "      <th>USP25</th>\n",
       "      <td>85.0</td>\n",
       "      <td>282.3</td>\n",
       "      <td>42.0</td>\n",
       "      <td>127.0</td>\n",
       "      <td>44.5</td>\n",
       "      <td>...</td>\n",
       "      <td>14.7</td>\n",
       "      <td>14.1</td>\n",
       "      <td>13.4</td>\n",
       "      <td>14.9</td>\n",
       "      <td>18.3</td>\n",
       "    </tr>\n",
       "    <tr>\n",
       "      <th>SL009948</th>\n",
       "      <th>Plexin-B2</th>\n",
       "      <th>PLXB2</th>\n",
       "      <th>PLXNB2</th>\n",
       "      <td>24817.9</td>\n",
       "      <td>30738.0</td>\n",
       "      <td>15025.4</td>\n",
       "      <td>26791.4</td>\n",
       "      <td>13998.8</td>\n",
       "      <td>...</td>\n",
       "      <td>12006.5</td>\n",
       "      <td>7136.2</td>\n",
       "      <td>9428.3</td>\n",
       "      <td>13319.0</td>\n",
       "      <td>18264.9</td>\n",
       "    </tr>\n",
       "  </tbody>\n",
       "</table>\n",
       "<p>1305 rows × 82 columns</p>\n",
       "</div>"
      ],
      "text/plain": [
       "                                                                                149.TMD  \\\n",
       "soma_id  target_full_name                         target   entrez_gene_symbol             \n",
       "SL019100 E3 ubiquitin-protein ligase CHIP         CHIP     STUB1                  174.1   \n",
       "SL007136 CCAAT/enhancer-binding protein beta      CEBPB    CEBPB                   53.3   \n",
       "SL001731 Gamma-enolase                            NSE      ENO2                 11621.6   \n",
       "SL019096 E3 SUMO-protein ligase PIAS4             PIAS4    PIAS4                   50.9   \n",
       "SL005173 Interleukin-10 receptor subunit alpha    IL-10 Ra IL10RA                 174.6   \n",
       "...                                                                                 ...   \n",
       "SL003066 Pigment epithelium-derived factor        PEDF     SERPINF1            185698.9   \n",
       "SL008381 Cathepsin F                              CATF     CTSF                   951.8   \n",
       "SL018900 Formimidoyltransferase-cyclodeaminase    FTCD     FTCD                    52.1   \n",
       "SL018947 Ubiquitin carboxyl-terminal hydrolase 25 UBP25    USP25                   85.0   \n",
       "SL009948 Plexin-B2                                PLXB2    PLXNB2               24817.9   \n",
       "\n",
       "                                                                                007.TMD  \\\n",
       "soma_id  target_full_name                         target   entrez_gene_symbol             \n",
       "SL019100 E3 ubiquitin-protein ligase CHIP         CHIP     STUB1                  521.1   \n",
       "SL007136 CCAAT/enhancer-binding protein beta      CEBPB    CEBPB                  283.6   \n",
       "SL001731 Gamma-enolase                            NSE      ENO2                 26883.3   \n",
       "SL019096 E3 SUMO-protein ligase PIAS4             PIAS4    PIAS4                  177.8   \n",
       "SL005173 Interleukin-10 receptor subunit alpha    IL-10 Ra IL10RA                 385.3   \n",
       "...                                                                                 ...   \n",
       "SL003066 Pigment epithelium-derived factor        PEDF     SERPINF1            199804.1   \n",
       "SL008381 Cathepsin F                              CATF     CTSF                  2055.0   \n",
       "SL018900 Formimidoyltransferase-cyclodeaminase    FTCD     FTCD                   161.3   \n",
       "SL018947 Ubiquitin carboxyl-terminal hydrolase 25 UBP25    USP25                  282.3   \n",
       "SL009948 Plexin-B2                                PLXB2    PLXNB2               30738.0   \n",
       "\n",
       "                                                                                001.TMD  \\\n",
       "soma_id  target_full_name                         target   entrez_gene_symbol             \n",
       "SL019100 E3 ubiquitin-protein ligase CHIP         CHIP     STUB1                   57.0   \n",
       "SL007136 CCAAT/enhancer-binding protein beta      CEBPB    CEBPB                   36.1   \n",
       "SL001731 Gamma-enolase                            NSE      ENO2                 10123.9   \n",
       "SL019096 E3 SUMO-protein ligase PIAS4             PIAS4    PIAS4                   31.6   \n",
       "SL005173 Interleukin-10 receptor subunit alpha    IL-10 Ra IL10RA                 116.8   \n",
       "...                                                                                 ...   \n",
       "SL003066 Pigment epithelium-derived factor        PEDF     SERPINF1            193171.3   \n",
       "SL008381 Cathepsin F                              CATF     CTSF                  1290.1   \n",
       "SL018900 Formimidoyltransferase-cyclodeaminase    FTCD     FTCD                    27.3   \n",
       "SL018947 Ubiquitin carboxyl-terminal hydrolase 25 UBP25    USP25                   42.0   \n",
       "SL009948 Plexin-B2                                PLXB2    PLXNB2               15025.4   \n",
       "\n",
       "                                                                                064.TMD  \\\n",
       "soma_id  target_full_name                         target   entrez_gene_symbol             \n",
       "SL019100 E3 ubiquitin-protein ligase CHIP         CHIP     STUB1                  158.1   \n",
       "SL007136 CCAAT/enhancer-binding protein beta      CEBPB    CEBPB                  126.6   \n",
       "SL001731 Gamma-enolase                            NSE      ENO2                 12015.4   \n",
       "SL019096 E3 SUMO-protein ligase PIAS4             PIAS4    PIAS4                   75.3   \n",
       "SL005173 Interleukin-10 receptor subunit alpha    IL-10 Ra IL10RA                 192.7   \n",
       "...                                                                                 ...   \n",
       "SL003066 Pigment epithelium-derived factor        PEDF     SERPINF1            208650.7   \n",
       "SL008381 Cathepsin F                              CATF     CTSF                  1958.2   \n",
       "SL018900 Formimidoyltransferase-cyclodeaminase    FTCD     FTCD                    70.2   \n",
       "SL018947 Ubiquitin carboxyl-terminal hydrolase 25 UBP25    USP25                  127.0   \n",
       "SL009948 Plexin-B2                                PLXB2    PLXNB2               26791.4   \n",
       "\n",
       "                                                                                151.TMD  \\\n",
       "soma_id  target_full_name                         target   entrez_gene_symbol             \n",
       "SL019100 E3 ubiquitin-protein ligase CHIP         CHIP     STUB1                   62.1   \n",
       "SL007136 CCAAT/enhancer-binding protein beta      CEBPB    CEBPB                   33.7   \n",
       "SL001731 Gamma-enolase                            NSE      ENO2                  3734.6   \n",
       "SL019096 E3 SUMO-protein ligase PIAS4             PIAS4    PIAS4                   25.5   \n",
       "SL005173 Interleukin-10 receptor subunit alpha    IL-10 Ra IL10RA                 104.0   \n",
       "...                                                                                 ...   \n",
       "SL003066 Pigment epithelium-derived factor        PEDF     SERPINF1            215160.2   \n",
       "SL008381 Cathepsin F                              CATF     CTSF                   914.1   \n",
       "SL018900 Formimidoyltransferase-cyclodeaminase    FTCD     FTCD                    20.8   \n",
       "SL018947 Ubiquitin carboxyl-terminal hydrolase 25 UBP25    USP25                   44.5   \n",
       "SL009948 Plexin-B2                                PLXB2    PLXNB2               13998.8   \n",
       "\n",
       "                                                                               ...  \\\n",
       "soma_id  target_full_name                         target   entrez_gene_symbol  ...   \n",
       "SL019100 E3 ubiquitin-protein ligase CHIP         CHIP     STUB1               ...   \n",
       "SL007136 CCAAT/enhancer-binding protein beta      CEBPB    CEBPB               ...   \n",
       "SL001731 Gamma-enolase                            NSE      ENO2                ...   \n",
       "SL019096 E3 SUMO-protein ligase PIAS4             PIAS4    PIAS4               ...   \n",
       "SL005173 Interleukin-10 receptor subunit alpha    IL-10 Ra IL10RA              ...   \n",
       "...                                                                            ...   \n",
       "SL003066 Pigment epithelium-derived factor        PEDF     SERPINF1            ...   \n",
       "SL008381 Cathepsin F                              CATF     CTSF                ...   \n",
       "SL018900 Formimidoyltransferase-cyclodeaminase    FTCD     FTCD                ...   \n",
       "SL018947 Ubiquitin carboxyl-terminal hydrolase 25 UBP25    USP25               ...   \n",
       "SL009948 Plexin-B2                                PLXB2    PLXNB2              ...   \n",
       "\n",
       "                                                                                 177.HC  \\\n",
       "soma_id  target_full_name                         target   entrez_gene_symbol             \n",
       "SL019100 E3 ubiquitin-protein ligase CHIP         CHIP     STUB1                   12.6   \n",
       "SL007136 CCAAT/enhancer-binding protein beta      CEBPB    CEBPB                   10.4   \n",
       "SL001731 Gamma-enolase                            NSE      ENO2                  7699.7   \n",
       "SL019096 E3 SUMO-protein ligase PIAS4             PIAS4    PIAS4                   11.0   \n",
       "SL005173 Interleukin-10 receptor subunit alpha    IL-10 Ra IL10RA                  50.2   \n",
       "...                                                                                 ...   \n",
       "SL003066 Pigment epithelium-derived factor        PEDF     SERPINF1            177535.0   \n",
       "SL008381 Cathepsin F                              CATF     CTSF                  1535.7   \n",
       "SL018900 Formimidoyltransferase-cyclodeaminase    FTCD     FTCD                    21.2   \n",
       "SL018947 Ubiquitin carboxyl-terminal hydrolase 25 UBP25    USP25                   14.7   \n",
       "SL009948 Plexin-B2                                PLXB2    PLXNB2               12006.5   \n",
       "\n",
       "                                                                                 189.HC  \\\n",
       "soma_id  target_full_name                         target   entrez_gene_symbol             \n",
       "SL019100 E3 ubiquitin-protein ligase CHIP         CHIP     STUB1                   11.4   \n",
       "SL007136 CCAAT/enhancer-binding protein beta      CEBPB    CEBPB                    9.7   \n",
       "SL001731 Gamma-enolase                            NSE      ENO2                  5601.8   \n",
       "SL019096 E3 SUMO-protein ligase PIAS4             PIAS4    PIAS4                   10.7   \n",
       "SL005173 Interleukin-10 receptor subunit alpha    IL-10 Ra IL10RA                  46.9   \n",
       "...                                                                                 ...   \n",
       "SL003066 Pigment epithelium-derived factor        PEDF     SERPINF1            192301.2   \n",
       "SL008381 Cathepsin F                              CATF     CTSF                  1198.8   \n",
       "SL018900 Formimidoyltransferase-cyclodeaminase    FTCD     FTCD                    19.7   \n",
       "SL018947 Ubiquitin carboxyl-terminal hydrolase 25 UBP25    USP25                   14.1   \n",
       "SL009948 Plexin-B2                                PLXB2    PLXNB2                7136.2   \n",
       "\n",
       "                                                                                 217.HC  \\\n",
       "soma_id  target_full_name                         target   entrez_gene_symbol             \n",
       "SL019100 E3 ubiquitin-protein ligase CHIP         CHIP     STUB1                   12.2   \n",
       "SL007136 CCAAT/enhancer-binding protein beta      CEBPB    CEBPB                    9.6   \n",
       "SL001731 Gamma-enolase                            NSE      ENO2                  6421.7   \n",
       "SL019096 E3 SUMO-protein ligase PIAS4             PIAS4    PIAS4                    9.6   \n",
       "SL005173 Interleukin-10 receptor subunit alpha    IL-10 Ra IL10RA                  44.9   \n",
       "...                                                                                 ...   \n",
       "SL003066 Pigment epithelium-derived factor        PEDF     SERPINF1            206157.5   \n",
       "SL008381 Cathepsin F                              CATF     CTSF                   970.8   \n",
       "SL018900 Formimidoyltransferase-cyclodeaminase    FTCD     FTCD                    18.6   \n",
       "SL018947 Ubiquitin carboxyl-terminal hydrolase 25 UBP25    USP25                   13.4   \n",
       "SL009948 Plexin-B2                                PLXB2    PLXNB2                9428.3   \n",
       "\n",
       "                                                                                 221.HC  \\\n",
       "soma_id  target_full_name                         target   entrez_gene_symbol             \n",
       "SL019100 E3 ubiquitin-protein ligase CHIP         CHIP     STUB1                   15.8   \n",
       "SL007136 CCAAT/enhancer-binding protein beta      CEBPB    CEBPB                   11.0   \n",
       "SL001731 Gamma-enolase                            NSE      ENO2                  8314.3   \n",
       "SL019096 E3 SUMO-protein ligase PIAS4             PIAS4    PIAS4                   10.8   \n",
       "SL005173 Interleukin-10 receptor subunit alpha    IL-10 Ra IL10RA                  53.3   \n",
       "...                                                                                 ...   \n",
       "SL003066 Pigment epithelium-derived factor        PEDF     SERPINF1            226385.4   \n",
       "SL008381 Cathepsin F                              CATF     CTSF                  1465.3   \n",
       "SL018900 Formimidoyltransferase-cyclodeaminase    FTCD     FTCD                    18.4   \n",
       "SL018947 Ubiquitin carboxyl-terminal hydrolase 25 UBP25    USP25                   14.9   \n",
       "SL009948 Plexin-B2                                PLXB2    PLXNB2               13319.0   \n",
       "\n",
       "                                                                                 245.HC  \n",
       "soma_id  target_full_name                         target   entrez_gene_symbol            \n",
       "SL019100 E3 ubiquitin-protein ligase CHIP         CHIP     STUB1                   22.2  \n",
       "SL007136 CCAAT/enhancer-binding protein beta      CEBPB    CEBPB                   15.1  \n",
       "SL001731 Gamma-enolase                            NSE      ENO2                 16016.8  \n",
       "SL019096 E3 SUMO-protein ligase PIAS4             PIAS4    PIAS4                   17.0  \n",
       "SL005173 Interleukin-10 receptor subunit alpha    IL-10 Ra IL10RA                  82.9  \n",
       "...                                                                                 ...  \n",
       "SL003066 Pigment epithelium-derived factor        PEDF     SERPINF1            159321.2  \n",
       "SL008381 Cathepsin F                              CATF     CTSF                  2022.2  \n",
       "SL018900 Formimidoyltransferase-cyclodeaminase    FTCD     FTCD                    21.2  \n",
       "SL018947 Ubiquitin carboxyl-terminal hydrolase 25 UBP25    USP25                   18.3  \n",
       "SL009948 Plexin-B2                                PLXB2    PLXNB2               18264.9  \n",
       "\n",
       "[1305 rows x 82 columns]"
      ]
     },
     "execution_count": 6,
     "metadata": {},
     "output_type": "execute_result"
    }
   ],
   "source": [
    "protein_levels"
   ]
  },
  {
   "cell_type": "markdown",
   "metadata": {},
   "source": [
    "### Can we get better ids for the proteins?\n",
    "\n",
    "The Ensembl gene id is on the gene level so not necessarily accurate. Can we get better?\n",
    "\n",
    "Yes: the aptamers metadata is available in R package \"readat\""
   ]
  },
  {
   "cell_type": "code",
   "execution_count": 7,
   "metadata": {},
   "outputs": [],
   "source": [
    "%%R -o aptamers\n",
    "library(readat)"
   ]
  },
  {
   "cell_type": "code",
   "execution_count": 8,
   "metadata": {},
   "outputs": [
    {
     "data": {
      "text/html": [
       "<div>\n",
       "<style scoped>\n",
       "    .dataframe tbody tr th:only-of-type {\n",
       "        vertical-align: middle;\n",
       "    }\n",
       "\n",
       "    .dataframe tbody tr th {\n",
       "        vertical-align: top;\n",
       "    }\n",
       "\n",
       "    .dataframe thead th {\n",
       "        text-align: right;\n",
       "    }\n",
       "</style>\n",
       "<table border=\"1\" class=\"dataframe\">\n",
       "  <thead>\n",
       "    <tr style=\"text-align: right;\">\n",
       "      <th></th>\n",
       "      <th>AptamerId</th>\n",
       "      <th>SomaId</th>\n",
       "      <th>Target</th>\n",
       "      <th>TargetFullName</th>\n",
       "      <th>UniProt</th>\n",
       "      <th>...</th>\n",
       "      <th>Type</th>\n",
       "      <th>PlasmaDilution</th>\n",
       "      <th>SerumDilution</th>\n",
       "      <th>IsIn1310Panel</th>\n",
       "      <th>IsIn1129Panel</th>\n",
       "    </tr>\n",
       "  </thead>\n",
       "  <tbody>\n",
       "    <tr>\n",
       "      <th>1</th>\n",
       "      <td>4829-43</td>\n",
       "      <td>SL001737</td>\n",
       "      <td>STRATIFIN</td>\n",
       "      <td>14-3-3 protein sigma</td>\n",
       "      <td>P31947</td>\n",
       "      <td>...</td>\n",
       "      <td>Protein</td>\n",
       "      <td>40.0</td>\n",
       "      <td>40.0</td>\n",
       "      <td>1</td>\n",
       "      <td>1</td>\n",
       "    </tr>\n",
       "    <tr>\n",
       "      <th>2</th>\n",
       "      <td>3804-66</td>\n",
       "      <td>SL007403</td>\n",
       "      <td>DMP1</td>\n",
       "      <td>Dentin matrix acidic phosphoprotein 1</td>\n",
       "      <td>Q13316</td>\n",
       "      <td>...</td>\n",
       "      <td>Protein</td>\n",
       "      <td>40.0</td>\n",
       "      <td>40.0</td>\n",
       "      <td>0</td>\n",
       "      <td>1</td>\n",
       "    </tr>\n",
       "    <tr>\n",
       "      <th>3</th>\n",
       "      <td>3814-63</td>\n",
       "      <td>SL007423</td>\n",
       "      <td>IL-11 RA</td>\n",
       "      <td>Interleukin-11 receptor subunit alpha</td>\n",
       "      <td>Q14626</td>\n",
       "      <td>...</td>\n",
       "      <td>Protein</td>\n",
       "      <td>40.0</td>\n",
       "      <td>40.0</td>\n",
       "      <td>0</td>\n",
       "      <td>1</td>\n",
       "    </tr>\n",
       "    <tr>\n",
       "      <th>4</th>\n",
       "      <td>14156-33</td>\n",
       "      <td>SL004815</td>\n",
       "      <td>14-3-3 protein beta/alpha</td>\n",
       "      <td>14-3-3 protein beta/alpha</td>\n",
       "      <td>P31946</td>\n",
       "      <td>...</td>\n",
       "      <td>Protein</td>\n",
       "      <td>1.0</td>\n",
       "      <td>1.0</td>\n",
       "      <td>1</td>\n",
       "      <td>0</td>\n",
       "    </tr>\n",
       "    <tr>\n",
       "      <th>5</th>\n",
       "      <td>7625-27</td>\n",
       "      <td>SL008071</td>\n",
       "      <td>14-3-3 protein theta</td>\n",
       "      <td>14-3-3 protein theta</td>\n",
       "      <td>P27348</td>\n",
       "      <td>...</td>\n",
       "      <td>Protein</td>\n",
       "      <td>1.0</td>\n",
       "      <td>1.0</td>\n",
       "      <td>1</td>\n",
       "      <td>0</td>\n",
       "    </tr>\n",
       "  </tbody>\n",
       "</table>\n",
       "<p>5 rows × 14 columns</p>\n",
       "</div>"
      ],
      "text/plain": [
       "  AptamerId    SomaId                     Target  \\\n",
       "1   4829-43  SL001737                  STRATIFIN   \n",
       "2   3804-66  SL007403                       DMP1   \n",
       "3   3814-63  SL007423                   IL-11 RA   \n",
       "4  14156-33  SL004815  14-3-3 protein beta/alpha   \n",
       "5   7625-27  SL008071       14-3-3 protein theta   \n",
       "\n",
       "                          TargetFullName UniProt  ...     Type PlasmaDilution  \\\n",
       "1                   14-3-3 protein sigma  P31947  ...  Protein           40.0   \n",
       "2  Dentin matrix acidic phosphoprotein 1  Q13316  ...  Protein           40.0   \n",
       "3  Interleukin-11 receptor subunit alpha  Q14626  ...  Protein           40.0   \n",
       "4              14-3-3 protein beta/alpha  P31946  ...  Protein            1.0   \n",
       "5                   14-3-3 protein theta  P27348  ...  Protein            1.0   \n",
       "\n",
       "  SerumDilution IsIn1310Panel IsIn1129Panel  \n",
       "1          40.0             1             1  \n",
       "2          40.0             0             1  \n",
       "3          40.0             0             1  \n",
       "4           1.0             1             0  \n",
       "5           1.0             1             0  \n",
       "\n",
       "[5 rows x 14 columns]"
      ]
     },
     "execution_count": 8,
     "metadata": {},
     "output_type": "execute_result"
    }
   ],
   "source": [
    "aptamers.head()"
   ]
  },
  {
   "cell_type": "code",
   "execution_count": 9,
   "metadata": {},
   "outputs": [
    {
     "data": {
      "text/plain": [
       "1305"
      ]
     },
     "execution_count": 9,
     "metadata": {},
     "output_type": "execute_result"
    }
   ],
   "source": [
    "relevant_aptamers = aptamers[\n",
    "    aptamers.SomaId.isin(protein_levels.index.get_level_values('soma_id'))\n",
    "    &\n",
    "    (aptamers.IsIn1310Panel == 1)\n",
    "]\n",
    "len(relevant_aptamers)"
   ]
  },
  {
   "cell_type": "code",
   "execution_count": 10,
   "metadata": {},
   "outputs": [],
   "source": [
    "relevant_aptamers.to_csv('data/other/relevant_aptamers.csv')"
   ]
  },
  {
   "cell_type": "code",
   "execution_count": 11,
   "metadata": {},
   "outputs": [
    {
     "data": {
      "text/plain": [
       "False"
      ]
     },
     "execution_count": 11,
     "metadata": {},
     "output_type": "execute_result"
    }
   ],
   "source": [
    "'7596-2' in relevant_aptamers.AptamerId"
   ]
  },
  {
   "cell_type": "markdown",
   "metadata": {},
   "source": [
    "#### Were the five deprecated targets already excluded?"
   ]
  },
  {
   "cell_type": "markdown",
   "metadata": {},
   "source": [
    "It would seem so as there are only 1305/1310 rows. See [SSM-064 Rev 0 DCN 16-263](https://metabolomics.helmholtz-muenchen.de/pgwas/locuscards/updates/SSM-064_Rev_0_DCN_16-263.pdf) for details."
   ]
  },
  {
   "cell_type": "code",
   "execution_count": 12,
   "metadata": {},
   "outputs": [
    {
     "data": {
      "text/plain": [
       "True"
      ]
     },
     "execution_count": 12,
     "metadata": {},
     "output_type": "execute_result"
    }
   ],
   "source": [
    "deprecated_targets = ['2795-23', '3590-8', '5071-3', '5118-74', '5073-30']\n",
    "relevant_aptamers.query('AptamerId in @deprecated_targets').empty"
   ]
  },
  {
   "cell_type": "markdown",
   "metadata": {},
   "source": [
    "Just to make sure, I double-check using full names and the other data frame:"
   ]
  },
  {
   "cell_type": "code",
   "execution_count": 13,
   "metadata": {},
   "outputs": [
    {
     "data": {
      "text/plain": [
       "True"
      ]
     },
     "execution_count": 13,
     "metadata": {},
     "output_type": "execute_result"
    }
   ],
   "source": [
    "deprecated_target_names = [\n",
    "    'Alkaline phosphatase, tissue-nonspecific isozyme',\n",
    "    'Complement C1s subcomponent',\n",
    "    'Reticulon-4',\n",
    "    'Desmoglein-2',\n",
    "    'Tumor necrosis factor receptor super-family member 25'\n",
    "]\n",
    "protein_levels.query('target_full_name in @deprecated_target_names').empty"
   ]
  },
  {
   "cell_type": "markdown",
   "metadata": {},
   "source": [
    "Great!"
   ]
  },
  {
   "cell_type": "markdown",
   "metadata": {},
   "source": [
    "#### The variability coefficients for confidence assessment of particular target measurements"
   ]
  },
  {
   "cell_type": "markdown",
   "metadata": {},
   "source": [
    "The variability study[1] resulted in creation of a website: [foocheung.shinyapps.io/SOMACV3](https://foocheung.shinyapps.io/SOMACV3/) which enables checking the variability of measurements for each of the reagents.\n",
    "\n",
    "Unfortunately, these data are only available for serum and plasma and I did not find an easy way to download the data in bulk."
   ]
  },
  {
   "cell_type": "code",
   "execution_count": 14,
   "metadata": {},
   "outputs": [],
   "source": [
    "from statsmodels.graphics.gofplots import qqplot_2samples"
   ]
  },
  {
   "cell_type": "code",
   "execution_count": 15,
   "metadata": {},
   "outputs": [],
   "source": [
    "from helpers.data_frame import select_columns"
   ]
  },
  {
   "cell_type": "markdown",
   "metadata": {},
   "source": [
    "### Which patients are in there?"
   ]
  },
  {
   "cell_type": "code",
   "execution_count": 16,
   "metadata": {},
   "outputs": [
    {
     "data": {
      "text/plain": [
       "HC     25\n",
       "CM     24\n",
       "TMD    13\n",
       "TMR     7\n",
       "VM      7\n",
       "TMS     6\n",
       "dtype: int64"
      ]
     },
     "execution_count": 16,
     "metadata": {},
     "output_type": "execute_result"
    }
   ],
   "source": [
    "protein_levels.columns.str.split('.').str[1].value_counts()"
   ]
  },
  {
   "cell_type": "markdown",
   "metadata": {},
   "source": [
    "### What is the distribution of the measurments?"
   ]
  },
  {
   "cell_type": "markdown",
   "metadata": {},
   "source": [
    "The quantile-quantile distribution between healthy controls and all the other samples:"
   ]
  },
  {
   "cell_type": "code",
   "execution_count": 17,
   "metadata": {},
   "outputs": [
    {
     "data": {
      "image/png": "[encoded data removed]",
      "text/plain": [
       "<Figure size 432x288 with 1 Axes>"
      ]
     },
     "metadata": {
      "needs_background": "light"
     },
     "output_type": "display_data"
    }
   ],
   "source": [
    "qqplot_2samples(\n",
    "    select_columns(protein_levels, match='.*HC').mean(axis=1),\n",
    "    select_columns(protein_levels, exclude='.*HC').mean(axis=1)\n",
    ");"
   ]
  },
  {
   "cell_type": "markdown",
   "metadata": {},
   "source": [
    "No striking outliers."
   ]
  },
  {
   "cell_type": "markdown",
   "metadata": {},
   "source": [
    "#### Are the average protein levels normally distributed?"
   ]
  },
  {
   "cell_type": "code",
   "execution_count": 18,
   "metadata": {},
   "outputs": [],
   "source": [
    "average_protein_level = select_columns(protein_levels, '.*HC').mean(axis=1)"
   ]
  },
  {
   "cell_type": "code",
   "execution_count": 19,
   "metadata": {},
   "outputs": [
    {
     "data": {
      "text/plain": [
       "soma_id   target_full_name                       target    entrez_gene_symbol\n",
       "SL019100  E3 ubiquitin-protein ligase CHIP       CHIP      STUB1                    15.104\n",
       "SL007136  CCAAT/enhancer-binding protein beta    CEBPB     CEBPB                    12.424\n",
       "SL001731  Gamma-enolase                          NSE       ENO2                  10619.304\n",
       "SL019096  E3 SUMO-protein ligase PIAS4           PIAS4     PIAS4                    12.604\n",
       "SL005173  Interleukin-10 receptor subunit alpha  IL-10 Ra  IL10RA                   76.396\n",
       "dtype: float64"
      ]
     },
     "execution_count": 19,
     "metadata": {},
     "output_type": "execute_result"
    }
   ],
   "source": [
    "average_protein_level.head()"
   ]
  },
  {
   "cell_type": "code",
   "execution_count": 20,
   "metadata": {},
   "outputs": [
    {
     "data": {
      "image/png": "[encoded data removed]"
     },
     "metadata": {},
     "output_type": "display_data"
    }
   ],
   "source": [
    "%%R -i average_protein_level -w 400 -h 400 -u px\n",
    "qqnorm(average_protein_level)"
   ]
  },
  {
   "cell_type": "markdown",
   "metadata": {},
   "source": [
    "Nope. This may be expected given the high dynamic range of the platform; it also tells us that there are many values close to zero:"
   ]
  },
  {
   "cell_type": "code",
   "execution_count": 21,
   "metadata": {},
   "outputs": [
    {
     "data": {
      "image/png": "[encoded data removed]",
      "text/plain": [
       "<Figure size 432x288 with 1 Axes>"
      ]
     },
     "metadata": {
      "needs_background": "light"
     },
     "output_type": "display_data"
    }
   ],
   "source": [
    "average_protein_level.hist();"
   ]
  },
  {
   "cell_type": "markdown",
   "metadata": {},
   "source": [
    "### Does it follow log-normal distribution?"
   ]
  },
  {
   "cell_type": "code",
   "execution_count": 22,
   "metadata": {},
   "outputs": [],
   "source": [
    "df = DataFrame(dict(average_protein_level=average_protein_level))"
   ]
  },
  {
   "cell_type": "code",
   "execution_count": 23,
   "metadata": {},
   "outputs": [
    {
     "data": {
      "image/png": "[encoded data removed]"
     },
     "metadata": {},
     "output_type": "display_data"
    }
   ],
   "source": [
    "%%R -i df -w 400 -h 400 -u px\n",
    "(\n",
    "    ggplot(df, aes(sample=average_protein_level))\n",
    "    + qqplotr::stat_qq_point(distribution='lnorm')\n",
    ")"
   ]
  },
  {
   "cell_type": "markdown",
   "metadata": {},
   "source": [
    "Not great, though better."
   ]
  },
  {
   "cell_type": "code",
   "execution_count": 24,
   "metadata": {},
   "outputs": [
    {
     "data": {
      "image/png": "[encoded data removed]",
      "text/plain": [
       "<Figure size 432x288 with 1 Axes>"
      ]
     },
     "metadata": {
      "needs_background": "light"
     },
     "output_type": "display_data"
    }
   ],
   "source": [
    "from numpy import log10\n",
    "average_protein_level.apply(log10).hist();"
   ]
  },
  {
   "cell_type": "markdown",
   "metadata": {},
   "source": [
    "#### Were there any useful notes in methods section of previous studies utilizing SOMAscan?"
   ]
  },
  {
   "cell_type": "markdown",
   "metadata": {},
   "source": [
    "- \"Protein levels were natural log transformed prior to batch effects adjustment to improve the normality of protein level distributions\" - https://www.nature.com/articles/s41598-018-26640-w\n",
    "- \"All protein values were log transformed because of their nonnormal distributions as determined by the Kolomogorov-Smirnov and Shapiro-Wilk normality tests\" - [Aptamer-Based Proteomic Profiling Reveals Novel Candidate Biomarkers and Pathways in Cardiovascular Disease\n",
    "](https://www.ncbi.nlm.nih.gov/pmc/articles/PMC4963294/) (I don't quite get the reasoning of this sentence - non-normality does not imply log-normal distribution, regardless of the tests that you use)\n",
    "- \"all CSF and plasma protein values measured in untargeted and targeted proteomic experiments were log10 transformed\" [The Alzheimer study](https://alzres.biomedcentral.com/articles/10.1186/s13195-017-0258-6)\n",
    "- \"Prior to analysis, NMR lipoprotein and plasma proteome data were transformed to Z-scores (by subtracting the mean and dividing by the SD) for ease of comparison. Plasma proteome data were log-transformed prior to Z-score transformation.\" [\n",
    "(Harbaum, et al., 2019)](https://thorax.bmj.com/content/74/4/380) **this is a fresh study from Imperial College London**, and two of the authors are affiliated with the Department of Surgery and Cancer\n",
    "- \"Data from all samples were log2 transformed, normalized and calibrated using standard hybridization and calibration procedures.\" [(Scribe et al, 2017)](https://journals.plos.org/plospathogens/article?id=10.1371/journal.ppat.1006687) - some authors affiliated with SomaLogic, NB this is also a Cape Town study.\n",
    "- \"All data were log-transformed to stabilize the variance. [...] Student's t tests were used to identify differentially expressed SOMAmer reagents\" [(Groote, et al. 2017)](https://jcm.asm.org/content/55/2/391.long) - again in collaboration with SomaLogic.\n",
    "\n",
    "There is a strong case for log-transformation, as it was frequently used in previous research. The base, however, varies.\n",
    "\n",
    "I was specifically interested to see if anyone used Van der Waerden transformation before, as it could correct the skew (as partially does the log transformation). Here are two more articles:\n",
    "\n",
    "- \"All proteomics data were transformed using the natural logarithm and transformed to zero mean and unit s.d. In addition, protein values >2.5 s.d. from the mean were excluded as outliers.\" - this sounds like an exclusion of a lot of signal; in supplementary information: \"This [modeling] was performed on the SOMAscan data, both untransformed, and transformed using the Van der Waerden transformation\" -  https://www.ncbi.nlm.nih.gov/pmc/articles/PMC4490288/\n",
    "- \"We log10 transformed the protein data as the protein concentrations were not normally distributed. Additionally, protein values ± 6 SDs were excluded as outliers.\" - https://www.ncbi.nlm.nih.gov/pmc/articles/PMC4469006/ (same authors, previous article)\n",
    "\n",
    "\n",
    "At least two studies first log-transformed and then scaled to z-scores.\n",
    "\n",
    "Alternatives to simple log-transform include:\n",
    " - Box-Cox\n",
    " - quantile normalization / Van de Waerden / rank-based inverse normal transformation; possibly used in [this study](https://www.ncbi.nlm.nih.gov/pmc/articles/PMC5271178/). There are articles discussing practical benefits and shortcomings of application to GWAS studies (I haven't found discussion relevant to SOMAscan though):\n",
    "   - for [(Pain et al. 2018)](https://europepmc.org/articles/pmc6057994)\n",
    "   - against [(Beasley et al. 2009)](https://www.ncbi.nlm.nih.gov/pmc/articles/PMC2921808/) - I am convinced by some of the arguments, though can't say that I understand it fully (yet).\n",
    "\n",
    "There seem to be a strong preference for the simplest log transformation in the previous research (though I do not fully understand this choice)."
   ]
  },
  {
   "cell_type": "markdown",
   "metadata": {},
   "source": [
    "NB: the relative abundances of proteins in cells are known to vary greatly; our samples are not cells from a single tissue but a mixture of different cells and (potentially) organisms. This may influence the distribution of protein levels, and it appears justifiable to suspect that the measured distribution is complex and skewed as it is a sum of multiple distributions (which may or may not be normal). "
   ]
  },
  {
   "cell_type": "markdown",
   "metadata": {},
   "source": [
    "### How to normalize the values for use with PLS?"
   ]
  },
  {
   "cell_type": "markdown",
   "metadata": {},
   "source": [
    "Concern: the high dynamic range  of values "
   ]
  },
  {
   "cell_type": "markdown",
   "metadata": {},
   "source": [
    "z-score?"
   ]
  },
  {
   "cell_type": "markdown",
   "metadata": {},
   "source": [
    "### Which target description is the best for visualisations?"
   ]
  },
  {
   "cell_type": "code",
   "execution_count": 25,
   "metadata": {},
   "outputs": [],
   "source": [
    "protein_index = protein_levels.index\n",
    "protein_indices = DataFrame({\n",
    "    name: protein_index.get_level_values(name)\n",
    "    for name in protein_index.names\n",
    "})"
   ]
  },
  {
   "cell_type": "code",
   "execution_count": 26,
   "metadata": {},
   "outputs": [
    {
     "data": {
      "text/plain": [
       "soma_id                 8\n",
       "target_full_name      112\n",
       "target                 40\n",
       "entrez_gene_symbol     39\n",
       "dtype: int64"
      ]
     },
     "execution_count": 26,
     "metadata": {},
     "output_type": "execute_result"
    }
   ],
   "source": [
    "protein_indices.apply(lambda index: index.str.len().max())"
   ]
  },
  {
   "cell_type": "markdown",
   "metadata": {},
   "source": [
    "For visualisation purposes I could use the Entrez or target symbols; Later I show that Entrez symbols are not unique, so I opt to use the target symbols.\n",
    "SOMA ID is short, though not easy to interpret."
   ]
  },
  {
   "cell_type": "markdown",
   "metadata": {},
   "source": [
    "Note: The entrez gene symbols are not atomic, which is inherent to the protein biology (multiple genes coding for the same protein)"
   ]
  },
  {
   "cell_type": "markdown",
   "metadata": {},
   "source": [
    "### Duplicates?"
   ]
  },
  {
   "cell_type": "markdown",
   "metadata": {},
   "source": [
    "#### In the data"
   ]
  },
  {
   "cell_type": "markdown",
   "metadata": {},
   "source": [
    "Chances of having exact duplicate in data are very low and this would be suspicious:"
   ]
  },
  {
   "cell_type": "code",
   "execution_count": 27,
   "metadata": {},
   "outputs": [],
   "source": [
    "assert not protein_levels.duplicated().any()"
   ]
  },
  {
   "cell_type": "markdown",
   "metadata": {},
   "source": [
    "#### In the indices?"
   ]
  },
  {
   "cell_type": "code",
   "execution_count": 28,
   "metadata": {},
   "outputs": [
    {
     "data": {
      "text/plain": [
       "soma_id               False\n",
       "target_full_name      False\n",
       "target                False\n",
       "entrez_gene_symbol     True\n",
       "dtype: bool"
      ]
     },
     "execution_count": 28,
     "metadata": {},
     "output_type": "execute_result"
    }
   ],
   "source": [
    "protein_indices.apply(lambda index: index.duplicated().any())"
   ]
  },
  {
   "cell_type": "markdown",
   "metadata": {},
   "source": [
    "Entrez gene symbol is not unique."
   ]
  },
  {
   "cell_type": "code",
   "execution_count": 29,
   "metadata": {},
   "outputs": [
    {
     "data": {
      "text/html": [
       "<div>\n",
       "<style scoped>\n",
       "    .dataframe tbody tr th:only-of-type {\n",
       "        vertical-align: middle;\n",
       "    }\n",
       "\n",
       "    .dataframe tbody tr th {\n",
       "        vertical-align: top;\n",
       "    }\n",
       "\n",
       "    .dataframe thead th {\n",
       "        text-align: right;\n",
       "    }\n",
       "</style>\n",
       "<table border=\"1\" class=\"dataframe\">\n",
       "  <thead>\n",
       "    <tr style=\"text-align: right;\">\n",
       "      <th></th>\n",
       "      <th></th>\n",
       "      <th>target</th>\n",
       "      <th>target_full_name</th>\n",
       "    </tr>\n",
       "    <tr>\n",
       "      <th>entrez_gene_symbol</th>\n",
       "      <th>index</th>\n",
       "      <th></th>\n",
       "      <th></th>\n",
       "    </tr>\n",
       "  </thead>\n",
       "  <tbody>\n",
       "    <tr>\n",
       "      <th rowspan=\"2\" valign=\"top\">ADCYAP1</th>\n",
       "      <th>1</th>\n",
       "      <td>PACAP-27</td>\n",
       "      <td>Pituitary adenylate cyclase-activating polypeptide 27</td>\n",
       "    </tr>\n",
       "    <tr>\n",
       "      <th>2</th>\n",
       "      <td>PACAP-38</td>\n",
       "      <td>Pituitary adenylate cyclase-activating polypeptide 38</td>\n",
       "    </tr>\n",
       "    <tr>\n",
       "      <th rowspan=\"4\" valign=\"top\">APOE</th>\n",
       "      <th>3</th>\n",
       "      <td>Apo E</td>\n",
       "      <td>Apolipoprotein E</td>\n",
       "    </tr>\n",
       "    <tr>\n",
       "      <th>4</th>\n",
       "      <td>Apo E3</td>\n",
       "      <td>Apolipoprotein E (isoform E3)</td>\n",
       "    </tr>\n",
       "    <tr>\n",
       "      <th>5</th>\n",
       "      <td>Apo E4</td>\n",
       "      <td>Apolipoprotein E (isoform E4)</td>\n",
       "    </tr>\n",
       "    <tr>\n",
       "      <th>6</th>\n",
       "      <td>Apo E2</td>\n",
       "      <td>Apolipoprotein E (isoform E2)</td>\n",
       "    </tr>\n",
       "    <tr>\n",
       "      <th rowspan=\"6\" valign=\"top\">C3</th>\n",
       "      <th>7</th>\n",
       "      <td>iC3b</td>\n",
       "      <td>Complement C3b, inactivated</td>\n",
       "    </tr>\n",
       "    <tr>\n",
       "      <th>8</th>\n",
       "      <td>C3</td>\n",
       "      <td>Complement C3</td>\n",
       "    </tr>\n",
       "    <tr>\n",
       "      <th>9</th>\n",
       "      <td>C3adesArg</td>\n",
       "      <td>C3a anaphylatoxin des Arginine</td>\n",
       "    </tr>\n",
       "    <tr>\n",
       "      <th>10</th>\n",
       "      <td>C3b</td>\n",
       "      <td>Complement C3b</td>\n",
       "    </tr>\n",
       "    <tr>\n",
       "      <th>11</th>\n",
       "      <td>C3a</td>\n",
       "      <td>C3a anaphylatoxin</td>\n",
       "    </tr>\n",
       "    <tr>\n",
       "      <th>12</th>\n",
       "      <td>C3d</td>\n",
       "      <td>Complement C3d fragment</td>\n",
       "    </tr>\n",
       "    <tr>\n",
       "      <th rowspan=\"2\" valign=\"top\">C4A C4B</th>\n",
       "      <th>13</th>\n",
       "      <td>C4b</td>\n",
       "      <td>Complement C4b</td>\n",
       "    </tr>\n",
       "    <tr>\n",
       "      <th>14</th>\n",
       "      <td>C4</td>\n",
       "      <td>Complement C4</td>\n",
       "    </tr>\n",
       "    <tr>\n",
       "      <th rowspan=\"2\" valign=\"top\">C5</th>\n",
       "      <th>15</th>\n",
       "      <td>C5</td>\n",
       "      <td>Complement C5</td>\n",
       "    </tr>\n",
       "    <tr>\n",
       "      <th>16</th>\n",
       "      <td>C5a</td>\n",
       "      <td>C5a anaphylatoxin</td>\n",
       "    </tr>\n",
       "    <tr>\n",
       "      <th rowspan=\"2\" valign=\"top\">CCL23</th>\n",
       "      <th>17</th>\n",
       "      <td>MPIF-1</td>\n",
       "      <td>C-C motif chemokine 23</td>\n",
       "    </tr>\n",
       "    <tr>\n",
       "      <th>18</th>\n",
       "      <td>Ck-b-8-1</td>\n",
       "      <td>Ck-beta-8-1</td>\n",
       "    </tr>\n",
       "    <tr>\n",
       "      <th rowspan=\"2\" valign=\"top\">CLEC11A</th>\n",
       "      <th>19</th>\n",
       "      <td>SCGF-beta</td>\n",
       "      <td>Stem Cell Growth Factor-beta</td>\n",
       "    </tr>\n",
       "    <tr>\n",
       "      <th>20</th>\n",
       "      <td>SCGF-alpha</td>\n",
       "      <td>Stem cell growth factor-alpha</td>\n",
       "    </tr>\n",
       "    <tr>\n",
       "      <th rowspan=\"2\" valign=\"top\">EGFR</th>\n",
       "      <th>21</th>\n",
       "      <td>ERBB1</td>\n",
       "      <td>Epidermal growth factor receptor</td>\n",
       "    </tr>\n",
       "    <tr>\n",
       "      <th>22</th>\n",
       "      <td>EGFRvIII</td>\n",
       "      <td>Epidermal growth factor receptor variant III</td>\n",
       "    </tr>\n",
       "    <tr>\n",
       "      <th rowspan=\"2\" valign=\"top\">F10</th>\n",
       "      <th>23</th>\n",
       "      <td>Coagulation Factor Xa</td>\n",
       "      <td>Coagulation factor Xa</td>\n",
       "    </tr>\n",
       "    <tr>\n",
       "      <th>24</th>\n",
       "      <td>Coagulation Factor X</td>\n",
       "      <td>Coagulation Factor X</td>\n",
       "    </tr>\n",
       "    <tr>\n",
       "      <th rowspan=\"2\" valign=\"top\">F2</th>\n",
       "      <th>25</th>\n",
       "      <td>Thrombin</td>\n",
       "      <td>Thrombin</td>\n",
       "    </tr>\n",
       "    <tr>\n",
       "      <th>26</th>\n",
       "      <td>Prothrombin</td>\n",
       "      <td>Prothrombin</td>\n",
       "    </tr>\n",
       "    <tr>\n",
       "      <th rowspan=\"2\" valign=\"top\">F9</th>\n",
       "      <th>27</th>\n",
       "      <td>Coagulation Factor IX</td>\n",
       "      <td>Coagulation factor IX</td>\n",
       "    </tr>\n",
       "    <tr>\n",
       "      <th>28</th>\n",
       "      <td>Coagulation Factor IXab</td>\n",
       "      <td>Coagulation factor IXab</td>\n",
       "    </tr>\n",
       "    <tr>\n",
       "      <th rowspan=\"2\" valign=\"top\">FGA FGB FGG</th>\n",
       "      <th>29</th>\n",
       "      <td>Fibrinogen</td>\n",
       "      <td>Fibrinogen</td>\n",
       "    </tr>\n",
       "    <tr>\n",
       "      <th>30</th>\n",
       "      <td>D-dimer</td>\n",
       "      <td>D-dimer</td>\n",
       "    </tr>\n",
       "    <tr>\n",
       "      <th rowspan=\"2\" valign=\"top\">FGF8</th>\n",
       "      <th>31</th>\n",
       "      <td>FGF-8B</td>\n",
       "      <td>Fibroblast growth factor 8 isoform B</td>\n",
       "    </tr>\n",
       "    <tr>\n",
       "      <th>32</th>\n",
       "      <td>FGF-8A</td>\n",
       "      <td>Fibroblast growth factor 8 isoform A</td>\n",
       "    </tr>\n",
       "    <tr>\n",
       "      <th rowspan=\"3\" valign=\"top\">FN1</th>\n",
       "      <th>33</th>\n",
       "      <td>FN1.3</td>\n",
       "      <td>Fibronectin Fragment 3</td>\n",
       "    </tr>\n",
       "    <tr>\n",
       "      <th>34</th>\n",
       "      <td>FN1.4</td>\n",
       "      <td>Fibronectin Fragment 4</td>\n",
       "    </tr>\n",
       "    <tr>\n",
       "      <th>35</th>\n",
       "      <td>Fibronectin</td>\n",
       "      <td>Fibronectin</td>\n",
       "    </tr>\n",
       "    <tr>\n",
       "      <th rowspan=\"4\" valign=\"top\">Human-virus</th>\n",
       "      <th>36</th>\n",
       "      <td>HPV E7 Type 16</td>\n",
       "      <td>Protein E7_HPV16</td>\n",
       "    </tr>\n",
       "    <tr>\n",
       "      <th>37</th>\n",
       "      <td>HPV E7 Type18</td>\n",
       "      <td>Protein E7_HPV18</td>\n",
       "    </tr>\n",
       "    <tr>\n",
       "      <th>38</th>\n",
       "      <td>HIV-2 Rev</td>\n",
       "      <td>Protein Rev_HV2BE</td>\n",
       "    </tr>\n",
       "    <tr>\n",
       "      <th>39</th>\n",
       "      <td>C34 gp41 HIV Fragment</td>\n",
       "      <td>gp41 C34 peptide, HIV</td>\n",
       "    </tr>\n",
       "    <tr>\n",
       "      <th rowspan=\"2\" valign=\"top\">LTA LTB</th>\n",
       "      <th>40</th>\n",
       "      <td>Lymphotoxin a1/b2</td>\n",
       "      <td>Lymphotoxin alpha1:beta2</td>\n",
       "    </tr>\n",
       "    <tr>\n",
       "      <th>41</th>\n",
       "      <td>Lymphotoxin a2/b1</td>\n",
       "      <td>Lymphotoxin alpha2:beta1</td>\n",
       "    </tr>\n",
       "    <tr>\n",
       "      <th rowspan=\"2\" valign=\"top\">LYN</th>\n",
       "      <th>42</th>\n",
       "      <td>LYNB</td>\n",
       "      <td>Tyrosine-protein kinase Lyn, isoform B</td>\n",
       "    </tr>\n",
       "    <tr>\n",
       "      <th>43</th>\n",
       "      <td>LYN</td>\n",
       "      <td>Tyrosine-protein kinase Lyn</td>\n",
       "    </tr>\n",
       "    <tr>\n",
       "      <th rowspan=\"2\" valign=\"top\">NPPB</th>\n",
       "      <th>44</th>\n",
       "      <td>BNP-32</td>\n",
       "      <td>Brain natriuretic peptide 32</td>\n",
       "    </tr>\n",
       "    <tr>\n",
       "      <th>45</th>\n",
       "      <td>N-terminal pro-BNP</td>\n",
       "      <td>N-terminal pro-BNP</td>\n",
       "    </tr>\n",
       "    <tr>\n",
       "      <th rowspan=\"3\" valign=\"top\">PLG</th>\n",
       "      <th>46</th>\n",
       "      <td>Angiostatin</td>\n",
       "      <td>Angiostatin</td>\n",
       "    </tr>\n",
       "    <tr>\n",
       "      <th>47</th>\n",
       "      <td>Plasmin</td>\n",
       "      <td>Plasmin</td>\n",
       "    </tr>\n",
       "    <tr>\n",
       "      <th>48</th>\n",
       "      <td>Plasminogen</td>\n",
       "      <td>Plasminogen</td>\n",
       "    </tr>\n",
       "    <tr>\n",
       "      <th rowspan=\"3\" valign=\"top\">POMC</th>\n",
       "      <th>49</th>\n",
       "      <td>b-Endorphin</td>\n",
       "      <td>Beta-endorphin</td>\n",
       "    </tr>\n",
       "    <tr>\n",
       "      <th>50</th>\n",
       "      <td>ACTH</td>\n",
       "      <td>Corticotropin</td>\n",
       "    </tr>\n",
       "    <tr>\n",
       "      <th>51</th>\n",
       "      <td>Corticotropin-lipotropin</td>\n",
       "      <td>Pro-opiomelanocortin</td>\n",
       "    </tr>\n",
       "    <tr>\n",
       "      <th rowspan=\"2\" valign=\"top\">PPBP</th>\n",
       "      <th>52</th>\n",
       "      <td>NAP-2</td>\n",
       "      <td>Neutrophil-activating peptide 2</td>\n",
       "    </tr>\n",
       "    <tr>\n",
       "      <th>53</th>\n",
       "      <td>CTAP-III</td>\n",
       "      <td>Connective tissue-activating peptide III</td>\n",
       "    </tr>\n",
       "    <tr>\n",
       "      <th rowspan=\"2\" valign=\"top\">PROC</th>\n",
       "      <th>54</th>\n",
       "      <td>Protein C</td>\n",
       "      <td>Vitamin K-dependent protein C</td>\n",
       "    </tr>\n",
       "    <tr>\n",
       "      <th>55</th>\n",
       "      <td>Activated Protein C</td>\n",
       "      <td>Activated Protein C</td>\n",
       "    </tr>\n",
       "    <tr>\n",
       "      <th rowspan=\"2\" valign=\"top\">RPS27A</th>\n",
       "      <th>56</th>\n",
       "      <td>Ubiquitin+1</td>\n",
       "      <td>Ubiquitin+1, truncated mutation for UbB</td>\n",
       "    </tr>\n",
       "    <tr>\n",
       "      <th>57</th>\n",
       "      <td>Ubiquitin</td>\n",
       "      <td>Ubiquitin</td>\n",
       "    </tr>\n",
       "    <tr>\n",
       "      <th rowspan=\"2\" valign=\"top\">SERPINA3</th>\n",
       "      <th>58</th>\n",
       "      <td>a1-Antichymotrypsin</td>\n",
       "      <td>Alpha-1-antichymotrypsin</td>\n",
       "    </tr>\n",
       "    <tr>\n",
       "      <th>59</th>\n",
       "      <td>alpha-1-antichymotrypsin complex</td>\n",
       "      <td>Alpha-1-antichymotrypsin complex</td>\n",
       "    </tr>\n",
       "    <tr>\n",
       "      <th rowspan=\"2\" valign=\"top\">VEGFA</th>\n",
       "      <th>60</th>\n",
       "      <td>VEGF</td>\n",
       "      <td>Vascular endothelial growth factor A</td>\n",
       "    </tr>\n",
       "    <tr>\n",
       "      <th>61</th>\n",
       "      <td>VEGF121</td>\n",
       "      <td>Vascular endothelial growth factor A, isoform 121</td>\n",
       "    </tr>\n",
       "  </tbody>\n",
       "</table>\n",
       "</div>"
      ],
      "text/plain": [
       "                                                    target  \\\n",
       "entrez_gene_symbol index                                     \n",
       "ADCYAP1            1      PACAP-27                           \n",
       "                   2      PACAP-38                           \n",
       "APOE               3      Apo E                              \n",
       "                   4      Apo E3                             \n",
       "                   5      Apo E4                             \n",
       "                   6      Apo E2                             \n",
       "C3                 7      iC3b                               \n",
       "                   8      C3                                 \n",
       "                   9      C3adesArg                          \n",
       "                   10     C3b                                \n",
       "                   11     C3a                                \n",
       "                   12     C3d                                \n",
       "C4A C4B            13     C4b                                \n",
       "                   14     C4                                 \n",
       "C5                 15     C5                                 \n",
       "                   16     C5a                                \n",
       "CCL23              17     MPIF-1                             \n",
       "                   18     Ck-b-8-1                           \n",
       "CLEC11A            19     SCGF-beta                          \n",
       "                   20     SCGF-alpha                         \n",
       "EGFR               21     ERBB1                              \n",
       "                   22     EGFRvIII                           \n",
       "F10                23     Coagulation Factor Xa              \n",
       "                   24     Coagulation Factor X               \n",
       "F2                 25     Thrombin                           \n",
       "                   26     Prothrombin                        \n",
       "F9                 27     Coagulation Factor IX              \n",
       "                   28     Coagulation Factor IXab            \n",
       "FGA FGB FGG        29     Fibrinogen                         \n",
       "                   30     D-dimer                            \n",
       "FGF8               31     FGF-8B                             \n",
       "                   32     FGF-8A                             \n",
       "FN1                33     FN1.3                              \n",
       "                   34     FN1.4                              \n",
       "                   35     Fibronectin                        \n",
       "Human-virus        36     HPV E7 Type 16                     \n",
       "                   37     HPV E7 Type18                      \n",
       "                   38     HIV-2 Rev                          \n",
       "                   39     C34 gp41 HIV Fragment              \n",
       "LTA LTB            40     Lymphotoxin a1/b2                  \n",
       "                   41     Lymphotoxin a2/b1                  \n",
       "LYN                42     LYNB                               \n",
       "                   43     LYN                                \n",
       "NPPB               44     BNP-32                             \n",
       "                   45     N-terminal pro-BNP                 \n",
       "PLG                46     Angiostatin                        \n",
       "                   47     Plasmin                            \n",
       "                   48     Plasminogen                        \n",
       "POMC               49     b-Endorphin                        \n",
       "                   50     ACTH                               \n",
       "                   51     Corticotropin-lipotropin           \n",
       "PPBP               52     NAP-2                              \n",
       "                   53     CTAP-III                           \n",
       "PROC               54     Protein C                          \n",
       "                   55     Activated Protein C                \n",
       "RPS27A             56     Ubiquitin+1                        \n",
       "                   57     Ubiquitin                          \n",
       "SERPINA3           58     a1-Antichymotrypsin                \n",
       "                   59     alpha-1-antichymotrypsin complex   \n",
       "VEGFA              60     VEGF                               \n",
       "                   61     VEGF121                            \n",
       "\n",
       "                                                               target_full_name  \n",
       "entrez_gene_symbol index                                                         \n",
       "ADCYAP1            1      Pituitary adenylate cyclase-activating polypeptide 27  \n",
       "                   2      Pituitary adenylate cyclase-activating polypeptide 38  \n",
       "APOE               3      Apolipoprotein E                                       \n",
       "                   4      Apolipoprotein E (isoform E3)                          \n",
       "                   5      Apolipoprotein E (isoform E4)                          \n",
       "                   6      Apolipoprotein E (isoform E2)                          \n",
       "C3                 7      Complement C3b, inactivated                            \n",
       "                   8      Complement C3                                          \n",
       "                   9      C3a anaphylatoxin des Arginine                         \n",
       "                   10     Complement C3b                                         \n",
       "                   11     C3a anaphylatoxin                                      \n",
       "                   12     Complement C3d fragment                                \n",
       "C4A C4B            13     Complement C4b                                         \n",
       "                   14     Complement C4                                          \n",
       "C5                 15     Complement C5                                          \n",
       "                   16     C5a anaphylatoxin                                      \n",
       "CCL23              17     C-C motif chemokine 23                                 \n",
       "                   18     Ck-beta-8-1                                            \n",
       "CLEC11A            19     Stem Cell Growth Factor-beta                           \n",
       "                   20     Stem cell growth factor-alpha                          \n",
       "EGFR               21     Epidermal growth factor receptor                       \n",
       "                   22     Epidermal growth factor receptor variant III           \n",
       "F10                23     Coagulation factor Xa                                  \n",
       "                   24     Coagulation Factor X                                   \n",
       "F2                 25     Thrombin                                               \n",
       "                   26     Prothrombin                                            \n",
       "F9                 27     Coagulation factor IX                                  \n",
       "                   28     Coagulation factor IXab                                \n",
       "FGA FGB FGG        29     Fibrinogen                                             \n",
       "                   30     D-dimer                                                \n",
       "FGF8               31     Fibroblast growth factor 8 isoform B                   \n",
       "                   32     Fibroblast growth factor 8 isoform A                   \n",
       "FN1                33     Fibronectin Fragment 3                                 \n",
       "                   34     Fibronectin Fragment 4                                 \n",
       "                   35     Fibronectin                                            \n",
       "Human-virus        36     Protein E7_HPV16                                       \n",
       "                   37     Protein E7_HPV18                                       \n",
       "                   38     Protein Rev_HV2BE                                      \n",
       "                   39     gp41 C34 peptide, HIV                                  \n",
       "LTA LTB            40     Lymphotoxin alpha1:beta2                               \n",
       "                   41     Lymphotoxin alpha2:beta1                               \n",
       "LYN                42     Tyrosine-protein kinase Lyn, isoform B                 \n",
       "                   43     Tyrosine-protein kinase Lyn                            \n",
       "NPPB               44     Brain natriuretic peptide 32                           \n",
       "                   45     N-terminal pro-BNP                                     \n",
       "PLG                46     Angiostatin                                            \n",
       "                   47     Plasmin                                                \n",
       "                   48     Plasminogen                                            \n",
       "POMC               49     Beta-endorphin                                         \n",
       "                   50     Corticotropin                                          \n",
       "                   51     Pro-opiomelanocortin                                   \n",
       "PPBP               52     Neutrophil-activating peptide 2                        \n",
       "                   53     Connective tissue-activating peptide III               \n",
       "PROC               54     Vitamin K-dependent protein C                          \n",
       "                   55     Activated Protein C                                    \n",
       "RPS27A             56     Ubiquitin+1, truncated mutation for UbB                \n",
       "                   57     Ubiquitin                                              \n",
       "SERPINA3           58     Alpha-1-antichymotrypsin                               \n",
       "                   59     Alpha-1-antichymotrypsin complex                       \n",
       "VEGFA              60     Vascular endothelial growth factor A                   \n",
       "                   61     Vascular endothelial growth factor A, isoform 121      "
      ]
     },
     "metadata": {},
     "output_type": "display_data"
    }
   ],
   "source": [
    "from helpers.data_frame import extract_duplicates, set_duplicates_group\n",
    "\n",
    "data_duplicates = extract_duplicates(protein_indices, ['entrez_gene_symbol'], ['target_full_name', 'target'])\n",
    "data_duplicates = set_duplicates_group(data_duplicates, 'entrez_gene_symbol', protein_indices)\n",
    "\n",
    "full_table(data_duplicates)"
   ]
  },
  {
   "cell_type": "markdown",
   "metadata": {},
   "source": [
    "Major observations:\n",
    "  - Mostly isoforms in here - good to know!\n",
    "  - There are viral proteins, e.g. \"C34 gp41 HIV Fragment\", \"Protein Rev_HV2BE\""
   ]
  },
  {
   "cell_type": "markdown",
   "metadata": {},
   "source": [
    "### Quick check: do we see more of the HIV protein in patients with HIV?"
   ]
  },
  {
   "cell_type": "code",
   "execution_count": 30,
   "metadata": {},
   "outputs": [],
   "source": [
    "clinical_data = read_csv('data/clean/clinical/data.csv', index_col=0)"
   ]
  },
  {
   "cell_type": "markdown",
   "metadata": {},
   "source": [
    "Select only patients for whom the protein levels were measured:"
   ]
  },
  {
   "cell_type": "code",
   "execution_count": 31,
   "metadata": {},
   "outputs": [],
   "source": [
    "clinical_for_protein_study = clinical_data.loc[protein_levels.columns]"
   ]
  },
  {
   "cell_type": "code",
   "execution_count": 32,
   "metadata": {},
   "outputs": [],
   "source": [
    "patient_hiv_status = clinical_for_protein_study.HIVResult\n",
    "is_healthy_control = clinical_for_protein_study.condition == 'HC'"
   ]
  },
  {
   "cell_type": "markdown",
   "metadata": {},
   "source": [
    "As we assume that there are only HIV-1 patients, I expect to see a correlation for \"C34 gp41 HIV Fragment\" but not necessarily for other viral proteins"
   ]
  },
  {
   "cell_type": "code",
   "execution_count": 33,
   "metadata": {},
   "outputs": [
    {
     "data": {
      "text/html": [
       "<div>\n",
       "<style scoped>\n",
       "    .dataframe tbody tr th:only-of-type {\n",
       "        vertical-align: middle;\n",
       "    }\n",
       "\n",
       "    .dataframe tbody tr th {\n",
       "        vertical-align: top;\n",
       "    }\n",
       "\n",
       "    .dataframe thead th {\n",
       "        text-align: right;\n",
       "    }\n",
       "</style>\n",
       "<table border=\"1\" class=\"dataframe\">\n",
       "  <thead>\n",
       "    <tr style=\"text-align: right;\">\n",
       "      <th></th>\n",
       "      <th></th>\n",
       "      <th></th>\n",
       "      <th></th>\n",
       "      <th>149.TMD</th>\n",
       "      <th>007.TMD</th>\n",
       "      <th>001.TMD</th>\n",
       "      <th>064.TMD</th>\n",
       "      <th>151.TMD</th>\n",
       "      <th>...</th>\n",
       "      <th>177.HC</th>\n",
       "      <th>189.HC</th>\n",
       "      <th>217.HC</th>\n",
       "      <th>221.HC</th>\n",
       "      <th>245.HC</th>\n",
       "    </tr>\n",
       "    <tr>\n",
       "      <th>soma_id</th>\n",
       "      <th>target_full_name</th>\n",
       "      <th>target</th>\n",
       "      <th>entrez_gene_symbol</th>\n",
       "      <th></th>\n",
       "      <th></th>\n",
       "      <th></th>\n",
       "      <th></th>\n",
       "      <th></th>\n",
       "      <th></th>\n",
       "      <th></th>\n",
       "      <th></th>\n",
       "      <th></th>\n",
       "      <th></th>\n",
       "      <th></th>\n",
       "    </tr>\n",
       "  </thead>\n",
       "  <tbody>\n",
       "    <tr>\n",
       "      <th>SL004697</th>\n",
       "      <th>Protein E7_HPV16</th>\n",
       "      <th>HPV E7 Type 16</th>\n",
       "      <th>Human-virus</th>\n",
       "      <td>51.0</td>\n",
       "      <td>201.5</td>\n",
       "      <td>39.4</td>\n",
       "      <td>76.6</td>\n",
       "      <td>29.7</td>\n",
       "      <td>...</td>\n",
       "      <td>14.8</td>\n",
       "      <td>11.6</td>\n",
       "      <td>13.8</td>\n",
       "      <td>12.4</td>\n",
       "      <td>20.1</td>\n",
       "    </tr>\n",
       "    <tr>\n",
       "      <th>SL004698</th>\n",
       "      <th>Protein E7_HPV18</th>\n",
       "      <th>HPV E7 Type18</th>\n",
       "      <th>Human-virus</th>\n",
       "      <td>117.7</td>\n",
       "      <td>682.7</td>\n",
       "      <td>68.3</td>\n",
       "      <td>199.2</td>\n",
       "      <td>87.9</td>\n",
       "      <td>...</td>\n",
       "      <td>28.1</td>\n",
       "      <td>30.6</td>\n",
       "      <td>28.4</td>\n",
       "      <td>25.7</td>\n",
       "      <td>31.5</td>\n",
       "    </tr>\n",
       "    <tr>\n",
       "      <th>SL000445</th>\n",
       "      <th>Protein Rev_HV2BE</th>\n",
       "      <th>HIV-2 Rev</th>\n",
       "      <th>Human-virus</th>\n",
       "      <td>20.5</td>\n",
       "      <td>48.5</td>\n",
       "      <td>19.7</td>\n",
       "      <td>32.5</td>\n",
       "      <td>13.8</td>\n",
       "      <td>...</td>\n",
       "      <td>13.0</td>\n",
       "      <td>14.6</td>\n",
       "      <td>13.3</td>\n",
       "      <td>11.6</td>\n",
       "      <td>14.8</td>\n",
       "    </tr>\n",
       "    <tr>\n",
       "      <th>SL016148</th>\n",
       "      <th>gp41 C34 peptide, HIV</th>\n",
       "      <th>C34 gp41 HIV Fragment</th>\n",
       "      <th>Human-virus</th>\n",
       "      <td>212.9</td>\n",
       "      <td>368.4</td>\n",
       "      <td>347.6</td>\n",
       "      <td>261.4</td>\n",
       "      <td>105.7</td>\n",
       "      <td>...</td>\n",
       "      <td>183.5</td>\n",
       "      <td>92.3</td>\n",
       "      <td>130.2</td>\n",
       "      <td>174.2</td>\n",
       "      <td>416.8</td>\n",
       "    </tr>\n",
       "  </tbody>\n",
       "</table>\n",
       "<p>4 rows × 82 columns</p>\n",
       "</div>"
      ],
      "text/plain": [
       "                                                                         149.TMD  \\\n",
       "soma_id  target_full_name      target                entrez_gene_symbol            \n",
       "SL004697 Protein E7_HPV16      HPV E7 Type 16        Human-virus            51.0   \n",
       "SL004698 Protein E7_HPV18      HPV E7 Type18         Human-virus           117.7   \n",
       "SL000445 Protein Rev_HV2BE     HIV-2 Rev             Human-virus            20.5   \n",
       "SL016148 gp41 C34 peptide, HIV C34 gp41 HIV Fragment Human-virus           212.9   \n",
       "\n",
       "                                                                         007.TMD  \\\n",
       "soma_id  target_full_name      target                entrez_gene_symbol            \n",
       "SL004697 Protein E7_HPV16      HPV E7 Type 16        Human-virus           201.5   \n",
       "SL004698 Protein E7_HPV18      HPV E7 Type18         Human-virus           682.7   \n",
       "SL000445 Protein Rev_HV2BE     HIV-2 Rev             Human-virus            48.5   \n",
       "SL016148 gp41 C34 peptide, HIV C34 gp41 HIV Fragment Human-virus           368.4   \n",
       "\n",
       "                                                                         001.TMD  \\\n",
       "soma_id  target_full_name      target                entrez_gene_symbol            \n",
       "SL004697 Protein E7_HPV16      HPV E7 Type 16        Human-virus            39.4   \n",
       "SL004698 Protein E7_HPV18      HPV E7 Type18         Human-virus            68.3   \n",
       "SL000445 Protein Rev_HV2BE     HIV-2 Rev             Human-virus            19.7   \n",
       "SL016148 gp41 C34 peptide, HIV C34 gp41 HIV Fragment Human-virus           347.6   \n",
       "\n",
       "                                                                         064.TMD  \\\n",
       "soma_id  target_full_name      target                entrez_gene_symbol            \n",
       "SL004697 Protein E7_HPV16      HPV E7 Type 16        Human-virus            76.6   \n",
       "SL004698 Protein E7_HPV18      HPV E7 Type18         Human-virus           199.2   \n",
       "SL000445 Protein Rev_HV2BE     HIV-2 Rev             Human-virus            32.5   \n",
       "SL016148 gp41 C34 peptide, HIV C34 gp41 HIV Fragment Human-virus           261.4   \n",
       "\n",
       "                                                                         151.TMD  \\\n",
       "soma_id  target_full_name      target                entrez_gene_symbol            \n",
       "SL004697 Protein E7_HPV16      HPV E7 Type 16        Human-virus            29.7   \n",
       "SL004698 Protein E7_HPV18      HPV E7 Type18         Human-virus            87.9   \n",
       "SL000445 Protein Rev_HV2BE     HIV-2 Rev             Human-virus            13.8   \n",
       "SL016148 gp41 C34 peptide, HIV C34 gp41 HIV Fragment Human-virus           105.7   \n",
       "\n",
       "                                                                         ...  \\\n",
       "soma_id  target_full_name      target                entrez_gene_symbol  ...   \n",
       "SL004697 Protein E7_HPV16      HPV E7 Type 16        Human-virus         ...   \n",
       "SL004698 Protein E7_HPV18      HPV E7 Type18         Human-virus         ...   \n",
       "SL000445 Protein Rev_HV2BE     HIV-2 Rev             Human-virus         ...   \n",
       "SL016148 gp41 C34 peptide, HIV C34 gp41 HIV Fragment Human-virus         ...   \n",
       "\n",
       "                                                                         177.HC  \\\n",
       "soma_id  target_full_name      target                entrez_gene_symbol           \n",
       "SL004697 Protein E7_HPV16      HPV E7 Type 16        Human-virus           14.8   \n",
       "SL004698 Protein E7_HPV18      HPV E7 Type18         Human-virus           28.1   \n",
       "SL000445 Protein Rev_HV2BE     HIV-2 Rev             Human-virus           13.0   \n",
       "SL016148 gp41 C34 peptide, HIV C34 gp41 HIV Fragment Human-virus          183.5   \n",
       "\n",
       "                                                                         189.HC  \\\n",
       "soma_id  target_full_name      target                entrez_gene_symbol           \n",
       "SL004697 Protein E7_HPV16      HPV E7 Type 16        Human-virus           11.6   \n",
       "SL004698 Protein E7_HPV18      HPV E7 Type18         Human-virus           30.6   \n",
       "SL000445 Protein Rev_HV2BE     HIV-2 Rev             Human-virus           14.6   \n",
       "SL016148 gp41 C34 peptide, HIV C34 gp41 HIV Fragment Human-virus           92.3   \n",
       "\n",
       "                                                                         217.HC  \\\n",
       "soma_id  target_full_name      target                entrez_gene_symbol           \n",
       "SL004697 Protein E7_HPV16      HPV E7 Type 16        Human-virus           13.8   \n",
       "SL004698 Protein E7_HPV18      HPV E7 Type18         Human-virus           28.4   \n",
       "SL000445 Protein Rev_HV2BE     HIV-2 Rev             Human-virus           13.3   \n",
       "SL016148 gp41 C34 peptide, HIV C34 gp41 HIV Fragment Human-virus          130.2   \n",
       "\n",
       "                                                                         221.HC  \\\n",
       "soma_id  target_full_name      target                entrez_gene_symbol           \n",
       "SL004697 Protein E7_HPV16      HPV E7 Type 16        Human-virus           12.4   \n",
       "SL004698 Protein E7_HPV18      HPV E7 Type18         Human-virus           25.7   \n",
       "SL000445 Protein Rev_HV2BE     HIV-2 Rev             Human-virus           11.6   \n",
       "SL016148 gp41 C34 peptide, HIV C34 gp41 HIV Fragment Human-virus          174.2   \n",
       "\n",
       "                                                                         245.HC  \n",
       "soma_id  target_full_name      target                entrez_gene_symbol          \n",
       "SL004697 Protein E7_HPV16      HPV E7 Type 16        Human-virus           20.1  \n",
       "SL004698 Protein E7_HPV18      HPV E7 Type18         Human-virus           31.5  \n",
       "SL000445 Protein Rev_HV2BE     HIV-2 Rev             Human-virus           14.8  \n",
       "SL016148 gp41 C34 peptide, HIV C34 gp41 HIV Fragment Human-virus          416.8  \n",
       "\n",
       "[4 rows x 82 columns]"
      ]
     },
     "execution_count": 33,
     "metadata": {},
     "output_type": "execute_result"
    }
   ],
   "source": [
    "viral_proteins = protein_levels.query('entrez_gene_symbol == \"Human-virus\"')\n",
    "viral_proteins"
   ]
  },
  {
   "cell_type": "code",
   "execution_count": 34,
   "metadata": {},
   "outputs": [],
   "source": [
    "df = viral_proteins.stack().reset_index().rename({'level_4': 'patient_id', 0: 'value'}, axis=1)"
   ]
  },
  {
   "cell_type": "code",
   "execution_count": 35,
   "metadata": {},
   "outputs": [],
   "source": [
    "df['patient_hiv_status'] = df.patient_id.map(patient_hiv_status)\n",
    "df['is_healthy_control'] = df.patient_id.map(is_healthy_control)"
   ]
  },
  {
   "cell_type": "markdown",
   "metadata": {},
   "source": [
    "are there any HIV-1 positive healthy controls?"
   ]
  },
  {
   "cell_type": "code",
   "execution_count": 36,
   "metadata": {},
   "outputs": [
    {
     "data": {
      "text/plain": [
       "False    63\n",
       "True     19\n",
       "dtype: int64"
      ]
     },
     "execution_count": 36,
     "metadata": {},
     "output_type": "execute_result"
    }
   ],
   "source": [
    "(is_healthy_control & (patient_hiv_status == 'Positive')).value_counts()"
   ]
  },
  {
   "cell_type": "code",
   "execution_count": 37,
   "metadata": {},
   "outputs": [],
   "source": [
    "from rpy2.rinterface_lib.callbacks import logger as rpy2_logger"
   ]
  },
  {
   "cell_type": "code",
   "execution_count": 38,
   "metadata": {},
   "outputs": [],
   "source": [
    "rpy2_logger.addFilter(lambda record: 'notch went outside hinges' in record.msg)"
   ]
  },
  {
   "cell_type": "code",
   "execution_count": 39,
   "metadata": {},
   "outputs": [
    {
     "data": {
      "image/png": "[encoded data removed]"
     },
     "metadata": {},
     "output_type": "display_data"
    }
   ],
   "source": [
    "%%R -i df -w 800 -h 400 -u px\n",
    "(\n",
    "    ggplot(df, aes(x=target, y=value, fill=patient_hiv_status))\n",
    "    + facet_wrap(\n",
    "        ~ is_healthy_control,\n",
    "        labeller=as_labeller(c('TRUE'='Healthy control', 'FALSE'='With meaningitis'))\n",
    "    )\n",
    "    + geom_boxplot(\n",
    "        notch=TRUE, outlier.shape=NA,\n",
    "        position=position_dodge(width=1)\n",
    "    )\n",
    "    + geom_point(\n",
    "        shape=21, size=3, alpha=0.4,\n",
    "        position=position_jitterdodge(dodge.width=1)\n",
    "    )\n",
    "    + xlab('Protein')\n",
    "    + ylab('Protein level')\n",
    "    + scale_y_log10()\n",
    "    + theme(legend.position='bottom')\n",
    ")"
   ]
  },
  {
   "cell_type": "markdown",
   "metadata": {},
   "source": [
    "Surprisingly the assumed higher level of HIV fragments in HIV-positive patients is not clearly observed.\n",
    "\n",
    "I will not jump to conclusions, though it might be interesting. Caveats:\n",
    " - this is just one HIV protein fragment\n",
    " - what is the reasonable detection level? Am I looking at experimental noise or meaningful data?\n",
    "     - Median variability coefficients for the C34 qp41 HIV Fragment: 6.3% (https://foocheung.shinyapps.io/SOMACV3/)\n",
    " - it may be due to low specificity of the measurement for this fragment (i.e. there may be another, similar protein); also how specific is the platform/protocol when given a mixture of proteins from across different species? I mean, if they measured specificity with \"clean\" healthy human tissue, their specificity claims may be invalid in our setting, where patients may have severe bacterial and viral infections (all comes down to the lab protocol, I guess that I need to trust that someone has thought about that for now and revisit later).\n",
    " - this is CSF, no guarantee that we will have viruses in there, but according to the literature there is:\n",
    "  - [\"Discordance Between Cerebral Spinal Fluid and Plasma HIV Replication in Patients with Neurological Symptoms Who Are Receiving Suppressive Antiretroviral Therapy\", 2010](https://academic.oup.com/cid/article/50/5/773/327515) - low sample size (11), studied RNA, but maybe relevant\n",
    "  - [\"Cerebrospinal fluid HIV infection and pleocytosis: Relation to systemic infection and antiretroviral treatment\", 2005](https://bmcinfectdis.biomedcentral.com/articles/10.1186/1471-2334-5-98) - a larger sample size (100); the paper suggests mechanisms which may lead to occurrence of HIV in CSF: \"transitory infection\" (by infected CD4+ cells traversing from blood) which may lead to \"autonomous infection\" (with the HIV cycle being sustained in the CSF surrounding cells); Mycobacterium and Cryptococcus infections are highlighted as possible variation of the transitory infection. \n",
    " - I have not finished checking/transforming the data this is just a preliminary check, which may suggest that there is more cleaning to do!\n",
    "\n",
    "Questions: what test (precisely) was used to diagnose HIV? How sensitive is it? What was tested - blood?\n",
    "\n",
    "One possible explanation: some patients do have HIV but were not diagnosed, some patients were diagnosed but do not have the virus in CSF, some patients were diagnosed and do have the virus in CSF (the values close to ~1000). In this case, level of ~100 would indicate just noise/non-specific binding in the data.\n",
    "\n",
    "\n",
    "I will leave this for now, but an interesting thing would be to explore the relation between the bacterial and viral infections later on. Possible further steps include CD4 count and anti-retroviral therapy status inclusion. The lesson learned from a brief literature search is that the interplay between HIV status, CD4 count, and ARV therapy needs to be accounted for in the further analyses.\n",
    "Also I could see if there are any known HIV biomarkers."
   ]
  },
  {
   "cell_type": "markdown",
   "metadata": {},
   "source": [
    "### Are the remianing proteins human?"
   ]
  },
  {
   "cell_type": "code",
   "execution_count": 40,
   "metadata": {},
   "outputs": [
    {
     "data": {
      "text/plain": [
       "{'Human',\n",
       " 'Human papillomavirus type 16',\n",
       " 'Human papillomavirus type 18',\n",
       " 'isolate BEN',\n",
       " 'isolate LW123'}"
      ]
     },
     "execution_count": 40,
     "metadata": {},
     "output_type": "execute_result"
    }
   ],
   "source": [
    "set(relevant_aptamers.Organism)"
   ]
  },
  {
   "cell_type": "code",
   "execution_count": 41,
   "metadata": {},
   "outputs": [
    {
     "data": {
      "text/html": [
       "<div>\n",
       "<style scoped>\n",
       "    .dataframe tbody tr th:only-of-type {\n",
       "        vertical-align: middle;\n",
       "    }\n",
       "\n",
       "    .dataframe tbody tr th {\n",
       "        vertical-align: top;\n",
       "    }\n",
       "\n",
       "    .dataframe thead th {\n",
       "        text-align: right;\n",
       "    }\n",
       "</style>\n",
       "<table border=\"1\" class=\"dataframe\">\n",
       "  <thead>\n",
       "    <tr style=\"text-align: right;\">\n",
       "      <th></th>\n",
       "      <th>AptamerId</th>\n",
       "      <th>SomaId</th>\n",
       "      <th>Target</th>\n",
       "      <th>TargetFullName</th>\n",
       "      <th>UniProt</th>\n",
       "      <th>...</th>\n",
       "      <th>Type</th>\n",
       "      <th>PlasmaDilution</th>\n",
       "      <th>SerumDilution</th>\n",
       "      <th>IsIn1310Panel</th>\n",
       "      <th>IsIn1129Panel</th>\n",
       "    </tr>\n",
       "  </thead>\n",
       "  <tbody>\n",
       "    <tr>\n",
       "      <th>310</th>\n",
       "      <td>4792-51</td>\n",
       "      <td>SL016148</td>\n",
       "      <td>C34 gp41 HIV Fragment</td>\n",
       "      <td>gp41 C34 peptide, HIV</td>\n",
       "      <td>Q70626</td>\n",
       "      <td>...</td>\n",
       "      <td>Protein</td>\n",
       "      <td>40.0</td>\n",
       "      <td>40.0</td>\n",
       "      <td>1</td>\n",
       "      <td>1</td>\n",
       "    </tr>\n",
       "    <tr>\n",
       "      <th>633</th>\n",
       "      <td>2769-3</td>\n",
       "      <td>SL000445</td>\n",
       "      <td>HIV-2 Rev</td>\n",
       "      <td>Protein Rev_HV2BE</td>\n",
       "      <td>P18093</td>\n",
       "      <td>...</td>\n",
       "      <td>Protein</td>\n",
       "      <td>40.0</td>\n",
       "      <td>40.0</td>\n",
       "      <td>1</td>\n",
       "      <td>1</td>\n",
       "    </tr>\n",
       "    <tr>\n",
       "      <th>640</th>\n",
       "      <td>2623-54</td>\n",
       "      <td>SL004697</td>\n",
       "      <td>HPV E7 Type 16</td>\n",
       "      <td>Protein E7_HPV16</td>\n",
       "      <td>P03129</td>\n",
       "      <td>...</td>\n",
       "      <td>Protein</td>\n",
       "      <td>40.0</td>\n",
       "      <td>40.0</td>\n",
       "      <td>1</td>\n",
       "      <td>1</td>\n",
       "    </tr>\n",
       "    <tr>\n",
       "      <th>641</th>\n",
       "      <td>2624-31</td>\n",
       "      <td>SL004698</td>\n",
       "      <td>HPV E7 Type18</td>\n",
       "      <td>Protein E7_HPV18</td>\n",
       "      <td>P06788</td>\n",
       "      <td>...</td>\n",
       "      <td>Protein</td>\n",
       "      <td>40.0</td>\n",
       "      <td>40.0</td>\n",
       "      <td>1</td>\n",
       "      <td>1</td>\n",
       "    </tr>\n",
       "  </tbody>\n",
       "</table>\n",
       "<p>4 rows × 14 columns</p>\n",
       "</div>"
      ],
      "text/plain": [
       "    AptamerId    SomaId                 Target         TargetFullName UniProt  \\\n",
       "310   4792-51  SL016148  C34 gp41 HIV Fragment  gp41 C34 peptide, HIV  Q70626   \n",
       "633    2769-3  SL000445              HIV-2 Rev      Protein Rev_HV2BE  P18093   \n",
       "640   2623-54  SL004697         HPV E7 Type 16       Protein E7_HPV16  P03129   \n",
       "641   2624-31  SL004698          HPV E7 Type18       Protein E7_HPV18  P06788   \n",
       "\n",
       "     ...     Type PlasmaDilution SerumDilution IsIn1310Panel IsIn1129Panel  \n",
       "310  ...  Protein           40.0          40.0             1             1  \n",
       "633  ...  Protein           40.0          40.0             1             1  \n",
       "640  ...  Protein           40.0          40.0             1             1  \n",
       "641  ...  Protein           40.0          40.0             1             1  \n",
       "\n",
       "[4 rows x 14 columns]"
      ]
     },
     "execution_count": 41,
     "metadata": {},
     "output_type": "execute_result"
    }
   ],
   "source": [
    "relevant_aptamers[relevant_aptamers.Organism != 'Human']"
   ]
  },
  {
   "cell_type": "code",
   "execution_count": 42,
   "metadata": {},
   "outputs": [
    {
     "data": {
      "text/plain": [
       "{'Protein', 'Rat Protein'}"
      ]
     },
     "execution_count": 42,
     "metadata": {},
     "output_type": "execute_result"
    }
   ],
   "source": [
    "set(relevant_aptamers.Type)"
   ]
  },
  {
   "cell_type": "code",
   "execution_count": 43,
   "metadata": {},
   "outputs": [
    {
     "data": {
      "text/html": [
       "<div>\n",
       "<style scoped>\n",
       "    .dataframe tbody tr th:only-of-type {\n",
       "        vertical-align: middle;\n",
       "    }\n",
       "\n",
       "    .dataframe tbody tr th {\n",
       "        vertical-align: top;\n",
       "    }\n",
       "\n",
       "    .dataframe thead th {\n",
       "        text-align: right;\n",
       "    }\n",
       "</style>\n",
       "<table border=\"1\" class=\"dataframe\">\n",
       "  <thead>\n",
       "    <tr style=\"text-align: right;\">\n",
       "      <th></th>\n",
       "      <th>AptamerId</th>\n",
       "      <th>SomaId</th>\n",
       "      <th>Target</th>\n",
       "      <th>TargetFullName</th>\n",
       "      <th>UniProt</th>\n",
       "      <th>...</th>\n",
       "      <th>Type</th>\n",
       "      <th>PlasmaDilution</th>\n",
       "      <th>SerumDilution</th>\n",
       "      <th>IsIn1310Panel</th>\n",
       "      <th>IsIn1129Panel</th>\n",
       "    </tr>\n",
       "  </thead>\n",
       "  <tbody>\n",
       "    <tr>\n",
       "      <th>226</th>\n",
       "      <td>5443-62</td>\n",
       "      <td>SL002505</td>\n",
       "      <td>ANP</td>\n",
       "      <td>Atrial natriuretic factor</td>\n",
       "      <td>P01160</td>\n",
       "      <td>...</td>\n",
       "      <td>Rat Protein</td>\n",
       "      <td>40.0</td>\n",
       "      <td>40.0</td>\n",
       "      <td>1</td>\n",
       "      <td>1</td>\n",
       "    </tr>\n",
       "    <tr>\n",
       "      <th>1160</th>\n",
       "      <td>5441-67</td>\n",
       "      <td>SL001761</td>\n",
       "      <td>Troponin I</td>\n",
       "      <td>Troponin I, cardiac muscle</td>\n",
       "      <td>P19429</td>\n",
       "      <td>...</td>\n",
       "      <td>Rat Protein</td>\n",
       "      <td>40.0</td>\n",
       "      <td>40.0</td>\n",
       "      <td>1</td>\n",
       "      <td>1</td>\n",
       "    </tr>\n",
       "    <tr>\n",
       "      <th>1161</th>\n",
       "      <td>5440-26</td>\n",
       "      <td>SL004594</td>\n",
       "      <td>Troponin I, skeletal, fast twitch</td>\n",
       "      <td>Troponin I, fast skeletal muscle</td>\n",
       "      <td>P48788</td>\n",
       "      <td>...</td>\n",
       "      <td>Rat Protein</td>\n",
       "      <td>40.0</td>\n",
       "      <td>40.0</td>\n",
       "      <td>1</td>\n",
       "      <td>1</td>\n",
       "    </tr>\n",
       "    <tr>\n",
       "      <th>1283</th>\n",
       "      <td>5437-63</td>\n",
       "      <td>SL001774</td>\n",
       "      <td>FABP</td>\n",
       "      <td>Fatty acid-binding protein, heart</td>\n",
       "      <td>P05413</td>\n",
       "      <td>...</td>\n",
       "      <td>Rat Protein</td>\n",
       "      <td>1.0</td>\n",
       "      <td>1.0</td>\n",
       "      <td>1</td>\n",
       "      <td>0</td>\n",
       "    </tr>\n",
       "  </tbody>\n",
       "</table>\n",
       "<p>4 rows × 14 columns</p>\n",
       "</div>"
      ],
      "text/plain": [
       "     AptamerId    SomaId                             Target  \\\n",
       "226    5443-62  SL002505                                ANP   \n",
       "1160   5441-67  SL001761                         Troponin I   \n",
       "1161   5440-26  SL004594  Troponin I, skeletal, fast twitch   \n",
       "1283   5437-63  SL001774                               FABP   \n",
       "\n",
       "                         TargetFullName UniProt  ...         Type  \\\n",
       "226           Atrial natriuretic factor  P01160  ...  Rat Protein   \n",
       "1160         Troponin I, cardiac muscle  P19429  ...  Rat Protein   \n",
       "1161   Troponin I, fast skeletal muscle  P48788  ...  Rat Protein   \n",
       "1283  Fatty acid-binding protein, heart  P05413  ...  Rat Protein   \n",
       "\n",
       "     PlasmaDilution SerumDilution IsIn1310Panel IsIn1129Panel  \n",
       "226            40.0          40.0             1             1  \n",
       "1160           40.0          40.0             1             1  \n",
       "1161           40.0          40.0             1             1  \n",
       "1283            1.0           1.0             1             0  \n",
       "\n",
       "[4 rows x 14 columns]"
      ]
     },
     "execution_count": 43,
     "metadata": {},
     "output_type": "execute_result"
    }
   ],
   "source": [
    "relevant_aptamers[relevant_aptamers.Type == 'Rat Protein']"
   ]
  }
 ],
 "metadata": {
  "kernelspec": {
   "display_name": "Python 3",
   "language": "python",
   "name": "python3"
  },
  "language_info": {
   "codemirror_mode": {
    "name": "ipython",
    "version": 3
   },
   "file_extension": ".py",
   "mimetype": "text/x-python",
   "name": "python",
   "nbconvert_exporter": "python",
   "pygments_lexer": "ipython3",
   "version": "3.7.2"
  }
 },
 "nbformat": 4,
 "nbformat_minor": 2
}
