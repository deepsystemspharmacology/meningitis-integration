{
 "cells": [
  {
   "cell_type": "code",
   "execution_count": 1,
   "metadata": {},
   "outputs": [],
   "source": [
    "%matplotlib inline\n",
    "%load_ext autoreload\n",
    "%autoreload 2\n",
    "from helpers.utilities import *"
   ]
  },
  {
   "cell_type": "code",
   "execution_count": 2,
   "metadata": {},
   "outputs": [],
   "source": [
    "from os import chdir\n",
    "chdir('..')"
   ]
  },
  {
   "cell_type": "markdown",
   "metadata": {},
   "source": [
    "The outputs will be saved to:"
   ]
  },
  {
   "cell_type": "code",
   "execution_count": 3,
   "metadata": {},
   "outputs": [],
   "source": [
    "from helpers.paths import make_directories\n",
    "\n",
    "make_directories({'clean': ['clinical']}, root='data')"
   ]
  },
  {
   "cell_type": "code",
   "execution_count": 4,
   "metadata": {},
   "outputs": [],
   "source": [
    "from numpy import nan"
   ]
  },
  {
   "cell_type": "code",
   "execution_count": 5,
   "metadata": {},
   "outputs": [],
   "source": [
    "import helpers.developer_mode"
   ]
  },
  {
   "cell_type": "code",
   "execution_count": 6,
   "metadata": {},
   "outputs": [],
   "source": [
    "%%capture\n",
    "%load_ext rpy2.ipython\n",
    "%R require(ggplot2)\n",
    "%R require(latex2exp)"
   ]
  },
  {
   "cell_type": "markdown",
   "metadata": {},
   "source": [
    "Clinical data did not require a separate extraction step, thus I will clean the spreadsheet and explore the data in a single notebook (this one)."
   ]
  },
  {
   "cell_type": "markdown",
   "metadata": {},
   "source": [
    "# Data Extraction"
   ]
  },
  {
   "cell_type": "code",
   "execution_count": 7,
   "metadata": {},
   "outputs": [],
   "source": [
    "clinical_spreadsheets = read_excel('data/raw/PatientClinicalData.xlsx', sheet_name=None)"
   ]
  },
  {
   "cell_type": "code",
   "execution_count": 8,
   "metadata": {},
   "outputs": [
    {
     "data": {
      "text/plain": [
       "odict_keys(['Clinical MetaData', 'Parameter Glossary'])"
      ]
     },
     "execution_count": 8,
     "metadata": {},
     "output_type": "execute_result"
    }
   ],
   "source": [
    "clinical_spreadsheets.keys()"
   ]
  },
  {
   "cell_type": "markdown",
   "metadata": {},
   "source": [
    "## Glossary"
   ]
  },
  {
   "cell_type": "code",
   "execution_count": 9,
   "metadata": {},
   "outputs": [],
   "source": [
    "clinical_glossary = clinical_spreadsheets['Parameter Glossary']"
   ]
  },
  {
   "cell_type": "code",
   "execution_count": 10,
   "metadata": {},
   "outputs": [
    {
     "data": {
      "text/html": [
       "<div>\n",
       "<style scoped>\n",
       "    .dataframe tbody tr th:only-of-type {\n",
       "        vertical-align: middle;\n",
       "    }\n",
       "\n",
       "    .dataframe tbody tr th {\n",
       "        vertical-align: top;\n",
       "    }\n",
       "\n",
       "    .dataframe thead th {\n",
       "        text-align: right;\n",
       "    }\n",
       "</style>\n",
       "<table border=\"1\" class=\"dataframe\">\n",
       "  <thead>\n",
       "    <tr style=\"text-align: right;\">\n",
       "      <th></th>\n",
       "      <th>PatientID</th>\n",
       "      <th>Randomisd study ID</th>\n",
       "    </tr>\n",
       "  </thead>\n",
       "  <tbody>\n",
       "    <tr>\n",
       "      <th>0</th>\n",
       "      <td>Birthday</td>\n",
       "      <td>Date of birth</td>\n",
       "    </tr>\n",
       "    <tr>\n",
       "      <th>1</th>\n",
       "      <td>Sex</td>\n",
       "      <td>Gender at birth</td>\n",
       "    </tr>\n",
       "    <tr>\n",
       "      <th>2</th>\n",
       "      <td>PrevTB</td>\n",
       "      <td>Past history of TB?</td>\n",
       "    </tr>\n",
       "    <tr>\n",
       "      <th>3</th>\n",
       "      <td>PrevTBForm</td>\n",
       "      <td>What form of TB was it in the past?  (Note: you can group any non-pulmonary as extrapulmonary for binary data)</td>\n",
       "    </tr>\n",
       "    <tr>\n",
       "      <th>4</th>\n",
       "      <td>PrevTBTreat</td>\n",
       "      <td>Did the patient receive TB treatment in the past?</td>\n",
       "    </tr>\n",
       "    <tr>\n",
       "      <th>5</th>\n",
       "      <td>TBMGrade</td>\n",
       "      <td>TBM grade (severity) at the time of admission; Grade 3 is the worst and Grade 1 is the least severe</td>\n",
       "    </tr>\n",
       "    <tr>\n",
       "      <th>6</th>\n",
       "      <td>HIVResult</td>\n",
       "      <td>Does the patient have HIV?</td>\n",
       "    </tr>\n",
       "    <tr>\n",
       "      <th>7</th>\n",
       "      <td>CD4</td>\n",
       "      <td>Number of CD4 T-cells per ml of blood</td>\n",
       "    </tr>\n",
       "    <tr>\n",
       "      <th>8</th>\n",
       "      <td>ARV</td>\n",
       "      <td>Is the patient currently on antiretroviral for HIV?</td>\n",
       "    </tr>\n",
       "    <tr>\n",
       "      <th>9</th>\n",
       "      <td>UnARV</td>\n",
       "      <td>If not currently on ARV, has the patient ever taken ARV in the past?</td>\n",
       "    </tr>\n",
       "    <tr>\n",
       "      <th>10</th>\n",
       "      <td>Headache</td>\n",
       "      <td>Does the patient have headache?</td>\n",
       "    </tr>\n",
       "    <tr>\n",
       "      <th>11</th>\n",
       "      <td>HeadacheD</td>\n",
       "      <td>Duration of headache (days)</td>\n",
       "    </tr>\n",
       "    <tr>\n",
       "      <th>12</th>\n",
       "      <td>Lethargy</td>\n",
       "      <td>Does the patient experience lethargy?</td>\n",
       "    </tr>\n",
       "    <tr>\n",
       "      <th>13</th>\n",
       "      <td>LethargyD</td>\n",
       "      <td>Duration of lethargy (days)</td>\n",
       "    </tr>\n",
       "    <tr>\n",
       "      <th>14</th>\n",
       "      <td>Vomiting</td>\n",
       "      <td>Does the patient suffer vomiting?</td>\n",
       "    </tr>\n",
       "    <tr>\n",
       "      <th>15</th>\n",
       "      <td>VomitingD</td>\n",
       "      <td>Duration of vomiting (days)</td>\n",
       "    </tr>\n",
       "    <tr>\n",
       "      <th>16</th>\n",
       "      <td>Conscious</td>\n",
       "      <td>Reduced consciousness</td>\n",
       "    </tr>\n",
       "    <tr>\n",
       "      <th>17</th>\n",
       "      <td>ConsciousD</td>\n",
       "      <td>Duration of reduced consciousness (days)</td>\n",
       "    </tr>\n",
       "    <tr>\n",
       "      <th>18</th>\n",
       "      <td>OnTBTReat</td>\n",
       "      <td>Is the patient still on TB treatment at the time of admission?</td>\n",
       "    </tr>\n",
       "    <tr>\n",
       "      <th>19</th>\n",
       "      <td>DateTBTreat</td>\n",
       "      <td>If yes, when did it start?</td>\n",
       "    </tr>\n",
       "    <tr>\n",
       "      <th>20</th>\n",
       "      <td>DateTBTreatStop</td>\n",
       "      <td>if not, when did it stop?</td>\n",
       "    </tr>\n",
       "    <tr>\n",
       "      <th>21</th>\n",
       "      <td>DateLP</td>\n",
       "      <td>Date of lumbar puncture to sample CSF</td>\n",
       "    </tr>\n",
       "    <tr>\n",
       "      <th>22</th>\n",
       "      <td>App1</td>\n",
       "      <td>Appearance of the CSF (observation 1)</td>\n",
       "    </tr>\n",
       "    <tr>\n",
       "      <th>23</th>\n",
       "      <td>App2</td>\n",
       "      <td>Appearance of the CSF (observation 2)</td>\n",
       "    </tr>\n",
       "    <tr>\n",
       "      <th>24</th>\n",
       "      <td>RCC</td>\n",
       "      <td>Red blood cell count</td>\n",
       "    </tr>\n",
       "    <tr>\n",
       "      <th>25</th>\n",
       "      <td>WCC</td>\n",
       "      <td>White blood cell count</td>\n",
       "    </tr>\n",
       "    <tr>\n",
       "      <th>26</th>\n",
       "      <td>%Neutro</td>\n",
       "      <td>% WBC that are neutrophil</td>\n",
       "    </tr>\n",
       "    <tr>\n",
       "      <th>27</th>\n",
       "      <td>%Lympho</td>\n",
       "      <td>% WBC that are lymphocyte</td>\n",
       "    </tr>\n",
       "    <tr>\n",
       "      <th>28</th>\n",
       "      <td>Protein</td>\n",
       "      <td>Total CSF protein</td>\n",
       "    </tr>\n",
       "    <tr>\n",
       "      <th>29</th>\n",
       "      <td>CSFGlucose</td>\n",
       "      <td>Level of glucose in CSF</td>\n",
       "    </tr>\n",
       "    <tr>\n",
       "      <th>30</th>\n",
       "      <td>AntiTB</td>\n",
       "      <td>Was anti-TB treatment started in this admission?</td>\n",
       "    </tr>\n",
       "    <tr>\n",
       "      <th>31</th>\n",
       "      <td>DateAntiTB</td>\n",
       "      <td>The date of starting anti-TB treatment in this admission</td>\n",
       "    </tr>\n",
       "    <tr>\n",
       "      <th>32</th>\n",
       "      <td>SteroidsStarted</td>\n",
       "      <td>Was steroid started in this admission? (Note: steroid is used to reduce inflammation but it changes transcriptional, protein and metabolomic responses)</td>\n",
       "    </tr>\n",
       "    <tr>\n",
       "      <th>33</th>\n",
       "      <td>SteroidDate</td>\n",
       "      <td>The date of starting steroid in this admission</td>\n",
       "    </tr>\n",
       "    <tr>\n",
       "      <th>34</th>\n",
       "      <td>SteroidType</td>\n",
       "      <td>Which steroid did the patient receive?</td>\n",
       "    </tr>\n",
       "    <tr>\n",
       "      <th>35</th>\n",
       "      <td>Death</td>\n",
       "      <td>Did the patient survive during the course of the study?</td>\n",
       "    </tr>\n",
       "    <tr>\n",
       "      <th>36</th>\n",
       "      <td>DateDeath</td>\n",
       "      <td>Date when the patient passed away</td>\n",
       "    </tr>\n",
       "  </tbody>\n",
       "</table>\n",
       "</div>"
      ],
      "text/plain": [
       "          PatientID  \\\n",
       "0   Birthday          \n",
       "1   Sex               \n",
       "2   PrevTB            \n",
       "3   PrevTBForm        \n",
       "4   PrevTBTreat       \n",
       "5   TBMGrade          \n",
       "6   HIVResult         \n",
       "7   CD4               \n",
       "8   ARV               \n",
       "9   UnARV             \n",
       "10  Headache          \n",
       "11  HeadacheD         \n",
       "12  Lethargy          \n",
       "13  LethargyD         \n",
       "14  Vomiting          \n",
       "15  VomitingD         \n",
       "16  Conscious         \n",
       "17  ConsciousD        \n",
       "18  OnTBTReat         \n",
       "19  DateTBTreat       \n",
       "20  DateTBTreatStop   \n",
       "21  DateLP            \n",
       "22  App1              \n",
       "23  App2              \n",
       "24  RCC               \n",
       "25  WCC               \n",
       "26  %Neutro           \n",
       "27  %Lympho           \n",
       "28  Protein           \n",
       "29  CSFGlucose        \n",
       "30  AntiTB            \n",
       "31  DateAntiTB        \n",
       "32  SteroidsStarted   \n",
       "33  SteroidDate       \n",
       "34  SteroidType       \n",
       "35  Death             \n",
       "36  DateDeath         \n",
       "\n",
       "                                                                                                                                         Randomisd study ID  \n",
       "0   Date of birth                                                                                                                                            \n",
       "1   Gender at birth                                                                                                                                          \n",
       "2   Past history of TB?                                                                                                                                      \n",
       "3   What form of TB was it in the past?  (Note: you can group any non-pulmonary as extrapulmonary for binary data)                                           \n",
       "4   Did the patient receive TB treatment in the past?                                                                                                        \n",
       "5   TBM grade (severity) at the time of admission; Grade 3 is the worst and Grade 1 is the least severe                                                      \n",
       "6   Does the patient have HIV?                                                                                                                               \n",
       "7   Number of CD4 T-cells per ml of blood                                                                                                                    \n",
       "8   Is the patient currently on antiretroviral for HIV?                                                                                                      \n",
       "9   If not currently on ARV, has the patient ever taken ARV in the past?                                                                                     \n",
       "10  Does the patient have headache?                                                                                                                          \n",
       "11  Duration of headache (days)                                                                                                                              \n",
       "12  Does the patient experience lethargy?                                                                                                                    \n",
       "13  Duration of lethargy (days)                                                                                                                              \n",
       "14  Does the patient suffer vomiting?                                                                                                                        \n",
       "15  Duration of vomiting (days)                                                                                                                              \n",
       "16  Reduced consciousness                                                                                                                                    \n",
       "17  Duration of reduced consciousness (days)                                                                                                                 \n",
       "18  Is the patient still on TB treatment at the time of admission?                                                                                           \n",
       "19  If yes, when did it start?                                                                                                                               \n",
       "20  if not, when did it stop?                                                                                                                                \n",
       "21  Date of lumbar puncture to sample CSF                                                                                                                    \n",
       "22  Appearance of the CSF (observation 1)                                                                                                                    \n",
       "23  Appearance of the CSF (observation 2)                                                                                                                    \n",
       "24  Red blood cell count                                                                                                                                     \n",
       "25  White blood cell count                                                                                                                                   \n",
       "26  % WBC that are neutrophil                                                                                                                                \n",
       "27  % WBC that are lymphocyte                                                                                                                                \n",
       "28  Total CSF protein                                                                                                                                        \n",
       "29  Level of glucose in CSF                                                                                                                                  \n",
       "30  Was anti-TB treatment started in this admission?                                                                                                         \n",
       "31  The date of starting anti-TB treatment in this admission                                                                                                 \n",
       "32  Was steroid started in this admission? (Note: steroid is used to reduce inflammation but it changes transcriptional, protein and metabolomic responses)  \n",
       "33  The date of starting steroid in this admission                                                                                                           \n",
       "34  Which steroid did the patient receive?                                                                                                                   \n",
       "35  Did the patient survive during the course of the study?                                                                                                  \n",
       "36  Date when the patient passed away                                                                                                                        "
      ]
     },
     "metadata": {},
     "output_type": "display_data"
    }
   ],
   "source": [
    "full_table(clinical_glossary)"
   ]
  },
  {
   "cell_type": "markdown",
   "metadata": {},
   "source": [
    "Perfect! Nice and computer readable format. Not much to see there.\n",
    "\n",
    "The first raw was taken as a column name, I will mitigate it reloading the data with proper headers:"
   ]
  },
  {
   "cell_type": "code",
   "execution_count": 11,
   "metadata": {},
   "outputs": [],
   "source": [
    "path = 'data/clean/clinical/glossary.csv'\n",
    "clinical_glossary.to_csv(path, index=False)\n",
    "clinical_glossary = read_csv(path, names=['variable', 'description'])"
   ]
  },
  {
   "cell_type": "code",
   "execution_count": 12,
   "metadata": {},
   "outputs": [
    {
     "data": {
      "text/html": [
       "<div>\n",
       "<style scoped>\n",
       "    .dataframe tbody tr th:only-of-type {\n",
       "        vertical-align: middle;\n",
       "    }\n",
       "\n",
       "    .dataframe tbody tr th {\n",
       "        vertical-align: top;\n",
       "    }\n",
       "\n",
       "    .dataframe thead th {\n",
       "        text-align: right;\n",
       "    }\n",
       "</style>\n",
       "<table border=\"1\" class=\"dataframe\">\n",
       "  <thead>\n",
       "    <tr style=\"text-align: right;\">\n",
       "      <th></th>\n",
       "      <th>variable</th>\n",
       "      <th>description</th>\n",
       "    </tr>\n",
       "  </thead>\n",
       "  <tbody>\n",
       "    <tr>\n",
       "      <th>0</th>\n",
       "      <td>PatientID</td>\n",
       "      <td>Randomisd study ID</td>\n",
       "    </tr>\n",
       "    <tr>\n",
       "      <th>1</th>\n",
       "      <td>Birthday</td>\n",
       "      <td>Date of birth</td>\n",
       "    </tr>\n",
       "    <tr>\n",
       "      <th>2</th>\n",
       "      <td>Sex</td>\n",
       "      <td>Gender at birth</td>\n",
       "    </tr>\n",
       "    <tr>\n",
       "      <th>3</th>\n",
       "      <td>PrevTB</td>\n",
       "      <td>Past history of TB?</td>\n",
       "    </tr>\n",
       "    <tr>\n",
       "      <th>4</th>\n",
       "      <td>PrevTBForm</td>\n",
       "      <td>What form of TB was it in the past?  (Note: yo...</td>\n",
       "    </tr>\n",
       "  </tbody>\n",
       "</table>\n",
       "</div>"
      ],
      "text/plain": [
       "     variable                                        description\n",
       "0   PatientID                                 Randomisd study ID\n",
       "1    Birthday                                      Date of birth\n",
       "2         Sex                                    Gender at birth\n",
       "3      PrevTB                                Past history of TB?\n",
       "4  PrevTBForm  What form of TB was it in the past?  (Note: yo..."
      ]
     },
     "execution_count": 12,
     "metadata": {},
     "output_type": "execute_result"
    }
   ],
   "source": [
    "clinical_glossary.head()"
   ]
  },
  {
   "cell_type": "markdown",
   "metadata": {},
   "source": [
    "And save the clean copy:"
   ]
  },
  {
   "cell_type": "code",
   "execution_count": 13,
   "metadata": {},
   "outputs": [],
   "source": [
    "clinical_glossary.to_csv(path)"
   ]
  },
  {
   "cell_type": "markdown",
   "metadata": {},
   "source": [
    "## Clinical data"
   ]
  },
  {
   "cell_type": "code",
   "execution_count": 14,
   "metadata": {},
   "outputs": [],
   "source": [
    "clinical_data = clinical_spreadsheets['Clinical MetaData']"
   ]
  },
  {
   "cell_type": "code",
   "execution_count": 15,
   "metadata": {},
   "outputs": [
    {
     "data": {
      "text/html": [
       "<div>\n",
       "<style scoped>\n",
       "    .dataframe tbody tr th:only-of-type {\n",
       "        vertical-align: middle;\n",
       "    }\n",
       "\n",
       "    .dataframe tbody tr th {\n",
       "        vertical-align: top;\n",
       "    }\n",
       "\n",
       "    .dataframe thead th {\n",
       "        text-align: right;\n",
       "    }\n",
       "</style>\n",
       "<table border=\"1\" class=\"dataframe\">\n",
       "  <thead>\n",
       "    <tr style=\"text-align: right;\">\n",
       "      <th></th>\n",
       "      <th>PatientID</th>\n",
       "      <th>Birthday</th>\n",
       "      <th>Sex</th>\n",
       "      <th>PrevTB</th>\n",
       "      <th>PrevTBForm</th>\n",
       "      <th>...</th>\n",
       "      <th>SteroidsStarted</th>\n",
       "      <th>SteroidDate</th>\n",
       "      <th>SteroidType</th>\n",
       "      <th>Death</th>\n",
       "      <th>DateDeath</th>\n",
       "    </tr>\n",
       "  </thead>\n",
       "  <tbody>\n",
       "    <tr>\n",
       "      <th>0</th>\n",
       "      <td>001.TMD</td>\n",
       "      <td>1980-01-04</td>\n",
       "      <td>M</td>\n",
       "      <td>N</td>\n",
       "      <td>NaN</td>\n",
       "      <td>...</td>\n",
       "      <td>Y</td>\n",
       "      <td>2015-02-08</td>\n",
       "      <td>Prednisone</td>\n",
       "      <td>Alive</td>\n",
       "      <td>NaT</td>\n",
       "    </tr>\n",
       "    <tr>\n",
       "      <th>1</th>\n",
       "      <td>006.CM</td>\n",
       "      <td>1966-05-05</td>\n",
       "      <td>M</td>\n",
       "      <td>Y</td>\n",
       "      <td>Pulmonary</td>\n",
       "      <td>...</td>\n",
       "      <td>N</td>\n",
       "      <td>NaT</td>\n",
       "      <td>NaN</td>\n",
       "      <td>Alive</td>\n",
       "      <td>NaT</td>\n",
       "    </tr>\n",
       "    <tr>\n",
       "      <th>2</th>\n",
       "      <td>007.TMD</td>\n",
       "      <td>1984-02-28</td>\n",
       "      <td>F</td>\n",
       "      <td>N</td>\n",
       "      <td>NaN</td>\n",
       "      <td>...</td>\n",
       "      <td>Y</td>\n",
       "      <td>2015-02-16</td>\n",
       "      <td>Dexamethasone</td>\n",
       "      <td>Alive</td>\n",
       "      <td>NaT</td>\n",
       "    </tr>\n",
       "    <tr>\n",
       "      <th>3</th>\n",
       "      <td>011.TMR</td>\n",
       "      <td>1988-03-01</td>\n",
       "      <td>F</td>\n",
       "      <td>Y</td>\n",
       "      <td>Pulmonary, TBM</td>\n",
       "      <td>...</td>\n",
       "      <td>N</td>\n",
       "      <td>NaT</td>\n",
       "      <td>NaN</td>\n",
       "      <td>Alive</td>\n",
       "      <td>NaT</td>\n",
       "    </tr>\n",
       "    <tr>\n",
       "      <th>4</th>\n",
       "      <td>012.BM</td>\n",
       "      <td>1961-01-09</td>\n",
       "      <td>M</td>\n",
       "      <td>N</td>\n",
       "      <td>NaN</td>\n",
       "      <td>...</td>\n",
       "      <td>N</td>\n",
       "      <td>NaT</td>\n",
       "      <td>NaN</td>\n",
       "      <td>Alive</td>\n",
       "      <td>NaT</td>\n",
       "    </tr>\n",
       "    <tr>\n",
       "      <th>...</th>\n",
       "      <td>...</td>\n",
       "      <td>...</td>\n",
       "      <td>...</td>\n",
       "      <td>...</td>\n",
       "      <td>...</td>\n",
       "      <td>...</td>\n",
       "      <td>...</td>\n",
       "      <td>...</td>\n",
       "      <td>...</td>\n",
       "      <td>...</td>\n",
       "      <td>...</td>\n",
       "    </tr>\n",
       "    <tr>\n",
       "      <th>90</th>\n",
       "      <td>247.CM</td>\n",
       "      <td>1977-11-10</td>\n",
       "      <td>M</td>\n",
       "      <td>Y</td>\n",
       "      <td>Pulmonary</td>\n",
       "      <td>...</td>\n",
       "      <td>N</td>\n",
       "      <td>NaT</td>\n",
       "      <td>NaN</td>\n",
       "      <td>Alive</td>\n",
       "      <td>NaT</td>\n",
       "    </tr>\n",
       "    <tr>\n",
       "      <th>91</th>\n",
       "      <td>248.TMD</td>\n",
       "      <td>1976-10-28</td>\n",
       "      <td>M</td>\n",
       "      <td>N</td>\n",
       "      <td>NaN</td>\n",
       "      <td>...</td>\n",
       "      <td>Y</td>\n",
       "      <td>2015-11-05</td>\n",
       "      <td>Prednisone</td>\n",
       "      <td>Alive</td>\n",
       "      <td>NaT</td>\n",
       "    </tr>\n",
       "    <tr>\n",
       "      <th>92</th>\n",
       "      <td>255.VM</td>\n",
       "      <td>1989-05-12</td>\n",
       "      <td>M</td>\n",
       "      <td>N</td>\n",
       "      <td>NaN</td>\n",
       "      <td>...</td>\n",
       "      <td>N</td>\n",
       "      <td>NaT</td>\n",
       "      <td>NaN</td>\n",
       "      <td>Alive</td>\n",
       "      <td>NaT</td>\n",
       "    </tr>\n",
       "    <tr>\n",
       "      <th>93</th>\n",
       "      <td>256.CM</td>\n",
       "      <td>1964-03-28</td>\n",
       "      <td>M</td>\n",
       "      <td>Y</td>\n",
       "      <td>NaN</td>\n",
       "      <td>...</td>\n",
       "      <td>Y</td>\n",
       "      <td>2015-11-10</td>\n",
       "      <td>Prednisone</td>\n",
       "      <td>Alive</td>\n",
       "      <td>NaT</td>\n",
       "    </tr>\n",
       "    <tr>\n",
       "      <th>94</th>\n",
       "      <td>261.CM</td>\n",
       "      <td>1970-02-05</td>\n",
       "      <td>F</td>\n",
       "      <td>Y</td>\n",
       "      <td>Pulmonary</td>\n",
       "      <td>...</td>\n",
       "      <td>N</td>\n",
       "      <td>NaT</td>\n",
       "      <td>NaN</td>\n",
       "      <td>Death</td>\n",
       "      <td>2015-11-27</td>\n",
       "    </tr>\n",
       "  </tbody>\n",
       "</table>\n",
       "<p>95 rows × 38 columns</p>\n",
       "</div>"
      ],
      "text/plain": [
       "   PatientID   Birthday Sex PrevTB      PrevTBForm  ... SteroidsStarted  \\\n",
       "0    001.TMD 1980-01-04   M      N             NaN  ...               Y   \n",
       "1     006.CM 1966-05-05   M      Y       Pulmonary  ...               N   \n",
       "2    007.TMD 1984-02-28   F      N             NaN  ...               Y   \n",
       "3    011.TMR 1988-03-01   F      Y  Pulmonary, TBM  ...               N   \n",
       "4     012.BM 1961-01-09   M      N             NaN  ...               N   \n",
       "..       ...        ...  ..    ...             ...  ...             ...   \n",
       "90    247.CM 1977-11-10   M      Y       Pulmonary  ...               N   \n",
       "91   248.TMD 1976-10-28   M      N             NaN  ...               Y   \n",
       "92    255.VM 1989-05-12   M      N             NaN  ...               N   \n",
       "93    256.CM 1964-03-28   M      Y             NaN  ...               Y   \n",
       "94    261.CM 1970-02-05   F      Y       Pulmonary  ...               N   \n",
       "\n",
       "    SteroidDate    SteroidType  Death  DateDeath  \n",
       "0    2015-02-08     Prednisone  Alive        NaT  \n",
       "1           NaT            NaN  Alive        NaT  \n",
       "2    2015-02-16  Dexamethasone  Alive        NaT  \n",
       "3           NaT            NaN  Alive        NaT  \n",
       "4           NaT            NaN  Alive        NaT  \n",
       "..          ...            ...    ...        ...  \n",
       "90          NaT            NaN  Alive        NaT  \n",
       "91   2015-11-05     Prednisone  Alive        NaT  \n",
       "92          NaT            NaN  Alive        NaT  \n",
       "93   2015-11-10     Prednisone  Alive        NaT  \n",
       "94          NaT            NaN  Death 2015-11-27  \n",
       "\n",
       "[95 rows x 38 columns]"
      ]
     },
     "execution_count": 15,
     "metadata": {},
     "output_type": "execute_result"
    }
   ],
   "source": [
    "clinical_data"
   ]
  },
  {
   "cell_type": "code",
   "execution_count": 16,
   "metadata": {},
   "outputs": [],
   "source": [
    "from helpers.presentation import show_list, compare_sets"
   ]
  },
  {
   "cell_type": "markdown",
   "metadata": {},
   "source": [
    "### Do we have description for each column?"
   ]
  },
  {
   "cell_type": "code",
   "execution_count": 17,
   "metadata": {},
   "outputs": [
    {
     "data": {
      "text/html": [
       "The first set has additional elements: {'OnTBTreat'}<br>The second set has additional elements: {'OnTBTReat'}"
      ],
      "text/plain": [
       "<IPython.core.display.HTML object>"
      ]
     },
     "execution_count": 17,
     "metadata": {},
     "output_type": "execute_result"
    }
   ],
   "source": [
    "compare_sets(clinical_data.columns, clinical_glossary.variable)"
   ]
  },
  {
   "cell_type": "markdown",
   "metadata": {},
   "source": [
    "Okay, so there is a typo the glossary, I will fix that so to make data merges easier in the future:"
   ]
  },
  {
   "cell_type": "code",
   "execution_count": 18,
   "metadata": {},
   "outputs": [],
   "source": [
    "clinical_glossary.variable = clinical_glossary.variable.replace({'OnTBTReat': 'OnTBTreat'})\n",
    "clinical_glossary.to_csv(path, index=False)"
   ]
  },
  {
   "cell_type": "markdown",
   "metadata": {},
   "source": [
    "Should work now:"
   ]
  },
  {
   "cell_type": "code",
   "execution_count": 19,
   "metadata": {},
   "outputs": [],
   "source": [
    "assert set(clinical_data.columns) == set(clinical_glossary.variable)"
   ]
  },
  {
   "cell_type": "markdown",
   "metadata": {},
   "source": [
    "# Data exploration and reformatting"
   ]
  },
  {
   "cell_type": "markdown",
   "metadata": {},
   "source": [
    "I do not see an atomic column with condition; for simplicity I will create it now:"
   ]
  },
  {
   "cell_type": "code",
   "execution_count": 20,
   "metadata": {},
   "outputs": [],
   "source": [
    "clinical_data['condition'] = clinical_data.PatientID.str.split('.').str[1]"
   ]
  },
  {
   "cell_type": "code",
   "execution_count": 21,
   "metadata": {},
   "outputs": [
    {
     "data": {
      "text/plain": [
       "CM     27\n",
       "HC     25\n",
       "TMD    18\n",
       "TMR     9\n",
       "VM      8\n",
       "TMS     6\n",
       "BM      2\n",
       "Name: condition, dtype: int64"
      ]
     },
     "execution_count": 21,
     "metadata": {},
     "output_type": "execute_result"
    }
   ],
   "source": [
    "clinical_data['condition'].value_counts()"
   ]
  },
  {
   "cell_type": "markdown",
   "metadata": {},
   "source": [
    "## Getting to know the variables"
   ]
  },
  {
   "cell_type": "markdown",
   "metadata": {},
   "source": [
    "There are only 37 variables so I will explore each of these, one-by-one.\n",
    "\n",
    "The descriptions from glossary will come in handy:"
   ]
  },
  {
   "cell_type": "code",
   "execution_count": 22,
   "metadata": {},
   "outputs": [],
   "source": [
    "glossary = clinical_glossary.set_index('variable').description"
   ]
  },
  {
   "cell_type": "markdown",
   "metadata": {},
   "source": [
    "### 1. PatientID"
   ]
  },
  {
   "cell_type": "markdown",
   "metadata": {},
   "source": [
    "We should have data for all patients:"
   ]
  },
  {
   "cell_type": "code",
   "execution_count": 23,
   "metadata": {},
   "outputs": [],
   "source": [
    "samples_list = read_csv('data/clean/samples_list.csv')"
   ]
  },
  {
   "cell_type": "code",
   "execution_count": 24,
   "metadata": {},
   "outputs": [
    {
     "data": {
      "text/html": [
       "The sets are equal"
      ],
      "text/plain": [
       "<IPython.core.display.HTML object>"
      ]
     },
     "execution_count": 24,
     "metadata": {},
     "output_type": "execute_result"
    }
   ],
   "source": [
    "compare_sets(samples_list.sample_id, clinical_data.PatientID)"
   ]
  },
  {
   "cell_type": "markdown",
   "metadata": {},
   "source": [
    "Great!"
   ]
  },
  {
   "cell_type": "code",
   "execution_count": 25,
   "metadata": {},
   "outputs": [
    {
     "data": {
      "text/plain": [
       "95"
      ]
     },
     "execution_count": 25,
     "metadata": {},
     "output_type": "execute_result"
    }
   ],
   "source": [
    "len(samples_list.sample_id)"
   ]
  },
  {
   "cell_type": "markdown",
   "metadata": {},
   "source": [
    "### 2. Birthday"
   ]
  },
  {
   "cell_type": "code",
   "execution_count": 26,
   "metadata": {},
   "outputs": [
    {
     "data": {
      "image/png": "[encoded data removed]",
      "text/plain": [
       "<Figure size 432x288 with 1 Axes>"
      ]
     },
     "metadata": {
      "needs_background": "light"
     },
     "output_type": "display_data"
    }
   ],
   "source": [
    "clinical_data.Birthday.plot();"
   ]
  },
  {
   "cell_type": "code",
   "execution_count": 27,
   "metadata": {},
   "outputs": [
    {
     "data": {
      "text/plain": [
       "count                      95\n",
       "unique                     95\n",
       "top       1971-03-16 00:00:00\n",
       "freq                        1\n",
       "first     1935-06-25 00:00:00\n",
       "last      1996-02-10 00:00:00\n",
       "Name: Birthday, dtype: object"
      ]
     },
     "execution_count": 27,
     "metadata": {},
     "output_type": "execute_result"
    }
   ],
   "source": [
    "clinical_data.Birthday.describe()"
   ]
  },
  {
   "cell_type": "markdown",
   "metadata": {},
   "source": [
    "The value ranges are plausible (as the has data from ~2015, the oldest participant had about 80 years), no suspicious duplicates."
   ]
  },
  {
   "cell_type": "markdown",
   "metadata": {},
   "source": [
    "### 3. History of TB"
   ]
  },
  {
   "cell_type": "markdown",
   "metadata": {},
   "source": [
    "PrevTB is expected to be a binary column:"
   ]
  },
  {
   "cell_type": "code",
   "execution_count": 28,
   "metadata": {},
   "outputs": [
    {
     "data": {
      "text/plain": [
       "{'N', 'Unknown', 'Y', nan}"
      ]
     },
     "execution_count": 28,
     "metadata": {},
     "output_type": "execute_result"
    }
   ],
   "source": [
    "set(clinical_data.PrevTB)"
   ]
  },
  {
   "cell_type": "code",
   "execution_count": 29,
   "metadata": {},
   "outputs": [
    {
     "data": {
      "text/html": [
       "<div>\n",
       "<style scoped>\n",
       "    .dataframe tbody tr th:only-of-type {\n",
       "        vertical-align: middle;\n",
       "    }\n",
       "\n",
       "    .dataframe tbody tr th {\n",
       "        vertical-align: top;\n",
       "    }\n",
       "\n",
       "    .dataframe thead th {\n",
       "        text-align: right;\n",
       "    }\n",
       "</style>\n",
       "<table border=\"1\" class=\"dataframe\">\n",
       "  <thead>\n",
       "    <tr style=\"text-align: right;\">\n",
       "      <th></th>\n",
       "      <th>PatientID</th>\n",
       "      <th>Birthday</th>\n",
       "      <th>Sex</th>\n",
       "      <th>PrevTB</th>\n",
       "      <th>PrevTBForm</th>\n",
       "      <th>...</th>\n",
       "      <th>SteroidDate</th>\n",
       "      <th>SteroidType</th>\n",
       "      <th>Death</th>\n",
       "      <th>DateDeath</th>\n",
       "      <th>condition</th>\n",
       "    </tr>\n",
       "  </thead>\n",
       "  <tbody>\n",
       "    <tr>\n",
       "      <th>6</th>\n",
       "      <td>015.CM</td>\n",
       "      <td>1980-09-15</td>\n",
       "      <td>F</td>\n",
       "      <td>NaN</td>\n",
       "      <td>NaN</td>\n",
       "      <td>...</td>\n",
       "      <td>NaT</td>\n",
       "      <td>NaN</td>\n",
       "      <td>Death</td>\n",
       "      <td>2015-05-04</td>\n",
       "      <td>CM</td>\n",
       "    </tr>\n",
       "    <tr>\n",
       "      <th>21</th>\n",
       "      <td>049.TMS</td>\n",
       "      <td>1959-01-25</td>\n",
       "      <td>M</td>\n",
       "      <td>Unknown</td>\n",
       "      <td>NaN</td>\n",
       "      <td>...</td>\n",
       "      <td>2015-03-18</td>\n",
       "      <td>Dexamethasone</td>\n",
       "      <td>Death</td>\n",
       "      <td>2015-03-24</td>\n",
       "      <td>TMS</td>\n",
       "    </tr>\n",
       "    <tr>\n",
       "      <th>31</th>\n",
       "      <td>080.HC</td>\n",
       "      <td>1935-06-25</td>\n",
       "      <td>F</td>\n",
       "      <td>Unknown</td>\n",
       "      <td>NaN</td>\n",
       "      <td>...</td>\n",
       "      <td>NaT</td>\n",
       "      <td>NaN</td>\n",
       "      <td>Alive</td>\n",
       "      <td>NaT</td>\n",
       "      <td>HC</td>\n",
       "    </tr>\n",
       "  </tbody>\n",
       "</table>\n",
       "<p>3 rows × 39 columns</p>\n",
       "</div>"
      ],
      "text/plain": [
       "   PatientID   Birthday Sex   PrevTB PrevTBForm  ... SteroidDate  \\\n",
       "6     015.CM 1980-09-15   F      NaN        NaN  ...         NaT   \n",
       "21   049.TMS 1959-01-25   M  Unknown        NaN  ...  2015-03-18   \n",
       "31    080.HC 1935-06-25   F  Unknown        NaN  ...         NaT   \n",
       "\n",
       "      SteroidType  Death  DateDeath condition  \n",
       "6             NaN  Death 2015-05-04        CM  \n",
       "21  Dexamethasone  Death 2015-03-24       TMS  \n",
       "31            NaN  Alive        NaT        HC  \n",
       "\n",
       "[3 rows x 39 columns]"
      ]
     },
     "execution_count": 29,
     "metadata": {},
     "output_type": "execute_result"
    }
   ],
   "source": [
    "clinical_data[~clinical_data.PrevTB.isin(['N', 'Y'])]"
   ]
  },
  {
   "cell_type": "markdown",
   "metadata": {},
   "source": [
    "I assume that the 'Unknown' and missing values convey the same information of the history of TB not being known."
   ]
  },
  {
   "cell_type": "code",
   "execution_count": 30,
   "metadata": {},
   "outputs": [],
   "source": [
    "clinical_data.PrevTB = clinical_data.PrevTB.replace({'N': False, 'Y': True, 'Unknown': nan})"
   ]
  },
  {
   "cell_type": "code",
   "execution_count": 31,
   "metadata": {},
   "outputs": [
    {
     "data": {
      "text/html": [
       "<div>\n",
       "<style scoped>\n",
       "    .dataframe tbody tr th:only-of-type {\n",
       "        vertical-align: middle;\n",
       "    }\n",
       "\n",
       "    .dataframe tbody tr th {\n",
       "        vertical-align: top;\n",
       "    }\n",
       "\n",
       "    .dataframe thead th {\n",
       "        text-align: right;\n",
       "    }\n",
       "</style>\n",
       "<table border=\"1\" class=\"dataframe\">\n",
       "  <thead>\n",
       "    <tr style=\"text-align: right;\">\n",
       "      <th></th>\n",
       "      <th>PrevTB</th>\n",
       "    </tr>\n",
       "  </thead>\n",
       "  <tbody>\n",
       "    <tr>\n",
       "      <th>False</th>\n",
       "      <td>52</td>\n",
       "    </tr>\n",
       "    <tr>\n",
       "      <th>True</th>\n",
       "      <td>40</td>\n",
       "    </tr>\n",
       "    <tr>\n",
       "      <th>Unknown</th>\n",
       "      <td>3</td>\n",
       "    </tr>\n",
       "  </tbody>\n",
       "</table>\n",
       "</div>"
      ],
      "text/plain": [
       "         PrevTB\n",
       "False        52\n",
       "True         40\n",
       "Unknown       3"
      ]
     },
     "execution_count": 31,
     "metadata": {},
     "output_type": "execute_result"
    }
   ],
   "source": [
    "counts = clinical_data.PrevTB.fillna('Unknown').value_counts()\n",
    "counts.to_frame()"
   ]
  },
  {
   "cell_type": "code",
   "execution_count": 32,
   "metadata": {},
   "outputs": [
    {
     "data": {
      "image/png": "[encoded data removed]",
      "text/plain": [
       "<Figure size 432x288 with 1 Axes>"
      ]
     },
     "metadata": {
      "needs_background": "light"
     },
     "output_type": "display_data"
    }
   ],
   "source": [
    "counts.plot(kind='bar');"
   ]
  },
  {
   "cell_type": "code",
   "execution_count": 33,
   "metadata": {},
   "outputs": [],
   "source": [
    "patients_with_history_of_tb = clinical_data[clinical_data.PrevTB == True].PatientID"
   ]
  },
  {
   "cell_type": "markdown",
   "metadata": {},
   "source": [
    "### 4. Form of previous TB"
   ]
  },
  {
   "cell_type": "code",
   "execution_count": 34,
   "metadata": {},
   "outputs": [
    {
     "data": {
      "text/plain": [
       "'What form of TB was it in the past?  (Note: you can group any non-pulmonary as extrapulmonary for binary data)'"
      ]
     },
     "execution_count": 34,
     "metadata": {},
     "output_type": "execute_result"
    }
   ],
   "source": [
    "glossary['PrevTBForm']"
   ]
  },
  {
   "cell_type": "code",
   "execution_count": 35,
   "metadata": {},
   "outputs": [
    {
     "data": {
      "text/html": [
       "<div>\n",
       "<style scoped>\n",
       "    .dataframe tbody tr th:only-of-type {\n",
       "        vertical-align: middle;\n",
       "    }\n",
       "\n",
       "    .dataframe tbody tr th {\n",
       "        vertical-align: top;\n",
       "    }\n",
       "\n",
       "    .dataframe thead th {\n",
       "        text-align: right;\n",
       "    }\n",
       "</style>\n",
       "<table border=\"1\" class=\"dataframe\">\n",
       "  <thead>\n",
       "    <tr style=\"text-align: right;\">\n",
       "      <th></th>\n",
       "      <th>PrevTBForm</th>\n",
       "    </tr>\n",
       "  </thead>\n",
       "  <tbody>\n",
       "    <tr>\n",
       "      <th>Pulmonary</th>\n",
       "      <td>35</td>\n",
       "    </tr>\n",
       "    <tr>\n",
       "      <th>Pulmonary, Pleural</th>\n",
       "      <td>1</td>\n",
       "    </tr>\n",
       "    <tr>\n",
       "      <th>Pulmonary, TBM</th>\n",
       "      <td>1</td>\n",
       "    </tr>\n",
       "    <tr>\n",
       "      <th>Pulmonary, Meningeal</th>\n",
       "      <td>1</td>\n",
       "    </tr>\n",
       "    <tr>\n",
       "      <th>Meningeal</th>\n",
       "      <td>1</td>\n",
       "    </tr>\n",
       "  </tbody>\n",
       "</table>\n",
       "</div>"
      ],
      "text/plain": [
       "                      PrevTBForm\n",
       "Pulmonary                     35\n",
       "Pulmonary, Pleural             1\n",
       "Pulmonary, TBM                 1\n",
       "Pulmonary, Meningeal           1\n",
       "Meningeal                      1"
      ]
     },
     "execution_count": 35,
     "metadata": {},
     "output_type": "execute_result"
    }
   ],
   "source": [
    "clinical_data['PrevTBForm'].value_counts().to_frame()"
   ]
  },
  {
   "cell_type": "markdown",
   "metadata": {},
   "source": [
    "This column does not satisfy the first normal form - I will add binary columns (as suggested in the description):"
   ]
  },
  {
   "cell_type": "code",
   "execution_count": 36,
   "metadata": {},
   "outputs": [],
   "source": [
    "clinical_data['was_previous_tb_pulmonary'] = clinical_data.apply(lambda patient:\n",
    "    # ignore patients with no history of TB (set the value to NaN):\n",
    "    nan if not (patient.PrevTB == True) else\n",
    "    'Pulmonary' in str(patient.PrevTBForm)\n",
    ", axis=1)"
   ]
  },
  {
   "cell_type": "markdown",
   "metadata": {},
   "source": [
    "**To consult:** does pleural count as pulmonary or as extrapulmonary?"
   ]
  },
  {
   "cell_type": "code",
   "execution_count": 37,
   "metadata": {},
   "outputs": [],
   "source": [
    "clinical_data['was_previous_tb_extrapulmonary'] = clinical_data.apply(lambda patient:\n",
    "    # ignore patients with no history of TB (set the value to NaN)\n",
    "    nan if not (patient.PrevTB == True) else\n",
    "    (\n",
    "        'TBM' in str(patient.PrevTBForm)\n",
    "        or\n",
    "        'Meningeal' in str(patient.PrevTBForm)\n",
    "    )\n",
    ", axis=1)"
   ]
  },
  {
   "cell_type": "markdown",
   "metadata": {},
   "source": [
    "I will not create a separate column for *meningeal* as in any case it would be too strongly correlated with *extrapulmonary* - I do not think that the single additional observation (potential inclusion of *pleural* patient in the *extrapulmonary* cohort) would lead to a big change - and if so, it would be an outlier anyway."
   ]
  },
  {
   "cell_type": "code",
   "execution_count": 38,
   "metadata": {},
   "outputs": [
    {
     "data": {
      "text/html": [
       "<div>\n",
       "<style scoped>\n",
       "    .dataframe tbody tr th:only-of-type {\n",
       "        vertical-align: middle;\n",
       "    }\n",
       "\n",
       "    .dataframe tbody tr th {\n",
       "        vertical-align: top;\n",
       "    }\n",
       "\n",
       "    .dataframe thead th {\n",
       "        text-align: right;\n",
       "    }\n",
       "</style>\n",
       "<table border=\"1\" class=\"dataframe\">\n",
       "  <thead>\n",
       "    <tr style=\"text-align: right;\">\n",
       "      <th></th>\n",
       "      <th>PrevTB</th>\n",
       "      <th>PrevTBForm</th>\n",
       "      <th>was_previous_tb_pulmonary</th>\n",
       "      <th>was_previous_tb_extrapulmonary</th>\n",
       "    </tr>\n",
       "  </thead>\n",
       "  <tbody>\n",
       "    <tr>\n",
       "      <th>0</th>\n",
       "      <td>False</td>\n",
       "      <td>NaN</td>\n",
       "      <td>NaN</td>\n",
       "      <td>NaN</td>\n",
       "    </tr>\n",
       "    <tr>\n",
       "      <th>1</th>\n",
       "      <td>True</td>\n",
       "      <td>Pulmonary</td>\n",
       "      <td>True</td>\n",
       "      <td>False</td>\n",
       "    </tr>\n",
       "    <tr>\n",
       "      <th>2</th>\n",
       "      <td>False</td>\n",
       "      <td>NaN</td>\n",
       "      <td>NaN</td>\n",
       "      <td>NaN</td>\n",
       "    </tr>\n",
       "    <tr>\n",
       "      <th>3</th>\n",
       "      <td>True</td>\n",
       "      <td>Pulmonary, TBM</td>\n",
       "      <td>True</td>\n",
       "      <td>True</td>\n",
       "    </tr>\n",
       "    <tr>\n",
       "      <th>4</th>\n",
       "      <td>False</td>\n",
       "      <td>NaN</td>\n",
       "      <td>NaN</td>\n",
       "      <td>NaN</td>\n",
       "    </tr>\n",
       "    <tr>\n",
       "      <th>5</th>\n",
       "      <td>False</td>\n",
       "      <td>NaN</td>\n",
       "      <td>NaN</td>\n",
       "      <td>NaN</td>\n",
       "    </tr>\n",
       "    <tr>\n",
       "      <th>6</th>\n",
       "      <td>NaN</td>\n",
       "      <td>NaN</td>\n",
       "      <td>NaN</td>\n",
       "      <td>NaN</td>\n",
       "    </tr>\n",
       "    <tr>\n",
       "      <th>7</th>\n",
       "      <td>True</td>\n",
       "      <td>Pulmonary</td>\n",
       "      <td>True</td>\n",
       "      <td>False</td>\n",
       "    </tr>\n",
       "  </tbody>\n",
       "</table>\n",
       "</div>"
      ],
      "text/plain": [
       "  PrevTB      PrevTBForm was_previous_tb_pulmonary  \\\n",
       "0  False             NaN                       NaN   \n",
       "1   True       Pulmonary                      True   \n",
       "2  False             NaN                       NaN   \n",
       "3   True  Pulmonary, TBM                      True   \n",
       "4  False             NaN                       NaN   \n",
       "5  False             NaN                       NaN   \n",
       "6    NaN             NaN                       NaN   \n",
       "7   True       Pulmonary                      True   \n",
       "\n",
       "  was_previous_tb_extrapulmonary  \n",
       "0                            NaN  \n",
       "1                          False  \n",
       "2                            NaN  \n",
       "3                           True  \n",
       "4                            NaN  \n",
       "5                            NaN  \n",
       "6                            NaN  \n",
       "7                          False  "
      ]
     },
     "execution_count": 38,
     "metadata": {},
     "output_type": "execute_result"
    }
   ],
   "source": [
    "clinical_data[['PrevTB', 'PrevTBForm', 'was_previous_tb_pulmonary', 'was_previous_tb_extrapulmonary']].head(n=8)"
   ]
  },
  {
   "cell_type": "markdown",
   "metadata": {},
   "source": [
    "### Sanity check"
   ]
  },
  {
   "cell_type": "markdown",
   "metadata": {},
   "source": [
    "If patient has a form of previous TB given, they should be marked as having history of TB:"
   ]
  },
  {
   "cell_type": "code",
   "execution_count": 39,
   "metadata": {},
   "outputs": [],
   "source": [
    "patients_with_previous_tb_form_data = clinical_data[~clinical_data.PrevTBForm.isnull()].PatientID\n",
    "assert not set(patients_with_previous_tb_form_data) - set(patients_with_history_of_tb)"
   ]
  },
  {
   "cell_type": "markdown",
   "metadata": {},
   "source": [
    "And it is indeed the case. How many patients have known history but no subtype given?"
   ]
  },
  {
   "cell_type": "code",
   "execution_count": 40,
   "metadata": {},
   "outputs": [
    {
     "data": {
      "text/html": [
       "The first set has additional elements: {'256.CM'}"
      ],
      "text/plain": [
       "<IPython.core.display.HTML object>"
      ]
     },
     "execution_count": 40,
     "metadata": {},
     "output_type": "execute_result"
    }
   ],
   "source": [
    "compare_sets(patients_with_history_of_tb, patients_with_previous_tb_form_data)"
   ]
  },
  {
   "cell_type": "markdown",
   "metadata": {},
   "source": [
    "Just one - that's very good!"
   ]
  },
  {
   "cell_type": "markdown",
   "metadata": {},
   "source": [
    "### 4. Treatment for the previous TB"
   ]
  },
  {
   "cell_type": "code",
   "execution_count": 41,
   "metadata": {},
   "outputs": [
    {
     "data": {
      "text/plain": [
       "'Did the patient receive TB treatment in the past?'"
      ]
     },
     "execution_count": 41,
     "metadata": {},
     "output_type": "execute_result"
    }
   ],
   "source": [
    "glossary['PrevTBTreat']"
   ]
  },
  {
   "cell_type": "code",
   "execution_count": 42,
   "metadata": {},
   "outputs": [
    {
     "data": {
      "text/plain": [
       "Y          40\n",
       "Unknown     2\n",
       "N           1\n",
       "Name: PrevTBTreat, dtype: int64"
      ]
     },
     "execution_count": 42,
     "metadata": {},
     "output_type": "execute_result"
    }
   ],
   "source": [
    "clinical_data['PrevTBTreat'].value_counts()"
   ]
  },
  {
   "cell_type": "markdown",
   "metadata": {},
   "source": [
    "I will create an additional, binary column for the previous treatment, with a different encoding for missing values:"
   ]
  },
  {
   "cell_type": "code",
   "execution_count": 43,
   "metadata": {},
   "outputs": [],
   "source": [
    "clinical_data['previous_tb_treatment'] = clinical_data.apply(lambda patient:\n",
    "    nan if not (patient.PrevTB == True) else\n",
    "    (\n",
    "        nan if patient.PrevTBTreat == 'Unknown' else\n",
    "        patient.PrevTBTreat == 'Y'\n",
    "    )\n",
    ", axis=1)"
   ]
  },
  {
   "cell_type": "code",
   "execution_count": 44,
   "metadata": {},
   "outputs": [
    {
     "data": {
      "text/html": [
       "<div>\n",
       "<style scoped>\n",
       "    .dataframe tbody tr th:only-of-type {\n",
       "        vertical-align: middle;\n",
       "    }\n",
       "\n",
       "    .dataframe tbody tr th {\n",
       "        vertical-align: top;\n",
       "    }\n",
       "\n",
       "    .dataframe thead th {\n",
       "        text-align: right;\n",
       "    }\n",
       "</style>\n",
       "<table border=\"1\" class=\"dataframe\">\n",
       "  <thead>\n",
       "    <tr style=\"text-align: right;\">\n",
       "      <th></th>\n",
       "      <th>PatientID</th>\n",
       "      <th>PrevTB</th>\n",
       "      <th>PrevTBTreat</th>\n",
       "      <th>previous_tb_treatment</th>\n",
       "    </tr>\n",
       "  </thead>\n",
       "  <tbody>\n",
       "    <tr>\n",
       "      <th>0</th>\n",
       "      <td>001.TMD</td>\n",
       "      <td>False</td>\n",
       "      <td>NaN</td>\n",
       "      <td>NaN</td>\n",
       "    </tr>\n",
       "    <tr>\n",
       "      <th>1</th>\n",
       "      <td>006.CM</td>\n",
       "      <td>True</td>\n",
       "      <td>Y</td>\n",
       "      <td>True</td>\n",
       "    </tr>\n",
       "  </tbody>\n",
       "</table>\n",
       "</div>"
      ],
      "text/plain": [
       "  PatientID PrevTB PrevTBTreat previous_tb_treatment\n",
       "0   001.TMD  False         NaN                   NaN\n",
       "1    006.CM   True           Y                  True"
      ]
     },
     "execution_count": 44,
     "metadata": {},
     "output_type": "execute_result"
    }
   ],
   "source": [
    "subset = clinical_data[['PatientID', 'PrevTB', 'PrevTBTreat', 'previous_tb_treatment']]\n",
    "subset.head(n=2)"
   ]
  },
  {
   "cell_type": "code",
   "execution_count": 45,
   "metadata": {},
   "outputs": [
    {
     "data": {
      "text/html": [
       "<div>\n",
       "<style scoped>\n",
       "    .dataframe tbody tr th:only-of-type {\n",
       "        vertical-align: middle;\n",
       "    }\n",
       "\n",
       "    .dataframe tbody tr th {\n",
       "        vertical-align: top;\n",
       "    }\n",
       "\n",
       "    .dataframe thead th {\n",
       "        text-align: right;\n",
       "    }\n",
       "</style>\n",
       "<table border=\"1\" class=\"dataframe\">\n",
       "  <thead>\n",
       "    <tr style=\"text-align: right;\">\n",
       "      <th></th>\n",
       "      <th>PatientID</th>\n",
       "      <th>PrevTB</th>\n",
       "      <th>PrevTBTreat</th>\n",
       "      <th>previous_tb_treatment</th>\n",
       "    </tr>\n",
       "  </thead>\n",
       "  <tbody>\n",
       "    <tr>\n",
       "      <th>55</th>\n",
       "      <td>138.HC</td>\n",
       "      <td>False</td>\n",
       "      <td>NaN</td>\n",
       "      <td>NaN</td>\n",
       "    </tr>\n",
       "    <tr>\n",
       "      <th>56</th>\n",
       "      <td>145.CM</td>\n",
       "      <td>True</td>\n",
       "      <td>Y</td>\n",
       "      <td>True</td>\n",
       "    </tr>\n",
       "    <tr>\n",
       "      <th>57</th>\n",
       "      <td>146.CM</td>\n",
       "      <td>True</td>\n",
       "      <td>Y</td>\n",
       "      <td>True</td>\n",
       "    </tr>\n",
       "    <tr>\n",
       "      <th>58</th>\n",
       "      <td>148.HC</td>\n",
       "      <td>False</td>\n",
       "      <td>N</td>\n",
       "      <td>NaN</td>\n",
       "    </tr>\n",
       "    <tr>\n",
       "      <th>59</th>\n",
       "      <td>149.TMD</td>\n",
       "      <td>False</td>\n",
       "      <td>NaN</td>\n",
       "      <td>NaN</td>\n",
       "    </tr>\n",
       "    <tr>\n",
       "      <th>60</th>\n",
       "      <td>151.TMD</td>\n",
       "      <td>False</td>\n",
       "      <td>NaN</td>\n",
       "      <td>NaN</td>\n",
       "    </tr>\n",
       "    <tr>\n",
       "      <th>61</th>\n",
       "      <td>153.CM</td>\n",
       "      <td>True</td>\n",
       "      <td>Y</td>\n",
       "      <td>True</td>\n",
       "    </tr>\n",
       "    <tr>\n",
       "      <th>62</th>\n",
       "      <td>154.VM</td>\n",
       "      <td>True</td>\n",
       "      <td>Y</td>\n",
       "      <td>True</td>\n",
       "    </tr>\n",
       "  </tbody>\n",
       "</table>\n",
       "</div>"
      ],
      "text/plain": [
       "   PatientID PrevTB PrevTBTreat previous_tb_treatment\n",
       "55    138.HC  False         NaN                   NaN\n",
       "56    145.CM   True           Y                  True\n",
       "57    146.CM   True           Y                  True\n",
       "58    148.HC  False           N                   NaN\n",
       "59   149.TMD  False         NaN                   NaN\n",
       "60   151.TMD  False         NaN                   NaN\n",
       "61    153.CM   True           Y                  True\n",
       "62    154.VM   True           Y                  True"
      ]
     },
     "execution_count": 45,
     "metadata": {},
     "output_type": "execute_result"
    }
   ],
   "source": [
    "subset.tail(40).head(8)"
   ]
  },
  {
   "cell_type": "markdown",
   "metadata": {},
   "source": [
    "An example of the advantage of the new column is that `148.HC` (58th row) has `NaN` assigned because this patient has no history of TB. The original, `PrevTBTreat` column has 'N' value for this patient. This may be slightly suspicious, given that some other patients (e.g. `149.TMD`/59th row) who also have no history of TB have `NaN` in the original column."
   ]
  },
  {
   "cell_type": "markdown",
   "metadata": {},
   "source": [
    "### Sanity check"
   ]
  },
  {
   "cell_type": "code",
   "execution_count": 46,
   "metadata": {},
   "outputs": [],
   "source": [
    "patients_with_previous_tb_treatment = clinical_data[clinical_data.PrevTBTreat == 'Y'].PatientID\n",
    "assert not set(patients_with_previous_tb_treatment) - set(patients_with_history_of_tb)"
   ]
  },
  {
   "cell_type": "markdown",
   "metadata": {},
   "source": [
    "### 5. Grade of TBM"
   ]
  },
  {
   "cell_type": "code",
   "execution_count": 47,
   "metadata": {},
   "outputs": [
    {
     "data": {
      "text/plain": [
       "'TBM grade (severity) at the time of admission; Grade 3 is the worst and Grade 1 is the least severe'"
      ]
     },
     "execution_count": 47,
     "metadata": {},
     "output_type": "execute_result"
    }
   ],
   "source": [
    "glossary['TBMGrade']"
   ]
  },
  {
   "cell_type": "code",
   "execution_count": 48,
   "metadata": {},
   "outputs": [
    {
     "data": {
      "text/plain": [
       "1    62\n",
       "2    31\n",
       "3     2\n",
       "Name: TBMGrade, dtype: int64"
      ]
     },
     "execution_count": 48,
     "metadata": {},
     "output_type": "execute_result"
    }
   ],
   "source": [
    "clinical_data['TBMGrade'].value_counts()"
   ]
  },
  {
   "cell_type": "markdown",
   "metadata": {},
   "source": [
    "Already in numeric format, that's great.\n",
    "\n",
    "**Note:** only two patients with grade three!"
   ]
  },
  {
   "cell_type": "markdown",
   "metadata": {},
   "source": [
    "### 6. HIV Result"
   ]
  },
  {
   "cell_type": "code",
   "execution_count": 49,
   "metadata": {},
   "outputs": [
    {
     "data": {
      "text/plain": [
       "'Does the patient have HIV?'"
      ]
     },
     "execution_count": 49,
     "metadata": {},
     "output_type": "execute_result"
    }
   ],
   "source": [
    "glossary['HIVResult']"
   ]
  },
  {
   "cell_type": "code",
   "execution_count": 50,
   "metadata": {},
   "outputs": [
    {
     "data": {
      "text/plain": [
       "Positive    79\n",
       "Negative    16\n",
       "Name: HIVResult, dtype: int64"
      ]
     },
     "execution_count": 50,
     "metadata": {},
     "output_type": "execute_result"
    }
   ],
   "source": [
    "clinical_data['HIVResult'].value_counts()"
   ]
  },
  {
   "cell_type": "markdown",
   "metadata": {},
   "source": [
    "### 7. CD4"
   ]
  },
  {
   "cell_type": "code",
   "execution_count": 51,
   "metadata": {},
   "outputs": [
    {
     "data": {
      "text/plain": [
       "'Number of CD4 T-cells per ml of blood'"
      ]
     },
     "execution_count": 51,
     "metadata": {},
     "output_type": "execute_result"
    }
   ],
   "source": [
    "glossary['CD4']"
   ]
  },
  {
   "cell_type": "markdown",
   "metadata": {},
   "source": [
    "Distribution is skewed towards zero:"
   ]
  },
  {
   "cell_type": "code",
   "execution_count": 52,
   "metadata": {},
   "outputs": [
    {
     "data": {
      "image/png": "[encoded data removed]",
      "text/plain": [
       "<Figure size 432x288 with 1 Axes>"
      ]
     },
     "metadata": {
      "needs_background": "light"
     },
     "output_type": "display_data"
    }
   ],
   "source": [
    "clinical_data['CD4'].hist();"
   ]
  },
  {
   "cell_type": "code",
   "execution_count": 53,
   "metadata": {},
   "outputs": [
    {
     "data": {
      "text/plain": [
       "count     78.000000\n",
       "mean     196.076923\n",
       "std      202.018886\n",
       "min        2.000000\n",
       "25%       51.250000\n",
       "50%      114.000000\n",
       "75%      273.250000\n",
       "max      833.000000\n",
       "Name: CD4, dtype: float64"
      ]
     },
     "execution_count": 53,
     "metadata": {},
     "output_type": "execute_result"
    }
   ],
   "source": [
    "clinical_data['CD4'].describe()"
   ]
  },
  {
   "cell_type": "markdown",
   "metadata": {},
   "source": [
    "And there are data for 78/95 patients."
   ]
  },
  {
   "cell_type": "markdown",
   "metadata": {},
   "source": [
    "A quick search tells me that CD4 count is related to HIV/AIDS. A [US governmental site](https://www.hiv.va.gov/patient/diagnosis/labs-CD4-count.asp) tells me that 200 is a threshold for AIDS diagnosis but they do not give units; I am going to find a more accurate and reliable source and also read [PMC3729334](https://www.ncbi.nlm.nih.gov/pmc/articles/PMC3729334/) to understand the context a bit better (it goes to the bottom of my reading list, but if there are better/more relevant articles please let me know)."
   ]
  },
  {
   "cell_type": "markdown",
   "metadata": {},
   "source": [
    "### 8. Is patient on antiretroviral drug(s)?"
   ]
  },
  {
   "cell_type": "code",
   "execution_count": 54,
   "metadata": {},
   "outputs": [
    {
     "data": {
      "text/plain": [
       "'Is the patient currently on antiretroviral for HIV?'"
      ]
     },
     "execution_count": 54,
     "metadata": {},
     "output_type": "execute_result"
    }
   ],
   "source": [
    "glossary['ARV']"
   ]
  },
  {
   "cell_type": "code",
   "execution_count": 55,
   "metadata": {},
   "outputs": [
    {
     "data": {
      "text/plain": [
       "N    42\n",
       "Y    37\n",
       "Name: ARV, dtype: int64"
      ]
     },
     "execution_count": 55,
     "metadata": {},
     "output_type": "execute_result"
    }
   ],
   "source": [
    "clinical_data['ARV'].value_counts()"
   ]
  },
  {
   "cell_type": "markdown",
   "metadata": {},
   "source": [
    "No need to reformat to another binary format as there are no \"Unknown\" values."
   ]
  },
  {
   "cell_type": "markdown",
   "metadata": {},
   "source": [
    "Data 79 patients, similar to the 78 above.\n",
    "Is there a pattern in the missing data - e.g. are these only missing in healthy controls?"
   ]
  },
  {
   "cell_type": "code",
   "execution_count": 56,
   "metadata": {},
   "outputs": [
    {
     "data": {
      "text/html": [
       "<ul><li>012.BM<li>049.TMS<li>070.HC<li>076.HC<li>080.HC<li>109.HC<li>116.HC<li>129.HC<li>151.TMD<li>165.VM<li>172.TMR<li>205.VM<li>234.BM<li>241.TMD<li>248.TMD<li>255.VM</ul>"
      ],
      "text/plain": [
       "<IPython.core.display.HTML object>"
      ]
     },
     "execution_count": 56,
     "metadata": {},
     "output_type": "execute_result"
    }
   ],
   "source": [
    "show_list(clinical_data[clinical_data['ARV'].isnull()].PatientID)"
   ]
  },
  {
   "cell_type": "markdown",
   "metadata": {},
   "source": [
    "No, it is not the case."
   ]
  },
  {
   "cell_type": "markdown",
   "metadata": {},
   "source": [
    "### 9. History of treatment with antiretroviral drugs?"
   ]
  },
  {
   "cell_type": "code",
   "execution_count": 57,
   "metadata": {},
   "outputs": [
    {
     "data": {
      "text/plain": [
       "'If not currently on ARV, has the patient ever taken ARV in the past?'"
      ]
     },
     "execution_count": 57,
     "metadata": {},
     "output_type": "execute_result"
    }
   ],
   "source": [
    "glossary['UnARV']"
   ]
  },
  {
   "cell_type": "code",
   "execution_count": 58,
   "metadata": {},
   "outputs": [
    {
     "data": {
      "text/plain": [
       "ARV-naive          32\n",
       "PreviousHistory     9\n",
       "Name: UnARV, dtype: int64"
      ]
     },
     "execution_count": 58,
     "metadata": {},
     "output_type": "execute_result"
    }
   ],
   "source": [
    "clinical_data['UnARV'].value_counts()"
   ]
  },
  {
   "cell_type": "markdown",
   "metadata": {},
   "source": [
    "**What does the \"ARV-naive\" mean?**"
   ]
  },
  {
   "cell_type": "markdown",
   "metadata": {},
   "source": [
    "Very little data - for only 41 patients. Which ones?"
   ]
  },
  {
   "cell_type": "code",
   "execution_count": 59,
   "metadata": {},
   "outputs": [],
   "source": [
    "patients_with_avr_data = clinical_data[~clinical_data['UnARV'].isnull()]"
   ]
  },
  {
   "cell_type": "code",
   "execution_count": 60,
   "metadata": {},
   "outputs": [
    {
     "data": {
      "text/plain": [
       "CM     16\n",
       "TMD     9\n",
       "HC      7\n",
       "TMR     5\n",
       "TMS     3\n",
       "VM      1\n",
       "Name: condition, dtype: int64"
      ]
     },
     "execution_count": 60,
     "metadata": {},
     "output_type": "execute_result"
    }
   ],
   "source": [
    "patients_with_avr_data.condition.value_counts()"
   ]
  },
  {
   "cell_type": "code",
   "execution_count": 61,
   "metadata": {},
   "outputs": [
    {
     "data": {
      "text/plain": [
       "Positive    41\n",
       "Name: HIVResult, dtype: int64"
      ]
     },
     "execution_count": 61,
     "metadata": {},
     "output_type": "execute_result"
    }
   ],
   "source": [
    "patients_with_avr_data.HIVResult.value_counts()"
   ]
  },
  {
   "cell_type": "markdown",
   "metadata": {},
   "source": [
    "**Does lack of data mean \"No\" or \"Unknown\"?**"
   ]
  },
  {
   "cell_type": "markdown",
   "metadata": {},
   "source": [
    "### 10. Headache"
   ]
  },
  {
   "cell_type": "code",
   "execution_count": 62,
   "metadata": {},
   "outputs": [
    {
     "data": {
      "text/plain": [
       "Y          73\n",
       "N          19\n",
       "Unknown     3\n",
       "Name: Headache, dtype: int64"
      ]
     },
     "execution_count": 62,
     "metadata": {},
     "output_type": "execute_result"
    }
   ],
   "source": [
    "clinical_data['Headache'].value_counts()"
   ]
  },
  {
   "cell_type": "markdown",
   "metadata": {},
   "source": [
    "Reformatting to binary format with NaN for unknown:"
   ]
  },
  {
   "cell_type": "code",
   "execution_count": 63,
   "metadata": {},
   "outputs": [],
   "source": [
    "clinical_data['Headache'] = clinical_data['Headache'].replace({\n",
    "    'Y': True,\n",
    "    'N': False,\n",
    "    'Unknown': nan\n",
    "})"
   ]
  },
  {
   "cell_type": "markdown",
   "metadata": {},
   "source": [
    "### 11. Duration of headache"
   ]
  },
  {
   "cell_type": "code",
   "execution_count": 64,
   "metadata": {},
   "outputs": [
    {
     "data": {
      "text/plain": [
       "'Duration of headache (days)'"
      ]
     },
     "execution_count": 64,
     "metadata": {},
     "output_type": "execute_result"
    }
   ],
   "source": [
    "glossary['HeadacheD']"
   ]
  },
  {
   "cell_type": "markdown",
   "metadata": {},
   "source": [
    "TBD"
   ]
  },
  {
   "cell_type": "markdown",
   "metadata": {},
   "source": [
    "## Patient-wise exploration"
   ]
  },
  {
   "cell_type": "markdown",
   "metadata": {},
   "source": [
    "are there any patients for whom there is too little data in general?"
   ]
  },
  {
   "cell_type": "markdown",
   "metadata": {},
   "source": [
    "TBD"
   ]
  },
  {
   "cell_type": "markdown",
   "metadata": {},
   "source": [
    "## Simple correlations"
   ]
  },
  {
   "cell_type": "markdown",
   "metadata": {},
   "source": [
    "TBD"
   ]
  }
 ],
 "metadata": {
  "kernelspec": {
   "display_name": "Python 3",
   "language": "python",
   "name": "python3"
  },
  "language_info": {
   "codemirror_mode": {
    "name": "ipython",
    "version": 3
   },
   "file_extension": ".py",
   "mimetype": "text/x-python",
   "name": "python",
   "nbconvert_exporter": "python",
   "pygments_lexer": "ipython3",
   "version": "3.7.2"
  }
 },
 "nbformat": 4,
 "nbformat_minor": 2
}
