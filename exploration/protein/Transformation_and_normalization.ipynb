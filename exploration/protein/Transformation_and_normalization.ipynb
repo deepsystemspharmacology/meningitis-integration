{
 "cells": [
  {
   "cell_type": "code",
   "execution_count": 1,
   "metadata": {},
   "outputs": [],
   "source": [
    "from helpers.utilities import *\n",
    "%run helpers/notebook_setup.ipynb"
   ]
  },
  {
   "cell_type": "code",
   "execution_count": 2,
   "metadata": {
    "tags": [
     "parameters"
    ]
   },
   "outputs": [],
   "source": [
    "protein_levels_path = 'data/clean/protein/levels.csv'\n",
    "\n",
    "# outputs\n",
    "indexed_by_target_path = 'data/clean/protein/indexed_by_target.csv'\n",
    "zz_log_path = 'data/clean/protein/zz_log_10.csv'\n",
    "log_matrix_path = 'data/clean/protein/log_10.csv'\n",
    "patients_variance_at_one_path = 'data/clean/protein/z_log_10-patients_variance_at_one.csv'"
   ]
  },
  {
   "cell_type": "markdown",
   "metadata": {},
   "source": [
    "# Proteins: transformation & normalization"
   ]
  },
  {
   "cell_type": "code",
   "execution_count": 3,
   "metadata": {},
   "outputs": [],
   "source": [
    "protein_levels = read_csv(protein_levels_path, index_col=[0,1,2,3])"
   ]
  },
  {
   "cell_type": "markdown",
   "metadata": {},
   "source": [
    "### Choosing a single, unique proteins index"
   ]
  },
  {
   "cell_type": "markdown",
   "metadata": {},
   "source": [
    "As demonstrated in [Exploration_and_quality_control.ipynb](Exploration_and_quality_control.ipynb), `entrez_gene_symbol` unique. For simplicity - and to enable high interpretability - we will only use the `target` column to index proteins henceforth:"
   ]
  },
  {
   "cell_type": "code",
   "execution_count": 4,
   "metadata": {},
   "outputs": [],
   "source": [
    "protein_levels = protein_levels.reset_index(level=[\n",
    "    'target_full_name', 'entrez_gene_symbol', 'soma_id'\n",
    "], drop=True)"
   ]
  },
  {
   "cell_type": "code",
   "execution_count": 5,
   "metadata": {},
   "outputs": [
    {
     "data": {
      "text/html": [
       "<div>\n",
       "<style scoped>\n",
       "    .dataframe tbody tr th:only-of-type {\n",
       "        vertical-align: middle;\n",
       "    }\n",
       "\n",
       "    .dataframe tbody tr th {\n",
       "        vertical-align: top;\n",
       "    }\n",
       "\n",
       "    .dataframe thead th {\n",
       "        text-align: right;\n",
       "    }\n",
       "</style>\n",
       "<table border=\"1\" class=\"dataframe\">\n",
       "  <thead>\n",
       "    <tr style=\"text-align: right;\">\n",
       "      <th></th>\n",
       "      <th>149.TMD</th>\n",
       "      <th>007.TMD</th>\n",
       "      <th>001.TMD</th>\n",
       "      <th>064.TMD</th>\n",
       "      <th>151.TMD</th>\n",
       "      <th>...</th>\n",
       "      <th>177.HC</th>\n",
       "      <th>189.HC</th>\n",
       "      <th>217.HC</th>\n",
       "      <th>221.HC</th>\n",
       "      <th>245.HC</th>\n",
       "    </tr>\n",
       "    <tr>\n",
       "      <th>target</th>\n",
       "      <th></th>\n",
       "      <th></th>\n",
       "      <th></th>\n",
       "      <th></th>\n",
       "      <th></th>\n",
       "      <th></th>\n",
       "      <th></th>\n",
       "      <th></th>\n",
       "      <th></th>\n",
       "      <th></th>\n",
       "      <th></th>\n",
       "    </tr>\n",
       "  </thead>\n",
       "  <tbody>\n",
       "    <tr>\n",
       "      <th>CHIP</th>\n",
       "      <td>174.1</td>\n",
       "      <td>521.1</td>\n",
       "      <td>57.0</td>\n",
       "      <td>158.1</td>\n",
       "      <td>62.1</td>\n",
       "      <td>...</td>\n",
       "      <td>12.6</td>\n",
       "      <td>11.4</td>\n",
       "      <td>12.2</td>\n",
       "      <td>15.8</td>\n",
       "      <td>22.2</td>\n",
       "    </tr>\n",
       "    <tr>\n",
       "      <th>CEBPB</th>\n",
       "      <td>53.3</td>\n",
       "      <td>283.6</td>\n",
       "      <td>36.1</td>\n",
       "      <td>126.6</td>\n",
       "      <td>33.7</td>\n",
       "      <td>...</td>\n",
       "      <td>10.4</td>\n",
       "      <td>9.7</td>\n",
       "      <td>9.6</td>\n",
       "      <td>11.0</td>\n",
       "      <td>15.1</td>\n",
       "    </tr>\n",
       "  </tbody>\n",
       "</table>\n",
       "<p>2 rows × 82 columns</p>\n",
       "</div>"
      ],
      "text/plain": [
       "        149.TMD  007.TMD  001.TMD  064.TMD  151.TMD  ...  177.HC  189.HC  \\\n",
       "target                                               ...                   \n",
       "CHIP      174.1    521.1     57.0    158.1     62.1  ...    12.6    11.4   \n",
       "CEBPB      53.3    283.6     36.1    126.6     33.7  ...    10.4     9.7   \n",
       "\n",
       "        217.HC  221.HC  245.HC  \n",
       "target                          \n",
       "CHIP      12.2    15.8    22.2  \n",
       "CEBPB      9.6    11.0    15.1  \n",
       "\n",
       "[2 rows x 82 columns]"
      ]
     },
     "execution_count": 5,
     "metadata": {},
     "output_type": "execute_result"
    }
   ],
   "source": [
    "protein_levels.head(2)"
   ]
  },
  {
   "cell_type": "code",
   "execution_count": 6,
   "metadata": {},
   "outputs": [],
   "source": [
    "protein_levels.to_csv(indexed_by_target_path)"
   ]
  },
  {
   "cell_type": "markdown",
   "metadata": {},
   "source": [
    "### What is the distribution of the measurments?"
   ]
  },
  {
   "cell_type": "code",
   "execution_count": 7,
   "metadata": {},
   "outputs": [],
   "source": [
    "from statsmodels.graphics.gofplots import qqplot_2samples\n",
    "from helpers.data_frame import select_columns"
   ]
  },
  {
   "cell_type": "markdown",
   "metadata": {},
   "source": [
    "The quantile-quantile distribution between healthy controls and all the other samples:"
   ]
  },
  {
   "cell_type": "code",
   "execution_count": 8,
   "metadata": {},
   "outputs": [
    {
     "data": {
      "image/png": "[encoded data removed]",
      "text/plain": [
       "<Figure size 432x288 with 1 Axes>"
      ]
     },
     "metadata": {
      "needs_background": "light"
     },
     "output_type": "display_data"
    }
   ],
   "source": [
    "qqplot_2samples(\n",
    "    select_columns(protein_levels, match='.*HC').mean(axis=1),\n",
    "    select_columns(protein_levels, exclude='.*HC').mean(axis=1)\n",
    ");"
   ]
  },
  {
   "cell_type": "markdown",
   "metadata": {},
   "source": [
    "No striking outliers."
   ]
  },
  {
   "cell_type": "markdown",
   "metadata": {},
   "source": [
    "#### Are the average protein levels normally distributed?"
   ]
  },
  {
   "cell_type": "code",
   "execution_count": 9,
   "metadata": {},
   "outputs": [],
   "source": [
    "average_protein_level = select_columns(protein_levels, '.*HC').mean(axis=1)"
   ]
  },
  {
   "cell_type": "code",
   "execution_count": 10,
   "metadata": {},
   "outputs": [
    {
     "data": {
      "text/plain": [
       "target\n",
       "CHIP           15.104\n",
       "CEBPB          12.424\n",
       "NSE         10619.304\n",
       "PIAS4          12.604\n",
       "IL-10 Ra       76.396\n",
       "dtype: float64"
      ]
     },
     "execution_count": 10,
     "metadata": {},
     "output_type": "execute_result"
    }
   ],
   "source": [
    "average_protein_level.head()"
   ]
  },
  {
   "cell_type": "code",
   "execution_count": 11,
   "metadata": {},
   "outputs": [
    {
     "data": {
      "image/png": "[encoded data removed]"
     },
     "metadata": {},
     "output_type": "display_data"
    }
   ],
   "source": [
    "%%R -i average_protein_level -w 400 -h 400 -u px\n",
    "qqnorm(average_protein_level)"
   ]
  },
  {
   "cell_type": "markdown",
   "metadata": {},
   "source": [
    "Nope. This may be expected given the high dynamic range of the platform; it also tells us that there are many values close to zero:"
   ]
  },
  {
   "cell_type": "code",
   "execution_count": 12,
   "metadata": {},
   "outputs": [
    {
     "data": {
      "image/png": "[encoded data removed]",
      "text/plain": [
       "<Figure size 432x288 with 1 Axes>"
      ]
     },
     "metadata": {
      "needs_background": "light"
     },
     "output_type": "display_data"
    }
   ],
   "source": [
    "average_protein_level.hist();"
   ]
  },
  {
   "cell_type": "markdown",
   "metadata": {},
   "source": [
    "### Does it follow log-normal distribution?"
   ]
  },
  {
   "cell_type": "code",
   "execution_count": 13,
   "metadata": {},
   "outputs": [],
   "source": [
    "df = DataFrame(dict(average_protein_level=average_protein_level))"
   ]
  },
  {
   "cell_type": "code",
   "execution_count": 14,
   "metadata": {},
   "outputs": [
    {
     "data": {
      "image/png": "[encoded data removed]"
     },
     "metadata": {},
     "output_type": "display_data"
    }
   ],
   "source": [
    "%%R -i df -w 400 -h 400 -u px\n",
    "(\n",
    "    ggplot(df, aes(sample=average_protein_level))\n",
    "    + qqplotr::stat_qq_point(distribution='lnorm')\n",
    ")"
   ]
  },
  {
   "cell_type": "markdown",
   "metadata": {},
   "source": [
    "Not great, though better."
   ]
  },
  {
   "cell_type": "code",
   "execution_count": 15,
   "metadata": {},
   "outputs": [
    {
     "data": {
      "image/png": "[encoded data removed]",
      "text/plain": [
       "<Figure size 432x288 with 1 Axes>"
      ]
     },
     "metadata": {
      "needs_background": "light"
     },
     "output_type": "display_data"
    }
   ],
   "source": [
    "from numpy import log10\n",
    "average_protein_level.apply(log10).hist();"
   ]
  },
  {
   "cell_type": "markdown",
   "metadata": {},
   "source": [
    "#### Were there any useful notes in methods section of previous studies utilizing SOMAscan?"
   ]
  },
  {
   "cell_type": "markdown",
   "metadata": {},
   "source": [
    "- \"Protein levels were natural log transformed prior to batch effects adjustment to improve the normality of protein level distributions\" - https://www.nature.com/articles/s41598-018-26640-w\n",
    "- \"All protein values were log transformed because of their nonnormal distributions as determined by the Kolomogorov-Smirnov and Shapiro-Wilk normality tests\" - [Aptamer-Based Proteomic Profiling Reveals Novel Candidate Biomarkers and Pathways in Cardiovascular Disease\n",
    "](https://www.ncbi.nlm.nih.gov/pmc/articles/PMC4963294/) (I don't quite get the reasoning of this sentence - non-normality does not imply log-normal distribution, regardless of the tests that you use)\n",
    "- \"all CSF and plasma protein values measured in untargeted and targeted proteomic experiments were log10 transformed\" [The Alzheimer study](https://alzres.biomedcentral.com/articles/10.1186/s13195-017-0258-6)\n",
    "- \"Prior to analysis, NMR lipoprotein and plasma proteome data were transformed to Z-scores (by subtracting the mean and dividing by the SD) for ease of comparison. Plasma proteome data were log-transformed prior to Z-score transformation.\" [\n",
    "(Harbaum, et al., 2019)](https://thorax.bmj.com/content/74/4/380) **this is a fresh study from Imperial College London**, and two of the authors are affiliated with the Department of Surgery and Cancer\n",
    "- \"Data from all samples were log2 transformed, normalized and calibrated using standard hybridization and calibration procedures.\" [(Scribe et al, 2017)](https://journals.plos.org/plospathogens/article?id=10.1371/journal.ppat.1006687) - some authors affiliated with SomaLogic, NB this is also a Cape Town study.\n",
    "- \"All data were log-transformed to stabilize the variance. [...] Student's t tests were used to identify differentially expressed SOMAmer reagents\" [(Groote, et al. 2017)](https://jcm.asm.org/content/55/2/391.long) - again in collaboration with SomaLogic.\n",
    "\n",
    "There is a strong case for log-transformation, as it was frequently used in previous research. The base, however, varies.\n",
    "\n",
    "I was specifically interested to see if anyone used Van der Waerden transformation before, as it could correct the skew (as partially does the log transformation). Here are two more articles:\n",
    "\n",
    "- \"All proteomics data were transformed using the natural logarithm and transformed to zero mean and unit s.d. In addition, protein values >2.5 s.d. from the mean were excluded as outliers.\" - this sounds like an exclusion of a lot of signal; in supplementary information: \"This [modeling] was performed on the SOMAscan data, both untransformed, and transformed using the Van der Waerden transformation\" -  https://www.ncbi.nlm.nih.gov/pmc/articles/PMC4490288/\n",
    "- \"We log10 transformed the protein data as the protein concentrations were not normally distributed. Additionally, protein values ± 6 SDs were excluded as outliers.\" - https://www.ncbi.nlm.nih.gov/pmc/articles/PMC4469006/ (same authors, previous article)\n",
    "\n",
    "\n",
    "At least two studies first log-transformed and then scaled to z-scores.\n",
    "\n",
    "Alternatives to simple log-transform include:\n",
    " - Box-Cox\n",
    " - quantile normalization / Van de Waerden / rank-based inverse normal transformation; possibly used in [this study](https://www.ncbi.nlm.nih.gov/pmc/articles/PMC5271178/). There are articles discussing practical benefits and shortcomings of application to GWAS studies (I haven't found discussion relevant to SOMAscan though):\n",
    "   - for [(Pain et al. 2018)](https://europepmc.org/articles/pmc6057994)\n",
    "   - against [(Beasley et al. 2009)](https://www.ncbi.nlm.nih.gov/pmc/articles/PMC2921808/) - I am convinced by some of the arguments, though can't say that I understand it fully (yet).\n",
    "\n",
    "There seem to be a strong preference for the simplest log transformation in the previous research (though I do not fully understand this choice)."
   ]
  },
  {
   "cell_type": "markdown",
   "metadata": {},
   "source": [
    "NB: the relative abundances of proteins in cells are known to vary greatly; our samples are not cells from a single tissue but a mixture of different cells and (potentially) organisms. This may influence the distribution of protein levels, and it appears justifiable to suspect that the measured distribution is complex and skewed as it is a sum of multiple distributions (which may or may not be normal). "
   ]
  },
  {
   "cell_type": "markdown",
   "metadata": {},
   "source": [
    "### Log-transformation with base 10"
   ]
  },
  {
   "cell_type": "markdown",
   "metadata": {},
   "source": [
    "Since now, the log-10 transformed data will be used through the subsequent analyses. I chose base of 10 due to high range of the SOMAScan measurements."
   ]
  },
  {
   "cell_type": "code",
   "execution_count": 16,
   "metadata": {},
   "outputs": [],
   "source": [
    "from numpy import log10"
   ]
  },
  {
   "cell_type": "code",
   "execution_count": 17,
   "metadata": {},
   "outputs": [],
   "source": [
    "log_matrix = protein_levels.applymap(log10)"
   ]
  },
  {
   "cell_type": "code",
   "execution_count": 18,
   "metadata": {},
   "outputs": [],
   "source": [
    "log_matrix.to_csv(log_matrix_path)"
   ]
  },
  {
   "cell_type": "markdown",
   "metadata": {},
   "source": [
    "### How to normalize the values for use with PLS?"
   ]
  },
  {
   "cell_type": "markdown",
   "metadata": {},
   "source": [
    "Concern: the high dynamic range  of values "
   ]
  },
  {
   "cell_type": "markdown",
   "metadata": {},
   "source": [
    "z-score?"
   ]
  },
  {
   "cell_type": "markdown",
   "metadata": {},
   "source": [
    "### Further attempts to normalize/transform\n",
    "\n",
    "Some thoughts on transformations:\n",
    "- we may suspect that there will be less proteins in the healthy controls,\n",
    "    - we could control for that if the goal is to elucidate differences in the immune system proxies or look for specific biomarkers (i.e. what immune-response related proteins are more often active in the CSF when compared against the background)\n",
    "    - but not controlling is a real-life scenario: the mere fact of detecting much more proteins than expected might be used to help diagnose the patient\n",
    "- log transformation reduces the problem of high dynamic range. However, it also over-emphasizes the proteins with very low levels [(Berg et al, 2006)](https://www.ncbi.nlm.nih.gov/pmc/articles/PMC1534033/) / common knowledge.\n",
    "- z-score appears to be well suited for distributions closer to the normal family - as it uses mean and standard deviation\n",
    "- it might be better to use the more robust median rather than mean as it is less prone to outliers [(Berg et al, 2006)](https://www.ncbi.nlm.nih.gov/pmc/articles/PMC1534033/) / common knowledge. However, log-transformation partially alleviates this problem (and there is little precedent such approach)\n",
    "- I would be tempted to use an advanced transformation followed by scaling, though there is little precedent in the field. Also, this would reduce the ease of interpretation of results (everyone understands log-transform, but not necessarily Box-Cox)\n",
    "\n",
    "A [review of HCA for proteomic data](https://pubs.acs.org/doi/full/10.1021/pr060343h) mentions an alternative being division by maximum value of each sample - I would not do that as this procedure may susceptible to outliers, though they demonstrate that it gives better results than z-score (though not on SOMAscan data which has greater dynamic range)."
   ]
  },
  {
   "cell_type": "markdown",
   "metadata": {},
   "source": [
    "#### Double z-score transformation for unsupervised analyses"
   ]
  },
  {
   "cell_type": "markdown",
   "metadata": {},
   "source": [
    "I originally proposed to follow the log-transformation with:\n",
    " - z-score on samples (patients) - to address the issue of some samples having more proteins than others (which could be either technical or biological) - see 024.TMR (NB: the above discussed issue of the relative levels being potentially diagnostic is not necessarily important: confirming that more proteins in CSF may imply greater chance of a disease is not necessarily novel neither ambitious - I could just do a separate analysis for that); I could use modified z-score with median instead of mean (Iglewicz-Hoaglin) - though it does not seem to be necessary\n",
    " - z-score normalization of each feature (protein) - to give each protein an equal weight in the unsupervised analyses"
   ]
  },
  {
   "cell_type": "markdown",
   "metadata": {},
   "source": [
    "Unfortunately, in this procedure the second step will reduce the impact of the first step. Thus the order matters and different results would be achieved depending on which normalization is performed first."
   ]
  },
  {
   "cell_type": "code",
   "execution_count": 19,
   "metadata": {},
   "outputs": [],
   "source": [
    "from helpers import z_score"
   ]
  },
  {
   "cell_type": "code",
   "execution_count": 20,
   "metadata": {},
   "outputs": [],
   "source": [
    "zz_log_matrix = log_matrix.apply(z_score).apply(z_score, axis=1)"
   ]
  },
  {
   "cell_type": "code",
   "execution_count": 21,
   "metadata": {},
   "outputs": [],
   "source": [
    "zz_log_matrix.to_csv(zz_log_path)"
   ]
  },
  {
   "cell_type": "markdown",
   "metadata": {},
   "source": [
    "We have unit variance on proteins:"
   ]
  },
  {
   "cell_type": "code",
   "execution_count": 22,
   "metadata": {},
   "outputs": [
    {
     "data": {
      "text/plain": [
       "target\n",
       "CHIP        1.0\n",
       "CEBPB       1.0\n",
       "NSE         1.0\n",
       "PIAS4       1.0\n",
       "IL-10 Ra    1.0\n",
       "           ... \n",
       "PEDF        1.0\n",
       "CATF        1.0\n",
       "FTCD        1.0\n",
       "UBP25       1.0\n",
       "PLXB2       1.0\n",
       "Length: 1305, dtype: float64"
      ]
     },
     "execution_count": 22,
     "metadata": {},
     "output_type": "execute_result"
    }
   ],
   "source": [
    "zz_log_matrix.var(axis=1)"
   ]
  },
  {
   "cell_type": "markdown",
   "metadata": {},
   "source": [
    "#### Single-z score transformation to account for different protein abundances among patients"
   ]
  },
  {
   "cell_type": "markdown",
   "metadata": {},
   "source": [
    "The above proposed transformations result in very good unsupervised clustering, however pose a challenge in the interpretation. Therefore I also use a simpler transformation with the single purpose of making the variance equal among all patients:"
   ]
  },
  {
   "cell_type": "code",
   "execution_count": 23,
   "metadata": {},
   "outputs": [],
   "source": [
    "# Center patients and scale to unit variance\n",
    "patients_variance_at_one = log_matrix.apply(z_score)"
   ]
  },
  {
   "cell_type": "code",
   "execution_count": 24,
   "metadata": {},
   "outputs": [],
   "source": [
    "patients_variance_at_one.to_csv(patients_variance_at_one_path)"
   ]
  },
  {
   "cell_type": "code",
   "execution_count": 25,
   "metadata": {},
   "outputs": [
    {
     "data": {
      "text/plain": [
       "149.TMD    1.0\n",
       "007.TMD    1.0\n",
       "001.TMD    1.0\n",
       "064.TMD    1.0\n",
       "151.TMD    1.0\n",
       "          ... \n",
       "177.HC     1.0\n",
       "189.HC     1.0\n",
       "217.HC     1.0\n",
       "221.HC     1.0\n",
       "245.HC     1.0\n",
       "Length: 82, dtype: float64"
      ]
     },
     "execution_count": 25,
     "metadata": {},
     "output_type": "execute_result"
    }
   ],
   "source": [
    "patients_variance_at_one.var()"
   ]
  },
  {
   "cell_type": "code",
   "execution_count": 26,
   "metadata": {},
   "outputs": [],
   "source": [
    "from numpy import isclose\n",
    "\n",
    "assert all(map(partial(isclose, 1), patients_variance_at_one.var()))\n",
    "assert all(map(partial(isclose, 0), patients_variance_at_one.mean()))"
   ]
  },
  {
   "cell_type": "markdown",
   "metadata": {},
   "source": [
    "This transformation (depending on additional assumption on the intensity-variance relation) may help in comparison of protein abundances between the patients."
   ]
  }
 ],
 "metadata": {
  "kernelspec": {
   "display_name": "Python 3",
   "language": "python",
   "name": "python3"
  },
  "language_info": {
   "codemirror_mode": {
    "name": "ipython",
    "version": 3
   },
   "file_extension": ".py",
   "mimetype": "text/x-python",
   "name": "python",
   "nbconvert_exporter": "python",
   "pygments_lexer": "ipython3",
   "version": "3.7.2"
  }
 },
 "nbformat": 4,
 "nbformat_minor": 2
}
