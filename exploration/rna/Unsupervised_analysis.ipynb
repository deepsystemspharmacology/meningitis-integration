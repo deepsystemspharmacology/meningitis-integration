{
 "cells": [
  {
   "cell_type": "code",
   "execution_count": 1,
   "metadata": {},
   "outputs": [],
   "source": [
    "from helpers.utilities import *\n",
    "%run helpers/notebook_setup.ipynb"
   ]
  },
  {
   "cell_type": "markdown",
   "metadata": {},
   "source": [
    "# RNA-Seq"
   ]
  },
  {
   "cell_type": "code",
   "execution_count": 4,
   "metadata": {},
   "outputs": [
    {
     "name": "stdout",
     "output_type": "stream",
     "text": [
      "all_samples.csv  definite_tbm_against_all.csv  definite_tbm_subset.csv\n"
     ]
    }
   ],
   "source": [
    "!ls data/clean/rna/"
   ]
  },
  {
   "cell_type": "code",
   "execution_count": null,
   "metadata": {},
   "outputs": [],
   "source": [
    "gene_level_path = 'data/clean/rna/all_samples.csv'\n",
    "# TODO: extract in a separate notebook? \n",
    "isoforms_path = 'data/raw/CSF_Isoform_merged_counts.txt'"
   ]
  },
  {
   "cell_type": "code",
   "execution_count": 5,
   "metadata": {},
   "outputs": [],
   "source": [
    "rna_levels = read_csv(gene_level_path, index_col=[0,1])"
   ]
  },
  {
   "cell_type": "code",
   "execution_count": 6,
   "metadata": {},
   "outputs": [],
   "source": [
    "assert not rna_levels.isnull().any().any()"
   ]
  },
  {
   "cell_type": "code",
   "execution_count": 7,
   "metadata": {},
   "outputs": [
    {
     "data": {
      "text/html": [
       "<div>\n",
       "<style scoped>\n",
       "    .dataframe tbody tr th:only-of-type {\n",
       "        vertical-align: middle;\n",
       "    }\n",
       "\n",
       "    .dataframe tbody tr th {\n",
       "        vertical-align: top;\n",
       "    }\n",
       "\n",
       "    .dataframe thead th {\n",
       "        text-align: right;\n",
       "    }\n",
       "</style>\n",
       "<table border=\"1\" class=\"dataframe\">\n",
       "  <thead>\n",
       "    <tr style=\"text-align: right;\">\n",
       "      <th></th>\n",
       "      <th></th>\n",
       "      <th>001.TMD</th>\n",
       "      <th>006.CM</th>\n",
       "      <th>012.BM</th>\n",
       "      <th>016.CM</th>\n",
       "      <th>017.TMD</th>\n",
       "      <th>...</th>\n",
       "      <th>174.CM</th>\n",
       "      <th>011.TMR</th>\n",
       "      <th>043.TMS</th>\n",
       "      <th>078.CM</th>\n",
       "      <th>261.CM</th>\n",
       "    </tr>\n",
       "    <tr>\n",
       "      <th>ensembl_id</th>\n",
       "      <th>ensembl_gene_id</th>\n",
       "      <th></th>\n",
       "      <th></th>\n",
       "      <th></th>\n",
       "      <th></th>\n",
       "      <th></th>\n",
       "      <th></th>\n",
       "      <th></th>\n",
       "      <th></th>\n",
       "      <th></th>\n",
       "      <th></th>\n",
       "      <th></th>\n",
       "    </tr>\n",
       "  </thead>\n",
       "  <tbody>\n",
       "    <tr>\n",
       "      <th>ENSG00000000003</th>\n",
       "      <th>TSPAN6</th>\n",
       "      <td>11.596119</td>\n",
       "      <td>7.806308</td>\n",
       "      <td>1.391555</td>\n",
       "      <td>39.347366</td>\n",
       "      <td>24.765008</td>\n",
       "      <td>...</td>\n",
       "      <td>4.431071</td>\n",
       "      <td>51.810470</td>\n",
       "      <td>35.628629</td>\n",
       "      <td>0.000000</td>\n",
       "      <td>20.705553</td>\n",
       "    </tr>\n",
       "    <tr>\n",
       "      <th>ENSG00000000005</th>\n",
       "      <th>TNMD</th>\n",
       "      <td>0.000000</td>\n",
       "      <td>0.000000</td>\n",
       "      <td>0.000000</td>\n",
       "      <td>2.459210</td>\n",
       "      <td>0.000000</td>\n",
       "      <td>...</td>\n",
       "      <td>0.000000</td>\n",
       "      <td>11.102244</td>\n",
       "      <td>0.000000</td>\n",
       "      <td>0.000000</td>\n",
       "      <td>4.141111</td>\n",
       "    </tr>\n",
       "    <tr>\n",
       "      <th>ENSG00000000419</th>\n",
       "      <th>DPM1</th>\n",
       "      <td>0.000000</td>\n",
       "      <td>31.225230</td>\n",
       "      <td>36.876198</td>\n",
       "      <td>0.000000</td>\n",
       "      <td>72.313823</td>\n",
       "      <td>...</td>\n",
       "      <td>25.478656</td>\n",
       "      <td>11.102244</td>\n",
       "      <td>0.000000</td>\n",
       "      <td>161.520987</td>\n",
       "      <td>39.754662</td>\n",
       "    </tr>\n",
       "    <tr>\n",
       "      <th>ENSG00000000457</th>\n",
       "      <th>SCYL3</th>\n",
       "      <td>127.557309</td>\n",
       "      <td>145.717740</td>\n",
       "      <td>86.276387</td>\n",
       "      <td>95.909204</td>\n",
       "      <td>123.825040</td>\n",
       "      <td>...</td>\n",
       "      <td>121.854440</td>\n",
       "      <td>96.219444</td>\n",
       "      <td>3.958737</td>\n",
       "      <td>92.395480</td>\n",
       "      <td>125.889763</td>\n",
       "    </tr>\n",
       "    <tr>\n",
       "      <th>ENSG00000000460</th>\n",
       "      <th>C1orf112</th>\n",
       "      <td>46.384476</td>\n",
       "      <td>0.000000</td>\n",
       "      <td>50.791744</td>\n",
       "      <td>51.643418</td>\n",
       "      <td>14.859005</td>\n",
       "      <td>...</td>\n",
       "      <td>33.233029</td>\n",
       "      <td>49.960096</td>\n",
       "      <td>38.267787</td>\n",
       "      <td>0.000000</td>\n",
       "      <td>30.644219</td>\n",
       "    </tr>\n",
       "    <tr>\n",
       "      <th>...</th>\n",
       "      <th>...</th>\n",
       "      <td>...</td>\n",
       "      <td>...</td>\n",
       "      <td>...</td>\n",
       "      <td>...</td>\n",
       "      <td>...</td>\n",
       "      <td>...</td>\n",
       "      <td>...</td>\n",
       "      <td>...</td>\n",
       "      <td>...</td>\n",
       "      <td>...</td>\n",
       "      <td>...</td>\n",
       "    </tr>\n",
       "    <tr>\n",
       "      <th>ENSG00000284543</th>\n",
       "      <th>LINC01226</th>\n",
       "      <td>92.768952</td>\n",
       "      <td>200.361893</td>\n",
       "      <td>27.135315</td>\n",
       "      <td>177.063146</td>\n",
       "      <td>30.708610</td>\n",
       "      <td>...</td>\n",
       "      <td>175.027287</td>\n",
       "      <td>170.234402</td>\n",
       "      <td>318.018506</td>\n",
       "      <td>131.406905</td>\n",
       "      <td>52.177994</td>\n",
       "    </tr>\n",
       "    <tr>\n",
       "      <th>ENSG00000284546</th>\n",
       "      <th>SSU72P3</th>\n",
       "      <td>0.000000</td>\n",
       "      <td>0.000000</td>\n",
       "      <td>0.000000</td>\n",
       "      <td>0.000000</td>\n",
       "      <td>0.000000</td>\n",
       "      <td>...</td>\n",
       "      <td>0.000000</td>\n",
       "      <td>14.802991</td>\n",
       "      <td>0.000000</td>\n",
       "      <td>0.000000</td>\n",
       "      <td>0.000000</td>\n",
       "    </tr>\n",
       "    <tr>\n",
       "      <th>ENSG00000284552</th>\n",
       "      <th>AC106774.10</th>\n",
       "      <td>0.000000</td>\n",
       "      <td>0.000000</td>\n",
       "      <td>0.000000</td>\n",
       "      <td>17.214473</td>\n",
       "      <td>0.000000</td>\n",
       "      <td>...</td>\n",
       "      <td>11.077676</td>\n",
       "      <td>9.251870</td>\n",
       "      <td>0.000000</td>\n",
       "      <td>27.376439</td>\n",
       "      <td>0.828222</td>\n",
       "    </tr>\n",
       "    <tr>\n",
       "      <th>ENSG00000284572</th>\n",
       "      <th>AC099654.15</th>\n",
       "      <td>0.000000</td>\n",
       "      <td>28.623128</td>\n",
       "      <td>0.000000</td>\n",
       "      <td>0.000000</td>\n",
       "      <td>0.000000</td>\n",
       "      <td>...</td>\n",
       "      <td>0.000000</td>\n",
       "      <td>1.850374</td>\n",
       "      <td>0.000000</td>\n",
       "      <td>0.000000</td>\n",
       "      <td>0.000000</td>\n",
       "    </tr>\n",
       "    <tr>\n",
       "      <th>ENSG00000284600</th>\n",
       "      <th>AC093390.2</th>\n",
       "      <td>11.596119</td>\n",
       "      <td>23.418923</td>\n",
       "      <td>4.174664</td>\n",
       "      <td>9.836841</td>\n",
       "      <td>0.000000</td>\n",
       "      <td>...</td>\n",
       "      <td>17.724282</td>\n",
       "      <td>11.102244</td>\n",
       "      <td>0.000000</td>\n",
       "      <td>0.000000</td>\n",
       "      <td>8.282221</td>\n",
       "    </tr>\n",
       "  </tbody>\n",
       "</table>\n",
       "<p>38664 rows × 49 columns</p>\n",
       "</div>"
      ],
      "text/plain": [
       "                                    001.TMD      006.CM     012.BM  \\\n",
       "ensembl_id      ensembl_gene_id                                      \n",
       "ENSG00000000003 TSPAN6            11.596119    7.806308   1.391555   \n",
       "ENSG00000000005 TNMD               0.000000    0.000000   0.000000   \n",
       "ENSG00000000419 DPM1               0.000000   31.225230  36.876198   \n",
       "ENSG00000000457 SCYL3            127.557309  145.717740  86.276387   \n",
       "ENSG00000000460 C1orf112          46.384476    0.000000  50.791744   \n",
       "...                                     ...         ...        ...   \n",
       "ENSG00000284543 LINC01226         92.768952  200.361893  27.135315   \n",
       "ENSG00000284546 SSU72P3            0.000000    0.000000   0.000000   \n",
       "ENSG00000284552 AC106774.10        0.000000    0.000000   0.000000   \n",
       "ENSG00000284572 AC099654.15        0.000000   28.623128   0.000000   \n",
       "ENSG00000284600 AC093390.2        11.596119   23.418923   4.174664   \n",
       "\n",
       "                                     016.CM     017.TMD  ...      174.CM  \\\n",
       "ensembl_id      ensembl_gene_id                          ...               \n",
       "ENSG00000000003 TSPAN6            39.347366   24.765008  ...    4.431071   \n",
       "ENSG00000000005 TNMD               2.459210    0.000000  ...    0.000000   \n",
       "ENSG00000000419 DPM1               0.000000   72.313823  ...   25.478656   \n",
       "ENSG00000000457 SCYL3             95.909204  123.825040  ...  121.854440   \n",
       "ENSG00000000460 C1orf112          51.643418   14.859005  ...   33.233029   \n",
       "...                                     ...         ...  ...         ...   \n",
       "ENSG00000284543 LINC01226        177.063146   30.708610  ...  175.027287   \n",
       "ENSG00000284546 SSU72P3            0.000000    0.000000  ...    0.000000   \n",
       "ENSG00000284552 AC106774.10       17.214473    0.000000  ...   11.077676   \n",
       "ENSG00000284572 AC099654.15        0.000000    0.000000  ...    0.000000   \n",
       "ENSG00000284600 AC093390.2         9.836841    0.000000  ...   17.724282   \n",
       "\n",
       "                                    011.TMR     043.TMS      078.CM  \\\n",
       "ensembl_id      ensembl_gene_id                                       \n",
       "ENSG00000000003 TSPAN6            51.810470   35.628629    0.000000   \n",
       "ENSG00000000005 TNMD              11.102244    0.000000    0.000000   \n",
       "ENSG00000000419 DPM1              11.102244    0.000000  161.520987   \n",
       "ENSG00000000457 SCYL3             96.219444    3.958737   92.395480   \n",
       "ENSG00000000460 C1orf112          49.960096   38.267787    0.000000   \n",
       "...                                     ...         ...         ...   \n",
       "ENSG00000284543 LINC01226        170.234402  318.018506  131.406905   \n",
       "ENSG00000284546 SSU72P3           14.802991    0.000000    0.000000   \n",
       "ENSG00000284552 AC106774.10        9.251870    0.000000   27.376439   \n",
       "ENSG00000284572 AC099654.15        1.850374    0.000000    0.000000   \n",
       "ENSG00000284600 AC093390.2        11.102244    0.000000    0.000000   \n",
       "\n",
       "                                     261.CM  \n",
       "ensembl_id      ensembl_gene_id              \n",
       "ENSG00000000003 TSPAN6            20.705553  \n",
       "ENSG00000000005 TNMD               4.141111  \n",
       "ENSG00000000419 DPM1              39.754662  \n",
       "ENSG00000000457 SCYL3            125.889763  \n",
       "ENSG00000000460 C1orf112          30.644219  \n",
       "...                                     ...  \n",
       "ENSG00000284543 LINC01226         52.177994  \n",
       "ENSG00000284546 SSU72P3            0.000000  \n",
       "ENSG00000284552 AC106774.10        0.828222  \n",
       "ENSG00000284572 AC099654.15        0.000000  \n",
       "ENSG00000284600 AC093390.2         8.282221  \n",
       "\n",
       "[38664 rows x 49 columns]"
      ]
     },
     "execution_count": 7,
     "metadata": {},
     "output_type": "execute_result"
    }
   ],
   "source": [
    "rna_levels"
   ]
  },
  {
   "cell_type": "code",
   "execution_count": 8,
   "metadata": {},
   "outputs": [],
   "source": [
    "rna_levels = rna_levels.reset_index(level='ensembl_gene_id', drop=True)"
   ]
  },
  {
   "cell_type": "code",
   "execution_count": 9,
   "metadata": {},
   "outputs": [
    {
     "data": {
      "text/plain": [
       "NULL\n"
      ]
     },
     "metadata": {},
     "output_type": "display_data"
    }
   ],
   "source": [
    "%%R -i rna_levels\n",
    "#pheatmap(rna_levels, show_colnames=FALSE, show_rownames=FALSE)"
   ]
  },
  {
   "cell_type": "markdown",
   "metadata": {},
   "source": [
    "## Isoforms data"
   ]
  },
  {
   "cell_type": "code",
   "execution_count": 42,
   "metadata": {},
   "outputs": [],
   "source": [
    "isoforms = read_table(isoforms_path)\n",
    "definite_tbm_subset = read_excel('data/raw/RNA-Seq/DefiniteTBM_CM_VM/DefTBM_CM_VM.xlsx')\n",
    "all_gene_level = read_table('data/raw/RNA-Seq/AllSamples/NormalisedCounts_AllSamples_ConditionFiltered.txt')"
   ]
  },
  {
   "cell_type": "code",
   "execution_count": 50,
   "metadata": {},
   "outputs": [
    {
     "data": {
      "text/plain": [
       "{'Description',\n",
       " 'Feature.1',\n",
       " 'baseMean',\n",
       " 'lfcSE',\n",
       " 'log2FoldChange',\n",
       " 'padj',\n",
       " 'pvalue',\n",
       " 'stat'}"
      ]
     },
     "execution_count": 50,
     "metadata": {},
     "output_type": "execute_result"
    }
   ],
   "source": [
    "# remainder: AllSamples contain the TBM subset samples \n",
    "set(definite_tbm_subset.columns) - set(all_gene_level.columns)"
   ]
  },
  {
   "cell_type": "code",
   "execution_count": 63,
   "metadata": {},
   "outputs": [],
   "source": [
    "new_samples = set(isoforms.columns.str.replace('-', '.')) - set(all_gene_level.columns)\n",
    "new_samples = Series(list(new_samples)).str.replace('.', '-')"
   ]
  },
  {
   "cell_type": "code",
   "execution_count": 64,
   "metadata": {},
   "outputs": [
    {
     "data": {
      "text/plain": [
       "0    Unnamed: 0\n",
       "1       167-TMR\n",
       "2       158-TMD\n",
       "3       175-TMD\n",
       "4       093-TMD\n",
       "5       074-TMS\n",
       "6       128-TMD\n",
       "7        233-CM\n",
       "dtype: object"
      ]
     },
     "execution_count": 64,
     "metadata": {},
     "output_type": "execute_result"
    }
   ],
   "source": [
    "new_samples"
   ]
  },
  {
   "cell_type": "code",
   "execution_count": 65,
   "metadata": {},
   "outputs": [],
   "source": [
    "def ratio_of_zeros(data):\n",
    "    return (data == 0).sum() / len(data)"
   ]
  },
  {
   "cell_type": "code",
   "execution_count": 66,
   "metadata": {},
   "outputs": [
    {
     "data": {
      "text/plain": [
       "0.7152995974582651"
      ]
     },
     "execution_count": 66,
     "metadata": {},
     "output_type": "execute_result"
    }
   ],
   "source": [
    "ratio_of_zeros(isoforms['006-CM'])"
   ]
  },
  {
   "cell_type": "code",
   "execution_count": 67,
   "metadata": {},
   "outputs": [
    {
     "data": {
      "text/plain": [
       "0.9889275926799642"
      ]
     },
     "execution_count": 67,
     "metadata": {},
     "output_type": "execute_result"
    }
   ],
   "source": [
    "ratio_of_zeros(isoforms['167-TMR'])"
   ]
  },
  {
   "cell_type": "code",
   "execution_count": 69,
   "metadata": {},
   "outputs": [
    {
     "data": {
      "text/plain": [
       "Unnamed: 0    0.000000\n",
       "167-TMR       0.988928\n",
       "158-TMD       0.994855\n",
       "175-TMD       0.981073\n",
       "093-TMD       0.962913\n",
       "074-TMS       0.973112\n",
       "128-TMD       0.980315\n",
       "233-CM        0.974618\n",
       "dtype: float64"
      ]
     },
     "execution_count": 69,
     "metadata": {},
     "output_type": "execute_result"
    }
   ],
   "source": [
    "ratio_of_zeros(isoforms[new_samples])"
   ]
  },
  {
   "cell_type": "code",
   "execution_count": 70,
   "metadata": {},
   "outputs": [
    {
     "data": {
      "text/plain": [
       "count    49.000000\n",
       "mean      0.682162\n",
       "std       0.096854\n",
       "min       0.481524\n",
       "25%       0.613379\n",
       "50%       0.666839\n",
       "75%       0.756021\n",
       "max       0.881521\n",
       "dtype: float64"
      ]
     },
     "execution_count": 70,
     "metadata": {},
     "output_type": "execute_result"
    }
   ],
   "source": [
    "ratio_of_zeros(isoforms[isoforms.columns.difference(new_samples)]).describe()"
   ]
  }
 ],
 "metadata": {
  "kernelspec": {
   "display_name": "Python 3",
   "language": "python",
   "name": "python3"
  },
  "language_info": {
   "codemirror_mode": {
    "name": "ipython",
    "version": 3
   },
   "file_extension": ".py",
   "mimetype": "text/x-python",
   "name": "python",
   "nbconvert_exporter": "python",
   "pygments_lexer": "ipython3",
   "version": "3.7.2"
  }
 },
 "nbformat": 4,
 "nbformat_minor": 2
}
