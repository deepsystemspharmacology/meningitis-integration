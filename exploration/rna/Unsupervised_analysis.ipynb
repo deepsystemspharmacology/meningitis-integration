{
 "cells": [
  {
   "cell_type": "code",
   "execution_count": 1,
   "metadata": {},
   "outputs": [],
   "source": [
    "from helpers.utilities import *\n",
    "%run helpers/notebook_setup.ipynb"
   ]
  },
  {
   "cell_type": "markdown",
   "metadata": {},
   "source": [
    "# RNA-Seq"
   ]
  },
  {
   "cell_type": "code",
   "execution_count": 2,
   "metadata": {},
   "outputs": [
    {
     "name": "stdout",
     "output_type": "stream",
     "text": [
      "all_samples_counts.csv\n",
      "all_samples.csv\n",
      "clinical_data_ordered_to_match_rna_counts.csv\n",
      "clinical_data_ordered_to_match_rna_deseq2.csv\n",
      "definite_tbm_against_all.csv\n"
     ]
    }
   ],
   "source": [
    "!ls data/clean/rna/"
   ]
  },
  {
   "cell_type": "code",
   "execution_count": 3,
   "metadata": {
    "tags": [
     "parameters"
    ]
   },
   "outputs": [],
   "source": [
    "gene_level_path = 'data/clean/rna/all_samples.csv'\n",
    "clinical_path = 'data/clean/clinical/data.csv'"
   ]
  },
  {
   "cell_type": "code",
   "execution_count": 4,
   "metadata": {},
   "outputs": [],
   "source": [
    "rna_levels = read_csv(gene_level_path, index_col=[0, 1])"
   ]
  },
  {
   "cell_type": "code",
   "execution_count": 5,
   "metadata": {},
   "outputs": [],
   "source": [
    "assert not rna_levels.isnull().any().any()"
   ]
  },
  {
   "cell_type": "code",
   "execution_count": 6,
   "metadata": {},
   "outputs": [
    {
     "data": {
      "text/html": [
       "<div>\n",
       "<style scoped>\n",
       "    .dataframe tbody tr th:only-of-type {\n",
       "        vertical-align: middle;\n",
       "    }\n",
       "\n",
       "    .dataframe tbody tr th {\n",
       "        vertical-align: top;\n",
       "    }\n",
       "\n",
       "    .dataframe thead th {\n",
       "        text-align: right;\n",
       "    }\n",
       "</style>\n",
       "<table border=\"1\" class=\"dataframe\">\n",
       "  <thead>\n",
       "    <tr style=\"text-align: right;\">\n",
       "      <th></th>\n",
       "      <th></th>\n",
       "      <th>001.TMD</th>\n",
       "      <th>006.CM</th>\n",
       "      <th>012.BM</th>\n",
       "      <th>016.CM</th>\n",
       "      <th>017.TMD</th>\n",
       "      <th>...</th>\n",
       "      <th>174.CM</th>\n",
       "      <th>011.TMR</th>\n",
       "      <th>043.TMS</th>\n",
       "      <th>078.CM</th>\n",
       "      <th>261.CM</th>\n",
       "    </tr>\n",
       "    <tr>\n",
       "      <th>ensembl_id</th>\n",
       "      <th>ensembl_gene_id</th>\n",
       "      <th></th>\n",
       "      <th></th>\n",
       "      <th></th>\n",
       "      <th></th>\n",
       "      <th></th>\n",
       "      <th></th>\n",
       "      <th></th>\n",
       "      <th></th>\n",
       "      <th></th>\n",
       "      <th></th>\n",
       "      <th></th>\n",
       "    </tr>\n",
       "  </thead>\n",
       "  <tbody>\n",
       "    <tr>\n",
       "      <th>ENSG00000000003</th>\n",
       "      <th>TSPAN6</th>\n",
       "      <td>11.596119</td>\n",
       "      <td>7.806308</td>\n",
       "      <td>1.391555</td>\n",
       "      <td>39.347366</td>\n",
       "      <td>24.765008</td>\n",
       "      <td>...</td>\n",
       "      <td>4.431071</td>\n",
       "      <td>51.810470</td>\n",
       "      <td>35.628629</td>\n",
       "      <td>0.000000</td>\n",
       "      <td>20.705553</td>\n",
       "    </tr>\n",
       "    <tr>\n",
       "      <th>ENSG00000000005</th>\n",
       "      <th>TNMD</th>\n",
       "      <td>0.000000</td>\n",
       "      <td>0.000000</td>\n",
       "      <td>0.000000</td>\n",
       "      <td>2.459210</td>\n",
       "      <td>0.000000</td>\n",
       "      <td>...</td>\n",
       "      <td>0.000000</td>\n",
       "      <td>11.102244</td>\n",
       "      <td>0.000000</td>\n",
       "      <td>0.000000</td>\n",
       "      <td>4.141111</td>\n",
       "    </tr>\n",
       "    <tr>\n",
       "      <th>ENSG00000000419</th>\n",
       "      <th>DPM1</th>\n",
       "      <td>0.000000</td>\n",
       "      <td>31.225230</td>\n",
       "      <td>36.876198</td>\n",
       "      <td>0.000000</td>\n",
       "      <td>72.313823</td>\n",
       "      <td>...</td>\n",
       "      <td>25.478656</td>\n",
       "      <td>11.102244</td>\n",
       "      <td>0.000000</td>\n",
       "      <td>161.520987</td>\n",
       "      <td>39.754662</td>\n",
       "    </tr>\n",
       "  </tbody>\n",
       "</table>\n",
       "<p>3 rows × 49 columns</p>\n",
       "</div>"
      ],
      "text/plain": [
       "                                   001.TMD     006.CM     012.BM     016.CM  \\\n",
       "ensembl_id      ensembl_gene_id                                               \n",
       "ENSG00000000003 TSPAN6           11.596119   7.806308   1.391555  39.347366   \n",
       "ENSG00000000005 TNMD              0.000000   0.000000   0.000000   2.459210   \n",
       "ENSG00000000419 DPM1              0.000000  31.225230  36.876198   0.000000   \n",
       "\n",
       "                                   017.TMD  ...     174.CM    011.TMR  \\\n",
       "ensembl_id      ensembl_gene_id             ...                         \n",
       "ENSG00000000003 TSPAN6           24.765008  ...   4.431071  51.810470   \n",
       "ENSG00000000005 TNMD              0.000000  ...   0.000000  11.102244   \n",
       "ENSG00000000419 DPM1             72.313823  ...  25.478656  11.102244   \n",
       "\n",
       "                                   043.TMS      078.CM     261.CM  \n",
       "ensembl_id      ensembl_gene_id                                    \n",
       "ENSG00000000003 TSPAN6           35.628629    0.000000  20.705553  \n",
       "ENSG00000000005 TNMD              0.000000    0.000000   4.141111  \n",
       "ENSG00000000419 DPM1              0.000000  161.520987  39.754662  \n",
       "\n",
       "[3 rows x 49 columns]"
      ]
     },
     "execution_count": 6,
     "metadata": {},
     "output_type": "execute_result"
    }
   ],
   "source": [
    "rna_levels.head(3)"
   ]
  },
  {
   "cell_type": "code",
   "execution_count": 7,
   "metadata": {},
   "outputs": [
    {
     "data": {
      "text/html": [
       "<div>\n",
       "<style scoped>\n",
       "    .dataframe tbody tr th:only-of-type {\n",
       "        vertical-align: middle;\n",
       "    }\n",
       "\n",
       "    .dataframe tbody tr th {\n",
       "        vertical-align: top;\n",
       "    }\n",
       "\n",
       "    .dataframe thead tr th {\n",
       "        text-align: left;\n",
       "    }\n",
       "</style>\n",
       "<table border=\"1\" class=\"dataframe\">\n",
       "  <thead>\n",
       "    <tr>\n",
       "      <th>ensembl_id</th>\n",
       "      <th>ENSG00000000003</th>\n",
       "      <th>ENSG00000000005</th>\n",
       "      <th>ENSG00000000419</th>\n",
       "      <th>ENSG00000000457</th>\n",
       "      <th>ENSG00000000460</th>\n",
       "      <th>...</th>\n",
       "      <th>ENSG00000284543</th>\n",
       "      <th>ENSG00000284546</th>\n",
       "      <th>ENSG00000284552</th>\n",
       "      <th>ENSG00000284572</th>\n",
       "      <th>ENSG00000284600</th>\n",
       "    </tr>\n",
       "    <tr>\n",
       "      <th>ensembl_gene_id</th>\n",
       "      <th>TSPAN6</th>\n",
       "      <th>TNMD</th>\n",
       "      <th>DPM1</th>\n",
       "      <th>SCYL3</th>\n",
       "      <th>C1orf112</th>\n",
       "      <th>...</th>\n",
       "      <th>LINC01226</th>\n",
       "      <th>SSU72P3</th>\n",
       "      <th>AC106774.10</th>\n",
       "      <th>AC099654.15</th>\n",
       "      <th>AC093390.2</th>\n",
       "    </tr>\n",
       "  </thead>\n",
       "  <tbody>\n",
       "    <tr>\n",
       "      <th>001.TMD</th>\n",
       "      <td>11.596119</td>\n",
       "      <td>0.0</td>\n",
       "      <td>0.000000</td>\n",
       "      <td>127.557309</td>\n",
       "      <td>46.384476</td>\n",
       "      <td>...</td>\n",
       "      <td>92.768952</td>\n",
       "      <td>0.0</td>\n",
       "      <td>0.0</td>\n",
       "      <td>0.000000</td>\n",
       "      <td>11.596119</td>\n",
       "    </tr>\n",
       "    <tr>\n",
       "      <th>006.CM</th>\n",
       "      <td>7.806308</td>\n",
       "      <td>0.0</td>\n",
       "      <td>31.225230</td>\n",
       "      <td>145.717740</td>\n",
       "      <td>0.000000</td>\n",
       "      <td>...</td>\n",
       "      <td>200.361893</td>\n",
       "      <td>0.0</td>\n",
       "      <td>0.0</td>\n",
       "      <td>28.623128</td>\n",
       "      <td>23.418923</td>\n",
       "    </tr>\n",
       "    <tr>\n",
       "      <th>012.BM</th>\n",
       "      <td>1.391555</td>\n",
       "      <td>0.0</td>\n",
       "      <td>36.876198</td>\n",
       "      <td>86.276387</td>\n",
       "      <td>50.791744</td>\n",
       "      <td>...</td>\n",
       "      <td>27.135315</td>\n",
       "      <td>0.0</td>\n",
       "      <td>0.0</td>\n",
       "      <td>0.000000</td>\n",
       "      <td>4.174664</td>\n",
       "    </tr>\n",
       "  </tbody>\n",
       "</table>\n",
       "<p>3 rows × 38664 columns</p>\n",
       "</div>"
      ],
      "text/plain": [
       "ensembl_id      ENSG00000000003 ENSG00000000005 ENSG00000000419  \\\n",
       "ensembl_gene_id          TSPAN6            TNMD            DPM1   \n",
       "001.TMD               11.596119             0.0        0.000000   \n",
       "006.CM                 7.806308             0.0       31.225230   \n",
       "012.BM                 1.391555             0.0       36.876198   \n",
       "\n",
       "ensembl_id      ENSG00000000457 ENSG00000000460  ... ENSG00000284543  \\\n",
       "ensembl_gene_id           SCYL3        C1orf112  ...       LINC01226   \n",
       "001.TMD              127.557309       46.384476  ...       92.768952   \n",
       "006.CM               145.717740        0.000000  ...      200.361893   \n",
       "012.BM                86.276387       50.791744  ...       27.135315   \n",
       "\n",
       "ensembl_id      ENSG00000284546 ENSG00000284552 ENSG00000284572  \\\n",
       "ensembl_gene_id         SSU72P3     AC106774.10     AC099654.15   \n",
       "001.TMD                     0.0             0.0        0.000000   \n",
       "006.CM                      0.0             0.0       28.623128   \n",
       "012.BM                      0.0             0.0        0.000000   \n",
       "\n",
       "ensembl_id      ENSG00000284600  \n",
       "ensembl_gene_id      AC093390.2  \n",
       "001.TMD               11.596119  \n",
       "006.CM                23.418923  \n",
       "012.BM                 4.174664  \n",
       "\n",
       "[3 rows x 38664 columns]"
      ]
     },
     "execution_count": 7,
     "metadata": {},
     "output_type": "execute_result"
    }
   ],
   "source": [
    "rna_levels.T.head(3)"
   ]
  },
  {
   "cell_type": "code",
   "execution_count": 8,
   "metadata": {},
   "outputs": [
    {
     "data": {
      "text/plain": [
       "(38664, 49)"
      ]
     },
     "execution_count": 8,
     "metadata": {},
     "output_type": "execute_result"
    }
   ],
   "source": [
    "len(rna_levels), len(rna_levels.columns)"
   ]
  },
  {
   "cell_type": "code",
   "execution_count": 9,
   "metadata": {},
   "outputs": [],
   "source": [
    "rna_levels = rna_levels.reset_index(level='ensembl_gene_id', drop=True)"
   ]
  },
  {
   "cell_type": "code",
   "execution_count": null,
   "metadata": {},
   "outputs": [],
   "source": [
    "%R -i rna_levels "
   ]
  },
  {
   "cell_type": "code",
   "execution_count": null,
   "metadata": {},
   "outputs": [],
   "source": [
    "from plots.annotations import generate_patient_annotations"
   ]
  },
  {
   "cell_type": "code",
   "execution_count": null,
   "metadata": {},
   "outputs": [],
   "source": [
    "clinical_data = read_csv(clinical_path, index_col=0)\n",
    "clinical_data.head(2)"
   ]
  },
  {
   "cell_type": "code",
   "execution_count": null,
   "metadata": {},
   "outputs": [],
   "source": [
    "clinical_ordered = clinical_data.loc[rna_levels.columns]\n",
    "patient_annotations = generate_patient_annotations(clinical_ordered)"
   ]
  },
  {
   "cell_type": "code",
   "execution_count": null,
   "metadata": {},
   "outputs": [],
   "source": [
    "%%R -i patient_annotations\n",
    "source('plots/colors.R');\n",
    "library(pheatmap)\n",
    "\n",
    "colnames(rna_levels) <- sub('^X', '', colnames(rna_levels))\n",
    "rownames(patient_annotations) <- colnames(rna_levels)\n",
    "names(patient_annotations) <- sub('\\\\.', ' ', names(patient_annotations))"
   ]
  },
  {
   "cell_type": "code",
   "execution_count": null,
   "metadata": {},
   "outputs": [],
   "source": [
    "%%R -w 800 -h 800\n",
    "pheatmap::pheatmap(\n",
    "    log10(rna_levels + 0.01),\n",
    "    show_colnames=FALSE,\n",
    "    show_rownames=FALSE,\n",
    "    kmeans_k=500,\n",
    "    annotation_col=patient_annotations,\n",
    "    annotation_colors=patient_colors\n",
    ")"
   ]
  }
 ],
 "metadata": {
  "kernelspec": {
   "display_name": "Python 3",
   "language": "python",
   "name": "python3"
  },
  "language_info": {
   "codemirror_mode": {
    "name": "ipython",
    "version": 3
   },
   "file_extension": ".py",
   "mimetype": "text/x-python",
   "name": "python",
   "nbconvert_exporter": "python",
   "pygments_lexer": "ipython3",
   "version": "3.7.6"
  }
 },
 "nbformat": 4,
 "nbformat_minor": 4
}
