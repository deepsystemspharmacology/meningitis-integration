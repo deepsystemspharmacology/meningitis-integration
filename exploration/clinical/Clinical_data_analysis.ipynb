{
 "cells": [
  {
   "cell_type": "code",
   "execution_count": 1,
   "metadata": {},
   "outputs": [],
   "source": [
    "from helpers.utilities import *\n",
    "%run helpers/notebook_setup.ipynb"
   ]
  },
  {
   "cell_type": "code",
   "execution_count": 4,
   "metadata": {},
   "outputs": [],
   "source": [
    "dateparse = lambda x: pd.datetime.strptime(x, '%Y-%m-%d')"
   ]
  },
  {
   "cell_type": "code",
   "execution_count": 5,
   "metadata": {},
   "outputs": [],
   "source": [
    "clinical_data = read_csv(\n",
    "    'data/clean/clinical/data.csv', index_col=0,\n",
    "    parse_dates=['AdmissionDate', 'Birthday', 'DateDeath']\n",
    ")"
   ]
  },
  {
   "cell_type": "code",
   "execution_count": 6,
   "metadata": {},
   "outputs": [
    {
     "data": {
      "text/plain": [
       "PatientID\n",
       "001.TMD   12817 days\n",
       "006.CM    17814 days\n",
       "007.TMD   11311 days\n",
       "011.TMR    9849 days\n",
       "012.BM    19764 days\n",
       "             ...    \n",
       "247.CM    13872 days\n",
       "248.TMD   14246 days\n",
       "255.VM     9679 days\n",
       "256.CM    18853 days\n",
       "261.CM    16721 days\n",
       "Name: age_at_admission, Length: 95, dtype: timedelta64[ns]"
      ]
     },
     "execution_count": 6,
     "metadata": {},
     "output_type": "execute_result"
    }
   ],
   "source": [
    "clinical_data['age_at_admission'] = clinical_data['AdmissionDate'] - clinical_data['Birthday']\n",
    "clinical_data['age_at_admission']"
   ]
  },
  {
   "cell_type": "markdown",
   "metadata": {},
   "source": [
    "### Survival"
   ]
  },
  {
   "cell_type": "code",
   "execution_count": 7,
   "metadata": {},
   "outputs": [
    {
     "data": {
      "text/plain": [
       "PatientID\n",
       "247.CM        NaT\n",
       "248.TMD       NaT\n",
       "255.VM        NaT\n",
       "256.CM        NaT\n",
       "261.CM    10 days\n",
       "Name: survival, dtype: timedelta64[ns]"
      ]
     },
     "execution_count": 7,
     "metadata": {},
     "output_type": "execute_result"
    }
   ],
   "source": [
    "clinical_data['survival'] = (\n",
    "    clinical_data['DateDeath'] - clinical_data['AdmissionDate']\n",
    ")\n",
    "clinical_data['survival'].tail()"
   ]
  },
  {
   "cell_type": "markdown",
   "metadata": {},
   "source": [
    "The follow-up was 6 months"
   ]
  },
  {
   "cell_type": "code",
   "execution_count": 8,
   "metadata": {},
   "outputs": [],
   "source": [
    "follow_up = np.timedelta64(6, 'M')"
   ]
  },
  {
   "cell_type": "code",
   "execution_count": 9,
   "metadata": {},
   "outputs": [
    {
     "data": {
      "text/plain": [
       "PatientID\n",
       "247.CM    182 days 14:54:36\n",
       "248.TMD   182 days 14:54:36\n",
       "255.VM    182 days 14:54:36\n",
       "256.CM    182 days 14:54:36\n",
       "261.CM     10 days 00:00:00\n",
       "Name: censored_survival, dtype: timedelta64[ns]"
      ]
     },
     "execution_count": 9,
     "metadata": {},
     "output_type": "execute_result"
    }
   ],
   "source": [
    "clinical_data['censored_survival'] = clinical_data.survival.fillna(follow_up)\n",
    "clinical_data['censored_survival'].tail()"
   ]
  },
  {
   "cell_type": "code",
   "execution_count": 10,
   "metadata": {},
   "outputs": [],
   "source": [
    "response_variables = [\n",
    "    'survival',\n",
    "    'Death'\n",
    "]"
   ]
  },
  {
   "cell_type": "code",
   "execution_count": 11,
   "metadata": {},
   "outputs": [],
   "source": [
    "# clinical_data[[]].to_csv('clean/clinical/responses.csv')"
   ]
  },
  {
   "cell_type": "code",
   "execution_count": 12,
   "metadata": {},
   "outputs": [],
   "source": [
    "# clinical_data[[]].to_csv('clean/clinical/responses.csv')"
   ]
  },
  {
   "cell_type": "code",
   "execution_count": 13,
   "metadata": {},
   "outputs": [],
   "source": [
    "# clinical_data[[]].to_csv('clean/clinical/covariates.csv')"
   ]
  }
 ],
 "metadata": {
  "kernelspec": {
   "display_name": "Python 3",
   "language": "python",
   "name": "python3"
  },
  "language_info": {
   "codemirror_mode": {
    "name": "ipython",
    "version": 3
   },
   "file_extension": ".py",
   "mimetype": "text/x-python",
   "name": "python",
   "nbconvert_exporter": "python",
   "pygments_lexer": "ipython3",
   "version": "3.7.2"
  }
 },
 "nbformat": 4,
 "nbformat_minor": 2
}
