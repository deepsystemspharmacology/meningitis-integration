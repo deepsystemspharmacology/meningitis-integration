{
 "cells": [
  {
   "cell_type": "code",
   "execution_count": 1,
   "metadata": {},
   "outputs": [],
   "source": [
    "from helpers.utilities import (\n",
    "    DataFrame, Series, partial,\n",
    "    T, F, pd\n",
    ")\n",
    "%run helpers/notebook_setup.ipynb"
   ]
  },
  {
   "cell_type": "code",
   "execution_count": 2,
   "metadata": {},
   "outputs": [
    {
     "name": "stdout",
     "output_type": "stream",
     "text": [
      "Importing Jupyter notebook from /home/krassowski/meningitis-integration/analyses/integration/Uniform_preprocessing.ipynb\n"
     ]
    }
   ],
   "source": [
    "from analyses.integration.Uniform_preprocessing import (\n",
    "    # data matrices\n",
    "    raw_protein_matrix, raw_rna_matrix,\n",
    "    clinical_union as clinical,\n",
    "    # misc\n",
    "    RNA_OUTLIERS,\n",
    "    patients_union, patients_union_series, patients_with_both,\n",
    "    # full response vectors derived from clinical data for\n",
    "    # the union of patients with CSF RNA or with protein data\n",
    "    protein_conditions,\n",
    "    # preprocessing\n",
    "    preprocess,\n",
    "\n",
    "    # subsets of patients (uniform train-test split)\n",
    "    full_cm_and_tmdr,        # CM+TMD+TMR patients with CSF RNA or protein data\n",
    "    intersect_cm_and_tmdr,   # CM+TMD+TMR patients with both CSF RNA and protein data\n",
    "    cm_and_tmdr_validation,  # CM+TMD+TMR patients with single omic data only\n",
    "    tms_validation,          # CM patients with single omic data only + all TMS patients\n",
    ")"
   ]
  },
  {
   "cell_type": "code",
   "execution_count": 3,
   "metadata": {},
   "outputs": [
    {
     "name": "stdout",
     "output_type": "stream",
     "text": [
      "Type 'citation(\"pROC\")' for a citation.\n",
      "\n",
      "Attaching package: ‘pROC’\n",
      "\n",
      "The following objects are masked from ‘package:stats’:\n",
      "\n",
      "    cov, smooth, var\n",
      "\n",
      "Loading required package: ROCR\n",
      "Loading required package: gplots\n",
      "\n",
      "Attaching package: ‘gplots’\n",
      "\n",
      "The following object is masked from ‘package:stats’:\n",
      "\n",
      "    lowess\n",
      "\n",
      "Loading required package: data.table\n",
      " \n",
      "cvAUC version: 1.1.0\n",
      "Notice to cvAUC users: Major speed improvements in version 1.1.0\n",
      " \n"
     ]
    }
   ],
   "source": [
    "from sklearn.pipeline import make_pipeline\n",
    "from machine_learning.repeated_cv import null_distributions_over_cv, cross_validate_and_test"
   ]
  },
  {
   "cell_type": "code",
   "execution_count": 4,
   "metadata": {},
   "outputs": [],
   "source": [
    "from plots.cm_vs_tmdr_or_tms import cm_vs_tmdr_or_tms_roc_curves\n",
    "\n",
    "%R import::here(roc_auc_tmdr_cm, .from='plots/cm_vs_tmdr_or_tms.R')\n",
    "%R import::here(plot_roc_auc, .from='plots/roc_auc.R')"
   ]
  },
  {
   "cell_type": "code",
   "execution_count": 5,
   "metadata": {},
   "outputs": [],
   "source": [
    "from machine_learning.multi_block_pipeline import TwoBlockPipeline\n",
    "from machine_learning.predictions import predict_proba\n",
    "from machine_learning.preprocessing import ConditionsVectorizer, OutliersFilter\n",
    "\n",
    "from utilities import subset, add_supervision_block"
   ]
  },
  {
   "cell_type": "code",
   "execution_count": 6,
   "metadata": {},
   "outputs": [],
   "source": [
    "cross_validate = partial(\n",
    "    cross_validate_and_test,\n",
    "    response=clinical.Meningitis,\n",
    "    case_class='Tuberculosis',\n",
    "    use_seed=True,\n",
    "    multi_scale=True,\n",
    "    test_size_min=0.16,\n",
    "    test_size_max=0.33,\n",
    "    min_class_members=2\n",
    ")"
   ]
  },
  {
   "cell_type": "code",
   "execution_count": 7,
   "metadata": {},
   "outputs": [],
   "source": [
    "from sklearn.linear_model import LogisticRegressionCV"
   ]
  },
  {
   "cell_type": "code",
   "execution_count": 8,
   "metadata": {},
   "outputs": [],
   "source": [
    "%%R\n",
    "import::here(\n",
    "    coefficients_volcano_plot, plots_most_frequently_included,\n",
    "    plot_most_significant, plot_highest_magnitutude, mean_vs_coefficients,\n",
    "    .from='plots/coefficients.R'\n",
    ")"
   ]
  },
  {
   "cell_type": "markdown",
   "metadata": {},
   "source": [
    "# Logistic regression (ridge normalization)"
   ]
  },
  {
   "cell_type": "code",
   "execution_count": 19,
   "metadata": {
    "tags": [
     "parameters"
    ]
   },
   "outputs": [],
   "source": [
    "CV_REPEATS_DEMONSTRATIONS = 20\n",
    "CV_REPEATS_FINAL_MODEL = 100"
   ]
  },
  {
   "cell_type": "markdown",
   "metadata": {},
   "source": [
    "## Using the intersection - separate normalizations"
   ]
  },
  {
   "cell_type": "code",
   "execution_count": 11,
   "metadata": {},
   "outputs": [],
   "source": [
    "from machine_learning.multi_block_pipeline import MultiBlockPipeline\n",
    "from machine_learning.data_classes import BlocksWrapper\n",
    "from machine_learning.combine import BlocksConcatenation\n",
    "from machine_learning.adapter import SklearnAdapter\n",
    "from machine_learning.utilities import Suffixer"
   ]
  },
  {
   "cell_type": "code",
   "execution_count": 12,
   "metadata": {},
   "outputs": [],
   "source": [
    "def create_block_ridge_pipeline(smallest_group_n, outliers, subset=None, verbose=False, **kwargs):\n",
    "    return MultiBlockPipeline(\n",
    "        block_pipelines={\n",
    "            'Protein': make_pipeline(\n",
    "                preprocess('protein', smallest_group_n, outliers, verbose=verbose, **kwargs),\n",
    "                Suffixer('.Protein')\n",
    "            ),\n",
    "            'RNA': make_pipeline(\n",
    "                preprocess('rna', smallest_group_n, outliers, verbose=verbose, **kwargs),\n",
    "                Suffixer('.RNA')\n",
    "            ),\n",
    "            'Meningitis': make_pipeline(\n",
    "                OutliersFilter(outlier_patients=outliers, verbose=verbose),\n",
    "                ConditionsVectorizer(mapping=clinical.Meningitis, case_class='Tuberculosis')\n",
    "            )\n",
    "        },\n",
    "        combine=BlocksConcatenation(blocks=['Protein', 'RNA']),\n",
    "        adapter=SklearnAdapter(Combined='X', Meningitis='y'),\n",
    "        model=LogisticRegressionCV(\n",
    "            penalty='l2', solver='liblinear',\n",
    "            class_weight='balanced',\n",
    "            max_iter=150\n",
    "        ),\n",
    "        predict=predict_proba\n",
    "    )"
   ]
  },
  {
   "cell_type": "code",
   "execution_count": 13,
   "metadata": {},
   "outputs": [
    {
     "name": "stdout",
     "output_type": "stream",
     "text": [
      "[1] \"Retaining: 99.92%\"\n",
      "[1] \"Retaining: 52.62%\"\n"
     ]
    }
   ],
   "source": [
    "ridge_pipeline_concat_intersect = create_block_ridge_pipeline(7, outliers=RNA_OUTLIERS)"
   ]
  },
  {
   "cell_type": "code",
   "execution_count": 14,
   "metadata": {},
   "outputs": [
    {
     "name": "stdout",
     "output_type": "stream",
     "text": [
      "OutliersFilter: filtering out 0 outliers\n"
     ]
    }
   ],
   "source": [
    "train_data = (\n",
    "    BlocksWrapper({\n",
    "        'Protein': subset(raw_protein_matrix, intersect_cm_and_tmdr),\n",
    "        'RNA': subset(raw_rna_matrix, intersect_cm_and_tmdr, outliers=RNA_OUTLIERS)\n",
    "    })\n",
    "    .align_indices()\n",
    "    .add_supervision_block(intersect_cm_and_tmdr, name='Meningitis')\n",
    "    .blocks\n",
    ")"
   ]
  },
  {
   "cell_type": "code",
   "execution_count": 15,
   "metadata": {},
   "outputs": [
    {
     "data": {
      "text/plain": [
       "Cryptococcal    14\n",
       "Tuberculosis    11\n",
       "dtype: int64"
      ]
     },
     "execution_count": 15,
     "metadata": {},
     "output_type": "execute_result"
    }
   ],
   "source": [
    "train_data['Protein'].index.map(clinical.Meningitis).value_counts()"
   ]
  },
  {
   "cell_type": "code",
   "execution_count": 16,
   "metadata": {},
   "outputs": [
    {
     "data": {
      "text/plain": [
       "Cryptococcal    14\n",
       "Tuberculosis    11\n",
       "dtype: int64"
      ]
     },
     "execution_count": 16,
     "metadata": {},
     "output_type": "execute_result"
    }
   ],
   "source": [
    "train_data['RNA'].index.map(clinical.Meningitis).value_counts()"
   ]
  },
  {
   "cell_type": "markdown",
   "metadata": {},
   "source": [
    "The test data is only available for patients with single omics, not for patients with both omics, as this was the criteria for initial train-test split:"
   ]
  },
  {
   "cell_type": "code",
   "execution_count": 17,
   "metadata": {},
   "outputs": [],
   "source": [
    "assert not set(cm_and_tmdr_validation).intersection(set(patients_with_both))"
   ]
  },
  {
   "cell_type": "markdown",
   "metadata": {},
   "source": [
    "If I want to have a test set using these data, it would be degenerate with half of the data (for one or the other omic) missing. The tests could be performed twice, once with RNA missing, once with protein missing as such it would be the best to perform the tests outside of this function which allows for one test only:"
   ]
  },
  {
   "cell_type": "code",
   "execution_count": 20,
   "metadata": {},
   "outputs": [
    {
     "name": "stdout",
     "output_type": "stream",
     "text": [
      "Fitting cross-validation models...\n"
     ]
    },
    {
     "data": {
      "application/vnd.jupyter.widget-view+json": {
       "model_id": "87694343176d4f708897ae8dfbf9f98e",
       "version_major": 2,
       "version_minor": 0
      },
      "text/plain": [
       "HBox(children=(FloatProgress(value=0.0), HTML(value='')))"
      ]
     },
     "metadata": {},
     "output_type": "display_data"
    },
    {
     "name": "stdout",
     "output_type": "stream",
     "text": [
      "\n",
      "Re-fitting on the entire dataset (no parameters estimated)...\n"
     ]
    }
   ],
   "source": [
    "concat_intersect_ridge = cross_validate(\n",
    "    ridge_pipeline_concat_intersect,\n",
    "    train_data,\n",
    "    test_data=None,\n",
    "    n=CV_REPEATS_FINAL_MODEL,\n",
    "    coefficients={'combined': 'coef_'},\n",
    "    verbose=T,\n",
    "    stratify=T,\n",
    "    early_normalization=False\n",
    ")"
   ]
  },
  {
   "cell_type": "markdown",
   "metadata": {},
   "source": [
    "### Test case 1: Use patients with Protein data only (and set missing RNA observations to zero):"
   ]
  },
  {
   "cell_type": "code",
   "execution_count": 21,
   "metadata": {},
   "outputs": [
    {
     "name": "stdout",
     "output_type": "stream",
     "text": [
      "OutliersFilter: filtering out 3 outliers\n",
      "OutliersFilter: filtering out 6 outliers\n"
     ]
    }
   ],
   "source": [
    "test_protein = (\n",
    "    BlocksWrapper({\n",
    "        'Protein': subset(raw_protein_matrix, cm_and_tmdr_validation, outliers=RNA_OUTLIERS),\n",
    "        'RNA': subset(raw_rna_matrix, cm_and_tmdr_validation, outliers=RNA_OUTLIERS)\n",
    "    })\n",
    "    .nullify_exclusively('RNA')\n",
    "    .transform_single_block('RNA', Suffixer('.RNA'), mark=True)\n",
    "    .add_supervision_block(cm_and_tmdr_validation, name='Meningitis')\n",
    ")\n",
    "\n",
    "test_protein_dataset = test_protein.to_dataset(\n",
    "    case_class='Tuberculosis',\n",
    "    response=clinical.Meningitis\n",
    ")"
   ]
  },
  {
   "cell_type": "code",
   "execution_count": 22,
   "metadata": {},
   "outputs": [],
   "source": [
    "protein_test_result = concat_intersect_ridge.validate(test_protein_dataset)"
   ]
  },
  {
   "cell_type": "markdown",
   "metadata": {},
   "source": [
    "### Test case 2: Use patients with RNA data only (and set missing Protein observations to zero):"
   ]
  },
  {
   "cell_type": "code",
   "execution_count": 23,
   "metadata": {},
   "outputs": [
    {
     "name": "stdout",
     "output_type": "stream",
     "text": [
      "OutliersFilter: filtering out 3 outliers\n",
      "OutliersFilter: filtering out 6 outliers\n"
     ]
    }
   ],
   "source": [
    "test_rna = (\n",
    "    BlocksWrapper({\n",
    "        'Protein': subset(raw_protein_matrix, cm_and_tmdr_validation, outliers=RNA_OUTLIERS),\n",
    "        'RNA': subset(raw_rna_matrix, cm_and_tmdr_validation, outliers=RNA_OUTLIERS)\n",
    "    })\n",
    "    .nullify_exclusively('Protein')\n",
    "    .transform_single_block('Protein', Suffixer('.Protein'), mark=True)\n",
    "    .add_supervision_block(cm_and_tmdr_validation, name='Meningitis')\n",
    ")\n",
    "\n",
    "test_rna_dataset = test_rna.to_dataset(\n",
    "    case_class='Tuberculosis',\n",
    "    response=clinical.Meningitis\n",
    ")"
   ]
  },
  {
   "cell_type": "code",
   "execution_count": 24,
   "metadata": {},
   "outputs": [],
   "source": [
    "rna_test_result = concat_intersect_ridge.validate(test_rna_dataset)"
   ]
  },
  {
   "cell_type": "code",
   "execution_count": 25,
   "metadata": {},
   "outputs": [
    {
     "data": {
      "application/vnd.jupyter.widget-view+json": {
       "model_id": "bc52da841b8a405d8b95f08f0eb04a88",
       "version_major": 2,
       "version_minor": 0
      },
      "text/plain": [
       "HBox(children=(FloatProgress(value=0.0), HTML(value='')))"
      ]
     },
     "metadata": {},
     "output_type": "display_data"
    },
    {
     "name": "stdout",
     "output_type": "stream",
     "text": [
      "\n"
     ]
    },
    {
     "data": {
      "application/vnd.jupyter.widget-view+json": {
       "model_id": "2d1a285376ba4330aa54338c04fa2300",
       "version_major": 2,
       "version_minor": 0
      },
      "text/plain": [
       "HBox(children=(FloatProgress(value=0.0), HTML(value='')))"
      ]
     },
     "metadata": {},
     "output_type": "display_data"
    },
    {
     "name": "stdout",
     "output_type": "stream",
     "text": [
      "\n"
     ]
    }
   ],
   "source": [
    "rna_test_result_sub = concat_intersect_ridge.cross_validation.validate(test_rna_dataset)\n",
    "protein_test_result_sub = concat_intersect_ridge.cross_validation.validate(test_protein_dataset)"
   ]
  },
  {
   "cell_type": "code",
   "execution_count": 26,
   "metadata": {},
   "outputs": [
    {
     "name": "stdout",
     "output_type": "stream",
     "text": [
      "Warning: AUC computed by cvAUC differs from mean: [1] 0.965\n",
      " vs 0.9650000000000001\n"
     ]
    }
   ],
   "source": [
    "roc_auc_concat = pd.concat([\n",
    "    concat_intersect_ridge.cross_validation_results.roc_auc.assign(group='CV train: TMD+TMR vs CM', models='Cross-Validation', set='Train: TMD+TMR vs CM'),\n",
    "    protein_test_result_sub.roc_auc.assign(group='Protein CV test: TMD vs CM', models='Cross-Validation', set='Train: Protein, TMD+TMR vs CM'),\n",
    "    rna_test_result_sub.roc_auc.assign(group='RNA CV test: TMD vs CM', models='Cross-Validation', set='Train: RNA, TMD+TMR vs CM'),\n",
    "    protein_test_result.roc_auc.assign(group='Protein full test: TMD vs CM', models='Full model', set='Test: Protein, TMD+TMR vs CM'),\n",
    "    rna_test_result.roc_auc.assign(group='RNA full test: TMD vs CM', models='Full model', set='Test: RNA, TMD+TMR vs CM')\n",
    "])"
   ]
  },
  {
   "cell_type": "code",
   "execution_count": 27,
   "metadata": {},
   "outputs": [
    {
     "data": {
      "image/png": "[encoded data removed]"
     },
     "metadata": {},
     "output_type": "display_data"
    }
   ],
   "source": [
    "%%R -i roc_auc_concat -w 550 -h 550\n",
    "\n",
    "colors = c(\n",
    "    'Train: TMD+TMR vs CM'='#999999',\n",
    "    'Test: Protein, TMD+TMR vs CM'='red',\n",
    "    'Test: RNA, TMD+TMR vs CM'='purple',\n",
    "    'Train: Protein, TMD+TMR vs CM'='red',\n",
    "    'Train: RNA, TMD+TMR vs CM'='purple'\n",
    ")\n",
    "\n",
    "roc_auc_tmdr_cm(roc_auc_concat, annotation=0.15, colors=colors) + labs(title='Logistic Ridge')"
   ]
  },
  {
   "cell_type": "markdown",
   "metadata": {},
   "source": [
    "Maybe ridge is unable to control both omics well with a single $\\alpha$?"
   ]
  },
  {
   "cell_type": "code",
   "execution_count": 29,
   "metadata": {},
   "outputs": [
    {
     "data": {
      "text/plain": [
       "(10, 16)"
      ]
     },
     "execution_count": 29,
     "metadata": {},
     "output_type": "execute_result"
    }
   ],
   "source": [
    "len(test_rna.blocks['RNA']), len(test_protein.blocks['Protein'])"
   ]
  },
  {
   "cell_type": "markdown",
   "metadata": {},
   "source": [
    "### Features driving models with high AUC"
   ]
  },
  {
   "cell_type": "markdown",
   "metadata": {},
   "source": [
    "100 models were trained with two omics at once but tested on data from patients having a single omic only (either RNA or Protein). The performance of each model in both scenarios (testing with RNA or with Protein only) was averaged:"
   ]
  },
  {
   "cell_type": "code",
   "execution_count": 32,
   "metadata": {},
   "outputs": [
    {
     "data": {
      "text/plain": [
       "0    0.752381\n",
       "1    0.777381\n",
       "2    0.777381\n",
       "dtype: float64"
      ]
     },
     "execution_count": 32,
     "metadata": {},
     "output_type": "execute_result"
    }
   ],
   "source": [
    "average_auc = (Series(protein_test_result_sub.cv_auc) + Series(rna_test_result_sub.cv_auc)) / 2\n",
    "average_auc.head(3)"
   ]
  },
  {
   "cell_type": "markdown",
   "metadata": {},
   "source": [
    "and the features included in the successful models (having high AUC) were visualized, weighting by the contribution strength:"
   ]
  },
  {
   "cell_type": "code",
   "execution_count": 34,
   "metadata": {},
   "outputs": [],
   "source": [
    "concat_intersect_ridge.cross_validation.contributions.combined.add_weighted_auc(average_auc)\n",
    "concat_intersect_ridge_contribs = concat_intersect_ridge.cross_validation.contributions.combined.data"
   ]
  },
  {
   "cell_type": "code",
   "execution_count": 39,
   "metadata": {},
   "outputs": [
    {
     "data": {
      "image/png": "[encoded data removed]"
     },
     "metadata": {},
     "output_type": "display_data"
    }
   ],
   "source": [
    "%%R -w 700 -i concat_intersect_ridge_contribs\n",
    "coefficients_volcano_plot(\n",
    "    concat_intersect_ridge_contribs,\n",
    "    n=15, p_value='weighted_auc', neg=F, point_color='grey40',\n",
    "    highlight_frequent=FALSE\n",
    ") + ylab('Mean contribution value')"
   ]
  },
  {
   "cell_type": "code",
   "execution_count": 41,
   "metadata": {},
   "outputs": [
    {
     "ename": "KeyError",
     "evalue": "'x'",
     "output_type": "error",
     "traceback": [
      "\u001b[0;31m---------------------------------------------------------------------------\u001b[0m",
      "\u001b[0;31mKeyError\u001b[0m                                  Traceback (most recent call last)",
      "\u001b[0;32m<ipython-input-41-e6214db75870>\u001b[0m in \u001b[0;36m<module>\u001b[0;34m\u001b[0m\n\u001b[0;32m----> 1\u001b[0;31m \u001b[0mconcat_ridge_contribs_rna\u001b[0m \u001b[0;34m=\u001b[0m \u001b[0mconcat_intersect_ridge\u001b[0m\u001b[0;34m.\u001b[0m\u001b[0mcross_validation\u001b[0m\u001b[0;34m.\u001b[0m\u001b[0mcontributions\u001b[0m\u001b[0;34m.\u001b[0m\u001b[0mx\u001b[0m\u001b[0;34m.\u001b[0m\u001b[0mdata\u001b[0m\u001b[0;34m\u001b[0m\u001b[0;34m\u001b[0m\u001b[0m\n\u001b[0m\u001b[1;32m      2\u001b[0m \u001b[0mconcat_ridge_contribs_protein\u001b[0m \u001b[0;34m=\u001b[0m \u001b[0mconcat_intersect_ridge\u001b[0m\u001b[0;34m.\u001b[0m\u001b[0mcross_validation\u001b[0m\u001b[0;34m.\u001b[0m\u001b[0mcontributions\u001b[0m\u001b[0;34m.\u001b[0m\u001b[0my\u001b[0m\u001b[0;34m.\u001b[0m\u001b[0mdata\u001b[0m\u001b[0;34m\u001b[0m\u001b[0;34m\u001b[0m\u001b[0m\n",
      "\u001b[0;32m~/meningitis-integration/machine_learning/data_classes.py\u001b[0m in \u001b[0;36m__getattr__\u001b[0;34m(self, item)\u001b[0m\n\u001b[1;32m    213\u001b[0m \u001b[0;34m\u001b[0m\u001b[0m\n\u001b[1;32m    214\u001b[0m     \u001b[0;32mdef\u001b[0m \u001b[0m__getattr__\u001b[0m\u001b[0;34m(\u001b[0m\u001b[0mself\u001b[0m\u001b[0;34m,\u001b[0m \u001b[0mitem\u001b[0m\u001b[0;34m)\u001b[0m\u001b[0;34m:\u001b[0m\u001b[0;34m\u001b[0m\u001b[0;34m\u001b[0m\u001b[0m\n\u001b[0;32m--> 215\u001b[0;31m         \u001b[0;32mreturn\u001b[0m \u001b[0mself\u001b[0m\u001b[0;34m.\u001b[0m\u001b[0mblocks\u001b[0m\u001b[0;34m[\u001b[0m\u001b[0mitem\u001b[0m\u001b[0;34m]\u001b[0m\u001b[0;34m\u001b[0m\u001b[0;34m\u001b[0m\u001b[0m\n\u001b[0m\u001b[1;32m    216\u001b[0m \u001b[0;34m\u001b[0m\u001b[0m\n\u001b[1;32m    217\u001b[0m     \u001b[0;34m@\u001b[0m\u001b[0mclassmethod\u001b[0m\u001b[0;34m\u001b[0m\u001b[0;34m\u001b[0m\u001b[0m\n",
      "\u001b[0;31mKeyError\u001b[0m: 'x'"
     ]
    }
   ],
   "source": [
    "concat_ridge_contribs_rna = concat_intersect_ridge.cross_validation.contributions.x.data\n",
    "concat_ridge_contribs_protein = concat_intersect_ridge.cross_validation.contributions.y.data"
   ]
  },
  {
   "cell_type": "markdown",
   "metadata": {},
   "source": [
    "# Single omics (using the intersection to match concatenated omics)"
   ]
  },
  {
   "cell_type": "code",
   "execution_count": 49,
   "metadata": {},
   "outputs": [
    {
     "name": "stdout",
     "output_type": "stream",
     "text": [
      "OutliersFilter: filtering out 2 outliers\n"
     ]
    }
   ],
   "source": [
    "from machine_learning.data_classes import MultiBlockDataSet\n",
    "\n",
    "tms_protein_dataset = MultiBlockDataSet(\n",
    "    add_supervision_block({'x': subset(raw_protein_matrix, tms_validation)}, tms_validation),\n",
    "    case_class='Tuberculosis',\n",
    "    response=clinical.Meningitis\n",
    ")\n",
    "tms_rna_dataset = MultiBlockDataSet(\n",
    "    add_supervision_block(\n",
    "        {'x': subset(raw_rna_matrix, tms_validation, outliers=RNA_OUTLIERS)},\n",
    "        tms_validation\n",
    "    ),\n",
    "    case_class='Tuberculosis',\n",
    "    response=clinical.Meningitis\n",
    ")"
   ]
  },
  {
   "cell_type": "code",
   "execution_count": 50,
   "metadata": {},
   "outputs": [],
   "source": [
    "patients_with_single_omic = Series(\n",
    "    list(patients_union.difference(patients_with_both))\n",
    ")"
   ]
  },
  {
   "cell_type": "code",
   "execution_count": 51,
   "metadata": {},
   "outputs": [],
   "source": [
    "cm_and_tmdr_validation = patients_with_single_omic[\n",
    "    patients_with_single_omic.str.contains('TMR|TMD|CM')\n",
    "]"
   ]
  },
  {
   "cell_type": "code",
   "execution_count": 52,
   "metadata": {},
   "outputs": [],
   "source": [
    "tms_validation = pd.concat([\n",
    "    patients_union_series[patients_union_series.str.contains('TMS')],\n",
    "    patients_with_single_omic[patients_with_single_omic.str.contains('CM')]\n",
    "])"
   ]
  },
  {
   "cell_type": "markdown",
   "metadata": {},
   "source": [
    "### 2.1 Proteins"
   ]
  },
  {
   "cell_type": "code",
   "execution_count": 47,
   "metadata": {},
   "outputs": [],
   "source": [
    "def create_ridge_pipeline(omic, smallest_group_n, outliers, subset=None, verbose=False, **kwargs):\n",
    "\n",
    "    return TwoBlockPipeline(\n",
    "        x=preprocess(omic, smallest_group_n, outliers, verbose=verbose, **kwargs),\n",
    "        y=make_pipeline(\n",
    "            OutliersFilter(outlier_patients=outliers, verbose=verbose),\n",
    "            ConditionsVectorizer(mapping=clinical.Meningitis, case_class='Tuberculosis')\n",
    "        ),\n",
    "        model=LogisticRegressionCV(\n",
    "            penalty='l2', solver='liblinear',\n",
    "            class_weight='balanced',\n",
    "            max_iter=150\n",
    "        ),\n",
    "        predict=predict_proba\n",
    "    )"
   ]
  },
  {
   "cell_type": "code",
   "execution_count": 54,
   "metadata": {},
   "outputs": [
    {
     "name": "stdout",
     "output_type": "stream",
     "text": [
      "[1] \"Retaining: 99.92%\"\n"
     ]
    }
   ],
   "source": [
    "ridge_pipeline_intersection_protein = create_ridge_pipeline(\n",
    "    'protein',\n",
    "    smallest_group_n=7,\n",
    "    subset=intersect_cm_and_tmdr,\n",
    "    outliers=None,\n",
    "    verbose=False\n",
    ")"
   ]
  },
  {
   "cell_type": "code",
   "execution_count": 56,
   "metadata": {},
   "outputs": [
    {
     "data": {
      "application/vnd.jupyter.widget-view+json": {
       "model_id": "609c9fde0cf04e14b6dd5259e8c5dd3b",
       "version_major": 2,
       "version_minor": 0
      },
      "text/plain": [
       "HBox(children=(FloatProgress(value=0.0), HTML(value='')))"
      ]
     },
     "metadata": {},
     "output_type": "display_data"
    },
    {
     "name": "stdout",
     "output_type": "stream",
     "text": [
      "\n"
     ]
    },
    {
     "data": {
      "application/vnd.jupyter.widget-view+json": {
       "model_id": "02215af34b0142a5b7175b064764a485",
       "version_major": 2,
       "version_minor": 0
      },
      "text/plain": [
       "HBox(children=(FloatProgress(value=0.0), HTML(value='')))"
      ]
     },
     "metadata": {},
     "output_type": "display_data"
    },
    {
     "name": "stdout",
     "output_type": "stream",
     "text": [
      "\n"
     ]
    }
   ],
   "source": [
    "intersect_protein_ridge = cross_validate(\n",
    "    ridge_pipeline_intersection_protein,\n",
    "    add_supervision_block(\n",
    "        {'x': subset(raw_protein_matrix, intersect_cm_and_tmdr)},\n",
    "        intersect_cm_and_tmdr\n",
    "    ),\n",
    "    test_data=add_supervision_block(\n",
    "        {'x': subset(raw_protein_matrix, cm_and_tmdr_validation)},\n",
    "        cm_and_tmdr_validation\n",
    "    ),\n",
    "    n=100,\n",
    "    verbose=F,\n",
    "    stratify=T,\n",
    "    early_normalization=False\n",
    ")"
   ]
  },
  {
   "cell_type": "code",
   "execution_count": 58,
   "metadata": {},
   "outputs": [
    {
     "name": "stdout",
     "output_type": "stream",
     "text": [
      "[1] \"Retaining: 52.62%\"\n"
     ]
    }
   ],
   "source": [
    "ridge_pipeline_intersection_rna = create_ridge_pipeline(\n",
    "    'rna',\n",
    "    smallest_group_n=7,\n",
    "    subset=intersect_cm_and_tmdr,\n",
    "    outliers=RNA_OUTLIERS,\n",
    "    verbose=False\n",
    ")"
   ]
  },
  {
   "cell_type": "code",
   "execution_count": 59,
   "metadata": {},
   "outputs": [
    {
     "name": "stdout",
     "output_type": "stream",
     "text": [
      "OutliersFilter: filtering out 0 outliers\n",
      "OutliersFilter: filtering out 6 outliers\n"
     ]
    },
    {
     "data": {
      "application/vnd.jupyter.widget-view+json": {
       "model_id": "9f51a4f6cf79488f83b136c97712674b",
       "version_major": 2,
       "version_minor": 0
      },
      "text/plain": [
       "HBox(children=(FloatProgress(value=0.0, max=20.0), HTML(value='')))"
      ]
     },
     "metadata": {},
     "output_type": "display_data"
    },
    {
     "name": "stdout",
     "output_type": "stream",
     "text": [
      "\n"
     ]
    },
    {
     "data": {
      "application/vnd.jupyter.widget-view+json": {
       "model_id": "8a063e5ea73e48898fef578d00486abf",
       "version_major": 2,
       "version_minor": 0
      },
      "text/plain": [
       "HBox(children=(FloatProgress(value=0.0, max=20.0), HTML(value='')))"
      ]
     },
     "metadata": {},
     "output_type": "display_data"
    },
    {
     "name": "stdout",
     "output_type": "stream",
     "text": [
      "\n"
     ]
    }
   ],
   "source": [
    "intersect_rna_ridge = cross_validate(\n",
    "    ridge_pipeline_intersection_rna,\n",
    "    add_supervision_block(\n",
    "        {'x': subset(raw_rna_matrix, intersect_cm_and_tmdr, outliers=RNA_OUTLIERS)},\n",
    "        intersect_cm_and_tmdr\n",
    "    ),\n",
    "    test_data=add_supervision_block(\n",
    "        {'x': subset(raw_rna_matrix, cm_and_tmdr_validation, outliers=RNA_OUTLIERS)},\n",
    "        cm_and_tmdr_validation\n",
    "    ),\n",
    "    n=20,\n",
    "    verbose=F,\n",
    "    stratify=T,\n",
    "    early_normalization=False\n",
    ")"
   ]
  },
  {
   "cell_type": "markdown",
   "metadata": {},
   "source": [
    "# Enrichment comparison"
   ]
  },
  {
   "cell_type": "code",
   "execution_count": 30,
   "metadata": {},
   "outputs": [
    {
     "name": "stdout",
     "output_type": "stream",
     "text": [
      "Importing Jupyter notebook from /home/krassowski/meningitis-integration/analyses/integration/Pathway_enrichment.ipynb\n"
     ]
    },
    {
     "name": "stderr",
     "output_type": "stream",
     "text": [
      "/home/krassowski/.pyenv/versions/3.7.6/envs/meningitis/lib/python3.7/site-packages/gsea_api/molecular_signatures_db.py:65: UserWarning: Provided gene sets are not redundant; there are 117 gene sets having more than one name assigned; use `find_redundant()` to investigate further.\n",
      "  warn(message)\n",
      "/home/krassowski/.pyenv/versions/3.7.6/envs/meningitis/lib/python3.7/site-packages/gsea_api/molecular_signatures_db.py:65: UserWarning: Provided gene sets are not redundant; there are 40 gene sets having more than one name assigned; use `find_redundant()` to investigate further.\n",
      "  warn(message)\n"
     ]
    },
    {
     "name": "stdout",
     "output_type": "stream",
     "text": [
      "hallmarks 50\n",
      "hallmarks_for_rna 50\n",
      "hallmarks_for_protein 49\n",
      "reactome 1431\n",
      "reactome_for_rna 1430\n"
     ]
    },
    {
     "name": "stderr",
     "output_type": "stream",
     "text": [
      "/home/krassowski/.pyenv/versions/3.7.6/envs/meningitis/lib/python3.7/site-packages/gsea_api/molecular_signatures_db.py:65: UserWarning: Provided gene sets are not redundant; following gene sets are identical: 'Telomere Maintenance' and 'Extension of Telomeres' (44 genes)\n",
      "  warn(message)\n",
      "/home/krassowski/.pyenv/versions/3.7.6/envs/meningitis/lib/python3.7/site-packages/gsea_api/molecular_signatures_db.py:65: UserWarning: Provided gene sets are not redundant; there are 104 gene sets having more than one name assigned; use `find_redundant()` to investigate further.\n",
      "  warn(message)\n",
      "/home/krassowski/.pyenv/versions/3.7.6/envs/meningitis/lib/python3.7/site-packages/gsea_api/molecular_signatures_db.py:75: UserWarning: There are 281 empty gene sets: use `empty_gene_sets` property to investigate further.\n",
      "  warn(f'There are {len(empty_gene_sets)} empty gene sets: {empty_message}')\n",
      "/home/krassowski/.pyenv/versions/3.7.6/envs/meningitis/lib/python3.7/site-packages/gsea_api/molecular_signatures_db.py:79: UserWarning: 281 empty gene sets were removed.\n",
      "  warn(f'{len(empty_gene_sets)} empty gene sets were removed.')\n"
     ]
    },
    {
     "name": "stdout",
     "output_type": "stream",
     "text": [
      "reactome_for_protein 581\n"
     ]
    }
   ],
   "source": [
    "import analyses.integration.Pathway_enrichment\n",
    "%R import::here(camera_pr, .from='helpers/pathways.R')"
   ]
  },
  {
   "cell_type": "markdown",
   "metadata": {},
   "source": [
    "General picture of meningitis, not related to disease etiology and indifferent to the method in use, as discoverable when using observed subset of transcripts/proteins:"
   ]
  },
  {
   "cell_type": "code",
   "execution_count": 84,
   "metadata": {},
   "outputs": [],
   "source": [
    "single_ridge_contribs_rna = intersect_rna_ridge.cross_validation.contributions.x.data\n",
    "single_ridge_contribs_protein = intersect_protein_ridge.cross_validation.contributions.x.data"
   ]
  },
  {
   "cell_type": "code",
   "execution_count": 85,
   "metadata": {},
   "outputs": [],
   "source": [
    "%R -i single_ridge_contribs_rna -i single_ridge_contribs_protein"
   ]
  },
  {
   "cell_type": "code",
   "execution_count": 88,
   "metadata": {},
   "outputs": [
    {
     "name": "stdout",
     "output_type": "stream",
     "text": [
      "[1] \"Removed 2 NAs\"\n"
     ]
    },
    {
     "data": {
      "text/html": [
       "<div>\n",
       "<style scoped>\n",
       "    .dataframe tbody tr th:only-of-type {\n",
       "        vertical-align: middle;\n",
       "    }\n",
       "\n",
       "    .dataframe tbody tr th {\n",
       "        vertical-align: top;\n",
       "    }\n",
       "\n",
       "    .dataframe thead th {\n",
       "        text-align: right;\n",
       "    }\n",
       "</style>\n",
       "<table border=\"1\" class=\"dataframe\">\n",
       "  <thead>\n",
       "    <tr style=\"text-align: right;\">\n",
       "      <th></th>\n",
       "      <th>NGenes</th>\n",
       "      <th>Direction</th>\n",
       "      <th>PValue</th>\n",
       "      <th>FDR</th>\n",
       "    </tr>\n",
       "  </thead>\n",
       "  <tbody>\n",
       "    <tr>\n",
       "      <th>OXIDATIVE PHOSPHORYLATION</th>\n",
       "      <td>9.0</td>\n",
       "      <td>Down</td>\n",
       "      <td>0.000010</td>\n",
       "      <td>0.000477</td>\n",
       "    </tr>\n",
       "    <tr>\n",
       "      <th>UNFOLDED PROTEIN RESPONSE</th>\n",
       "      <td>8.0</td>\n",
       "      <td>Up</td>\n",
       "      <td>0.045211</td>\n",
       "      <td>0.999055</td>\n",
       "    </tr>\n",
       "    <tr>\n",
       "      <th>ESTROGEN RESPONSE LATE</th>\n",
       "      <td>31.0</td>\n",
       "      <td>Down</td>\n",
       "      <td>0.114043</td>\n",
       "      <td>0.999055</td>\n",
       "    </tr>\n",
       "    <tr>\n",
       "      <th>HYPOXIA</th>\n",
       "      <td>46.0</td>\n",
       "      <td>Up</td>\n",
       "      <td>0.161131</td>\n",
       "      <td>0.999055</td>\n",
       "    </tr>\n",
       "    <tr>\n",
       "      <th>INTERFERON ALPHA RESPONSE</th>\n",
       "      <td>13.0</td>\n",
       "      <td>Down</td>\n",
       "      <td>0.168909</td>\n",
       "      <td>0.999055</td>\n",
       "    </tr>\n",
       "    <tr>\n",
       "      <th>...</th>\n",
       "      <td>...</td>\n",
       "      <td>...</td>\n",
       "      <td>...</td>\n",
       "      <td>...</td>\n",
       "    </tr>\n",
       "    <tr>\n",
       "      <th>UV RESPONSE UP</th>\n",
       "      <td>26.0</td>\n",
       "      <td>Up</td>\n",
       "      <td>0.938355</td>\n",
       "      <td>0.999055</td>\n",
       "    </tr>\n",
       "    <tr>\n",
       "      <th>TGF BETA SIGNALING</th>\n",
       "      <td>11.0</td>\n",
       "      <td>Down</td>\n",
       "      <td>0.960442</td>\n",
       "      <td>0.999055</td>\n",
       "    </tr>\n",
       "    <tr>\n",
       "      <th>INTERFERON GAMMA RESPONSE</th>\n",
       "      <td>47.0</td>\n",
       "      <td>Up</td>\n",
       "      <td>0.984216</td>\n",
       "      <td>0.999055</td>\n",
       "    </tr>\n",
       "    <tr>\n",
       "      <th>TNFA SIGNALING VIA NFKB</th>\n",
       "      <td>54.0</td>\n",
       "      <td>Down</td>\n",
       "      <td>0.991590</td>\n",
       "      <td>0.999055</td>\n",
       "    </tr>\n",
       "    <tr>\n",
       "      <th>P53 PATHWAY</th>\n",
       "      <td>30.0</td>\n",
       "      <td>Down</td>\n",
       "      <td>0.999055</td>\n",
       "      <td>0.999055</td>\n",
       "    </tr>\n",
       "  </tbody>\n",
       "</table>\n",
       "<p>49 rows × 4 columns</p>\n",
       "</div>"
      ],
      "text/plain": [
       "                           NGenes Direction    PValue       FDR\n",
       "OXIDATIVE PHOSPHORYLATION     9.0      Down  0.000010  0.000477\n",
       "UNFOLDED PROTEIN RESPONSE     8.0        Up  0.045211  0.999055\n",
       "ESTROGEN RESPONSE LATE       31.0      Down  0.114043  0.999055\n",
       "HYPOXIA                      46.0        Up  0.161131  0.999055\n",
       "INTERFERON ALPHA RESPONSE    13.0      Down  0.168909  0.999055\n",
       "...                           ...       ...       ...       ...\n",
       "UV RESPONSE UP               26.0        Up  0.938355  0.999055\n",
       "TGF BETA SIGNALING           11.0      Down  0.960442  0.999055\n",
       "INTERFERON GAMMA RESPONSE    47.0        Up  0.984216  0.999055\n",
       "TNFA SIGNALING VIA NFKB      54.0      Down  0.991590  0.999055\n",
       "P53 PATHWAY                  30.0      Down  0.999055  0.999055\n",
       "\n",
       "[49 rows x 4 columns]"
      ]
     },
     "execution_count": 88,
     "metadata": {},
     "output_type": "execute_result"
    }
   ],
   "source": [
    "%R camera_pr(single_ridge_contribs_protein, 'mean_abundance', hallmarks_for_protein)"
   ]
  },
  {
   "cell_type": "code",
   "execution_count": 89,
   "metadata": {},
   "outputs": [
    {
     "name": "stdout",
     "output_type": "stream",
     "text": [
      "[1] \"Removed 48 NAs\"\n"
     ]
    },
    {
     "data": {
      "text/html": [
       "<div>\n",
       "<style scoped>\n",
       "    .dataframe tbody tr th:only-of-type {\n",
       "        vertical-align: middle;\n",
       "    }\n",
       "\n",
       "    .dataframe tbody tr th {\n",
       "        vertical-align: top;\n",
       "    }\n",
       "\n",
       "    .dataframe thead th {\n",
       "        text-align: right;\n",
       "    }\n",
       "</style>\n",
       "<table border=\"1\" class=\"dataframe\">\n",
       "  <thead>\n",
       "    <tr style=\"text-align: right;\">\n",
       "      <th></th>\n",
       "      <th>NGenes</th>\n",
       "      <th>Direction</th>\n",
       "      <th>PValue</th>\n",
       "      <th>FDR</th>\n",
       "    </tr>\n",
       "  </thead>\n",
       "  <tbody>\n",
       "    <tr>\n",
       "      <th>NOTCH SIGNALING</th>\n",
       "      <td>32.0</td>\n",
       "      <td>Up</td>\n",
       "      <td>0.008591</td>\n",
       "      <td>0.429536</td>\n",
       "    </tr>\n",
       "    <tr>\n",
       "      <th>APICAL SURFACE</th>\n",
       "      <td>43.0</td>\n",
       "      <td>Up</td>\n",
       "      <td>0.053076</td>\n",
       "      <td>0.740789</td>\n",
       "    </tr>\n",
       "    <tr>\n",
       "      <th>TGF BETA SIGNALING</th>\n",
       "      <td>54.0</td>\n",
       "      <td>Up</td>\n",
       "      <td>0.055045</td>\n",
       "      <td>0.740789</td>\n",
       "    </tr>\n",
       "    <tr>\n",
       "      <th>MTORC1 SIGNALING</th>\n",
       "      <td>197.0</td>\n",
       "      <td>Up</td>\n",
       "      <td>0.068359</td>\n",
       "      <td>0.740789</td>\n",
       "    </tr>\n",
       "    <tr>\n",
       "      <th>INTERFERON ALPHA RESPONSE</th>\n",
       "      <td>96.0</td>\n",
       "      <td>Up</td>\n",
       "      <td>0.074079</td>\n",
       "      <td>0.740789</td>\n",
       "    </tr>\n",
       "    <tr>\n",
       "      <th>...</th>\n",
       "      <td>...</td>\n",
       "      <td>...</td>\n",
       "      <td>...</td>\n",
       "      <td>...</td>\n",
       "    </tr>\n",
       "    <tr>\n",
       "      <th>PROTEIN SECRETION</th>\n",
       "      <td>95.0</td>\n",
       "      <td>Down</td>\n",
       "      <td>0.925421</td>\n",
       "      <td>0.985483</td>\n",
       "    </tr>\n",
       "    <tr>\n",
       "      <th>SPERMATOGENESIS</th>\n",
       "      <td>120.0</td>\n",
       "      <td>Up</td>\n",
       "      <td>0.938369</td>\n",
       "      <td>0.985483</td>\n",
       "    </tr>\n",
       "    <tr>\n",
       "      <th>COAGULATION</th>\n",
       "      <td>128.0</td>\n",
       "      <td>Up</td>\n",
       "      <td>0.946064</td>\n",
       "      <td>0.985483</td>\n",
       "    </tr>\n",
       "    <tr>\n",
       "      <th>PANCREAS BETA CELLS</th>\n",
       "      <td>37.0</td>\n",
       "      <td>Down</td>\n",
       "      <td>0.971040</td>\n",
       "      <td>0.990857</td>\n",
       "    </tr>\n",
       "    <tr>\n",
       "      <th>OXIDATIVE PHOSPHORYLATION</th>\n",
       "      <td>197.0</td>\n",
       "      <td>Up</td>\n",
       "      <td>0.995895</td>\n",
       "      <td>0.995895</td>\n",
       "    </tr>\n",
       "  </tbody>\n",
       "</table>\n",
       "<p>50 rows × 4 columns</p>\n",
       "</div>"
      ],
      "text/plain": [
       "                           NGenes Direction    PValue       FDR\n",
       "NOTCH SIGNALING              32.0        Up  0.008591  0.429536\n",
       "APICAL SURFACE               43.0        Up  0.053076  0.740789\n",
       "TGF BETA SIGNALING           54.0        Up  0.055045  0.740789\n",
       "MTORC1 SIGNALING            197.0        Up  0.068359  0.740789\n",
       "INTERFERON ALPHA RESPONSE    96.0        Up  0.074079  0.740789\n",
       "...                           ...       ...       ...       ...\n",
       "PROTEIN SECRETION            95.0      Down  0.925421  0.985483\n",
       "SPERMATOGENESIS             120.0        Up  0.938369  0.985483\n",
       "COAGULATION                 128.0        Up  0.946064  0.985483\n",
       "PANCREAS BETA CELLS          37.0      Down  0.971040  0.990857\n",
       "OXIDATIVE PHOSPHORYLATION   197.0        Up  0.995895  0.995895\n",
       "\n",
       "[50 rows x 4 columns]"
      ]
     },
     "execution_count": 89,
     "metadata": {},
     "output_type": "execute_result"
    }
   ],
   "source": [
    "%R camera_pr(single_ridge_contribs_rna, 'mean_abundance', hallmarks_for_rna)"
   ]
  },
  {
   "cell_type": "markdown",
   "metadata": {},
   "source": [
    "Naive group differences (should not be taken too seriously, the difference metric is known to be weak), supervised:"
   ]
  },
  {
   "cell_type": "code",
   "execution_count": 77,
   "metadata": {},
   "outputs": [],
   "source": [
    "def get_diff(data, group_a, group_b, func=lambda a, b: a - b):\n",
    "    a = data[data.index.str.contains(group_a)].mean()\n",
    "    b = data[data.index.str.contains(group_b)].mean()\n",
    "    return func(a, b).to_frame('diff')"
   ]
  },
  {
   "cell_type": "code",
   "execution_count": 79,
   "metadata": {},
   "outputs": [
    {
     "name": "stdout",
     "output_type": "stream",
     "text": [
      "[1] \"Retaining: 99.92%\"\n",
      "[1] \"Retaining: 52.62%\"\n"
     ]
    }
   ],
   "source": [
    "protein_full = preprocess('protein', 7, None).fit_transform(raw_protein_matrix.T)\n",
    "rna_full = preprocess('rna', 7, None).fit_transform(raw_rna_matrix.T)"
   ]
  },
  {
   "cell_type": "code",
   "execution_count": 80,
   "metadata": {},
   "outputs": [
    {
     "data": {
      "text/html": [
       "<div>\n",
       "<style scoped>\n",
       "    .dataframe tbody tr th:only-of-type {\n",
       "        vertical-align: middle;\n",
       "    }\n",
       "\n",
       "    .dataframe tbody tr th {\n",
       "        vertical-align: top;\n",
       "    }\n",
       "\n",
       "    .dataframe thead th {\n",
       "        text-align: right;\n",
       "    }\n",
       "</style>\n",
       "<table border=\"1\" class=\"dataframe\">\n",
       "  <thead>\n",
       "    <tr style=\"text-align: right;\">\n",
       "      <th></th>\n",
       "      <th>diff</th>\n",
       "    </tr>\n",
       "  </thead>\n",
       "  <tbody>\n",
       "    <tr>\n",
       "      <th>STUB1</th>\n",
       "      <td>0.629198</td>\n",
       "    </tr>\n",
       "    <tr>\n",
       "      <th>CEBPB</th>\n",
       "      <td>0.596851</td>\n",
       "    </tr>\n",
       "    <tr>\n",
       "      <th>ENO2</th>\n",
       "      <td>-0.478050</td>\n",
       "    </tr>\n",
       "    <tr>\n",
       "      <th>PIAS4</th>\n",
       "      <td>0.433054</td>\n",
       "    </tr>\n",
       "    <tr>\n",
       "      <th>IL10RA</th>\n",
       "      <td>-0.731442</td>\n",
       "    </tr>\n",
       "  </tbody>\n",
       "</table>\n",
       "</div>"
      ],
      "text/plain": [
       "            diff\n",
       "STUB1   0.629198\n",
       "CEBPB   0.596851\n",
       "ENO2   -0.478050\n",
       "PIAS4   0.433054\n",
       "IL10RA -0.731442"
      ]
     },
     "execution_count": 80,
     "metadata": {},
     "output_type": "execute_result"
    }
   ],
   "source": [
    "protein_diff = get_diff(protein_full, 'TMD|TMR', 'CM')\n",
    "rna_diff = get_diff(rna_full, 'TMD|TMR', 'CM')\n",
    "protein_diff.head()"
   ]
  },
  {
   "cell_type": "code",
   "execution_count": 81,
   "metadata": {},
   "outputs": [],
   "source": [
    "%R -i protein_diff -i rna_diff"
   ]
  },
  {
   "cell_type": "code",
   "execution_count": 97,
   "metadata": {},
   "outputs": [
    {
     "data": {
      "text/html": [
       "<div>\n",
       "<style scoped>\n",
       "    .dataframe tbody tr th:only-of-type {\n",
       "        vertical-align: middle;\n",
       "    }\n",
       "\n",
       "    .dataframe tbody tr th {\n",
       "        vertical-align: top;\n",
       "    }\n",
       "\n",
       "    .dataframe thead th {\n",
       "        text-align: right;\n",
       "    }\n",
       "</style>\n",
       "<table border=\"1\" class=\"dataframe\">\n",
       "  <thead>\n",
       "    <tr style=\"text-align: right;\">\n",
       "      <th></th>\n",
       "      <th>mean</th>\n",
       "      <th>selected_in</th>\n",
       "      <th>positive_in</th>\n",
       "      <th>negative_in</th>\n",
       "      <th>volatile</th>\n",
       "      <th>stdev</th>\n",
       "      <th>ci</th>\n",
       "      <th>mean_abundance</th>\n",
       "      <th>gene</th>\n",
       "      <th>weighted_auc</th>\n",
       "    </tr>\n",
       "  </thead>\n",
       "  <tbody>\n",
       "    <tr>\n",
       "      <th>STUB1.Protein</th>\n",
       "      <td>-0.000050</td>\n",
       "      <td>1.0</td>\n",
       "      <td>0.00</td>\n",
       "      <td>1.00</td>\n",
       "      <td>0.00</td>\n",
       "      <td>1.538852e-05</td>\n",
       "      <td>1.688640e-07</td>\n",
       "      <td>1.548761e-14</td>\n",
       "      <td>STUB1.Protein</td>\n",
       "      <td>0.000038</td>\n",
       "    </tr>\n",
       "    <tr>\n",
       "      <th>CEBPB.Protein</th>\n",
       "      <td>0.000046</td>\n",
       "      <td>1.0</td>\n",
       "      <td>1.00</td>\n",
       "      <td>0.00</td>\n",
       "      <td>0.00</td>\n",
       "      <td>4.770806e-06</td>\n",
       "      <td>5.235186e-08</td>\n",
       "      <td>7.993606e-15</td>\n",
       "      <td>CEBPB.Protein</td>\n",
       "      <td>0.000035</td>\n",
       "    </tr>\n",
       "    <tr>\n",
       "      <th>ENO2.Protein</th>\n",
       "      <td>0.000004</td>\n",
       "      <td>1.0</td>\n",
       "      <td>0.94</td>\n",
       "      <td>0.06</td>\n",
       "      <td>0.12</td>\n",
       "      <td>3.708025e-06</td>\n",
       "      <td>4.068956e-08</td>\n",
       "      <td>6.517009e-14</td>\n",
       "      <td>ENO2.Protein</td>\n",
       "      <td>0.000004</td>\n",
       "    </tr>\n",
       "    <tr>\n",
       "      <th>PIAS4.Protein</th>\n",
       "      <td>0.000027</td>\n",
       "      <td>1.0</td>\n",
       "      <td>1.00</td>\n",
       "      <td>0.00</td>\n",
       "      <td>0.00</td>\n",
       "      <td>8.075517e-06</td>\n",
       "      <td>8.861569e-08</td>\n",
       "      <td>-6.439294e-15</td>\n",
       "      <td>PIAS4.Protein</td>\n",
       "      <td>0.000021</td>\n",
       "    </tr>\n",
       "    <tr>\n",
       "      <th>IL10RA.Protein</th>\n",
       "      <td>-0.000024</td>\n",
       "      <td>1.0</td>\n",
       "      <td>0.00</td>\n",
       "      <td>1.00</td>\n",
       "      <td>0.00</td>\n",
       "      <td>3.264022e-06</td>\n",
       "      <td>3.581734e-08</td>\n",
       "      <td>3.624878e-14</td>\n",
       "      <td>IL10RA.Protein</td>\n",
       "      <td>0.000018</td>\n",
       "    </tr>\n",
       "    <tr>\n",
       "      <th>...</th>\n",
       "      <td>...</td>\n",
       "      <td>...</td>\n",
       "      <td>...</td>\n",
       "      <td>...</td>\n",
       "      <td>...</td>\n",
       "      <td>...</td>\n",
       "      <td>...</td>\n",
       "      <td>...</td>\n",
       "      <td>...</td>\n",
       "      <td>...</td>\n",
       "    </tr>\n",
       "    <tr>\n",
       "      <th>C7orf55-LUC7L2.RNA</th>\n",
       "      <td>-0.000047</td>\n",
       "      <td>1.0</td>\n",
       "      <td>0.00</td>\n",
       "      <td>0.21</td>\n",
       "      <td>0.00</td>\n",
       "      <td>6.943604e-21</td>\n",
       "      <td>7.619479e-23</td>\n",
       "      <td>NaN</td>\n",
       "      <td>C7orf55-LUC7L2.RNA</td>\n",
       "      <td>NaN</td>\n",
       "    </tr>\n",
       "    <tr>\n",
       "      <th>AC008695.1.RNA</th>\n",
       "      <td>0.000041</td>\n",
       "      <td>1.0</td>\n",
       "      <td>0.21</td>\n",
       "      <td>0.00</td>\n",
       "      <td>0.00</td>\n",
       "      <td>6.943604e-21</td>\n",
       "      <td>7.619479e-23</td>\n",
       "      <td>NaN</td>\n",
       "      <td>AC008695.1.RNA</td>\n",
       "      <td>NaN</td>\n",
       "    </tr>\n",
       "    <tr>\n",
       "      <th>FP700111.2.RNA</th>\n",
       "      <td>0.000043</td>\n",
       "      <td>1.0</td>\n",
       "      <td>0.21</td>\n",
       "      <td>0.00</td>\n",
       "      <td>0.00</td>\n",
       "      <td>6.943604e-21</td>\n",
       "      <td>7.619479e-23</td>\n",
       "      <td>NaN</td>\n",
       "      <td>FP700111.2.RNA</td>\n",
       "      <td>NaN</td>\n",
       "    </tr>\n",
       "    <tr>\n",
       "      <th>AL772307.1.RNA</th>\n",
       "      <td>0.000010</td>\n",
       "      <td>1.0</td>\n",
       "      <td>0.21</td>\n",
       "      <td>0.00</td>\n",
       "      <td>0.00</td>\n",
       "      <td>0.000000e+00</td>\n",
       "      <td>0.000000e+00</td>\n",
       "      <td>NaN</td>\n",
       "      <td>AL772307.1.RNA</td>\n",
       "      <td>NaN</td>\n",
       "    </tr>\n",
       "    <tr>\n",
       "      <th>UBFD1.RNA</th>\n",
       "      <td>0.000011</td>\n",
       "      <td>1.0</td>\n",
       "      <td>0.06</td>\n",
       "      <td>0.00</td>\n",
       "      <td>0.00</td>\n",
       "      <td>0.000000e+00</td>\n",
       "      <td>0.000000e+00</td>\n",
       "      <td>-6.006307e-14</td>\n",
       "      <td>UBFD1.RNA</td>\n",
       "      <td>NaN</td>\n",
       "    </tr>\n",
       "  </tbody>\n",
       "</table>\n",
       "<p>31903 rows × 10 columns</p>\n",
       "</div>"
      ],
      "text/plain": [
       "                        mean  selected_in  positive_in  negative_in  volatile  \\\n",
       "STUB1.Protein      -0.000050          1.0         0.00         1.00      0.00   \n",
       "CEBPB.Protein       0.000046          1.0         1.00         0.00      0.00   \n",
       "ENO2.Protein        0.000004          1.0         0.94         0.06      0.12   \n",
       "PIAS4.Protein       0.000027          1.0         1.00         0.00      0.00   \n",
       "IL10RA.Protein     -0.000024          1.0         0.00         1.00      0.00   \n",
       "...                      ...          ...          ...          ...       ...   \n",
       "C7orf55-LUC7L2.RNA -0.000047          1.0         0.00         0.21      0.00   \n",
       "AC008695.1.RNA      0.000041          1.0         0.21         0.00      0.00   \n",
       "FP700111.2.RNA      0.000043          1.0         0.21         0.00      0.00   \n",
       "AL772307.1.RNA      0.000010          1.0         0.21         0.00      0.00   \n",
       "UBFD1.RNA           0.000011          1.0         0.06         0.00      0.00   \n",
       "\n",
       "                           stdev            ci  mean_abundance  \\\n",
       "STUB1.Protein       1.538852e-05  1.688640e-07    1.548761e-14   \n",
       "CEBPB.Protein       4.770806e-06  5.235186e-08    7.993606e-15   \n",
       "ENO2.Protein        3.708025e-06  4.068956e-08    6.517009e-14   \n",
       "PIAS4.Protein       8.075517e-06  8.861569e-08   -6.439294e-15   \n",
       "IL10RA.Protein      3.264022e-06  3.581734e-08    3.624878e-14   \n",
       "...                          ...           ...             ...   \n",
       "C7orf55-LUC7L2.RNA  6.943604e-21  7.619479e-23             NaN   \n",
       "AC008695.1.RNA      6.943604e-21  7.619479e-23             NaN   \n",
       "FP700111.2.RNA      6.943604e-21  7.619479e-23             NaN   \n",
       "AL772307.1.RNA      0.000000e+00  0.000000e+00             NaN   \n",
       "UBFD1.RNA           0.000000e+00  0.000000e+00   -6.006307e-14   \n",
       "\n",
       "                                  gene  weighted_auc  \n",
       "STUB1.Protein            STUB1.Protein      0.000038  \n",
       "CEBPB.Protein            CEBPB.Protein      0.000035  \n",
       "ENO2.Protein              ENO2.Protein      0.000004  \n",
       "PIAS4.Protein            PIAS4.Protein      0.000021  \n",
       "IL10RA.Protein          IL10RA.Protein      0.000018  \n",
       "...                                ...           ...  \n",
       "C7orf55-LUC7L2.RNA  C7orf55-LUC7L2.RNA           NaN  \n",
       "AC008695.1.RNA          AC008695.1.RNA           NaN  \n",
       "FP700111.2.RNA          FP700111.2.RNA           NaN  \n",
       "AL772307.1.RNA          AL772307.1.RNA           NaN  \n",
       "UBFD1.RNA                    UBFD1.RNA           NaN  \n",
       "\n",
       "[31903 rows x 10 columns]"
      ]
     },
     "execution_count": 97,
     "metadata": {},
     "output_type": "execute_result"
    }
   ],
   "source": [
    "ridge_combined = concat_intersect_ridge.cross_validation.contributions.combined.data\n",
    "ridge_combined"
   ]
  },
  {
   "cell_type": "code",
   "execution_count": 101,
   "metadata": {},
   "outputs": [
    {
     "data": {
      "text/html": [
       "<div>\n",
       "<style scoped>\n",
       "    .dataframe tbody tr th:only-of-type {\n",
       "        vertical-align: middle;\n",
       "    }\n",
       "\n",
       "    .dataframe tbody tr th {\n",
       "        vertical-align: top;\n",
       "    }\n",
       "\n",
       "    .dataframe thead th {\n",
       "        text-align: right;\n",
       "    }\n",
       "</style>\n",
       "<table border=\"1\" class=\"dataframe\">\n",
       "  <thead>\n",
       "    <tr style=\"text-align: right;\">\n",
       "      <th></th>\n",
       "      <th>mean</th>\n",
       "      <th>selected_in</th>\n",
       "      <th>positive_in</th>\n",
       "      <th>negative_in</th>\n",
       "      <th>volatile</th>\n",
       "      <th>stdev</th>\n",
       "      <th>ci</th>\n",
       "      <th>mean_abundance</th>\n",
       "      <th>gene</th>\n",
       "      <th>weighted_auc</th>\n",
       "    </tr>\n",
       "  </thead>\n",
       "  <tbody>\n",
       "    <tr>\n",
       "      <th>TSPAN6</th>\n",
       "      <td>-0.000008</td>\n",
       "      <td>1.0</td>\n",
       "      <td>0.19</td>\n",
       "      <td>0.81</td>\n",
       "      <td>0.38</td>\n",
       "      <td>9.290425e-06</td>\n",
       "      <td>1.019473e-07</td>\n",
       "      <td>-1.110223e-15</td>\n",
       "      <td>TSPAN6.RNA</td>\n",
       "      <td>0.000009</td>\n",
       "    </tr>\n",
       "    <tr>\n",
       "      <th>DPM1</th>\n",
       "      <td>-0.000003</td>\n",
       "      <td>1.0</td>\n",
       "      <td>0.48</td>\n",
       "      <td>0.52</td>\n",
       "      <td>0.96</td>\n",
       "      <td>7.629139e-06</td>\n",
       "      <td>8.371742e-08</td>\n",
       "      <td>2.109424e-15</td>\n",
       "      <td>DPM1.RNA</td>\n",
       "      <td>0.000006</td>\n",
       "    </tr>\n",
       "    <tr>\n",
       "      <th>SCYL3</th>\n",
       "      <td>-0.000004</td>\n",
       "      <td>1.0</td>\n",
       "      <td>0.00</td>\n",
       "      <td>1.00</td>\n",
       "      <td>0.00</td>\n",
       "      <td>3.211258e-06</td>\n",
       "      <td>3.523834e-08</td>\n",
       "      <td>3.338996e-14</td>\n",
       "      <td>SCYL3.RNA</td>\n",
       "      <td>0.000003</td>\n",
       "    </tr>\n",
       "    <tr>\n",
       "      <th>C1orf112</th>\n",
       "      <td>0.000066</td>\n",
       "      <td>1.0</td>\n",
       "      <td>1.00</td>\n",
       "      <td>0.00</td>\n",
       "      <td>0.00</td>\n",
       "      <td>3.501805e-06</td>\n",
       "      <td>3.842662e-08</td>\n",
       "      <td>1.182388e-14</td>\n",
       "      <td>C1orf112.RNA</td>\n",
       "      <td>0.000050</td>\n",
       "    </tr>\n",
       "    <tr>\n",
       "      <th>FGR</th>\n",
       "      <td>0.000025</td>\n",
       "      <td>1.0</td>\n",
       "      <td>1.00</td>\n",
       "      <td>0.00</td>\n",
       "      <td>0.00</td>\n",
       "      <td>8.329934e-06</td>\n",
       "      <td>9.140750e-08</td>\n",
       "      <td>-1.221245e-14</td>\n",
       "      <td>FGR.RNA</td>\n",
       "      <td>0.000019</td>\n",
       "    </tr>\n",
       "    <tr>\n",
       "      <th>...</th>\n",
       "      <td>...</td>\n",
       "      <td>...</td>\n",
       "      <td>...</td>\n",
       "      <td>...</td>\n",
       "      <td>...</td>\n",
       "      <td>...</td>\n",
       "      <td>...</td>\n",
       "      <td>...</td>\n",
       "      <td>...</td>\n",
       "      <td>...</td>\n",
       "    </tr>\n",
       "    <tr>\n",
       "      <th>C7orf55-LUC7L2</th>\n",
       "      <td>-0.000047</td>\n",
       "      <td>1.0</td>\n",
       "      <td>0.00</td>\n",
       "      <td>0.21</td>\n",
       "      <td>0.00</td>\n",
       "      <td>6.943604e-21</td>\n",
       "      <td>7.619479e-23</td>\n",
       "      <td>NaN</td>\n",
       "      <td>C7orf55-LUC7L2.RNA</td>\n",
       "      <td>NaN</td>\n",
       "    </tr>\n",
       "    <tr>\n",
       "      <th>AC008695.1</th>\n",
       "      <td>0.000041</td>\n",
       "      <td>1.0</td>\n",
       "      <td>0.21</td>\n",
       "      <td>0.00</td>\n",
       "      <td>0.00</td>\n",
       "      <td>6.943604e-21</td>\n",
       "      <td>7.619479e-23</td>\n",
       "      <td>NaN</td>\n",
       "      <td>AC008695.1.RNA</td>\n",
       "      <td>NaN</td>\n",
       "    </tr>\n",
       "    <tr>\n",
       "      <th>FP700111.2</th>\n",
       "      <td>0.000043</td>\n",
       "      <td>1.0</td>\n",
       "      <td>0.21</td>\n",
       "      <td>0.00</td>\n",
       "      <td>0.00</td>\n",
       "      <td>6.943604e-21</td>\n",
       "      <td>7.619479e-23</td>\n",
       "      <td>NaN</td>\n",
       "      <td>FP700111.2.RNA</td>\n",
       "      <td>NaN</td>\n",
       "    </tr>\n",
       "    <tr>\n",
       "      <th>AL772307.1</th>\n",
       "      <td>0.000010</td>\n",
       "      <td>1.0</td>\n",
       "      <td>0.21</td>\n",
       "      <td>0.00</td>\n",
       "      <td>0.00</td>\n",
       "      <td>0.000000e+00</td>\n",
       "      <td>0.000000e+00</td>\n",
       "      <td>NaN</td>\n",
       "      <td>AL772307.1.RNA</td>\n",
       "      <td>NaN</td>\n",
       "    </tr>\n",
       "    <tr>\n",
       "      <th>UBFD1</th>\n",
       "      <td>0.000011</td>\n",
       "      <td>1.0</td>\n",
       "      <td>0.06</td>\n",
       "      <td>0.00</td>\n",
       "      <td>0.00</td>\n",
       "      <td>0.000000e+00</td>\n",
       "      <td>0.000000e+00</td>\n",
       "      <td>-6.006307e-14</td>\n",
       "      <td>UBFD1.RNA</td>\n",
       "      <td>NaN</td>\n",
       "    </tr>\n",
       "  </tbody>\n",
       "</table>\n",
       "<p>30633 rows × 10 columns</p>\n",
       "</div>"
      ],
      "text/plain": [
       "                    mean  selected_in  positive_in  negative_in  volatile  \\\n",
       "TSPAN6         -0.000008          1.0         0.19         0.81      0.38   \n",
       "DPM1           -0.000003          1.0         0.48         0.52      0.96   \n",
       "SCYL3          -0.000004          1.0         0.00         1.00      0.00   \n",
       "C1orf112        0.000066          1.0         1.00         0.00      0.00   \n",
       "FGR             0.000025          1.0         1.00         0.00      0.00   \n",
       "...                  ...          ...          ...          ...       ...   \n",
       "C7orf55-LUC7L2 -0.000047          1.0         0.00         0.21      0.00   \n",
       "AC008695.1      0.000041          1.0         0.21         0.00      0.00   \n",
       "FP700111.2      0.000043          1.0         0.21         0.00      0.00   \n",
       "AL772307.1      0.000010          1.0         0.21         0.00      0.00   \n",
       "UBFD1           0.000011          1.0         0.06         0.00      0.00   \n",
       "\n",
       "                       stdev            ci  mean_abundance  \\\n",
       "TSPAN6          9.290425e-06  1.019473e-07   -1.110223e-15   \n",
       "DPM1            7.629139e-06  8.371742e-08    2.109424e-15   \n",
       "SCYL3           3.211258e-06  3.523834e-08    3.338996e-14   \n",
       "C1orf112        3.501805e-06  3.842662e-08    1.182388e-14   \n",
       "FGR             8.329934e-06  9.140750e-08   -1.221245e-14   \n",
       "...                      ...           ...             ...   \n",
       "C7orf55-LUC7L2  6.943604e-21  7.619479e-23             NaN   \n",
       "AC008695.1      6.943604e-21  7.619479e-23             NaN   \n",
       "FP700111.2      6.943604e-21  7.619479e-23             NaN   \n",
       "AL772307.1      0.000000e+00  0.000000e+00             NaN   \n",
       "UBFD1           0.000000e+00  0.000000e+00   -6.006307e-14   \n",
       "\n",
       "                              gene  weighted_auc  \n",
       "TSPAN6                  TSPAN6.RNA      0.000009  \n",
       "DPM1                      DPM1.RNA      0.000006  \n",
       "SCYL3                    SCYL3.RNA      0.000003  \n",
       "C1orf112              C1orf112.RNA      0.000050  \n",
       "FGR                        FGR.RNA      0.000019  \n",
       "...                            ...           ...  \n",
       "C7orf55-LUC7L2  C7orf55-LUC7L2.RNA           NaN  \n",
       "AC008695.1          AC008695.1.RNA           NaN  \n",
       "FP700111.2          FP700111.2.RNA           NaN  \n",
       "AL772307.1          AL772307.1.RNA           NaN  \n",
       "UBFD1                    UBFD1.RNA           NaN  \n",
       "\n",
       "[30633 rows x 10 columns]"
      ]
     },
     "execution_count": 101,
     "metadata": {},
     "output_type": "execute_result"
    }
   ],
   "source": [
    "ridge_combined_rna = ridge_combined[ridge_combined.index.str.endswith('RNA')].copy()\n",
    "ridge_combined_rna.index = ridge_combined_rna.index.str[:-4]\n",
    "ridge_combined_rna"
   ]
  },
  {
   "cell_type": "code",
   "execution_count": 105,
   "metadata": {},
   "outputs": [
    {
     "data": {
      "text/html": [
       "<div>\n",
       "<style scoped>\n",
       "    .dataframe tbody tr th:only-of-type {\n",
       "        vertical-align: middle;\n",
       "    }\n",
       "\n",
       "    .dataframe tbody tr th {\n",
       "        vertical-align: top;\n",
       "    }\n",
       "\n",
       "    .dataframe thead th {\n",
       "        text-align: right;\n",
       "    }\n",
       "</style>\n",
       "<table border=\"1\" class=\"dataframe\">\n",
       "  <thead>\n",
       "    <tr style=\"text-align: right;\">\n",
       "      <th></th>\n",
       "      <th>mean</th>\n",
       "      <th>selected_in</th>\n",
       "      <th>positive_in</th>\n",
       "      <th>negative_in</th>\n",
       "      <th>volatile</th>\n",
       "      <th>stdev</th>\n",
       "      <th>ci</th>\n",
       "      <th>mean_abundance</th>\n",
       "      <th>gene</th>\n",
       "      <th>weighted_auc</th>\n",
       "    </tr>\n",
       "  </thead>\n",
       "  <tbody>\n",
       "    <tr>\n",
       "      <th>STUB1</th>\n",
       "      <td>-0.000050</td>\n",
       "      <td>1.0</td>\n",
       "      <td>0.00</td>\n",
       "      <td>1.00</td>\n",
       "      <td>0.00</td>\n",
       "      <td>0.000015</td>\n",
       "      <td>1.688640e-07</td>\n",
       "      <td>1.548761e-14</td>\n",
       "      <td>STUB1.Protein</td>\n",
       "      <td>0.000038</td>\n",
       "    </tr>\n",
       "    <tr>\n",
       "      <th>CEBPB</th>\n",
       "      <td>0.000046</td>\n",
       "      <td>1.0</td>\n",
       "      <td>1.00</td>\n",
       "      <td>0.00</td>\n",
       "      <td>0.00</td>\n",
       "      <td>0.000005</td>\n",
       "      <td>5.235186e-08</td>\n",
       "      <td>7.993606e-15</td>\n",
       "      <td>CEBPB.Protein</td>\n",
       "      <td>0.000035</td>\n",
       "    </tr>\n",
       "    <tr>\n",
       "      <th>ENO2</th>\n",
       "      <td>0.000004</td>\n",
       "      <td>1.0</td>\n",
       "      <td>0.94</td>\n",
       "      <td>0.06</td>\n",
       "      <td>0.12</td>\n",
       "      <td>0.000004</td>\n",
       "      <td>4.068956e-08</td>\n",
       "      <td>6.517009e-14</td>\n",
       "      <td>ENO2.Protein</td>\n",
       "      <td>0.000004</td>\n",
       "    </tr>\n",
       "    <tr>\n",
       "      <th>PIAS4</th>\n",
       "      <td>0.000027</td>\n",
       "      <td>1.0</td>\n",
       "      <td>1.00</td>\n",
       "      <td>0.00</td>\n",
       "      <td>0.00</td>\n",
       "      <td>0.000008</td>\n",
       "      <td>8.861569e-08</td>\n",
       "      <td>-6.439294e-15</td>\n",
       "      <td>PIAS4.Protein</td>\n",
       "      <td>0.000021</td>\n",
       "    </tr>\n",
       "    <tr>\n",
       "      <th>IL10RA</th>\n",
       "      <td>-0.000024</td>\n",
       "      <td>1.0</td>\n",
       "      <td>0.00</td>\n",
       "      <td>1.00</td>\n",
       "      <td>0.00</td>\n",
       "      <td>0.000003</td>\n",
       "      <td>3.581734e-08</td>\n",
       "      <td>3.624878e-14</td>\n",
       "      <td>IL10RA.Protein</td>\n",
       "      <td>0.000018</td>\n",
       "    </tr>\n",
       "    <tr>\n",
       "      <th>...</th>\n",
       "      <td>...</td>\n",
       "      <td>...</td>\n",
       "      <td>...</td>\n",
       "      <td>...</td>\n",
       "      <td>...</td>\n",
       "      <td>...</td>\n",
       "      <td>...</td>\n",
       "      <td>...</td>\n",
       "      <td>...</td>\n",
       "      <td>...</td>\n",
       "    </tr>\n",
       "    <tr>\n",
       "      <th>FTCD</th>\n",
       "      <td>0.000007</td>\n",
       "      <td>1.0</td>\n",
       "      <td>0.75</td>\n",
       "      <td>0.25</td>\n",
       "      <td>0.50</td>\n",
       "      <td>0.000006</td>\n",
       "      <td>7.053630e-08</td>\n",
       "      <td>1.762479e-14</td>\n",
       "      <td>FTCD.Protein</td>\n",
       "      <td>0.000006</td>\n",
       "    </tr>\n",
       "    <tr>\n",
       "      <th>USP25</th>\n",
       "      <td>0.000015</td>\n",
       "      <td>1.0</td>\n",
       "      <td>1.00</td>\n",
       "      <td>0.00</td>\n",
       "      <td>0.00</td>\n",
       "      <td>0.000005</td>\n",
       "      <td>5.112374e-08</td>\n",
       "      <td>1.340594e-14</td>\n",
       "      <td>USP25.Protein</td>\n",
       "      <td>0.000012</td>\n",
       "    </tr>\n",
       "    <tr>\n",
       "      <th>PLXNB2</th>\n",
       "      <td>0.000003</td>\n",
       "      <td>1.0</td>\n",
       "      <td>0.63</td>\n",
       "      <td>0.37</td>\n",
       "      <td>0.74</td>\n",
       "      <td>0.000010</td>\n",
       "      <td>1.143430e-07</td>\n",
       "      <td>6.214473e-14</td>\n",
       "      <td>PLXNB2.Protein</td>\n",
       "      <td>0.000007</td>\n",
       "    </tr>\n",
       "    <tr>\n",
       "      <th>SCGB2A1</th>\n",
       "      <td>0.000023</td>\n",
       "      <td>1.0</td>\n",
       "      <td>0.23</td>\n",
       "      <td>0.00</td>\n",
       "      <td>0.00</td>\n",
       "      <td>0.000000</td>\n",
       "      <td>0.000000e+00</td>\n",
       "      <td>NaN</td>\n",
       "      <td>SCGB2A1.Protein</td>\n",
       "      <td>NaN</td>\n",
       "    </tr>\n",
       "    <tr>\n",
       "      <th>ERBB2</th>\n",
       "      <td>0.000080</td>\n",
       "      <td>1.0</td>\n",
       "      <td>0.46</td>\n",
       "      <td>0.00</td>\n",
       "      <td>0.00</td>\n",
       "      <td>0.000003</td>\n",
       "      <td>3.402230e-08</td>\n",
       "      <td>-3.808065e-14</td>\n",
       "      <td>ERBB2.Protein</td>\n",
       "      <td>NaN</td>\n",
       "    </tr>\n",
       "  </tbody>\n",
       "</table>\n",
       "<p>1270 rows × 10 columns</p>\n",
       "</div>"
      ],
      "text/plain": [
       "             mean  selected_in  positive_in  negative_in  volatile     stdev  \\\n",
       "STUB1   -0.000050          1.0         0.00         1.00      0.00  0.000015   \n",
       "CEBPB    0.000046          1.0         1.00         0.00      0.00  0.000005   \n",
       "ENO2     0.000004          1.0         0.94         0.06      0.12  0.000004   \n",
       "PIAS4    0.000027          1.0         1.00         0.00      0.00  0.000008   \n",
       "IL10RA  -0.000024          1.0         0.00         1.00      0.00  0.000003   \n",
       "...           ...          ...          ...          ...       ...       ...   \n",
       "FTCD     0.000007          1.0         0.75         0.25      0.50  0.000006   \n",
       "USP25    0.000015          1.0         1.00         0.00      0.00  0.000005   \n",
       "PLXNB2   0.000003          1.0         0.63         0.37      0.74  0.000010   \n",
       "SCGB2A1  0.000023          1.0         0.23         0.00      0.00  0.000000   \n",
       "ERBB2    0.000080          1.0         0.46         0.00      0.00  0.000003   \n",
       "\n",
       "                   ci  mean_abundance             gene  weighted_auc  \n",
       "STUB1    1.688640e-07    1.548761e-14    STUB1.Protein      0.000038  \n",
       "CEBPB    5.235186e-08    7.993606e-15    CEBPB.Protein      0.000035  \n",
       "ENO2     4.068956e-08    6.517009e-14     ENO2.Protein      0.000004  \n",
       "PIAS4    8.861569e-08   -6.439294e-15    PIAS4.Protein      0.000021  \n",
       "IL10RA   3.581734e-08    3.624878e-14   IL10RA.Protein      0.000018  \n",
       "...               ...             ...              ...           ...  \n",
       "FTCD     7.053630e-08    1.762479e-14     FTCD.Protein      0.000006  \n",
       "USP25    5.112374e-08    1.340594e-14    USP25.Protein      0.000012  \n",
       "PLXNB2   1.143430e-07    6.214473e-14   PLXNB2.Protein      0.000007  \n",
       "SCGB2A1  0.000000e+00             NaN  SCGB2A1.Protein           NaN  \n",
       "ERBB2    3.402230e-08   -3.808065e-14    ERBB2.Protein           NaN  \n",
       "\n",
       "[1270 rows x 10 columns]"
      ]
     },
     "execution_count": 105,
     "metadata": {},
     "output_type": "execute_result"
    }
   ],
   "source": [
    "ridge_combined_protein = ridge_combined[ridge_combined.index.str.endswith('Protein')].copy()\n",
    "ridge_combined_protein.index = ridge_combined_protein.index.str[:-8]\n",
    "ridge_combined_protein"
   ]
  },
  {
   "cell_type": "code",
   "execution_count": 131,
   "metadata": {},
   "outputs": [],
   "source": [
    "%%R\n",
    "top_n = 10\n",
    "# these are based on the abundance difference\n",
    "protein = head(camera_pr(protein_diff, 'diff', hallmarks_for_protein), top_n)\n",
    "RNA = head(camera_pr(rna_diff, 'diff', hallmarks_for_rna), top_n)\n",
    "\n",
    "rna_label = 'RNA (abundance difference)'\n",
    "protein_label = 'Protein (abundance difference)'\n",
    "\n",
    "base_contributions_pathways = function(data, label) {\n",
    "    data$gene = rownames(data)\n",
    "    data$kind = label\n",
    "    data$from = label\n",
    "    data\n",
    "}\n",
    "\n",
    "RNA = base_contributions_pathways(RNA, rna_label)\n",
    "protein = base_contributions_pathways(protein, protein_label)\n",
    "\n",
    "\n",
    "ridge_protein_relative_to_mean = contributions_pathways(\n",
    "    head(camera_pr(single_ridge_contribs_protein, 'mean', hallmarks_for_protein), top_n),\n",
    "    label=ridge_protein_label,\n",
    "    RNA, protein,\n",
    "    rna_label, protein_label\n",
    ")\n",
    "\n",
    "ridge_rna_relative_to_mean = contributions_pathways(\n",
    "    head(camera_pr(single_ridge_contribs_rna, 'mean', hallmarks_for_rna), top_n),\n",
    "    label=ridge_rna_label,\n",
    "    RNA, protein,\n",
    "    rna_label, protein_label\n",
    ")"
   ]
  },
  {
   "cell_type": "code",
   "execution_count": 132,
   "metadata": {},
   "outputs": [],
   "source": [
    "%%R -i ridge_combined_protein -i ridge_combined_rna\n",
    "\n",
    "# these are based on the protein/RNA contributions\n",
    "ridge_combined_protein_label = 'Mean of contributions concat Ridge (proteins)'\n",
    "ridge_combined_rna_label = 'Mean of contributions concat Ridge (RNA)'\n",
    "ridge_protein_label = 'Mean of contributions Ridge (proteins)'\n",
    "ridge_rna_label = 'Mean of contributions Ridge (RNA)'\n",
    "\n",
    "contributions_pathways = function(o2pls, label, RNA, protein, rna_label, protein_label) {\n",
    "    o2pls$gene = rownames(o2pls)\n",
    "    o2pls$kind = label\n",
    "    o2pls$from = ifelse(\n",
    "        rownames(o2pls) %in% rownames(RNA) & rownames(o2pls) %in% rownames(protein),\n",
    "        'Both',\n",
    "        ifelse(\n",
    "            rownames(o2pls) %in% rownames(RNA),\n",
    "            rna_label,\n",
    "            ifelse(rownames(o2pls) %in% rownames(protein), protein_label, 'Neither')\n",
    "        )\n",
    "    )\n",
    "    o2pls\n",
    "}\n",
    "\n",
    "ridge_protein = base_contributions_pathways(\n",
    "    head(camera_pr(single_ridge_contribs_protein, 'mean', hallmarks_for_protein), top_n),\n",
    "    ridge_protein_label\n",
    ")\n",
    "\n",
    "ridge_rna = base_contributions_pathways(\n",
    "    head(camera_pr(single_ridge_contribs_rna, 'mean', hallmarks_for_rna), top_n),\n",
    "    ridge_rna_label\n",
    ")\n",
    "\n",
    "ridge_combined_protein = contributions_pathways(\n",
    "    head(camera_pr(ridge_combined_protein, 'mean', hallmarks_for_protein), top_n),\n",
    "    label=ridge_combined_protein_label,\n",
    "    ridge_rna, ridge_protein,\n",
    "    ridge_rna_label, ridge_protein_label\n",
    ")\n",
    "\n",
    "ridge_combined_rna = contributions_pathways(\n",
    "    head(camera_pr(ridge_combined_rna, 'mean', hallmarks_for_rna), top_n),\n",
    "    label=ridge_combined_rna_label,\n",
    "    ridge_rna, ridge_protein,\n",
    "    ridge_rna_label, ridge_protein_label\n",
    ")"
   ]
  },
  {
   "cell_type": "code",
   "execution_count": 133,
   "metadata": {},
   "outputs": [
    {
     "data": {
      "image/png": "[encoded data removed]"
     },
     "metadata": {},
     "output_type": "display_data"
    }
   ],
   "source": [
    "%%R -w 1400 -r 95 -h 600\n",
    "\n",
    "pathway_colors = c('#D95F02', '#E7298A', '#7570B3', '#1B9E77')\n",
    "names(pathway_colors) = c('Both', 'Neither', ridge_protein_label, ridge_rna_label)\n",
    "\n",
    "df = rbind(ridge_protein, ridge_rna, ridge_combined_protein, ridge_combined_rna)\n",
    "df$kind = factor(df$kind, levels=c(ridge_protein_label, ridge_rna_label, ridge_combined_protein_label, ridge_combined_rna_label))\n",
    "\n",
    "\n",
    "(\n",
    "    ggplot(df, aes(x=gene, y=-log10(PValue), fill=from))\n",
    "    + geom_bar(stat='identity')\n",
    "    + facet_wrap('kind', scale='free_x', ncol=5)\n",
    "    + nice_theme\n",
    "    + theme(axis.text.x=element_text(angle = -90, hjust = 0))\n",
    "    + coord_flip()\n",
    "    + scale_fill_manual(name='In top 10 of', values=pathway_colors)\n",
    "    + xlab('MSigDB hallmark gene set v7.1')\n",
    ")"
   ]
  },
  {
   "cell_type": "markdown",
   "metadata": {},
   "source": [
    "# TODO: head on the dataset before visualisation removes important information; should have all in and then set breaks to only show top pathways (current head's function)."
   ]
  },
  {
   "cell_type": "code",
   "execution_count": 136,
   "metadata": {},
   "outputs": [],
   "source": [
    "%%R -i ridge_combined_protein -i ridge_combined_rna\n",
    "top_n = 15\n",
    "\n",
    "ridge_protein = base_contributions_pathways(\n",
    "    head(camera_pr(single_ridge_contribs_protein, 'mean', reactome_for_protein), top_n),\n",
    "    ridge_protein_label\n",
    ")\n",
    "\n",
    "ridge_rna = base_contributions_pathways(\n",
    "    head(camera_pr(single_ridge_contribs_rna, 'mean', reactome_for_rna), top_n),\n",
    "    ridge_rna_label\n",
    ")\n",
    "\n",
    "\n",
    "ridge_combined_protein = contributions_pathways(\n",
    "    head(camera_pr(ridge_combined_protein, 'mean', reactome_for_protein), top_n),\n",
    "    label=ridge_combined_protein_label,\n",
    "    ridge_rna, ridge_protein,\n",
    "    ridge_rna_label, ridge_protein_label\n",
    ")\n",
    "\n",
    "ridge_combined_rna = contributions_pathways(\n",
    "    head(camera_pr(ridge_combined_rna, 'mean', reactome_for_rna), top_n),\n",
    "    label=ridge_combined_rna_label,\n",
    "    ridge_rna, ridge_protein,\n",
    "    ridge_rna_label, ridge_protein_label\n",
    ")"
   ]
  },
  {
   "cell_type": "code",
   "execution_count": 137,
   "metadata": {},
   "outputs": [
    {
     "data": {
      "image/png": "[encoded data removed]"
     },
     "metadata": {},
     "output_type": "display_data"
    }
   ],
   "source": [
    "%%R -w 1400 -r 95 -h 600\n",
    "df = rbind(ridge_protein, ridge_rna, ridge_combined_protein, ridge_combined_rna)\n",
    "df$kind = factor(df$kind, levels=c(ridge_protein_label, ridge_rna_label, ridge_combined_protein_label, ridge_combined_rna_label))\n",
    "\n",
    "(\n",
    "    ggplot(df, aes(x=gene, y=-log10(PValue), fill=from))\n",
    "    + geom_bar(stat='identity')\n",
    "    + facet_wrap('kind', scale='free_x', ncol=5)\n",
    "    + nice_theme\n",
    "    + theme(axis.text.x=element_text(angle = -90, hjust = 0))\n",
    "    + coord_flip()\n",
    "    + scale_fill_manual(name='In top 10 of', values=pathway_colors)\n",
    "    + xlab('Reactome pathway (MSigSB v7.1)')\n",
    ")"
   ]
  },
  {
   "cell_type": "markdown",
   "metadata": {},
   "source": [
    "- after concatenation, the chosen pathways are very different between RNA and proteins\n",
    "- even though if we trained on individual omics, we would get an overlap\n",
    "- this is because in concatenated model we get competition (two correlated variables such as corresponding RNA-protein pair will not be chosen twice)!\n",
    "  - but if we get \"both\" (as in hallmarks) does it mean anything special?\n",
    "  - yes, that both RNA and protein demonstrate this signal and neither is stronger\n",
    "    - on the other hand if a pathway appear boosted in only omic, it probably has stronger signal for it..."
   ]
  },
  {
   "cell_type": "code",
   "execution_count": 142,
   "metadata": {},
   "outputs": [],
   "source": [
    "%R -i ridge_combined_rna -i ridge_combined_protein"
   ]
  },
  {
   "cell_type": "code",
   "execution_count": 143,
   "metadata": {},
   "outputs": [
    {
     "data": {
      "text/html": [
       "<div>\n",
       "<style scoped>\n",
       "    .dataframe tbody tr th:only-of-type {\n",
       "        vertical-align: middle;\n",
       "    }\n",
       "\n",
       "    .dataframe tbody tr th {\n",
       "        vertical-align: top;\n",
       "    }\n",
       "\n",
       "    .dataframe thead th {\n",
       "        text-align: right;\n",
       "    }\n",
       "</style>\n",
       "<table border=\"1\" class=\"dataframe\">\n",
       "  <thead>\n",
       "    <tr style=\"text-align: right;\">\n",
       "      <th></th>\n",
       "      <th>NGenes</th>\n",
       "      <th>Direction</th>\n",
       "      <th>PValue</th>\n",
       "      <th>FDR</th>\n",
       "    </tr>\n",
       "  </thead>\n",
       "  <tbody>\n",
       "    <tr>\n",
       "      <th>Peptide hormone biosynthesis</th>\n",
       "      <td>7.0</td>\n",
       "      <td>Down</td>\n",
       "      <td>0.000008</td>\n",
       "      <td>0.004828</td>\n",
       "    </tr>\n",
       "    <tr>\n",
       "      <th>Cell Cycle</th>\n",
       "      <td>64.0</td>\n",
       "      <td>Up</td>\n",
       "      <td>0.000048</td>\n",
       "      <td>0.012159</td>\n",
       "    </tr>\n",
       "    <tr>\n",
       "      <th>TNFs bind their physiological receptors</th>\n",
       "      <td>25.0</td>\n",
       "      <td>Down</td>\n",
       "      <td>0.000063</td>\n",
       "      <td>0.012159</td>\n",
       "    </tr>\n",
       "    <tr>\n",
       "      <th>Cell Cycle Mitotic</th>\n",
       "      <td>54.0</td>\n",
       "      <td>Up</td>\n",
       "      <td>0.000195</td>\n",
       "      <td>0.025422</td>\n",
       "    </tr>\n",
       "    <tr>\n",
       "      <th>Signaling by Rho GTPases</th>\n",
       "      <td>38.0</td>\n",
       "      <td>Up</td>\n",
       "      <td>0.000219</td>\n",
       "      <td>0.025422</td>\n",
       "    </tr>\n",
       "    <tr>\n",
       "      <th>M Phase</th>\n",
       "      <td>38.0</td>\n",
       "      <td>Up</td>\n",
       "      <td>0.000522</td>\n",
       "      <td>0.050541</td>\n",
       "    </tr>\n",
       "    <tr>\n",
       "      <th>Activation of BAD and translocation to mitochondria</th>\n",
       "      <td>10.0</td>\n",
       "      <td>Up</td>\n",
       "      <td>0.000615</td>\n",
       "      <td>0.051007</td>\n",
       "    </tr>\n",
       "    <tr>\n",
       "      <th>RAF activation</th>\n",
       "      <td>9.0</td>\n",
       "      <td>Up</td>\n",
       "      <td>0.000879</td>\n",
       "      <td>0.059431</td>\n",
       "    </tr>\n",
       "    <tr>\n",
       "      <th>RHO GTPase Effectors</th>\n",
       "      <td>34.0</td>\n",
       "      <td>Up</td>\n",
       "      <td>0.000921</td>\n",
       "      <td>0.059431</td>\n",
       "    </tr>\n",
       "    <tr>\n",
       "      <th>CREB1 phosphorylation through NMDA receptor-mediated activation of RAS signaling</th>\n",
       "      <td>8.0</td>\n",
       "      <td>Up</td>\n",
       "      <td>0.001264</td>\n",
       "      <td>0.069156</td>\n",
       "    </tr>\n",
       "  </tbody>\n",
       "</table>\n",
       "</div>"
      ],
      "text/plain": [
       "                                                    NGenes Direction  \\\n",
       "Peptide hormone biosynthesis                           7.0      Down   \n",
       "Cell Cycle                                            64.0        Up   \n",
       "TNFs bind their physiological receptors               25.0      Down   \n",
       "Cell Cycle Mitotic                                    54.0        Up   \n",
       "Signaling by Rho GTPases                              38.0        Up   \n",
       "M Phase                                               38.0        Up   \n",
       "Activation of BAD and translocation to mitochon...    10.0        Up   \n",
       "RAF activation                                         9.0        Up   \n",
       "RHO GTPase Effectors                                  34.0        Up   \n",
       "CREB1 phosphorylation through NMDA receptor-med...     8.0        Up   \n",
       "\n",
       "                                                      PValue       FDR  \n",
       "Peptide hormone biosynthesis                        0.000008  0.004828  \n",
       "Cell Cycle                                          0.000048  0.012159  \n",
       "TNFs bind their physiological receptors             0.000063  0.012159  \n",
       "Cell Cycle Mitotic                                  0.000195  0.025422  \n",
       "Signaling by Rho GTPases                            0.000219  0.025422  \n",
       "M Phase                                             0.000522  0.050541  \n",
       "Activation of BAD and translocation to mitochon...  0.000615  0.051007  \n",
       "RAF activation                                      0.000879  0.059431  \n",
       "RHO GTPase Effectors                                0.000921  0.059431  \n",
       "CREB1 phosphorylation through NMDA receptor-med...  0.001264  0.069156  "
      ]
     },
     "execution_count": 143,
     "metadata": {},
     "output_type": "execute_result"
    }
   ],
   "source": [
    "%R head(camera_pr(ridge_combined_protein, 'mean', reactome_for_protein), 10)"
   ]
  },
  {
   "cell_type": "code",
   "execution_count": 144,
   "metadata": {},
   "outputs": [
    {
     "name": "stdout",
     "output_type": "stream",
     "text": [
      "[1] \"Removed 4 NAs\"\n"
     ]
    },
    {
     "data": {
      "text/html": [
       "<div>\n",
       "<style scoped>\n",
       "    .dataframe tbody tr th:only-of-type {\n",
       "        vertical-align: middle;\n",
       "    }\n",
       "\n",
       "    .dataframe tbody tr th {\n",
       "        vertical-align: top;\n",
       "    }\n",
       "\n",
       "    .dataframe thead th {\n",
       "        text-align: right;\n",
       "    }\n",
       "</style>\n",
       "<table border=\"1\" class=\"dataframe\">\n",
       "  <thead>\n",
       "    <tr style=\"text-align: right;\">\n",
       "      <th></th>\n",
       "      <th>NGenes</th>\n",
       "      <th>Direction</th>\n",
       "      <th>PValue</th>\n",
       "      <th>FDR</th>\n",
       "    </tr>\n",
       "  </thead>\n",
       "  <tbody>\n",
       "    <tr>\n",
       "      <th>Peptide hormone biosynthesis</th>\n",
       "      <td>7.0</td>\n",
       "      <td>Up</td>\n",
       "      <td>0.000103</td>\n",
       "      <td>0.059644</td>\n",
       "    </tr>\n",
       "    <tr>\n",
       "      <th>TFAP2 (AP-2) family regulates transcription of growth factors and their receptors</th>\n",
       "      <td>6.0</td>\n",
       "      <td>Up</td>\n",
       "      <td>0.004909</td>\n",
       "      <td>0.839693</td>\n",
       "    </tr>\n",
       "    <tr>\n",
       "      <th>Transcriptional regulation of granulopoiesis</th>\n",
       "      <td>7.0</td>\n",
       "      <td>Up</td>\n",
       "      <td>0.010407</td>\n",
       "      <td>0.839693</td>\n",
       "    </tr>\n",
       "    <tr>\n",
       "      <th>Regulation of Insulin-like Growth Factor (IGF) transport and uptake by Insulin-like Growth Factor Binding Proteins (IGFBPs)</th>\n",
       "      <td>55.0</td>\n",
       "      <td>Down</td>\n",
       "      <td>0.014568</td>\n",
       "      <td>0.839693</td>\n",
       "    </tr>\n",
       "    <tr>\n",
       "      <th>DAP12 interactions</th>\n",
       "      <td>13.0</td>\n",
       "      <td>Down</td>\n",
       "      <td>0.015364</td>\n",
       "      <td>0.839693</td>\n",
       "    </tr>\n",
       "    <tr>\n",
       "      <th>Pre-NOTCH Expression and Processing</th>\n",
       "      <td>8.0</td>\n",
       "      <td>Up</td>\n",
       "      <td>0.016106</td>\n",
       "      <td>0.839693</td>\n",
       "    </tr>\n",
       "    <tr>\n",
       "      <th>Opioid Signalling</th>\n",
       "      <td>15.0</td>\n",
       "      <td>Up</td>\n",
       "      <td>0.022629</td>\n",
       "      <td>0.839693</td>\n",
       "    </tr>\n",
       "    <tr>\n",
       "      <th>Response To Elevated Platelet Cytosolic Ca2</th>\n",
       "      <td>57.0</td>\n",
       "      <td>Down</td>\n",
       "      <td>0.022668</td>\n",
       "      <td>0.839693</td>\n",
       "    </tr>\n",
       "    <tr>\n",
       "      <th>TNFs bind their physiological receptors</th>\n",
       "      <td>25.0</td>\n",
       "      <td>Up</td>\n",
       "      <td>0.027688</td>\n",
       "      <td>0.839693</td>\n",
       "    </tr>\n",
       "    <tr>\n",
       "      <th>Estrogen-dependent gene expression</th>\n",
       "      <td>16.0</td>\n",
       "      <td>Up</td>\n",
       "      <td>0.029380</td>\n",
       "      <td>0.839693</td>\n",
       "    </tr>\n",
       "  </tbody>\n",
       "</table>\n",
       "</div>"
      ],
      "text/plain": [
       "                                                    NGenes Direction  \\\n",
       "Peptide hormone biosynthesis                           7.0        Up   \n",
       "TFAP2 (AP-2) family regulates transcription of ...     6.0        Up   \n",
       "Transcriptional regulation of granulopoiesis           7.0        Up   \n",
       "Regulation of Insulin-like Growth Factor (IGF) ...    55.0      Down   \n",
       "DAP12 interactions                                    13.0      Down   \n",
       "Pre-NOTCH Expression and Processing                    8.0        Up   \n",
       "Opioid Signalling                                     15.0        Up   \n",
       "Response To Elevated Platelet Cytosolic Ca2           57.0      Down   \n",
       "TNFs bind their physiological receptors               25.0        Up   \n",
       "Estrogen-dependent gene expression                    16.0        Up   \n",
       "\n",
       "                                                      PValue       FDR  \n",
       "Peptide hormone biosynthesis                        0.000103  0.059644  \n",
       "TFAP2 (AP-2) family regulates transcription of ...  0.004909  0.839693  \n",
       "Transcriptional regulation of granulopoiesis        0.010407  0.839693  \n",
       "Regulation of Insulin-like Growth Factor (IGF) ...  0.014568  0.839693  \n",
       "DAP12 interactions                                  0.015364  0.839693  \n",
       "Pre-NOTCH Expression and Processing                 0.016106  0.839693  \n",
       "Opioid Signalling                                   0.022629  0.839693  \n",
       "Response To Elevated Platelet Cytosolic Ca2         0.022668  0.839693  \n",
       "TNFs bind their physiological receptors             0.027688  0.839693  \n",
       "Estrogen-dependent gene expression                  0.029380  0.839693  "
      ]
     },
     "execution_count": 144,
     "metadata": {},
     "output_type": "execute_result"
    }
   ],
   "source": [
    "%R head(camera_pr(ridge_combined_protein, 'weighted_auc', reactome_for_protein), 10)"
   ]
  },
  {
   "cell_type": "markdown",
   "metadata": {},
   "source": [
    "#### RNA"
   ]
  },
  {
   "cell_type": "code",
   "execution_count": 145,
   "metadata": {},
   "outputs": [
    {
     "data": {
      "text/html": [
       "<div>\n",
       "<style scoped>\n",
       "    .dataframe tbody tr th:only-of-type {\n",
       "        vertical-align: middle;\n",
       "    }\n",
       "\n",
       "    .dataframe tbody tr th {\n",
       "        vertical-align: top;\n",
       "    }\n",
       "\n",
       "    .dataframe thead th {\n",
       "        text-align: right;\n",
       "    }\n",
       "</style>\n",
       "<table border=\"1\" class=\"dataframe\">\n",
       "  <thead>\n",
       "    <tr style=\"text-align: right;\">\n",
       "      <th></th>\n",
       "      <th>NGenes</th>\n",
       "      <th>Direction</th>\n",
       "      <th>PValue</th>\n",
       "      <th>FDR</th>\n",
       "    </tr>\n",
       "  </thead>\n",
       "  <tbody>\n",
       "    <tr>\n",
       "      <th>CD22 mediated BCR regulation</th>\n",
       "      <td>53.0</td>\n",
       "      <td>Up</td>\n",
       "      <td>4.855378e-18</td>\n",
       "      <td>6.943190e-15</td>\n",
       "    </tr>\n",
       "    <tr>\n",
       "      <th>FCGR activation</th>\n",
       "      <td>61.0</td>\n",
       "      <td>Up</td>\n",
       "      <td>4.695822e-17</td>\n",
       "      <td>3.357513e-14</td>\n",
       "    </tr>\n",
       "    <tr>\n",
       "      <th>Scavenging of heme from plasma</th>\n",
       "      <td>60.0</td>\n",
       "      <td>Up</td>\n",
       "      <td>3.328554e-16</td>\n",
       "      <td>1.586611e-13</td>\n",
       "    </tr>\n",
       "    <tr>\n",
       "      <th>Role of LAT2/NTAL/LAB on calcium mobilization</th>\n",
       "      <td>62.0</td>\n",
       "      <td>Up</td>\n",
       "      <td>2.376823e-15</td>\n",
       "      <td>8.497142e-13</td>\n",
       "    </tr>\n",
       "    <tr>\n",
       "      <th>Role of phospholipids in phagocytosis</th>\n",
       "      <td>73.0</td>\n",
       "      <td>Up</td>\n",
       "      <td>7.755945e-15</td>\n",
       "      <td>2.218200e-12</td>\n",
       "    </tr>\n",
       "    <tr>\n",
       "      <th>Antigen activates B Cell Receptor (BCR) leading to generation of second messengers</th>\n",
       "      <td>78.0</td>\n",
       "      <td>Up</td>\n",
       "      <td>1.172120e-14</td>\n",
       "      <td>2.471092e-12</td>\n",
       "    </tr>\n",
       "    <tr>\n",
       "      <th>Fceri Mediated Ca 2 Mobilization</th>\n",
       "      <td>77.0</td>\n",
       "      <td>Up</td>\n",
       "      <td>1.209625e-14</td>\n",
       "      <td>2.471092e-12</td>\n",
       "    </tr>\n",
       "    <tr>\n",
       "      <th>FCERI mediated MAPK activation</th>\n",
       "      <td>78.0</td>\n",
       "      <td>Up</td>\n",
       "      <td>2.908196e-14</td>\n",
       "      <td>5.198401e-12</td>\n",
       "    </tr>\n",
       "    <tr>\n",
       "      <th>Creation of C4 and C2 activators</th>\n",
       "      <td>62.0</td>\n",
       "      <td>Up</td>\n",
       "      <td>1.463608e-12</td>\n",
       "      <td>2.189651e-10</td>\n",
       "    </tr>\n",
       "    <tr>\n",
       "      <th>FCERI mediated NF-kB activation</th>\n",
       "      <td>126.0</td>\n",
       "      <td>Up</td>\n",
       "      <td>1.531224e-12</td>\n",
       "      <td>2.189651e-10</td>\n",
       "    </tr>\n",
       "  </tbody>\n",
       "</table>\n",
       "</div>"
      ],
      "text/plain": [
       "                                                    NGenes Direction  \\\n",
       "CD22 mediated BCR regulation                          53.0        Up   \n",
       "FCGR activation                                       61.0        Up   \n",
       "Scavenging of heme from plasma                        60.0        Up   \n",
       "Role of LAT2/NTAL/LAB on calcium mobilization         62.0        Up   \n",
       "Role of phospholipids in phagocytosis                 73.0        Up   \n",
       "Antigen activates B Cell Receptor (BCR) leading...    78.0        Up   \n",
       "Fceri Mediated Ca 2 Mobilization                      77.0        Up   \n",
       "FCERI mediated MAPK activation                        78.0        Up   \n",
       "Creation of C4 and C2 activators                      62.0        Up   \n",
       "FCERI mediated NF-kB activation                      126.0        Up   \n",
       "\n",
       "                                                          PValue           FDR  \n",
       "CD22 mediated BCR regulation                        4.855378e-18  6.943190e-15  \n",
       "FCGR activation                                     4.695822e-17  3.357513e-14  \n",
       "Scavenging of heme from plasma                      3.328554e-16  1.586611e-13  \n",
       "Role of LAT2/NTAL/LAB on calcium mobilization       2.376823e-15  8.497142e-13  \n",
       "Role of phospholipids in phagocytosis               7.755945e-15  2.218200e-12  \n",
       "Antigen activates B Cell Receptor (BCR) leading...  1.172120e-14  2.471092e-12  \n",
       "Fceri Mediated Ca 2 Mobilization                    1.209625e-14  2.471092e-12  \n",
       "FCERI mediated MAPK activation                      2.908196e-14  5.198401e-12  \n",
       "Creation of C4 and C2 activators                    1.463608e-12  2.189651e-10  \n",
       "FCERI mediated NF-kB activation                     1.531224e-12  2.189651e-10  "
      ]
     },
     "execution_count": 145,
     "metadata": {},
     "output_type": "execute_result"
    }
   ],
   "source": [
    "%R head(camera_pr(ridge_combined_rna, 'mean', reactome_for_rna), 10)"
   ]
  },
  {
   "cell_type": "code",
   "execution_count": 146,
   "metadata": {},
   "outputs": [
    {
     "name": "stdout",
     "output_type": "stream",
     "text": [
      "[1] \"Removed 534 NAs\"\n"
     ]
    },
    {
     "data": {
      "text/html": [
       "<div>\n",
       "<style scoped>\n",
       "    .dataframe tbody tr th:only-of-type {\n",
       "        vertical-align: middle;\n",
       "    }\n",
       "\n",
       "    .dataframe tbody tr th {\n",
       "        vertical-align: top;\n",
       "    }\n",
       "\n",
       "    .dataframe thead th {\n",
       "        text-align: right;\n",
       "    }\n",
       "</style>\n",
       "<table border=\"1\" class=\"dataframe\">\n",
       "  <thead>\n",
       "    <tr style=\"text-align: right;\">\n",
       "      <th></th>\n",
       "      <th>NGenes</th>\n",
       "      <th>Direction</th>\n",
       "      <th>PValue</th>\n",
       "      <th>FDR</th>\n",
       "    </tr>\n",
       "  </thead>\n",
       "  <tbody>\n",
       "    <tr>\n",
       "      <th>Scavenging of heme from plasma</th>\n",
       "      <td>60.0</td>\n",
       "      <td>Up</td>\n",
       "      <td>1.164460e-08</td>\n",
       "      <td>0.000017</td>\n",
       "    </tr>\n",
       "    <tr>\n",
       "      <th>CD22 mediated BCR regulation</th>\n",
       "      <td>53.0</td>\n",
       "      <td>Up</td>\n",
       "      <td>5.206222e-07</td>\n",
       "      <td>0.000372</td>\n",
       "    </tr>\n",
       "    <tr>\n",
       "      <th>Binding and Uptake of Ligands by Scavenger Receptors</th>\n",
       "      <td>87.0</td>\n",
       "      <td>Up</td>\n",
       "      <td>1.329611e-06</td>\n",
       "      <td>0.000485</td>\n",
       "    </tr>\n",
       "    <tr>\n",
       "      <th>Creation of C4 and C2 activators</th>\n",
       "      <td>62.0</td>\n",
       "      <td>Up</td>\n",
       "      <td>1.357857e-06</td>\n",
       "      <td>0.000485</td>\n",
       "    </tr>\n",
       "    <tr>\n",
       "      <th>Initial triggering of complement</th>\n",
       "      <td>70.0</td>\n",
       "      <td>Up</td>\n",
       "      <td>2.837205e-06</td>\n",
       "      <td>0.000811</td>\n",
       "    </tr>\n",
       "    <tr>\n",
       "      <th>SRP-dependent cotranslational protein targeting to membrane</th>\n",
       "      <td>112.0</td>\n",
       "      <td>Down</td>\n",
       "      <td>1.625899e-05</td>\n",
       "      <td>0.003875</td>\n",
       "    </tr>\n",
       "    <tr>\n",
       "      <th>Eukaryotic Translation Elongation</th>\n",
       "      <td>92.0</td>\n",
       "      <td>Down</td>\n",
       "      <td>2.583844e-05</td>\n",
       "      <td>0.004889</td>\n",
       "    </tr>\n",
       "    <tr>\n",
       "      <th>FCGR activation</th>\n",
       "      <td>61.0</td>\n",
       "      <td>Up</td>\n",
       "      <td>2.735300e-05</td>\n",
       "      <td>0.004889</td>\n",
       "    </tr>\n",
       "    <tr>\n",
       "      <th>Interferon alpha/beta signaling</th>\n",
       "      <td>68.0</td>\n",
       "      <td>Up</td>\n",
       "      <td>4.577970e-05</td>\n",
       "      <td>0.007274</td>\n",
       "    </tr>\n",
       "    <tr>\n",
       "      <th>Eukaryotic Translation Initiation</th>\n",
       "      <td>119.0</td>\n",
       "      <td>Down</td>\n",
       "      <td>7.145018e-05</td>\n",
       "      <td>0.010217</td>\n",
       "    </tr>\n",
       "  </tbody>\n",
       "</table>\n",
       "</div>"
      ],
      "text/plain": [
       "                                                    NGenes Direction  \\\n",
       "Scavenging of heme from plasma                        60.0        Up   \n",
       "CD22 mediated BCR regulation                          53.0        Up   \n",
       "Binding and Uptake of Ligands by Scavenger Rece...    87.0        Up   \n",
       "Creation of C4 and C2 activators                      62.0        Up   \n",
       "Initial triggering of complement                      70.0        Up   \n",
       "SRP-dependent cotranslational protein targeting...   112.0      Down   \n",
       "Eukaryotic Translation Elongation                     92.0      Down   \n",
       "FCGR activation                                       61.0        Up   \n",
       "Interferon alpha/beta signaling                       68.0        Up   \n",
       "Eukaryotic Translation Initiation                    119.0      Down   \n",
       "\n",
       "                                                          PValue       FDR  \n",
       "Scavenging of heme from plasma                      1.164460e-08  0.000017  \n",
       "CD22 mediated BCR regulation                        5.206222e-07  0.000372  \n",
       "Binding and Uptake of Ligands by Scavenger Rece...  1.329611e-06  0.000485  \n",
       "Creation of C4 and C2 activators                    1.357857e-06  0.000485  \n",
       "Initial triggering of complement                    2.837205e-06  0.000811  \n",
       "SRP-dependent cotranslational protein targeting...  1.625899e-05  0.003875  \n",
       "Eukaryotic Translation Elongation                   2.583844e-05  0.004889  \n",
       "FCGR activation                                     2.735300e-05  0.004889  \n",
       "Interferon alpha/beta signaling                     4.577970e-05  0.007274  \n",
       "Eukaryotic Translation Initiation                   7.145018e-05  0.010217  "
      ]
     },
     "execution_count": 146,
     "metadata": {},
     "output_type": "execute_result"
    }
   ],
   "source": [
    "%R head(camera_pr(ridge_combined_rna, 'weighted_auc', reactome_for_rna), 10)"
   ]
  }
 ],
 "metadata": {
  "kernelspec": {
   "display_name": "Python 3",
   "language": "python",
   "name": "python3"
  },
  "language_info": {
   "codemirror_mode": {
    "name": "ipython",
    "version": 3
   },
   "file_extension": ".py",
   "mimetype": "text/x-python",
   "name": "python",
   "nbconvert_exporter": "python",
   "pygments_lexer": "ipython3",
   "version": "3.7.6"
  }
 },
 "nbformat": 4,
 "nbformat_minor": 4
}
