{
 "cells": [
  {
   "cell_type": "code",
   "execution_count": 1,
   "metadata": {},
   "outputs": [],
   "source": [
    "from helpers.utilities import (\n",
    "    create_paths, DataFrame, Series, partial, read_csv, read_table, np, pd\n",
    ")\n",
    "%run helpers/notebook_setup.ipynb"
   ]
  },
  {
   "cell_type": "code",
   "execution_count": 2,
   "metadata": {},
   "outputs": [],
   "source": [
    "%R source('plots/colors.R');"
   ]
  },
  {
   "cell_type": "code",
   "execution_count": 3,
   "metadata": {},
   "outputs": [
    {
     "data": {
      "text/html": [],
      "text/plain": [
       "<IPython.core.display.HTML object>"
      ]
     },
     "metadata": {
      "patients_with_both": "data/integration/patients_with_both.csv"
     },
     "output_type": "display_data"
    }
   ],
   "source": [
    "__inputs__ = create_paths(path='data/integration/', csv=['patients_with_both'])\n",
    "clinical_path = 'data/clean/clinical/data_with_derived_variables.csv'"
   ]
  },
  {
   "cell_type": "code",
   "execution_count": 4,
   "metadata": {},
   "outputs": [],
   "source": [
    "patients_with_both = Series.from_csv(__inputs__['patients_with_both'])"
   ]
  },
  {
   "cell_type": "code",
   "execution_count": 5,
   "metadata": {},
   "outputs": [],
   "source": [
    "joint_cm_and_tmd = patients_with_both[patients_with_both.str.contains('TMD|CM')]\n",
    "intersect_cm_and_tmdr = patients_with_both[patients_with_both.str.contains('TMR|TMD|CM')]"
   ]
  },
  {
   "cell_type": "code",
   "execution_count": 6,
   "metadata": {},
   "outputs": [],
   "source": [
    "clinical = read_csv(clinical_path, index_col=0)"
   ]
  },
  {
   "cell_type": "code",
   "execution_count": 7,
   "metadata": {},
   "outputs": [
    {
     "data": {
      "text/plain": [
       "Cryptococcal             14\n",
       "Definite tuberculosis     7\n",
       "Viral                     7\n",
       "Possible tuberculosis     4\n",
       "Probable tuberculosis     4\n",
       "Name: Meningitis_with_tuberculosis_status, dtype: int64"
      ]
     },
     "execution_count": 7,
     "metadata": {},
     "output_type": "execute_result"
    }
   ],
   "source": [
    "clinical.loc[patients_with_both].Meningitis_with_tuberculosis_status.value_counts()"
   ]
  },
  {
   "cell_type": "code",
   "execution_count": 8,
   "metadata": {},
   "outputs": [],
   "source": [
    "from jupyter_helpers.selective_import import skip_on_import"
   ]
  },
  {
   "cell_type": "markdown",
   "metadata": {},
   "source": [
    "## Normalization and pre-processing pipeline"
   ]
  },
  {
   "cell_type": "code",
   "execution_count": 9,
   "metadata": {},
   "outputs": [],
   "source": [
    "raw_protein_path = 'data/clean/protein/gene_levels_by_entrez.csv'\n",
    "raw_rna_path = 'data/clean/rna/all_samples_counts.csv'"
   ]
  },
  {
   "cell_type": "code",
   "execution_count": 10,
   "metadata": {},
   "outputs": [],
   "source": [
    "raw_protein_matrix = read_csv(raw_protein_path, index_col=0)\n",
    "raw_rna_matrix = read_csv(raw_rna_path, index_col=0)"
   ]
  },
  {
   "cell_type": "markdown",
   "metadata": {},
   "source": [
    "Re-index proteins to use gene names:"
   ]
  },
  {
   "cell_type": "code",
   "execution_count": 11,
   "metadata": {},
   "outputs": [],
   "source": [
    "id_to_symbol_df = read_table('data/hgnc/entrez_ids_to_gene_symbol.tsv', index_col=3)\n",
    "id_to_symbol = id_to_symbol_df[id_to_symbol_df.Status == 'Approved']['Approved symbol'].to_dict()\n",
    "\n",
    "raw_protein_matrix.index = list(\n",
    "    Series(raw_protein_matrix.index).apply(lambda x: id_to_symbol.get(x, x))\n",
    ")"
   ]
  },
  {
   "cell_type": "markdown",
   "metadata": {},
   "source": [
    "Re-index transcripts to use gene names:"
   ]
  },
  {
   "cell_type": "code",
   "execution_count": 12,
   "metadata": {},
   "outputs": [],
   "source": [
    "from helpers.ensembl import Ensembl\n",
    "ensembl = Ensembl(95)\n",
    "\n",
    "rna_matrix_isoforms_collapsed = ensembl.collapse_and_reindex_to(raw_rna_matrix, to='gene_name')\n",
    "raw_rna_matrix = ensembl.reindex_to(raw_rna_matrix, to='gene_name')"
   ]
  },
  {
   "cell_type": "code",
   "execution_count": 13,
   "metadata": {},
   "outputs": [],
   "source": [
    "patients_union = set(raw_rna_matrix.columns | raw_protein_matrix.columns)\n",
    "patients_union_series = Series(list(patients_union))\n",
    "\n",
    "full_cm_and_tmdr = patients_union_series[patients_union_series.str.contains('TMR|TMD|CM')]"
   ]
  },
  {
   "cell_type": "code",
   "execution_count": 14,
   "metadata": {},
   "outputs": [],
   "source": [
    "%%skip_on_import\n",
    "intersect_cm_and_tmdr.map(clinical.Meningitis).value_counts()"
   ]
  },
  {
   "cell_type": "markdown",
   "metadata": {},
   "source": [
    "The proteins mapped to gene levels were sometimes annotated to two genes as two genes can encode the same (or very similar) protein:"
   ]
  },
  {
   "cell_type": "code",
   "execution_count": 15,
   "metadata": {},
   "outputs": [
    {
     "data": {
      "text/plain": [
       "True"
      ]
     },
     "execution_count": 15,
     "metadata": {},
     "output_type": "execute_result"
    }
   ],
   "source": [
    "raw_protein_matrix.duplicated().any()"
   ]
  },
  {
   "cell_type": "code",
   "execution_count": 16,
   "metadata": {},
   "outputs": [],
   "source": [
    "%%skip_on_import\n",
    "raw_protein_matrix[raw_protein_matrix.duplicated(keep=False)]"
   ]
  },
  {
   "cell_type": "markdown",
   "metadata": {},
   "source": [
    "To enable the use of methods which prohibit exact collinearity I remove the exact duplicates, however retaining the information of alternative gene mappings for future pathway analysis and interpretation; I also keep a copy with all of the genes for the use in gene-gene regression:"
   ]
  },
  {
   "cell_type": "code",
   "execution_count": 17,
   "metadata": {},
   "outputs": [],
   "source": [
    "raw_protein_matrix_with_duplicates = raw_protein_matrix.copy()"
   ]
  },
  {
   "cell_type": "code",
   "execution_count": 18,
   "metadata": {},
   "outputs": [],
   "source": [
    "gene_hashes = raw_protein_matrix.apply(\n",
    "    lambda gene: hash(gene.values.data.tobytes()),\n",
    "    axis=1\n",
    ")"
   ]
  },
  {
   "cell_type": "code",
   "execution_count": 19,
   "metadata": {},
   "outputs": [],
   "source": [
    "assert all(gene_hashes.duplicated() == raw_protein_matrix.duplicated())"
   ]
  },
  {
   "cell_type": "code",
   "execution_count": 20,
   "metadata": {},
   "outputs": [],
   "source": [
    "collapsed_genes = (\n",
    "    raw_protein_matrix\n",
    "    .rename_axis('gene')\n",
    "    .reset_index()\n",
    "    .groupby(gene_hashes.values)\n",
    "    .gene.transform(lambda x: ', '.join(list(x.astype('str'))))\n",
    ")"
   ]
  },
  {
   "cell_type": "code",
   "execution_count": 21,
   "metadata": {},
   "outputs": [],
   "source": [
    "raw_protein_matrix.index = collapsed_genes\n",
    "raw_protein_matrix = raw_protein_matrix.drop_duplicates()"
   ]
  },
  {
   "cell_type": "code",
   "execution_count": 22,
   "metadata": {},
   "outputs": [
    {
     "data": {
      "text/plain": [
       "(1271, 82)"
      ]
     },
     "execution_count": 22,
     "metadata": {},
     "output_type": "execute_result"
    }
   ],
   "source": [
    "raw_protein_matrix.shape"
   ]
  },
  {
   "cell_type": "markdown",
   "metadata": {},
   "source": [
    "Remember to strip the ensembl id off for the pathways analysis!"
   ]
  },
  {
   "cell_type": "code",
   "execution_count": 23,
   "metadata": {},
   "outputs": [],
   "source": [
    "clinical_union = clinical.loc[patients_union]"
   ]
  },
  {
   "cell_type": "code",
   "execution_count": 24,
   "metadata": {},
   "outputs": [
    {
     "data": {
      "text/plain": [
       "Tuberculosis       26\n",
       "Healthy control    25\n",
       "Cryptococcal       24\n",
       "Viral               7\n",
       "Name: Meningitis, dtype: int64"
      ]
     },
     "execution_count": 24,
     "metadata": {},
     "output_type": "execute_result"
    }
   ],
   "source": [
    "protein_conditions = clinical_union.loc[raw_protein_matrix.columns].Meningitis\n",
    "protein_conditions.value_counts()"
   ]
  },
  {
   "cell_type": "code",
   "execution_count": 25,
   "metadata": {},
   "outputs": [
    {
     "data": {
      "text/plain": [
       "Tuberculosis    28\n",
       "Cryptococcal    18\n",
       "Viral            8\n",
       "Bacterial        2\n",
       "Name: Meningitis, dtype: int64"
      ]
     },
     "execution_count": 25,
     "metadata": {},
     "output_type": "execute_result"
    }
   ],
   "source": [
    "rna_conditions = clinical_union.loc[raw_rna_matrix.columns].Meningitis\n",
    "rna_conditions.value_counts()"
   ]
  },
  {
   "cell_type": "markdown",
   "metadata": {},
   "source": [
    "Note: the group assignments are not used for the the normalization, but the quantities of the groups are used for the filtering step (the number of samples in the smallest group).\n",
    "\n",
    "As explained in [Differential_expression.ipynb notebook](/analyses/rnaseq_vs_clinical/Differential_expression.ipynb) (*Gene filtering* part), I mask the smallest group for RNA data (bacterial) as it is not used in analyses anyway."
   ]
  },
  {
   "cell_type": "code",
   "execution_count": 26,
   "metadata": {},
   "outputs": [],
   "source": [
    "rna_conditions_masked = rna_conditions.replace('Bacterial', 'Tuberculosis')"
   ]
  },
  {
   "cell_type": "code",
   "execution_count": 27,
   "metadata": {},
   "outputs": [],
   "source": [
    "%%R -i raw_protein_matrix -i raw_rna_matrix -i rna_matrix_isoforms_collapsed -i rna_conditions_masked -i protein_conditions\n",
    "import::here(normalize_abundance, .from='helpers/preprocessing.R')\n",
    "import::here(remove_leading_X, .from = 'helpers/utilities.R')\n",
    "import::here(normalize_abundance, choose_regions_above_the_mean, choose_all_regions, .from='helpers/preprocessing.R')\n",
    "\n",
    "\n",
    "colnames(raw_rna_matrix) = remove_leading_X(colnames(raw_rna_matrix))\n",
    "colnames(rna_matrix_isoforms_collapsed) = remove_leading_X(colnames(rna_matrix_isoforms_collapsed))\n",
    "colnames(raw_protein_matrix) = remove_leading_X(colnames(raw_protein_matrix))\n",
    "\n",
    "\n",
    "trend_correction_presets = list(\n",
    "    loess_local=list(\n",
    "        blind=F,\n",
    "        choose_regions_to_correct=choose_regions_above_the_mean\n",
    "    ),\n",
    "    loess_global=list(\n",
    "        choose_regions_to_correct=choose_all_regions,\n",
    "        blind=F\n",
    "    ),\n",
    "    loess_global_relative=list(\n",
    "        choose_regions_to_correct=choose_all_regions,\n",
    "        blind=F,\n",
    "        shirink_relative_to_diff=T\n",
    "    ),\n",
    "    non_blind=list(blind=T),\n",
    "    blind=list(blind=F)\n",
    ")\n",
    "\n",
    "\n",
    "#MARICES = list(\n",
    "#    rna=raw_rna_matrix,\n",
    "#    protein=raw_protein_matrix\n",
    "#)\n",
    "\n",
    "\n",
    "normalize = function(\n",
    "    what, subset=NULL, outliers='warn', collapse_rna_isoforms=FALSE,\n",
    "    trend_preset=NULL, conditions_vector=NULL, ...\n",
    ") {\n",
    "    if (what == 'both')\n",
    "        return(c(\n",
    "            normalize('rna', subset, outliers, collapse_rna_isoforms, trend_preset, ...),\n",
    "            normalize('protein', subset, outliers, collapse_rna_isoforms, trend_preset, ...)\n",
    "        ))\n",
    "\n",
    "    if (is.character(what)) {\n",
    "        matrix = switch(\n",
    "            what,\n",
    "            rna=(\n",
    "                if (collapse_rna_isoforms)\n",
    "                    rna_matrix_isoforms_collapsed\n",
    "                else\n",
    "                    raw_rna_matrix\n",
    "            ),\n",
    "            protein=raw_protein_matrix\n",
    "        )\n",
    "        conditions_vector = switch(\n",
    "            what,\n",
    "            rna=rna_conditions_masked,\n",
    "            protein=protein_conditions\n",
    "        )\n",
    "    } else {\n",
    "        print(paste0(\n",
    "            'Using provided matrix. For increased performance in cross validation, ',\n",
    "            'consider first copying the matrix into the R environment instead, and ',\n",
    "            'then passing its identifier along with the desired subsets of patients to be used.'\n",
    "        ))\n",
    "        if (collapse_rna_isoforms) {\n",
    "            stop('collapse_rna_isoforms not supported for custom matrices')\n",
    "        }\n",
    "        if (is.null(conditions_vector)) {\n",
    "            stop('conditions vector is required for custom matrices')\n",
    "        }\n",
    "        matrix = what\n",
    "        colnames(matrix) = remove_leading_X(colnames(matrix))\n",
    "    }\n",
    "\n",
    "    if (!is.null(outliers)) {\n",
    "        if (outliers == 'warn') {\n",
    "            print('Not removing any outliers')\n",
    "        }\n",
    "        else {\n",
    "            is_outlier = colnames(matrix) %in% outliers\n",
    "            print(paste('Removing', sum(is_outlier), 'outliers'))\n",
    "\n",
    "            matrix = matrix[, !is_outlier, drop=FALSE]\n",
    "            conditions_vector = conditions_vector[!is_outlier]\n",
    "        }\n",
    "    }\n",
    "    if (!is.null(subset)) {\n",
    "        matrix = matrix[, subset, drop=FALSE]\n",
    "        conditions_vector = conditions_vector[subset]\n",
    "    }\n",
    "\n",
    "    if (!is.null(trend_preset))\n",
    "        trend_args = trend_correction_presets[[trend_preset]]\n",
    "    else\n",
    "        trend_args = list()\n",
    "\n",
    "    normalize_abundance(matrix, conditions_vector, trend_args=trend_args, ...)\n",
    "}"
   ]
  },
  {
   "cell_type": "code",
   "execution_count": 28,
   "metadata": {},
   "outputs": [],
   "source": [
    "from helpers.r import r_function\n",
    "\n",
    "normalize = partial(r_function, 'normalize')"
   ]
  },
  {
   "cell_type": "code",
   "execution_count": 29,
   "metadata": {},
   "outputs": [
    {
     "name": "stdout",
     "output_type": "stream",
     "text": [
      "[1] \"Not removing any outliers\"\n",
      "[1] \"Retaining: 99.61%\"\n"
     ]
    }
   ],
   "source": [
    "%%skip_on_import\n",
    "_pa = normalize('protein', subset=intersect_cm_and_tmdr, normalization_method='TMM')"
   ]
  },
  {
   "cell_type": "markdown",
   "metadata": {},
   "source": [
    "### 1. Outliers"
   ]
  },
  {
   "cell_type": "markdown",
   "metadata": {},
   "source": [
    "Unsupervised analysis identified outliers in RNA data. I exclude those: "
   ]
  },
  {
   "cell_type": "code",
   "execution_count": 30,
   "metadata": {},
   "outputs": [],
   "source": [
    "RNA_OUTLIERS = [\n",
    "    '175.TMD', '074.TMS', '093.TMD', '128.TMD',\n",
    "    '158.TMD', '167.TMR', '233.CM'\n",
    "]"
   ]
  },
  {
   "cell_type": "code",
   "execution_count": 31,
   "metadata": {},
   "outputs": [
    {
     "name": "stdout",
     "output_type": "stream",
     "text": [
      "[1] \"Removing 7 outliers\"\n",
      "[1] \"Retaining: 34.65%\"\n"
     ]
    }
   ],
   "source": [
    "%%skip_on_import\n",
    "_ra = normalize(\n",
    "    'rna', subset=intersect_cm_and_tmdr, outliers=RNA_OUTLIERS,\n",
    "    normalization_method='TMM'\n",
    ")"
   ]
  },
  {
   "cell_type": "code",
   "execution_count": 32,
   "metadata": {},
   "outputs": [
    {
     "name": "stdout",
     "output_type": "stream",
     "text": [
      "[1] \"Removing 7 outliers\"\n",
      "[1] \"Retaining: 35.58%\"\n"
     ]
    }
   ],
   "source": [
    "%%skip_on_import\n",
    "_ra_collapsed_isoforms = normalize(\n",
    "    'rna', subset=intersect_cm_and_tmdr, outliers=RNA_OUTLIERS,\n",
    "    normalization_method='TMM', collapse_rna_isoforms=True\n",
    ")"
   ]
  },
  {
   "cell_type": "markdown",
   "metadata": {},
   "source": [
    "### 2, Additional filtering"
   ]
  },
  {
   "cell_type": "code",
   "execution_count": 33,
   "metadata": {},
   "outputs": [],
   "source": [
    "from machine_learning.preprocessing import LowCountsFilter, LowVarianceFilter, RSideNormalizer"
   ]
  },
  {
   "cell_type": "markdown",
   "metadata": {},
   "source": [
    "While pre-filtering is done in the normalize_abundance function in R (using edgeR's `edgeR::filterByExpr` function), this is done prior to normalization. This may not enough because:\n",
    "- prior to the normalization we can only remove the near zero-counts (for RNA-Seq) or very low intensities (for SOMAScan)as otherwise our thresholds would be affected by the library sizes for RNA data.\n",
    "- addition of median based filtering matches the workflow of SIMCA, which is the standard commercial tool for O2PLS\n",
    "\n",
    "I reject the variables with too many counts being equal to the median to be of practical interest, using threshold of 33.3% (SIMCA uses threshold of 2).\n",
    "\n",
    "I demonstrate the extend of the filtering below, using TMM-normalized data:"
   ]
  },
  {
   "cell_type": "code",
   "execution_count": 34,
   "metadata": {},
   "outputs": [],
   "source": [
    "filter_out_low_count = partial(LowCountsFilter().fit_transform, y=None)"
   ]
  },
  {
   "cell_type": "markdown",
   "metadata": {},
   "source": [
    "Low count (or \"often not too different from median\") does not filter out anything:"
   ]
  },
  {
   "cell_type": "code",
   "execution_count": 35,
   "metadata": {},
   "outputs": [
    {
     "name": "stdout",
     "output_type": "stream",
     "text": [
      "LowCountsFilter: filtering out 0 out of 0 variables requested to be filtered out (total variables=25)\n"
     ]
    }
   ],
   "source": [
    "%%skip_on_import\n",
    "_raf_isoforms = filter_out_low_count(_ra_collapsed_isoforms)"
   ]
  },
  {
   "cell_type": "code",
   "execution_count": 36,
   "metadata": {},
   "outputs": [
    {
     "name": "stdout",
     "output_type": "stream",
     "text": [
      "LowCountsFilter: filtering out 0 out of 0 variables requested to be filtered out (total variables=25)\n"
     ]
    }
   ],
   "source": [
    "%%skip_on_import\n",
    "_raf = filter_out_low_count(_ra)"
   ]
  },
  {
   "cell_type": "markdown",
   "metadata": {},
   "source": [
    "Proteins were measured by microarrays, thus identical values will be rare:"
   ]
  },
  {
   "cell_type": "code",
   "execution_count": 37,
   "metadata": {},
   "outputs": [
    {
     "name": "stdout",
     "output_type": "stream",
     "text": [
      "LowCountsFilter: filtering out 0 out of 0 variables requested to be filtered out (total variables=25)\n"
     ]
    }
   ],
   "source": [
    "%%skip_on_import\n",
    "_paf = filter_out_low_count(_pa)"
   ]
  },
  {
   "cell_type": "markdown",
   "metadata": {},
   "source": [
    "Therefore, I additionally filter out the observations with very low variance (below 0.1 percentile):"
   ]
  },
  {
   "cell_type": "code",
   "execution_count": 38,
   "metadata": {},
   "outputs": [],
   "source": [
    "filter_out_very_low_variance = partial(LowVarianceFilter().fit_transform, y=None)"
   ]
  },
  {
   "cell_type": "code",
   "execution_count": 39,
   "metadata": {},
   "outputs": [
    {
     "name": "stdout",
     "output_type": "stream",
     "text": [
      "LowVarianceFilter: filtering out 1 out of 1 variables requested to be filtered out (total variables=25)\n"
     ]
    }
   ],
   "source": [
    "%%skip_on_import\n",
    "_raf = filter_out_very_low_variance(_raf)"
   ]
  },
  {
   "cell_type": "code",
   "execution_count": 40,
   "metadata": {},
   "outputs": [
    {
     "name": "stdout",
     "output_type": "stream",
     "text": [
      "LowVarianceFilter: filtering out 1 out of 1 variables requested to be filtered out (total variables=25)\n"
     ]
    }
   ],
   "source": [
    "%%skip_on_import\n",
    "_paf = filter_out_very_low_variance(_paf)"
   ]
  },
  {
   "cell_type": "code",
   "execution_count": 41,
   "metadata": {},
   "outputs": [],
   "source": [
    "%%skip_on_import\n",
    "common_genes = list(_raf_isoforms.index.intersection(_paf.index))"
   ]
  },
  {
   "cell_type": "code",
   "execution_count": 42,
   "metadata": {},
   "outputs": [],
   "source": [
    "%%skip_on_import\n",
    "len(common_genes)"
   ]
  },
  {
   "cell_type": "markdown",
   "metadata": {},
   "source": [
    "### 3. Preprocessing pipeline"
   ]
  },
  {
   "cell_type": "code",
   "execution_count": 43,
   "metadata": {},
   "outputs": [],
   "source": [
    "from sklearn.pipeline import make_pipeline\n",
    "from sklearn.preprocessing import StandardScaler\n",
    "from rpy2.robjects import NULL as Null\n",
    "\n",
    "from machine_learning.utilities import df_keeping\n",
    "from machine_learning.preprocessing import OutliersFilter, PreFilterLowestExpresion\n",
    "%R import::here(filter_out_low_expression_by_n, .from='helpers/preprocessing.R')\n",
    "filter_out_low_expression_by_n = partial(r_function, 'filter_out_low_expression_by_n')\n",
    "\n",
    "\n",
    "OMICS = {\n",
    "    'rna': raw_rna_matrix,\n",
    "    'protein': raw_protein_matrix\n",
    "}\n",
    "\n",
    "\n",
    "def preprocess(\n",
    "    omic, smallest_group_n, outliers,\n",
    "    subset=None, verbose=False, omics=OMICS,\n",
    "    normalization_method='TMM', log=True, **kwargs\n",
    "):\n",
    "\n",
    "    if isinstance(omic, DataFrame):\n",
    "        omic_data = omic\n",
    "    else:\n",
    "        omic_data = omics[omic]\n",
    "\n",
    "    if subset is not None:\n",
    "        omic_data = omic_data.loc[:, subset]\n",
    "\n",
    "    return make_pipeline(\n",
    "        OutliersFilter(outlier_patients=outliers, verbose=verbose),\n",
    "        PreFilterLowestExpresion(\n",
    "            func=filter_out_low_expression_by_n,\n",
    "            data=omic_data,\n",
    "            smallest_group_n=smallest_group_n,\n",
    "            verbose=verbose\n",
    "        ),\n",
    "        RSideNormalizer(\n",
    "            normalize,\n",
    "            omic, normalization_method=normalization_method, log=log, filter=False,\n",
    "            # including other experimental groups to enhance correction for the errors of instruments\n",
    "            # thus subseting is not done in this variant\n",
    "            # subset=subset,\n",
    "            # outliers were remove prior to this pipeline execution to avert\n",
    "            # the need of adjusting train/test split due to patients exclusion\n",
    "            outliers=Null, **kwargs\n",
    "        ),\n",
    "        LowCountsFilter(verbose=verbose),\n",
    "        LowVarianceFilter(verbose=verbose),\n",
    "        df_keeping(StandardScaler)()\n",
    "    )\n",
    "\n",
    "\n",
    "def two_blocks_with_supervision(data_block: DataFrame, conditions_vector: Series):\n",
    "    conditions = list(conditions_vector)\n",
    "    conditions = Series(conditions, index=conditions)\n",
    "    return [data_block, conditions.loc[data_block.index]]\n",
    "\n",
    "\n",
    "def subset(omic, subset, outliers=None):\n",
    "    df = omic[omic.columns.intersection(subset)].T\n",
    "    if outliers is not None:\n",
    "        of = OutliersFilter(outlier_patients=outliers, verbose=True)\n",
    "        df = of.fit_transform(df)\n",
    "    return df"
   ]
  },
  {
   "cell_type": "markdown",
   "metadata": {},
   "source": [
    "### Uniform train-test split"
   ]
  },
  {
   "cell_type": "code",
   "execution_count": 44,
   "metadata": {},
   "outputs": [],
   "source": [
    "patients_with_single_omic = Series(\n",
    "    list(patients_union.difference(patients_with_both))\n",
    ")"
   ]
  },
  {
   "cell_type": "code",
   "execution_count": 45,
   "metadata": {},
   "outputs": [],
   "source": [
    "cm_and_tmdr_validation = patients_with_single_omic[\n",
    "    patients_with_single_omic.str.contains('TMR|TMD|CM')\n",
    "]"
   ]
  },
  {
   "cell_type": "code",
   "execution_count": 46,
   "metadata": {},
   "outputs": [],
   "source": [
    "tms_validation = pd.concat([\n",
    "    patients_union_series[patients_union_series.str.contains('TMS')],\n",
    "    patients_with_single_omic[patients_with_single_omic.str.contains('CM')]\n",
    "])"
   ]
  }
 ],
 "metadata": {
  "kernelspec": {
   "display_name": "Python 3",
   "language": "python",
   "name": "python3"
  },
  "language_info": {
   "codemirror_mode": {
    "name": "ipython",
    "version": 3
   },
   "file_extension": ".py",
   "mimetype": "text/x-python",
   "name": "python",
   "nbconvert_exporter": "python",
   "pygments_lexer": "ipython3",
   "version": "3.7.2"
  },
  "widgets": {
   "application/vnd.jupyter.widget-state+json": {
    "state": {},
    "version_major": 2,
    "version_minor": 0
   }
  }
 },
 "nbformat": 4,
 "nbformat_minor": 4
}
