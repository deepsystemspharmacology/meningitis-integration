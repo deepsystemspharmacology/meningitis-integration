{
 "cells": [
  {
   "cell_type": "code",
   "execution_count": 1,
   "metadata": {},
   "outputs": [],
   "source": [
    "from helpers.utilities import *\n",
    "%run helpers/notebook_setup.ipynb"
   ]
  },
  {
   "cell_type": "code",
   "execution_count": 2,
   "metadata": {},
   "outputs": [],
   "source": [
    "%R source('plots/colors.R');"
   ]
  },
  {
   "cell_type": "markdown",
   "metadata": {},
   "source": [
    "Inputs:"
   ]
  },
  {
   "cell_type": "code",
   "execution_count": 3,
   "metadata": {
    "tags": [
     "inputs"
    ]
   },
   "outputs": [],
   "source": [
    "__inputs__ = create_paths(\n",
    "    path='data/integration/',\n",
    "    csv=[\n",
    "        'rna', 'rna_shared', 'protein', 'protein_shared',\n",
    "        'patients_with_both', 'genes_in_both'\n",
    "    ]\n",
    ")\n",
    "clinical_path = 'data/clean/clinical/data_with_derived_variables.csv'"
   ]
  },
  {
   "cell_type": "markdown",
   "metadata": {},
   "source": [
    "Outputs:"
   ]
  },
  {
   "cell_type": "code",
   "execution_count": 4,
   "metadata": {},
   "outputs": [],
   "source": [
    "correlations_path = 'data/integration/' + 'correlations.csv'\n",
    "differential_correlations_path = 'data/integration/' + 'differential_correlations.csv'"
   ]
  },
  {
   "cell_type": "markdown",
   "metadata": {},
   "source": [
    "Load inputs:"
   ]
  },
  {
   "cell_type": "code",
   "execution_count": 5,
   "metadata": {},
   "outputs": [],
   "source": [
    "load_inputs(\n",
    "    globals(), silent=True,\n",
    "    loaders={'patients_with_both': Series.from_csv, 'genes_in_both': Series.from_csv},\n",
    ")"
   ]
  },
  {
   "cell_type": "code",
   "execution_count": 6,
   "metadata": {},
   "outputs": [],
   "source": [
    "patients_union = list(rna.columns | protein.columns) \n",
    "clinical = read_csv(clinical_path, index_col=0).loc[patients_union]\n",
    "from plots.annotations import generate_patient_annotations\n",
    "patient_annotations = generate_patient_annotations(clinical)"
   ]
  },
  {
   "cell_type": "markdown",
   "metadata": {},
   "source": [
    "### 1. Small but noticeable fraction of measurements is missing RNA-seq counts"
   ]
  },
  {
   "cell_type": "code",
   "execution_count": 7,
   "metadata": {},
   "outputs": [
    {
     "data": {
      "text/html": [
       "<div>\n",
       "<style scoped>\n",
       "    .dataframe tbody tr th:only-of-type {\n",
       "        vertical-align: middle;\n",
       "    }\n",
       "\n",
       "    .dataframe tbody tr th {\n",
       "        vertical-align: top;\n",
       "    }\n",
       "\n",
       "    .dataframe thead th {\n",
       "        text-align: right;\n",
       "    }\n",
       "</style>\n",
       "<table border=\"1\" class=\"dataframe\">\n",
       "  <thead>\n",
       "    <tr style=\"text-align: right;\">\n",
       "      <th></th>\n",
       "      <th>index</th>\n",
       "      <th>variable</th>\n",
       "      <th>value</th>\n",
       "      <th>omic</th>\n",
       "      <th>Meningitis</th>\n",
       "    </tr>\n",
       "  </thead>\n",
       "  <tbody>\n",
       "    <tr>\n",
       "      <th>0</th>\n",
       "      <td>FGR</td>\n",
       "      <td>001.TMD</td>\n",
       "      <td>6.941349</td>\n",
       "      <td>RNA</td>\n",
       "      <td>Tuberculosis</td>\n",
       "    </tr>\n",
       "    <tr>\n",
       "      <th>1</th>\n",
       "      <td>CFH</td>\n",
       "      <td>001.TMD</td>\n",
       "      <td>-1.189430</td>\n",
       "      <td>RNA</td>\n",
       "      <td>Tuberculosis</td>\n",
       "    </tr>\n",
       "  </tbody>\n",
       "</table>\n",
       "</div>"
      ],
      "text/plain": [
       "  index variable     value omic    Meningitis\n",
       "0   FGR  001.TMD  6.941349  RNA  Tuberculosis\n",
       "1   CFH  001.TMD -1.189430  RNA  Tuberculosis"
      ]
     },
     "execution_count": 7,
     "metadata": {},
     "output_type": "execute_result"
    }
   ],
   "source": [
    "values = pd.concat([\n",
    "    rna_shared.reset_index().melt(id_vars='index').assign(omic='RNA'),\n",
    "    protein_shared.reset_index().melt(id_vars='index').assign(omic='Protein')\n",
    "])\n",
    "values['Meningitis'] = values.variable.map(clinical.Meningitis)\n",
    "values.head(2)"
   ]
  },
  {
   "cell_type": "code",
   "execution_count": 8,
   "metadata": {},
   "outputs": [
    {
     "data": {
      "image/png": "[encoded data removed]"
     },
     "metadata": {},
     "output_type": "display_data"
    }
   ],
   "source": [
    "%%R -w 800 -i values\n",
    "(\n",
    "    ggplot(values, aes(x=value, fill=Meningitis))\n",
    "    + facet_grid('omic ~ Meningitis')\n",
    "    + geom_histogram()\n",
    "    + scale_fill_manual(values=patient_colors$Meningitis)\n",
    "    + nice_theme\n",
    ")"
   ]
  },
  {
   "cell_type": "markdown",
   "metadata": {},
   "source": [
    "RNA-seq data has clearly many proteins that were not registered for this subset of patients (but not necessarily for all patients - in such case those should have been filtered).\n",
    "The values appear negative due to the log transformation:"
   ]
  },
  {
   "cell_type": "code",
   "execution_count": 9,
   "metadata": {},
   "outputs": [],
   "source": [
    "from math import log2"
   ]
  },
  {
   "cell_type": "code",
   "execution_count": 10,
   "metadata": {},
   "outputs": [
    {
     "data": {
      "text/plain": [
       "(-2.0, 0.32192809488736235)"
      ]
     },
     "execution_count": 10,
     "metadata": {},
     "output_type": "execute_result"
    }
   ],
   "source": [
    "damping_factor = 0.25\n",
    "log2(0 + damping_factor), log2(1 + damping_factor)"
   ]
  },
  {
   "cell_type": "markdown",
   "metadata": {},
   "source": [
    "And it's about 15% of all RNA values:"
   ]
  },
  {
   "cell_type": "code",
   "execution_count": 11,
   "metadata": {},
   "outputs": [
    {
     "data": {
      "text/plain": [
       "0.15048694112439132"
      ]
     },
     "execution_count": 11,
     "metadata": {},
     "output_type": "execute_result"
    }
   ],
   "source": [
    "values['is_low_count'] = values.value < 0\n",
    "rna_values = values.query('omic == \"RNA\"')\n",
    "len(rna_values.query('is_low_count')) / len(rna_values)"
   ]
  },
  {
   "cell_type": "code",
   "execution_count": 12,
   "metadata": {},
   "outputs": [],
   "source": [
    "def summarize_low_counts(values):\n",
    "    return (\n",
    "        values.groupby(['Meningitis', 'index']).is_low_count.mean().sort_values(ascending=False)\n",
    "        .to_frame('ratio').reset_index()\n",
    "    )"
   ]
  },
  {
   "cell_type": "code",
   "execution_count": 13,
   "metadata": {},
   "outputs": [],
   "source": [
    "rna_low_ratio = summarize_low_counts(rna_values)"
   ]
  },
  {
   "cell_type": "markdown",
   "metadata": {},
   "source": [
    "There are a few proteins with no (VIP in viral) or almost no counts across all patients in subgroups:"
   ]
  },
  {
   "cell_type": "code",
   "execution_count": 14,
   "metadata": {},
   "outputs": [
    {
     "data": {
      "image/png": "[encoded data removed]"
     },
     "metadata": {},
     "output_type": "display_data"
    }
   ],
   "source": [
    "%%R -i rna_low_ratio -h 300\n",
    "top = rna_low_ratio[rna_low_ratio$ratio >= 0.9,]\n",
    "(\n",
    "    ggplot(rna_low_ratio, aes(x=Meningitis, y=ratio, color=Meningitis))\n",
    "    + geom_boxplot() + color_meningitis + nice_theme\n",
    "    + ggrepel::geom_label_repel(aes(label=index), data=top, nudge_x=c(-0.2,0.2), direction='y')\n",
    ")"
   ]
  },
  {
   "cell_type": "markdown",
   "metadata": {},
   "source": [
    "- VIP - signalling: IL-6, GPCR, Gα.\n",
    "- IL36α - interleukin 36, inflammatory response, NF-kappa-B and MAPK signaling pathways; thought to be an important factor in counteracting microbial and viral immune evasion [(Jensen LE, 2017)](https://www.ncbi.nlm.nih.gov/pubmed/28811383)\n",
    "- INS - insulin\n",
    "- PRSS3 (Trypsin-3) - immune system, neutrophil degranulation, antimicrobial peptides"
   ]
  },
  {
   "cell_type": "markdown",
   "metadata": {},
   "source": [
    "With even more genes having transcripts completely undetected in the \"definite\" subgroup of tuberculosis:"
   ]
  },
  {
   "cell_type": "code",
   "execution_count": 15,
   "metadata": {},
   "outputs": [
    {
     "data": {
      "text/html": [
       "<div>\n",
       "<style scoped>\n",
       "    .dataframe tbody tr th:only-of-type {\n",
       "        vertical-align: middle;\n",
       "    }\n",
       "\n",
       "    .dataframe tbody tr th {\n",
       "        vertical-align: top;\n",
       "    }\n",
       "\n",
       "    .dataframe thead th {\n",
       "        text-align: right;\n",
       "    }\n",
       "</style>\n",
       "<table border=\"1\" class=\"dataframe\">\n",
       "  <thead>\n",
       "    <tr style=\"text-align: right;\">\n",
       "      <th></th>\n",
       "      <th>Meningitis</th>\n",
       "      <th>index</th>\n",
       "      <th>ratio</th>\n",
       "    </tr>\n",
       "  </thead>\n",
       "  <tbody>\n",
       "    <tr>\n",
       "      <th>0</th>\n",
       "      <td>Tuberculosis</td>\n",
       "      <td>C8A</td>\n",
       "      <td>1.0</td>\n",
       "    </tr>\n",
       "    <tr>\n",
       "      <th>1</th>\n",
       "      <td>Tuberculosis</td>\n",
       "      <td>PRSS3</td>\n",
       "      <td>1.0</td>\n",
       "    </tr>\n",
       "    <tr>\n",
       "      <th>2</th>\n",
       "      <td>Tuberculosis</td>\n",
       "      <td>FGB</td>\n",
       "      <td>1.0</td>\n",
       "    </tr>\n",
       "    <tr>\n",
       "      <th>3</th>\n",
       "      <td>Tuberculosis</td>\n",
       "      <td>IL20</td>\n",
       "      <td>1.0</td>\n",
       "    </tr>\n",
       "    <tr>\n",
       "      <th>4</th>\n",
       "      <td>Tuberculosis</td>\n",
       "      <td>DKKL1</td>\n",
       "      <td>1.0</td>\n",
       "    </tr>\n",
       "    <tr>\n",
       "      <th>5</th>\n",
       "      <td>Tuberculosis</td>\n",
       "      <td>IGFBP6</td>\n",
       "      <td>1.0</td>\n",
       "    </tr>\n",
       "    <tr>\n",
       "      <th>6</th>\n",
       "      <td>Tuberculosis</td>\n",
       "      <td>HIST1H3D</td>\n",
       "      <td>1.0</td>\n",
       "    </tr>\n",
       "  </tbody>\n",
       "</table>\n",
       "</div>"
      ],
      "text/plain": [
       "     Meningitis     index  ratio\n",
       "0  Tuberculosis       C8A    1.0\n",
       "1  Tuberculosis     PRSS3    1.0\n",
       "2  Tuberculosis       FGB    1.0\n",
       "3  Tuberculosis      IL20    1.0\n",
       "4  Tuberculosis     DKKL1    1.0\n",
       "5  Tuberculosis    IGFBP6    1.0\n",
       "6  Tuberculosis  HIST1H3D    1.0"
      ]
     },
     "execution_count": 15,
     "metadata": {},
     "output_type": "execute_result"
    }
   ],
   "source": [
    "tmd_rna_low_ratio = summarize_low_counts(rna_values[rna_values.variable.str.endswith('TMD')])\n",
    "rna_absent_in_tmd = tmd_rna_low_ratio[tmd_rna_low_ratio.ratio == 1]\n",
    "rna_absent_in_tmd"
   ]
  },
  {
   "cell_type": "markdown",
   "metadata": {},
   "source": [
    "- C8A - bacteria killer\n",
    "- PRSS3 (Trypsin-3) - [as above] immune system, neutrophil degranulation, antimicrobial peptides\n",
    "- FGB - blood clotting, signaling cascades, platelets, a lot of signaling + VEGFA-VEGFR2\n",
    "- IL20 - an interleukin \n",
    "- DKKL1 - negative regulator of Wnt signaling (dickkopf-like protein)\n",
    "- IGFBP6 - potential biomarker for TB in HIV+ see https://www.ncbi.nlm.nih.gov/pmc/articles/PMC4588417/\n",
    "- HIST1H3D  - \"HIV-1 Tat peptides bind core histones H2A, H2B, H3 and H4, and Tat protein recruits histone acetyltransferases to the HIV-1 LTR promoter leading to acetylation of histones H3 and H4, derepressing chromatin structure and increasing NFkappaB responsiveness\""
   ]
  },
  {
   "cell_type": "markdown",
   "metadata": {},
   "source": [
    "On IGFBP6:\n",
    "  > \"The remaining two proteins in the HIV+ panel, IGFBP6 and TAGLN2 have unknown roles in infectious diseases. Of note, ligands of IGFBP6 are reduced in sera and pleural fluids of subjects with tuberculous and non-tuberculous pleuritis (Le Bouc et al., 1997).\"\n",
    " >\n",
    " > ![](https://www.ncbi.nlm.nih.gov/pmc/articles/PMC4588417/bin/gr3.jpg)\n",
    " >\n",
    " > Fig 3: Differential expression in sera, fold change. ORD = Other respiratory diseases, NI = not infected, LI = latent TB infection, TB = TB infection\n",
    "\n",
    "From the fig 3 (above) I gather that this is is low against controls (especially in HIV+), and slightly higher against other respiratory diseases (but still not very high)."
   ]
  },
  {
   "cell_type": "markdown",
   "metadata": {},
   "source": [
    "**TODO** Come to think of it: is the default mean expression filter of DESeq2 wise enough to NOT reject such (completely undetected in one group) cases? Maybe not: fold change in any method would be NaN or zero (but for the damping factor influence, thus more likely +/-∞)! Usually such cases are rare, though such proteins would be perfect biomarkers!"
   ]
  },
  {
   "cell_type": "code",
   "execution_count": 16,
   "metadata": {},
   "outputs": [],
   "source": [
    "healthy_controls = protein.columns[protein.columns.str.endswith('HC')]\n",
    "protein_hc = protein.loc[genes_in_both][healthy_controls].reset_index().melt(id_vars='index').assign(omic='Protein', is_low_count=F)"
   ]
  },
  {
   "cell_type": "code",
   "execution_count": 17,
   "metadata": {},
   "outputs": [],
   "source": [
    "# actually, I could add the patients which are outside of the shared subset here\n",
    "values_with_hc = pd.concat([values, protein_hc])\n",
    "values_with_hc['Meningitis'] = values_with_hc.variable.map(clinical.Meningitis)\n",
    "\n",
    "absent_tmd = values_with_hc.set_index('index').loc[rna_absent_in_tmd['index']].reset_index()"
   ]
  },
  {
   "cell_type": "code",
   "execution_count": 18,
   "metadata": {},
   "outputs": [
    {
     "data": {
      "image/png": "[encoded data removed]"
     },
     "metadata": {},
     "output_type": "display_data"
    }
   ],
   "source": [
    "%%R -i absent_tmd -w 900 -h 350\n",
    "(\n",
    "    ggplot(absent_tmd, aes(x=Meningitis, y=value, color=Meningitis))\n",
    "    + geom_boxplot(notch=T) + facet_grid('omic ~ index', scale='free_y')\n",
    "    + nice_theme + color_meningitis\n",
    "    + theme(axis.text.x=element_text(angle=45, hjust=1))\n",
    ")"
   ]
  },
  {
   "cell_type": "markdown",
   "metadata": {},
   "source": [
    "None of them seem to be differential (for our groups of interest) but there must be a story to be told on IGFBP6 (why is it high in SOMAScan?)."
   ]
  },
  {
   "cell_type": "markdown",
   "metadata": {},
   "source": [
    "### 2. The RNA and protein profiles are correlated, but not highly"
   ]
  },
  {
   "cell_type": "markdown",
   "metadata": {},
   "source": [
    "Overall the \"naive\" correlation (Spearman) between the patient RNA and protein profiles are low:"
   ]
  },
  {
   "cell_type": "code",
   "execution_count": 19,
   "metadata": {},
   "outputs": [],
   "source": [
    "from scipy.stats import spearmanr"
   ]
  },
  {
   "cell_type": "code",
   "execution_count": 20,
   "metadata": {},
   "outputs": [],
   "source": [
    "profile_correlations = DataFrame([\n",
    "    {\n",
    "        'patient': patient,\n",
    "        'correlation': spearmanr(protein_shared[patient], rna_shared[patient]).correlation,\n",
    "        'Meningitis': clinical.loc[patient].Meningitis\n",
    "    }\n",
    "    for patient in patients_with_both\n",
    "]).set_index('patient')"
   ]
  },
  {
   "cell_type": "code",
   "execution_count": 21,
   "metadata": {},
   "outputs": [
    {
     "data": {
      "text/plain": [
       "0.11118337072352547"
      ]
     },
     "execution_count": 21,
     "metadata": {},
     "output_type": "execute_result"
    }
   ],
   "source": [
    "profile_correlations.correlation.mean()"
   ]
  },
  {
   "cell_type": "code",
   "execution_count": 22,
   "metadata": {},
   "outputs": [],
   "source": [
    "assert profile_correlations.correlation.mean() == profile_correlations.correlation.abs().mean()"
   ]
  },
  {
   "cell_type": "markdown",
   "metadata": {},
   "source": [
    "And always positvie:"
   ]
  },
  {
   "cell_type": "code",
   "execution_count": 23,
   "metadata": {},
   "outputs": [],
   "source": [
    "assert (profile_correlations.correlation > 0).all()"
   ]
  },
  {
   "cell_type": "code",
   "execution_count": 24,
   "metadata": {},
   "outputs": [
    {
     "data": {
      "image/png": "[encoded data removed]"
     },
     "metadata": {},
     "output_type": "display_data"
    }
   ],
   "source": [
    "%%R -i profile_correlations -h 300\n",
    "(\n",
    "    ggplot(profile_correlations, aes(x=Meningitis, y=correlation, color=Meningitis))\n",
    "    + geom_boxplot(notch=T) + geom_point()\n",
    "    + color_meningitis\n",
    ")"
   ]
  },
  {
   "cell_type": "markdown",
   "metadata": {},
   "source": [
    "**The correlations for viral meningitis are lower than those for Crypto and TB.**"
   ]
  },
  {
   "cell_type": "markdown",
   "metadata": {},
   "source": [
    "Note: the distinction betwen (2, above) and (3, below) is similar to \"ecological\"/\"aggregate\" vs \"individuals\" correlations problem. Above I averaged correlations for each gene, while below I consider them independently."
   ]
  },
  {
   "cell_type": "markdown",
   "metadata": {},
   "source": [
    "### 3. Correlations for gene-protein pairs are slightly higher\n",
    "(with RNASeq-SOMAScan pairs having low RNASeq skipped)"
   ]
  },
  {
   "cell_type": "markdown",
   "metadata": {},
   "source": [
    "If we were to look at the RNA/protein correlations across the samples, we see the absolute mean correlation to be even higher:"
   ]
  },
  {
   "cell_type": "code",
   "execution_count": 25,
   "metadata": {},
   "outputs": [],
   "source": [
    "def calc_correlations(rna, protein, method=spearmanr, filter_low_rna_seq=True):\n",
    "    cor_list = []\n",
    "    \n",
    "    for gene in genes_in_both:\n",
    "        \n",
    "        r = rna.loc[gene]\n",
    "        p = protein.loc[gene]\n",
    "        \n",
    "        if filter_low_rna_seq:\n",
    "            # filter out samples (patients) with too few RNA-seq reads for this protein/gene (see above)\n",
    "            patients_with_enough_rna = r[r > 0].index\n",
    "            p = p[patients_with_enough_rna]\n",
    "            r = r[patients_with_enough_rna]\n",
    "        \n",
    "        cor = method(r, p)\n",
    "        \n",
    "        cor_list.append({\n",
    "            'gene': gene,\n",
    "            'rna_abundance': mean(r),\n",
    "            'protein_abundance': mean(p),\n",
    "            'mean_abundance': mean(r + p),\n",
    "            'cross_abundance': mean(r) * mean(p),\n",
    "            'correlation': cor[0],\n",
    "            'pvalue': cor[1],\n",
    "            'n': len(patients_with_enough_rna)\n",
    "        })\n",
    "    return DataFrame(cor_list).set_index('gene')"
   ]
  },
  {
   "cell_type": "code",
   "execution_count": 26,
   "metadata": {},
   "outputs": [
    {
     "data": {
      "text/plain": [
       "0.17292477460678934"
      ]
     },
     "execution_count": 26,
     "metadata": {},
     "output_type": "execute_result"
    }
   ],
   "source": [
    "correlations = calc_correlations(rna_shared, protein_shared)\n",
    "correlations.correlation.abs().mean()"
   ]
  },
  {
   "cell_type": "markdown",
   "metadata": {},
   "source": [
    "For example the most negatively correlated pairs are:"
   ]
  },
  {
   "cell_type": "code",
   "execution_count": 27,
   "metadata": {},
   "outputs": [
    {
     "data": {
      "text/html": [
       "<div>\n",
       "<style scoped>\n",
       "    .dataframe tbody tr th:only-of-type {\n",
       "        vertical-align: middle;\n",
       "    }\n",
       "\n",
       "    .dataframe tbody tr th {\n",
       "        vertical-align: top;\n",
       "    }\n",
       "\n",
       "    .dataframe thead th {\n",
       "        text-align: right;\n",
       "    }\n",
       "</style>\n",
       "<table border=\"1\" class=\"dataframe\">\n",
       "  <thead>\n",
       "    <tr style=\"text-align: right;\">\n",
       "      <th></th>\n",
       "      <th>correlation</th>\n",
       "      <th>cross_abundance</th>\n",
       "      <th>mean_abundance</th>\n",
       "      <th>n</th>\n",
       "      <th>protein_abundance</th>\n",
       "      <th>pvalue</th>\n",
       "      <th>rna_abundance</th>\n",
       "    </tr>\n",
       "    <tr>\n",
       "      <th>gene</th>\n",
       "      <th></th>\n",
       "      <th></th>\n",
       "      <th></th>\n",
       "      <th></th>\n",
       "      <th></th>\n",
       "      <th></th>\n",
       "      <th></th>\n",
       "    </tr>\n",
       "  </thead>\n",
       "  <tbody>\n",
       "    <tr>\n",
       "      <th>HIST1H3D</th>\n",
       "      <td>-0.966667</td>\n",
       "      <td>8.044816</td>\n",
       "      <td>6.210554</td>\n",
       "      <td>9</td>\n",
       "      <td>4.369369</td>\n",
       "      <td>0.000022</td>\n",
       "      <td>1.841185</td>\n",
       "    </tr>\n",
       "    <tr>\n",
       "      <th>IL17A</th>\n",
       "      <td>-0.779412</td>\n",
       "      <td>1.922482</td>\n",
       "      <td>2.781474</td>\n",
       "      <td>16</td>\n",
       "      <td>1.282721</td>\n",
       "      <td>0.000372</td>\n",
       "      <td>1.498752</td>\n",
       "    </tr>\n",
       "    <tr>\n",
       "      <th>PRSS3</th>\n",
       "      <td>-0.745455</td>\n",
       "      <td>0.885991</td>\n",
       "      <td>1.977648</td>\n",
       "      <td>11</td>\n",
       "      <td>0.685869</td>\n",
       "      <td>0.008455</td>\n",
       "      <td>1.291778</td>\n",
       "    </tr>\n",
       "    <tr>\n",
       "      <th>IL36A</th>\n",
       "      <td>-0.650000</td>\n",
       "      <td>5.735279</td>\n",
       "      <td>5.287937</td>\n",
       "      <td>9</td>\n",
       "      <td>3.764366</td>\n",
       "      <td>0.058073</td>\n",
       "      <td>1.523571</td>\n",
       "    </tr>\n",
       "    <tr>\n",
       "      <th>CA1</th>\n",
       "      <td>-0.644269</td>\n",
       "      <td>7.303764</td>\n",
       "      <td>5.855095</td>\n",
       "      <td>23</td>\n",
       "      <td>4.053057</td>\n",
       "      <td>0.000907</td>\n",
       "      <td>1.802038</td>\n",
       "    </tr>\n",
       "  </tbody>\n",
       "</table>\n",
       "</div>"
      ],
      "text/plain": [
       "          correlation  cross_abundance  mean_abundance   n  protein_abundance  \\\n",
       "gene                                                                            \n",
       "HIST1H3D    -0.966667         8.044816        6.210554   9           4.369369   \n",
       "IL17A       -0.779412         1.922482        2.781474  16           1.282721   \n",
       "PRSS3       -0.745455         0.885991        1.977648  11           0.685869   \n",
       "IL36A       -0.650000         5.735279        5.287937   9           3.764366   \n",
       "CA1         -0.644269         7.303764        5.855095  23           4.053057   \n",
       "\n",
       "            pvalue  rna_abundance  \n",
       "gene                               \n",
       "HIST1H3D  0.000022       1.841185  \n",
       "IL17A     0.000372       1.498752  \n",
       "PRSS3     0.008455       1.291778  \n",
       "IL36A     0.058073       1.523571  \n",
       "CA1       0.000907       1.802038  "
      ]
     },
     "execution_count": 27,
     "metadata": {},
     "output_type": "execute_result"
    }
   ],
   "source": [
    "correlations.sort_values('correlation').head()"
   ]
  },
  {
   "cell_type": "markdown",
   "metadata": {},
   "source": [
    "$$\\text{cross_abundance} = \\text{protein_abundance} \\times \\text{mean_abundance}$$"
   ]
  },
  {
   "cell_type": "markdown",
   "metadata": {},
   "source": [
    "Looking for biomarkers we are mostly interested in effects:\n",
    " - supported consistently by larger number of observations\n",
    " - for more abundant proteins and transcripts"
   ]
  },
  {
   "cell_type": "markdown",
   "metadata": {},
   "source": [
    "Use of P-value can address the first issue and filtering will resolve the second - I will adjust FDR filtering low abundance pairs with genefilter package:"
   ]
  },
  {
   "cell_type": "code",
   "execution_count": 28,
   "metadata": {},
   "outputs": [],
   "source": [
    "%%R\n",
    "import::here(filter_by_mean_expression, .from='helpers/independent_hypothesis.R')\n",
    "\n",
    "add_filtered_fdr = function(correlations, expression_col, alpha=0.1) {\n",
    "    correlations$FDR = filter_by_mean_expression(\n",
    "        correlations, alpha, expression_col=expression_col, pvalue_col='pvalue', show_plot=F,\n",
    "        use_deseq2_method=F\n",
    "    )\n",
    "    f = sum(sapply(correlations$FDR, is.na))\n",
    "    p = sum(sapply(correlations$pvalue, is.na))\n",
    "    print(paste('Filtered:', f - p))\n",
    "    correlations\n",
    "}"
   ]
  },
  {
   "cell_type": "code",
   "execution_count": 29,
   "metadata": {},
   "outputs": [],
   "source": [
    "from helpers.r import r_function"
   ]
  },
  {
   "cell_type": "code",
   "execution_count": 30,
   "metadata": {},
   "outputs": [],
   "source": [
    "add_filtered_fdr = partial(r_function, 'add_filtered_fdr')"
   ]
  },
  {
   "cell_type": "code",
   "execution_count": 31,
   "metadata": {},
   "outputs": [
    {
     "name": "stdout",
     "output_type": "stream",
     "text": [
      "[1] \"Filtered: 408\"\n"
     ]
    },
    {
     "data": {
      "text/html": [
       "<div>\n",
       "<style scoped>\n",
       "    .dataframe tbody tr th:only-of-type {\n",
       "        vertical-align: middle;\n",
       "    }\n",
       "\n",
       "    .dataframe tbody tr th {\n",
       "        vertical-align: top;\n",
       "    }\n",
       "\n",
       "    .dataframe thead th {\n",
       "        text-align: right;\n",
       "    }\n",
       "</style>\n",
       "<table border=\"1\" class=\"dataframe\">\n",
       "  <thead>\n",
       "    <tr style=\"text-align: right;\">\n",
       "      <th></th>\n",
       "      <th>correlation</th>\n",
       "      <th>cross_abundance</th>\n",
       "      <th>mean_abundance</th>\n",
       "      <th>n</th>\n",
       "      <th>protein_abundance</th>\n",
       "      <th>pvalue</th>\n",
       "      <th>rna_abundance</th>\n",
       "      <th>FDR</th>\n",
       "    </tr>\n",
       "  </thead>\n",
       "  <tbody>\n",
       "    <tr>\n",
       "      <th>HIST1H3D</th>\n",
       "      <td>-0.966667</td>\n",
       "      <td>8.044816</td>\n",
       "      <td>6.210554</td>\n",
       "      <td>9</td>\n",
       "      <td>4.369369</td>\n",
       "      <td>0.000022</td>\n",
       "      <td>1.841185</td>\n",
       "      <td>0.018253</td>\n",
       "    </tr>\n",
       "    <tr>\n",
       "      <th>FCN1</th>\n",
       "      <td>0.617087</td>\n",
       "      <td>24.109512</td>\n",
       "      <td>10.467347</td>\n",
       "      <td>35</td>\n",
       "      <td>3.422092</td>\n",
       "      <td>0.000079</td>\n",
       "      <td>7.045254</td>\n",
       "      <td>0.033329</td>\n",
       "    </tr>\n",
       "  </tbody>\n",
       "</table>\n",
       "</div>"
      ],
      "text/plain": [
       "          correlation  cross_abundance  mean_abundance   n  protein_abundance  \\\n",
       "HIST1H3D    -0.966667         8.044816        6.210554   9           4.369369   \n",
       "FCN1         0.617087        24.109512       10.467347  35           3.422092   \n",
       "\n",
       "            pvalue  rna_abundance       FDR  \n",
       "HIST1H3D  0.000022       1.841185  0.018253  \n",
       "FCN1      0.000079       7.045254  0.033329  "
      ]
     },
     "execution_count": 31,
     "metadata": {},
     "output_type": "execute_result"
    }
   ],
   "source": [
    "correlations = add_filtered_fdr(correlations, 'cross_abundance', 0.1)\n",
    "correlations.sort_values('FDR').head(2)"
   ]
  },
  {
   "cell_type": "markdown",
   "metadata": {},
   "source": [
    "### 4. Most significant, highly abundant, highly correlated transcript-protein pairs"
   ]
  },
  {
   "cell_type": "markdown",
   "metadata": {},
   "source": [
    "Positive correlation can tells us about the type of the cell (if there are cell type specific proteins expressed and measured).\n",
    "\n",
    "Negative correlation can highlight proteins which are expressed but then exported or used up in another way (binding to complexes - own or foreign, signaling).\n",
    "\n",
    "These correlations characterize CSF cells in meningitis, but we cannot claim any relation to the healthy individuals yet."
   ]
  },
  {
   "cell_type": "code",
   "execution_count": 32,
   "metadata": {},
   "outputs": [],
   "source": [
    "def best_hits(correlations, n=5, sort='FDR'):\n",
    "    dfs = []\n",
    "    for direction in ['positively', 'negatively']:\n",
    "        neg = direction == 'negatively'\n",
    "        c = correlations[correlations.correlation * (-1 if neg else +1) > 0].sort_values(sort)\n",
    "        for k in c.head(n).index:\n",
    "            dfs.append(\n",
    "                DataFrame(dict(\n",
    "                    RNA=rna_shared.loc[k], Protein=protein_shared.loc[k]\n",
    "                )).assign(\n",
    "                    direction=direction, gene=k, FDR=c.loc[k].FDR, p=c.loc[k].pvalue,\n",
    "                ).rename_axis('patient').reset_index()\n",
    "            )\n",
    "    df = pd.concat(dfs)\n",
    "    df['Meningitis'] = df.patient.map(clinical['Meningitis'])\n",
    "    df.gene = pd.Categorical(df.gene, categories=correlations[sort].abs().sort_values().index, ordered=T)\n",
    "    return df"
   ]
  },
  {
   "cell_type": "code",
   "execution_count": 33,
   "metadata": {},
   "outputs": [],
   "source": [
    "df = best_hits(correlations, n=5, sort='FDR')"
   ]
  },
  {
   "cell_type": "code",
   "execution_count": 34,
   "metadata": {},
   "outputs": [
    {
     "data": {
      "image/png": "[encoded data removed]"
     },
     "metadata": {},
     "output_type": "display_data"
    }
   ],
   "source": [
    "%%R -i df -w 800 -h 450\n",
    "low_rna = df[df$RNA < 0,]\n",
    "high_rna = df[df$RNA >= 0,]\n",
    "(\n",
    "    ggplot(high_rna, aes(x=RNA, y=Protein))\n",
    "    + facet_wrap('direction ~ gene', 2, scale='free')\n",
    "    + geom_point(aes(color=Meningitis))\n",
    "    + geom_point(color='grey', data=low_rna)\n",
    "    + geom_smooth(method = \"lm\")\n",
    "    + geom_text(aes(label=paste('FDR=', round(FDR, 2))), x=-Inf, y=Inf, check_overlap=T, vjust=1.5, hjust=-0.15)\n",
    "    + color_meningitis + nice_theme\n",
    ")"
   ]
  },
  {
   "cell_type": "markdown",
   "metadata": {},
   "source": [
    "Here are RefSeq based summaries for the above hits:\n",
    "\n",
    "The most negatively correlated 5:\n",
    "- HIST1H3D - a histone; may be important in cell proliferation, apoptosis and cell cycle progression (in cancer); RNASeq reads absent in all but two TB patients(!)\n",
    "- LAMC1 - extracellular matrix glycoprotein; \"Upregulated by HIV infection or Tat protein\"\n",
    "- CA1 - zinc metalloenzyme; involved in formation of cerebrospinal fluid (among others); cytosolic, high in erythrocytes; potential oncogene (abnormal cell calcification, apoptosis and migration in breast cancer)\n",
    "- IFNGR2 - receptor for Interferon gamma (variants are a cause of susceptibility to **mycobacterial** infections!)\n",
    "- COTL1 - involved in many autoimmune disorders and cancers; related to IL-24/TGF-beta signaling\n",
    "\n",
    "The most positively correlated 5:\n",
    "- FCN1 - predominantly expressed in peripheral blood leukocytes; immune system; Neutrophil degranulation; Ebolva virus infection\n",
    "- FLRT2 - neural development; cell adhesion molecule; possible role in cellular growth and proliferation; tumour suppressor in breast cancer\n",
    "- COLEC11 - secreted protein; **\"important roles in the innate immune system by binding to carbohydrate antigens on microorganisms, facilitating their recognition and removal\"**\n",
    "- TAGLN2 - \"thought to be a tumor suppressor\", HIV-1 likes this protein: gp120 upregulates it and it needs it to replicate; Platelet activation, signaling and aggregation\n",
    "- NAMPT - NAPRTase family; involved in many important biological processes, including metabolism, stress response and aging"
   ]
  },
  {
   "cell_type": "markdown",
   "metadata": {},
   "source": [
    "Further down the list:"
   ]
  },
  {
   "cell_type": "code",
   "execution_count": 35,
   "metadata": {},
   "outputs": [],
   "source": [
    "export_columns = ['correlation', 'n', 'protein_abundance', 'rna_abundance', 'pvalue', 'FDR']\n",
    "significant_table = correlations.sort_values('FDR')[export_columns]\n",
    "significant_table.to_csv(correlations_path)"
   ]
  },
  {
   "cell_type": "code",
   "execution_count": 36,
   "metadata": {},
   "outputs": [
    {
     "data": {
      "text/html": [
       "<div>\n",
       "<style scoped>\n",
       "    .dataframe tbody tr th:only-of-type {\n",
       "        vertical-align: middle;\n",
       "    }\n",
       "\n",
       "    .dataframe tbody tr th {\n",
       "        vertical-align: top;\n",
       "    }\n",
       "\n",
       "    .dataframe thead th {\n",
       "        text-align: right;\n",
       "    }\n",
       "</style>\n",
       "<table border=\"1\" class=\"dataframe\">\n",
       "  <thead>\n",
       "    <tr style=\"text-align: right;\">\n",
       "      <th></th>\n",
       "      <th>correlation</th>\n",
       "      <th>n</th>\n",
       "      <th>protein_abundance</th>\n",
       "      <th>rna_abundance</th>\n",
       "      <th>pvalue</th>\n",
       "      <th>FDR</th>\n",
       "    </tr>\n",
       "  </thead>\n",
       "  <tbody>\n",
       "    <tr>\n",
       "      <th>HIST1H3D</th>\n",
       "      <td>-0.966667</td>\n",
       "      <td>9</td>\n",
       "      <td>4.369369</td>\n",
       "      <td>1.841185</td>\n",
       "      <td>0.000022</td>\n",
       "      <td>0.018253</td>\n",
       "    </tr>\n",
       "    <tr>\n",
       "      <th>FCN1</th>\n",
       "      <td>0.617087</td>\n",
       "      <td>35</td>\n",
       "      <td>3.422092</td>\n",
       "      <td>7.045254</td>\n",
       "      <td>0.000079</td>\n",
       "      <td>0.033329</td>\n",
       "    </tr>\n",
       "    <tr>\n",
       "      <th>LAMC1</th>\n",
       "      <td>-0.566106</td>\n",
       "      <td>35</td>\n",
       "      <td>3.768237</td>\n",
       "      <td>3.765978</td>\n",
       "      <td>0.000393</td>\n",
       "      <td>0.099628</td>\n",
       "    </tr>\n",
       "    <tr>\n",
       "      <th>FLRT2</th>\n",
       "      <td>0.552896</td>\n",
       "      <td>36</td>\n",
       "      <td>7.678617</td>\n",
       "      <td>4.974119</td>\n",
       "      <td>0.000470</td>\n",
       "      <td>0.099628</td>\n",
       "    </tr>\n",
       "    <tr>\n",
       "      <th>NAMPT</th>\n",
       "      <td>0.515830</td>\n",
       "      <td>36</td>\n",
       "      <td>3.667793</td>\n",
       "      <td>8.727463</td>\n",
       "      <td>0.001282</td>\n",
       "      <td>0.140664</td>\n",
       "    </tr>\n",
       "    <tr>\n",
       "      <th>COLEC11</th>\n",
       "      <td>0.648786</td>\n",
       "      <td>22</td>\n",
       "      <td>5.489469</td>\n",
       "      <td>1.644922</td>\n",
       "      <td>0.001089</td>\n",
       "      <td>0.140664</td>\n",
       "    </tr>\n",
       "    <tr>\n",
       "      <th>CA1</th>\n",
       "      <td>-0.644269</td>\n",
       "      <td>23</td>\n",
       "      <td>4.053057</td>\n",
       "      <td>1.802038</td>\n",
       "      <td>0.000907</td>\n",
       "      <td>0.140664</td>\n",
       "    </tr>\n",
       "    <tr>\n",
       "      <th>TAGLN2</th>\n",
       "      <td>0.512999</td>\n",
       "      <td>36</td>\n",
       "      <td>7.595435</td>\n",
       "      <td>5.709453</td>\n",
       "      <td>0.001377</td>\n",
       "      <td>0.140664</td>\n",
       "    </tr>\n",
       "    <tr>\n",
       "      <th>IFNGR2</th>\n",
       "      <td>-0.523300</td>\n",
       "      <td>34</td>\n",
       "      <td>1.627658</td>\n",
       "      <td>5.966830</td>\n",
       "      <td>0.001495</td>\n",
       "      <td>0.140664</td>\n",
       "    </tr>\n",
       "    <tr>\n",
       "      <th>COTL1</th>\n",
       "      <td>-0.490862</td>\n",
       "      <td>36</td>\n",
       "      <td>7.295692</td>\n",
       "      <td>8.262931</td>\n",
       "      <td>0.002368</td>\n",
       "      <td>0.160997</td>\n",
       "    </tr>\n",
       "    <tr>\n",
       "      <th>C5</th>\n",
       "      <td>-0.523790</td>\n",
       "      <td>31</td>\n",
       "      <td>11.297235</td>\n",
       "      <td>3.022572</td>\n",
       "      <td>0.002493</td>\n",
       "      <td>0.160997</td>\n",
       "    </tr>\n",
       "    <tr>\n",
       "      <th>HHLA2</th>\n",
       "      <td>-0.554945</td>\n",
       "      <td>27</td>\n",
       "      <td>3.261743</td>\n",
       "      <td>2.224486</td>\n",
       "      <td>0.002661</td>\n",
       "      <td>0.160997</td>\n",
       "    </tr>\n",
       "    <tr>\n",
       "      <th>NOTCH1</th>\n",
       "      <td>-0.499871</td>\n",
       "      <td>36</td>\n",
       "      <td>9.842226</td>\n",
       "      <td>7.714541</td>\n",
       "      <td>0.001908</td>\n",
       "      <td>0.160997</td>\n",
       "    </tr>\n",
       "    <tr>\n",
       "      <th>CCL16</th>\n",
       "      <td>0.578462</td>\n",
       "      <td>25</td>\n",
       "      <td>5.629467</td>\n",
       "      <td>1.735597</td>\n",
       "      <td>0.002453</td>\n",
       "      <td>0.160997</td>\n",
       "    </tr>\n",
       "    <tr>\n",
       "      <th>LYN</th>\n",
       "      <td>0.476705</td>\n",
       "      <td>36</td>\n",
       "      <td>5.535460</td>\n",
       "      <td>7.927867</td>\n",
       "      <td>0.003289</td>\n",
       "      <td>0.185705</td>\n",
       "    </tr>\n",
       "    <tr>\n",
       "      <th>BID</th>\n",
       "      <td>0.480519</td>\n",
       "      <td>34</td>\n",
       "      <td>4.682052</td>\n",
       "      <td>5.480983</td>\n",
       "      <td>0.004022</td>\n",
       "      <td>0.212933</td>\n",
       "    </tr>\n",
       "    <tr>\n",
       "      <th>CRK</th>\n",
       "      <td>0.456885</td>\n",
       "      <td>36</td>\n",
       "      <td>6.951580</td>\n",
       "      <td>5.352191</td>\n",
       "      <td>0.005092</td>\n",
       "      <td>0.253677</td>\n",
       "    </tr>\n",
       "    <tr>\n",
       "      <th>FGR</th>\n",
       "      <td>0.434234</td>\n",
       "      <td>36</td>\n",
       "      <td>2.024628</td>\n",
       "      <td>7.009710</td>\n",
       "      <td>0.008141</td>\n",
       "      <td>0.273310</td>\n",
       "    </tr>\n",
       "    <tr>\n",
       "      <th>OAS1</th>\n",
       "      <td>0.435521</td>\n",
       "      <td>36</td>\n",
       "      <td>1.814355</td>\n",
       "      <td>6.895964</td>\n",
       "      <td>0.007933</td>\n",
       "      <td>0.273310</td>\n",
       "    </tr>\n",
       "    <tr>\n",
       "      <th>HIF1A</th>\n",
       "      <td>-0.435006</td>\n",
       "      <td>36</td>\n",
       "      <td>1.065364</td>\n",
       "      <td>7.840829</td>\n",
       "      <td>0.008016</td>\n",
       "      <td>0.273310</td>\n",
       "    </tr>\n",
       "  </tbody>\n",
       "</table>\n",
       "</div>"
      ],
      "text/plain": [
       "          correlation   n  protein_abundance  rna_abundance    pvalue  \\\n",
       "HIST1H3D -0.966667     9   4.369369           1.841185       0.000022   \n",
       "FCN1      0.617087     35  3.422092           7.045254       0.000079   \n",
       "LAMC1    -0.566106     35  3.768237           3.765978       0.000393   \n",
       "FLRT2     0.552896     36  7.678617           4.974119       0.000470   \n",
       "NAMPT     0.515830     36  3.667793           8.727463       0.001282   \n",
       "COLEC11   0.648786     22  5.489469           1.644922       0.001089   \n",
       "CA1      -0.644269     23  4.053057           1.802038       0.000907   \n",
       "TAGLN2    0.512999     36  7.595435           5.709453       0.001377   \n",
       "IFNGR2   -0.523300     34  1.627658           5.966830       0.001495   \n",
       "COTL1    -0.490862     36  7.295692           8.262931       0.002368   \n",
       "C5       -0.523790     31  11.297235          3.022572       0.002493   \n",
       "HHLA2    -0.554945     27  3.261743           2.224486       0.002661   \n",
       "NOTCH1   -0.499871     36  9.842226           7.714541       0.001908   \n",
       "CCL16     0.578462     25  5.629467           1.735597       0.002453   \n",
       "LYN       0.476705     36  5.535460           7.927867       0.003289   \n",
       "BID       0.480519     34  4.682052           5.480983       0.004022   \n",
       "CRK       0.456885     36  6.951580           5.352191       0.005092   \n",
       "FGR       0.434234     36  2.024628           7.009710       0.008141   \n",
       "OAS1      0.435521     36  1.814355           6.895964       0.007933   \n",
       "HIF1A    -0.435006     36  1.065364           7.840829       0.008016   \n",
       "\n",
       "               FDR  \n",
       "HIST1H3D  0.018253  \n",
       "FCN1      0.033329  \n",
       "LAMC1     0.099628  \n",
       "FLRT2     0.099628  \n",
       "NAMPT     0.140664  \n",
       "COLEC11   0.140664  \n",
       "CA1       0.140664  \n",
       "TAGLN2    0.140664  \n",
       "IFNGR2    0.140664  \n",
       "COTL1     0.160997  \n",
       "C5        0.160997  \n",
       "HHLA2     0.160997  \n",
       "NOTCH1    0.160997  \n",
       "CCL16     0.160997  \n",
       "LYN       0.185705  \n",
       "BID       0.212933  \n",
       "CRK       0.253677  \n",
       "FGR       0.273310  \n",
       "OAS1      0.273310  \n",
       "HIF1A     0.273310  "
      ]
     },
     "metadata": {},
     "output_type": "display_data"
    }
   ],
   "source": [
    "show_table(significant_table.head(20))"
   ]
  },
  {
   "cell_type": "markdown",
   "metadata": {},
   "source": [
    "#### 4.1 The most significant low-expressed pairs"
   ]
  },
  {
   "cell_type": "code",
   "execution_count": 37,
   "metadata": {},
   "outputs": [],
   "source": [
    "low_expressed = correlations[correlations.FDR.isnull()]\n",
    "df = best_hits(low_expressed, n=5, sort='pvalue')"
   ]
  },
  {
   "cell_type": "code",
   "execution_count": 38,
   "metadata": {},
   "outputs": [
    {
     "data": {
      "image/png": "[encoded data removed]"
     },
     "metadata": {},
     "output_type": "display_data"
    }
   ],
   "source": [
    "%%R -i df -w 800 -h 450\n",
    "low_rna = df[df$RNA < 0,]\n",
    "high_rna = df[df$RNA >= 0,]\n",
    "(\n",
    "    ggplot(high_rna, aes(x=RNA, y=Protein))\n",
    "    + facet_wrap('direction ~ gene', 2, scale='free')\n",
    "    + geom_point(aes(color=Meningitis))\n",
    "    + geom_point(color='grey', data=low_rna)\n",
    "    + geom_smooth(method = \"lm\")\n",
    "    + geom_text(aes(label=paste('p=', round(p, 2))), x=-Inf, y=Inf, check_overlap=T, vjust=1.5, hjust=-0.15)\n",
    "    + color_meningitis + nice_theme\n",
    "    + ggtitle('the p-values are NOT adjusted for multiple hypothesis testing')\n",
    ")"
   ]
  },
  {
   "cell_type": "markdown",
   "metadata": {},
   "source": [
    "- Either interleukins are enriched in SOMAScan design or those have some special role here; correlations:\n",
    "  - negative: IL17A, IL11\n",
    "  - positive: IL22RA2 (receptor) [but IL22 is not expressed in 80% of TB patients, 60% of Crypto and 50% of Viral...]\n",
    "- Interferon Β (IFNB1) has positive correlation while Receptor for Interferon γ (IFNGR2) has negative one\n",
    "- PRSS3 is not expressed in 93% of the TB patients! (or at least not detected)"
   ]
  },
  {
   "cell_type": "code",
   "execution_count": 39,
   "metadata": {},
   "outputs": [
    {
     "data": {
      "text/html": [
       "<div>\n",
       "<style scoped>\n",
       "    .dataframe tbody tr th:only-of-type {\n",
       "        vertical-align: middle;\n",
       "    }\n",
       "\n",
       "    .dataframe tbody tr th {\n",
       "        vertical-align: top;\n",
       "    }\n",
       "\n",
       "    .dataframe thead th {\n",
       "        text-align: right;\n",
       "    }\n",
       "</style>\n",
       "<table border=\"1\" class=\"dataframe\">\n",
       "  <thead>\n",
       "    <tr style=\"text-align: right;\">\n",
       "      <th></th>\n",
       "      <th>Meningitis</th>\n",
       "      <th>index</th>\n",
       "      <th>ratio</th>\n",
       "    </tr>\n",
       "  </thead>\n",
       "  <tbody>\n",
       "    <tr>\n",
       "      <th>24</th>\n",
       "      <td>Tuberculosis</td>\n",
       "      <td>IL22</td>\n",
       "      <td>0.800000</td>\n",
       "    </tr>\n",
       "    <tr>\n",
       "      <th>223</th>\n",
       "      <td>Cryptococcal</td>\n",
       "      <td>IL22</td>\n",
       "      <td>0.571429</td>\n",
       "    </tr>\n",
       "    <tr>\n",
       "      <th>358</th>\n",
       "      <td>Viral</td>\n",
       "      <td>IL22</td>\n",
       "      <td>0.428571</td>\n",
       "    </tr>\n",
       "  </tbody>\n",
       "</table>\n",
       "</div>"
      ],
      "text/plain": [
       "       Meningitis index     ratio\n",
       "24   Tuberculosis  IL22  0.800000\n",
       "223  Cryptococcal  IL22  0.571429\n",
       "358         Viral  IL22  0.428571"
      ]
     },
     "execution_count": 39,
     "metadata": {},
     "output_type": "execute_result"
    }
   ],
   "source": [
    "rna_low_ratio[rna_low_ratio['index'] == 'IL22']"
   ]
  },
  {
   "cell_type": "markdown",
   "metadata": {},
   "source": [
    "### 5. Negative correlations are less frequent than positive correlations\n",
    "\n",
    "(thus should not invalidate the RNASeq analyses, but are an important factor to consider)"
   ]
  },
  {
   "cell_type": "code",
   "execution_count": 40,
   "metadata": {},
   "outputs": [],
   "source": [
    "# only use pvalue < 0.5, otherwise we are lookking at meaningless noise\n",
    "# (and I assume that p-values are callibrated up to this level)\n",
    "not_noise = correlations.query('pvalue < 0.5')\n",
    "\n",
    "positive_correlations = not_noise.query('correlation > 0')\n",
    "negative_correlations = not_noise.query('correlation < 0')"
   ]
  },
  {
   "cell_type": "code",
   "execution_count": 41,
   "metadata": {},
   "outputs": [
    {
     "data": {
      "text/plain": [
       "437"
      ]
     },
     "execution_count": 41,
     "metadata": {},
     "output_type": "execute_result"
    }
   ],
   "source": [
    "len(positive_correlations)"
   ]
  },
  {
   "cell_type": "code",
   "execution_count": 42,
   "metadata": {},
   "outputs": [
    {
     "data": {
      "text/plain": [
       "248"
      ]
     },
     "execution_count": 42,
     "metadata": {},
     "output_type": "execute_result"
    }
   ],
   "source": [
    "len(negative_correlations)"
   ]
  },
  {
   "cell_type": "markdown",
   "metadata": {},
   "source": [
    "#### 5.1 Trends in the pathways space of the positively and negatively correlated pairs differ"
   ]
  },
  {
   "cell_type": "markdown",
   "metadata": {},
   "source": [
    "Using camera with 1 - p-value gives us an over-representation analysis proxy, but this is actually even worse as it does not use background. Thus, please do not take the FDR/PValue seriously, these are not valid."
   ]
  },
  {
   "cell_type": "code",
   "execution_count": 43,
   "metadata": {},
   "outputs": [],
   "source": [
    "from gsea_api.expression_set import ExpressionSet\n",
    "from gsea_api.molecular_signatures_db import GeneMatrixTransposed\n",
    "from helpers.gse import collection_to_R\n",
    "\n",
    "reactome_new_symbol = GeneMatrixTransposed.from_gmt('ReactomePathways.gmt', name='reactome_new_symbol')\n",
    "collection_to_R(reactome_new_symbol, trim_to=set(genes_in_both))\n",
    "\n",
    "%R camera = function(x) {limma::cameraPR(x, reactome_new_symbol)}\n",
    "camera = partial(r_function, 'camera')"
   ]
  },
  {
   "cell_type": "code",
   "execution_count": 44,
   "metadata": {},
   "outputs": [
    {
     "data": {
      "text/html": [
       "<div>\n",
       "<style scoped>\n",
       "    .dataframe tbody tr th:only-of-type {\n",
       "        vertical-align: middle;\n",
       "    }\n",
       "\n",
       "    .dataframe tbody tr th {\n",
       "        vertical-align: top;\n",
       "    }\n",
       "\n",
       "    .dataframe thead th {\n",
       "        text-align: right;\n",
       "    }\n",
       "</style>\n",
       "<table border=\"1\" class=\"dataframe\">\n",
       "  <thead>\n",
       "    <tr style=\"text-align: right;\">\n",
       "      <th></th>\n",
       "      <th>NGenes</th>\n",
       "      <th>Direction</th>\n",
       "      <th>PValue</th>\n",
       "      <th>FDR</th>\n",
       "    </tr>\n",
       "  </thead>\n",
       "  <tbody>\n",
       "    <tr>\n",
       "      <th>Non-integrin membrane-ECM interactions</th>\n",
       "      <td>8.0</td>\n",
       "      <td>Up</td>\n",
       "      <td>0.002892</td>\n",
       "      <td>0.969483</td>\n",
       "    </tr>\n",
       "    <tr>\n",
       "      <th>Intrinsic Pathway for Apoptosis</th>\n",
       "      <td>5.0</td>\n",
       "      <td>Up</td>\n",
       "      <td>0.013599</td>\n",
       "      <td>0.969483</td>\n",
       "    </tr>\n",
       "    <tr>\n",
       "      <th>Signaling by PTK6</th>\n",
       "      <td>9.0</td>\n",
       "      <td>Up</td>\n",
       "      <td>0.016492</td>\n",
       "      <td>0.969483</td>\n",
       "    </tr>\n",
       "    <tr>\n",
       "      <th>Signaling by Non-Receptor Tyrosine Kinases</th>\n",
       "      <td>9.0</td>\n",
       "      <td>Up</td>\n",
       "      <td>0.016492</td>\n",
       "      <td>0.969483</td>\n",
       "    </tr>\n",
       "    <tr>\n",
       "      <th>Detoxification of Reactive Oxygen Species</th>\n",
       "      <td>2.0</td>\n",
       "      <td>Down</td>\n",
       "      <td>0.019178</td>\n",
       "      <td>0.969483</td>\n",
       "    </tr>\n",
       "  </tbody>\n",
       "</table>\n",
       "</div>"
      ],
      "text/plain": [
       "                                            NGenes Direction    PValue  \\\n",
       "Non-integrin membrane-ECM interactions         8.0        Up  0.002892   \n",
       "Intrinsic Pathway for Apoptosis                5.0        Up  0.013599   \n",
       "Signaling by PTK6                              9.0        Up  0.016492   \n",
       "Signaling by Non-Receptor Tyrosine Kinases     9.0        Up  0.016492   \n",
       "Detoxification of Reactive Oxygen Species      2.0      Down  0.019178   \n",
       "\n",
       "                                                 FDR  \n",
       "Non-integrin membrane-ECM interactions      0.969483  \n",
       "Intrinsic Pathway for Apoptosis             0.969483  \n",
       "Signaling by PTK6                           0.969483  \n",
       "Signaling by Non-Receptor Tyrosine Kinases  0.969483  \n",
       "Detoxification of Reactive Oxygen Species   0.969483  "
      ]
     },
     "execution_count": 44,
     "metadata": {},
     "output_type": "execute_result"
    }
   ],
   "source": [
    "# well, actually why would there be any trend for positive correlations?\n",
    "# this is just how the \"normal\" cell in the simplest version of the central dogma works,\n",
    "# so even with proper ORA I would not expect any serious significant signal here\n",
    "camera(1 - positive_correlations.pvalue).head()"
   ]
  },
  {
   "cell_type": "code",
   "execution_count": 45,
   "metadata": {},
   "outputs": [
    {
     "data": {
      "text/html": [
       "<div>\n",
       "<style scoped>\n",
       "    .dataframe tbody tr th:only-of-type {\n",
       "        vertical-align: middle;\n",
       "    }\n",
       "\n",
       "    .dataframe tbody tr th {\n",
       "        vertical-align: top;\n",
       "    }\n",
       "\n",
       "    .dataframe thead th {\n",
       "        text-align: right;\n",
       "    }\n",
       "</style>\n",
       "<table border=\"1\" class=\"dataframe\">\n",
       "  <thead>\n",
       "    <tr style=\"text-align: right;\">\n",
       "      <th></th>\n",
       "      <th>NGenes</th>\n",
       "      <th>Direction</th>\n",
       "      <th>PValue</th>\n",
       "      <th>FDR</th>\n",
       "    </tr>\n",
       "  </thead>\n",
       "  <tbody>\n",
       "    <tr>\n",
       "      <th>Immune System</th>\n",
       "      <td>101.0</td>\n",
       "      <td>Up</td>\n",
       "      <td>0.001514</td>\n",
       "      <td>0.675596</td>\n",
       "    </tr>\n",
       "    <tr>\n",
       "      <th>Cytokine Signaling in Immune system</th>\n",
       "      <td>57.0</td>\n",
       "      <td>Up</td>\n",
       "      <td>0.002538</td>\n",
       "      <td>0.675596</td>\n",
       "    </tr>\n",
       "    <tr>\n",
       "      <th>Interleukin-10 signaling</th>\n",
       "      <td>6.0</td>\n",
       "      <td>Up</td>\n",
       "      <td>0.003147</td>\n",
       "      <td>0.675596</td>\n",
       "    </tr>\n",
       "    <tr>\n",
       "      <th>Signaling by Interleukins</th>\n",
       "      <td>39.0</td>\n",
       "      <td>Up</td>\n",
       "      <td>0.004533</td>\n",
       "      <td>0.729791</td>\n",
       "    </tr>\n",
       "    <tr>\n",
       "      <th>Interleukin-4 and Interleukin-13 signaling</th>\n",
       "      <td>14.0</td>\n",
       "      <td>Up</td>\n",
       "      <td>0.016611</td>\n",
       "      <td>0.989134</td>\n",
       "    </tr>\n",
       "  </tbody>\n",
       "</table>\n",
       "</div>"
      ],
      "text/plain": [
       "                                            NGenes Direction    PValue  \\\n",
       "Immune System                                101.0        Up  0.001514   \n",
       "Cytokine Signaling in Immune system           57.0        Up  0.002538   \n",
       "Interleukin-10 signaling                       6.0        Up  0.003147   \n",
       "Signaling by Interleukins                     39.0        Up  0.004533   \n",
       "Interleukin-4 and Interleukin-13 signaling    14.0        Up  0.016611   \n",
       "\n",
       "                                                 FDR  \n",
       "Immune System                               0.675596  \n",
       "Cytokine Signaling in Immune system         0.675596  \n",
       "Interleukin-10 signaling                    0.675596  \n",
       "Signaling by Interleukins                   0.729791  \n",
       "Interleukin-4 and Interleukin-13 signaling  0.989134  "
      ]
     },
     "execution_count": 45,
     "metadata": {},
     "output_type": "execute_result"
    }
   ],
   "source": [
    "# kind of as expected (\"gut feeling\"?), but needs proper ORA framework\n",
    "camera(1 - negative_correlations.pvalue).head()"
   ]
  },
  {
   "cell_type": "markdown",
   "metadata": {},
   "source": [
    "I verified using gProfiler and got no significant hits."
   ]
  },
  {
   "cell_type": "code",
   "execution_count": 46,
   "metadata": {},
   "outputs": [],
   "source": [
    "# neg = negative_correlations.index"
   ]
  },
  {
   "cell_type": "code",
   "execution_count": 47,
   "metadata": {},
   "outputs": [],
   "source": [
    "#%%R -i neg -i genes_in_both -o go_result\n",
    "#go_result <- gprofiler2::gost(neg, custom_bg=genes_in_both, ordered_query=T, significant=T)\n",
    "#head(go_result)"
   ]
  },
  {
   "cell_type": "markdown",
   "metadata": {},
   "source": [
    "### 6. A look at the consistently (highly expressed gene-highly abundant protein) pairs (across all groups)"
   ]
  },
  {
   "cell_type": "code",
   "execution_count": 48,
   "metadata": {},
   "outputs": [
    {
     "data": {
      "text/html": [
       "<div>\n",
       "<style scoped>\n",
       "    .dataframe tbody tr th:only-of-type {\n",
       "        vertical-align: middle;\n",
       "    }\n",
       "\n",
       "    .dataframe tbody tr th {\n",
       "        vertical-align: top;\n",
       "    }\n",
       "\n",
       "    .dataframe thead th {\n",
       "        text-align: right;\n",
       "    }\n",
       "</style>\n",
       "<table border=\"1\" class=\"dataframe\">\n",
       "  <thead>\n",
       "    <tr style=\"text-align: right;\">\n",
       "      <th></th>\n",
       "      <th>correlation</th>\n",
       "      <th>cross_abundance</th>\n",
       "      <th>mean_abundance</th>\n",
       "      <th>n</th>\n",
       "      <th>protein_abundance</th>\n",
       "      <th>pvalue</th>\n",
       "      <th>rna_abundance</th>\n",
       "      <th>FDR</th>\n",
       "    </tr>\n",
       "  </thead>\n",
       "  <tbody>\n",
       "    <tr>\n",
       "      <th>B2M</th>\n",
       "      <td>-0.286229</td>\n",
       "      <td>128.402041</td>\n",
       "      <td>22.684506</td>\n",
       "      <td>36</td>\n",
       "      <td>11.836889</td>\n",
       "      <td>0.090573</td>\n",
       "      <td>10.847617</td>\n",
       "      <td>0.551396</td>\n",
       "    </tr>\n",
       "    <tr>\n",
       "      <th>IGHG1</th>\n",
       "      <td>0.044530</td>\n",
       "      <td>112.926118</td>\n",
       "      <td>21.255319</td>\n",
       "      <td>36</td>\n",
       "      <td>10.772678</td>\n",
       "      <td>0.796500</td>\n",
       "      <td>10.482642</td>\n",
       "      <td>0.977732</td>\n",
       "    </tr>\n",
       "    <tr>\n",
       "      <th>YWHAZ</th>\n",
       "      <td>-0.180695</td>\n",
       "      <td>112.116291</td>\n",
       "      <td>21.524917</td>\n",
       "      <td>36</td>\n",
       "      <td>12.689689</td>\n",
       "      <td>0.291599</td>\n",
       "      <td>8.835227</td>\n",
       "      <td>0.780203</td>\n",
       "    </tr>\n",
       "    <tr>\n",
       "      <th>SELL</th>\n",
       "      <td>-0.108366</td>\n",
       "      <td>107.915142</td>\n",
       "      <td>21.189183</td>\n",
       "      <td>36</td>\n",
       "      <td>12.675513</td>\n",
       "      <td>0.529281</td>\n",
       "      <td>8.513671</td>\n",
       "      <td>0.919029</td>\n",
       "    </tr>\n",
       "    <tr>\n",
       "      <th>IGHA1</th>\n",
       "      <td>0.027542</td>\n",
       "      <td>106.507769</td>\n",
       "      <td>20.779532</td>\n",
       "      <td>36</td>\n",
       "      <td>11.589543</td>\n",
       "      <td>0.873315</td>\n",
       "      <td>9.189989</td>\n",
       "      <td>0.979478</td>\n",
       "    </tr>\n",
       "    <tr>\n",
       "      <th>ALDOA</th>\n",
       "      <td>-0.025740</td>\n",
       "      <td>102.830890</td>\n",
       "      <td>20.768459</td>\n",
       "      <td>36</td>\n",
       "      <td>12.620596</td>\n",
       "      <td>0.881542</td>\n",
       "      <td>8.147863</td>\n",
       "      <td>0.979478</td>\n",
       "    </tr>\n",
       "    <tr>\n",
       "      <th>HNRNPA2B1</th>\n",
       "      <td>0.110682</td>\n",
       "      <td>100.633336</td>\n",
       "      <td>20.071471</td>\n",
       "      <td>36</td>\n",
       "      <td>10.323219</td>\n",
       "      <td>0.520461</td>\n",
       "      <td>9.748252</td>\n",
       "      <td>0.918138</td>\n",
       "    </tr>\n",
       "    <tr>\n",
       "      <th>CTSD</th>\n",
       "      <td>-0.224453</td>\n",
       "      <td>98.109711</td>\n",
       "      <td>20.423032</td>\n",
       "      <td>36</td>\n",
       "      <td>12.694528</td>\n",
       "      <td>0.188155</td>\n",
       "      <td>7.728504</td>\n",
       "      <td>0.671664</td>\n",
       "    </tr>\n",
       "    <tr>\n",
       "      <th>TNFRSF1B</th>\n",
       "      <td>-0.281081</td>\n",
       "      <td>96.718850</td>\n",
       "      <td>20.212132</td>\n",
       "      <td>36</td>\n",
       "      <td>12.432805</td>\n",
       "      <td>0.096786</td>\n",
       "      <td>7.779326</td>\n",
       "      <td>0.565365</td>\n",
       "    </tr>\n",
       "    <tr>\n",
       "      <th>YWHAB</th>\n",
       "      <td>0.037580</td>\n",
       "      <td>95.848418</td>\n",
       "      <td>19.998636</td>\n",
       "      <td>36</td>\n",
       "      <td>12.033510</td>\n",
       "      <td>0.827739</td>\n",
       "      <td>7.965125</td>\n",
       "      <td>0.979191</td>\n",
       "    </tr>\n",
       "  </tbody>\n",
       "</table>\n",
       "</div>"
      ],
      "text/plain": [
       "           correlation  cross_abundance  mean_abundance   n  \\\n",
       "B2M          -0.286229       128.402041       22.684506  36   \n",
       "IGHG1         0.044530       112.926118       21.255319  36   \n",
       "YWHAZ        -0.180695       112.116291       21.524917  36   \n",
       "SELL         -0.108366       107.915142       21.189183  36   \n",
       "IGHA1         0.027542       106.507769       20.779532  36   \n",
       "ALDOA        -0.025740       102.830890       20.768459  36   \n",
       "HNRNPA2B1     0.110682       100.633336       20.071471  36   \n",
       "CTSD         -0.224453        98.109711       20.423032  36   \n",
       "TNFRSF1B     -0.281081        96.718850       20.212132  36   \n",
       "YWHAB         0.037580        95.848418       19.998636  36   \n",
       "\n",
       "           protein_abundance    pvalue  rna_abundance       FDR  \n",
       "B2M                11.836889  0.090573      10.847617  0.551396  \n",
       "IGHG1              10.772678  0.796500      10.482642  0.977732  \n",
       "YWHAZ              12.689689  0.291599       8.835227  0.780203  \n",
       "SELL               12.675513  0.529281       8.513671  0.919029  \n",
       "IGHA1              11.589543  0.873315       9.189989  0.979478  \n",
       "ALDOA              12.620596  0.881542       8.147863  0.979478  \n",
       "HNRNPA2B1          10.323219  0.520461       9.748252  0.918138  \n",
       "CTSD               12.694528  0.188155       7.728504  0.671664  \n",
       "TNFRSF1B           12.432805  0.096786       7.779326  0.565365  \n",
       "YWHAB              12.033510  0.827739       7.965125  0.979191  "
      ]
     },
     "execution_count": 48,
     "metadata": {},
     "output_type": "execute_result"
    }
   ],
   "source": [
    "correlations.sort_values('cross_abundance', ascending=False).head(10)"
   ]
  },
  {
   "cell_type": "markdown",
   "metadata": {},
   "source": [
    "Top 5:\n",
    "- B2M - β2-microglubulin: related to MHC, HIV Infection (Host Interactions), IL-12, interferon, TCR singaling\n",
    "- IGHG1 - immunoglobulin heavy constant gamma; immune system, IL4, IL13\n",
    "- YWHAZ - mediates signal transduction, lots of pathways, interacts with insulin receptor substrate 1\n",
    "- SELL - strong association with HIV-1; proposed as biomarker for tuberculosis in HIV negative patients [(Achkar et al, 2015)](https://www.ncbi.nlm.nih.gov/pmc/articles/PMC4588417/) (well, maybe this is like checking if they may happen to have latent HIV...)\n",
    "- IGHA1 - immunoglobulin heavy constant alpha 1; IL17; antibacterial humoral response"
   ]
  },
  {
   "cell_type": "markdown",
   "metadata": {},
   "source": [
    "Note: I am finding many of the proteins that I check to be associated with to Systemic Lupus. "
   ]
  },
  {
   "cell_type": "markdown",
   "metadata": {},
   "source": [
    "### 7. Differential correlations analysis"
   ]
  },
  {
   "cell_type": "markdown",
   "metadata": {},
   "source": [
    "Are there any pairs positively correlated in one meningitis but negatively in the other?"
   ]
  },
  {
   "cell_type": "code",
   "execution_count": 49,
   "metadata": {},
   "outputs": [],
   "source": [
    "tb_patients = patients_with_both[patients_with_both.str.contains('TMD|TMR|TMS')]\n",
    "cm_patients = patients_with_both[patients_with_both.str.contains('CM')]\n",
    "\n",
    "correlations_tb = calc_correlations(rna_shared[tb_patients], protein_shared[tb_patients])\n",
    "correlations_cm = calc_correlations(rna_shared[cm_patients], protein_shared[cm_patients])"
   ]
  },
  {
   "cell_type": "markdown",
   "metadata": {},
   "source": [
    "#### 7.1 Absolute correlations for TB are (on average) higher, and the correlations are more positive for TB"
   ]
  },
  {
   "cell_type": "code",
   "execution_count": 50,
   "metadata": {},
   "outputs": [],
   "source": [
    "joint_correlations = pd.concat([\n",
    "    correlations_cm.assign(Meningitis='Cryptococcal'),\n",
    "    correlations_tb.assign(Meningitis='Tuberculosis')\n",
    "])\n",
    "joint_correlations = joint_correlations.assign(abs_correlation=joint_correlations.correlation.abs())"
   ]
  },
  {
   "cell_type": "code",
   "execution_count": 51,
   "metadata": {},
   "outputs": [
    {
     "name": "stdout",
     "output_type": "stream",
     "text": [
      "Note: Shapiro-Wilk Normality Test for abs_correlation : p-value = < 0.001\n",
      "Note: Bartlett's test for homogeneity of variances for factor Meningitis : p-value = < 0.001\n",
      "Note: Shapiro-Wilk Normality Test for correlation : p-value = 0.001\n",
      "Note: Bartlett's test for homogeneity of variances for factor Meningitis : p-value = < 0.001\n"
     ]
    },
    {
     "data": {
      "image/png": "[encoded data removed]"
     },
     "metadata": {},
     "output_type": "display_data"
    }
   ],
   "source": [
    "%%R -i joint_correlations -w 700 -h 300\n",
    "cowplot::plot_grid(\n",
    "    ggstatsplot::ggbetweenstats(data=joint_correlations, x='Meningitis', y='abs_correlation') + color_meningitis,\n",
    "    ggstatsplot::ggbetweenstats(data=joint_correlations, x='Meningitis', y='correlation') + color_meningitis\n",
    ")"
   ]
  },
  {
   "cell_type": "markdown",
   "metadata": {},
   "source": [
    "And the effect persits after filtering out the non-sigificant hits:"
   ]
  },
  {
   "cell_type": "code",
   "execution_count": 52,
   "metadata": {},
   "outputs": [
    {
     "data": {
      "text/html": [
       "<div>\n",
       "<style scoped>\n",
       "    .dataframe tbody tr th:only-of-type {\n",
       "        vertical-align: middle;\n",
       "    }\n",
       "\n",
       "    .dataframe tbody tr th {\n",
       "        vertical-align: top;\n",
       "    }\n",
       "\n",
       "    .dataframe thead th {\n",
       "        text-align: right;\n",
       "    }\n",
       "</style>\n",
       "<table border=\"1\" class=\"dataframe\">\n",
       "  <thead>\n",
       "    <tr style=\"text-align: right;\">\n",
       "      <th></th>\n",
       "      <th>correlation</th>\n",
       "      <th>abs_correlation</th>\n",
       "    </tr>\n",
       "    <tr>\n",
       "      <th>Meningitis</th>\n",
       "      <th></th>\n",
       "      <th></th>\n",
       "    </tr>\n",
       "  </thead>\n",
       "  <tbody>\n",
       "    <tr>\n",
       "      <th>Cryptococcal</th>\n",
       "      <td>-0.103565</td>\n",
       "      <td>0.611850</td>\n",
       "    </tr>\n",
       "    <tr>\n",
       "      <th>Tuberculosis</th>\n",
       "      <td>0.214818</td>\n",
       "      <td>0.635185</td>\n",
       "    </tr>\n",
       "  </tbody>\n",
       "</table>\n",
       "</div>"
      ],
      "text/plain": [
       "              correlation  abs_correlation\n",
       "Meningitis                                \n",
       "Cryptococcal    -0.103565         0.611850\n",
       "Tuberculosis     0.214818         0.635185"
      ]
     },
     "execution_count": 52,
     "metadata": {},
     "output_type": "execute_result"
    }
   ],
   "source": [
    "joint_correlations_without_noise = joint_correlations.query('pvalue < 0.1')\n",
    "joint_correlations_without_noise.groupby('Meningitis').mean()[['correlation', 'abs_correlation']]"
   ]
  },
  {
   "cell_type": "markdown",
   "metadata": {},
   "source": [
    "- Maybe more proteins measured in the TB are produced \"on-site\" (in the cells present in the CSF) rather imported with migrating cells which matured outside of the CSF?\n",
    "- Maybe there are just more proteins measured in the TB, thus it's easier to get a high correlation?"
   ]
  },
  {
   "cell_type": "code",
   "execution_count": 53,
   "metadata": {},
   "outputs": [
    {
     "data": {
      "text/html": [
       "<div>\n",
       "<style scoped>\n",
       "    .dataframe tbody tr th:only-of-type {\n",
       "        vertical-align: middle;\n",
       "    }\n",
       "\n",
       "    .dataframe tbody tr th {\n",
       "        vertical-align: top;\n",
       "    }\n",
       "\n",
       "    .dataframe thead th {\n",
       "        text-align: right;\n",
       "    }\n",
       "</style>\n",
       "<table border=\"1\" class=\"dataframe\">\n",
       "  <thead>\n",
       "    <tr style=\"text-align: right;\">\n",
       "      <th>Meningitis</th>\n",
       "      <th>Bacterial</th>\n",
       "      <th>Cryptococcal</th>\n",
       "      <th>Healthy control</th>\n",
       "      <th>Tuberculosis</th>\n",
       "      <th>Viral</th>\n",
       "    </tr>\n",
       "  </thead>\n",
       "  <tbody>\n",
       "    <tr>\n",
       "      <th>Protein</th>\n",
       "      <td>2.76</td>\n",
       "      <td>1.298889</td>\n",
       "      <td>0.4088</td>\n",
       "      <td>2.894688</td>\n",
       "      <td>0.6925</td>\n",
       "    </tr>\n",
       "  </tbody>\n",
       "</table>\n",
       "</div>"
      ],
      "text/plain": [
       "Meningitis  Bacterial  Cryptococcal  Healthy control  Tuberculosis   Viral\n",
       "Protein          2.76      1.298889           0.4088      2.894688  0.6925"
      ]
     },
     "execution_count": 53,
     "metadata": {},
     "output_type": "execute_result"
    }
   ],
   "source": [
    "clinical.groupby('Meningitis').Protein.mean().to_frame().T"
   ]
  },
  {
   "cell_type": "markdown",
   "metadata": {},
   "source": [
    "#### 7.2 In the subsets there are some perfect correlations, but with support from very few patients\n",
    "\n",
    "Filtering/weighting is thus needed for the subsets as such hits are not very interesting:"
   ]
  },
  {
   "cell_type": "code",
   "execution_count": 54,
   "metadata": {},
   "outputs": [
    {
     "data": {
      "text/html": [
       "<div>\n",
       "<style scoped>\n",
       "    .dataframe tbody tr th:only-of-type {\n",
       "        vertical-align: middle;\n",
       "    }\n",
       "\n",
       "    .dataframe tbody tr th {\n",
       "        vertical-align: top;\n",
       "    }\n",
       "\n",
       "    .dataframe thead th {\n",
       "        text-align: right;\n",
       "    }\n",
       "</style>\n",
       "<table border=\"1\" class=\"dataframe\">\n",
       "  <thead>\n",
       "    <tr style=\"text-align: right;\">\n",
       "      <th></th>\n",
       "      <th>correlation</th>\n",
       "      <th>cross_abundance</th>\n",
       "      <th>mean_abundance</th>\n",
       "      <th>n</th>\n",
       "      <th>protein_abundance</th>\n",
       "      <th>pvalue</th>\n",
       "      <th>rna_abundance</th>\n",
       "    </tr>\n",
       "    <tr>\n",
       "      <th>gene</th>\n",
       "      <th></th>\n",
       "      <th></th>\n",
       "      <th></th>\n",
       "      <th></th>\n",
       "      <th></th>\n",
       "      <th></th>\n",
       "      <th></th>\n",
       "    </tr>\n",
       "  </thead>\n",
       "  <tbody>\n",
       "    <tr>\n",
       "      <th>CST4</th>\n",
       "      <td>1.0</td>\n",
       "      <td>0.069172</td>\n",
       "      <td>0.952579</td>\n",
       "      <td>3</td>\n",
       "      <td>0.079200</td>\n",
       "      <td>0.0</td>\n",
       "      <td>0.873379</td>\n",
       "    </tr>\n",
       "    <tr>\n",
       "      <th>DKKL1</th>\n",
       "      <td>-1.0</td>\n",
       "      <td>9.310827</td>\n",
       "      <td>6.736924</td>\n",
       "      <td>3</td>\n",
       "      <td>4.795245</td>\n",
       "      <td>0.0</td>\n",
       "      <td>1.941679</td>\n",
       "    </tr>\n",
       "  </tbody>\n",
       "</table>\n",
       "</div>"
      ],
      "text/plain": [
       "       correlation  cross_abundance  mean_abundance  n  protein_abundance  \\\n",
       "gene                                                                        \n",
       "CST4           1.0         0.069172        0.952579  3           0.079200   \n",
       "DKKL1         -1.0         9.310827        6.736924  3           4.795245   \n",
       "\n",
       "       pvalue  rna_abundance  \n",
       "gene                          \n",
       "CST4      0.0       0.873379  \n",
       "DKKL1     0.0       1.941679  "
      ]
     },
     "execution_count": 54,
     "metadata": {},
     "output_type": "execute_result"
    }
   ],
   "source": [
    "correlations_tb.sort_values('pvalue').head(2)"
   ]
  },
  {
   "cell_type": "code",
   "execution_count": 55,
   "metadata": {},
   "outputs": [
    {
     "data": {
      "text/html": [
       "<div>\n",
       "<style scoped>\n",
       "    .dataframe tbody tr th:only-of-type {\n",
       "        vertical-align: middle;\n",
       "    }\n",
       "\n",
       "    .dataframe tbody tr th {\n",
       "        vertical-align: top;\n",
       "    }\n",
       "\n",
       "    .dataframe thead th {\n",
       "        text-align: right;\n",
       "    }\n",
       "</style>\n",
       "<table border=\"1\" class=\"dataframe\">\n",
       "  <thead>\n",
       "    <tr style=\"text-align: right;\">\n",
       "      <th></th>\n",
       "      <th>correlation</th>\n",
       "      <th>cross_abundance</th>\n",
       "      <th>mean_abundance</th>\n",
       "      <th>n</th>\n",
       "      <th>protein_abundance</th>\n",
       "      <th>pvalue</th>\n",
       "      <th>rna_abundance</th>\n",
       "    </tr>\n",
       "    <tr>\n",
       "      <th>gene</th>\n",
       "      <th></th>\n",
       "      <th></th>\n",
       "      <th></th>\n",
       "      <th></th>\n",
       "      <th></th>\n",
       "      <th></th>\n",
       "      <th></th>\n",
       "    </tr>\n",
       "  </thead>\n",
       "  <tbody>\n",
       "    <tr>\n",
       "      <th>CA9</th>\n",
       "      <td>1.0</td>\n",
       "      <td>2.969442</td>\n",
       "      <td>3.470524</td>\n",
       "      <td>4</td>\n",
       "      <td>1.939450</td>\n",
       "      <td>0.0</td>\n",
       "      <td>1.531074</td>\n",
       "    </tr>\n",
       "    <tr>\n",
       "      <th>IL17F</th>\n",
       "      <td>-1.0</td>\n",
       "      <td>-0.010303</td>\n",
       "      <td>2.128643</td>\n",
       "      <td>3</td>\n",
       "      <td>-0.004829</td>\n",
       "      <td>0.0</td>\n",
       "      <td>2.133472</td>\n",
       "    </tr>\n",
       "  </tbody>\n",
       "</table>\n",
       "</div>"
      ],
      "text/plain": [
       "       correlation  cross_abundance  mean_abundance  n  protein_abundance  \\\n",
       "gene                                                                        \n",
       "CA9            1.0         2.969442        3.470524  4           1.939450   \n",
       "IL17F         -1.0        -0.010303        2.128643  3          -0.004829   \n",
       "\n",
       "       pvalue  rna_abundance  \n",
       "gene                          \n",
       "CA9       0.0       1.531074  \n",
       "IL17F     0.0       2.133472  "
      ]
     },
     "execution_count": 55,
     "metadata": {},
     "output_type": "execute_result"
    }
   ],
   "source": [
    "correlations_cm.sort_values('pvalue').head(2)"
   ]
  },
  {
   "cell_type": "markdown",
   "metadata": {},
   "source": [
    "I will be weighting the hits by minimal $n$ across the compared groups."
   ]
  },
  {
   "cell_type": "code",
   "execution_count": 231,
   "metadata": {},
   "outputs": [],
   "source": [
    "def absolute_correlation_difference(cm, tb):\n",
    "    return (cm.correlation - tb.correlation).abs()"
   ]
  },
  {
   "cell_type": "code",
   "execution_count": 274,
   "metadata": {},
   "outputs": [
    {
     "data": {
      "text/html": [
       "<div>\n",
       "<style scoped>\n",
       "    .dataframe tbody tr th:only-of-type {\n",
       "        vertical-align: middle;\n",
       "    }\n",
       "\n",
       "    .dataframe tbody tr th {\n",
       "        vertical-align: top;\n",
       "    }\n",
       "\n",
       "    .dataframe thead th {\n",
       "        text-align: right;\n",
       "    }\n",
       "</style>\n",
       "<table border=\"1\" class=\"dataframe\">\n",
       "  <thead>\n",
       "    <tr style=\"text-align: right;\">\n",
       "      <th></th>\n",
       "      <th>cm_correlation</th>\n",
       "      <th>tb_correlation</th>\n",
       "      <th>diff</th>\n",
       "      <th>mean_abundance</th>\n",
       "      <th>cross_abundance</th>\n",
       "      <th>n</th>\n",
       "      <th>cm_n</th>\n",
       "      <th>tb_n</th>\n",
       "      <th>cross_n</th>\n",
       "    </tr>\n",
       "    <tr>\n",
       "      <th>gene</th>\n",
       "      <th></th>\n",
       "      <th></th>\n",
       "      <th></th>\n",
       "      <th></th>\n",
       "      <th></th>\n",
       "      <th></th>\n",
       "      <th></th>\n",
       "      <th></th>\n",
       "      <th></th>\n",
       "    </tr>\n",
       "  </thead>\n",
       "  <tbody>\n",
       "    <tr>\n",
       "      <th>CA9</th>\n",
       "      <td>1.0</td>\n",
       "      <td>-1.0</td>\n",
       "      <td>2.0</td>\n",
       "      <td>7.232411</td>\n",
       "      <td>10.476257</td>\n",
       "      <td>6</td>\n",
       "      <td>4</td>\n",
       "      <td>2</td>\n",
       "      <td>8</td>\n",
       "    </tr>\n",
       "    <tr>\n",
       "      <th>EFNA2</th>\n",
       "      <td>0.8</td>\n",
       "      <td>-1.0</td>\n",
       "      <td>1.8</td>\n",
       "      <td>20.737359</td>\n",
       "      <td>218.871458</td>\n",
       "      <td>6</td>\n",
       "      <td>4</td>\n",
       "      <td>2</td>\n",
       "      <td>8</td>\n",
       "    </tr>\n",
       "  </tbody>\n",
       "</table>\n",
       "</div>"
      ],
      "text/plain": [
       "       cm_correlation  tb_correlation  diff  mean_abundance  cross_abundance  \\\n",
       "gene                                                                           \n",
       "CA9               1.0            -1.0   2.0        7.232411        10.476257   \n",
       "EFNA2             0.8            -1.0   1.8       20.737359       218.871458   \n",
       "\n",
       "       n  cm_n  tb_n  cross_n  \n",
       "gene                           \n",
       "CA9    6     4     2        8  \n",
       "EFNA2  6     4     2        8  "
      ]
     },
     "execution_count": 274,
     "metadata": {},
     "output_type": "execute_result"
    }
   ],
   "source": [
    "cm_tm = DataFrame(dict(\n",
    "    cm_correlation=correlations_cm.correlation,\n",
    "    tb_correlation=correlations_tb.correlation,\n",
    "    diff=absolute_correlation_difference(correlations_cm, correlations_tb),\n",
    "    mean_abundance=correlations_cm.mean_abundance + correlations_tb.mean_abundance,\n",
    "    cross_abundance=correlations_cm.cross_abundance * correlations_tb.cross_abundance,\n",
    "    n=correlations_cm.n + correlations_tb.n,\n",
    "    cm_n=correlations_cm.n,\n",
    "    tb_n=correlations_tb.n,\n",
    "    cross_n=correlations_cm.n * correlations_tb.n\n",
    ")).dropna().sort_values('diff', ascending=False)\n",
    "\n",
    "cm_tm.head(2)"
   ]
  },
  {
   "cell_type": "markdown",
   "metadata": {},
   "source": [
    "Obviously perfect correlation for $n=2$ is not interesting..."
   ]
  },
  {
   "cell_type": "markdown",
   "metadata": {},
   "source": [
    "#### Significance estimation and weighting"
   ]
  },
  {
   "cell_type": "markdown",
   "metadata": {},
   "source": [
    "For the permutation test we can:\n",
    "- a) reshuffle labels of patients within phenotypes (here: within meningitis subgroups), or\n",
    "- b) keep the paired observations together but reshuffle phenotypes (here: meningitis type), or\n",
    "- c) reshuffle entire phenotypes (all labels without any prior separation except for keeping omics separately)\n",
    "\n",
    "The latter is used in GSEA, but GSEA operates on aggregate rather level than using paired hypothesis.\n",
    "\n",
    "Rephrasing in terms of tested hypotheses, the two scenarios asssess null for:\n",
    "- a) \"no structure\" hypothesis - A: the difference in relations (as strong as observed) of RNA and Protein levels for given groups is stronger than expected from random pairing of the RNA-Protein data.\n",
    "- b) \"no difference between groups\" - A: the difference in relations as strong as observed would not be seen from random assignement of patients to TB/crypto groups\n",
    "- c) \"no difference between groups and/or no structure\" - A: the relations as strong as observed would not come out from completely random data\n",
    "\n",
    "By rejecting the (a) null we can claim that the effects in the experimental measurement procedure which could be attributed to random factors and differ between RNA and Protein measurments of a single patient (e.g. the time delay in sequencing which results from the data being processed in two different centres) do not explain the observed relation.\n",
    "\n",
    "Ideally we would want to reject all three hypotheses, but not rejecting either (a) or (b) gives us a meaningful interpretation as well."
   ]
  },
  {
   "cell_type": "markdown",
   "metadata": {},
   "source": [
    "For sake of completness, further to the mentioned permutation scenarios we could reshufle RNA-protein assignment, but it is not obvious to me what would be the intepretation of such a test without making some additional assumptions."
   ]
  },
  {
   "cell_type": "markdown",
   "metadata": {},
   "source": [
    "#### Filtering by p-value from Spearmanr?"
   ]
  },
  {
   "cell_type": "markdown",
   "metadata": {},
   "source": [
    "One way to reduce the number of tests is to only consider significant correlations in the first place. However, there is dependence between such filtering and the filtering that we would like to do later on, thus in order to prevent having deflated FDR q-values I will not do that. On the other hand this could also inflate the p-values in permutation testing."
   ]
  },
  {
   "cell_type": "markdown",
   "metadata": {},
   "source": [
    "Importantly (according to the documentaiton) the p-values from `scipy.stats.spearmanr` are not reliable for datasets as small as our gene-wise RNA-protein correlations (< 40 observations each):\n",
    "\n",
    "> The p-values are not entirely reliable but are probably reasonable for datasets larger than 500 or so.\n",
    "[[source]](https://docs.scipy.org/doc/scipy/reference/generated/scipy.stats.spearmanr.html)"
   ]
  },
  {
   "cell_type": "markdown",
   "metadata": {},
   "source": [
    "#### Similar methods in other publications "
   ]
  },
  {
   "cell_type": "markdown",
   "metadata": {},
   "source": [
    "Literature search for methods that measure the change in correlation:\n",
    "- [\"Integrative analysis reveals disrupted pathways regulated by microRNAs in cancer\"](https://www.ncbi.nlm.nih.gov/pmc/articles/PMC5814839/#M1) makes use of:\n",
    " - absolute difference in the Spearman correlations\n",
    " - permutation tests (Equation 1, Table 1, Figure 1; Note: the figure is a very interesting inspiration for a cartoon!)\n",
    "- [\"Modelling high contentproteomics data in a signalling context\" thesis](https://www.ebi.ac.uk/sites/ebi.ac.uk/files/shared/documents/phdtheses/Terfve.pdf), pages 67-73:\n",
    " - uses absolute difference in Pearson correlations\n",
    " - names the figure 3.10 \"Comparative analysis of correlation patterns between [...]\" - sounds slightly better than \"differential correlations analysis\" to me.\n",
    " - interestingly, the author looks at correlations between proteins sharing a functional link (which could be a next step if this project was a PhD project).\n",
    " - significance testing on the level of individual correlations only\n",
    "- [\"Exceptional Model Mining\"](https://link.springer.com/content/pdf/10.1007/978-3-540-87481-2_1.pdf) explains a mathematical framework for correlation models in 3.1. They:\n",
    " - note the problem of the absolute correlations difference not accounting for the size of the group.\n",
    " - propose to use entrpy of the split, which is adequate to their modeling objective (search for two subgroups) but not to ours.\n",
    " - propose a significance measure for correlation difference: assuming bivariate normal distribution of correlation coefficients they use Fisher z-transform to make the data approximately normal and follow with standard p-value calculation procedure.\n",
    " \n",
    "This search was not exhaustive. Search terms: \"absolute correlation difference\", \"absolute correlations difference\", \"absolute difference of correlations\"."
   ]
  },
  {
   "cell_type": "code",
   "execution_count": 386,
   "metadata": {},
   "outputs": [],
   "source": [
    "from helpers.correlations.comparative import ComparativeCorrelations\n",
    "\n",
    "cm_tm_comparative = ComparativeCorrelations(\n",
    "    rna=rna_shared,\n",
    "    protein=protein_shared,\n",
    "    tb_patients=tb_patients,\n",
    "    cm_patients=cm_patients,\n",
    "    method=spearmanr,\n",
    "    genes_in_both=genes_in_both\n",
    ")"
   ]
  },
  {
   "cell_type": "markdown",
   "metadata": {},
   "source": [
    "Even with the permutation testing, effects of the \"perfect correlations\" from groups with very few patients with non-zero RNA data dominate the top results:"
   ]
  },
  {
   "cell_type": "code",
   "execution_count": 275,
   "metadata": {},
   "outputs": [],
   "source": [
    "p_adjust = partial(r_function, 'p.adjust')\n",
    "\n",
    "def compute_and_add_p_values(target, null, suffix='', fdr_method='BH'):\n",
    "    p_name = f'p_value{suffix}'\n",
    "    q_name = f'FDR{suffix}'\n",
    "    target = copy(target)\n",
    "    target[p_name] = null.gt(target['diff'], axis='rows').mean(axis='columns')\n",
    "    target[q_name] = p_adjust(target[p_name], fdr_method)\n",
    "    return target.sort_values(q_name)"
   ]
  },
  {
   "cell_type": "code",
   "execution_count": 279,
   "metadata": {},
   "outputs": [
    {
     "data": {
      "text/html": [
       "<div>\n",
       "<style scoped>\n",
       "    .dataframe tbody tr th:only-of-type {\n",
       "        vertical-align: middle;\n",
       "    }\n",
       "\n",
       "    .dataframe tbody tr th {\n",
       "        vertical-align: top;\n",
       "    }\n",
       "\n",
       "    .dataframe thead th {\n",
       "        text-align: right;\n",
       "    }\n",
       "</style>\n",
       "<table border=\"1\" class=\"dataframe\">\n",
       "  <thead>\n",
       "    <tr style=\"text-align: right;\">\n",
       "      <th></th>\n",
       "      <th>cm_correlation</th>\n",
       "      <th>tb_correlation</th>\n",
       "      <th>diff</th>\n",
       "      <th>mean_abundance</th>\n",
       "      <th>cross_abundance</th>\n",
       "      <th>...</th>\n",
       "      <th>cm_n</th>\n",
       "      <th>tb_n</th>\n",
       "      <th>cross_n</th>\n",
       "      <th>p_value.pairs</th>\n",
       "      <th>FDR.pairs</th>\n",
       "    </tr>\n",
       "    <tr>\n",
       "      <th>gene</th>\n",
       "      <th></th>\n",
       "      <th></th>\n",
       "      <th></th>\n",
       "      <th></th>\n",
       "      <th></th>\n",
       "      <th></th>\n",
       "      <th></th>\n",
       "      <th></th>\n",
       "      <th></th>\n",
       "      <th></th>\n",
       "      <th></th>\n",
       "    </tr>\n",
       "  </thead>\n",
       "  <tbody>\n",
       "    <tr>\n",
       "      <th>CA9</th>\n",
       "      <td>1.000000</td>\n",
       "      <td>-1.000000</td>\n",
       "      <td>2.000000</td>\n",
       "      <td>7.232411</td>\n",
       "      <td>10.476257</td>\n",
       "      <td>...</td>\n",
       "      <td>4</td>\n",
       "      <td>2</td>\n",
       "      <td>8</td>\n",
       "      <td>0.000</td>\n",
       "      <td>0.000000</td>\n",
       "    </tr>\n",
       "    <tr>\n",
       "      <th>FGB</th>\n",
       "      <td>-0.800000</td>\n",
       "      <td>1.000000</td>\n",
       "      <td>1.800000</td>\n",
       "      <td>26.125247</td>\n",
       "      <td>341.458704</td>\n",
       "      <td>...</td>\n",
       "      <td>5</td>\n",
       "      <td>2</td>\n",
       "      <td>10</td>\n",
       "      <td>0.000</td>\n",
       "      <td>0.000000</td>\n",
       "    </tr>\n",
       "    <tr>\n",
       "      <th>MMP1</th>\n",
       "      <td>0.800000</td>\n",
       "      <td>-1.000000</td>\n",
       "      <td>1.800000</td>\n",
       "      <td>9.977144</td>\n",
       "      <td>16.873110</td>\n",
       "      <td>...</td>\n",
       "      <td>4</td>\n",
       "      <td>2</td>\n",
       "      <td>8</td>\n",
       "      <td>0.000</td>\n",
       "      <td>0.000000</td>\n",
       "    </tr>\n",
       "    <tr>\n",
       "      <th>CNDP2</th>\n",
       "      <td>-0.019780</td>\n",
       "      <td>0.867857</td>\n",
       "      <td>0.887637</td>\n",
       "      <td>18.486985</td>\n",
       "      <td>216.616828</td>\n",
       "      <td>...</td>\n",
       "      <td>14</td>\n",
       "      <td>15</td>\n",
       "      <td>210</td>\n",
       "      <td>0.000</td>\n",
       "      <td>0.000000</td>\n",
       "    </tr>\n",
       "    <tr>\n",
       "      <th>MAP2K4</th>\n",
       "      <td>-0.604396</td>\n",
       "      <td>0.661538</td>\n",
       "      <td>1.265934</td>\n",
       "      <td>17.274548</td>\n",
       "      <td>344.637854</td>\n",
       "      <td>...</td>\n",
       "      <td>14</td>\n",
       "      <td>14</td>\n",
       "      <td>196</td>\n",
       "      <td>0.001</td>\n",
       "      <td>0.156375</td>\n",
       "    </tr>\n",
       "  </tbody>\n",
       "</table>\n",
       "<p>5 rows × 11 columns</p>\n",
       "</div>"
      ],
      "text/plain": [
       "        cm_correlation  tb_correlation      diff  mean_abundance  \\\n",
       "gene                                                               \n",
       "CA9           1.000000       -1.000000  2.000000        7.232411   \n",
       "FGB          -0.800000        1.000000  1.800000       26.125247   \n",
       "MMP1          0.800000       -1.000000  1.800000        9.977144   \n",
       "CNDP2        -0.019780        0.867857  0.887637       18.486985   \n",
       "MAP2K4       -0.604396        0.661538  1.265934       17.274548   \n",
       "\n",
       "        cross_abundance  ...  cm_n  tb_n  cross_n  p_value.pairs  FDR.pairs  \n",
       "gene                     ...                                                 \n",
       "CA9           10.476257  ...     4     2        8          0.000   0.000000  \n",
       "FGB          341.458704  ...     5     2       10          0.000   0.000000  \n",
       "MMP1          16.873110  ...     4     2        8          0.000   0.000000  \n",
       "CNDP2        216.616828  ...    14    15      210          0.000   0.000000  \n",
       "MAP2K4       344.637854  ...    14    14      196          0.001   0.156375  \n",
       "\n",
       "[5 rows x 11 columns]"
      ]
     },
     "execution_count": 279,
     "metadata": {},
     "output_type": "execute_result"
    }
   ],
   "source": [
    "absolute_diff_b = cm_tm_comparative.compute_null_distribution(\n",
    "    metric=absolute_correlation_difference,\n",
    "    constraint='omics-and-observation-pairs', n=1000\n",
    ")\n",
    "compute_and_add_p_values(cm_tm, absolute_diff_b, suffix='.pairs').head()"
   ]
  },
  {
   "cell_type": "markdown",
   "metadata": {},
   "source": [
    "Therefore the final metric includes weighting by the number of patients with detectable RNA trasncripts levels for specific gene:"
   ]
  },
  {
   "cell_type": "markdown",
   "metadata": {},
   "source": [
    "I aimed to choose a weight function $w$ which satisfies following objectives:\n",
    "  - I) down-weight genes with few patients in one of the groups\n",
    "  - II) up weight genes with more patients\n",
    "\n",
    "To address the aims I and II, two appraoches were considered: min(cm.n, tb.n) and $cm.n * tb.n$. The latter was chosen as the former does not satisfy II.\n",
    "\n",
    "Because multiplication of two positives, comparable numbers transforms the average number of patients from $n$ to $\\approx n^2$, to prevent the over-weightning of the genes expressed in large number of patients, a square root transfrom (sqrt) was introduced which is more natural in this setting than the log-transform (a popular alternative), because the two operations (multiplication and square root) compose into geometric mean."
   ]
  },
  {
   "cell_type": "markdown",
   "metadata": {},
   "source": [
    "Why geometric mean $\\sqrt{cm.n \\cdot tb.n}$ is better than arithmetic mean $\\frac{cm.n + tb.n}{2}$? See examples:\n",
    " - where one side has few expressed genes the former will give us 0, the latter some positive number (and we would prefer 0 as it shows how non-interpretable is the value).\n",
    " - consider two cases, both with 30 patients in total:\n",
    "     - 10, 20: mean = 15, sqrt(10*20) = 14.142135624\n",
    "     - 15, 15: mean = 15, sqrt(15*15) = 15\n",
    " \n",
    " As we would prefer to trust the second case, we can see another advantage of the geometric mean. Note: this is in a relation to the split entropy(?).\n",
    " \n",
    "More examples:\n",
    "- 2, 28: mean = 15, sqrt(2*28) = 7.483314774"
   ]
  },
  {
   "cell_type": "code",
   "execution_count": 314,
   "metadata": {},
   "outputs": [],
   "source": [
    "from math import sqrt\n",
    "\n",
    "def geometric_absolute_correlation_difference(cm, tb):\n",
    "    return (cm.correlation - tb.correlation).abs() * (cm.n * tb.n).apply(sqrt).apply(sqrt)"
   ]
  },
  {
   "cell_type": "code",
   "execution_count": 299,
   "metadata": {},
   "outputs": [
    {
     "data": {
      "application/vnd.jupyter.widget-view+json": {
       "model_id": "c7f0bfee463345c2be81493571a379a1",
       "version_major": 2,
       "version_minor": 0
      },
      "text/plain": [
       "HBox(children=(IntProgress(value=0), HTML(value='')))"
      ]
     },
     "metadata": {},
     "output_type": "display_data"
    }
   ],
   "source": [
    "geometric_absolute_diff_b = cm_tm_comparative.compute_null_distribution(\n",
    "    metric=geometric_absolute_correlation_difference,\n",
    "    constraint='omics-and-observation-pairs', n=100\n",
    ")"
   ]
  },
  {
   "cell_type": "code",
   "execution_count": 321,
   "metadata": {},
   "outputs": [
    {
     "data": {
      "text/html": [
       "<div>\n",
       "<style scoped>\n",
       "    .dataframe tbody tr th:only-of-type {\n",
       "        vertical-align: middle;\n",
       "    }\n",
       "\n",
       "    .dataframe tbody tr th {\n",
       "        vertical-align: top;\n",
       "    }\n",
       "\n",
       "    .dataframe thead th {\n",
       "        text-align: right;\n",
       "    }\n",
       "</style>\n",
       "<table border=\"1\" class=\"dataframe\">\n",
       "  <thead>\n",
       "    <tr style=\"text-align: right;\">\n",
       "      <th></th>\n",
       "      <th>cm_correlation</th>\n",
       "      <th>tb_correlation</th>\n",
       "      <th>diff</th>\n",
       "      <th>mean_abundance</th>\n",
       "      <th>cross_abundance</th>\n",
       "      <th>...</th>\n",
       "      <th>cm_n</th>\n",
       "      <th>tb_n</th>\n",
       "      <th>cross_n</th>\n",
       "      <th>p_value.pairs</th>\n",
       "      <th>FDR.pairs</th>\n",
       "    </tr>\n",
       "    <tr>\n",
       "      <th>gene</th>\n",
       "      <th></th>\n",
       "      <th></th>\n",
       "      <th></th>\n",
       "      <th></th>\n",
       "      <th></th>\n",
       "      <th></th>\n",
       "      <th></th>\n",
       "      <th></th>\n",
       "      <th></th>\n",
       "      <th></th>\n",
       "      <th></th>\n",
       "    </tr>\n",
       "  </thead>\n",
       "  <tbody>\n",
       "    <tr>\n",
       "      <th>CA9</th>\n",
       "      <td>1.000000</td>\n",
       "      <td>-1.0</td>\n",
       "      <td>2.000000</td>\n",
       "      <td>7.232411</td>\n",
       "      <td>10.476257</td>\n",
       "      <td>...</td>\n",
       "      <td>4</td>\n",
       "      <td>2</td>\n",
       "      <td>8</td>\n",
       "      <td>0.33</td>\n",
       "      <td>1.0</td>\n",
       "    </tr>\n",
       "    <tr>\n",
       "      <th>MMP1</th>\n",
       "      <td>0.800000</td>\n",
       "      <td>-1.0</td>\n",
       "      <td>1.800000</td>\n",
       "      <td>9.977144</td>\n",
       "      <td>16.873110</td>\n",
       "      <td>...</td>\n",
       "      <td>4</td>\n",
       "      <td>2</td>\n",
       "      <td>8</td>\n",
       "      <td>0.36</td>\n",
       "      <td>1.0</td>\n",
       "    </tr>\n",
       "    <tr>\n",
       "      <th>CST4</th>\n",
       "      <td>-0.500000</td>\n",
       "      <td>1.0</td>\n",
       "      <td>1.500000</td>\n",
       "      <td>3.043198</td>\n",
       "      <td>0.014540</td>\n",
       "      <td>...</td>\n",
       "      <td>3</td>\n",
       "      <td>3</td>\n",
       "      <td>9</td>\n",
       "      <td>0.42</td>\n",
       "      <td>1.0</td>\n",
       "    </tr>\n",
       "    <tr>\n",
       "      <th>CSRP3</th>\n",
       "      <td>0.542857</td>\n",
       "      <td>-1.0</td>\n",
       "      <td>1.542857</td>\n",
       "      <td>7.209161</td>\n",
       "      <td>2.993545</td>\n",
       "      <td>...</td>\n",
       "      <td>6</td>\n",
       "      <td>2</td>\n",
       "      <td>12</td>\n",
       "      <td>0.52</td>\n",
       "      <td>1.0</td>\n",
       "    </tr>\n",
       "    <tr>\n",
       "      <th>MMP12</th>\n",
       "      <td>0.464286</td>\n",
       "      <td>-1.0</td>\n",
       "      <td>1.464286</td>\n",
       "      <td>8.304737</td>\n",
       "      <td>9.746721</td>\n",
       "      <td>...</td>\n",
       "      <td>7</td>\n",
       "      <td>2</td>\n",
       "      <td>14</td>\n",
       "      <td>0.57</td>\n",
       "      <td>1.0</td>\n",
       "    </tr>\n",
       "  </tbody>\n",
       "</table>\n",
       "<p>5 rows × 11 columns</p>\n",
       "</div>"
      ],
      "text/plain": [
       "       cm_correlation  tb_correlation      diff  mean_abundance  \\\n",
       "gene                                                              \n",
       "CA9          1.000000            -1.0  2.000000        7.232411   \n",
       "MMP1         0.800000            -1.0  1.800000        9.977144   \n",
       "CST4        -0.500000             1.0  1.500000        3.043198   \n",
       "CSRP3        0.542857            -1.0  1.542857        7.209161   \n",
       "MMP12        0.464286            -1.0  1.464286        8.304737   \n",
       "\n",
       "       cross_abundance  ...  cm_n  tb_n  cross_n  p_value.pairs  FDR.pairs  \n",
       "gene                    ...                                                 \n",
       "CA9          10.476257  ...     4     2        8           0.33        1.0  \n",
       "MMP1         16.873110  ...     4     2        8           0.36        1.0  \n",
       "CST4          0.014540  ...     3     3        9           0.42        1.0  \n",
       "CSRP3         2.993545  ...     6     2       12           0.52        1.0  \n",
       "MMP12         9.746721  ...     7     2       14           0.57        1.0  \n",
       "\n",
       "[5 rows x 11 columns]"
      ]
     },
     "execution_count": 321,
     "metadata": {},
     "output_type": "execute_result"
    }
   ],
   "source": [
    "compute_and_add_p_values(cm_tm, geometric_absolute_diff_b, suffix='.pairs').sort_values('p_value.pairs').head()"
   ]
  },
  {
   "cell_type": "markdown",
   "metadata": {},
   "source": [
    "However, weighting by the geometric mean does not work with the permutation test algorithm because:\n",
    "- genes which are not expressed in most of the patients often get zero. If those are also perfectly correlated, the p-value defined as mean(observed > null) will be also zero (0 > 0 = False) for considerable number of cases.\n",
    "- for cases other than A, the $n$ changes. As $n$ changes, the $w$ result changes and influences the weighted correlation drastically.\n",
    "  - this is essentialy addition of another distribution being a function of total $n$ for each gene; we see a lot of \"noise\" originating from the number of measured transcripts, but rather than increasing stability of the $r$ with increasin $n$, it decreases it; this is the correct behaviour, but rather than helping us highlight the interesting genes, it highlights how weak unstable is the weightning function."
   ]
  },
  {
   "cell_type": "markdown",
   "metadata": {},
   "source": [
    "The normalization to the total $n$ available for the gene will solve stability isues, but make the weight invariant to the number of samples, thus making it's contribution similar to that of the entropy weighting."
   ]
  },
  {
   "cell_type": "markdown",
   "metadata": {},
   "source": [
    "$$w = \\frac{\\sqrt{cm.n \\cdot tb.n}}{cm.n + tb.n}$$"
   ]
  },
  {
   "cell_type": "code",
   "execution_count": 330,
   "metadata": {},
   "outputs": [],
   "source": [
    "def weighted_absolute_correlation_difference(cm, tb):\n",
    "    return (cm.correlation - tb.correlation).abs() * (cm.n * tb.n).apply(sqrt) / (cm.n + tb.n)"
   ]
  },
  {
   "cell_type": "code",
   "execution_count": 331,
   "metadata": {},
   "outputs": [
    {
     "data": {
      "application/vnd.jupyter.widget-view+json": {
       "model_id": "f0be0d438a034ef3823adcd850d7ca6c",
       "version_major": 2,
       "version_minor": 0
      },
      "text/plain": [
       "HBox(children=(IntProgress(value=0), HTML(value='')))"
      ]
     },
     "metadata": {},
     "output_type": "display_data"
    }
   ],
   "source": [
    "s_weighted_absolute_diff_b = cm_tm_comparative.compute_null_distribution(\n",
    "    metric=weighted_absolute_correlation_difference,\n",
    "    constraint='omics-and-observation-pairs', n=100\n",
    ")"
   ]
  },
  {
   "cell_type": "code",
   "execution_count": 374,
   "metadata": {},
   "outputs": [
    {
     "data": {
      "text/html": [
       "<div>\n",
       "<style scoped>\n",
       "    .dataframe tbody tr th:only-of-type {\n",
       "        vertical-align: middle;\n",
       "    }\n",
       "\n",
       "    .dataframe tbody tr th {\n",
       "        vertical-align: top;\n",
       "    }\n",
       "\n",
       "    .dataframe thead th {\n",
       "        text-align: right;\n",
       "    }\n",
       "</style>\n",
       "<table border=\"1\" class=\"dataframe\">\n",
       "  <thead>\n",
       "    <tr style=\"text-align: right;\">\n",
       "      <th></th>\n",
       "      <th>cm_correlation</th>\n",
       "      <th>tb_correlation</th>\n",
       "      <th>diff</th>\n",
       "      <th>mean_abundance</th>\n",
       "      <th>cross_abundance</th>\n",
       "      <th>...</th>\n",
       "      <th>cm_n</th>\n",
       "      <th>tb_n</th>\n",
       "      <th>cross_n</th>\n",
       "      <th>p_value.pairs</th>\n",
       "      <th>FDR.pairs</th>\n",
       "    </tr>\n",
       "    <tr>\n",
       "      <th>gene</th>\n",
       "      <th></th>\n",
       "      <th></th>\n",
       "      <th></th>\n",
       "      <th></th>\n",
       "      <th></th>\n",
       "      <th></th>\n",
       "      <th></th>\n",
       "      <th></th>\n",
       "      <th></th>\n",
       "      <th></th>\n",
       "      <th></th>\n",
       "    </tr>\n",
       "  </thead>\n",
       "  <tbody>\n",
       "    <tr>\n",
       "      <th>MPL</th>\n",
       "      <td>0.700000</td>\n",
       "      <td>-0.5</td>\n",
       "      <td>1.200000</td>\n",
       "      <td>2.607451</td>\n",
       "      <td>-0.087943</td>\n",
       "      <td>...</td>\n",
       "      <td>5</td>\n",
       "      <td>3</td>\n",
       "      <td>15</td>\n",
       "      <td>0.03</td>\n",
       "      <td>1.0</td>\n",
       "    </tr>\n",
       "    <tr>\n",
       "      <th>MMP12</th>\n",
       "      <td>0.464286</td>\n",
       "      <td>-1.0</td>\n",
       "      <td>1.464286</td>\n",
       "      <td>8.304737</td>\n",
       "      <td>9.746721</td>\n",
       "      <td>...</td>\n",
       "      <td>7</td>\n",
       "      <td>2</td>\n",
       "      <td>14</td>\n",
       "      <td>0.08</td>\n",
       "      <td>1.0</td>\n",
       "    </tr>\n",
       "    <tr>\n",
       "      <th>CA9</th>\n",
       "      <td>1.000000</td>\n",
       "      <td>-1.0</td>\n",
       "      <td>2.000000</td>\n",
       "      <td>7.232411</td>\n",
       "      <td>10.476257</td>\n",
       "      <td>...</td>\n",
       "      <td>4</td>\n",
       "      <td>2</td>\n",
       "      <td>8</td>\n",
       "      <td>0.09</td>\n",
       "      <td>1.0</td>\n",
       "    </tr>\n",
       "    <tr>\n",
       "      <th>MMP1</th>\n",
       "      <td>0.800000</td>\n",
       "      <td>-1.0</td>\n",
       "      <td>1.800000</td>\n",
       "      <td>9.977144</td>\n",
       "      <td>16.873110</td>\n",
       "      <td>...</td>\n",
       "      <td>4</td>\n",
       "      <td>2</td>\n",
       "      <td>8</td>\n",
       "      <td>0.13</td>\n",
       "      <td>1.0</td>\n",
       "    </tr>\n",
       "    <tr>\n",
       "      <th>CSRP3</th>\n",
       "      <td>0.542857</td>\n",
       "      <td>-1.0</td>\n",
       "      <td>1.542857</td>\n",
       "      <td>7.209161</td>\n",
       "      <td>2.993545</td>\n",
       "      <td>...</td>\n",
       "      <td>6</td>\n",
       "      <td>2</td>\n",
       "      <td>12</td>\n",
       "      <td>0.14</td>\n",
       "      <td>1.0</td>\n",
       "    </tr>\n",
       "  </tbody>\n",
       "</table>\n",
       "<p>5 rows × 11 columns</p>\n",
       "</div>"
      ],
      "text/plain": [
       "       cm_correlation  tb_correlation      diff  mean_abundance  \\\n",
       "gene                                                              \n",
       "MPL          0.700000            -0.5  1.200000        2.607451   \n",
       "MMP12        0.464286            -1.0  1.464286        8.304737   \n",
       "CA9          1.000000            -1.0  2.000000        7.232411   \n",
       "MMP1         0.800000            -1.0  1.800000        9.977144   \n",
       "CSRP3        0.542857            -1.0  1.542857        7.209161   \n",
       "\n",
       "       cross_abundance  ...  cm_n  tb_n  cross_n  p_value.pairs  FDR.pairs  \n",
       "gene                    ...                                                 \n",
       "MPL          -0.087943  ...     5     3       15           0.03        1.0  \n",
       "MMP12         9.746721  ...     7     2       14           0.08        1.0  \n",
       "CA9          10.476257  ...     4     2        8           0.09        1.0  \n",
       "MMP1         16.873110  ...     4     2        8           0.13        1.0  \n",
       "CSRP3         2.993545  ...     6     2       12           0.14        1.0  \n",
       "\n",
       "[5 rows x 11 columns]"
      ]
     },
     "execution_count": 374,
     "metadata": {},
     "output_type": "execute_result"
    }
   ],
   "source": [
    "compute_and_add_p_values(cm_tm, s_weighted_absolute_diff_b, suffix='.pairs').sort_values('p_value.pairs').head()"
   ]
  },
  {
   "cell_type": "code",
   "execution_count": 381,
   "metadata": {},
   "outputs": [],
   "source": [
    "from math import log2\n",
    "\n",
    "def entropy(cm_n, tb_n):\n",
    "    cm_n = cm_n.n + 0.1\n",
    "    tb_n = tb_n.n + 0.1\n",
    "    n = cm_n + tb_n\n",
    "    return -(- cm_n / (n) + Series(cm_n/n).apply(log2) - tb_n / (n) + Series(tb_n/n).apply(log2))"
   ]
  },
  {
   "cell_type": "code",
   "execution_count": 382,
   "metadata": {},
   "outputs": [
    {
     "data": {
      "application/vnd.jupyter.widget-view+json": {
       "model_id": "7154b7a27e79495688bba7d0f7eb80c1",
       "version_major": 2,
       "version_minor": 0
      },
      "text/plain": [
       "HBox(children=(IntProgress(value=0), HTML(value='')))"
      ]
     },
     "metadata": {},
     "output_type": "display_data"
    }
   ],
   "source": [
    "observation_pairs_O2 = cm_tm_comparative.compute_null_distribution(\n",
    "    metric=absolute_correlation_difference,\n",
    "    constraint='omics-and-observation-pairs', n=1000\n",
    ")"
   ]
  },
  {
   "cell_type": "code",
   "execution_count": 384,
   "metadata": {},
   "outputs": [
    {
     "data": {
      "text/html": [
       "<div>\n",
       "<style scoped>\n",
       "    .dataframe tbody tr th:only-of-type {\n",
       "        vertical-align: middle;\n",
       "    }\n",
       "\n",
       "    .dataframe tbody tr th {\n",
       "        vertical-align: top;\n",
       "    }\n",
       "\n",
       "    .dataframe thead th {\n",
       "        text-align: right;\n",
       "    }\n",
       "</style>\n",
       "<table border=\"1\" class=\"dataframe\">\n",
       "  <thead>\n",
       "    <tr style=\"text-align: right;\">\n",
       "      <th></th>\n",
       "      <th>cm_correlation</th>\n",
       "      <th>tb_correlation</th>\n",
       "      <th>diff</th>\n",
       "      <th>mean_abundance</th>\n",
       "      <th>cross_abundance</th>\n",
       "      <th>...</th>\n",
       "      <th>cm_n</th>\n",
       "      <th>tb_n</th>\n",
       "      <th>cross_n</th>\n",
       "      <th>p_value.pairs</th>\n",
       "      <th>FDR.pairs</th>\n",
       "    </tr>\n",
       "    <tr>\n",
       "      <th>gene</th>\n",
       "      <th></th>\n",
       "      <th></th>\n",
       "      <th></th>\n",
       "      <th></th>\n",
       "      <th></th>\n",
       "      <th></th>\n",
       "      <th></th>\n",
       "      <th></th>\n",
       "      <th></th>\n",
       "      <th></th>\n",
       "      <th></th>\n",
       "    </tr>\n",
       "  </thead>\n",
       "  <tbody>\n",
       "    <tr>\n",
       "      <th>CA9</th>\n",
       "      <td>1.000000</td>\n",
       "      <td>-1.000000</td>\n",
       "      <td>2.000000</td>\n",
       "      <td>7.232411</td>\n",
       "      <td>10.476257</td>\n",
       "      <td>...</td>\n",
       "      <td>4</td>\n",
       "      <td>2</td>\n",
       "      <td>8</td>\n",
       "      <td>1.0</td>\n",
       "      <td>1.0</td>\n",
       "    </tr>\n",
       "    <tr>\n",
       "      <th>EFNA2</th>\n",
       "      <td>0.800000</td>\n",
       "      <td>-1.000000</td>\n",
       "      <td>1.800000</td>\n",
       "      <td>20.737359</td>\n",
       "      <td>218.871458</td>\n",
       "      <td>...</td>\n",
       "      <td>4</td>\n",
       "      <td>2</td>\n",
       "      <td>8</td>\n",
       "      <td>1.0</td>\n",
       "      <td>1.0</td>\n",
       "    </tr>\n",
       "    <tr>\n",
       "      <th>FGB</th>\n",
       "      <td>-0.800000</td>\n",
       "      <td>1.000000</td>\n",
       "      <td>1.800000</td>\n",
       "      <td>26.125247</td>\n",
       "      <td>341.458704</td>\n",
       "      <td>...</td>\n",
       "      <td>5</td>\n",
       "      <td>2</td>\n",
       "      <td>10</td>\n",
       "      <td>1.0</td>\n",
       "      <td>1.0</td>\n",
       "    </tr>\n",
       "    <tr>\n",
       "      <th>MMP1</th>\n",
       "      <td>0.800000</td>\n",
       "      <td>-1.000000</td>\n",
       "      <td>1.800000</td>\n",
       "      <td>9.977144</td>\n",
       "      <td>16.873110</td>\n",
       "      <td>...</td>\n",
       "      <td>4</td>\n",
       "      <td>2</td>\n",
       "      <td>8</td>\n",
       "      <td>1.0</td>\n",
       "      <td>1.0</td>\n",
       "    </tr>\n",
       "    <tr>\n",
       "      <th>LGALS7</th>\n",
       "      <td>-0.700000</td>\n",
       "      <td>1.000000</td>\n",
       "      <td>1.700000</td>\n",
       "      <td>6.060448</td>\n",
       "      <td>3.733240</td>\n",
       "      <td>...</td>\n",
       "      <td>5</td>\n",
       "      <td>2</td>\n",
       "      <td>10</td>\n",
       "      <td>1.0</td>\n",
       "      <td>1.0</td>\n",
       "    </tr>\n",
       "    <tr>\n",
       "      <th>...</th>\n",
       "      <td>...</td>\n",
       "      <td>...</td>\n",
       "      <td>...</td>\n",
       "      <td>...</td>\n",
       "      <td>...</td>\n",
       "      <td>...</td>\n",
       "      <td>...</td>\n",
       "      <td>...</td>\n",
       "      <td>...</td>\n",
       "      <td>...</td>\n",
       "      <td>...</td>\n",
       "    </tr>\n",
       "    <tr>\n",
       "      <th>CRP</th>\n",
       "      <td>-0.672727</td>\n",
       "      <td>0.430303</td>\n",
       "      <td>1.103030</td>\n",
       "      <td>24.111738</td>\n",
       "      <td>481.789275</td>\n",
       "      <td>...</td>\n",
       "      <td>10</td>\n",
       "      <td>10</td>\n",
       "      <td>100</td>\n",
       "      <td>1.0</td>\n",
       "      <td>1.0</td>\n",
       "    </tr>\n",
       "    <tr>\n",
       "      <th>NCR3</th>\n",
       "      <td>-0.318182</td>\n",
       "      <td>0.772727</td>\n",
       "      <td>1.090909</td>\n",
       "      <td>8.818941</td>\n",
       "      <td>22.936674</td>\n",
       "      <td>...</td>\n",
       "      <td>11</td>\n",
       "      <td>11</td>\n",
       "      <td>121</td>\n",
       "      <td>1.0</td>\n",
       "      <td>1.0</td>\n",
       "    </tr>\n",
       "    <tr>\n",
       "      <th>TNFRSF8</th>\n",
       "      <td>0.424176</td>\n",
       "      <td>-0.661538</td>\n",
       "      <td>1.085714</td>\n",
       "      <td>13.856433</td>\n",
       "      <td>140.417451</td>\n",
       "      <td>...</td>\n",
       "      <td>14</td>\n",
       "      <td>14</td>\n",
       "      <td>196</td>\n",
       "      <td>1.0</td>\n",
       "      <td>1.0</td>\n",
       "    </tr>\n",
       "    <tr>\n",
       "      <th>HIST1H3A</th>\n",
       "      <td>0.833333</td>\n",
       "      <td>-0.250000</td>\n",
       "      <td>1.083333</td>\n",
       "      <td>15.560678</td>\n",
       "      <td>161.636508</td>\n",
       "      <td>...</td>\n",
       "      <td>8</td>\n",
       "      <td>9</td>\n",
       "      <td>72</td>\n",
       "      <td>1.0</td>\n",
       "      <td>1.0</td>\n",
       "    </tr>\n",
       "    <tr>\n",
       "      <th>CXCL10</th>\n",
       "      <td>-0.516667</td>\n",
       "      <td>0.563636</td>\n",
       "      <td>1.080303</td>\n",
       "      <td>27.017643</td>\n",
       "      <td>1491.798730</td>\n",
       "      <td>...</td>\n",
       "      <td>9</td>\n",
       "      <td>10</td>\n",
       "      <td>90</td>\n",
       "      <td>1.0</td>\n",
       "      <td>1.0</td>\n",
       "    </tr>\n",
       "  </tbody>\n",
       "</table>\n",
       "<p>40 rows × 11 columns</p>\n",
       "</div>"
      ],
      "text/plain": [
       "          cm_correlation  tb_correlation      diff  mean_abundance  \\\n",
       "gene                                                                 \n",
       "CA9             1.000000       -1.000000  2.000000        7.232411   \n",
       "EFNA2           0.800000       -1.000000  1.800000       20.737359   \n",
       "FGB            -0.800000        1.000000  1.800000       26.125247   \n",
       "MMP1            0.800000       -1.000000  1.800000        9.977144   \n",
       "LGALS7         -0.700000        1.000000  1.700000        6.060448   \n",
       "...                  ...             ...       ...             ...   \n",
       "CRP            -0.672727        0.430303  1.103030       24.111738   \n",
       "NCR3           -0.318182        0.772727  1.090909        8.818941   \n",
       "TNFRSF8         0.424176       -0.661538  1.085714       13.856433   \n",
       "HIST1H3A        0.833333       -0.250000  1.083333       15.560678   \n",
       "CXCL10         -0.516667        0.563636  1.080303       27.017643   \n",
       "\n",
       "          cross_abundance  ...  cm_n  tb_n  cross_n  p_value.pairs  FDR.pairs  \n",
       "gene                       ...                                                 \n",
       "CA9             10.476257  ...     4     2        8            1.0        1.0  \n",
       "EFNA2          218.871458  ...     4     2        8            1.0        1.0  \n",
       "FGB            341.458704  ...     5     2       10            1.0        1.0  \n",
       "MMP1            16.873110  ...     4     2        8            1.0        1.0  \n",
       "LGALS7           3.733240  ...     5     2       10            1.0        1.0  \n",
       "...                   ...  ...   ...   ...      ...            ...        ...  \n",
       "CRP            481.789275  ...    10    10      100            1.0        1.0  \n",
       "NCR3            22.936674  ...    11    11      121            1.0        1.0  \n",
       "TNFRSF8        140.417451  ...    14    14      196            1.0        1.0  \n",
       "HIST1H3A       161.636508  ...     8     9       72            1.0        1.0  \n",
       "CXCL10        1491.798730  ...     9    10       90            1.0        1.0  \n",
       "\n",
       "[40 rows x 11 columns]"
      ]
     },
     "execution_count": 384,
     "metadata": {},
     "output_type": "execute_result"
    }
   ],
   "source": [
    "compute_and_add_p_values(cm_tm, entropy_diff_b, suffix='.pairs').sort_values('p_value.pairs').head(40)"
   ]
  },
  {
   "cell_type": "code",
   "execution_count": null,
   "metadata": {},
   "outputs": [
    {
     "data": {
      "application/vnd.jupyter.widget-view+json": {
       "model_id": "8598cbaea0dc48e9a56e177dffedfdfb",
       "version_major": 2,
       "version_minor": 0
      },
      "text/plain": [
       "HBox(children=(IntProgress(value=0, max=8000), HTML(value='')))"
      ]
     },
     "metadata": {},
     "output_type": "display_data"
    }
   ],
   "source": [
    "only_observation_pairs = cm_tm_comparative.compute_null_distribution(\n",
    "    metric=absolute_correlation_difference,\n",
    "    constraint='omics-and-observation-pairs', n=8000\n",
    ")"
   ]
  },
  {
   "cell_type": "code",
   "execution_count": null,
   "metadata": {},
   "outputs": [],
   "source": [
    "only_observation_pairs_2 = cm_tm_comparative.compute_null_distribution(\n",
    "    metric=absolute_correlation_difference,\n",
    "    constraint='omics-and-observation-pairs', n=2000\n",
    ")"
   ]
  },
  {
   "cell_type": "code",
   "execution_count": null,
   "metadata": {},
   "outputs": [],
   "source": [
    "null_path = 'data/integration/correlations/diff_null_distribution/'\n",
    "Path(null_path).mkdir(parents_ok=True, exist_ok=True)\n",
    "only_observation_pairs.to_csv(null_path + 'keep_omics_and_observation_pairs.csv.gz')"
   ]
  },
  {
   "cell_type": "code",
   "execution_count": 393,
   "metadata": {},
   "outputs": [
    {
     "data": {
      "application/vnd.jupyter.widget-view+json": {
       "model_id": "3f58b64ae86e4c9fb037e42f63a08d30",
       "version_major": 2,
       "version_minor": 0
      },
      "text/plain": [
       "HBox(children=(IntProgress(value=0, max=9000), HTML(value='')))"
      ]
     },
     "metadata": {},
     "output_type": "display_data"
    }
   ],
   "source": [
    "only_omics_9 = cm_tm_comparative.compute_null_distribution(\n",
    "    metric=absolute_correlation_difference,\n",
    "    constraint='omics', n=9000\n",
    ")"
   ]
  },
  {
   "cell_type": "code",
   "execution_count": 388,
   "metadata": {},
   "outputs": [
    {
     "data": {
      "application/vnd.jupyter.widget-view+json": {
       "model_id": "fe37c9d4f4a34001a5077f319524c750",
       "version_major": 2,
       "version_minor": 0
      },
      "text/plain": [
       "HBox(children=(IntProgress(value=0, max=1000), HTML(value='')))"
      ]
     },
     "metadata": {},
     "output_type": "display_data"
    }
   ],
   "source": [
    "only_omics = cm_tm_comparative.compute_null_distribution(\n",
    "    metric=absolute_correlation_difference,\n",
    "    constraint='omics', n=1000\n",
    ")"
   ]
  },
  {
   "cell_type": "code",
   "execution_count": null,
   "metadata": {},
   "outputs": [],
   "source": [
    "only_omics_1 = only_omics"
   ]
  },
  {
   "cell_type": "code",
   "execution_count": null,
   "metadata": {},
   "outputs": [],
   "source": [
    "only_omics = pd.concat([only_omics, only_omics_9], axis=1)"
   ]
  },
  {
   "cell_type": "code",
   "execution_count": null,
   "metadata": {},
   "outputs": [],
   "source": [
    "only_omics.to_csv(null_path + 'keep_omics.csv.gz')"
   ]
  },
  {
   "cell_type": "code",
   "execution_count": 392,
   "metadata": {},
   "outputs": [
    {
     "data": {
      "text/html": [
       "<div>\n",
       "<style scoped>\n",
       "    .dataframe tbody tr th:only-of-type {\n",
       "        vertical-align: middle;\n",
       "    }\n",
       "\n",
       "    .dataframe tbody tr th {\n",
       "        vertical-align: top;\n",
       "    }\n",
       "\n",
       "    .dataframe thead th {\n",
       "        text-align: right;\n",
       "    }\n",
       "</style>\n",
       "<table border=\"1\" class=\"dataframe\">\n",
       "  <thead>\n",
       "    <tr style=\"text-align: right;\">\n",
       "      <th></th>\n",
       "      <th>cm_correlation</th>\n",
       "      <th>tb_correlation</th>\n",
       "      <th>diff</th>\n",
       "      <th>mean_abundance</th>\n",
       "      <th>cross_abundance</th>\n",
       "      <th>...</th>\n",
       "      <th>cm_n</th>\n",
       "      <th>tb_n</th>\n",
       "      <th>cross_n</th>\n",
       "      <th>p_value.pairs</th>\n",
       "      <th>FDR.pairs</th>\n",
       "    </tr>\n",
       "    <tr>\n",
       "      <th>gene</th>\n",
       "      <th></th>\n",
       "      <th></th>\n",
       "      <th></th>\n",
       "      <th></th>\n",
       "      <th></th>\n",
       "      <th></th>\n",
       "      <th></th>\n",
       "      <th></th>\n",
       "      <th></th>\n",
       "      <th></th>\n",
       "      <th></th>\n",
       "    </tr>\n",
       "  </thead>\n",
       "  <tbody>\n",
       "    <tr>\n",
       "      <th>CA9</th>\n",
       "      <td>1.000000</td>\n",
       "      <td>-1.000000</td>\n",
       "      <td>2.000000</td>\n",
       "      <td>7.232411</td>\n",
       "      <td>10.476257</td>\n",
       "      <td>...</td>\n",
       "      <td>4</td>\n",
       "      <td>2</td>\n",
       "      <td>8</td>\n",
       "      <td>0.000</td>\n",
       "      <td>0.0000</td>\n",
       "    </tr>\n",
       "    <tr>\n",
       "      <th>FGB</th>\n",
       "      <td>-0.800000</td>\n",
       "      <td>1.000000</td>\n",
       "      <td>1.800000</td>\n",
       "      <td>26.125247</td>\n",
       "      <td>341.458704</td>\n",
       "      <td>...</td>\n",
       "      <td>5</td>\n",
       "      <td>2</td>\n",
       "      <td>10</td>\n",
       "      <td>0.000</td>\n",
       "      <td>0.0000</td>\n",
       "    </tr>\n",
       "    <tr>\n",
       "      <th>MMP1</th>\n",
       "      <td>0.800000</td>\n",
       "      <td>-1.000000</td>\n",
       "      <td>1.800000</td>\n",
       "      <td>9.977144</td>\n",
       "      <td>16.873110</td>\n",
       "      <td>...</td>\n",
       "      <td>4</td>\n",
       "      <td>2</td>\n",
       "      <td>8</td>\n",
       "      <td>0.000</td>\n",
       "      <td>0.0000</td>\n",
       "    </tr>\n",
       "    <tr>\n",
       "      <th>MATN3</th>\n",
       "      <td>0.633333</td>\n",
       "      <td>-0.666667</td>\n",
       "      <td>1.300000</td>\n",
       "      <td>6.432070</td>\n",
       "      <td>6.235444</td>\n",
       "      <td>...</td>\n",
       "      <td>9</td>\n",
       "      <td>8</td>\n",
       "      <td>72</td>\n",
       "      <td>0.000</td>\n",
       "      <td>0.0000</td>\n",
       "    </tr>\n",
       "    <tr>\n",
       "      <th>STAT1</th>\n",
       "      <td>-0.367033</td>\n",
       "      <td>0.757143</td>\n",
       "      <td>1.124176</td>\n",
       "      <td>28.416894</td>\n",
       "      <td>1734.926398</td>\n",
       "      <td>...</td>\n",
       "      <td>14</td>\n",
       "      <td>15</td>\n",
       "      <td>210</td>\n",
       "      <td>0.000</td>\n",
       "      <td>0.0000</td>\n",
       "    </tr>\n",
       "    <tr>\n",
       "      <th>NRG1</th>\n",
       "      <td>-0.576923</td>\n",
       "      <td>0.467033</td>\n",
       "      <td>1.043956</td>\n",
       "      <td>9.438778</td>\n",
       "      <td>10.419668</td>\n",
       "      <td>...</td>\n",
       "      <td>13</td>\n",
       "      <td>13</td>\n",
       "      <td>169</td>\n",
       "      <td>0.000</td>\n",
       "      <td>0.0000</td>\n",
       "    </tr>\n",
       "    <tr>\n",
       "      <th>MAP2K4</th>\n",
       "      <td>-0.604396</td>\n",
       "      <td>0.661538</td>\n",
       "      <td>1.265934</td>\n",
       "      <td>17.274548</td>\n",
       "      <td>344.637854</td>\n",
       "      <td>...</td>\n",
       "      <td>14</td>\n",
       "      <td>14</td>\n",
       "      <td>196</td>\n",
       "      <td>0.001</td>\n",
       "      <td>0.1251</td>\n",
       "    </tr>\n",
       "    <tr>\n",
       "      <th>KPNB1</th>\n",
       "      <td>-0.459341</td>\n",
       "      <td>0.732143</td>\n",
       "      <td>1.191484</td>\n",
       "      <td>29.429276</td>\n",
       "      <td>2881.055951</td>\n",
       "      <td>...</td>\n",
       "      <td>14</td>\n",
       "      <td>15</td>\n",
       "      <td>210</td>\n",
       "      <td>0.001</td>\n",
       "      <td>0.1251</td>\n",
       "    </tr>\n",
       "    <tr>\n",
       "      <th>RASA1</th>\n",
       "      <td>-0.380220</td>\n",
       "      <td>0.778571</td>\n",
       "      <td>1.158791</td>\n",
       "      <td>16.333897</td>\n",
       "      <td>184.484078</td>\n",
       "      <td>...</td>\n",
       "      <td>14</td>\n",
       "      <td>15</td>\n",
       "      <td>210</td>\n",
       "      <td>0.001</td>\n",
       "      <td>0.1251</td>\n",
       "    </tr>\n",
       "    <tr>\n",
       "      <th>TNFRSF8</th>\n",
       "      <td>0.424176</td>\n",
       "      <td>-0.661538</td>\n",
       "      <td>1.085714</td>\n",
       "      <td>13.856433</td>\n",
       "      <td>140.417451</td>\n",
       "      <td>...</td>\n",
       "      <td>14</td>\n",
       "      <td>14</td>\n",
       "      <td>196</td>\n",
       "      <td>0.001</td>\n",
       "      <td>0.1251</td>\n",
       "    </tr>\n",
       "  </tbody>\n",
       "</table>\n",
       "<p>10 rows × 11 columns</p>\n",
       "</div>"
      ],
      "text/plain": [
       "         cm_correlation  tb_correlation      diff  mean_abundance  \\\n",
       "gene                                                                \n",
       "CA9            1.000000       -1.000000  2.000000        7.232411   \n",
       "FGB           -0.800000        1.000000  1.800000       26.125247   \n",
       "MMP1           0.800000       -1.000000  1.800000        9.977144   \n",
       "MATN3          0.633333       -0.666667  1.300000        6.432070   \n",
       "STAT1         -0.367033        0.757143  1.124176       28.416894   \n",
       "NRG1          -0.576923        0.467033  1.043956        9.438778   \n",
       "MAP2K4        -0.604396        0.661538  1.265934       17.274548   \n",
       "KPNB1         -0.459341        0.732143  1.191484       29.429276   \n",
       "RASA1         -0.380220        0.778571  1.158791       16.333897   \n",
       "TNFRSF8        0.424176       -0.661538  1.085714       13.856433   \n",
       "\n",
       "         cross_abundance  ...  cm_n  tb_n  cross_n  p_value.pairs  FDR.pairs  \n",
       "gene                      ...                                                 \n",
       "CA9            10.476257  ...     4     2        8          0.000     0.0000  \n",
       "FGB           341.458704  ...     5     2       10          0.000     0.0000  \n",
       "MMP1           16.873110  ...     4     2        8          0.000     0.0000  \n",
       "MATN3           6.235444  ...     9     8       72          0.000     0.0000  \n",
       "STAT1        1734.926398  ...    14    15      210          0.000     0.0000  \n",
       "NRG1           10.419668  ...    13    13      169          0.000     0.0000  \n",
       "MAP2K4        344.637854  ...    14    14      196          0.001     0.1251  \n",
       "KPNB1        2881.055951  ...    14    15      210          0.001     0.1251  \n",
       "RASA1         184.484078  ...    14    15      210          0.001     0.1251  \n",
       "TNFRSF8       140.417451  ...    14    14      196          0.001     0.1251  \n",
       "\n",
       "[10 rows x 11 columns]"
      ]
     },
     "execution_count": 392,
     "metadata": {},
     "output_type": "execute_result"
    }
   ],
   "source": [
    "compute_and_add_p_values(cm_tm, only_omics, suffix='.pairs').sort_values('p_value.pairs').head(10)"
   ]
  },
  {
   "cell_type": "code",
   "execution_count": 199,
   "metadata": {},
   "outputs": [],
   "source": [
    "ng = read_csv('null_diff.csv', index_col=0)"
   ]
  },
  {
   "cell_type": "code",
   "execution_count": 201,
   "metadata": {},
   "outputs": [],
   "source": [
    "null_a_diff = pd.concat([ng, nk], axis=1)"
   ]
  },
  {
   "cell_type": "code",
   "execution_count": 202,
   "metadata": {},
   "outputs": [],
   "source": [
    "null_a_diff.to_csv('null_a_diff.csv')"
   ]
  },
  {
   "cell_type": "code",
   "execution_count": 240,
   "metadata": {},
   "outputs": [
    {
     "data": {
      "text/html": [
       "<div>\n",
       "<style scoped>\n",
       "    .dataframe tbody tr th:only-of-type {\n",
       "        vertical-align: middle;\n",
       "    }\n",
       "\n",
       "    .dataframe tbody tr th {\n",
       "        vertical-align: top;\n",
       "    }\n",
       "\n",
       "    .dataframe thead th {\n",
       "        text-align: right;\n",
       "    }\n",
       "</style>\n",
       "<table border=\"1\" class=\"dataframe\">\n",
       "  <thead>\n",
       "    <tr style=\"text-align: right;\">\n",
       "      <th></th>\n",
       "      <th>correlation</th>\n",
       "      <th>correlation</th>\n",
       "      <th>correlation</th>\n",
       "      <th>correlation</th>\n",
       "      <th>correlation</th>\n",
       "      <th>...</th>\n",
       "      <th>correlation</th>\n",
       "      <th>correlation</th>\n",
       "      <th>correlation</th>\n",
       "      <th>correlation</th>\n",
       "      <th>correlation</th>\n",
       "    </tr>\n",
       "    <tr>\n",
       "      <th>gene</th>\n",
       "      <th></th>\n",
       "      <th></th>\n",
       "      <th></th>\n",
       "      <th></th>\n",
       "      <th></th>\n",
       "      <th></th>\n",
       "      <th></th>\n",
       "      <th></th>\n",
       "      <th></th>\n",
       "      <th></th>\n",
       "      <th></th>\n",
       "    </tr>\n",
       "  </thead>\n",
       "  <tbody>\n",
       "    <tr>\n",
       "      <th>FGR</th>\n",
       "      <td>0.219231</td>\n",
       "      <td>0.128846</td>\n",
       "      <td>0.190934</td>\n",
       "      <td>0.118956</td>\n",
       "      <td>0.204396</td>\n",
       "      <td>...</td>\n",
       "      <td>0.184341</td>\n",
       "      <td>0.175000</td>\n",
       "      <td>0.058242</td>\n",
       "      <td>0.224725</td>\n",
       "      <td>0.456044</td>\n",
       "    </tr>\n",
       "    <tr>\n",
       "      <th>CFH</th>\n",
       "      <td>0.175524</td>\n",
       "      <td>0.151748</td>\n",
       "      <td>0.516084</td>\n",
       "      <td>0.319580</td>\n",
       "      <td>0.169231</td>\n",
       "      <td>...</td>\n",
       "      <td>0.806294</td>\n",
       "      <td>0.397902</td>\n",
       "      <td>0.364336</td>\n",
       "      <td>0.167133</td>\n",
       "      <td>0.667832</td>\n",
       "    </tr>\n",
       "    <tr>\n",
       "      <th>BAD</th>\n",
       "      <td>0.270862</td>\n",
       "      <td>0.517016</td>\n",
       "      <td>0.039627</td>\n",
       "      <td>0.362238</td>\n",
       "      <td>0.501166</td>\n",
       "      <td>...</td>\n",
       "      <td>0.378555</td>\n",
       "      <td>0.378089</td>\n",
       "      <td>0.689510</td>\n",
       "      <td>0.158974</td>\n",
       "      <td>0.027506</td>\n",
       "    </tr>\n",
       "    <tr>\n",
       "      <th>CASP10</th>\n",
       "      <td>0.210989</td>\n",
       "      <td>0.093407</td>\n",
       "      <td>0.851648</td>\n",
       "      <td>0.073626</td>\n",
       "      <td>0.175824</td>\n",
       "      <td>...</td>\n",
       "      <td>0.225275</td>\n",
       "      <td>0.326374</td>\n",
       "      <td>0.294505</td>\n",
       "      <td>0.539560</td>\n",
       "      <td>0.028571</td>\n",
       "    </tr>\n",
       "    <tr>\n",
       "      <th>TFPI</th>\n",
       "      <td>0.187812</td>\n",
       "      <td>0.049351</td>\n",
       "      <td>0.071728</td>\n",
       "      <td>0.126074</td>\n",
       "      <td>0.334466</td>\n",
       "      <td>...</td>\n",
       "      <td>1.228372</td>\n",
       "      <td>0.511489</td>\n",
       "      <td>0.196204</td>\n",
       "      <td>0.103696</td>\n",
       "      <td>0.171229</td>\n",
       "    </tr>\n",
       "    <tr>\n",
       "      <th>...</th>\n",
       "      <td>...</td>\n",
       "      <td>...</td>\n",
       "      <td>...</td>\n",
       "      <td>...</td>\n",
       "      <td>...</td>\n",
       "      <td>...</td>\n",
       "      <td>...</td>\n",
       "      <td>...</td>\n",
       "      <td>...</td>\n",
       "      <td>...</td>\n",
       "      <td>...</td>\n",
       "    </tr>\n",
       "    <tr>\n",
       "      <th>CCL14</th>\n",
       "      <td>0.781319</td>\n",
       "      <td>0.081868</td>\n",
       "      <td>0.049634</td>\n",
       "      <td>0.139560</td>\n",
       "      <td>0.539194</td>\n",
       "      <td>...</td>\n",
       "      <td>0.723443</td>\n",
       "      <td>0.347253</td>\n",
       "      <td>0.584982</td>\n",
       "      <td>0.117033</td>\n",
       "      <td>0.511905</td>\n",
       "    </tr>\n",
       "    <tr>\n",
       "      <th>CCL3</th>\n",
       "      <td>0.057343</td>\n",
       "      <td>0.939860</td>\n",
       "      <td>0.305594</td>\n",
       "      <td>0.540559</td>\n",
       "      <td>0.244056</td>\n",
       "      <td>...</td>\n",
       "      <td>0.205594</td>\n",
       "      <td>0.197902</td>\n",
       "      <td>0.565734</td>\n",
       "      <td>0.369231</td>\n",
       "      <td>0.260140</td>\n",
       "    </tr>\n",
       "    <tr>\n",
       "      <th>HIST1H3F</th>\n",
       "      <td>0.278788</td>\n",
       "      <td>0.012121</td>\n",
       "      <td>0.303030</td>\n",
       "      <td>0.048485</td>\n",
       "      <td>0.036364</td>\n",
       "      <td>...</td>\n",
       "      <td>0.387879</td>\n",
       "      <td>0.242424</td>\n",
       "      <td>0.145455</td>\n",
       "      <td>0.036364</td>\n",
       "      <td>0.121212</td>\n",
       "    </tr>\n",
       "    <tr>\n",
       "      <th>HIST1H3C</th>\n",
       "      <td>0.899600</td>\n",
       "      <td>0.451548</td>\n",
       "      <td>0.066434</td>\n",
       "      <td>0.059441</td>\n",
       "      <td>0.175325</td>\n",
       "      <td>...</td>\n",
       "      <td>0.216783</td>\n",
       "      <td>0.155844</td>\n",
       "      <td>0.368631</td>\n",
       "      <td>0.028971</td>\n",
       "      <td>0.246254</td>\n",
       "    </tr>\n",
       "    <tr>\n",
       "      <th>HIST1H3H</th>\n",
       "      <td>0.447752</td>\n",
       "      <td>0.782617</td>\n",
       "      <td>0.406993</td>\n",
       "      <td>0.414186</td>\n",
       "      <td>0.148252</td>\n",
       "      <td>...</td>\n",
       "      <td>0.281718</td>\n",
       "      <td>0.644955</td>\n",
       "      <td>0.269730</td>\n",
       "      <td>0.033167</td>\n",
       "      <td>0.300699</td>\n",
       "    </tr>\n",
       "  </tbody>\n",
       "</table>\n",
       "<p>1255 rows × 3500 columns</p>\n",
       "</div>"
      ],
      "text/plain": [
       "          correlation  correlation  correlation  correlation  correlation  \\\n",
       "gene                                                                        \n",
       "FGR          0.219231     0.128846     0.190934     0.118956     0.204396   \n",
       "CFH          0.175524     0.151748     0.516084     0.319580     0.169231   \n",
       "BAD          0.270862     0.517016     0.039627     0.362238     0.501166   \n",
       "CASP10       0.210989     0.093407     0.851648     0.073626     0.175824   \n",
       "TFPI         0.187812     0.049351     0.071728     0.126074     0.334466   \n",
       "...               ...          ...          ...          ...          ...   \n",
       "CCL14        0.781319     0.081868     0.049634     0.139560     0.539194   \n",
       "CCL3         0.057343     0.939860     0.305594     0.540559     0.244056   \n",
       "HIST1H3F     0.278788     0.012121     0.303030     0.048485     0.036364   \n",
       "HIST1H3C     0.899600     0.451548     0.066434     0.059441     0.175325   \n",
       "HIST1H3H     0.447752     0.782617     0.406993     0.414186     0.148252   \n",
       "\n",
       "          ...  correlation  correlation  correlation  correlation  correlation  \n",
       "gene      ...                                                                   \n",
       "FGR       ...     0.184341     0.175000     0.058242     0.224725     0.456044  \n",
       "CFH       ...     0.806294     0.397902     0.364336     0.167133     0.667832  \n",
       "BAD       ...     0.378555     0.378089     0.689510     0.158974     0.027506  \n",
       "CASP10    ...     0.225275     0.326374     0.294505     0.539560     0.028571  \n",
       "TFPI      ...     1.228372     0.511489     0.196204     0.103696     0.171229  \n",
       "...       ...          ...          ...          ...          ...          ...  \n",
       "CCL14     ...     0.723443     0.347253     0.584982     0.117033     0.511905  \n",
       "CCL3      ...     0.205594     0.197902     0.565734     0.369231     0.260140  \n",
       "HIST1H3F  ...     0.387879     0.242424     0.145455     0.036364     0.121212  \n",
       "HIST1H3C  ...     0.216783     0.155844     0.368631     0.028971     0.246254  \n",
       "HIST1H3H  ...     0.281718     0.644955     0.269730     0.033167     0.300699  \n",
       "\n",
       "[1255 rows x 3500 columns]"
      ]
     },
     "execution_count": 240,
     "metadata": {},
     "output_type": "execute_result"
    }
   ],
   "source": [
    "null_diff"
   ]
  },
  {
   "cell_type": "code",
   "execution_count": 225,
   "metadata": {},
   "outputs": [
    {
     "data": {
      "text/html": [
       "<div>\n",
       "<style scoped>\n",
       "    .dataframe tbody tr th:only-of-type {\n",
       "        vertical-align: middle;\n",
       "    }\n",
       "\n",
       "    .dataframe tbody tr th {\n",
       "        vertical-align: top;\n",
       "    }\n",
       "\n",
       "    .dataframe thead th {\n",
       "        text-align: right;\n",
       "    }\n",
       "</style>\n",
       "<table border=\"1\" class=\"dataframe\">\n",
       "  <thead>\n",
       "    <tr style=\"text-align: right;\">\n",
       "      <th></th>\n",
       "      <th>cm_correlation</th>\n",
       "      <th>tb_correlation</th>\n",
       "      <th>diff</th>\n",
       "      <th>mean_abundance</th>\n",
       "      <th>cross_abundance</th>\n",
       "      <th>...</th>\n",
       "      <th>cross_n</th>\n",
       "      <th>diff_weighted</th>\n",
       "      <th>log_diff_weighted</th>\n",
       "      <th>diff_p</th>\n",
       "      <th>FDR</th>\n",
       "    </tr>\n",
       "    <tr>\n",
       "      <th>gene</th>\n",
       "      <th></th>\n",
       "      <th></th>\n",
       "      <th></th>\n",
       "      <th></th>\n",
       "      <th></th>\n",
       "      <th></th>\n",
       "      <th></th>\n",
       "      <th></th>\n",
       "      <th></th>\n",
       "      <th></th>\n",
       "      <th></th>\n",
       "    </tr>\n",
       "  </thead>\n",
       "  <tbody>\n",
       "    <tr>\n",
       "      <th>CA9</th>\n",
       "      <td>1.000000</td>\n",
       "      <td>-1.000000</td>\n",
       "      <td>2.000000</td>\n",
       "      <td>7.232411</td>\n",
       "      <td>10.476257</td>\n",
       "      <td>...</td>\n",
       "      <td>8</td>\n",
       "      <td>4.000000</td>\n",
       "      <td>2.000000</td>\n",
       "      <td>0.0000</td>\n",
       "      <td>0.000000</td>\n",
       "    </tr>\n",
       "    <tr>\n",
       "      <th>MAP2K4</th>\n",
       "      <td>-0.604396</td>\n",
       "      <td>0.661538</td>\n",
       "      <td>1.265934</td>\n",
       "      <td>17.274548</td>\n",
       "      <td>344.637854</td>\n",
       "      <td>...</td>\n",
       "      <td>196</td>\n",
       "      <td>17.723077</td>\n",
       "      <td>4.819860</td>\n",
       "      <td>0.0005</td>\n",
       "      <td>0.208500</td>\n",
       "    </tr>\n",
       "    <tr>\n",
       "      <th>KPNB1</th>\n",
       "      <td>-0.459341</td>\n",
       "      <td>0.732143</td>\n",
       "      <td>1.191484</td>\n",
       "      <td>29.429276</td>\n",
       "      <td>2881.055951</td>\n",
       "      <td>...</td>\n",
       "      <td>210</td>\n",
       "      <td>16.680769</td>\n",
       "      <td>4.536401</td>\n",
       "      <td>0.0005</td>\n",
       "      <td>0.208500</td>\n",
       "    </tr>\n",
       "    <tr>\n",
       "      <th>RASA1</th>\n",
       "      <td>-0.380220</td>\n",
       "      <td>0.778571</td>\n",
       "      <td>1.158791</td>\n",
       "      <td>16.333897</td>\n",
       "      <td>184.484078</td>\n",
       "      <td>...</td>\n",
       "      <td>210</td>\n",
       "      <td>16.223077</td>\n",
       "      <td>4.411929</td>\n",
       "      <td>0.0015</td>\n",
       "      <td>0.375300</td>\n",
       "    </tr>\n",
       "    <tr>\n",
       "      <th>STAT1</th>\n",
       "      <td>-0.367033</td>\n",
       "      <td>0.757143</td>\n",
       "      <td>1.124176</td>\n",
       "      <td>28.416894</td>\n",
       "      <td>1734.926398</td>\n",
       "      <td>...</td>\n",
       "      <td>210</td>\n",
       "      <td>15.738462</td>\n",
       "      <td>4.280136</td>\n",
       "      <td>0.0015</td>\n",
       "      <td>0.375300</td>\n",
       "    </tr>\n",
       "    <tr>\n",
       "      <th>TNFRSF8</th>\n",
       "      <td>0.424176</td>\n",
       "      <td>-0.661538</td>\n",
       "      <td>1.085714</td>\n",
       "      <td>13.856433</td>\n",
       "      <td>140.417451</td>\n",
       "      <td>...</td>\n",
       "      <td>196</td>\n",
       "      <td>15.200000</td>\n",
       "      <td>4.133700</td>\n",
       "      <td>0.0025</td>\n",
       "      <td>0.469125</td>\n",
       "    </tr>\n",
       "    <tr>\n",
       "      <th>MICA</th>\n",
       "      <td>0.417582</td>\n",
       "      <td>-0.696429</td>\n",
       "      <td>1.114011</td>\n",
       "      <td>7.746135</td>\n",
       "      <td>-1.537617</td>\n",
       "      <td>...</td>\n",
       "      <td>195</td>\n",
       "      <td>14.482143</td>\n",
       "      <td>4.122331</td>\n",
       "      <td>0.0030</td>\n",
       "      <td>0.469125</td>\n",
       "    </tr>\n",
       "    <tr>\n",
       "      <th>BAD</th>\n",
       "      <td>0.709091</td>\n",
       "      <td>-0.503497</td>\n",
       "      <td>1.212587</td>\n",
       "      <td>12.992545</td>\n",
       "      <td>95.769527</td>\n",
       "      <td>...</td>\n",
       "      <td>120</td>\n",
       "      <td>12.125874</td>\n",
       "      <td>4.028128</td>\n",
       "      <td>0.0030</td>\n",
       "      <td>0.469125</td>\n",
       "    </tr>\n",
       "    <tr>\n",
       "      <th>STAT3</th>\n",
       "      <td>-0.261538</td>\n",
       "      <td>0.789286</td>\n",
       "      <td>1.050824</td>\n",
       "      <td>30.172763</td>\n",
       "      <td>3175.456803</td>\n",
       "      <td>...</td>\n",
       "      <td>210</td>\n",
       "      <td>14.711538</td>\n",
       "      <td>4.000861</td>\n",
       "      <td>0.0060</td>\n",
       "      <td>0.475380</td>\n",
       "    </tr>\n",
       "    <tr>\n",
       "      <th>BIRC3</th>\n",
       "      <td>0.292308</td>\n",
       "      <td>-0.721429</td>\n",
       "      <td>1.013736</td>\n",
       "      <td>14.274227</td>\n",
       "      <td>0.304887</td>\n",
       "      <td>...</td>\n",
       "      <td>210</td>\n",
       "      <td>14.192308</td>\n",
       "      <td>3.859654</td>\n",
       "      <td>0.0115</td>\n",
       "      <td>0.475380</td>\n",
       "    </tr>\n",
       "  </tbody>\n",
       "</table>\n",
       "<p>10 rows × 13 columns</p>\n",
       "</div>"
      ],
      "text/plain": [
       "         cm_correlation  tb_correlation      diff  mean_abundance  \\\n",
       "gene                                                                \n",
       "CA9            1.000000       -1.000000  2.000000        7.232411   \n",
       "MAP2K4        -0.604396        0.661538  1.265934       17.274548   \n",
       "KPNB1         -0.459341        0.732143  1.191484       29.429276   \n",
       "RASA1         -0.380220        0.778571  1.158791       16.333897   \n",
       "STAT1         -0.367033        0.757143  1.124176       28.416894   \n",
       "TNFRSF8        0.424176       -0.661538  1.085714       13.856433   \n",
       "MICA           0.417582       -0.696429  1.114011        7.746135   \n",
       "BAD            0.709091       -0.503497  1.212587       12.992545   \n",
       "STAT3         -0.261538        0.789286  1.050824       30.172763   \n",
       "BIRC3          0.292308       -0.721429  1.013736       14.274227   \n",
       "\n",
       "         cross_abundance  ...  cross_n  diff_weighted  log_diff_weighted  \\\n",
       "gene                      ...                                              \n",
       "CA9            10.476257  ...        8       4.000000           2.000000   \n",
       "MAP2K4        344.637854  ...      196      17.723077           4.819860   \n",
       "KPNB1        2881.055951  ...      210      16.680769           4.536401   \n",
       "RASA1         184.484078  ...      210      16.223077           4.411929   \n",
       "STAT1        1734.926398  ...      210      15.738462           4.280136   \n",
       "TNFRSF8       140.417451  ...      196      15.200000           4.133700   \n",
       "MICA           -1.537617  ...      195      14.482143           4.122331   \n",
       "BAD            95.769527  ...      120      12.125874           4.028128   \n",
       "STAT3        3175.456803  ...      210      14.711538           4.000861   \n",
       "BIRC3           0.304887  ...      210      14.192308           3.859654   \n",
       "\n",
       "         diff_p       FDR  \n",
       "gene                       \n",
       "CA9      0.0000  0.000000  \n",
       "MAP2K4   0.0005  0.208500  \n",
       "KPNB1    0.0005  0.208500  \n",
       "RASA1    0.0015  0.375300  \n",
       "STAT1    0.0015  0.375300  \n",
       "TNFRSF8  0.0025  0.469125  \n",
       "MICA     0.0030  0.469125  \n",
       "BAD      0.0030  0.469125  \n",
       "STAT3    0.0060  0.475380  \n",
       "BIRC3    0.0115  0.475380  \n",
       "\n",
       "[10 rows x 13 columns]"
      ]
     },
     "execution_count": 225,
     "metadata": {},
     "output_type": "execute_result"
    }
   ],
   "source": [
    "nn = pd.concat(n4, axis=1)\n",
    "nn.index = genes_in_both\n",
    "cm_tm['diff_p'] = nn.gt(cm_tm['diff'], axis='rows').mean(axis='columns')\n",
    "cm_tm['FDR'] = p_adjust(cm_tm['diff_p'], 'BH')\n",
    "cm_tm.sort_values('FDR').head(10)"
   ]
  },
  {
   "cell_type": "code",
   "execution_count": 242,
   "metadata": {},
   "outputs": [
    {
     "data": {
      "text/html": [
       "<div>\n",
       "<style scoped>\n",
       "    .dataframe tbody tr th:only-of-type {\n",
       "        vertical-align: middle;\n",
       "    }\n",
       "\n",
       "    .dataframe tbody tr th {\n",
       "        vertical-align: top;\n",
       "    }\n",
       "\n",
       "    .dataframe thead th {\n",
       "        text-align: right;\n",
       "    }\n",
       "</style>\n",
       "<table border=\"1\" class=\"dataframe\">\n",
       "  <thead>\n",
       "    <tr style=\"text-align: right;\">\n",
       "      <th></th>\n",
       "      <th>cm_correlation</th>\n",
       "      <th>tb_correlation</th>\n",
       "      <th>diff</th>\n",
       "      <th>mean_abundance</th>\n",
       "      <th>cross_abundance</th>\n",
       "      <th>...</th>\n",
       "      <th>cross_n</th>\n",
       "      <th>diff_weighted</th>\n",
       "      <th>log_diff_weighted</th>\n",
       "      <th>diff_p</th>\n",
       "      <th>FDR</th>\n",
       "    </tr>\n",
       "    <tr>\n",
       "      <th>gene</th>\n",
       "      <th></th>\n",
       "      <th></th>\n",
       "      <th></th>\n",
       "      <th></th>\n",
       "      <th></th>\n",
       "      <th></th>\n",
       "      <th></th>\n",
       "      <th></th>\n",
       "      <th></th>\n",
       "      <th></th>\n",
       "      <th></th>\n",
       "    </tr>\n",
       "  </thead>\n",
       "  <tbody>\n",
       "    <tr>\n",
       "      <th>CA9</th>\n",
       "      <td>1.000000</td>\n",
       "      <td>-1.000000</td>\n",
       "      <td>2.000000</td>\n",
       "      <td>7.232411</td>\n",
       "      <td>10.476257</td>\n",
       "      <td>...</td>\n",
       "      <td>8</td>\n",
       "      <td>4.000000</td>\n",
       "      <td>2.000000</td>\n",
       "      <td>0.000000</td>\n",
       "      <td>0.000000</td>\n",
       "    </tr>\n",
       "    <tr>\n",
       "      <th>KPNB1</th>\n",
       "      <td>-0.459341</td>\n",
       "      <td>0.732143</td>\n",
       "      <td>1.191484</td>\n",
       "      <td>29.429276</td>\n",
       "      <td>2881.055951</td>\n",
       "      <td>...</td>\n",
       "      <td>210</td>\n",
       "      <td>16.680769</td>\n",
       "      <td>4.536401</td>\n",
       "      <td>0.000286</td>\n",
       "      <td>0.178714</td>\n",
       "    </tr>\n",
       "    <tr>\n",
       "      <th>MAP2K4</th>\n",
       "      <td>-0.604396</td>\n",
       "      <td>0.661538</td>\n",
       "      <td>1.265934</td>\n",
       "      <td>17.274548</td>\n",
       "      <td>344.637854</td>\n",
       "      <td>...</td>\n",
       "      <td>196</td>\n",
       "      <td>17.723077</td>\n",
       "      <td>4.819860</td>\n",
       "      <td>0.000857</td>\n",
       "      <td>0.357429</td>\n",
       "    </tr>\n",
       "    <tr>\n",
       "      <th>RASA1</th>\n",
       "      <td>-0.380220</td>\n",
       "      <td>0.778571</td>\n",
       "      <td>1.158791</td>\n",
       "      <td>16.333897</td>\n",
       "      <td>184.484078</td>\n",
       "      <td>...</td>\n",
       "      <td>210</td>\n",
       "      <td>16.223077</td>\n",
       "      <td>4.411929</td>\n",
       "      <td>0.001143</td>\n",
       "      <td>0.357429</td>\n",
       "    </tr>\n",
       "    <tr>\n",
       "      <th>STAT1</th>\n",
       "      <td>-0.367033</td>\n",
       "      <td>0.757143</td>\n",
       "      <td>1.124176</td>\n",
       "      <td>28.416894</td>\n",
       "      <td>1734.926398</td>\n",
       "      <td>...</td>\n",
       "      <td>210</td>\n",
       "      <td>15.738462</td>\n",
       "      <td>4.280136</td>\n",
       "      <td>0.001429</td>\n",
       "      <td>0.357429</td>\n",
       "    </tr>\n",
       "    <tr>\n",
       "      <th>TNFRSF8</th>\n",
       "      <td>0.424176</td>\n",
       "      <td>-0.661538</td>\n",
       "      <td>1.085714</td>\n",
       "      <td>13.856433</td>\n",
       "      <td>140.417451</td>\n",
       "      <td>...</td>\n",
       "      <td>196</td>\n",
       "      <td>15.200000</td>\n",
       "      <td>4.133700</td>\n",
       "      <td>0.004000</td>\n",
       "      <td>0.446786</td>\n",
       "    </tr>\n",
       "    <tr>\n",
       "      <th>STAT3</th>\n",
       "      <td>-0.261538</td>\n",
       "      <td>0.789286</td>\n",
       "      <td>1.050824</td>\n",
       "      <td>30.172763</td>\n",
       "      <td>3175.456803</td>\n",
       "      <td>...</td>\n",
       "      <td>210</td>\n",
       "      <td>14.711538</td>\n",
       "      <td>4.000861</td>\n",
       "      <td>0.004286</td>\n",
       "      <td>0.446786</td>\n",
       "    </tr>\n",
       "    <tr>\n",
       "      <th>MICA</th>\n",
       "      <td>0.417582</td>\n",
       "      <td>-0.696429</td>\n",
       "      <td>1.114011</td>\n",
       "      <td>7.746135</td>\n",
       "      <td>-1.537617</td>\n",
       "      <td>...</td>\n",
       "      <td>195</td>\n",
       "      <td>14.482143</td>\n",
       "      <td>4.122331</td>\n",
       "      <td>0.002857</td>\n",
       "      <td>0.446786</td>\n",
       "    </tr>\n",
       "    <tr>\n",
       "      <th>BIRC3</th>\n",
       "      <td>0.292308</td>\n",
       "      <td>-0.721429</td>\n",
       "      <td>1.013736</td>\n",
       "      <td>14.274227</td>\n",
       "      <td>0.304887</td>\n",
       "      <td>...</td>\n",
       "      <td>210</td>\n",
       "      <td>14.192308</td>\n",
       "      <td>3.859654</td>\n",
       "      <td>0.007714</td>\n",
       "      <td>0.446786</td>\n",
       "    </tr>\n",
       "    <tr>\n",
       "      <th>LAG3</th>\n",
       "      <td>-0.336264</td>\n",
       "      <td>0.653571</td>\n",
       "      <td>0.989835</td>\n",
       "      <td>24.183807</td>\n",
       "      <td>1314.945999</td>\n",
       "      <td>...</td>\n",
       "      <td>210</td>\n",
       "      <td>13.857692</td>\n",
       "      <td>3.768654</td>\n",
       "      <td>0.006000</td>\n",
       "      <td>0.446786</td>\n",
       "    </tr>\n",
       "  </tbody>\n",
       "</table>\n",
       "<p>10 rows × 13 columns</p>\n",
       "</div>"
      ],
      "text/plain": [
       "         cm_correlation  tb_correlation      diff  mean_abundance  \\\n",
       "gene                                                                \n",
       "CA9            1.000000       -1.000000  2.000000        7.232411   \n",
       "KPNB1         -0.459341        0.732143  1.191484       29.429276   \n",
       "MAP2K4        -0.604396        0.661538  1.265934       17.274548   \n",
       "RASA1         -0.380220        0.778571  1.158791       16.333897   \n",
       "STAT1         -0.367033        0.757143  1.124176       28.416894   \n",
       "TNFRSF8        0.424176       -0.661538  1.085714       13.856433   \n",
       "STAT3         -0.261538        0.789286  1.050824       30.172763   \n",
       "MICA           0.417582       -0.696429  1.114011        7.746135   \n",
       "BIRC3          0.292308       -0.721429  1.013736       14.274227   \n",
       "LAG3          -0.336264        0.653571  0.989835       24.183807   \n",
       "\n",
       "         cross_abundance  ...  cross_n  diff_weighted  log_diff_weighted  \\\n",
       "gene                      ...                                              \n",
       "CA9            10.476257  ...        8       4.000000           2.000000   \n",
       "KPNB1        2881.055951  ...      210      16.680769           4.536401   \n",
       "MAP2K4        344.637854  ...      196      17.723077           4.819860   \n",
       "RASA1         184.484078  ...      210      16.223077           4.411929   \n",
       "STAT1        1734.926398  ...      210      15.738462           4.280136   \n",
       "TNFRSF8       140.417451  ...      196      15.200000           4.133700   \n",
       "STAT3        3175.456803  ...      210      14.711538           4.000861   \n",
       "MICA           -1.537617  ...      195      14.482143           4.122331   \n",
       "BIRC3           0.304887  ...      210      14.192308           3.859654   \n",
       "LAG3         1314.945999  ...      210      13.857692           3.768654   \n",
       "\n",
       "           diff_p       FDR  \n",
       "gene                         \n",
       "CA9      0.000000  0.000000  \n",
       "KPNB1    0.000286  0.178714  \n",
       "MAP2K4   0.000857  0.357429  \n",
       "RASA1    0.001143  0.357429  \n",
       "STAT1    0.001429  0.357429  \n",
       "TNFRSF8  0.004000  0.446786  \n",
       "STAT3    0.004286  0.446786  \n",
       "MICA     0.002857  0.446786  \n",
       "BIRC3    0.007714  0.446786  \n",
       "LAG3     0.006000  0.446786  \n",
       "\n",
       "[10 rows x 13 columns]"
      ]
     },
     "execution_count": 242,
     "metadata": {},
     "output_type": "execute_result"
    }
   ],
   "source": [
    "cm_tm['diff_p'] = null_diff.gt(cm_tm['diff'], axis='rows').mean(axis='columns')\n",
    "cm_tm['FDR'] = p_adjust(cm_tm['diff_p'], 'BH')\n",
    "cm_tm.sort_values('FDR').head(10)"
   ]
  },
  {
   "cell_type": "markdown",
   "metadata": {},
   "source": [
    "#### 7.3 Several gene-protein pairs exhibit opposite correlations in TB and crypto"
   ]
  },
  {
   "cell_type": "code",
   "execution_count": 57,
   "metadata": {},
   "outputs": [
    {
     "data": {
      "text/html": [
       "<div>\n",
       "<style scoped>\n",
       "    .dataframe tbody tr th:only-of-type {\n",
       "        vertical-align: middle;\n",
       "    }\n",
       "\n",
       "    .dataframe tbody tr th {\n",
       "        vertical-align: top;\n",
       "    }\n",
       "\n",
       "    .dataframe thead th {\n",
       "        text-align: right;\n",
       "    }\n",
       "</style>\n",
       "<table border=\"1\" class=\"dataframe\">\n",
       "  <thead>\n",
       "    <tr style=\"text-align: right;\">\n",
       "      <th></th>\n",
       "      <th>cm_correlation</th>\n",
       "      <th>tb_correlation</th>\n",
       "      <th>diff</th>\n",
       "      <th>mean_abundance</th>\n",
       "      <th>cross_abundance</th>\n",
       "      <th>n</th>\n",
       "      <th>cm_n</th>\n",
       "      <th>tb_n</th>\n",
       "      <th>cross_n</th>\n",
       "      <th>diff_weighted</th>\n",
       "    </tr>\n",
       "    <tr>\n",
       "      <th>gene</th>\n",
       "      <th></th>\n",
       "      <th></th>\n",
       "      <th></th>\n",
       "      <th></th>\n",
       "      <th></th>\n",
       "      <th></th>\n",
       "      <th></th>\n",
       "      <th></th>\n",
       "      <th></th>\n",
       "      <th></th>\n",
       "    </tr>\n",
       "  </thead>\n",
       "  <tbody>\n",
       "    <tr>\n",
       "      <th>MAP2K4</th>\n",
       "      <td>-0.604396</td>\n",
       "      <td>0.661538</td>\n",
       "      <td>1.265934</td>\n",
       "      <td>17.274548</td>\n",
       "      <td>344.637854</td>\n",
       "      <td>28</td>\n",
       "      <td>14</td>\n",
       "      <td>14</td>\n",
       "      <td>196</td>\n",
       "      <td>17.723077</td>\n",
       "    </tr>\n",
       "    <tr>\n",
       "      <th>KPNB1</th>\n",
       "      <td>-0.459341</td>\n",
       "      <td>0.732143</td>\n",
       "      <td>1.191484</td>\n",
       "      <td>29.429276</td>\n",
       "      <td>2881.055951</td>\n",
       "      <td>29</td>\n",
       "      <td>14</td>\n",
       "      <td>15</td>\n",
       "      <td>210</td>\n",
       "      <td>16.680769</td>\n",
       "    </tr>\n",
       "    <tr>\n",
       "      <th>RASA1</th>\n",
       "      <td>-0.380220</td>\n",
       "      <td>0.778571</td>\n",
       "      <td>1.158791</td>\n",
       "      <td>16.333897</td>\n",
       "      <td>184.484078</td>\n",
       "      <td>29</td>\n",
       "      <td>14</td>\n",
       "      <td>15</td>\n",
       "      <td>210</td>\n",
       "      <td>16.223077</td>\n",
       "    </tr>\n",
       "    <tr>\n",
       "      <th>STAT1</th>\n",
       "      <td>-0.367033</td>\n",
       "      <td>0.757143</td>\n",
       "      <td>1.124176</td>\n",
       "      <td>28.416894</td>\n",
       "      <td>1734.926398</td>\n",
       "      <td>29</td>\n",
       "      <td>14</td>\n",
       "      <td>15</td>\n",
       "      <td>210</td>\n",
       "      <td>15.738462</td>\n",
       "    </tr>\n",
       "    <tr>\n",
       "      <th>TNFRSF8</th>\n",
       "      <td>0.424176</td>\n",
       "      <td>-0.661538</td>\n",
       "      <td>1.085714</td>\n",
       "      <td>13.856433</td>\n",
       "      <td>140.417451</td>\n",
       "      <td>28</td>\n",
       "      <td>14</td>\n",
       "      <td>14</td>\n",
       "      <td>196</td>\n",
       "      <td>15.200000</td>\n",
       "    </tr>\n",
       "    <tr>\n",
       "      <th>STAT3</th>\n",
       "      <td>-0.261538</td>\n",
       "      <td>0.789286</td>\n",
       "      <td>1.050824</td>\n",
       "      <td>30.172763</td>\n",
       "      <td>3175.456803</td>\n",
       "      <td>29</td>\n",
       "      <td>14</td>\n",
       "      <td>15</td>\n",
       "      <td>210</td>\n",
       "      <td>14.711538</td>\n",
       "    </tr>\n",
       "    <tr>\n",
       "      <th>MICA</th>\n",
       "      <td>0.417582</td>\n",
       "      <td>-0.696429</td>\n",
       "      <td>1.114011</td>\n",
       "      <td>7.746135</td>\n",
       "      <td>-1.537617</td>\n",
       "      <td>28</td>\n",
       "      <td>13</td>\n",
       "      <td>15</td>\n",
       "      <td>195</td>\n",
       "      <td>14.482143</td>\n",
       "    </tr>\n",
       "    <tr>\n",
       "      <th>BIRC3</th>\n",
       "      <td>0.292308</td>\n",
       "      <td>-0.721429</td>\n",
       "      <td>1.013736</td>\n",
       "      <td>14.274227</td>\n",
       "      <td>0.304887</td>\n",
       "      <td>29</td>\n",
       "      <td>14</td>\n",
       "      <td>15</td>\n",
       "      <td>210</td>\n",
       "      <td>14.192308</td>\n",
       "    </tr>\n",
       "    <tr>\n",
       "      <th>LAG3</th>\n",
       "      <td>-0.336264</td>\n",
       "      <td>0.653571</td>\n",
       "      <td>0.989835</td>\n",
       "      <td>24.183807</td>\n",
       "      <td>1314.945999</td>\n",
       "      <td>29</td>\n",
       "      <td>14</td>\n",
       "      <td>15</td>\n",
       "      <td>210</td>\n",
       "      <td>13.857692</td>\n",
       "    </tr>\n",
       "    <tr>\n",
       "      <th>PAFAH1B2</th>\n",
       "      <td>-0.349451</td>\n",
       "      <td>0.632143</td>\n",
       "      <td>0.981593</td>\n",
       "      <td>22.839617</td>\n",
       "      <td>1054.168489</td>\n",
       "      <td>29</td>\n",
       "      <td>14</td>\n",
       "      <td>15</td>\n",
       "      <td>210</td>\n",
       "      <td>13.742308</td>\n",
       "    </tr>\n",
       "    <tr>\n",
       "      <th>HMGN1</th>\n",
       "      <td>-0.494505</td>\n",
       "      <td>0.482143</td>\n",
       "      <td>0.976648</td>\n",
       "      <td>22.713590</td>\n",
       "      <td>954.104304</td>\n",
       "      <td>29</td>\n",
       "      <td>14</td>\n",
       "      <td>15</td>\n",
       "      <td>210</td>\n",
       "      <td>13.673077</td>\n",
       "    </tr>\n",
       "    <tr>\n",
       "      <th>PSME3</th>\n",
       "      <td>0.164835</td>\n",
       "      <td>-0.810714</td>\n",
       "      <td>0.975549</td>\n",
       "      <td>12.849924</td>\n",
       "      <td>14.778380</td>\n",
       "      <td>29</td>\n",
       "      <td>14</td>\n",
       "      <td>15</td>\n",
       "      <td>210</td>\n",
       "      <td>13.657692</td>\n",
       "    </tr>\n",
       "    <tr>\n",
       "      <th>MAPK9</th>\n",
       "      <td>0.437363</td>\n",
       "      <td>-0.532143</td>\n",
       "      <td>0.969505</td>\n",
       "      <td>16.289358</td>\n",
       "      <td>253.215151</td>\n",
       "      <td>29</td>\n",
       "      <td>14</td>\n",
       "      <td>15</td>\n",
       "      <td>210</td>\n",
       "      <td>13.573077</td>\n",
       "    </tr>\n",
       "    <tr>\n",
       "      <th>NRG1</th>\n",
       "      <td>-0.576923</td>\n",
       "      <td>0.467033</td>\n",
       "      <td>1.043956</td>\n",
       "      <td>9.438778</td>\n",
       "      <td>10.419668</td>\n",
       "      <td>26</td>\n",
       "      <td>13</td>\n",
       "      <td>13</td>\n",
       "      <td>169</td>\n",
       "      <td>13.571429</td>\n",
       "    </tr>\n",
       "    <tr>\n",
       "      <th>NR3C1</th>\n",
       "      <td>0.336264</td>\n",
       "      <td>-0.628571</td>\n",
       "      <td>0.964835</td>\n",
       "      <td>15.210583</td>\n",
       "      <td>18.657380</td>\n",
       "      <td>29</td>\n",
       "      <td>14</td>\n",
       "      <td>15</td>\n",
       "      <td>210</td>\n",
       "      <td>13.507692</td>\n",
       "    </tr>\n",
       "  </tbody>\n",
       "</table>\n",
       "</div>"
      ],
      "text/plain": [
       "          cm_correlation  tb_correlation      diff  mean_abundance  \\\n",
       "gene                                                                 \n",
       "MAP2K4   -0.604396        0.661538        1.265934  17.274548        \n",
       "KPNB1    -0.459341        0.732143        1.191484  29.429276        \n",
       "RASA1    -0.380220        0.778571        1.158791  16.333897        \n",
       "STAT1    -0.367033        0.757143        1.124176  28.416894        \n",
       "TNFRSF8   0.424176       -0.661538        1.085714  13.856433        \n",
       "STAT3    -0.261538        0.789286        1.050824  30.172763        \n",
       "MICA      0.417582       -0.696429        1.114011  7.746135         \n",
       "BIRC3     0.292308       -0.721429        1.013736  14.274227        \n",
       "LAG3     -0.336264        0.653571        0.989835  24.183807        \n",
       "PAFAH1B2 -0.349451        0.632143        0.981593  22.839617        \n",
       "HMGN1    -0.494505        0.482143        0.976648  22.713590        \n",
       "PSME3     0.164835       -0.810714        0.975549  12.849924        \n",
       "MAPK9     0.437363       -0.532143        0.969505  16.289358        \n",
       "NRG1     -0.576923        0.467033        1.043956  9.438778         \n",
       "NR3C1     0.336264       -0.628571        0.964835  15.210583        \n",
       "\n",
       "          cross_abundance   n  cm_n  tb_n  cross_n  diff_weighted  \n",
       "gene                                                               \n",
       "MAP2K4    344.637854       28  14    14    196      17.723077      \n",
       "KPNB1     2881.055951      29  14    15    210      16.680769      \n",
       "RASA1     184.484078       29  14    15    210      16.223077      \n",
       "STAT1     1734.926398      29  14    15    210      15.738462      \n",
       "TNFRSF8   140.417451       28  14    14    196      15.200000      \n",
       "STAT3     3175.456803      29  14    15    210      14.711538      \n",
       "MICA     -1.537617         28  13    15    195      14.482143      \n",
       "BIRC3     0.304887         29  14    15    210      14.192308      \n",
       "LAG3      1314.945999      29  14    15    210      13.857692      \n",
       "PAFAH1B2  1054.168489      29  14    15    210      13.742308      \n",
       "HMGN1     954.104304       29  14    15    210      13.673077      \n",
       "PSME3     14.778380        29  14    15    210      13.657692      \n",
       "MAPK9     253.215151       29  14    15    210      13.573077      \n",
       "NRG1      10.419668        26  13    13    169      13.571429      \n",
       "NR3C1     18.657380        29  14    15    210      13.507692      "
      ]
     },
     "metadata": {},
     "output_type": "display_data"
    }
   ],
   "source": [
    "cm_tm['diff_weighted'] = cm_tm['diff'] * cm_tm[['tb_n', 'cm_n']].min(axis=1)\n",
    "cm_tm = cm_tm.sort_values('diff_weighted', ascending=False)\n",
    "show_table(cm_tm.head(15))"
   ]
  },
  {
   "cell_type": "markdown",
   "metadata": {},
   "source": [
    "NB: the difference in correlations may be also formulated as minimization of cross-correlation."
   ]
  },
  {
   "cell_type": "markdown",
   "metadata": {},
   "source": [
    "What do we miss using the strict $n$ filtering?"
   ]
  },
  {
   "cell_type": "code",
   "execution_count": 58,
   "metadata": {},
   "outputs": [
    {
     "data": {
      "text/html": [
       "<div>\n",
       "<style scoped>\n",
       "    .dataframe tbody tr th:only-of-type {\n",
       "        vertical-align: middle;\n",
       "    }\n",
       "\n",
       "    .dataframe tbody tr th {\n",
       "        vertical-align: top;\n",
       "    }\n",
       "\n",
       "    .dataframe thead th {\n",
       "        text-align: right;\n",
       "    }\n",
       "</style>\n",
       "<table border=\"1\" class=\"dataframe\">\n",
       "  <thead>\n",
       "    <tr style=\"text-align: right;\">\n",
       "      <th></th>\n",
       "      <th>cm_correlation</th>\n",
       "      <th>tb_correlation</th>\n",
       "      <th>diff</th>\n",
       "      <th>mean_abundance</th>\n",
       "      <th>cross_abundance</th>\n",
       "      <th>...</th>\n",
       "      <th>cm_n</th>\n",
       "      <th>tb_n</th>\n",
       "      <th>cross_n</th>\n",
       "      <th>diff_weighted</th>\n",
       "      <th>log_diff_weighted</th>\n",
       "    </tr>\n",
       "    <tr>\n",
       "      <th>gene</th>\n",
       "      <th></th>\n",
       "      <th></th>\n",
       "      <th></th>\n",
       "      <th></th>\n",
       "      <th></th>\n",
       "      <th></th>\n",
       "      <th></th>\n",
       "      <th></th>\n",
       "      <th></th>\n",
       "      <th></th>\n",
       "      <th></th>\n",
       "    </tr>\n",
       "  </thead>\n",
       "  <tbody>\n",
       "    <tr>\n",
       "      <th>FUT5</th>\n",
       "      <td>-0.892857</td>\n",
       "      <td>0.800000</td>\n",
       "      <td>1.692857</td>\n",
       "      <td>7.818209</td>\n",
       "      <td>11.798434</td>\n",
       "      <td>...</td>\n",
       "      <td>7</td>\n",
       "      <td>5</td>\n",
       "      <td>35</td>\n",
       "      <td>8.464286</td>\n",
       "      <td>3.930693</td>\n",
       "    </tr>\n",
       "    <tr>\n",
       "      <th>NCR3</th>\n",
       "      <td>-0.318182</td>\n",
       "      <td>0.772727</td>\n",
       "      <td>1.090909</td>\n",
       "      <td>8.818941</td>\n",
       "      <td>22.936674</td>\n",
       "      <td>...</td>\n",
       "      <td>11</td>\n",
       "      <td>11</td>\n",
       "      <td>121</td>\n",
       "      <td>12.000000</td>\n",
       "      <td>3.773925</td>\n",
       "    </tr>\n",
       "    <tr>\n",
       "      <th>BAD</th>\n",
       "      <td>0.709091</td>\n",
       "      <td>-0.503497</td>\n",
       "      <td>1.212587</td>\n",
       "      <td>12.992545</td>\n",
       "      <td>95.769527</td>\n",
       "      <td>...</td>\n",
       "      <td>10</td>\n",
       "      <td>12</td>\n",
       "      <td>120</td>\n",
       "      <td>12.125874</td>\n",
       "      <td>4.028128</td>\n",
       "    </tr>\n",
       "    <tr>\n",
       "      <th>EPHA3</th>\n",
       "      <td>-0.450000</td>\n",
       "      <td>0.750000</td>\n",
       "      <td>1.200000</td>\n",
       "      <td>5.012811</td>\n",
       "      <td>0.191381</td>\n",
       "      <td>...</td>\n",
       "      <td>9</td>\n",
       "      <td>9</td>\n",
       "      <td>81</td>\n",
       "      <td>10.800000</td>\n",
       "      <td>3.803910</td>\n",
       "    </tr>\n",
       "    <tr>\n",
       "      <th>MATN3</th>\n",
       "      <td>0.633333</td>\n",
       "      <td>-0.666667</td>\n",
       "      <td>1.300000</td>\n",
       "      <td>6.432070</td>\n",
       "      <td>6.235444</td>\n",
       "      <td>...</td>\n",
       "      <td>9</td>\n",
       "      <td>8</td>\n",
       "      <td>72</td>\n",
       "      <td>10.400000</td>\n",
       "      <td>3.900000</td>\n",
       "    </tr>\n",
       "  </tbody>\n",
       "</table>\n",
       "<p>5 rows × 11 columns</p>\n",
       "</div>"
      ],
      "text/plain": [
       "       cm_correlation  tb_correlation      diff  mean_abundance  \\\n",
       "gene                                                              \n",
       "FUT5        -0.892857        0.800000  1.692857        7.818209   \n",
       "NCR3        -0.318182        0.772727  1.090909        8.818941   \n",
       "BAD          0.709091       -0.503497  1.212587       12.992545   \n",
       "EPHA3       -0.450000        0.750000  1.200000        5.012811   \n",
       "MATN3        0.633333       -0.666667  1.300000        6.432070   \n",
       "\n",
       "       cross_abundance  ...  cm_n  tb_n  cross_n  diff_weighted  \\\n",
       "gene                    ...                                       \n",
       "FUT5         11.798434  ...     7     5       35       8.464286   \n",
       "NCR3         22.936674  ...    11    11      121      12.000000   \n",
       "BAD          95.769527  ...    10    12      120      12.125874   \n",
       "EPHA3         0.191381  ...     9     9       81      10.800000   \n",
       "MATN3         6.235444  ...     9     8       72      10.400000   \n",
       "\n",
       "       log_diff_weighted  \n",
       "gene                      \n",
       "FUT5            3.930693  \n",
       "NCR3            3.773925  \n",
       "BAD             4.028128  \n",
       "EPHA3           3.803910  \n",
       "MATN3           3.900000  \n",
       "\n",
       "[5 rows x 11 columns]"
      ]
     },
     "execution_count": 58,
     "metadata": {},
     "output_type": "execute_result"
    }
   ],
   "source": [
    "from helpers.presentation import compare_sets\n",
    "non_log = cm_tm.head(15).index\n",
    "cm_tm['log_diff_weighted'] = cm_tm['diff'] * cm_tm[['tb_n', 'cm_n']].min(axis=1).apply(log2)\n",
    "log_diff = cm_tm.sort_values('log_diff_weighted', ascending=False).head(15).index\n",
    "cm_tm.loc[set(log_diff) - set(non_log)]"
   ]
  },
  {
   "cell_type": "code",
   "execution_count": 59,
   "metadata": {},
   "outputs": [],
   "source": [
    "top_differences = df= cm_tm.head(10)\n",
    "protein_hc_indexed = protein_hc.set_index('index')\n",
    "df = pd.concat([\n",
    "    DataFrame(dict(\n",
    "        RNA=rna_shared.loc[k][rna_shared.loc[k]>0],\n",
    "        Protein=protein_shared.loc[k][rna_shared.loc[k]>0],\n",
    "        hcp_q1=protein_hc_indexed.loc[k].value.quantile(.25),\n",
    "        hcp_q2=protein_hc_indexed.loc[k].value.quantile(.5),\n",
    "        hcp_q3=protein_hc_indexed.loc[k].value.quantile(.75),\n",
    "        gene=k,\n",
    "        diff=top_differences.loc[k]['diff'],\n",
    "        \n",
    "    )).rename_axis('patient').reset_index()\n",
    "    for k in top_differences.index\n",
    "])\n",
    "df['Meningitis'] = df.patient.map(clinical['Meningitis'])\n",
    "df['Tuberculosis'] = df.patient.map(clinical['Tuberculosis'])\n",
    "df.gene = pd.Categorical(df.gene, categories=top_differences.index, ordered=True)"
   ]
  },
  {
   "cell_type": "code",
   "execution_count": 60,
   "metadata": {},
   "outputs": [
    {
     "data": {
      "image/png": "[encoded data removed]"
     },
     "metadata": {},
     "output_type": "display_data"
    }
   ],
   "source": [
    "%%R -i df -w 900 -h 400\n",
    "df = df[df$Meningitis!='Viral',]\n",
    "(\n",
    "    ggplot(df, aes(x=RNA, y=Protein, color=Meningitis))\n",
    "    + facet_wrap('gene', 2, scale='free')\n",
    "    + geom_point(aes(shape=Tuberculosis))\n",
    "    + geom_smooth(method='lm')\n",
    "    + geom_text(aes(label=paste('d = ', round(diff, 2))), x=-Inf, y=Inf, check_overlap=T, vjust=1.5, hjust=-0.15, color='grey30')\n",
    "    + geom_rect(aes(ymin=hcp_q1, ymax=hcp_q3, xmin=-Inf, xmax=Inf), alpha=0.002, fill='grey', color=NA)\n",
    "    + geom_line(aes(y=hcp_q2, ymin=hcp_q1, ymax=hcp_q3, xmin=-Inf, xmax=Inf, color='Healthy control'))\n",
    "    + color_meningitis + nice_theme\n",
    "    + scale_shape_manual(values=c('-'=19, 'Definite'=19, 'Probable'=10, 'Possible'=1))\n",
    ")"
   ]
  },
  {
   "cell_type": "markdown",
   "metadata": {},
   "source": [
    "TODO: permutation test"
   ]
  },
  {
   "cell_type": "markdown",
   "metadata": {},
   "source": [
    "Top 5 (extracts from NCBI RefSeq gene reports):\n",
    "- MAP2K4 (a.k.a MKK4; SEK1): Toll Like Receptor cascades, Signaling: MAPK, IL-1, IL-6, Wnt, TNF, TGF-β, FCϵ, ErbB\n",
    "- KPNB1: HIV-1 replication, apoptosis, Interferon Signaling\n",
    "- RASA1: stimulates the GTPase activity of RAS p21, Signaling: Aurora A, Aurora B, BCR, FCϵ, EGF/EGFR, EPO, EPHB, Insulin IL-2, IL-3,5, MAPK, NGF, VEGF, RAS and many more; T-Cell Receptor and Co-stimulatory Signaling\n",
    "- STAT1: \"can be activated by various ligands including interferon-alpha, interferon-gamma, EGF, PDGF and IL6 [...] mediates the expression of a variety of genes, which is thought to be important for cell viability in response to different cell stimuli and pathogens\";\n",
    " - \"HIV-1 infection upregulates basal mRNA levels of JUN, IL6, STAT1, CEBPA, RELA, and CEBPG in monocyte derived macrophages\"\n",
    " - \"HIV/**tuberculosis** coinfection upregulates STAT1 expression in pleural fluid mononuclear cells (PFMC) isolated from antiretroviral-naive coinfected patients (relative to patients infected with tuberculosis only)\"\n",
    "- TNFRSF8: TNF-receptor; expressed by activated T and B cells; interactions with HIV-1"
   ]
  },
  {
   "cell_type": "markdown",
   "metadata": {},
   "source": [
    "The top 6 - STAT3 has a similar behaviour to STAT1 (and both are higher in TB and crypto than in HC!)"
   ]
  },
  {
   "cell_type": "markdown",
   "metadata": {},
   "source": [
    "After comparing to the healthy controls we could say that KPNB1, STAT1, STAT3, BIRC3 and LAG3 may be worth investigating."
   ]
  },
  {
   "cell_type": "markdown",
   "metadata": {},
   "source": [
    "As I have held out some data (samples which are not shared are not included in is shared_protein not in shared_rna), we can now try independently validate if the abundance levels differ between crypto and TB:"
   ]
  },
  {
   "cell_type": "markdown",
   "metadata": {},
   "source": [
    "TODO"
   ]
  }
 ],
 "metadata": {
  "kernelspec": {
   "display_name": "Python 3",
   "language": "python",
   "name": "python3"
  },
  "language_info": {
   "codemirror_mode": {
    "name": "ipython",
    "version": 3
   },
   "file_extension": ".py",
   "mimetype": "text/x-python",
   "name": "python",
   "nbconvert_exporter": "python",
   "pygments_lexer": "ipython3",
   "version": "3.7.2"
  },
  "widgets": {
   "application/vnd.jupyter.widget-state+json": {
    "state": {
     "00ee6b0f2454436898506ed12adc3561": {
      "model_module": "@jupyter-widgets/base",
      "model_module_version": "1.1.0",
      "model_name": "LayoutModel",
      "state": {
       "_model_module_version": "1.1.0",
       "_view_module_version": "1.1.0"
      }
     },
     "0370cb9be45545db9519af22217bcbdc": {
      "model_module": "@jupyter-widgets/controls",
      "model_module_version": "1.4.0",
      "model_name": "ProgressStyleModel",
      "state": {
       "_model_module_version": "1.4.0",
       "_view_module_version": "1.1.0",
       "description_width": ""
      }
     },
     "03a61349451545a394883217c3a2b92e": {
      "model_module": "@jupyter-widgets/base",
      "model_module_version": "1.1.0",
      "model_name": "LayoutModel",
      "state": {
       "_model_module_version": "1.1.0",
       "_view_module_version": "1.1.0"
      }
     },
     "048471e0d84e4a728c485ca21530906e": {
      "model_module": "@jupyter-widgets/base",
      "model_module_version": "1.1.0",
      "model_name": "LayoutModel",
      "state": {
       "_model_module_version": "1.1.0",
       "_view_module_version": "1.1.0"
      }
     },
     "063b9961b92d471f8ff57035bd1e0377": {
      "model_module": "@jupyter-widgets/controls",
      "model_module_version": "1.4.0",
      "model_name": "DescriptionStyleModel",
      "state": {
       "_model_module_version": "1.4.0",
       "_view_module_version": "1.1.0",
       "description_width": ""
      }
     },
     "07f30c77a35c4c83a1a50ee4dcae8a72": {
      "model_module": "@jupyter-widgets/base",
      "model_module_version": "1.1.0",
      "model_name": "LayoutModel",
      "state": {
       "_model_module_version": "1.1.0",
       "_view_module_version": "1.1.0"
      }
     },
     "083d0b93219d45959d1770bdc6eca2a1": {
      "model_module": "@jupyter-widgets/controls",
      "model_module_version": "1.4.0",
      "model_name": "IntProgressModel",
      "state": {
       "_model_module_version": "1.4.0",
       "_view_module_version": "1.4.0",
       "bar_style": "danger",
       "layout": "IPY_MODEL_a3afe9d7b224498fa2f8aa08886b7d06",
       "max": 50,
       "style": "IPY_MODEL_61aa88559990415a8405f241d74a35b0",
       "value": 12
      }
     },
     "0958b9d9ecac41049954e471f3b1385b": {
      "model_module": "@jupyter-widgets/controls",
      "model_module_version": "1.4.0",
      "model_name": "HTMLModel",
      "state": {
       "_model_module_version": "1.4.0",
       "_view_module_version": "1.4.0",
       "layout": "IPY_MODEL_3df0fda208c948f1b0033da5e9953d03",
       "style": "IPY_MODEL_1284541af2474a8b983765a960136dba",
       "value": "100% 1000/1000 [26:35&lt;00:00,  1.52s/it]"
      }
     },
     "09dcf261556749178ca5a18a53a5594a": {
      "model_module": "@jupyter-widgets/controls",
      "model_module_version": "1.4.0",
      "model_name": "HBoxModel",
      "state": {
       "_model_module_version": "1.4.0",
       "_view_module_version": "1.4.0",
       "children": [
        "IPY_MODEL_dff241d81086495fb3ddbb02604ef357",
        "IPY_MODEL_d95dce60f51c4e14a78169dbd607e261"
       ],
       "layout": "IPY_MODEL_1e6756c44ae8493b9f61793e9cb14b2f"
      }
     },
     "0a29ef21cea24a9b9ff60a27d8466db9": {
      "model_module": "@jupyter-widgets/controls",
      "model_module_version": "1.4.0",
      "model_name": "ProgressStyleModel",
      "state": {
       "_model_module_version": "1.4.0",
       "_view_module_version": "1.1.0",
       "description_width": ""
      }
     },
     "0aed30cfe410425dba50ba4838765379": {
      "model_module": "@jupyter-widgets/base",
      "model_module_version": "1.1.0",
      "model_name": "LayoutModel",
      "state": {
       "_model_module_version": "1.1.0",
       "_view_module_version": "1.1.0"
      }
     },
     "0b68202640564db69a0085f8aac7db90": {
      "model_module": "@jupyter-widgets/controls",
      "model_module_version": "1.4.0",
      "model_name": "ProgressStyleModel",
      "state": {
       "_model_module_version": "1.4.0",
       "_view_module_version": "1.1.0",
       "description_width": ""
      }
     },
     "0c21f217ec8248599139ca5237c57ab3": {
      "model_module": "@jupyter-widgets/controls",
      "model_module_version": "1.4.0",
      "model_name": "HTMLModel",
      "state": {
       "_model_module_version": "1.4.0",
       "_view_module_version": "1.4.0",
       "layout": "IPY_MODEL_1af40342faf14ea5b1373021f2383f55",
       "style": "IPY_MODEL_bd832d1e4e924f6ca0882947514ef66d",
       "value": "  0% 0/100 [00:00&lt;?, ?it/s]"
      }
     },
     "0c9544c4812f4035b0853a7a8d27efd8": {
      "model_module": "@jupyter-widgets/controls",
      "model_module_version": "1.4.0",
      "model_name": "DescriptionStyleModel",
      "state": {
       "_model_module_version": "1.4.0",
       "_view_module_version": "1.1.0",
       "description_width": ""
      }
     },
     "0d0e8e121e714c8bacce728bd72f29aa": {
      "model_module": "@jupyter-widgets/controls",
      "model_module_version": "1.4.0",
      "model_name": "ProgressStyleModel",
      "state": {
       "_model_module_version": "1.4.0",
       "_view_module_version": "1.1.0",
       "description_width": ""
      }
     },
     "0d7abd2d8eff4aa7a1430a3e3150d471": {
      "model_module": "@jupyter-widgets/base",
      "model_module_version": "1.1.0",
      "model_name": "LayoutModel",
      "state": {
       "_model_module_version": "1.1.0",
       "_view_module_version": "1.1.0"
      }
     },
     "0dbbf2bf6da946dd9b613445f9f0ab9d": {
      "model_module": "@jupyter-widgets/controls",
      "model_module_version": "1.4.0",
      "model_name": "HTMLModel",
      "state": {
       "_model_module_version": "1.4.0",
       "_view_module_version": "1.4.0",
       "layout": "IPY_MODEL_07f30c77a35c4c83a1a50ee4dcae8a72",
       "style": "IPY_MODEL_ad2d99b7eaa2489085a722eaf759e93a",
       "value": "100% 9000/9000 [3:41:06&lt;00:00,  1.46s/it]"
      }
     },
     "0e153405bf164eba94b21eb1d856e7b3": {
      "model_module": "@jupyter-widgets/controls",
      "model_module_version": "1.4.0",
      "model_name": "IntProgressModel",
      "state": {
       "_model_module_version": "1.4.0",
       "_view_module_version": "1.4.0",
       "bar_style": "success",
       "layout": "IPY_MODEL_5e4c8a5374a241c0a8446383c515f1bd",
       "max": 1000,
       "style": "IPY_MODEL_9d7ca0474ef1430984ab2f318eefd262",
       "value": 1000
      }
     },
     "0fd6d1c49fcf4e5ba813c9c7854f415f": {
      "model_module": "@jupyter-widgets/controls",
      "model_module_version": "1.4.0",
      "model_name": "DescriptionStyleModel",
      "state": {
       "_model_module_version": "1.4.0",
       "_view_module_version": "1.1.0",
       "description_width": ""
      }
     },
     "1043794e1f9447728d5302ff2add6097": {
      "model_module": "@jupyter-widgets/base",
      "model_module_version": "1.1.0",
      "model_name": "LayoutModel",
      "state": {
       "_model_module_version": "1.1.0",
       "_view_module_version": "1.1.0"
      }
     },
     "1098c134e1864b58b31e8e820fcc93fe": {
      "model_module": "@jupyter-widgets/base",
      "model_module_version": "1.1.0",
      "model_name": "LayoutModel",
      "state": {
       "_model_module_version": "1.1.0",
       "_view_module_version": "1.1.0"
      }
     },
     "10b86c6ce2ee4ccd9868cbd0aefa4b1d": {
      "model_module": "@jupyter-widgets/controls",
      "model_module_version": "1.4.0",
      "model_name": "IntProgressModel",
      "state": {
       "_model_module_version": "1.4.0",
       "_view_module_version": "1.4.0",
       "bar_style": "danger",
       "layout": "IPY_MODEL_ee27906c408e48589be7ffaf54101970",
       "style": "IPY_MODEL_0a29ef21cea24a9b9ff60a27d8466db9"
      }
     },
     "1284541af2474a8b983765a960136dba": {
      "model_module": "@jupyter-widgets/controls",
      "model_module_version": "1.4.0",
      "model_name": "DescriptionStyleModel",
      "state": {
       "_model_module_version": "1.4.0",
       "_view_module_version": "1.1.0",
       "description_width": ""
      }
     },
     "1333aa949d4e4c21af6c54bdc4afdd31": {
      "model_module": "@jupyter-widgets/controls",
      "model_module_version": "1.4.0",
      "model_name": "HTMLModel",
      "state": {
       "_model_module_version": "1.4.0",
       "_view_module_version": "1.4.0",
       "layout": "IPY_MODEL_829eccb0afbc4d2f8ea10e65904f1988",
       "style": "IPY_MODEL_bae10c0a17984687970d54fa7ff9cda2",
       "value": "  0% 0/1000 [00:00&lt;?, ?it/s]"
      }
     },
     "1379733397fd474ea605f5d73ca37179": {
      "model_module": "@jupyter-widgets/base",
      "model_module_version": "1.1.0",
      "model_name": "LayoutModel",
      "state": {
       "_model_module_version": "1.1.0",
       "_view_module_version": "1.1.0"
      }
     },
     "13a30340accf460ebf3d5926ae1cc315": {
      "model_module": "@jupyter-widgets/base",
      "model_module_version": "1.1.0",
      "model_name": "LayoutModel",
      "state": {
       "_model_module_version": "1.1.0",
       "_view_module_version": "1.1.0"
      }
     },
     "13b8277a385047fda2eebb999303eaff": {
      "model_module": "@jupyter-widgets/controls",
      "model_module_version": "1.4.0",
      "model_name": "IntProgressModel",
      "state": {
       "_model_module_version": "1.4.0",
       "_view_module_version": "1.4.0",
       "bar_style": "danger",
       "layout": "IPY_MODEL_b4a85fb730e24a7f8f6583d109f6202f",
       "max": 50,
       "style": "IPY_MODEL_0370cb9be45545db9519af22217bcbdc"
      }
     },
     "13dfd23a4b3749479a5bcfe0fcd84af0": {
      "model_module": "@jupyter-widgets/base",
      "model_module_version": "1.1.0",
      "model_name": "LayoutModel",
      "state": {
       "_model_module_version": "1.1.0",
       "_view_module_version": "1.1.0"
      }
     },
     "14a5f70b39924427b7a052d475a9287d": {
      "model_module": "@jupyter-widgets/controls",
      "model_module_version": "1.4.0",
      "model_name": "HBoxModel",
      "state": {
       "_model_module_version": "1.4.0",
       "_view_module_version": "1.4.0",
       "children": [
        "IPY_MODEL_10b86c6ce2ee4ccd9868cbd0aefa4b1d",
        "IPY_MODEL_546bd87ae90a405086b3263abb326052"
       ],
       "layout": "IPY_MODEL_8af56d74565342bda5faffdb95dd976a"
      }
     },
     "1523255a550d4fdda34a48525430dc31": {
      "model_module": "@jupyter-widgets/controls",
      "model_module_version": "1.4.0",
      "model_name": "DescriptionStyleModel",
      "state": {
       "_model_module_version": "1.4.0",
       "_view_module_version": "1.1.0",
       "description_width": ""
      }
     },
     "1598ba76eb954818a1319af1712c0ed7": {
      "model_module": "@jupyter-widgets/controls",
      "model_module_version": "1.4.0",
      "model_name": "HTMLModel",
      "state": {
       "_model_module_version": "1.4.0",
       "_view_module_version": "1.4.0",
       "layout": "IPY_MODEL_bcd5d3cd78bf44a39b935691e8a70fc1",
       "style": "IPY_MODEL_5b701df200a94e0ea4b5badbf191651a",
       "value": "100% 100/100 [02:43&lt;00:00,  1.83s/it]"
      }
     },
     "159cfe930e944e31a11de3b4f25a61d0": {
      "model_module": "@jupyter-widgets/controls",
      "model_module_version": "1.4.0",
      "model_name": "ProgressStyleModel",
      "state": {
       "_model_module_version": "1.4.0",
       "_view_module_version": "1.1.0",
       "description_width": ""
      }
     },
     "15b56d5d25c04299a3a585b09dd4f718": {
      "model_module": "@jupyter-widgets/base",
      "model_module_version": "1.1.0",
      "model_name": "LayoutModel",
      "state": {
       "_model_module_version": "1.1.0",
       "_view_module_version": "1.1.0"
      }
     },
     "167fef9e683844489c9b005f048bbeee": {
      "model_module": "@jupyter-widgets/base",
      "model_module_version": "1.1.0",
      "model_name": "LayoutModel",
      "state": {
       "_model_module_version": "1.1.0",
       "_view_module_version": "1.1.0"
      }
     },
     "174bd472772e46a4980b7b13448d5c50": {
      "model_module": "@jupyter-widgets/controls",
      "model_module_version": "1.4.0",
      "model_name": "IntProgressModel",
      "state": {
       "_model_module_version": "1.4.0",
       "_view_module_version": "1.4.0",
       "bar_style": "success",
       "layout": "IPY_MODEL_42d524ecde394057a5f0e6c8e62a1159",
       "max": 1500,
       "style": "IPY_MODEL_5c38bb85538942e1875183c22242dd02",
       "value": 1500
      }
     },
     "1a762a93f58446799f60746e5ef0ab0b": {
      "model_module": "@jupyter-widgets/base",
      "model_module_version": "1.1.0",
      "model_name": "LayoutModel",
      "state": {
       "_model_module_version": "1.1.0",
       "_view_module_version": "1.1.0"
      }
     },
     "1af40342faf14ea5b1373021f2383f55": {
      "model_module": "@jupyter-widgets/base",
      "model_module_version": "1.1.0",
      "model_name": "LayoutModel",
      "state": {
       "_model_module_version": "1.1.0",
       "_view_module_version": "1.1.0"
      }
     },
     "1b114ad70d9641daa6babc08bd7d8c2d": {
      "model_module": "@jupyter-widgets/controls",
      "model_module_version": "1.4.0",
      "model_name": "HBoxModel",
      "state": {
       "_model_module_version": "1.4.0",
       "_view_module_version": "1.4.0",
       "children": [
        "IPY_MODEL_630bfbbb77af4a5f9abaa8e959be16f7",
        "IPY_MODEL_c529771774724ebd8ee7b218cdd1fbe3"
       ],
       "layout": "IPY_MODEL_3db784b2605d4192b2ea42ef7ab4ff02"
      }
     },
     "1b5ea0ad89744998a3103141a47feaec": {
      "model_module": "@jupyter-widgets/controls",
      "model_module_version": "1.4.0",
      "model_name": "DescriptionStyleModel",
      "state": {
       "_model_module_version": "1.4.0",
       "_view_module_version": "1.1.0",
       "description_width": ""
      }
     },
     "1c32ec3838f9441fb9c06b607c25c997": {
      "model_module": "@jupyter-widgets/controls",
      "model_module_version": "1.4.0",
      "model_name": "HTMLModel",
      "state": {
       "_model_module_version": "1.4.0",
       "_view_module_version": "1.4.0",
       "layout": "IPY_MODEL_1098c134e1864b58b31e8e820fcc93fe",
       "style": "IPY_MODEL_c00c6edc66684431a50258da9961e201",
       "value": "  0% 0/100 [00:00&lt;?, ?it/s]"
      }
     },
     "1ca6e882a37c4f9fbe7a3e181e997c13": {
      "model_module": "@jupyter-widgets/base",
      "model_module_version": "1.1.0",
      "model_name": "LayoutModel",
      "state": {
       "_model_module_version": "1.1.0",
       "_view_module_version": "1.1.0"
      }
     },
     "1d7e49a4f0604a0ba93bf35e55e603b0": {
      "model_module": "@jupyter-widgets/controls",
      "model_module_version": "1.4.0",
      "model_name": "IntProgressModel",
      "state": {
       "_model_module_version": "1.4.0",
       "_view_module_version": "1.4.0",
       "bar_style": "success",
       "layout": "IPY_MODEL_81c6fb912e1345ebb8009d4595ff18dc",
       "style": "IPY_MODEL_f1bc146105ea4531aa879f53a6906c97",
       "value": 100
      }
     },
     "1e6756c44ae8493b9f61793e9cb14b2f": {
      "model_module": "@jupyter-widgets/base",
      "model_module_version": "1.1.0",
      "model_name": "LayoutModel",
      "state": {
       "_model_module_version": "1.1.0",
       "_view_module_version": "1.1.0"
      }
     },
     "202c330a84f64881beb2906b38aab22a": {
      "model_module": "@jupyter-widgets/controls",
      "model_module_version": "1.4.0",
      "model_name": "ProgressStyleModel",
      "state": {
       "_model_module_version": "1.4.0",
       "_view_module_version": "1.1.0",
       "description_width": ""
      }
     },
     "207ffe61e47b44a68b7fc5a3cb4fbb30": {
      "model_module": "@jupyter-widgets/controls",
      "model_module_version": "1.4.0",
      "model_name": "ProgressStyleModel",
      "state": {
       "_model_module_version": "1.4.0",
       "_view_module_version": "1.1.0",
       "description_width": ""
      }
     },
     "20ff01eac5f34492b5b75618ceae118c": {
      "model_module": "@jupyter-widgets/base",
      "model_module_version": "1.1.0",
      "model_name": "LayoutModel",
      "state": {
       "_model_module_version": "1.1.0",
       "_view_module_version": "1.1.0"
      }
     },
     "233c4707ade64886b728b9ca738307dc": {
      "model_module": "@jupyter-widgets/base",
      "model_module_version": "1.1.0",
      "model_name": "LayoutModel",
      "state": {
       "_model_module_version": "1.1.0",
       "_view_module_version": "1.1.0"
      }
     },
     "2468e1005ca34e8ea85c228790ae1c5a": {
      "model_module": "@jupyter-widgets/controls",
      "model_module_version": "1.4.0",
      "model_name": "IntProgressModel",
      "state": {
       "_model_module_version": "1.4.0",
       "_view_module_version": "1.4.0",
       "bar_style": "danger",
       "layout": "IPY_MODEL_b609542f514943c28c0db0afe56987d1",
       "style": "IPY_MODEL_ab36f2fa0ea84a8fa83bfb4558e9dc3c"
      }
     },
     "2489eae559144bb2b77b55017ed3f77f": {
      "model_module": "@jupyter-widgets/base",
      "model_module_version": "1.1.0",
      "model_name": "LayoutModel",
      "state": {
       "_model_module_version": "1.1.0",
       "_view_module_version": "1.1.0"
      }
     },
     "24f89d49ec5c4c63877f807a0d9608c9": {
      "model_module": "@jupyter-widgets/controls",
      "model_module_version": "1.4.0",
      "model_name": "HBoxModel",
      "state": {
       "_model_module_version": "1.4.0",
       "_view_module_version": "1.4.0",
       "children": [
        "IPY_MODEL_999009afb8fe4917a38db28fbb1295ef",
        "IPY_MODEL_ec30a46385424b77b5dbd594e7535be4"
       ],
       "layout": "IPY_MODEL_abf72239c59b494e800ea7bca4196542"
      }
     },
     "26942a0d270e4f17b999ee6bb0c9cb08": {
      "model_module": "@jupyter-widgets/controls",
      "model_module_version": "1.4.0",
      "model_name": "HBoxModel",
      "state": {
       "_model_module_version": "1.4.0",
       "_view_module_version": "1.4.0",
       "children": [
        "IPY_MODEL_0e153405bf164eba94b21eb1d856e7b3",
        "IPY_MODEL_0958b9d9ecac41049954e471f3b1385b"
       ],
       "layout": "IPY_MODEL_63742d9447ec43808cc1bdf9d10e6be0"
      }
     },
     "26f00a72b38d44c183323e96a10777ca": {
      "model_module": "@jupyter-widgets/controls",
      "model_module_version": "1.4.0",
      "model_name": "IntProgressModel",
      "state": {
       "_model_module_version": "1.4.0",
       "_view_module_version": "1.4.0",
       "bar_style": "success",
       "layout": "IPY_MODEL_611cd00a258e4156aa1e9d2a34d5f401",
       "max": 1000,
       "style": "IPY_MODEL_c902ec0d28834d70ad12619393a112d2",
       "value": 1000
      }
     },
     "289c9886aafc4f9094b405b4ea492772": {
      "model_module": "@jupyter-widgets/controls",
      "model_module_version": "1.4.0",
      "model_name": "IntProgressModel",
      "state": {
       "_model_module_version": "1.4.0",
       "_view_module_version": "1.4.0",
       "bar_style": "success",
       "layout": "IPY_MODEL_a6bfd8bc055c41cca86a8da6803c8ffd",
       "style": "IPY_MODEL_9cceaab956a44481a4e6c542c84e96bd",
       "value": 100
      }
     },
     "2975c1ef064f4c4cb868dbd3e1eb571d": {
      "model_module": "@jupyter-widgets/base",
      "model_module_version": "1.1.0",
      "model_name": "LayoutModel",
      "state": {
       "_model_module_version": "1.1.0",
       "_view_module_version": "1.1.0"
      }
     },
     "2a6e313e3b8a4bd1ac5dd00bcddbc0a5": {
      "model_module": "@jupyter-widgets/controls",
      "model_module_version": "1.4.0",
      "model_name": "IntProgressModel",
      "state": {
       "_model_module_version": "1.4.0",
       "_view_module_version": "1.4.0",
       "bar_style": "danger",
       "layout": "IPY_MODEL_167fef9e683844489c9b005f048bbeee",
       "max": 50,
       "style": "IPY_MODEL_5fdc67119cfe42a1bdf625b3e367a406"
      }
     },
     "2b419ea9d2e241b5a9d623df605177d7": {
      "model_module": "@jupyter-widgets/base",
      "model_module_version": "1.1.0",
      "model_name": "LayoutModel",
      "state": {
       "_model_module_version": "1.1.0",
       "_view_module_version": "1.1.0"
      }
     },
     "2caa4804c99544b19fae0da34f6928f3": {
      "model_module": "@jupyter-widgets/controls",
      "model_module_version": "1.4.0",
      "model_name": "DescriptionStyleModel",
      "state": {
       "_model_module_version": "1.4.0",
       "_view_module_version": "1.1.0",
       "description_width": ""
      }
     },
     "2e139250027148738dbc22d4c61bce03": {
      "model_module": "@jupyter-widgets/controls",
      "model_module_version": "1.4.0",
      "model_name": "HTMLModel",
      "state": {
       "_model_module_version": "1.4.0",
       "_view_module_version": "1.4.0",
       "layout": "IPY_MODEL_ec65db1c4ae544d8a89db6347e98b016",
       "style": "IPY_MODEL_1b5ea0ad89744998a3103141a47feaec",
       "value": "100% 100/100 [02:26&lt;00:00,  1.45s/it]"
      }
     },
     "2fe3ed0423354b80aa9d3c7137009c51": {
      "model_module": "@jupyter-widgets/base",
      "model_module_version": "1.1.0",
      "model_name": "LayoutModel",
      "state": {
       "_model_module_version": "1.1.0",
       "_view_module_version": "1.1.0"
      }
     },
     "318c3181d0184e7582af900384ec1278": {
      "model_module": "@jupyter-widgets/controls",
      "model_module_version": "1.4.0",
      "model_name": "IntProgressModel",
      "state": {
       "_model_module_version": "1.4.0",
       "_view_module_version": "1.4.0",
       "layout": "IPY_MODEL_600ed957126345bfbd26d513cd51ffa7",
       "max": 8000,
       "style": "IPY_MODEL_159cfe930e944e31a11de3b4f25a61d0",
       "value": 7768
      }
     },
     "325b56cfc62f4ced8d0b5b11c1f691fa": {
      "model_module": "@jupyter-widgets/controls",
      "model_module_version": "1.4.0",
      "model_name": "IntProgressModel",
      "state": {
       "_model_module_version": "1.4.0",
       "_view_module_version": "1.4.0",
       "bar_style": "danger",
       "layout": "IPY_MODEL_52f4404a0862419488ef49b150105adf",
       "style": "IPY_MODEL_33ccd281172344c4895fb0049197d608",
       "value": 3
      }
     },
     "3279486ea5f0488c91cb6c667256017d": {
      "model_module": "@jupyter-widgets/base",
      "model_module_version": "1.1.0",
      "model_name": "LayoutModel",
      "state": {
       "_model_module_version": "1.1.0",
       "_view_module_version": "1.1.0"
      }
     },
     "33ccd281172344c4895fb0049197d608": {
      "model_module": "@jupyter-widgets/controls",
      "model_module_version": "1.4.0",
      "model_name": "ProgressStyleModel",
      "state": {
       "_model_module_version": "1.4.0",
       "_view_module_version": "1.1.0",
       "description_width": ""
      }
     },
     "34864ab4ab17476ebe596dbc2055a757": {
      "model_module": "@jupyter-widgets/base",
      "model_module_version": "1.1.0",
      "model_name": "LayoutModel",
      "state": {
       "_model_module_version": "1.1.0",
       "_view_module_version": "1.1.0"
      }
     },
     "3532cddfc2964f8db2b2d54666d77515": {
      "model_module": "@jupyter-widgets/controls",
      "model_module_version": "1.4.0",
      "model_name": "HBoxModel",
      "state": {
       "_model_module_version": "1.4.0",
       "_view_module_version": "1.4.0",
       "children": [
        "IPY_MODEL_6cd7a91b80b348a191204a2b97cf8067",
        "IPY_MODEL_c7fa62c84bee4189a3c05f6ad4f45188"
       ],
       "layout": "IPY_MODEL_838432c398f141098b188cdf2b040680"
      }
     },
     "35553fbcd4db4a7d88fd4ad25650bb02": {
      "model_module": "@jupyter-widgets/base",
      "model_module_version": "1.1.0",
      "model_name": "LayoutModel",
      "state": {
       "_model_module_version": "1.1.0",
       "_view_module_version": "1.1.0"
      }
     },
     "3648ed0962b24596a1c757aa9acdbd30": {
      "model_module": "@jupyter-widgets/controls",
      "model_module_version": "1.4.0",
      "model_name": "ProgressStyleModel",
      "state": {
       "_model_module_version": "1.4.0",
       "_view_module_version": "1.1.0",
       "description_width": ""
      }
     },
     "367c9875ba764dfe831aa69fc6968233": {
      "model_module": "@jupyter-widgets/controls",
      "model_module_version": "1.4.0",
      "model_name": "DescriptionStyleModel",
      "state": {
       "_model_module_version": "1.4.0",
       "_view_module_version": "1.1.0",
       "description_width": ""
      }
     },
     "38bf11310d554baaa60353cb47029c3b": {
      "model_module": "@jupyter-widgets/controls",
      "model_module_version": "1.4.0",
      "model_name": "DescriptionStyleModel",
      "state": {
       "_model_module_version": "1.4.0",
       "_view_module_version": "1.1.0",
       "description_width": ""
      }
     },
     "38e9a18ee16240a0a3d0e16f4a5353bd": {
      "model_module": "@jupyter-widgets/controls",
      "model_module_version": "1.4.0",
      "model_name": "IntProgressModel",
      "state": {
       "_model_module_version": "1.4.0",
       "_view_module_version": "1.4.0",
       "bar_style": "danger",
       "layout": "IPY_MODEL_6741f4917ead439e919d75637c309c58",
       "style": "IPY_MODEL_f4e9e995a1fc4d75bc9154c2267538be"
      }
     },
     "3a91e552f5e04a2496a45e3e2fefad91": {
      "model_module": "@jupyter-widgets/controls",
      "model_module_version": "1.4.0",
      "model_name": "DescriptionStyleModel",
      "state": {
       "_model_module_version": "1.4.0",
       "_view_module_version": "1.1.0",
       "description_width": ""
      }
     },
     "3d25e500cfe14f01aa9b8d6a5cd1aa19": {
      "model_module": "@jupyter-widgets/base",
      "model_module_version": "1.1.0",
      "model_name": "LayoutModel",
      "state": {
       "_model_module_version": "1.1.0",
       "_view_module_version": "1.1.0"
      }
     },
     "3d51f15aa4f348128770613ebdde9681": {
      "model_module": "@jupyter-widgets/controls",
      "model_module_version": "1.4.0",
      "model_name": "HBoxModel",
      "state": {
       "_model_module_version": "1.4.0",
       "_view_module_version": "1.4.0",
       "children": [
        "IPY_MODEL_c6db90a1a2b646798564b974089a4d6c",
        "IPY_MODEL_8195a07ad81f4713bd34fdaa9bf54711"
       ],
       "layout": "IPY_MODEL_f6edaad056c24f12aa027ac922d5880e"
      }
     },
     "3db784b2605d4192b2ea42ef7ab4ff02": {
      "model_module": "@jupyter-widgets/base",
      "model_module_version": "1.1.0",
      "model_name": "LayoutModel",
      "state": {
       "_model_module_version": "1.1.0",
       "_view_module_version": "1.1.0"
      }
     },
     "3df0fda208c948f1b0033da5e9953d03": {
      "model_module": "@jupyter-widgets/base",
      "model_module_version": "1.1.0",
      "model_name": "LayoutModel",
      "state": {
       "_model_module_version": "1.1.0",
       "_view_module_version": "1.1.0"
      }
     },
     "3ef4979fa48f45a4996f1b1926cb8b27": {
      "model_module": "@jupyter-widgets/controls",
      "model_module_version": "1.4.0",
      "model_name": "DescriptionStyleModel",
      "state": {
       "_model_module_version": "1.4.0",
       "_view_module_version": "1.1.0",
       "description_width": ""
      }
     },
     "3f58b64ae86e4c9fb037e42f63a08d30": {
      "model_module": "@jupyter-widgets/controls",
      "model_module_version": "1.4.0",
      "model_name": "HBoxModel",
      "state": {
       "_model_module_version": "1.4.0",
       "_view_module_version": "1.4.0",
       "children": [
        "IPY_MODEL_f242ed1245d34a1e8946fbf9ae397e82",
        "IPY_MODEL_0dbbf2bf6da946dd9b613445f9f0ab9d"
       ],
       "layout": "IPY_MODEL_70c9b8692d384521a1e6cab4502c7c7b"
      }
     },
     "424caeda8c5e4432bceb01d165dc5700": {
      "model_module": "@jupyter-widgets/controls",
      "model_module_version": "1.4.0",
      "model_name": "HBoxModel",
      "state": {
       "_model_module_version": "1.4.0",
       "_view_module_version": "1.4.0",
       "children": [
        "IPY_MODEL_b55ffd0133294e55acfe3bc0ef98d339",
        "IPY_MODEL_bf2f9149fef94987b12b4f687793d9c0"
       ],
       "layout": "IPY_MODEL_ec00a697e5e7498294937a343e0de485"
      }
     },
     "424d795f0f9441ac8476153f8f455210": {
      "model_module": "@jupyter-widgets/controls",
      "model_module_version": "1.4.0",
      "model_name": "HTMLModel",
      "state": {
       "_model_module_version": "1.4.0",
       "_view_module_version": "1.4.0",
       "layout": "IPY_MODEL_3279486ea5f0488c91cb6c667256017d",
       "style": "IPY_MODEL_3ef4979fa48f45a4996f1b1926cb8b27",
       "value": "  0% 0/50 [00:00&lt;?, ?it/s]"
      }
     },
     "42d524ecde394057a5f0e6c8e62a1159": {
      "model_module": "@jupyter-widgets/base",
      "model_module_version": "1.1.0",
      "model_name": "LayoutModel",
      "state": {
       "_model_module_version": "1.1.0",
       "_view_module_version": "1.1.0"
      }
     },
     "42ef620931704a7ba911ea6dd0d1740b": {
      "model_module": "@jupyter-widgets/controls",
      "model_module_version": "1.4.0",
      "model_name": "DescriptionStyleModel",
      "state": {
       "_model_module_version": "1.4.0",
       "_view_module_version": "1.1.0",
       "description_width": ""
      }
     },
     "43affbb0419c49148537677665e6f88f": {
      "model_module": "@jupyter-widgets/base",
      "model_module_version": "1.1.0",
      "model_name": "LayoutModel",
      "state": {
       "_model_module_version": "1.1.0",
       "_view_module_version": "1.1.0"
      }
     },
     "4427efc0ea184708b880a6aeaac912a6": {
      "model_module": "@jupyter-widgets/base",
      "model_module_version": "1.1.0",
      "model_name": "LayoutModel",
      "state": {
       "_model_module_version": "1.1.0",
       "_view_module_version": "1.1.0"
      }
     },
     "449cc823343a404b863bbee50ae0ad1c": {
      "model_module": "@jupyter-widgets/controls",
      "model_module_version": "1.4.0",
      "model_name": "HBoxModel",
      "state": {
       "_model_module_version": "1.4.0",
       "_view_module_version": "1.4.0",
       "children": [
        "IPY_MODEL_38e9a18ee16240a0a3d0e16f4a5353bd",
        "IPY_MODEL_0c21f217ec8248599139ca5237c57ab3"
       ],
       "layout": "IPY_MODEL_685d9aaa13ce4620942c7bad3255609f"
      }
     },
     "45316ce1599a4665a18ee3cd286a273c": {
      "model_module": "@jupyter-widgets/controls",
      "model_module_version": "1.4.0",
      "model_name": "DescriptionStyleModel",
      "state": {
       "_model_module_version": "1.4.0",
       "_view_module_version": "1.1.0",
       "description_width": ""
      }
     },
     "483999cdb1854fcaa97178767cdd4705": {
      "model_module": "@jupyter-widgets/base",
      "model_module_version": "1.1.0",
      "model_name": "LayoutModel",
      "state": {
       "_model_module_version": "1.1.0",
       "_view_module_version": "1.1.0"
      }
     },
     "494d9373335546979864f55acde52c19": {
      "model_module": "@jupyter-widgets/controls",
      "model_module_version": "1.4.0",
      "model_name": "DescriptionStyleModel",
      "state": {
       "_model_module_version": "1.4.0",
       "_view_module_version": "1.1.0",
       "description_width": ""
      }
     },
     "4a4e558275d54be08e42cfb9f2bce850": {
      "model_module": "@jupyter-widgets/controls",
      "model_module_version": "1.4.0",
      "model_name": "ProgressStyleModel",
      "state": {
       "_model_module_version": "1.4.0",
       "_view_module_version": "1.1.0",
       "description_width": ""
      }
     },
     "4fdb5f78659d4c918767b60a8818d440": {
      "model_module": "@jupyter-widgets/controls",
      "model_module_version": "1.4.0",
      "model_name": "HTMLModel",
      "state": {
       "_model_module_version": "1.4.0",
       "_view_module_version": "1.4.0",
       "layout": "IPY_MODEL_2975c1ef064f4c4cb868dbd3e1eb571d",
       "style": "IPY_MODEL_d6ab88f3de7c42498adc03913f973a30",
       "value": "100% 100/100 [02:24&lt;00:00,  1.43s/it]"
      }
     },
     "4fe55bfc53a8443d88bbaf9927706f67": {
      "model_module": "@jupyter-widgets/base",
      "model_module_version": "1.1.0",
      "model_name": "LayoutModel",
      "state": {
       "_model_module_version": "1.1.0",
       "_view_module_version": "1.1.0"
      }
     },
     "505e7e8c7ca04dab81a776315eed2d5a": {
      "model_module": "@jupyter-widgets/base",
      "model_module_version": "1.1.0",
      "model_name": "LayoutModel",
      "state": {
       "_model_module_version": "1.1.0",
       "_view_module_version": "1.1.0"
      }
     },
     "52f4404a0862419488ef49b150105adf": {
      "model_module": "@jupyter-widgets/base",
      "model_module_version": "1.1.0",
      "model_name": "LayoutModel",
      "state": {
       "_model_module_version": "1.1.0",
       "_view_module_version": "1.1.0"
      }
     },
     "533ca554a52a49ffb9f36189808ad7c0": {
      "model_module": "@jupyter-widgets/base",
      "model_module_version": "1.1.0",
      "model_name": "LayoutModel",
      "state": {
       "_model_module_version": "1.1.0",
       "_view_module_version": "1.1.0"
      }
     },
     "5431f760326a45fa9fb4de8975835bf1": {
      "model_module": "@jupyter-widgets/controls",
      "model_module_version": "1.4.0",
      "model_name": "ProgressStyleModel",
      "state": {
       "_model_module_version": "1.4.0",
       "_view_module_version": "1.1.0",
       "description_width": ""
      }
     },
     "5442b74f453a4a08b8209f38f0553c7d": {
      "model_module": "@jupyter-widgets/controls",
      "model_module_version": "1.4.0",
      "model_name": "DescriptionStyleModel",
      "state": {
       "_model_module_version": "1.4.0",
       "_view_module_version": "1.1.0",
       "description_width": ""
      }
     },
     "5454fd2c5bde41d1a5cbadd7f78602eb": {
      "model_module": "@jupyter-widgets/controls",
      "model_module_version": "1.4.0",
      "model_name": "IntProgressModel",
      "state": {
       "_model_module_version": "1.4.0",
       "_view_module_version": "1.4.0",
       "bar_style": "danger",
       "layout": "IPY_MODEL_b74695983fba4c3a91b622653c50caae",
       "style": "IPY_MODEL_a3049ef407914f1ca7333facb9f5c5f8",
       "value": 21
      }
     },
     "546bd87ae90a405086b3263abb326052": {
      "model_module": "@jupyter-widgets/controls",
      "model_module_version": "1.4.0",
      "model_name": "HTMLModel",
      "state": {
       "_model_module_version": "1.4.0",
       "_view_module_version": "1.4.0",
       "layout": "IPY_MODEL_a6d8a601953b412babbe8b7d1388a868",
       "style": "IPY_MODEL_38bf11310d554baaa60353cb47029c3b",
       "value": "  0% 0/100 [00:00&lt;?, ?it/s]"
      }
     },
     "57427b2b4b6b40c0927ac5be819028c2": {
      "model_module": "@jupyter-widgets/controls",
      "model_module_version": "1.4.0",
      "model_name": "HBoxModel",
      "state": {
       "_model_module_version": "1.4.0",
       "_view_module_version": "1.4.0",
       "children": [
        "IPY_MODEL_325b56cfc62f4ced8d0b5b11c1f691fa",
        "IPY_MODEL_d404bc974f6645669cf626ddef46d3b7"
       ],
       "layout": "IPY_MODEL_67020965c06446409b68a026bb29a0a3"
      }
     },
     "58323662396d44bb8f65e7d3fdfdd8ea": {
      "model_module": "@jupyter-widgets/controls",
      "model_module_version": "1.4.0",
      "model_name": "IntProgressModel",
      "state": {
       "_model_module_version": "1.4.0",
       "_view_module_version": "1.4.0",
       "bar_style": "danger",
       "layout": "IPY_MODEL_68c5f58dc999486fa51381fec33c8bc8",
       "style": "IPY_MODEL_5431f760326a45fa9fb4de8975835bf1"
      }
     },
     "5b701df200a94e0ea4b5badbf191651a": {
      "model_module": "@jupyter-widgets/controls",
      "model_module_version": "1.4.0",
      "model_name": "DescriptionStyleModel",
      "state": {
       "_model_module_version": "1.4.0",
       "_view_module_version": "1.1.0",
       "description_width": ""
      }
     },
     "5c38bb85538942e1875183c22242dd02": {
      "model_module": "@jupyter-widgets/controls",
      "model_module_version": "1.4.0",
      "model_name": "ProgressStyleModel",
      "state": {
       "_model_module_version": "1.4.0",
       "_view_module_version": "1.1.0",
       "description_width": ""
      }
     },
     "5d9616cf43ab4480b7690185ce373409": {
      "model_module": "@jupyter-widgets/controls",
      "model_module_version": "1.4.0",
      "model_name": "DescriptionStyleModel",
      "state": {
       "_model_module_version": "1.4.0",
       "_view_module_version": "1.1.0",
       "description_width": ""
      }
     },
     "5e4c8a5374a241c0a8446383c515f1bd": {
      "model_module": "@jupyter-widgets/base",
      "model_module_version": "1.1.0",
      "model_name": "LayoutModel",
      "state": {
       "_model_module_version": "1.1.0",
       "_view_module_version": "1.1.0"
      }
     },
     "5fdc67119cfe42a1bdf625b3e367a406": {
      "model_module": "@jupyter-widgets/controls",
      "model_module_version": "1.4.0",
      "model_name": "ProgressStyleModel",
      "state": {
       "_model_module_version": "1.4.0",
       "_view_module_version": "1.1.0",
       "description_width": ""
      }
     },
     "600ed957126345bfbd26d513cd51ffa7": {
      "model_module": "@jupyter-widgets/base",
      "model_module_version": "1.1.0",
      "model_name": "LayoutModel",
      "state": {
       "_model_module_version": "1.1.0",
       "_view_module_version": "1.1.0"
      }
     },
     "611cd00a258e4156aa1e9d2a34d5f401": {
      "model_module": "@jupyter-widgets/base",
      "model_module_version": "1.1.0",
      "model_name": "LayoutModel",
      "state": {
       "_model_module_version": "1.1.0",
       "_view_module_version": "1.1.0"
      }
     },
     "6167f1d183ea44789b9354acb8a23459": {
      "model_module": "@jupyter-widgets/controls",
      "model_module_version": "1.4.0",
      "model_name": "ProgressStyleModel",
      "state": {
       "_model_module_version": "1.4.0",
       "_view_module_version": "1.1.0",
       "description_width": ""
      }
     },
     "617681a0f8c840868139886ab9c0b7b2": {
      "model_module": "@jupyter-widgets/controls",
      "model_module_version": "1.4.0",
      "model_name": "HBoxModel",
      "state": {
       "_model_module_version": "1.4.0",
       "_view_module_version": "1.4.0",
       "children": [
        "IPY_MODEL_b1a674cbfca84eab80fad72f439d7b36",
        "IPY_MODEL_e0ab7fb14aa0406d911afd5fd28927ec"
       ],
       "layout": "IPY_MODEL_8a9ff39627944d6abd9fd132527ba187"
      }
     },
     "61aa88559990415a8405f241d74a35b0": {
      "model_module": "@jupyter-widgets/controls",
      "model_module_version": "1.4.0",
      "model_name": "ProgressStyleModel",
      "state": {
       "_model_module_version": "1.4.0",
       "_view_module_version": "1.1.0",
       "description_width": ""
      }
     },
     "630bfbbb77af4a5f9abaa8e959be16f7": {
      "model_module": "@jupyter-widgets/controls",
      "model_module_version": "1.4.0",
      "model_name": "IntProgressModel",
      "state": {
       "_model_module_version": "1.4.0",
       "_view_module_version": "1.4.0",
       "bar_style": "danger",
       "layout": "IPY_MODEL_b6085fd96cdc403fa051e53e0d6d1e17",
       "style": "IPY_MODEL_8ca0719fe3424408b477885b873742eb",
       "value": 2
      }
     },
     "63742d9447ec43808cc1bdf9d10e6be0": {
      "model_module": "@jupyter-widgets/base",
      "model_module_version": "1.1.0",
      "model_name": "LayoutModel",
      "state": {
       "_model_module_version": "1.1.0",
       "_view_module_version": "1.1.0"
      }
     },
     "63c116e93f3944bfa21f8cb3b9761d8e": {
      "model_module": "@jupyter-widgets/base",
      "model_module_version": "1.1.0",
      "model_name": "LayoutModel",
      "state": {
       "_model_module_version": "1.1.0",
       "_view_module_version": "1.1.0"
      }
     },
     "64bc9205f7284340905408d4a5e867cf": {
      "model_module": "@jupyter-widgets/base",
      "model_module_version": "1.1.0",
      "model_name": "LayoutModel",
      "state": {
       "_model_module_version": "1.1.0",
       "_view_module_version": "1.1.0"
      }
     },
     "6651fc2d6b904040aac0c032401b4939": {
      "model_module": "@jupyter-widgets/controls",
      "model_module_version": "1.4.0",
      "model_name": "IntProgressModel",
      "state": {
       "_model_module_version": "1.4.0",
       "_view_module_version": "1.4.0",
       "bar_style": "success",
       "layout": "IPY_MODEL_c9727d420f6648bbaefdf0ccfa2c3b2d",
       "style": "IPY_MODEL_207ffe61e47b44a68b7fc5a3cb4fbb30",
       "value": 100
      }
     },
     "66b2b3529a484c049b9425c81973e458": {
      "model_module": "@jupyter-widgets/base",
      "model_module_version": "1.1.0",
      "model_name": "LayoutModel",
      "state": {
       "_model_module_version": "1.1.0",
       "_view_module_version": "1.1.0"
      }
     },
     "67020965c06446409b68a026bb29a0a3": {
      "model_module": "@jupyter-widgets/base",
      "model_module_version": "1.1.0",
      "model_name": "LayoutModel",
      "state": {
       "_model_module_version": "1.1.0",
       "_view_module_version": "1.1.0"
      }
     },
     "671eb68406c54c85b01468cbc4b345f0": {
      "model_module": "@jupyter-widgets/controls",
      "model_module_version": "1.4.0",
      "model_name": "DescriptionStyleModel",
      "state": {
       "_model_module_version": "1.4.0",
       "_view_module_version": "1.1.0",
       "description_width": ""
      }
     },
     "6741f4917ead439e919d75637c309c58": {
      "model_module": "@jupyter-widgets/base",
      "model_module_version": "1.1.0",
      "model_name": "LayoutModel",
      "state": {
       "_model_module_version": "1.1.0",
       "_view_module_version": "1.1.0"
      }
     },
     "685d9aaa13ce4620942c7bad3255609f": {
      "model_module": "@jupyter-widgets/base",
      "model_module_version": "1.1.0",
      "model_name": "LayoutModel",
      "state": {
       "_model_module_version": "1.1.0",
       "_view_module_version": "1.1.0"
      }
     },
     "68c5f58dc999486fa51381fec33c8bc8": {
      "model_module": "@jupyter-widgets/base",
      "model_module_version": "1.1.0",
      "model_name": "LayoutModel",
      "state": {
       "_model_module_version": "1.1.0",
       "_view_module_version": "1.1.0"
      }
     },
     "6c7294a0f2de43bbbbf4337195c7adf7": {
      "model_module": "@jupyter-widgets/controls",
      "model_module_version": "1.4.0",
      "model_name": "DescriptionStyleModel",
      "state": {
       "_model_module_version": "1.4.0",
       "_view_module_version": "1.1.0",
       "description_width": ""
      }
     },
     "6cd7a91b80b348a191204a2b97cf8067": {
      "model_module": "@jupyter-widgets/controls",
      "model_module_version": "1.4.0",
      "model_name": "IntProgressModel",
      "state": {
       "_model_module_version": "1.4.0",
       "_view_module_version": "1.4.0",
       "bar_style": "danger",
       "layout": "IPY_MODEL_66b2b3529a484c049b9425c81973e458",
       "max": 50,
       "style": "IPY_MODEL_cc53a165de81488a9de32e3810be9d69"
      }
     },
     "6dd933e1c2cd4453aea0e0e07188325e": {
      "model_module": "@jupyter-widgets/base",
      "model_module_version": "1.1.0",
      "model_name": "LayoutModel",
      "state": {
       "_model_module_version": "1.1.0",
       "_view_module_version": "1.1.0"
      }
     },
     "6fa56ada0a79450489469116e1061541": {
      "model_module": "@jupyter-widgets/base",
      "model_module_version": "1.1.0",
      "model_name": "LayoutModel",
      "state": {
       "_model_module_version": "1.1.0",
       "_view_module_version": "1.1.0"
      }
     },
     "70c9b8692d384521a1e6cab4502c7c7b": {
      "model_module": "@jupyter-widgets/base",
      "model_module_version": "1.1.0",
      "model_name": "LayoutModel",
      "state": {
       "_model_module_version": "1.1.0",
       "_view_module_version": "1.1.0"
      }
     },
     "70ed20b8d7fd4be9b2725bf0e4c5b800": {
      "model_module": "@jupyter-widgets/base",
      "model_module_version": "1.1.0",
      "model_name": "LayoutModel",
      "state": {
       "_model_module_version": "1.1.0",
       "_view_module_version": "1.1.0"
      }
     },
     "7154b7a27e79495688bba7d0f7eb80c1": {
      "model_module": "@jupyter-widgets/controls",
      "model_module_version": "1.4.0",
      "model_name": "HBoxModel",
      "state": {
       "_model_module_version": "1.4.0",
       "_view_module_version": "1.4.0",
       "children": [
        "IPY_MODEL_f0b50c193b494aacb2100416f605bee2",
        "IPY_MODEL_2e139250027148738dbc22d4c61bce03"
       ],
       "layout": "IPY_MODEL_70ed20b8d7fd4be9b2725bf0e4c5b800"
      }
     },
     "759deca8820c44b68b584bc93fbb3f13": {
      "model_module": "@jupyter-widgets/base",
      "model_module_version": "1.1.0",
      "model_name": "LayoutModel",
      "state": {
       "_model_module_version": "1.1.0",
       "_view_module_version": "1.1.0"
      }
     },
     "7694b3a8fee8439e8a390312ba5f9085": {
      "model_module": "@jupyter-widgets/controls",
      "model_module_version": "1.4.0",
      "model_name": "HBoxModel",
      "state": {
       "_model_module_version": "1.4.0",
       "_view_module_version": "1.4.0",
       "children": [
        "IPY_MODEL_c4e3ab30317d40e2ae70c804e4b6916f",
        "IPY_MODEL_bd4a1da383c343ac88cb5b9dfc3a2805"
       ],
       "layout": "IPY_MODEL_9d975b4749e54a53911a02e17cedcaf1"
      }
     },
     "79fd88a2edc6410682cf1da21ee5e96d": {
      "model_module": "@jupyter-widgets/base",
      "model_module_version": "1.1.0",
      "model_name": "LayoutModel",
      "state": {
       "_model_module_version": "1.1.0",
       "_view_module_version": "1.1.0"
      }
     },
     "7bb028bb582b419cb80ee52e47cbfc73": {
      "model_module": "@jupyter-widgets/base",
      "model_module_version": "1.1.0",
      "model_name": "LayoutModel",
      "state": {
       "_model_module_version": "1.1.0",
       "_view_module_version": "1.1.0"
      }
     },
     "7c009fc669b64af0913188f3a8b19abb": {
      "model_module": "@jupyter-widgets/base",
      "model_module_version": "1.1.0",
      "model_name": "LayoutModel",
      "state": {
       "_model_module_version": "1.1.0",
       "_view_module_version": "1.1.0"
      }
     },
     "7c98b57ce69c44d9811830991c609e6d": {
      "model_module": "@jupyter-widgets/base",
      "model_module_version": "1.1.0",
      "model_name": "LayoutModel",
      "state": {
       "_model_module_version": "1.1.0",
       "_view_module_version": "1.1.0"
      }
     },
     "7e9ae6d026c448e78a73e248f124e51c": {
      "model_module": "@jupyter-widgets/base",
      "model_module_version": "1.1.0",
      "model_name": "LayoutModel",
      "state": {
       "_model_module_version": "1.1.0",
       "_view_module_version": "1.1.0"
      }
     },
     "8195a07ad81f4713bd34fdaa9bf54711": {
      "model_module": "@jupyter-widgets/controls",
      "model_module_version": "1.4.0",
      "model_name": "HTMLModel",
      "state": {
       "_model_module_version": "1.4.0",
       "_view_module_version": "1.4.0",
       "layout": "IPY_MODEL_8d6c0d9b83f740cca588567abb77247f",
       "style": "IPY_MODEL_eb318a0c3d88440288730fb96d76652d",
       "value": "  1% 1/100 [00:01&lt;02:28,  1.50s/it]"
      }
     },
     "81c6fb912e1345ebb8009d4595ff18dc": {
      "model_module": "@jupyter-widgets/base",
      "model_module_version": "1.1.0",
      "model_name": "LayoutModel",
      "state": {
       "_model_module_version": "1.1.0",
       "_view_module_version": "1.1.0"
      }
     },
     "829eccb0afbc4d2f8ea10e65904f1988": {
      "model_module": "@jupyter-widgets/base",
      "model_module_version": "1.1.0",
      "model_name": "LayoutModel",
      "state": {
       "_model_module_version": "1.1.0",
       "_view_module_version": "1.1.0"
      }
     },
     "838432c398f141098b188cdf2b040680": {
      "model_module": "@jupyter-widgets/base",
      "model_module_version": "1.1.0",
      "model_name": "LayoutModel",
      "state": {
       "_model_module_version": "1.1.0",
       "_view_module_version": "1.1.0"
      }
     },
     "851f263e5f31417c9d3b6624006d335a": {
      "model_module": "@jupyter-widgets/controls",
      "model_module_version": "1.4.0",
      "model_name": "ProgressStyleModel",
      "state": {
       "_model_module_version": "1.4.0",
       "_view_module_version": "1.1.0",
       "description_width": ""
      }
     },
     "8598cbaea0dc48e9a56e177dffedfdfb": {
      "model_module": "@jupyter-widgets/controls",
      "model_module_version": "1.4.0",
      "model_name": "HBoxModel",
      "state": {
       "_model_module_version": "1.4.0",
       "_view_module_version": "1.4.0",
       "children": [
        "IPY_MODEL_318c3181d0184e7582af900384ec1278",
        "IPY_MODEL_9603d7c2c3ad4d0298171d51e19c05d6"
       ],
       "layout": "IPY_MODEL_df0f8770bdd04165aa84594a457d59b8"
      }
     },
     "872b3ab2973f4e049a6ca720d90d401a": {
      "model_module": "@jupyter-widgets/controls",
      "model_module_version": "1.4.0",
      "model_name": "HTMLModel",
      "state": {
       "_model_module_version": "1.4.0",
       "_view_module_version": "1.4.0",
       "layout": "IPY_MODEL_a3dd54a3be4647fb86cb23a76665f29e",
       "style": "IPY_MODEL_6c7294a0f2de43bbbbf4337195c7adf7",
       "value": "  4% 4/100 [00:05&lt;02:23,  1.49s/it]"
      }
     },
     "89b1f9dd31a74f9b9116aeb28356c2c4": {
      "model_module": "@jupyter-widgets/controls",
      "model_module_version": "1.4.0",
      "model_name": "HBoxModel",
      "state": {
       "_model_module_version": "1.4.0",
       "_view_module_version": "1.4.0",
       "children": [
        "IPY_MODEL_174bd472772e46a4980b7b13448d5c50",
        "IPY_MODEL_9eec573666e541e6bf18fc1aff611d71"
       ],
       "layout": "IPY_MODEL_a8f117168d554490af6734b346e44efb"
      }
     },
     "89ba45a39f07448bb6212f177f871468": {
      "model_module": "@jupyter-widgets/controls",
      "model_module_version": "1.4.0",
      "model_name": "ProgressStyleModel",
      "state": {
       "_model_module_version": "1.4.0",
       "_view_module_version": "1.1.0",
       "description_width": ""
      }
     },
     "89bf59e178d546c196591354be79c341": {
      "model_module": "@jupyter-widgets/base",
      "model_module_version": "1.1.0",
      "model_name": "LayoutModel",
      "state": {
       "_model_module_version": "1.1.0",
       "_view_module_version": "1.1.0"
      }
     },
     "8a01e2709a1a4c9f902b6f7bae1892fe": {
      "model_module": "@jupyter-widgets/controls",
      "model_module_version": "1.4.0",
      "model_name": "HBoxModel",
      "state": {
       "_model_module_version": "1.4.0",
       "_view_module_version": "1.4.0",
       "children": [
        "IPY_MODEL_dc1a1d4889e946ffa0adb22cdb4836ff",
        "IPY_MODEL_e34c0f1f856748d0a6c81ee0e5492d5b"
       ],
       "layout": "IPY_MODEL_13dfd23a4b3749479a5bcfe0fcd84af0"
      }
     },
     "8a9ff39627944d6abd9fd132527ba187": {
      "model_module": "@jupyter-widgets/base",
      "model_module_version": "1.1.0",
      "model_name": "LayoutModel",
      "state": {
       "_model_module_version": "1.1.0",
       "_view_module_version": "1.1.0"
      }
     },
     "8af56d74565342bda5faffdb95dd976a": {
      "model_module": "@jupyter-widgets/base",
      "model_module_version": "1.1.0",
      "model_name": "LayoutModel",
      "state": {
       "_model_module_version": "1.1.0",
       "_view_module_version": "1.1.0"
      }
     },
     "8bf4f3a497574abd92ec3e695ed6d895": {
      "model_module": "@jupyter-widgets/base",
      "model_module_version": "1.1.0",
      "model_name": "LayoutModel",
      "state": {
       "_model_module_version": "1.1.0",
       "_view_module_version": "1.1.0"
      }
     },
     "8ca0719fe3424408b477885b873742eb": {
      "model_module": "@jupyter-widgets/controls",
      "model_module_version": "1.4.0",
      "model_name": "ProgressStyleModel",
      "state": {
       "_model_module_version": "1.4.0",
       "_view_module_version": "1.1.0",
       "description_width": ""
      }
     },
     "8d6c0d9b83f740cca588567abb77247f": {
      "model_module": "@jupyter-widgets/base",
      "model_module_version": "1.1.0",
      "model_name": "LayoutModel",
      "state": {
       "_model_module_version": "1.1.0",
       "_view_module_version": "1.1.0"
      }
     },
     "8e3c4cbc1cdd4d909126c66bffccf41f": {
      "model_module": "@jupyter-widgets/controls",
      "model_module_version": "1.4.0",
      "model_name": "HBoxModel",
      "state": {
       "_model_module_version": "1.4.0",
       "_view_module_version": "1.4.0",
       "children": [
        "IPY_MODEL_ab8d1e2f58dd494dbd910dda34271d27",
        "IPY_MODEL_cdfa088ee7f7428894aeef6a0aa5ebcc"
       ],
       "layout": "IPY_MODEL_89bf59e178d546c196591354be79c341"
      }
     },
     "8f3a348bb12a4f408454b3f3f1c9737e": {
      "model_module": "@jupyter-widgets/controls",
      "model_module_version": "1.4.0",
      "model_name": "HBoxModel",
      "state": {
       "_model_module_version": "1.4.0",
       "_view_module_version": "1.4.0",
       "children": [
        "IPY_MODEL_083d0b93219d45959d1770bdc6eca2a1",
        "IPY_MODEL_e66dd26827f34091a6b5589d5d2e3c48"
       ],
       "layout": "IPY_MODEL_957d00dd5c354e4e8401fb6849734cf6"
      }
     },
     "902cf4ddb1824416935c375593bcb727": {
      "model_module": "@jupyter-widgets/controls",
      "model_module_version": "1.4.0",
      "model_name": "ProgressStyleModel",
      "state": {
       "_model_module_version": "1.4.0",
       "_view_module_version": "1.1.0",
       "description_width": ""
      }
     },
     "902d1fecb0a34ee5a7ea3a8e3d48decf": {
      "model_module": "@jupyter-widgets/controls",
      "model_module_version": "1.4.0",
      "model_name": "IntProgressModel",
      "state": {
       "_model_module_version": "1.4.0",
       "_view_module_version": "1.4.0",
       "bar_style": "success",
       "layout": "IPY_MODEL_6fa56ada0a79450489469116e1061541",
       "max": 1000,
       "style": "IPY_MODEL_902cf4ddb1824416935c375593bcb727",
       "value": 1000
      }
     },
     "90629b10f2704aad9f882e57e5e13c4d": {
      "model_module": "@jupyter-widgets/controls",
      "model_module_version": "1.4.0",
      "model_name": "DescriptionStyleModel",
      "state": {
       "_model_module_version": "1.4.0",
       "_view_module_version": "1.1.0",
       "description_width": ""
      }
     },
     "957d00dd5c354e4e8401fb6849734cf6": {
      "model_module": "@jupyter-widgets/base",
      "model_module_version": "1.1.0",
      "model_name": "LayoutModel",
      "state": {
       "_model_module_version": "1.1.0",
       "_view_module_version": "1.1.0"
      }
     },
     "9603d7c2c3ad4d0298171d51e19c05d6": {
      "model_module": "@jupyter-widgets/controls",
      "model_module_version": "1.4.0",
      "model_name": "HTMLModel",
      "state": {
       "_model_module_version": "1.4.0",
       "_view_module_version": "1.4.0",
       "layout": "IPY_MODEL_c64d472fec9841839812549d81cfa52c",
       "style": "IPY_MODEL_d1d7abd016bc403fbd6eae3c1af53d33",
       "value": " 97% 7768/8000 [3:17:57&lt;06:11,  1.60s/it]"
      }
     },
     "99332f0eb3414391b782e9b68f6b1151": {
      "model_module": "@jupyter-widgets/base",
      "model_module_version": "1.1.0",
      "model_name": "LayoutModel",
      "state": {
       "_model_module_version": "1.1.0",
       "_view_module_version": "1.1.0"
      }
     },
     "999009afb8fe4917a38db28fbb1295ef": {
      "model_module": "@jupyter-widgets/controls",
      "model_module_version": "1.4.0",
      "model_name": "IntProgressModel",
      "state": {
       "_model_module_version": "1.4.0",
       "_view_module_version": "1.4.0",
       "bar_style": "success",
       "layout": "IPY_MODEL_43affbb0419c49148537677665e6f88f",
       "style": "IPY_MODEL_6167f1d183ea44789b9354acb8a23459",
       "value": 100
      }
     },
     "99a2fca30610468488600bfc73a9c8ab": {
      "model_module": "@jupyter-widgets/base",
      "model_module_version": "1.1.0",
      "model_name": "LayoutModel",
      "state": {
       "_model_module_version": "1.1.0",
       "_view_module_version": "1.1.0"
      }
     },
     "9a3456b88cc947b6b4a78f653cd237b9": {
      "model_module": "@jupyter-widgets/controls",
      "model_module_version": "1.4.0",
      "model_name": "IntProgressModel",
      "state": {
       "_model_module_version": "1.4.0",
       "_view_module_version": "1.4.0",
       "bar_style": "success",
       "layout": "IPY_MODEL_048471e0d84e4a728c485ca21530906e",
       "style": "IPY_MODEL_fc47d661982841bd881734d3a7f81f42",
       "value": 100
      }
     },
     "9c0115ce2eb7420c8af7c9382824c156": {
      "model_module": "@jupyter-widgets/controls",
      "model_module_version": "1.4.0",
      "model_name": "HBoxModel",
      "state": {
       "_model_module_version": "1.4.0",
       "_view_module_version": "1.4.0",
       "children": [
        "IPY_MODEL_13b8277a385047fda2eebb999303eaff",
        "IPY_MODEL_f5e8b7cd09934a11a0ca9c467ec9ce9c"
       ],
       "layout": "IPY_MODEL_13a30340accf460ebf3d5926ae1cc315"
      }
     },
     "9c1648b5bd9f4fe69607b58c2e82a838": {
      "model_module": "@jupyter-widgets/controls",
      "model_module_version": "1.4.0",
      "model_name": "HTMLModel",
      "state": {
       "_model_module_version": "1.4.0",
       "_view_module_version": "1.4.0",
       "layout": "IPY_MODEL_533ca554a52a49ffb9f36189808ad7c0",
       "style": "IPY_MODEL_cca7b8bc86f442afa37ba632550c83f7",
       "value": "  0% 0/100 [00:00&lt;?, ?it/s]"
      }
     },
     "9cceaab956a44481a4e6c542c84e96bd": {
      "model_module": "@jupyter-widgets/controls",
      "model_module_version": "1.4.0",
      "model_name": "ProgressStyleModel",
      "state": {
       "_model_module_version": "1.4.0",
       "_view_module_version": "1.1.0",
       "description_width": ""
      }
     },
     "9d7ca0474ef1430984ab2f318eefd262": {
      "model_module": "@jupyter-widgets/controls",
      "model_module_version": "1.4.0",
      "model_name": "ProgressStyleModel",
      "state": {
       "_model_module_version": "1.4.0",
       "_view_module_version": "1.1.0",
       "description_width": ""
      }
     },
     "9d975b4749e54a53911a02e17cedcaf1": {
      "model_module": "@jupyter-widgets/base",
      "model_module_version": "1.1.0",
      "model_name": "LayoutModel",
      "state": {
       "_model_module_version": "1.1.0",
       "_view_module_version": "1.1.0"
      }
     },
     "9ed12f704990472caa216919bd892733": {
      "model_module": "@jupyter-widgets/base",
      "model_module_version": "1.1.0",
      "model_name": "LayoutModel",
      "state": {
       "_model_module_version": "1.1.0",
       "_view_module_version": "1.1.0"
      }
     },
     "9eec573666e541e6bf18fc1aff611d71": {
      "model_module": "@jupyter-widgets/controls",
      "model_module_version": "1.4.0",
      "model_name": "HTMLModel",
      "state": {
       "_model_module_version": "1.4.0",
       "_view_module_version": "1.4.0",
       "layout": "IPY_MODEL_c26485559d8e49f5bb6833627a634345",
       "style": "IPY_MODEL_5442b74f453a4a08b8209f38f0553c7d",
       "value": "100% 1500/1500 [34:19&lt;00:00,  1.36s/it]"
      }
     },
     "9fcd903769d74f5b9dbb149d93ed9f23": {
      "model_module": "@jupyter-widgets/controls",
      "model_module_version": "1.4.0",
      "model_name": "ProgressStyleModel",
      "state": {
       "_model_module_version": "1.4.0",
       "_view_module_version": "1.1.0",
       "description_width": ""
      }
     },
     "9fd2341678384b12948ca31d262252e9": {
      "model_module": "@jupyter-widgets/controls",
      "model_module_version": "1.4.0",
      "model_name": "DescriptionStyleModel",
      "state": {
       "_model_module_version": "1.4.0",
       "_view_module_version": "1.1.0",
       "description_width": ""
      }
     },
     "a1899fdcf43a490b996dda5d0d9e15e4": {
      "model_module": "@jupyter-widgets/controls",
      "model_module_version": "1.4.0",
      "model_name": "DescriptionStyleModel",
      "state": {
       "_model_module_version": "1.4.0",
       "_view_module_version": "1.1.0",
       "description_width": ""
      }
     },
     "a1bb7c8ee4db46a9ac2e8b26dc878816": {
      "model_module": "@jupyter-widgets/base",
      "model_module_version": "1.1.0",
      "model_name": "LayoutModel",
      "state": {
       "_model_module_version": "1.1.0",
       "_view_module_version": "1.1.0"
      }
     },
     "a25c3a8b338f4d7d8bace5b8923724bc": {
      "model_module": "@jupyter-widgets/base",
      "model_module_version": "1.1.0",
      "model_name": "LayoutModel",
      "state": {
       "_model_module_version": "1.1.0",
       "_view_module_version": "1.1.0"
      }
     },
     "a3049ef407914f1ca7333facb9f5c5f8": {
      "model_module": "@jupyter-widgets/controls",
      "model_module_version": "1.4.0",
      "model_name": "ProgressStyleModel",
      "state": {
       "_model_module_version": "1.4.0",
       "_view_module_version": "1.1.0",
       "description_width": ""
      }
     },
     "a32288d0c29049ee9a2a08c0c49d2a4d": {
      "model_module": "@jupyter-widgets/controls",
      "model_module_version": "1.4.0",
      "model_name": "HTMLModel",
      "state": {
       "_model_module_version": "1.4.0",
       "_view_module_version": "1.4.0",
       "layout": "IPY_MODEL_7bb028bb582b419cb80ee52e47cbfc73",
       "style": "IPY_MODEL_a4fc8d664ad84f5ba3ebd25cc3502338",
       "value": "100% 1000/1000 [24:36&lt;00:00,  1.49s/it]"
      }
     },
     "a3afe9d7b224498fa2f8aa08886b7d06": {
      "model_module": "@jupyter-widgets/base",
      "model_module_version": "1.1.0",
      "model_name": "LayoutModel",
      "state": {
       "_model_module_version": "1.1.0",
       "_view_module_version": "1.1.0"
      }
     },
     "a3dd54a3be4647fb86cb23a76665f29e": {
      "model_module": "@jupyter-widgets/base",
      "model_module_version": "1.1.0",
      "model_name": "LayoutModel",
      "state": {
       "_model_module_version": "1.1.0",
       "_view_module_version": "1.1.0"
      }
     },
     "a4da032d42954dddb50929e807896a67": {
      "model_module": "@jupyter-widgets/controls",
      "model_module_version": "1.4.0",
      "model_name": "ProgressStyleModel",
      "state": {
       "_model_module_version": "1.4.0",
       "_view_module_version": "1.1.0",
       "description_width": ""
      }
     },
     "a4fc8d664ad84f5ba3ebd25cc3502338": {
      "model_module": "@jupyter-widgets/controls",
      "model_module_version": "1.4.0",
      "model_name": "DescriptionStyleModel",
      "state": {
       "_model_module_version": "1.4.0",
       "_view_module_version": "1.1.0",
       "description_width": ""
      }
     },
     "a57248334bf34beabcfda4badecc9210": {
      "model_module": "@jupyter-widgets/controls",
      "model_module_version": "1.4.0",
      "model_name": "IntProgressModel",
      "state": {
       "_model_module_version": "1.4.0",
       "_view_module_version": "1.4.0",
       "bar_style": "danger",
       "layout": "IPY_MODEL_34864ab4ab17476ebe596dbc2055a757",
       "max": 1000,
       "style": "IPY_MODEL_3648ed0962b24596a1c757aa9acdbd30"
      }
     },
     "a642bda2bdee47eba0cf3ee60af92479": {
      "model_module": "@jupyter-widgets/base",
      "model_module_version": "1.1.0",
      "model_name": "LayoutModel",
      "state": {
       "_model_module_version": "1.1.0",
       "_view_module_version": "1.1.0"
      }
     },
     "a64972680abc443b8046be1e6eea98a0": {
      "model_module": "@jupyter-widgets/base",
      "model_module_version": "1.1.0",
      "model_name": "LayoutModel",
      "state": {
       "_model_module_version": "1.1.0",
       "_view_module_version": "1.1.0"
      }
     },
     "a6920033d86b4f48a47f752a73ec160f": {
      "model_module": "@jupyter-widgets/controls",
      "model_module_version": "1.4.0",
      "model_name": "ProgressStyleModel",
      "state": {
       "_model_module_version": "1.4.0",
       "_view_module_version": "1.1.0",
       "description_width": ""
      }
     },
     "a6bfd8bc055c41cca86a8da6803c8ffd": {
      "model_module": "@jupyter-widgets/base",
      "model_module_version": "1.1.0",
      "model_name": "LayoutModel",
      "state": {
       "_model_module_version": "1.1.0",
       "_view_module_version": "1.1.0"
      }
     },
     "a6d8a601953b412babbe8b7d1388a868": {
      "model_module": "@jupyter-widgets/base",
      "model_module_version": "1.1.0",
      "model_name": "LayoutModel",
      "state": {
       "_model_module_version": "1.1.0",
       "_view_module_version": "1.1.0"
      }
     },
     "a8f117168d554490af6734b346e44efb": {
      "model_module": "@jupyter-widgets/base",
      "model_module_version": "1.1.0",
      "model_name": "LayoutModel",
      "state": {
       "_model_module_version": "1.1.0",
       "_view_module_version": "1.1.0"
      }
     },
     "ab36f2fa0ea84a8fa83bfb4558e9dc3c": {
      "model_module": "@jupyter-widgets/controls",
      "model_module_version": "1.4.0",
      "model_name": "ProgressStyleModel",
      "state": {
       "_model_module_version": "1.4.0",
       "_view_module_version": "1.1.0",
       "description_width": ""
      }
     },
     "ab8d1e2f58dd494dbd910dda34271d27": {
      "model_module": "@jupyter-widgets/controls",
      "model_module_version": "1.4.0",
      "model_name": "IntProgressModel",
      "state": {
       "_model_module_version": "1.4.0",
       "_view_module_version": "1.4.0",
       "bar_style": "danger",
       "layout": "IPY_MODEL_3d25e500cfe14f01aa9b8d6a5cd1aa19",
       "style": "IPY_MODEL_0b68202640564db69a0085f8aac7db90"
      }
     },
     "abf72239c59b494e800ea7bca4196542": {
      "model_module": "@jupyter-widgets/base",
      "model_module_version": "1.1.0",
      "model_name": "LayoutModel",
      "state": {
       "_model_module_version": "1.1.0",
       "_view_module_version": "1.1.0"
      }
     },
     "ad2d99b7eaa2489085a722eaf759e93a": {
      "model_module": "@jupyter-widgets/controls",
      "model_module_version": "1.4.0",
      "model_name": "DescriptionStyleModel",
      "state": {
       "_model_module_version": "1.4.0",
       "_view_module_version": "1.1.0",
       "description_width": ""
      }
     },
     "adcc89e76ca24fde87ee96bee8d862cc": {
      "model_module": "@jupyter-widgets/controls",
      "model_module_version": "1.4.0",
      "model_name": "HBoxModel",
      "state": {
       "_model_module_version": "1.4.0",
       "_view_module_version": "1.4.0",
       "children": [
        "IPY_MODEL_2468e1005ca34e8ea85c228790ae1c5a",
        "IPY_MODEL_1c32ec3838f9441fb9c06b607c25c997"
       ],
       "layout": "IPY_MODEL_79fd88a2edc6410682cf1da21ee5e96d"
      }
     },
     "add313719d35431796063f548f651e2d": {
      "model_module": "@jupyter-widgets/controls",
      "model_module_version": "1.4.0",
      "model_name": "HBoxModel",
      "state": {
       "_model_module_version": "1.4.0",
       "_view_module_version": "1.4.0",
       "children": [
        "IPY_MODEL_5454fd2c5bde41d1a5cbadd7f78602eb",
        "IPY_MODEL_d15ef1dd2bb549d783bb050c33ef4a5f"
       ],
       "layout": "IPY_MODEL_a25c3a8b338f4d7d8bace5b8923724bc"
      }
     },
     "af3a74ffbfd84b4e9ea209b0bb5b9aaa": {
      "model_module": "@jupyter-widgets/controls",
      "model_module_version": "1.4.0",
      "model_name": "HBoxModel",
      "state": {
       "_model_module_version": "1.4.0",
       "_view_module_version": "1.4.0",
       "children": [
        "IPY_MODEL_eb10abc7b4934a16a103736ba30866a4",
        "IPY_MODEL_872b3ab2973f4e049a6ca720d90d401a"
       ],
       "layout": "IPY_MODEL_15b56d5d25c04299a3a585b09dd4f718"
      }
     },
     "b1a674cbfca84eab80fad72f439d7b36": {
      "model_module": "@jupyter-widgets/controls",
      "model_module_version": "1.4.0",
      "model_name": "IntProgressModel",
      "state": {
       "_model_module_version": "1.4.0",
       "_view_module_version": "1.4.0",
       "bar_style": "success",
       "layout": "IPY_MODEL_8bf4f3a497574abd92ec3e695ed6d895",
       "max": 1000,
       "style": "IPY_MODEL_bb032c338c9c4740a19f6f3481351873",
       "value": 1000
      }
     },
     "b4a85fb730e24a7f8f6583d109f6202f": {
      "model_module": "@jupyter-widgets/base",
      "model_module_version": "1.1.0",
      "model_name": "LayoutModel",
      "state": {
       "_model_module_version": "1.1.0",
       "_view_module_version": "1.1.0"
      }
     },
     "b55ffd0133294e55acfe3bc0ef98d339": {
      "model_module": "@jupyter-widgets/controls",
      "model_module_version": "1.4.0",
      "model_name": "IntProgressModel",
      "state": {
       "_model_module_version": "1.4.0",
       "_view_module_version": "1.4.0",
       "bar_style": "danger",
       "layout": "IPY_MODEL_c8e4ee11267c4b3ebbbde1283cffa1f7",
       "style": "IPY_MODEL_4a4e558275d54be08e42cfb9f2bce850"
      }
     },
     "b6085fd96cdc403fa051e53e0d6d1e17": {
      "model_module": "@jupyter-widgets/base",
      "model_module_version": "1.1.0",
      "model_name": "LayoutModel",
      "state": {
       "_model_module_version": "1.1.0",
       "_view_module_version": "1.1.0"
      }
     },
     "b609542f514943c28c0db0afe56987d1": {
      "model_module": "@jupyter-widgets/base",
      "model_module_version": "1.1.0",
      "model_name": "LayoutModel",
      "state": {
       "_model_module_version": "1.1.0",
       "_view_module_version": "1.1.0"
      }
     },
     "b6512ea9ea634849b2e168d434a4d24a": {
      "model_module": "@jupyter-widgets/base",
      "model_module_version": "1.1.0",
      "model_name": "LayoutModel",
      "state": {
       "_model_module_version": "1.1.0",
       "_view_module_version": "1.1.0"
      }
     },
     "b6d90909e65a48e0b407b36b32484374": {
      "model_module": "@jupyter-widgets/base",
      "model_module_version": "1.1.0",
      "model_name": "LayoutModel",
      "state": {
       "_model_module_version": "1.1.0",
       "_view_module_version": "1.1.0"
      }
     },
     "b74695983fba4c3a91b622653c50caae": {
      "model_module": "@jupyter-widgets/base",
      "model_module_version": "1.1.0",
      "model_name": "LayoutModel",
      "state": {
       "_model_module_version": "1.1.0",
       "_view_module_version": "1.1.0"
      }
     },
     "ba806c2caa154d50945aa1a33d419524": {
      "model_module": "@jupyter-widgets/controls",
      "model_module_version": "1.4.0",
      "model_name": "HTMLModel",
      "state": {
       "_model_module_version": "1.4.0",
       "_view_module_version": "1.4.0",
       "layout": "IPY_MODEL_2fe3ed0423354b80aa9d3c7137009c51",
       "style": "IPY_MODEL_0c9544c4812f4035b0853a7a8d27efd8",
       "value": "100% 1000/1000 [49:22&lt;00:00,  3.01s/it]"
      }
     },
     "bae10c0a17984687970d54fa7ff9cda2": {
      "model_module": "@jupyter-widgets/controls",
      "model_module_version": "1.4.0",
      "model_name": "DescriptionStyleModel",
      "state": {
       "_model_module_version": "1.4.0",
       "_view_module_version": "1.1.0",
       "description_width": ""
      }
     },
     "bb032c338c9c4740a19f6f3481351873": {
      "model_module": "@jupyter-widgets/controls",
      "model_module_version": "1.4.0",
      "model_name": "ProgressStyleModel",
      "state": {
       "_model_module_version": "1.4.0",
       "_view_module_version": "1.1.0",
       "description_width": ""
      }
     },
     "bbd52382041a4099aca39881f0892e1b": {
      "model_module": "@jupyter-widgets/controls",
      "model_module_version": "1.4.0",
      "model_name": "IntProgressModel",
      "state": {
       "_model_module_version": "1.4.0",
       "_view_module_version": "1.4.0",
       "bar_style": "success",
       "layout": "IPY_MODEL_483999cdb1854fcaa97178767cdd4705",
       "style": "IPY_MODEL_a4da032d42954dddb50929e807896a67",
       "value": 100
      }
     },
     "bcd5d3cd78bf44a39b935691e8a70fc1": {
      "model_module": "@jupyter-widgets/base",
      "model_module_version": "1.1.0",
      "model_name": "LayoutModel",
      "state": {
       "_model_module_version": "1.1.0",
       "_view_module_version": "1.1.0"
      }
     },
     "bd4a1da383c343ac88cb5b9dfc3a2805": {
      "model_module": "@jupyter-widgets/controls",
      "model_module_version": "1.4.0",
      "model_name": "HTMLModel",
      "state": {
       "_model_module_version": "1.4.0",
       "_view_module_version": "1.4.0",
       "layout": "IPY_MODEL_505e7e8c7ca04dab81a776315eed2d5a",
       "style": "IPY_MODEL_367c9875ba764dfe831aa69fc6968233",
       "value": "100% 2000/2000 [45:55&lt;00:00,  1.37s/it]"
      }
     },
     "bd832d1e4e924f6ca0882947514ef66d": {
      "model_module": "@jupyter-widgets/controls",
      "model_module_version": "1.4.0",
      "model_name": "DescriptionStyleModel",
      "state": {
       "_model_module_version": "1.4.0",
       "_view_module_version": "1.1.0",
       "description_width": ""
      }
     },
     "bf2f9149fef94987b12b4f687793d9c0": {
      "model_module": "@jupyter-widgets/controls",
      "model_module_version": "1.4.0",
      "model_name": "HTMLModel",
      "state": {
       "_model_module_version": "1.4.0",
       "_view_module_version": "1.4.0",
       "layout": "IPY_MODEL_1ca6e882a37c4f9fbe7a3e181e997c13",
       "style": "IPY_MODEL_90629b10f2704aad9f882e57e5e13c4d",
       "value": "  0% 0/100 [00:00&lt;?, ?it/s]"
      }
     },
     "bf408d9ee2eb4feeb52872f57ade499a": {
      "model_module": "@jupyter-widgets/controls",
      "model_module_version": "1.4.0",
      "model_name": "HBoxModel",
      "state": {
       "_model_module_version": "1.4.0",
       "_view_module_version": "1.4.0",
       "children": [
        "IPY_MODEL_a57248334bf34beabcfda4badecc9210",
        "IPY_MODEL_1333aa949d4e4c21af6c54bdc4afdd31"
       ],
       "layout": "IPY_MODEL_0aed30cfe410425dba50ba4838765379"
      }
     },
     "bf855cbe5baa447cb2e26c5c3e799e9d": {
      "model_module": "@jupyter-widgets/controls",
      "model_module_version": "1.4.0",
      "model_name": "HBoxModel",
      "state": {
       "_model_module_version": "1.4.0",
       "_view_module_version": "1.4.0",
       "children": [
        "IPY_MODEL_289c9886aafc4f9094b405b4ea492772",
        "IPY_MODEL_4fdb5f78659d4c918767b60a8818d440"
       ],
       "layout": "IPY_MODEL_b6512ea9ea634849b2e168d434a4d24a"
      }
     },
     "bfdce2cf43ad49c5abf1b3a26a90245d": {
      "model_module": "@jupyter-widgets/controls",
      "model_module_version": "1.4.0",
      "model_name": "HBoxModel",
      "state": {
       "_model_module_version": "1.4.0",
       "_view_module_version": "1.4.0",
       "children": [
        "IPY_MODEL_58323662396d44bb8f65e7d3fdfdd8ea",
        "IPY_MODEL_9c1648b5bd9f4fe69607b58c2e82a838"
       ],
       "layout": "IPY_MODEL_e83d71af45da4caebcd1fe4cbd0cb517"
      }
     },
     "c00c6edc66684431a50258da9961e201": {
      "model_module": "@jupyter-widgets/controls",
      "model_module_version": "1.4.0",
      "model_name": "DescriptionStyleModel",
      "state": {
       "_model_module_version": "1.4.0",
       "_view_module_version": "1.1.0",
       "description_width": ""
      }
     },
     "c26485559d8e49f5bb6833627a634345": {
      "model_module": "@jupyter-widgets/base",
      "model_module_version": "1.1.0",
      "model_name": "LayoutModel",
      "state": {
       "_model_module_version": "1.1.0",
       "_view_module_version": "1.1.0"
      }
     },
     "c4e3ab30317d40e2ae70c804e4b6916f": {
      "model_module": "@jupyter-widgets/controls",
      "model_module_version": "1.4.0",
      "model_name": "IntProgressModel",
      "state": {
       "_model_module_version": "1.4.0",
       "_view_module_version": "1.4.0",
       "bar_style": "success",
       "layout": "IPY_MODEL_03a61349451545a394883217c3a2b92e",
       "max": 2000,
       "style": "IPY_MODEL_efe9d6a63bb047329f8c52126bbd68b6",
       "value": 2000
      }
     },
     "c529771774724ebd8ee7b218cdd1fbe3": {
      "model_module": "@jupyter-widgets/controls",
      "model_module_version": "1.4.0",
      "model_name": "HTMLModel",
      "state": {
       "_model_module_version": "1.4.0",
       "_view_module_version": "1.4.0",
       "layout": "IPY_MODEL_e12efff41a31441795a7ff0440d512a6",
       "style": "IPY_MODEL_063b9961b92d471f8ff57035bd1e0377",
       "value": "  2% 2/100 [00:03&lt;02:45,  1.69s/it]"
      }
     },
     "c592fa57c33f494db059f54fb31219ce": {
      "model_module": "@jupyter-widgets/base",
      "model_module_version": "1.1.0",
      "model_name": "LayoutModel",
      "state": {
       "_model_module_version": "1.1.0",
       "_view_module_version": "1.1.0"
      }
     },
     "c643df40f57141b68af732b23c6a40d4": {
      "model_module": "@jupyter-widgets/controls",
      "model_module_version": "1.4.0",
      "model_name": "DescriptionStyleModel",
      "state": {
       "_model_module_version": "1.4.0",
       "_view_module_version": "1.1.0",
       "description_width": ""
      }
     },
     "c64d472fec9841839812549d81cfa52c": {
      "model_module": "@jupyter-widgets/base",
      "model_module_version": "1.1.0",
      "model_name": "LayoutModel",
      "state": {
       "_model_module_version": "1.1.0",
       "_view_module_version": "1.1.0"
      }
     },
     "c6db90a1a2b646798564b974089a4d6c": {
      "model_module": "@jupyter-widgets/controls",
      "model_module_version": "1.4.0",
      "model_name": "IntProgressModel",
      "state": {
       "_model_module_version": "1.4.0",
       "_view_module_version": "1.4.0",
       "bar_style": "danger",
       "layout": "IPY_MODEL_99332f0eb3414391b782e9b68f6b1151",
       "style": "IPY_MODEL_d8fcb59004b147ccba4b9c4b326a8ca3",
       "value": 1
      }
     },
     "c74af82f59ce4805b4a2e028a3eb088a": {
      "model_module": "@jupyter-widgets/controls",
      "model_module_version": "1.4.0",
      "model_name": "HTMLModel",
      "state": {
       "_model_module_version": "1.4.0",
       "_view_module_version": "1.4.0",
       "layout": "IPY_MODEL_99a2fca30610468488600bfc73a9c8ab",
       "style": "IPY_MODEL_e237ff70729b4eeaa58f668a4cdc4ef0",
       "value": "100% 100/100 [02:30&lt;00:00,  1.45s/it]"
      }
     },
     "c7f0bfee463345c2be81493571a379a1": {
      "model_module": "@jupyter-widgets/controls",
      "model_module_version": "1.4.0",
      "model_name": "HBoxModel",
      "state": {
       "_model_module_version": "1.4.0",
       "_view_module_version": "1.4.0",
       "children": [
        "IPY_MODEL_9a3456b88cc947b6b4a78f653cd237b9",
        "IPY_MODEL_f47485da7dbc40718dbdc1229f45c155"
       ],
       "layout": "IPY_MODEL_d784620408e143c18b5871977bc46962"
      }
     },
     "c7fa62c84bee4189a3c05f6ad4f45188": {
      "model_module": "@jupyter-widgets/controls",
      "model_module_version": "1.4.0",
      "model_name": "HTMLModel",
      "state": {
       "_model_module_version": "1.4.0",
       "_view_module_version": "1.4.0",
       "layout": "IPY_MODEL_f59fdcb631d346ca84853950196328c5",
       "style": "IPY_MODEL_c643df40f57141b68af732b23c6a40d4",
       "value": "  0% 0/50 [00:00&lt;?, ?it/s]"
      }
     },
     "c8e4ee11267c4b3ebbbde1283cffa1f7": {
      "model_module": "@jupyter-widgets/base",
      "model_module_version": "1.1.0",
      "model_name": "LayoutModel",
      "state": {
       "_model_module_version": "1.1.0",
       "_view_module_version": "1.1.0"
      }
     },
     "c902ec0d28834d70ad12619393a112d2": {
      "model_module": "@jupyter-widgets/controls",
      "model_module_version": "1.4.0",
      "model_name": "ProgressStyleModel",
      "state": {
       "_model_module_version": "1.4.0",
       "_view_module_version": "1.1.0",
       "description_width": ""
      }
     },
     "c9727d420f6648bbaefdf0ccfa2c3b2d": {
      "model_module": "@jupyter-widgets/base",
      "model_module_version": "1.1.0",
      "model_name": "LayoutModel",
      "state": {
       "_model_module_version": "1.1.0",
       "_view_module_version": "1.1.0"
      }
     },
     "cbe41c60b669487faa66baf129e6ac4e": {
      "model_module": "@jupyter-widgets/controls",
      "model_module_version": "1.4.0",
      "model_name": "HBoxModel",
      "state": {
       "_model_module_version": "1.4.0",
       "_view_module_version": "1.4.0",
       "children": [
        "IPY_MODEL_26f00a72b38d44c183323e96a10777ca",
        "IPY_MODEL_ba806c2caa154d50945aa1a33d419524"
       ],
       "layout": "IPY_MODEL_b6d90909e65a48e0b407b36b32484374"
      }
     },
     "cc53a165de81488a9de32e3810be9d69": {
      "model_module": "@jupyter-widgets/controls",
      "model_module_version": "1.4.0",
      "model_name": "ProgressStyleModel",
      "state": {
       "_model_module_version": "1.4.0",
       "_view_module_version": "1.1.0",
       "description_width": ""
      }
     },
     "cca7b8bc86f442afa37ba632550c83f7": {
      "model_module": "@jupyter-widgets/controls",
      "model_module_version": "1.4.0",
      "model_name": "DescriptionStyleModel",
      "state": {
       "_model_module_version": "1.4.0",
       "_view_module_version": "1.1.0",
       "description_width": ""
      }
     },
     "cdfa088ee7f7428894aeef6a0aa5ebcc": {
      "model_module": "@jupyter-widgets/controls",
      "model_module_version": "1.4.0",
      "model_name": "HTMLModel",
      "state": {
       "_model_module_version": "1.4.0",
       "_view_module_version": "1.4.0",
       "layout": "IPY_MODEL_7c009fc669b64af0913188f3a8b19abb",
       "style": "IPY_MODEL_45316ce1599a4665a18ee3cd286a273c",
       "value": "  0% 0/100 [00:00&lt;?, ?it/s]"
      }
     },
     "d023b8b927c44029a08f79882a2688ad": {
      "model_module": "@jupyter-widgets/base",
      "model_module_version": "1.1.0",
      "model_name": "LayoutModel",
      "state": {
       "_model_module_version": "1.1.0",
       "_view_module_version": "1.1.0"
      }
     },
     "d148f8f9a74145f5adde516e9492d0bd": {
      "model_module": "@jupyter-widgets/controls",
      "model_module_version": "1.4.0",
      "model_name": "HTMLModel",
      "state": {
       "_model_module_version": "1.4.0",
       "_view_module_version": "1.4.0",
       "layout": "IPY_MODEL_9ed12f704990472caa216919bd892733",
       "style": "IPY_MODEL_2caa4804c99544b19fae0da34f6928f3",
       "value": "100% 100/100 [02:36&lt;00:00,  1.47s/it]"
      }
     },
     "d15ef1dd2bb549d783bb050c33ef4a5f": {
      "model_module": "@jupyter-widgets/controls",
      "model_module_version": "1.4.0",
      "model_name": "HTMLModel",
      "state": {
       "_model_module_version": "1.4.0",
       "_view_module_version": "1.4.0",
       "layout": "IPY_MODEL_2489eae559144bb2b77b55017ed3f77f",
       "style": "IPY_MODEL_42ef620931704a7ba911ea6dd0d1740b",
       "value": " 21% 21/100 [00:31&lt;01:51,  1.41s/it]"
      }
     },
     "d1d7abd016bc403fbd6eae3c1af53d33": {
      "model_module": "@jupyter-widgets/controls",
      "model_module_version": "1.4.0",
      "model_name": "DescriptionStyleModel",
      "state": {
       "_model_module_version": "1.4.0",
       "_view_module_version": "1.1.0",
       "description_width": ""
      }
     },
     "d404bc974f6645669cf626ddef46d3b7": {
      "model_module": "@jupyter-widgets/controls",
      "model_module_version": "1.4.0",
      "model_name": "HTMLModel",
      "state": {
       "_model_module_version": "1.4.0",
       "_view_module_version": "1.4.0",
       "layout": "IPY_MODEL_f3b07a86221649b5850f10ddd1b0689e",
       "style": "IPY_MODEL_1523255a550d4fdda34a48525430dc31",
       "value": "  3% 3/100 [00:04&lt;02:18,  1.43s/it]"
      }
     },
     "d5d037f355ce45b7914053c32eae3c93": {
      "model_module": "@jupyter-widgets/base",
      "model_module_version": "1.1.0",
      "model_name": "LayoutModel",
      "state": {
       "_model_module_version": "1.1.0",
       "_view_module_version": "1.1.0"
      }
     },
     "d665a70dacc048858e4b5d50d73e33e1": {
      "model_module": "@jupyter-widgets/controls",
      "model_module_version": "1.4.0",
      "model_name": "HBoxModel",
      "state": {
       "_model_module_version": "1.4.0",
       "_view_module_version": "1.4.0",
       "children": [
        "IPY_MODEL_2a6e313e3b8a4bd1ac5dd00bcddbc0a5",
        "IPY_MODEL_424d795f0f9441ac8476153f8f455210"
       ],
       "layout": "IPY_MODEL_d5d037f355ce45b7914053c32eae3c93"
      }
     },
     "d6ab88f3de7c42498adc03913f973a30": {
      "model_module": "@jupyter-widgets/controls",
      "model_module_version": "1.4.0",
      "model_name": "DescriptionStyleModel",
      "state": {
       "_model_module_version": "1.4.0",
       "_view_module_version": "1.1.0",
       "description_width": ""
      }
     },
     "d784620408e143c18b5871977bc46962": {
      "model_module": "@jupyter-widgets/base",
      "model_module_version": "1.1.0",
      "model_name": "LayoutModel",
      "state": {
       "_model_module_version": "1.1.0",
       "_view_module_version": "1.1.0"
      }
     },
     "d7e9a26bf23d4bd0828b1981735afefb": {
      "model_module": "@jupyter-widgets/controls",
      "model_module_version": "1.4.0",
      "model_name": "HTMLModel",
      "state": {
       "_model_module_version": "1.4.0",
       "_view_module_version": "1.4.0",
       "layout": "IPY_MODEL_7e9ae6d026c448e78a73e248f124e51c",
       "style": "IPY_MODEL_f920315111f549bab2a8fc8c041721be",
       "value": "100% 100/100 [02:22&lt;00:00,  1.45s/it]"
      }
     },
     "d8fcb59004b147ccba4b9c4b326a8ca3": {
      "model_module": "@jupyter-widgets/controls",
      "model_module_version": "1.4.0",
      "model_name": "ProgressStyleModel",
      "state": {
       "_model_module_version": "1.4.0",
       "_view_module_version": "1.1.0",
       "description_width": ""
      }
     },
     "d95dce60f51c4e14a78169dbd607e261": {
      "model_module": "@jupyter-widgets/controls",
      "model_module_version": "1.4.0",
      "model_name": "HTMLModel",
      "state": {
       "_model_module_version": "1.4.0",
       "_view_module_version": "1.4.0",
       "layout": "IPY_MODEL_00ee6b0f2454436898506ed12adc3561",
       "style": "IPY_MODEL_494d9373335546979864f55acde52c19",
       "value": "100% 2000/2000 [46:59&lt;00:00,  1.55s/it]"
      }
     },
     "dc1a1d4889e946ffa0adb22cdb4836ff": {
      "model_module": "@jupyter-widgets/controls",
      "model_module_version": "1.4.0",
      "model_name": "IntProgressModel",
      "state": {
       "_model_module_version": "1.4.0",
       "_view_module_version": "1.4.0",
       "bar_style": "danger",
       "layout": "IPY_MODEL_7c98b57ce69c44d9811830991c609e6d",
       "style": "IPY_MODEL_a6920033d86b4f48a47f752a73ec160f"
      }
     },
     "dc690f0e5e1d41ed90c09cbf8b44ec19": {
      "model_module": "@jupyter-widgets/controls",
      "model_module_version": "1.4.0",
      "model_name": "HBoxModel",
      "state": {
       "_model_module_version": "1.4.0",
       "_view_module_version": "1.4.0",
       "children": [
        "IPY_MODEL_bbd52382041a4099aca39881f0892e1b",
        "IPY_MODEL_d7e9a26bf23d4bd0828b1981735afefb"
       ],
       "layout": "IPY_MODEL_e682e991a8b54ede856feaaaad217d73"
      }
     },
     "df0f8770bdd04165aa84594a457d59b8": {
      "model_module": "@jupyter-widgets/base",
      "model_module_version": "1.1.0",
      "model_name": "LayoutModel",
      "state": {
       "_model_module_version": "1.1.0",
       "_view_module_version": "1.1.0"
      }
     },
     "dff241d81086495fb3ddbb02604ef357": {
      "model_module": "@jupyter-widgets/controls",
      "model_module_version": "1.4.0",
      "model_name": "IntProgressModel",
      "state": {
       "_model_module_version": "1.4.0",
       "_view_module_version": "1.4.0",
       "bar_style": "success",
       "layout": "IPY_MODEL_1a762a93f58446799f60746e5ef0ab0b",
       "max": 2000,
       "style": "IPY_MODEL_202c330a84f64881beb2906b38aab22a",
       "value": 2000
      }
     },
     "e0ab7fb14aa0406d911afd5fd28927ec": {
      "model_module": "@jupyter-widgets/controls",
      "model_module_version": "1.4.0",
      "model_name": "HTMLModel",
      "state": {
       "_model_module_version": "1.4.0",
       "_view_module_version": "1.4.0",
       "layout": "IPY_MODEL_c592fa57c33f494db059f54fb31219ce",
       "style": "IPY_MODEL_671eb68406c54c85b01468cbc4b345f0",
       "value": "100% 1000/1000 [24:48&lt;00:00,  1.71s/it]"
      }
     },
     "e12efff41a31441795a7ff0440d512a6": {
      "model_module": "@jupyter-widgets/base",
      "model_module_version": "1.1.0",
      "model_name": "LayoutModel",
      "state": {
       "_model_module_version": "1.1.0",
       "_view_module_version": "1.1.0"
      }
     },
     "e1d9e3b34f074c95b1078f95c1af12e2": {
      "model_module": "@jupyter-widgets/base",
      "model_module_version": "1.1.0",
      "model_name": "LayoutModel",
      "state": {
       "_model_module_version": "1.1.0",
       "_view_module_version": "1.1.0"
      }
     },
     "e237ff70729b4eeaa58f668a4cdc4ef0": {
      "model_module": "@jupyter-widgets/controls",
      "model_module_version": "1.4.0",
      "model_name": "DescriptionStyleModel",
      "state": {
       "_model_module_version": "1.4.0",
       "_view_module_version": "1.1.0",
       "description_width": ""
      }
     },
     "e34c0f1f856748d0a6c81ee0e5492d5b": {
      "model_module": "@jupyter-widgets/controls",
      "model_module_version": "1.4.0",
      "model_name": "HTMLModel",
      "state": {
       "_model_module_version": "1.4.0",
       "_view_module_version": "1.4.0",
       "layout": "IPY_MODEL_a1bb7c8ee4db46a9ac2e8b26dc878816",
       "style": "IPY_MODEL_a1899fdcf43a490b996dda5d0d9e15e4",
       "value": "  0% 0/100 [00:00&lt;?, ?it/s]"
      }
     },
     "e66dd26827f34091a6b5589d5d2e3c48": {
      "model_module": "@jupyter-widgets/controls",
      "model_module_version": "1.4.0",
      "model_name": "HTMLModel",
      "state": {
       "_model_module_version": "1.4.0",
       "_view_module_version": "1.4.0",
       "layout": "IPY_MODEL_0d7abd2d8eff4aa7a1430a3e3150d471",
       "style": "IPY_MODEL_9fd2341678384b12948ca31d262252e9",
       "value": " 24% 12/50 [00:17&lt;00:54,  1.43s/it]"
      }
     },
     "e682e991a8b54ede856feaaaad217d73": {
      "model_module": "@jupyter-widgets/base",
      "model_module_version": "1.1.0",
      "model_name": "LayoutModel",
      "state": {
       "_model_module_version": "1.1.0",
       "_view_module_version": "1.1.0"
      }
     },
     "e83d71af45da4caebcd1fe4cbd0cb517": {
      "model_module": "@jupyter-widgets/base",
      "model_module_version": "1.1.0",
      "model_name": "LayoutModel",
      "state": {
       "_model_module_version": "1.1.0",
       "_view_module_version": "1.1.0"
      }
     },
     "eb10abc7b4934a16a103736ba30866a4": {
      "model_module": "@jupyter-widgets/controls",
      "model_module_version": "1.4.0",
      "model_name": "IntProgressModel",
      "state": {
       "_model_module_version": "1.4.0",
       "_view_module_version": "1.4.0",
       "bar_style": "danger",
       "layout": "IPY_MODEL_63c116e93f3944bfa21f8cb3b9761d8e",
       "style": "IPY_MODEL_9fcd903769d74f5b9dbb149d93ed9f23",
       "value": 4
      }
     },
     "eb318a0c3d88440288730fb96d76652d": {
      "model_module": "@jupyter-widgets/controls",
      "model_module_version": "1.4.0",
      "model_name": "DescriptionStyleModel",
      "state": {
       "_model_module_version": "1.4.0",
       "_view_module_version": "1.1.0",
       "description_width": ""
      }
     },
     "ec00a697e5e7498294937a343e0de485": {
      "model_module": "@jupyter-widgets/base",
      "model_module_version": "1.1.0",
      "model_name": "LayoutModel",
      "state": {
       "_model_module_version": "1.1.0",
       "_view_module_version": "1.1.0"
      }
     },
     "ec30a46385424b77b5dbd594e7535be4": {
      "model_module": "@jupyter-widgets/controls",
      "model_module_version": "1.4.0",
      "model_name": "HTMLModel",
      "state": {
       "_model_module_version": "1.4.0",
       "_view_module_version": "1.4.0",
       "layout": "IPY_MODEL_e1d9e3b34f074c95b1078f95c1af12e2",
       "style": "IPY_MODEL_3a91e552f5e04a2496a45e3e2fefad91",
       "value": "100% 100/100 [02:25&lt;00:00,  1.45s/it]"
      }
     },
     "ec65db1c4ae544d8a89db6347e98b016": {
      "model_module": "@jupyter-widgets/base",
      "model_module_version": "1.1.0",
      "model_name": "LayoutModel",
      "state": {
       "_model_module_version": "1.1.0",
       "_view_module_version": "1.1.0"
      }
     },
     "ee27906c408e48589be7ffaf54101970": {
      "model_module": "@jupyter-widgets/base",
      "model_module_version": "1.1.0",
      "model_name": "LayoutModel",
      "state": {
       "_model_module_version": "1.1.0",
       "_view_module_version": "1.1.0"
      }
     },
     "efad9389617147229e50e294bd96f280": {
      "model_module": "@jupyter-widgets/controls",
      "model_module_version": "1.4.0",
      "model_name": "IntProgressModel",
      "state": {
       "_model_module_version": "1.4.0",
       "_view_module_version": "1.4.0",
       "bar_style": "success",
       "layout": "IPY_MODEL_6dd933e1c2cd4453aea0e0e07188325e",
       "style": "IPY_MODEL_0d0e8e121e714c8bacce728bd72f29aa",
       "value": 100
      }
     },
     "efe9d6a63bb047329f8c52126bbd68b6": {
      "model_module": "@jupyter-widgets/controls",
      "model_module_version": "1.4.0",
      "model_name": "ProgressStyleModel",
      "state": {
       "_model_module_version": "1.4.0",
       "_view_module_version": "1.1.0",
       "description_width": ""
      }
     },
     "f0b50c193b494aacb2100416f605bee2": {
      "model_module": "@jupyter-widgets/controls",
      "model_module_version": "1.4.0",
      "model_name": "IntProgressModel",
      "state": {
       "_model_module_version": "1.4.0",
       "_view_module_version": "1.4.0",
       "bar_style": "success",
       "layout": "IPY_MODEL_20ff01eac5f34492b5b75618ceae118c",
       "style": "IPY_MODEL_851f263e5f31417c9d3b6624006d335a",
       "value": 100
      }
     },
     "f0be0d438a034ef3823adcd850d7ca6c": {
      "model_module": "@jupyter-widgets/controls",
      "model_module_version": "1.4.0",
      "model_name": "HBoxModel",
      "state": {
       "_model_module_version": "1.4.0",
       "_view_module_version": "1.4.0",
       "children": [
        "IPY_MODEL_6651fc2d6b904040aac0c032401b4939",
        "IPY_MODEL_c74af82f59ce4805b4a2e028a3eb088a"
       ],
       "layout": "IPY_MODEL_35553fbcd4db4a7d88fd4ad25650bb02"
      }
     },
     "f1bc146105ea4531aa879f53a6906c97": {
      "model_module": "@jupyter-widgets/controls",
      "model_module_version": "1.4.0",
      "model_name": "ProgressStyleModel",
      "state": {
       "_model_module_version": "1.4.0",
       "_view_module_version": "1.1.0",
       "description_width": ""
      }
     },
     "f242ed1245d34a1e8946fbf9ae397e82": {
      "model_module": "@jupyter-widgets/controls",
      "model_module_version": "1.4.0",
      "model_name": "IntProgressModel",
      "state": {
       "_model_module_version": "1.4.0",
       "_view_module_version": "1.4.0",
       "bar_style": "success",
       "layout": "IPY_MODEL_759deca8820c44b68b584bc93fbb3f13",
       "max": 9000,
       "style": "IPY_MODEL_89ba45a39f07448bb6212f177f871468",
       "value": 9000
      }
     },
     "f3b07a86221649b5850f10ddd1b0689e": {
      "model_module": "@jupyter-widgets/base",
      "model_module_version": "1.1.0",
      "model_name": "LayoutModel",
      "state": {
       "_model_module_version": "1.1.0",
       "_view_module_version": "1.1.0"
      }
     },
     "f47485da7dbc40718dbdc1229f45c155": {
      "model_module": "@jupyter-widgets/controls",
      "model_module_version": "1.4.0",
      "model_name": "HTMLModel",
      "state": {
       "_model_module_version": "1.4.0",
       "_view_module_version": "1.4.0",
       "layout": "IPY_MODEL_233c4707ade64886b728b9ca738307dc",
       "style": "IPY_MODEL_5d9616cf43ab4480b7690185ce373409",
       "value": "100% 100/100 [02:26&lt;00:00,  1.46s/it]"
      }
     },
     "f4e9e995a1fc4d75bc9154c2267538be": {
      "model_module": "@jupyter-widgets/controls",
      "model_module_version": "1.4.0",
      "model_name": "ProgressStyleModel",
      "state": {
       "_model_module_version": "1.4.0",
       "_view_module_version": "1.1.0",
       "description_width": ""
      }
     },
     "f59fdcb631d346ca84853950196328c5": {
      "model_module": "@jupyter-widgets/base",
      "model_module_version": "1.1.0",
      "model_name": "LayoutModel",
      "state": {
       "_model_module_version": "1.1.0",
       "_view_module_version": "1.1.0"
      }
     },
     "f5e8b7cd09934a11a0ca9c467ec9ce9c": {
      "model_module": "@jupyter-widgets/controls",
      "model_module_version": "1.4.0",
      "model_name": "HTMLModel",
      "state": {
       "_model_module_version": "1.4.0",
       "_view_module_version": "1.4.0",
       "layout": "IPY_MODEL_d023b8b927c44029a08f79882a2688ad",
       "style": "IPY_MODEL_0fd6d1c49fcf4e5ba813c9c7854f415f",
       "value": "  0% 0/50 [00:00&lt;?, ?it/s]"
      }
     },
     "f6edaad056c24f12aa027ac922d5880e": {
      "model_module": "@jupyter-widgets/base",
      "model_module_version": "1.1.0",
      "model_name": "LayoutModel",
      "state": {
       "_model_module_version": "1.1.0",
       "_view_module_version": "1.1.0"
      }
     },
     "f920315111f549bab2a8fc8c041721be": {
      "model_module": "@jupyter-widgets/controls",
      "model_module_version": "1.4.0",
      "model_name": "DescriptionStyleModel",
      "state": {
       "_model_module_version": "1.4.0",
       "_view_module_version": "1.1.0",
       "description_width": ""
      }
     },
     "f92ca8a41a8640bca584b625f24d7774": {
      "model_module": "@jupyter-widgets/controls",
      "model_module_version": "1.4.0",
      "model_name": "HBoxModel",
      "state": {
       "_model_module_version": "1.4.0",
       "_view_module_version": "1.4.0",
       "children": [
        "IPY_MODEL_1d7e49a4f0604a0ba93bf35e55e603b0",
        "IPY_MODEL_d148f8f9a74145f5adde516e9492d0bd"
       ],
       "layout": "IPY_MODEL_2b419ea9d2e241b5a9d623df605177d7"
      }
     },
     "fa9719fb60c44327aa8da018b1162432": {
      "model_module": "@jupyter-widgets/controls",
      "model_module_version": "1.4.0",
      "model_name": "HBoxModel",
      "state": {
       "_model_module_version": "1.4.0",
       "_view_module_version": "1.4.0",
       "children": [
        "IPY_MODEL_efad9389617147229e50e294bd96f280",
        "IPY_MODEL_1598ba76eb954818a1319af1712c0ed7"
       ],
       "layout": "IPY_MODEL_4427efc0ea184708b880a6aeaac912a6"
      }
     },
     "fc47d661982841bd881734d3a7f81f42": {
      "model_module": "@jupyter-widgets/controls",
      "model_module_version": "1.4.0",
      "model_name": "ProgressStyleModel",
      "state": {
       "_model_module_version": "1.4.0",
       "_view_module_version": "1.1.0",
       "description_width": ""
      }
     },
     "fe37c9d4f4a34001a5077f319524c750": {
      "model_module": "@jupyter-widgets/controls",
      "model_module_version": "1.4.0",
      "model_name": "HBoxModel",
      "state": {
       "_model_module_version": "1.4.0",
       "_view_module_version": "1.4.0",
       "children": [
        "IPY_MODEL_902d1fecb0a34ee5a7ea3a8e3d48decf",
        "IPY_MODEL_a32288d0c29049ee9a2a08c0c49d2a4d"
       ],
       "layout": "IPY_MODEL_1043794e1f9447728d5302ff2add6097"
      }
     }
    },
    "version_major": 2,
    "version_minor": 0
   }
  }
 },
 "nbformat": 4,
 "nbformat_minor": 4
}
