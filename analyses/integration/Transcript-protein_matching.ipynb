{
 "cells": [
  {
   "cell_type": "code",
   "execution_count": 1,
   "metadata": {},
   "outputs": [],
   "source": [
    "from helpers.utilities import *\n",
    "%run helpers/notebook_setup.ipynb"
   ]
  },
  {
   "cell_type": "code",
   "execution_count": 2,
   "metadata": {},
   "outputs": [],
   "source": [
    "%R source('plots/colors.R');"
   ]
  },
  {
   "cell_type": "markdown",
   "metadata": {},
   "source": [
    "Inputs:"
   ]
  },
  {
   "cell_type": "code",
   "execution_count": 3,
   "metadata": {
    "tags": [
     "inputs"
    ]
   },
   "outputs": [],
   "source": [
    "ensembl_to_entrez_path = 'data/ensembl_to_entrez.csv'\n",
    "clinical_path = 'data/clean/clinical/data_with_derived_variables.csv'\n",
    "\n",
    "raw_rna_path = 'data/clean/rna/all_samples_counts.csv'\n",
    "raw_protein_path = 'data/clean/protein/gene_levels_by_entrez.csv'\n",
    "\n",
    "rna_tmm_normalized_counts_path = 'data/preliminary_analyses/differential_rna_expression/normalized_counts/tmm_for_subsets.csv'\n",
    "\n",
    "protein_tmm_normalized_counts_path = 'data/preliminary_analyses/differential_protein_levels/normalized_counts/tmm_for_subsets.csv'\n",
    "protein_tmm_normalized_counts_gene_level_path = 'data/preliminary_analyses/differential_protein_levels/normalized_counts/gene_level_tmm_for_subsets.csv'\n",
    "\n",
    "rna_rle_normalized_counts_path = 'data/preliminary_analyses/differential_rna_expression/normalized_counts/rle_for_subsets.csv'\n",
    "protein_rle_normalized_counts_gene_level_path = 'data/preliminary_analyses/differential_protein_levels/normalized_counts/gene_level_rle_for_subsets.csv'"
   ]
  },
  {
   "cell_type": "markdown",
   "metadata": {},
   "source": [
    "Outputs:"
   ]
  },
  {
   "cell_type": "code",
   "execution_count": 4,
   "metadata": {
    "tags": [
     "outputs"
    ]
   },
   "outputs": [
    {
     "data": {
      "text/html": [],
      "text/plain": [
       "<IPython.core.display.HTML object>"
      ]
     },
     "metadata": {
      "genes_in_both": "data/integration/genes_in_both.csv",
      "patient_annotations_ordered": "data/integration/patient_annotations_ordered.csv",
      "patients_with_both": "data/integration/patients_with_both.csv",
      "protein": "data/integration/protein.csv",
      "protein_shared": "data/integration/protein_shared.csv",
      "rna": "data/integration/rna.csv",
      "rna_shared": "data/integration/rna_shared.csv"
     },
     "output_type": "display_data"
    }
   ],
   "source": [
    "__outputs__ = create_paths(\n",
    "    path='data/integration/',\n",
    "    csv=['rna', 'rna_shared', 'protein', 'protein_shared', 'patients_with_both', 'genes_in_both', 'patient_annotations_ordered']\n",
    ")"
   ]
  },
  {
   "cell_type": "markdown",
   "metadata": {},
   "source": [
    "## Preprocessing, overlap analysis, gene-protein matching"
   ]
  },
  {
   "cell_type": "markdown",
   "metadata": {},
   "source": [
    "For the majority of analyses I will use TMM normalized data (pre-filtered as for limma), mapped on the gene level:"
   ]
  },
  {
   "cell_type": "code",
   "execution_count": 5,
   "metadata": {},
   "outputs": [],
   "source": [
    "rna_tmm_counts = read_csv(rna_tmm_normalized_counts_path, index_col=0)\n",
    "protein_tmm_counts = read_csv(protein_tmm_normalized_counts_path, index_col=0)\n",
    "protein_tmm_counts_gene_level = read_csv(protein_tmm_normalized_counts_gene_level_path, index_col=0)"
   ]
  },
  {
   "cell_type": "code",
   "execution_count": 6,
   "metadata": {},
   "outputs": [],
   "source": [
    "rna_rle_counts = read_csv(rna_rle_normalized_counts_path, index_col=0)\n",
    "protein_rle_counts_gene_level = read_csv(protein_rle_normalized_counts_gene_level_path, index_col=0)"
   ]
  },
  {
   "cell_type": "markdown",
   "metadata": {},
   "source": [
    "While the raw RNASeq/SOMAScan data are hardly comparable, these are also useful to highlight possible discrepancies arising from technical issues:"
   ]
  },
  {
   "cell_type": "code",
   "execution_count": 7,
   "metadata": {},
   "outputs": [],
   "source": [
    "raw_rna = read_csv(raw_rna_path, index_col=0)\n",
    "raw_protein = read_csv(raw_protein_path, index_col=0)"
   ]
  },
  {
   "cell_type": "code",
   "execution_count": 8,
   "metadata": {},
   "outputs": [
    {
     "data": {
      "text/html": [
       "<div>\n",
       "<style scoped>\n",
       "    .dataframe tbody tr th:only-of-type {\n",
       "        vertical-align: middle;\n",
       "    }\n",
       "\n",
       "    .dataframe tbody tr th {\n",
       "        vertical-align: top;\n",
       "    }\n",
       "\n",
       "    .dataframe thead th {\n",
       "        text-align: right;\n",
       "    }\n",
       "</style>\n",
       "<table border=\"1\" class=\"dataframe\">\n",
       "  <thead>\n",
       "    <tr style=\"text-align: right;\">\n",
       "      <th></th>\n",
       "      <th>001.TMD</th>\n",
       "      <th>006.CM</th>\n",
       "      <th>012.BM</th>\n",
       "      <th>016.CM</th>\n",
       "      <th>017.TMD</th>\n",
       "      <th>...</th>\n",
       "      <th>158.TMD</th>\n",
       "      <th>167.TMR</th>\n",
       "      <th>175.TMD</th>\n",
       "      <th>233.CM</th>\n",
       "      <th>261.CM</th>\n",
       "    </tr>\n",
       "  </thead>\n",
       "  <tbody>\n",
       "    <tr>\n",
       "      <th>ENSG00000000003</th>\n",
       "      <td>1.0</td>\n",
       "      <td>3.0</td>\n",
       "      <td>2.0</td>\n",
       "      <td>16.0</td>\n",
       "      <td>25.0</td>\n",
       "      <td>...</td>\n",
       "      <td>0.0</td>\n",
       "      <td>0.0</td>\n",
       "      <td>0.0</td>\n",
       "      <td>0.0</td>\n",
       "      <td>25.0</td>\n",
       "    </tr>\n",
       "    <tr>\n",
       "      <th>ENSG00000000005</th>\n",
       "      <td>0.0</td>\n",
       "      <td>0.0</td>\n",
       "      <td>0.0</td>\n",
       "      <td>1.0</td>\n",
       "      <td>0.0</td>\n",
       "      <td>...</td>\n",
       "      <td>0.0</td>\n",
       "      <td>0.0</td>\n",
       "      <td>0.0</td>\n",
       "      <td>0.0</td>\n",
       "      <td>5.0</td>\n",
       "    </tr>\n",
       "  </tbody>\n",
       "</table>\n",
       "<p>2 rows × 56 columns</p>\n",
       "</div>"
      ],
      "text/plain": [
       "                 001.TMD  006.CM  012.BM  016.CM  017.TMD  ...  158.TMD  \\\n",
       "ENSG00000000003      1.0     3.0     2.0    16.0     25.0  ...      0.0   \n",
       "ENSG00000000005      0.0     0.0     0.0     1.0      0.0  ...      0.0   \n",
       "\n",
       "                 167.TMR  175.TMD  233.CM  261.CM  \n",
       "ENSG00000000003      0.0      0.0     0.0    25.0  \n",
       "ENSG00000000005      0.0      0.0     0.0     5.0  \n",
       "\n",
       "[2 rows x 56 columns]"
      ]
     },
     "execution_count": 8,
     "metadata": {},
     "output_type": "execute_result"
    }
   ],
   "source": [
    "raw_rna.head(2)"
   ]
  },
  {
   "cell_type": "code",
   "execution_count": 9,
   "metadata": {},
   "outputs": [
    {
     "data": {
      "text/html": [
       "<div>\n",
       "<style scoped>\n",
       "    .dataframe tbody tr th:only-of-type {\n",
       "        vertical-align: middle;\n",
       "    }\n",
       "\n",
       "    .dataframe tbody tr th {\n",
       "        vertical-align: top;\n",
       "    }\n",
       "\n",
       "    .dataframe thead th {\n",
       "        text-align: right;\n",
       "    }\n",
       "</style>\n",
       "<table border=\"1\" class=\"dataframe\">\n",
       "  <thead>\n",
       "    <tr style=\"text-align: right;\">\n",
       "      <th></th>\n",
       "      <th>149.TMD</th>\n",
       "      <th>007.TMD</th>\n",
       "      <th>001.TMD</th>\n",
       "      <th>064.TMD</th>\n",
       "      <th>151.TMD</th>\n",
       "      <th>...</th>\n",
       "      <th>177.HC</th>\n",
       "      <th>189.HC</th>\n",
       "      <th>217.HC</th>\n",
       "      <th>221.HC</th>\n",
       "      <th>245.HC</th>\n",
       "    </tr>\n",
       "  </thead>\n",
       "  <tbody>\n",
       "    <tr>\n",
       "      <th>10273</th>\n",
       "      <td>174.1</td>\n",
       "      <td>521.1</td>\n",
       "      <td>57.0</td>\n",
       "      <td>158.1</td>\n",
       "      <td>62.1</td>\n",
       "      <td>...</td>\n",
       "      <td>12.6</td>\n",
       "      <td>11.4</td>\n",
       "      <td>12.2</td>\n",
       "      <td>15.8</td>\n",
       "      <td>22.2</td>\n",
       "    </tr>\n",
       "    <tr>\n",
       "      <th>1051</th>\n",
       "      <td>53.3</td>\n",
       "      <td>283.6</td>\n",
       "      <td>36.1</td>\n",
       "      <td>126.6</td>\n",
       "      <td>33.7</td>\n",
       "      <td>...</td>\n",
       "      <td>10.4</td>\n",
       "      <td>9.7</td>\n",
       "      <td>9.6</td>\n",
       "      <td>11.0</td>\n",
       "      <td>15.1</td>\n",
       "    </tr>\n",
       "  </tbody>\n",
       "</table>\n",
       "<p>2 rows × 82 columns</p>\n",
       "</div>"
      ],
      "text/plain": [
       "       149.TMD  007.TMD  001.TMD  064.TMD  151.TMD  ...  177.HC  189.HC  \\\n",
       "10273    174.1    521.1     57.0    158.1     62.1  ...    12.6    11.4   \n",
       "1051      53.3    283.6     36.1    126.6     33.7  ...    10.4     9.7   \n",
       "\n",
       "       217.HC  221.HC  245.HC  \n",
       "10273    12.2    15.8    22.2  \n",
       "1051      9.6    11.0    15.1  \n",
       "\n",
       "[2 rows x 82 columns]"
      ]
     },
     "execution_count": 9,
     "metadata": {},
     "output_type": "execute_result"
    }
   ],
   "source": [
    "raw_protein.head(2)"
   ]
  },
  {
   "cell_type": "markdown",
   "metadata": {},
   "source": [
    "### The patients overlap is limited and only present for CM, TM and Viral groups"
   ]
  },
  {
   "cell_type": "code",
   "execution_count": 10,
   "metadata": {},
   "outputs": [],
   "source": [
    "from helpers.venn import venn2"
   ]
  },
  {
   "cell_type": "code",
   "execution_count": 11,
   "metadata": {},
   "outputs": [
    {
     "data": {
      "image/png": "[encoded data removed]",
      "text/plain": [
       "<Figure size 864x672 with 1 Axes>"
      ]
     },
     "metadata": {
      "needs_background": "light"
     },
     "output_type": "display_data"
    }
   ],
   "source": [
    "venn2(dict(RNA=rna_tmm_counts.columns, Protein=protein_tmm_counts.columns));"
   ]
  },
  {
   "cell_type": "code",
   "execution_count": 12,
   "metadata": {},
   "outputs": [],
   "source": [
    "from numpy import nan\n",
    "from math import log"
   ]
  },
  {
   "cell_type": "code",
   "execution_count": 13,
   "metadata": {},
   "outputs": [],
   "source": [
    "patients_union = list(rna_tmm_counts.columns | protein_tmm_counts.columns)\n",
    "\n",
    "assert all(raw_rna > 0) and all(raw_protein > 0)\n",
    "\n",
    "patients_data = DataFrame(\n",
    "    data=[{\n",
    "            'Protein': log(sum(raw_protein[patient])) if patient in raw_protein else nan, \n",
    "            'RNA': log(sum(raw_rna[patient])) if patient in raw_rna else nan,\n",
    "        }\n",
    "        for patient in patients_union\n",
    "    ],\n",
    "    index=patients_union\n",
    ").T"
   ]
  },
  {
   "cell_type": "code",
   "execution_count": 14,
   "metadata": {},
   "outputs": [],
   "source": [
    "clinical = read_csv(clinical_path, index_col=0).loc[patients_union]\n",
    "from plots.annotations import generate_patient_annotations\n",
    "patient_annotations = generate_patient_annotations(clinical)"
   ]
  },
  {
   "cell_type": "code",
   "execution_count": 15,
   "metadata": {},
   "outputs": [
    {
     "data": {
      "text/html": [
       "<div>\n",
       "<style scoped>\n",
       "    .dataframe tbody tr th:only-of-type {\n",
       "        vertical-align: middle;\n",
       "    }\n",
       "\n",
       "    .dataframe tbody tr th {\n",
       "        vertical-align: top;\n",
       "    }\n",
       "\n",
       "    .dataframe thead th {\n",
       "        text-align: right;\n",
       "    }\n",
       "</style>\n",
       "<table border=\"1\" class=\"dataframe\">\n",
       "  <thead>\n",
       "    <tr style=\"text-align: right;\">\n",
       "      <th></th>\n",
       "      <th>Meningitis</th>\n",
       "      <th>Tuberculosis status</th>\n",
       "      <th>HIV status</th>\n",
       "      <th>Is RNA outlier</th>\n",
       "    </tr>\n",
       "    <tr>\n",
       "      <th>PatientID</th>\n",
       "      <th></th>\n",
       "      <th></th>\n",
       "      <th></th>\n",
       "      <th></th>\n",
       "    </tr>\n",
       "  </thead>\n",
       "  <tbody>\n",
       "    <tr>\n",
       "      <th>001.TMD</th>\n",
       "      <td>Tuberculosis</td>\n",
       "      <td>Definite</td>\n",
       "      <td>Positive</td>\n",
       "      <td>False</td>\n",
       "    </tr>\n",
       "    <tr>\n",
       "      <th>006.CM</th>\n",
       "      <td>Cryptococcal</td>\n",
       "      <td>-</td>\n",
       "      <td>Positive</td>\n",
       "      <td>False</td>\n",
       "    </tr>\n",
       "  </tbody>\n",
       "</table>\n",
       "</div>"
      ],
      "text/plain": [
       "             Meningitis Tuberculosis status HIV status  Is RNA outlier\n",
       "PatientID                                                             \n",
       "001.TMD    Tuberculosis            Definite   Positive           False\n",
       "006.CM     Cryptococcal                   -   Positive           False"
      ]
     },
     "execution_count": 15,
     "metadata": {},
     "output_type": "execute_result"
    }
   ],
   "source": [
    "patient_annotations['Is RNA outlier'] = [\n",
    "    patient in raw_rna and patient not in rna_tmm_counts.columns\n",
    "    for patient in patients_union\n",
    "]\n",
    "assert any(patient_annotations['Is RNA outlier'])\n",
    "patient_annotations.head(2)"
   ]
  },
  {
   "cell_type": "code",
   "execution_count": 16,
   "metadata": {},
   "outputs": [
    {
     "data": {
      "text/html": [
       "<div>\n",
       "<style scoped>\n",
       "    .dataframe tbody tr th:only-of-type {\n",
       "        vertical-align: middle;\n",
       "    }\n",
       "\n",
       "    .dataframe tbody tr th {\n",
       "        vertical-align: top;\n",
       "    }\n",
       "\n",
       "    .dataframe thead th {\n",
       "        text-align: right;\n",
       "    }\n",
       "</style>\n",
       "<table border=\"1\" class=\"dataframe\">\n",
       "  <thead>\n",
       "    <tr style=\"text-align: right;\">\n",
       "      <th></th>\n",
       "      <th>001.TMD</th>\n",
       "      <th>006.CM</th>\n",
       "      <th>007.TMD</th>\n",
       "      <th>011.TMR</th>\n",
       "      <th>012.BM</th>\n",
       "      <th>...</th>\n",
       "      <th>247.CM</th>\n",
       "      <th>248.TMD</th>\n",
       "      <th>255.VM</th>\n",
       "      <th>256.CM</th>\n",
       "      <th>261.CM</th>\n",
       "    </tr>\n",
       "  </thead>\n",
       "  <tbody>\n",
       "    <tr>\n",
       "      <th>Protein</th>\n",
       "      <td>16.692534</td>\n",
       "      <td>16.829547</td>\n",
       "      <td>17.15418</td>\n",
       "      <td>NaN</td>\n",
       "      <td>NaN</td>\n",
       "      <td>...</td>\n",
       "      <td>16.315459</td>\n",
       "      <td>17.097623</td>\n",
       "      <td>16.137170</td>\n",
       "      <td>16.604112</td>\n",
       "      <td>NaN</td>\n",
       "    </tr>\n",
       "    <tr>\n",
       "      <th>RNA</th>\n",
       "      <td>12.595934</td>\n",
       "      <td>14.060782</td>\n",
       "      <td>NaN</td>\n",
       "      <td>14.260128</td>\n",
       "      <td>15.175231</td>\n",
       "      <td>...</td>\n",
       "      <td>NaN</td>\n",
       "      <td>NaN</td>\n",
       "      <td>14.778364</td>\n",
       "      <td>15.188198</td>\n",
       "      <td>15.01611</td>\n",
       "    </tr>\n",
       "  </tbody>\n",
       "</table>\n",
       "<p>2 rows × 95 columns</p>\n",
       "</div>"
      ],
      "text/plain": [
       "           001.TMD     006.CM   007.TMD    011.TMR     012.BM  ...     247.CM  \\\n",
       "Protein  16.692534  16.829547  17.15418        NaN        NaN  ...  16.315459   \n",
       "RNA      12.595934  14.060782       NaN  14.260128  15.175231  ...        NaN   \n",
       "\n",
       "           248.TMD     255.VM     256.CM    261.CM  \n",
       "Protein  17.097623  16.137170  16.604112       NaN  \n",
       "RNA            NaN  14.778364  15.188198  15.01611  \n",
       "\n",
       "[2 rows x 95 columns]"
      ]
     },
     "execution_count": 16,
     "metadata": {},
     "output_type": "execute_result"
    }
   ],
   "source": [
    "patients_data"
   ]
  },
  {
   "cell_type": "code",
   "execution_count": 17,
   "metadata": {},
   "outputs": [],
   "source": [
    "joined = patient_annotations.join(patients_data.T)\n",
    "joined['no_protein'] = joined['Protein'].isnull()\n",
    "joined['no_rna'] = joined['RNA'].isnull()\n",
    "ordered = joined.sort_values(['Meningitis', 'Tuberculosis status', 'no_protein', 'no_rna', 'Protein', 'RNA'])"
   ]
  },
  {
   "cell_type": "code",
   "execution_count": 18,
   "metadata": {},
   "outputs": [],
   "source": [
    "patients_data_ordered = patients_data[ordered.index]\n",
    "patient_annotations_ordered = patient_annotations.T[ordered.index].T"
   ]
  },
  {
   "cell_type": "code",
   "execution_count": 19,
   "metadata": {},
   "outputs": [],
   "source": [
    "patient_annotations_ordered['Is RNA outlier'] = patient_annotations_ordered['Is RNA outlier'].astype(str)"
   ]
  },
  {
   "cell_type": "code",
   "execution_count": 20,
   "metadata": {},
   "outputs": [
    {
     "data": {
      "image/png": "[encoded data removed]"
     },
     "metadata": {},
     "output_type": "display_data"
    }
   ],
   "source": [
    "%%R -i patients_data_ordered -i patient_annotations_ordered -w 1200 -h 300\n",
    "import::here(space_to_dot, dot_to_space, remove_leading_X, .from='helpers/utilities.R')\n",
    "        \n",
    "names(patient_annotations_ordered) = dot_to_space(names(patient_annotations_ordered))\n",
    "colnames(patients_data_ordered) <- remove_leading_X(colnames(patients_data_ordered))\n",
    "\n",
    "pheatmap::pheatmap(\n",
    "    patients_data_ordered,\n",
    "    show_colnames=T, show_rownames=T,\n",
    "    annotation_col=patient_annotations_ordered,\n",
    "    annotation_colors=patient_colors,\n",
    "    cluster_rows=F, cluster_cols=F,\n",
    "    scale='row',\n",
    "    border_color='black', na_col='grey100',\n",
    "    main='Total abundance of Protein/RNA in each sample, grouped by the condition'\n",
    ")"
   ]
  },
  {
   "cell_type": "markdown",
   "metadata": {},
   "source": [
    "## 2. Matching genes and proteins"
   ]
  },
  {
   "cell_type": "markdown",
   "metadata": {},
   "source": [
    "Identifiers mapping:\n",
    " - there are multiple transcripts for the same gene (which may be due to different genomic loci or isoforms)\n",
    " - the simplest gene level analysis can use Entrez Gene IDs"
   ]
  },
  {
   "cell_type": "markdown",
   "metadata": {},
   "source": [
    "### Using Entrez Gene ID"
   ]
  },
  {
   "cell_type": "markdown",
   "metadata": {},
   "source": [
    "Gene-level protein counts are already mapped to Entrez Gene ID (here through UniProt, though aptamers metadata also have Entrez mappings):"
   ]
  },
  {
   "cell_type": "code",
   "execution_count": 21,
   "metadata": {},
   "outputs": [
    {
     "data": {
      "text/html": [
       "<div>\n",
       "<style scoped>\n",
       "    .dataframe tbody tr th:only-of-type {\n",
       "        vertical-align: middle;\n",
       "    }\n",
       "\n",
       "    .dataframe tbody tr th {\n",
       "        vertical-align: top;\n",
       "    }\n",
       "\n",
       "    .dataframe thead th {\n",
       "        text-align: right;\n",
       "    }\n",
       "</style>\n",
       "<table border=\"1\" class=\"dataframe\">\n",
       "  <thead>\n",
       "    <tr style=\"text-align: right;\">\n",
       "      <th></th>\n",
       "      <th>149.TMD</th>\n",
       "      <th>007.TMD</th>\n",
       "      <th>001.TMD</th>\n",
       "      <th>064.TMD</th>\n",
       "      <th>151.TMD</th>\n",
       "      <th>...</th>\n",
       "      <th>177.HC</th>\n",
       "      <th>189.HC</th>\n",
       "      <th>217.HC</th>\n",
       "      <th>221.HC</th>\n",
       "      <th>245.HC</th>\n",
       "    </tr>\n",
       "  </thead>\n",
       "  <tbody>\n",
       "    <tr>\n",
       "      <th>10273</th>\n",
       "      <td>2.582776</td>\n",
       "      <td>2.984110</td>\n",
       "      <td>1.715378</td>\n",
       "      <td>2.136657</td>\n",
       "      <td>1.956247</td>\n",
       "      <td>...</td>\n",
       "      <td>1.035894</td>\n",
       "      <td>1.322431</td>\n",
       "      <td>1.144645</td>\n",
       "      <td>1.334694</td>\n",
       "      <td>1.113940</td>\n",
       "    </tr>\n",
       "    <tr>\n",
       "      <th>1051</th>\n",
       "      <td>0.929932</td>\n",
       "      <td>2.121968</td>\n",
       "      <td>1.082243</td>\n",
       "      <td>1.824437</td>\n",
       "      <td>1.106152</td>\n",
       "      <td>...</td>\n",
       "      <td>0.774224</td>\n",
       "      <td>1.099776</td>\n",
       "      <td>0.816865</td>\n",
       "      <td>0.837622</td>\n",
       "      <td>0.589689</td>\n",
       "    </tr>\n",
       "  </tbody>\n",
       "</table>\n",
       "<p>2 rows × 82 columns</p>\n",
       "</div>"
      ],
      "text/plain": [
       "        149.TMD   007.TMD   001.TMD   064.TMD   151.TMD  ...    177.HC  \\\n",
       "10273  2.582776  2.984110  1.715378  2.136657  1.956247  ...  1.035894   \n",
       "1051   0.929932  2.121968  1.082243  1.824437  1.106152  ...  0.774224   \n",
       "\n",
       "         189.HC    217.HC    221.HC    245.HC  \n",
       "10273  1.322431  1.144645  1.334694  1.113940  \n",
       "1051   1.099776  0.816865  0.837622  0.589689  \n",
       "\n",
       "[2 rows x 82 columns]"
      ]
     },
     "execution_count": 21,
     "metadata": {},
     "output_type": "execute_result"
    }
   ],
   "source": [
    "protein_tmm_counts_gene_level.head(2)"
   ]
  },
  {
   "cell_type": "markdown",
   "metadata": {},
   "source": [
    "Let's get Entrez Ids for RNA-seq results:"
   ]
  },
  {
   "cell_type": "code",
   "execution_count": 22,
   "metadata": {},
   "outputs": [
    {
     "data": {
      "text/html": [
       "<div>\n",
       "<style scoped>\n",
       "    .dataframe tbody tr th:only-of-type {\n",
       "        vertical-align: middle;\n",
       "    }\n",
       "\n",
       "    .dataframe tbody tr th {\n",
       "        vertical-align: top;\n",
       "    }\n",
       "\n",
       "    .dataframe thead th {\n",
       "        text-align: right;\n",
       "    }\n",
       "</style>\n",
       "<table border=\"1\" class=\"dataframe\">\n",
       "  <thead>\n",
       "    <tr style=\"text-align: right;\">\n",
       "      <th></th>\n",
       "      <th>NCBI Gene ID</th>\n",
       "    </tr>\n",
       "    <tr>\n",
       "      <th>Ensembl gene ID</th>\n",
       "      <th></th>\n",
       "    </tr>\n",
       "  </thead>\n",
       "  <tbody>\n",
       "    <tr>\n",
       "      <th>ENSG00000121410</th>\n",
       "      <td>1</td>\n",
       "    </tr>\n",
       "    <tr>\n",
       "      <th>ENSG00000268895</th>\n",
       "      <td>503538</td>\n",
       "    </tr>\n",
       "  </tbody>\n",
       "</table>\n",
       "</div>"
      ],
      "text/plain": [
       "                 NCBI Gene ID\n",
       "Ensembl gene ID              \n",
       "ENSG00000121410             1\n",
       "ENSG00000268895        503538"
      ]
     },
     "execution_count": 22,
     "metadata": {},
     "output_type": "execute_result"
    }
   ],
   "source": [
    "ensembl_to_entrez = read_csv(ensembl_to_entrez_path, index_col=0)\n",
    "ensembl_to_entrez.head(2)"
   ]
  },
  {
   "cell_type": "code",
   "execution_count": 23,
   "metadata": {},
   "outputs": [
    {
     "data": {
      "text/html": [
       "<div>\n",
       "<style scoped>\n",
       "    .dataframe tbody tr th:only-of-type {\n",
       "        vertical-align: middle;\n",
       "    }\n",
       "\n",
       "    .dataframe tbody tr th {\n",
       "        vertical-align: top;\n",
       "    }\n",
       "\n",
       "    .dataframe thead th {\n",
       "        text-align: right;\n",
       "    }\n",
       "</style>\n",
       "<table border=\"1\" class=\"dataframe\">\n",
       "  <thead>\n",
       "    <tr style=\"text-align: right;\">\n",
       "      <th></th>\n",
       "      <th>001.TMD</th>\n",
       "      <th>006.CM</th>\n",
       "      <th>012.BM</th>\n",
       "      <th>016.CM</th>\n",
       "      <th>017.TMD</th>\n",
       "      <th>...</th>\n",
       "      <th>174.CM</th>\n",
       "      <th>011.TMR</th>\n",
       "      <th>043.TMS</th>\n",
       "      <th>078.CM</th>\n",
       "      <th>261.CM</th>\n",
       "    </tr>\n",
       "  </thead>\n",
       "  <tbody>\n",
       "    <tr>\n",
       "      <th>7105.0</th>\n",
       "      <td>1.732667</td>\n",
       "      <td>0.844989</td>\n",
       "      <td>0.100087</td>\n",
       "      <td>3.226129</td>\n",
       "      <td>3.224450</td>\n",
       "      <td>...</td>\n",
       "      <td>0.582407</td>\n",
       "      <td>3.286585</td>\n",
       "      <td>2.957586</td>\n",
       "      <td>-1.191528</td>\n",
       "      <td>2.771096</td>\n",
       "    </tr>\n",
       "    <tr>\n",
       "      <th>8813.0</th>\n",
       "      <td>-1.191528</td>\n",
       "      <td>2.553725</td>\n",
       "      <td>4.107589</td>\n",
       "      <td>-1.191528</td>\n",
       "      <td>4.725282</td>\n",
       "      <td>...</td>\n",
       "      <td>2.707083</td>\n",
       "      <td>1.283931</td>\n",
       "      <td>-1.191528</td>\n",
       "      <td>5.473760</td>\n",
       "      <td>3.667167</td>\n",
       "    </tr>\n",
       "  </tbody>\n",
       "</table>\n",
       "<p>2 rows × 49 columns</p>\n",
       "</div>"
      ],
      "text/plain": [
       "         001.TMD    006.CM    012.BM    016.CM   017.TMD  ...    174.CM  \\\n",
       "7105.0  1.732667  0.844989  0.100087  3.226129  3.224450  ...  0.582407   \n",
       "8813.0 -1.191528  2.553725  4.107589 -1.191528  4.725282  ...  2.707083   \n",
       "\n",
       "         011.TMR   043.TMS    078.CM    261.CM  \n",
       "7105.0  3.286585  2.957586 -1.191528  2.771096  \n",
       "8813.0  1.283931 -1.191528  5.473760  3.667167  \n",
       "\n",
       "[2 rows x 49 columns]"
      ]
     },
     "execution_count": 23,
     "metadata": {},
     "output_type": "execute_result"
    }
   ],
   "source": [
    "rna_tmm_counts_entrez = copy(rna_tmm_counts)\n",
    "rna_tmm_counts_entrez.index = rna_tmm_counts.index.map(ensembl_to_entrez['NCBI Gene ID'])\n",
    "rna_tmm_counts_entrez.head(2)"
   ]
  },
  {
   "cell_type": "markdown",
   "metadata": {},
   "source": [
    "Unfortunately almost 30% genes have no mapping:"
   ]
  },
  {
   "cell_type": "code",
   "execution_count": 24,
   "metadata": {},
   "outputs": [
    {
     "data": {
      "text/plain": [
       "0.28585138469975324"
      ]
     },
     "execution_count": 24,
     "metadata": {},
     "output_type": "execute_result"
    }
   ],
   "source": [
    "sum(rna_tmm_counts_entrez.index.isnull()) / len(rna_tmm_counts_entrez)"
   ]
  },
  {
   "cell_type": "markdown",
   "metadata": {},
   "source": [
    "NB: this likely affects our MsigDB-based pathways analyses"
   ]
  },
  {
   "cell_type": "code",
   "execution_count": 25,
   "metadata": {},
   "outputs": [],
   "source": [
    "from helpers.venn import venn2"
   ]
  },
  {
   "cell_type": "markdown",
   "metadata": {},
   "source": [
    "Despite that we get over 90% of overlap:"
   ]
  },
  {
   "cell_type": "code",
   "execution_count": 26,
   "metadata": {},
   "outputs": [
    {
     "data": {
      "image/png": "[encoded data removed]",
      "text/plain": [
       "<Figure size 864x672 with 1 Axes>"
      ]
     },
     "metadata": {
      "needs_background": "light"
     },
     "output_type": "display_data"
    }
   ],
   "source": [
    "venn2(dict(RNA=rna_tmm_counts_entrez.index, Protein=protein_tmm_counts_gene_level.index));"
   ]
  },
  {
   "cell_type": "markdown",
   "metadata": {},
   "source": [
    "### Using gene symbols:"
   ]
  },
  {
   "cell_type": "code",
   "execution_count": 27,
   "metadata": {},
   "outputs": [
    {
     "data": {
      "text/html": [
       "<div>\n",
       "<style scoped>\n",
       "    .dataframe tbody tr th:only-of-type {\n",
       "        vertical-align: middle;\n",
       "    }\n",
       "\n",
       "    .dataframe tbody tr th {\n",
       "        vertical-align: top;\n",
       "    }\n",
       "\n",
       "    .dataframe thead th {\n",
       "        text-align: right;\n",
       "    }\n",
       "</style>\n",
       "<table border=\"1\" class=\"dataframe\">\n",
       "  <thead>\n",
       "    <tr style=\"text-align: right;\">\n",
       "      <th></th>\n",
       "      <th>149.TMD</th>\n",
       "      <th>007.TMD</th>\n",
       "      <th>001.TMD</th>\n",
       "      <th>064.TMD</th>\n",
       "      <th>151.TMD</th>\n",
       "      <th>...</th>\n",
       "      <th>177.HC</th>\n",
       "      <th>189.HC</th>\n",
       "      <th>217.HC</th>\n",
       "      <th>221.HC</th>\n",
       "      <th>245.HC</th>\n",
       "    </tr>\n",
       "  </thead>\n",
       "  <tbody>\n",
       "    <tr>\n",
       "      <th>CHIP</th>\n",
       "      <td>2.554523</td>\n",
       "      <td>2.978964</td>\n",
       "      <td>1.698778</td>\n",
       "      <td>2.111255</td>\n",
       "      <td>1.934072</td>\n",
       "      <td>...</td>\n",
       "      <td>1.051758</td>\n",
       "      <td>1.301672</td>\n",
       "      <td>1.172738</td>\n",
       "      <td>1.378325</td>\n",
       "      <td>1.105333</td>\n",
       "    </tr>\n",
       "    <tr>\n",
       "      <th>CEBPB</th>\n",
       "      <td>0.902148</td>\n",
       "      <td>2.116709</td>\n",
       "      <td>1.065659</td>\n",
       "      <td>1.799091</td>\n",
       "      <td>1.084118</td>\n",
       "      <td>...</td>\n",
       "      <td>0.789761</td>\n",
       "      <td>1.079053</td>\n",
       "      <td>0.844422</td>\n",
       "      <td>0.880240</td>\n",
       "      <td>0.580928</td>\n",
       "    </tr>\n",
       "  </tbody>\n",
       "</table>\n",
       "<p>2 rows × 82 columns</p>\n",
       "</div>"
      ],
      "text/plain": [
       "        149.TMD   007.TMD   001.TMD   064.TMD   151.TMD  ...    177.HC  \\\n",
       "CHIP   2.554523  2.978964  1.698778  2.111255  1.934072  ...  1.051758   \n",
       "CEBPB  0.902148  2.116709  1.065659  1.799091  1.084118  ...  0.789761   \n",
       "\n",
       "         189.HC    217.HC    221.HC    245.HC  \n",
       "CHIP   1.301672  1.172738  1.378325  1.105333  \n",
       "CEBPB  1.079053  0.844422  0.880240  0.580928  \n",
       "\n",
       "[2 rows x 82 columns]"
      ]
     },
     "execution_count": 27,
     "metadata": {},
     "output_type": "execute_result"
    }
   ],
   "source": [
    "protein_tmm_counts.head(2)"
   ]
  },
  {
   "cell_type": "code",
   "execution_count": 28,
   "metadata": {},
   "outputs": [],
   "source": [
    "from helpers.ensembl import Ensembl\n",
    "\n",
    "ensembl = Ensembl(95)"
   ]
  },
  {
   "cell_type": "code",
   "execution_count": 29,
   "metadata": {},
   "outputs": [
    {
     "data": {
      "text/html": [
       "<div>\n",
       "<style scoped>\n",
       "    .dataframe tbody tr th:only-of-type {\n",
       "        vertical-align: middle;\n",
       "    }\n",
       "\n",
       "    .dataframe tbody tr th {\n",
       "        vertical-align: top;\n",
       "    }\n",
       "\n",
       "    .dataframe thead th {\n",
       "        text-align: right;\n",
       "    }\n",
       "</style>\n",
       "<table border=\"1\" class=\"dataframe\">\n",
       "  <thead>\n",
       "    <tr style=\"text-align: right;\">\n",
       "      <th></th>\n",
       "      <th>gene_name</th>\n",
       "    </tr>\n",
       "  </thead>\n",
       "  <tbody>\n",
       "    <tr>\n",
       "      <th>ENSG00000000003</th>\n",
       "      <td>TSPAN6</td>\n",
       "    </tr>\n",
       "    <tr>\n",
       "      <th>ENSG00000000419</th>\n",
       "      <td>DPM1</td>\n",
       "    </tr>\n",
       "  </tbody>\n",
       "</table>\n",
       "</div>"
      ],
      "text/plain": [
       "                gene_name\n",
       "ENSG00000000003    TSPAN6\n",
       "ENSG00000000419      DPM1"
      ]
     },
     "execution_count": 29,
     "metadata": {},
     "output_type": "execute_result"
    }
   ],
   "source": [
    "ensembl_to_gene_name = ensembl.merge_gene_data(rna_tmm_counts)[['gene_name']]\n",
    "ensembl_to_gene_name.head(2)"
   ]
  },
  {
   "cell_type": "markdown",
   "metadata": {},
   "source": [
    "All identifiers in the RNA-Seq matrix got mapped:"
   ]
  },
  {
   "cell_type": "code",
   "execution_count": 30,
   "metadata": {},
   "outputs": [],
   "source": [
    "assert set() == (set(ensembl_to_gene_name.index) - set(rna_tmm_counts.index))"
   ]
  },
  {
   "cell_type": "markdown",
   "metadata": {},
   "source": [
    "And none of the mapped values is null:"
   ]
  },
  {
   "cell_type": "code",
   "execution_count": 31,
   "metadata": {},
   "outputs": [],
   "source": [
    "assert not any(ensembl_to_gene_name['gene_name'].isnull())"
   ]
  },
  {
   "cell_type": "code",
   "execution_count": 32,
   "metadata": {},
   "outputs": [],
   "source": [
    "rna_tmm_counts_names = copy(rna_tmm_counts)\n",
    "rna_tmm_counts_names.index = rna_tmm_counts_names.index.map(lambda x: ensembl_to_gene_name['gene_name'].get(x, x))"
   ]
  },
  {
   "cell_type": "markdown",
   "metadata": {},
   "source": [
    "#### Naive approach: using protein names"
   ]
  },
  {
   "cell_type": "code",
   "execution_count": 33,
   "metadata": {},
   "outputs": [
    {
     "data": {
      "image/png": "[encoded data removed]",
      "text/plain": [
       "<Figure size 864x672 with 1 Axes>"
      ]
     },
     "metadata": {
      "needs_background": "light"
     },
     "output_type": "display_data"
    }
   ],
   "source": [
    "venn2(dict(RNA=rna_tmm_counts_names.index, Protein=protein_tmm_counts.index));"
   ]
  },
  {
   "cell_type": "markdown",
   "metadata": {},
   "source": [
    "This is because on one side there are Ensembl provided HUGO-based names **gene** and on the other there are **protein** names, which do not have to be the same."
   ]
  },
  {
   "cell_type": "markdown",
   "metadata": {},
   "source": [
    "#### A better way: using entrez gene symbols mapping"
   ]
  },
  {
   "cell_type": "code",
   "execution_count": 34,
   "metadata": {},
   "outputs": [],
   "source": [
    "id_to_symbol = read_table('data/hgnc/entrez_to_gene_symbol.tsv', index_col=0)['Approved symbol']"
   ]
  },
  {
   "cell_type": "code",
   "execution_count": 35,
   "metadata": {},
   "outputs": [
    {
     "data": {
      "text/plain": [
       "0.00980392156862745"
      ]
     },
     "execution_count": 35,
     "metadata": {},
     "output_type": "execute_result"
    }
   ],
   "source": [
    "gene_symbols = Series(protein_tmm_counts_gene_level.index).apply(lambda x: id_to_symbol.get(x, nan))\n",
    "sum(gene_symbols.isnull()) / len(gene_symbols)"
   ]
  },
  {
   "cell_type": "markdown",
   "metadata": {},
   "source": [
    "Finally, keep the old identifier rather than setting nan if no mapping found:"
   ]
  },
  {
   "cell_type": "code",
   "execution_count": 36,
   "metadata": {},
   "outputs": [],
   "source": [
    "gene_symbols = Series(protein_tmm_counts_gene_level.index).apply(lambda x: id_to_symbol.get(x, x))"
   ]
  },
  {
   "cell_type": "code",
   "execution_count": 37,
   "metadata": {},
   "outputs": [],
   "source": [
    "assert not gene_symbols.isnull().any()"
   ]
  },
  {
   "cell_type": "code",
   "execution_count": 38,
   "metadata": {},
   "outputs": [
    {
     "data": {
      "text/html": [
       "<div>\n",
       "<style scoped>\n",
       "    .dataframe tbody tr th:only-of-type {\n",
       "        vertical-align: middle;\n",
       "    }\n",
       "\n",
       "    .dataframe tbody tr th {\n",
       "        vertical-align: top;\n",
       "    }\n",
       "\n",
       "    .dataframe thead th {\n",
       "        text-align: right;\n",
       "    }\n",
       "</style>\n",
       "<table border=\"1\" class=\"dataframe\">\n",
       "  <thead>\n",
       "    <tr style=\"text-align: right;\">\n",
       "      <th></th>\n",
       "      <th>149.TMD</th>\n",
       "      <th>007.TMD</th>\n",
       "      <th>001.TMD</th>\n",
       "      <th>064.TMD</th>\n",
       "      <th>151.TMD</th>\n",
       "      <th>...</th>\n",
       "      <th>177.HC</th>\n",
       "      <th>189.HC</th>\n",
       "      <th>217.HC</th>\n",
       "      <th>221.HC</th>\n",
       "      <th>245.HC</th>\n",
       "    </tr>\n",
       "  </thead>\n",
       "  <tbody>\n",
       "    <tr>\n",
       "      <th>STUB1</th>\n",
       "      <td>2.582776</td>\n",
       "      <td>2.984110</td>\n",
       "      <td>1.715378</td>\n",
       "      <td>2.136657</td>\n",
       "      <td>1.956247</td>\n",
       "      <td>...</td>\n",
       "      <td>1.035894</td>\n",
       "      <td>1.322431</td>\n",
       "      <td>1.144645</td>\n",
       "      <td>1.334694</td>\n",
       "      <td>1.113940</td>\n",
       "    </tr>\n",
       "    <tr>\n",
       "      <th>CEBPB</th>\n",
       "      <td>0.929932</td>\n",
       "      <td>2.121968</td>\n",
       "      <td>1.082243</td>\n",
       "      <td>1.824437</td>\n",
       "      <td>1.106152</td>\n",
       "      <td>...</td>\n",
       "      <td>0.774224</td>\n",
       "      <td>1.099776</td>\n",
       "      <td>0.816865</td>\n",
       "      <td>0.837622</td>\n",
       "      <td>0.589689</td>\n",
       "    </tr>\n",
       "  </tbody>\n",
       "</table>\n",
       "<p>2 rows × 82 columns</p>\n",
       "</div>"
      ],
      "text/plain": [
       "        149.TMD   007.TMD   001.TMD   064.TMD   151.TMD  ...    177.HC  \\\n",
       "STUB1  2.582776  2.984110  1.715378  2.136657  1.956247  ...  1.035894   \n",
       "CEBPB  0.929932  2.121968  1.082243  1.824437  1.106152  ...  0.774224   \n",
       "\n",
       "         189.HC    217.HC    221.HC    245.HC  \n",
       "STUB1  1.322431  1.144645  1.334694  1.113940  \n",
       "CEBPB  1.099776  0.816865  0.837622  0.589689  \n",
       "\n",
       "[2 rows x 82 columns]"
      ]
     },
     "execution_count": 38,
     "metadata": {},
     "output_type": "execute_result"
    }
   ],
   "source": [
    "# TODO isnull can be removed\n",
    "protein_tmm_counts_names = protein_tmm_counts_gene_level.loc[list(~gene_symbols.isnull())]\n",
    "protein_tmm_counts_names.index = list(gene_symbols[~gene_symbols.isnull()])\n",
    "protein_tmm_counts_names.head(2)"
   ]
  },
  {
   "cell_type": "code",
   "execution_count": 39,
   "metadata": {},
   "outputs": [
    {
     "data": {
      "image/png": "[encoded data removed]",
      "text/plain": [
       "<Figure size 864x672 with 1 Axes>"
      ]
     },
     "metadata": {
      "needs_background": "light"
     },
     "output_type": "display_data"
    }
   ],
   "source": [
    "venn2(dict(RNA=rna_tmm_counts_names.index, Protein=protein_tmm_counts_names.index));"
   ]
  },
  {
   "cell_type": "markdown",
   "metadata": {},
   "source": [
    "So I will use this one (there might be minor isofrorm level generalizations but it's also easier to interpret):"
   ]
  },
  {
   "cell_type": "code",
   "execution_count": 40,
   "metadata": {},
   "outputs": [],
   "source": [
    "rna = rna_tmm_counts_names\n",
    "protein = protein_tmm_counts_names"
   ]
  },
  {
   "cell_type": "code",
   "execution_count": 41,
   "metadata": {},
   "outputs": [],
   "source": [
    "assert not any(rna.index.isnull())\n",
    "assert not any(protein.index.isnull())"
   ]
  },
  {
   "cell_type": "markdown",
   "metadata": {},
   "source": [
    "#### Same for RLE"
   ]
  },
  {
   "cell_type": "code",
   "execution_count": 42,
   "metadata": {},
   "outputs": [],
   "source": [
    "rna_rle_counts_names = copy(rna_rle_counts)\n",
    "rna_rle_counts_names.index = rna_rle_counts_names.index.map(ensembl_to_gene_name['gene_name'])\n",
    "\n",
    "protein_rle_counts_names = protein_rle_counts_gene_level.loc[list(~gene_symbols.isnull())]\n",
    "protein_rle_counts_names.index = list(gene_symbols[~gene_symbols.isnull()])"
   ]
  },
  {
   "cell_type": "markdown",
   "metadata": {},
   "source": [
    "## Subsetting datasets"
   ]
  },
  {
   "cell_type": "code",
   "execution_count": 43,
   "metadata": {},
   "outputs": [],
   "source": [
    "patients_with_both = Series(rna.columns & protein.columns)\n",
    "genes_in_both = Series(rna.index & protein.index)"
   ]
  },
  {
   "cell_type": "code",
   "execution_count": 44,
   "metadata": {},
   "outputs": [],
   "source": [
    "rna_shared = rna.loc[genes_in_both, patients_with_both]\n",
    "protein_shared = protein.loc[genes_in_both, patients_with_both]"
   ]
  },
  {
   "cell_type": "code",
   "execution_count": 45,
   "metadata": {},
   "outputs": [],
   "source": [
    "save_outputs(globals())"
   ]
  }
 ],
 "metadata": {
  "kernelspec": {
   "display_name": "Python 3",
   "language": "python",
   "name": "python3"
  },
  "language_info": {
   "codemirror_mode": {
    "name": "ipython",
    "version": 3
   },
   "file_extension": ".py",
   "mimetype": "text/x-python",
   "name": "python",
   "nbconvert_exporter": "python",
   "pygments_lexer": "ipython3",
   "version": "3.7.6"
  },
  "widgets": {
   "application/vnd.jupyter.widget-state+json": {
    "state": {},
    "version_major": 2,
    "version_minor": 0
   }
  }
 },
 "nbformat": 4,
 "nbformat_minor": 4
}
