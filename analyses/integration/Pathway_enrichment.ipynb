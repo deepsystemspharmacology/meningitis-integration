{
 "cells": [
  {
   "cell_type": "code",
   "execution_count": 4,
   "metadata": {},
   "outputs": [],
   "source": [
    "from helpers.gse import collection_to_R, nice_kegg, formatter_to_fix_letter_case\n",
    "from gsea_api.molecular_signatures_db import MolecularSignaturesDatabase, GeneMatrixTransposed"
   ]
  },
  {
   "cell_type": "markdown",
   "metadata": {},
   "source": [
    "Pathway enrichment analyses of results for specific analysis methods are presented in respective notebooks.\n",
    "\n",
    "This notebook presents the methods an data sources for such analyses:"
   ]
  },
  {
   "cell_type": "code",
   "execution_count": 5,
   "metadata": {},
   "outputs": [],
   "source": [
    "from jupyter_helpers.selective_import import notebooks_importer\n",
    "\n",
    "from analyses.integration.Uniform_preprocessing import raw_protein_matrix, raw_rna_matrix"
   ]
  },
  {
   "cell_type": "code",
   "execution_count": 6,
   "metadata": {},
   "outputs": [
    {
     "name": "stdout",
     "output_type": "stream",
     "text": [
      "hallmarks 50\n",
      "hallmarks_for_rna 50\n",
      "hallmarks_for_protein 49\n",
      "reactome 1401\n",
      "reactome_for_rna 1401\n",
      "reactome_for_protein 570\n"
     ]
    }
   ],
   "source": [
    "db = MolecularSignaturesDatabase('data/msigdb', version='7.0')\n",
    "reactome_new_symbol = GeneMatrixTransposed.from_gmt('ReactomePathways.gmt', name='reactome_new_symbol')\n",
    "kegg_pathways_symbol = db.load(gene_sets='c2.cp.kegg', id_type='symbols').format_names(nice_kegg)\n",
    "reactome_pathways_symbol = db.load(gene_sets='c2.cp.reactome', id_type='symbols').format_names(\n",
    "    formatter_to_fix_letter_case(reactome_new_symbol)\n",
    ")\n",
    "gene_ontology_symbol = db.load(gene_sets='c5.all', id_type='symbols')\n",
    "immune_signature_symbol = db.load(gene_sets='c7.all', id_type='symbols')\n",
    "hallmarks_symbol = db.load(gene_sets='h.all', id_type='symbols').format_names(\n",
    "    lambda x: x.replace('HALLMARK_', '').replace('_', ' ')\n",
    ")\n",
    "\n",
    "symbols = {*raw_rna_matrix.index, *raw_protein_matrix.index}\n",
    "\n",
    "collections = {\n",
    "    'hallmarks': [hallmarks_symbol, symbols],\n",
    "    'hallmarks_for_rna': [hallmarks_symbol, set(raw_rna_matrix.index)],\n",
    "    'hallmarks_for_protein': [hallmarks_symbol, set(raw_protein_matrix.index)],\n",
    "\n",
    "    'reactome': [reactome_pathways_symbol, symbols],\n",
    "    'reactome_for_rna': [reactome_pathways_symbol, set(raw_rna_matrix.index)],\n",
    "    'reactome_for_protein': [reactome_pathways_symbol, set(raw_protein_matrix.index)]\n",
    "}\n",
    "\n",
    "\n",
    "def export_collections_to_r(collections):\n",
    "    for name, (collection, genes) in collections.items():\n",
    "        after_trimming = collection_to_R(collection, trim_to=genes, name=name)\n",
    "        print(name, len(after_trimming))\n",
    "\n",
    "\n",
    "export_collections_to_r(collections)"
   ]
  }
 ],
 "metadata": {
  "kernelspec": {
   "display_name": "Python 3",
   "language": "python",
   "name": "python3"
  },
  "language_info": {
   "codemirror_mode": {
    "name": "ipython",
    "version": 3
   },
   "file_extension": ".py",
   "mimetype": "text/x-python",
   "name": "python",
   "nbconvert_exporter": "python",
   "pygments_lexer": "ipython3",
   "version": "3.7.2"
  },
  "widgets": {
   "application/vnd.jupyter.widget-state+json": {
    "state": {},
    "version_major": 2,
    "version_minor": 0
   }
  }
 },
 "nbformat": 4,
 "nbformat_minor": 4
}
