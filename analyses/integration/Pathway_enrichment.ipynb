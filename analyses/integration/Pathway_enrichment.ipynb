{
 "cells": [
  {
   "cell_type": "code",
   "execution_count": 1,
   "metadata": {},
   "outputs": [],
   "source": [
    "import helpers.utilities\n",
    "%run helpers/notebook_setup.ipynb"
   ]
  },
  {
   "cell_type": "code",
   "execution_count": 2,
   "metadata": {},
   "outputs": [],
   "source": [
    "from helpers.gse import collection_to_R, nice_kegg, formatter_to_fix_letter_case\n",
    "from gsea_api.molecular_signatures_db import MolecularSignaturesDatabase, GeneMatrixTransposed"
   ]
  },
  {
   "cell_type": "markdown",
   "metadata": {},
   "source": [
    "Pathway enrichment analyses of results for specific analysis methods are presented in respective notebooks.\n",
    "\n",
    "This notebook presents the methods and data sources for these analyses:"
   ]
  },
  {
   "cell_type": "code",
   "execution_count": 3,
   "metadata": {},
   "outputs": [
    {
     "name": "stdout",
     "output_type": "stream",
     "text": [
      "Importing Jupyter notebook from /home/krassowski/meningitis-integration/analyses/integration/Uniform_preprocessing.ipynb\n"
     ]
    }
   ],
   "source": [
    "from jupyter_helpers.selective_import import notebooks_importer\n",
    "\n",
    "from analyses.integration.Uniform_preprocessing import raw_protein_matrix, raw_rna_matrix"
   ]
  },
  {
   "cell_type": "code",
   "execution_count": 4,
   "metadata": {},
   "outputs": [
    {
     "name": "stderr",
     "output_type": "stream",
     "text": [
      "/home/krassowski/.pyenv/versions/3.7.6/envs/meningitis/lib/python3.7/site-packages/gsea_api/molecular_signatures_db.py:65: UserWarning: Provided gene sets are not redundant; there are 117 gene sets having more than one name assigned; use `find_redundant()` to investigate further.\n",
      "  warn(message)\n",
      "/home/krassowski/.pyenv/versions/3.7.6/envs/meningitis/lib/python3.7/site-packages/gsea_api/molecular_signatures_db.py:65: UserWarning: Provided gene sets are not redundant; there are 40 gene sets having more than one name assigned; use `find_redundant()` to investigate further.\n",
      "  warn(message)\n"
     ]
    },
    {
     "name": "stdout",
     "output_type": "stream",
     "text": [
      "hallmarks 50\n",
      "hallmarks_for_rna 50\n",
      "hallmarks_for_protein 49\n",
      "reactome 1431\n",
      "reactome_for_rna 1430\n"
     ]
    },
    {
     "name": "stderr",
     "output_type": "stream",
     "text": [
      "/home/krassowski/.pyenv/versions/3.7.6/envs/meningitis/lib/python3.7/site-packages/gsea_api/molecular_signatures_db.py:65: UserWarning: Provided gene sets are not redundant; following gene sets are identical: 'Telomere Maintenance' and 'Extension of Telomeres' (44 genes)\n",
      "  warn(message)\n"
     ]
    },
    {
     "name": "stdout",
     "output_type": "stream",
     "text": [
      "reactome_for_protein 581\n"
     ]
    },
    {
     "name": "stderr",
     "output_type": "stream",
     "text": [
      "/home/krassowski/.pyenv/versions/3.7.6/envs/meningitis/lib/python3.7/site-packages/gsea_api/molecular_signatures_db.py:65: UserWarning: Provided gene sets are not redundant; there are 104 gene sets having more than one name assigned; use `find_redundant()` to investigate further.\n",
      "  warn(message)\n",
      "/home/krassowski/.pyenv/versions/3.7.6/envs/meningitis/lib/python3.7/site-packages/gsea_api/molecular_signatures_db.py:75: UserWarning: There are 281 empty gene sets: use `empty_gene_sets` property to investigate further.\n",
      "  warn(f'There are {len(empty_gene_sets)} empty gene sets: {empty_message}')\n",
      "/home/krassowski/.pyenv/versions/3.7.6/envs/meningitis/lib/python3.7/site-packages/gsea_api/molecular_signatures_db.py:79: UserWarning: 281 empty gene sets were removed.\n",
      "  warn(f'{len(empty_gene_sets)} empty gene sets were removed.')\n"
     ]
    }
   ],
   "source": [
    "db = MolecularSignaturesDatabase('data/msigdb', version='7.1')\n",
    "reactome_new_symbol = GeneMatrixTransposed.from_gmt('data/ReactomePathways.gmt', name='reactome_new_symbol')\n",
    "kegg_pathways_symbol = db.load(gene_sets='c2.cp.kegg', id_type='symbols').format_names(nice_kegg)\n",
    "reactome_pathways_symbol = db.load(gene_sets='c2.cp.reactome', id_type='symbols').format_names(\n",
    "    formatter_to_fix_letter_case(reactome_new_symbol)\n",
    ")\n",
    "gene_ontology_symbol = db.load(gene_sets='c5.all', id_type='symbols')\n",
    "immune_signature_symbol = db.load(gene_sets='c7.all', id_type='symbols')\n",
    "hallmarks_symbol = db.load(gene_sets='h.all', id_type='symbols').format_names(\n",
    "    lambda x: x.replace('HALLMARK_', '').replace('_', ' ')\n",
    ")\n",
    "\n",
    "symbols = {*raw_rna_matrix.index, *raw_protein_matrix.index}\n",
    "\n",
    "collections = {\n",
    "    'hallmarks': [hallmarks_symbol, symbols],\n",
    "    'hallmarks_for_rna': [hallmarks_symbol, set(raw_rna_matrix.index)],\n",
    "    'hallmarks_for_protein': [hallmarks_symbol, set(raw_protein_matrix.index)],\n",
    "\n",
    "    'reactome': [reactome_pathways_symbol, symbols],\n",
    "    'reactome_for_rna': [reactome_pathways_symbol, set(raw_rna_matrix.index)],\n",
    "    'reactome_for_protein': [reactome_pathways_symbol, set(raw_protein_matrix.index)]\n",
    "}\n",
    "\n",
    "\n",
    "def export_collections_to_r(collections):\n",
    "    for name, (collection, genes) in collections.items():\n",
    "        after_trimming = collection_to_R(collection, trim_to=genes, name=name)\n",
    "        print(name, len(after_trimming))\n",
    "\n",
    "\n",
    "export_collections_to_r(collections)"
   ]
  }
 ],
 "metadata": {
  "kernelspec": {
   "display_name": "Python 3",
   "language": "python",
   "name": "python3"
  },
  "language_info": {
   "codemirror_mode": {
    "name": "ipython",
    "version": 3
   },
   "file_extension": ".py",
   "mimetype": "text/x-python",
   "name": "python",
   "nbconvert_exporter": "python",
   "pygments_lexer": "ipython3",
   "version": "3.7.6"
  },
  "widgets": {
   "application/vnd.jupyter.widget-state+json": {
    "state": {},
    "version_major": 2,
    "version_minor": 0
   }
  }
 },
 "nbformat": 4,
 "nbformat_minor": 4
}
