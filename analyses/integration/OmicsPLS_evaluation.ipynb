{
 "cells": [
  {
   "cell_type": "code",
   "execution_count": 2,
   "metadata": {},
   "outputs": [],
   "source": [
    "from helpers.utilities import *\n",
    "%run helpers/notebook_setup.ipynb"
   ]
  },
  {
   "cell_type": "code",
   "execution_count": 3,
   "metadata": {},
   "outputs": [],
   "source": [
    "%R source('plots/colors.R');"
   ]
  },
  {
   "cell_type": "markdown",
   "metadata": {},
   "source": [
    "### OmicsPLS"
   ]
  },
  {
   "cell_type": "markdown",
   "metadata": {},
   "source": [
    "OmicsPLS is currently the only open-source implementation of O2-PLS I am aware of. It is an R package published on CRAN with an accompanying publication in a peer-reviewed journal. It is actively maintained and utilizes latest development standards. However, because it was not used routinely by other researchers (a few citations so far), it was reasonable to perform an attempt to estimate how does the results produced by the package compare to the results reported in the original publication."
   ]
  },
  {
   "cell_type": "code",
   "execution_count": 4,
   "metadata": {},
   "outputs": [
    {
     "name": "stdout",
     "output_type": "stream",
     "text": [
      "\n",
      "Attaching package: ‘OmicsPLS’\n",
      "\n",
      "The following object is masked from ‘package:stats’:\n",
      "\n",
      "    loadings\n",
      "\n"
     ]
    }
   ],
   "source": [
    "%%R\n",
    "library(OmicsPLS)\n",
    "source('thirdparty/OmicsPLS_overrides.R');"
   ]
  },
  {
   "cell_type": "markdown",
   "metadata": {},
   "source": [
    "Important functions in OmicsPLS package:\n",
    " - o2m_stripped - minimal opls for CV\n",
    " - o2m - for analysis\n",
    " - crossval_o2m - minimizes the sum of the prediction errors of X and Y\n",
    " - crossval_o2m_adjR2 - alternative, proposed by authors, objective: maximize R^2 between T and U.\n",
    " \n",
    "NIPALS is referred to as \"alternative\" or \"power\" method; to use it one should set p_thresh=1 (so that it is lower than number of features in X) or do an analogous thing with q_thresh. I would prefer to use NIPALS as it is much faster implementation (~7min vs 1s fro CV), however SVD seems to provide more stable results (demonstrated later)."
   ]
  },
  {
   "cell_type": "code",
   "execution_count": 5,
   "metadata": {},
   "outputs": [],
   "source": [
    "from sklearn.pipeline import make_pipeline\n",
    "from sklearn.preprocessing import RobustScaler\n",
    "from sklearn.preprocessing import StandardScaler\n",
    "from sklearn.metrics.scorer import make_scorer\n",
    "\n",
    "from sklearn.model_selection import GridSearchCV\n",
    "from sklearn.model_selection import train_test_split, cross_validate\n",
    "from sklearn.model_selection import GroupKFold, RepeatedKFold, KFold\n",
    "from pyChemometrics import ChemometricsScaler\n",
    "\n",
    "from helpers.pls import custom_scorer, format_grid_results\n",
    "from helpers.o2pls import O2PLS, O2PLSStatistic, r2\n",
    "from helpers.o2pls import add_grid_metadata, summary_table_for"
   ]
  },
  {
   "cell_type": "markdown",
   "metadata": {},
   "source": [
    "Note: different rules for CV are used in SIMCA, as explained in \"Multi- and Megavariate Data Analysis\" Appendix II: Statistics, page 462 (Third revised edition). For predictive components threshold of Q2 > 0.01 is required (among other rules), for orthogonal components PCA rules apply."
   ]
  },
  {
   "cell_type": "markdown",
   "metadata": {},
   "source": [
    "A set of statistics will be computed during cross validation for every model:"
   ]
  },
  {
   "cell_type": "code",
   "execution_count": 6,
   "metadata": {},
   "outputs": [],
   "source": [
    "cv_scoring = {\n",
    "    name: statistic.calc\n",
    "    for name, statistic in O2PLSStatistic.statistics.items()\n",
    "}"
   ]
  },
  {
   "cell_type": "code",
   "execution_count": 7,
   "metadata": {},
   "outputs": [],
   "source": [
    "%%R\n",
    "import::here(\n",
    "    grid_search_plot, grid_orthogonal_components_plot,\n",
    "    .from='plots/omics_o2pls.R'\n",
    ")"
   ]
  },
  {
   "cell_type": "markdown",
   "metadata": {},
   "source": [
    "## Validation of OmicsPLS package implementation and my metrics implementation"
   ]
  },
  {
   "cell_type": "markdown",
   "metadata": {},
   "source": [
    "In order to validate against the (J. Trygg and S Wold, 2003) O2PLS paper, the same cellulose data (collected at Akzo Nobel). The data were retrieved from ropls package, but it is understood that originally come from \"Multivariate calibration using spectral data. Simca tutorial. Umetrics.\""
   ]
  },
  {
   "cell_type": "code",
   "execution_count": 8,
   "metadata": {},
   "outputs": [],
   "source": [
    "%%R -o nirMN -o viscoVn -o classVn\n",
    "library(ropls)\n",
    "data(cellulose)\n",
    "attach(cellulose)\n",
    "names(cellulose)\n",
    "nirMN = as.data.frame(nirMN)"
   ]
  },
  {
   "cell_type": "code",
   "execution_count": 9,
   "metadata": {},
   "outputs": [
    {
     "data": {
      "text/html": [
       "<div>\n",
       "<style scoped>\n",
       "    .dataframe tbody tr th:only-of-type {\n",
       "        vertical-align: middle;\n",
       "    }\n",
       "\n",
       "    .dataframe tbody tr th {\n",
       "        vertical-align: top;\n",
       "    }\n",
       "\n",
       "    .dataframe thead th {\n",
       "        text-align: right;\n",
       "    }\n",
       "</style>\n",
       "<table border=\"1\" class=\"dataframe\">\n",
       "  <thead>\n",
       "    <tr style=\"text-align: right;\">\n",
       "      <th></th>\n",
       "      <th>400</th>\n",
       "      <th>401.75</th>\n",
       "      <th>403.5</th>\n",
       "      <th>405.25</th>\n",
       "      <th>407</th>\n",
       "      <th>...</th>\n",
       "      <th>2493</th>\n",
       "      <th>2494.75</th>\n",
       "      <th>2496.5</th>\n",
       "      <th>2498.25</th>\n",
       "      <th>2500</th>\n",
       "    </tr>\n",
       "  </thead>\n",
       "  <tbody>\n",
       "    <tr>\n",
       "      <th>O1</th>\n",
       "      <td>1.229</td>\n",
       "      <td>1.224</td>\n",
       "      <td>1.219</td>\n",
       "      <td>1.214</td>\n",
       "      <td>1.209</td>\n",
       "      <td>...</td>\n",
       "      <td>0.6109</td>\n",
       "      <td>0.6134</td>\n",
       "      <td>0.6158</td>\n",
       "      <td>0.6183</td>\n",
       "      <td>0.6208</td>\n",
       "    </tr>\n",
       "    <tr>\n",
       "      <th>O2</th>\n",
       "      <td>1.237</td>\n",
       "      <td>1.232</td>\n",
       "      <td>1.226</td>\n",
       "      <td>1.221</td>\n",
       "      <td>1.216</td>\n",
       "      <td>...</td>\n",
       "      <td>0.6228</td>\n",
       "      <td>0.6252</td>\n",
       "      <td>0.6276</td>\n",
       "      <td>0.6300</td>\n",
       "      <td>0.6324</td>\n",
       "    </tr>\n",
       "  </tbody>\n",
       "</table>\n",
       "<p>2 rows × 1201 columns</p>\n",
       "</div>"
      ],
      "text/plain": [
       "      400  401.75  403.5  405.25    407  ...    2493  2494.75  2496.5  \\\n",
       "O1  1.229   1.224  1.219   1.214  1.209  ...  0.6109   0.6134  0.6158   \n",
       "O2  1.237   1.232  1.226   1.221  1.216  ...  0.6228   0.6252  0.6276   \n",
       "\n",
       "    2498.25    2500  \n",
       "O1   0.6183  0.6208  \n",
       "O2   0.6300  0.6324  \n",
       "\n",
       "[2 rows x 1201 columns]"
      ]
     },
     "execution_count": 9,
     "metadata": {},
     "output_type": "execute_result"
    }
   ],
   "source": [
    "nirMN.head(2)"
   ]
  },
  {
   "cell_type": "markdown",
   "metadata": {},
   "source": [
    "The original publication used viscosity (one variable, a vector) as $Y$"
   ]
  },
  {
   "cell_type": "markdown",
   "metadata": {},
   "source": [
    "Calibration set-validation split in paper was 120:61.\n",
    "\n",
    "Note: we got only 180, not 181 observations."
   ]
  },
  {
   "cell_type": "code",
   "execution_count": 10,
   "metadata": {},
   "outputs": [
    {
     "data": {
      "text/plain": [
       "(180, 1201)"
      ]
     },
     "execution_count": 10,
     "metadata": {},
     "output_type": "execute_result"
    }
   ],
   "source": [
    "nirMN.shape"
   ]
  },
  {
   "cell_type": "code",
   "execution_count": 11,
   "metadata": {},
   "outputs": [
    {
     "data": {
      "text/plain": [
       "(180, 1)"
      ]
     },
     "execution_count": 11,
     "metadata": {},
     "output_type": "execute_result"
    }
   ],
   "source": [
    "viscoVn = np.atleast_2d(viscoVn).T\n",
    "viscoVn.shape"
   ]
  },
  {
   "cell_type": "code",
   "execution_count": 12,
   "metadata": {},
   "outputs": [
    {
     "data": {
      "text/plain": [
       "(120, 1201)"
      ]
     },
     "execution_count": 12,
     "metadata": {},
     "output_type": "execute_result"
    }
   ],
   "source": [
    "calibartion_X = nirMN[:120]\n",
    "calibartion_y = viscoVn[:120]\n",
    "calibartion_X.shape"
   ]
  },
  {
   "cell_type": "code",
   "execution_count": 13,
   "metadata": {},
   "outputs": [
    {
     "data": {
      "text/plain": [
       "(60, 1201)"
      ]
     },
     "execution_count": 13,
     "metadata": {},
     "output_type": "execute_result"
    }
   ],
   "source": [
    "validation_X = nirMN[120:]\n",
    "validation_y = viscoVn[120:]\n",
    "validation_X.shape"
   ]
  },
  {
   "cell_type": "markdown",
   "metadata": {},
   "source": [
    "Note: I use validation in two meanings here: the validation subset of the data and the validation of the correctness of the implementations - do not confuse."
   ]
  },
  {
   "cell_type": "markdown",
   "metadata": {},
   "source": [
    "They used 7-fold cross-validation:"
   ]
  },
  {
   "cell_type": "code",
   "execution_count": 14,
   "metadata": {},
   "outputs": [],
   "source": [
    "cellulose_cv_grid_search = partial(\n",
    "    GridSearchCV,\n",
    "    cv=KFold(n_splits=7, random_state=0),\n",
    "    scoring=cv_scoring,\n",
    "    # we could optimise 'average_cv_predictions', but this is like OPLS\n",
    "    # and only model of X is of interest here \n",
    "    refit='cross_validated_predictions_of_Y',\n",
    "    iid=True\n",
    ")"
   ]
  },
  {
   "cell_type": "code",
   "execution_count": 15,
   "metadata": {},
   "outputs": [],
   "source": [
    "tuned_parameters = [{\n",
    "    # remember - the second is non inclusive\n",
    "    'o2pls__joint_components': range(1, 2),\n",
    "    'o2pls__x_ortho_components': range(0, 6),\n",
    "    'o2pls__y_ortho_components': [0]\n",
    "}]"
   ]
  },
  {
   "cell_type": "code",
   "execution_count": 16,
   "metadata": {},
   "outputs": [
    {
     "data": {
      "text/plain": [
       "{'o2pls__joint_components': 1,\n",
       " 'o2pls__x_ortho_components': 2,\n",
       " 'o2pls__y_ortho_components': 0}"
      ]
     },
     "execution_count": 16,
     "metadata": {},
     "output_type": "execute_result"
    }
   ],
   "source": [
    "cv_search_cellulose = cellulose_cv_grid_search(make_pipeline(\n",
    "        O2PLS(algorithm='svd')\n",
    "    ),\n",
    "    param_grid=tuned_parameters\n",
    ")\n",
    "cv_search_cellulose.fit(calibartion_X, calibartion_y)\n",
    "cv_search_cellulose.best_params_"
   ]
  },
  {
   "cell_type": "code",
   "execution_count": 17,
   "metadata": {},
   "outputs": [],
   "source": [
    "grid_results = add_grid_metadata(format_grid_results(cv_search_cellulose))"
   ]
  },
  {
   "cell_type": "code",
   "execution_count": 18,
   "metadata": {},
   "outputs": [
    {
     "data": {
      "image/png": "[encoded data removed]"
     },
     "metadata": {},
     "output_type": "display_data"
    }
   ],
   "source": [
    "%%R -w 600 -h 300 -i grid_results\n",
    "grid_orthogonal_components_plot(grid_results, 'cross_validated_predictions_of_Y', 'Q2 - Cross validated predictions of Y')"
   ]
  },
  {
   "cell_type": "markdown",
   "metadata": {},
   "source": [
    "I explain the high cross-validation values later on in this notebook. This has to do with R2 definition and lack of mean centering."
   ]
  },
  {
   "cell_type": "markdown",
   "metadata": {},
   "source": [
    "Note: OmicsPLS implementation of NIPALS is unstable with respect to sign of predictions. I could not pinpoint the issue. Demo:"
   ]
  },
  {
   "cell_type": "code",
   "execution_count": 19,
   "metadata": {},
   "outputs": [
    {
     "data": {
      "text/plain": [
       "array([[-2159.95293007],\n",
       "       [-2138.08959112],\n",
       "       [-2181.14751769],\n",
       "       [-2174.03557735],\n",
       "       [-2141.6897352 ]])"
      ]
     },
     "execution_count": 19,
     "metadata": {},
     "output_type": "execute_result"
    }
   ],
   "source": [
    "o2_nipals = O2PLS(\n",
    "    joint_components=1, x_ortho_components=4, y_ortho_components=0,\n",
    "    algorithm='nipals'\n",
    ").fit(calibartion_X, calibartion_y)\n",
    "o2_nipals.predict_y(validation_X)[:5]"
   ]
  },
  {
   "cell_type": "markdown",
   "metadata": {},
   "source": [
    "Whereas sought values are positive. It flips only after adding the third orthogonal component."
   ]
  },
  {
   "cell_type": "code",
   "execution_count": 20,
   "metadata": {},
   "outputs": [
    {
     "data": {
      "text/plain": [
       "array([[1631],\n",
       "       [1631],\n",
       "       [1603],\n",
       "       [1603],\n",
       "       [1669]], dtype=int32)"
      ]
     },
     "execution_count": 20,
     "metadata": {},
     "output_type": "execute_result"
    }
   ],
   "source": [
    "validation_y[:5]"
   ]
  },
  {
   "cell_type": "markdown",
   "metadata": {},
   "source": [
    "But those are positively correlated nonetheless:"
   ]
  },
  {
   "cell_type": "code",
   "execution_count": 21,
   "metadata": {},
   "outputs": [
    {
     "data": {
      "text/plain": [
       "SpearmanrResult(correlation=0.5304137623676793, pvalue=1.3063233150079833e-05)"
      ]
     },
     "execution_count": 21,
     "metadata": {},
     "output_type": "execute_result"
    }
   ],
   "source": [
    "from scipy.stats import spearmanr\n",
    "\n",
    "spearmanr(o2_nipals.predict_y(validation_X), validation_y)"
   ]
  },
  {
   "cell_type": "markdown",
   "metadata": {},
   "source": [
    "Though the Q2 values differ greatly:"
   ]
  },
  {
   "cell_type": "code",
   "execution_count": 22,
   "metadata": {},
   "outputs": [
    {
     "data": {
      "text/html": [
       "<div>\n",
       "<style scoped>\n",
       "    .dataframe tbody tr th:only-of-type {\n",
       "        vertical-align: middle;\n",
       "    }\n",
       "\n",
       "    .dataframe tbody tr th {\n",
       "        vertical-align: top;\n",
       "    }\n",
       "\n",
       "    .dataframe thead th {\n",
       "        text-align: right;\n",
       "    }\n",
       "</style>\n",
       "<table border=\"1\" class=\"dataframe\">\n",
       "  <thead>\n",
       "    <tr style=\"text-align: right;\">\n",
       "      <th></th>\n",
       "      <th>$Q^2X_{hat}$</th>\n",
       "      <th>$Q^2Y_{hat}$</th>\n",
       "      <th>$\\frac{Q^2X_{hat} + Q^2Y_{hat}}{2}$</th>\n",
       "    </tr>\n",
       "  </thead>\n",
       "  <tbody>\n",
       "    <tr>\n",
       "      <th>0</th>\n",
       "      <td>-0.000053</td>\n",
       "      <td>-6.346742</td>\n",
       "      <td>-3.173398</td>\n",
       "    </tr>\n",
       "  </tbody>\n",
       "</table>\n",
       "</div>"
      ],
      "text/plain": [
       "   $Q^2X_{hat}$  $Q^2Y_{hat}$  $\\frac{Q^2X_{hat} + Q^2Y_{hat}}{2}$\n",
       "0     -0.000053     -6.346742                            -3.173398"
      ]
     },
     "execution_count": 22,
     "metadata": {},
     "output_type": "execute_result"
    }
   ],
   "source": [
    "o2_nipals.calc_metrics(X=validation_X, Y=validation_y)"
   ]
  },
  {
   "cell_type": "markdown",
   "metadata": {},
   "source": [
    "#### Reproducing figure 12b:"
   ]
  },
  {
   "cell_type": "code",
   "execution_count": 23,
   "metadata": {},
   "outputs": [],
   "source": [
    "def fig_12b(estimator):\n",
    "    return estimator.y_coefficients.melt(\n",
    "        var_name='Wavelength region', value_name='b-O2PLS'\n",
    "    ).convert_objects(convert_numeric=True)"
   ]
  },
  {
   "cell_type": "markdown",
   "metadata": {},
   "source": [
    "The raw (non-centered, non-scaled) data reproduces the figure well enough:"
   ]
  },
  {
   "cell_type": "code",
   "execution_count": 24,
   "metadata": {},
   "outputs": [
    {
     "name": "stdout",
     "output_type": "stream",
     "text": [
      "Error in file(filename, \"r\", encoding = encoding) : \n",
      "  cannot open the connection\n",
      "Calls: <Anonymous> -> <Anonymous> -> withVisible -> source -> file\n",
      "In addition: Warning messages:\n",
      "1: In brewer.pal(2, \"Set3\") :\n",
      "  minimal value for n is 3, returning requested palette with 3 different levels\n",
      "\n",
      "2: In file(filename, \"r\", encoding = encoding) :\n",
      "  cannot open file 'helpers/OmicsPLS_overrides.R': No such file or directory\n",
      "\n",
      "Error in file(filename, \"r\", encoding = encoding) : \n",
      "  cannot open the connection\n",
      "Calls: <Anonymous> -> <Anonymous> -> withVisible -> source -> file\n"
     ]
    }
   ],
   "source": [
    "%R source('helpers/OmicsPLS_overrides.R');\n",
    "o2_nipals = O2PLS(\n",
    "    joint_components=1, x_ortho_components=4, y_ortho_components=0,\n",
    "    algorithm='nipals'\n",
    ").fit(calibartion_X, calibartion_y)\n",
    "\n",
    "coefficent_vectors = fig_12b(o2_nipals)"
   ]
  },
  {
   "cell_type": "code",
   "execution_count": 25,
   "metadata": {},
   "outputs": [
    {
     "data": {
      "image/png": "[encoded data removed]"
     },
     "metadata": {},
     "output_type": "display_data"
    }
   ],
   "source": [
    "%%R -i coefficent_vectors\n",
    "(\n",
    "    ggplot(coefficent_vectors, aes(x=`Wavelength.region`, y=`b.O2PLS`))\n",
    "    + geom_bar(stat='identity')\n",
    "    + nice_theme\n",
    ")"
   ]
  },
  {
   "cell_type": "markdown",
   "metadata": {},
   "source": [
    "This has a lot of similarities to the original plot. However, the orthogonal correction seems to be slightly worse - the noise remains slightly visible. Maybe they used smoothing? Importantly, the water region is not flipped as in Figure 12a."
   ]
  },
  {
   "cell_type": "markdown",
   "metadata": {},
   "source": [
    "However, the metrics indicate very poor fit and predictive abilities:"
   ]
  },
  {
   "cell_type": "markdown",
   "metadata": {},
   "source": [
    "The internal metrics:"
   ]
  },
  {
   "cell_type": "code",
   "execution_count": 26,
   "metadata": {},
   "outputs": [
    {
     "data": {
      "text/html": [
       "<div>\n",
       "<style scoped>\n",
       "    .dataframe tbody tr th:only-of-type {\n",
       "        vertical-align: middle;\n",
       "    }\n",
       "\n",
       "    .dataframe tbody tr th {\n",
       "        vertical-align: top;\n",
       "    }\n",
       "\n",
       "    .dataframe thead th {\n",
       "        text-align: right;\n",
       "    }\n",
       "</style>\n",
       "<table border=\"1\" class=\"dataframe\">\n",
       "  <thead>\n",
       "    <tr style=\"text-align: right;\">\n",
       "      <th></th>\n",
       "      <th>$R^2X$</th>\n",
       "      <th>$R^2Y$</th>\n",
       "      <th>$R^2X_{hat}$</th>\n",
       "      <th>$R^2Y_{hat}$</th>\n",
       "      <th>$R^2X_{YO}$</th>\n",
       "      <th>$R^2Y_{XO}$</th>\n",
       "      <th>$R^2X_{corr}$</th>\n",
       "      <th>$R^2Y_{corr}$</th>\n",
       "    </tr>\n",
       "  </thead>\n",
       "  <tbody>\n",
       "    <tr>\n",
       "      <th>0</th>\n",
       "      <td>-0.000068</td>\n",
       "      <td>-4.313808</td>\n",
       "      <td>-0.000068</td>\n",
       "      <td>-4.313808</td>\n",
       "      <td>0.000344</td>\n",
       "      <td>0.0</td>\n",
       "      <td>0.000026</td>\n",
       "      <td>1.0</td>\n",
       "    </tr>\n",
       "  </tbody>\n",
       "</table>\n",
       "</div>"
      ],
      "text/plain": [
       "     $R^2X$    $R^2Y$  $R^2X_{hat}$  $R^2Y_{hat}$  $R^2X_{YO}$  $R^2Y_{XO}$  \\\n",
       "0 -0.000068 -4.313808 -0.000068     -4.313808      0.000344     0.0           \n",
       "\n",
       "   $R^2X_{corr}$  $R^2Y_{corr}$  \n",
       "0  0.000026       1.0            "
      ]
     },
     "metadata": {},
     "output_type": "display_data"
    }
   ],
   "source": [
    "show_table(o2_nipals.calc_metrics())"
   ]
  },
  {
   "cell_type": "markdown",
   "metadata": {},
   "source": [
    "Validation metrics:"
   ]
  },
  {
   "cell_type": "code",
   "execution_count": 27,
   "metadata": {},
   "outputs": [
    {
     "data": {
      "text/html": [
       "<div>\n",
       "<style scoped>\n",
       "    .dataframe tbody tr th:only-of-type {\n",
       "        vertical-align: middle;\n",
       "    }\n",
       "\n",
       "    .dataframe tbody tr th {\n",
       "        vertical-align: top;\n",
       "    }\n",
       "\n",
       "    .dataframe thead th {\n",
       "        text-align: right;\n",
       "    }\n",
       "</style>\n",
       "<table border=\"1\" class=\"dataframe\">\n",
       "  <thead>\n",
       "    <tr style=\"text-align: right;\">\n",
       "      <th></th>\n",
       "      <th>$Q^2X_{hat}$</th>\n",
       "      <th>$Q^2Y_{hat}$</th>\n",
       "      <th>$\\frac{Q^2X_{hat} + Q^2Y_{hat}}{2}$</th>\n",
       "    </tr>\n",
       "  </thead>\n",
       "  <tbody>\n",
       "    <tr>\n",
       "      <th>0</th>\n",
       "      <td>-0.000053</td>\n",
       "      <td>-6.346742</td>\n",
       "      <td>-3.173398</td>\n",
       "    </tr>\n",
       "  </tbody>\n",
       "</table>\n",
       "</div>"
      ],
      "text/plain": [
       "   $Q^2X_{hat}$  $Q^2Y_{hat}$  $\\frac{Q^2X_{hat} + Q^2Y_{hat}}{2}$\n",
       "0 -0.000053     -6.346742     -3.173398                           "
      ]
     },
     "metadata": {},
     "output_type": "display_data"
    }
   ],
   "source": [
    "show_table(o2_nipals.calc_metrics(X=validation_X, Y=validation_y))"
   ]
  },
  {
   "cell_type": "markdown",
   "metadata": {},
   "source": [
    "Note the very poor prediction of Y - or a very good one but with signs flipped."
   ]
  },
  {
   "cell_type": "markdown",
   "metadata": {},
   "source": [
    "#### Using pareto scaling improves the metrics:"
   ]
  },
  {
   "cell_type": "code",
   "execution_count": 28,
   "metadata": {},
   "outputs": [
    {
     "name": "stdout",
     "output_type": "stream",
     "text": [
      "Error in file(filename, \"r\", encoding = encoding) : \n",
      "  cannot open the connection\n",
      "Calls: <Anonymous> -> <Anonymous> -> withVisible -> source -> file\n",
      "In addition: Warning message:\n",
      "In file(filename, \"r\", encoding = encoding) :\n",
      "  cannot open file 'helpers/OmicsPLS_overrides.R': No such file or directory\n",
      "\n",
      "Error in file(filename, \"r\", encoding = encoding) : \n",
      "  cannot open the connection\n",
      "Calls: <Anonymous> -> <Anonymous> -> withVisible -> source -> file\n"
     ]
    }
   ],
   "source": [
    "%R source('helpers/OmicsPLS_overrides.R');\n",
    "pareto = ChemometricsScaler(scale_power=0.5, with_mean=False)\n",
    "o2_nipals = make_pipeline(\n",
    "    pareto,\n",
    "    O2PLS(\n",
    "        joint_components=1, x_ortho_components=4, y_ortho_components=0,\n",
    "        algorithm='nipals'\n",
    "    )\n",
    ")\n",
    "o2_nipals.fit(calibartion_X, calibartion_y)\n",
    "o2_nipals = o2_nipals._final_estimator\n",
    "coefficent_vectors = fig_12b(o2_nipals)"
   ]
  },
  {
   "cell_type": "code",
   "execution_count": 29,
   "metadata": {},
   "outputs": [
    {
     "data": {
      "text/html": [
       "<div>\n",
       "<style scoped>\n",
       "    .dataframe tbody tr th:only-of-type {\n",
       "        vertical-align: middle;\n",
       "    }\n",
       "\n",
       "    .dataframe tbody tr th {\n",
       "        vertical-align: top;\n",
       "    }\n",
       "\n",
       "    .dataframe thead th {\n",
       "        text-align: right;\n",
       "    }\n",
       "</style>\n",
       "<table border=\"1\" class=\"dataframe\">\n",
       "  <thead>\n",
       "    <tr style=\"text-align: right;\">\n",
       "      <th></th>\n",
       "      <th>$R^2X$</th>\n",
       "      <th>$R^2Y$</th>\n",
       "      <th>$R^2X_{hat}$</th>\n",
       "      <th>$R^2Y_{hat}$</th>\n",
       "      <th>$R^2X_{YO}$</th>\n",
       "      <th>$R^2Y_{XO}$</th>\n",
       "      <th>$R^2X_{corr}$</th>\n",
       "      <th>$R^2Y_{corr}$</th>\n",
       "    </tr>\n",
       "  </thead>\n",
       "  <tbody>\n",
       "    <tr>\n",
       "      <th>0</th>\n",
       "      <td>0.000024</td>\n",
       "      <td>0.812184</td>\n",
       "      <td>0.000024</td>\n",
       "      <td>0.812184</td>\n",
       "      <td>0.033825</td>\n",
       "      <td>0.0</td>\n",
       "      <td>0.000021</td>\n",
       "      <td>1.0</td>\n",
       "    </tr>\n",
       "  </tbody>\n",
       "</table>\n",
       "</div>"
      ],
      "text/plain": [
       "     $R^2X$    $R^2Y$  $R^2X_{hat}$  $R^2Y_{hat}$  $R^2X_{YO}$  $R^2Y_{XO}$  \\\n",
       "0  0.000024  0.812184  0.000024      0.812184      0.033825     0.0           \n",
       "\n",
       "   $R^2X_{corr}$  $R^2Y_{corr}$  \n",
       "0  0.000021       1.0            "
      ]
     },
     "metadata": {},
     "output_type": "display_data"
    }
   ],
   "source": [
    "show_table(o2_nipals.calc_metrics())"
   ]
  },
  {
   "cell_type": "code",
   "execution_count": 30,
   "metadata": {},
   "outputs": [
    {
     "name": "stderr",
     "output_type": "stream",
     "text": [
      "/home/krassowski/.pyenv/versions/3.7.2/envs/meningitis/lib/python3.7/site-packages/sklearn/utils/validation.py:595: DataConversionWarning: Data with input dtype int32 was converted to float64 by ChemometricsScaler.\n",
      "  warnings.warn(msg, DataConversionWarning)\n",
      "/home/krassowski/.pyenv/versions/3.7.2/envs/meningitis/lib/python3.7/site-packages/sklearn/utils/validation.py:595: DataConversionWarning: Data with input dtype int32 was converted to float64 by ChemometricsScaler.\n",
      "  warnings.warn(msg, DataConversionWarning)\n"
     ]
    },
    {
     "data": {
      "text/html": [
       "<div>\n",
       "<style scoped>\n",
       "    .dataframe tbody tr th:only-of-type {\n",
       "        vertical-align: middle;\n",
       "    }\n",
       "\n",
       "    .dataframe tbody tr th {\n",
       "        vertical-align: top;\n",
       "    }\n",
       "\n",
       "    .dataframe thead th {\n",
       "        text-align: right;\n",
       "    }\n",
       "</style>\n",
       "<table border=\"1\" class=\"dataframe\">\n",
       "  <thead>\n",
       "    <tr style=\"text-align: right;\">\n",
       "      <th></th>\n",
       "      <th>$Q^2X_{hat}$</th>\n",
       "      <th>$Q^2Y_{hat}$</th>\n",
       "      <th>$\\frac{Q^2X_{hat} + Q^2Y_{hat}}{2}$</th>\n",
       "    </tr>\n",
       "  </thead>\n",
       "  <tbody>\n",
       "    <tr>\n",
       "      <th>0</th>\n",
       "      <td>0.000001</td>\n",
       "      <td>-297.657984</td>\n",
       "      <td>-148.828991</td>\n",
       "    </tr>\n",
       "  </tbody>\n",
       "</table>\n",
       "</div>"
      ],
      "text/plain": [
       "   $Q^2X_{hat}$  $Q^2Y_{hat}$  $\\frac{Q^2X_{hat} + Q^2Y_{hat}}{2}$\n",
       "0  0.000001     -297.657984   -148.828991                         "
      ]
     },
     "metadata": {},
     "output_type": "display_data"
    }
   ],
   "source": [
    "show_table(o2_nipals.calc_metrics(\n",
    "    X=pareto.fit_transform(validation_X),\n",
    "    Y=pareto.fit_transform(validation_y)\n",
    "))"
   ]
  },
  {
   "cell_type": "markdown",
   "metadata": {},
   "source": [
    "But gives a slightly different plot:"
   ]
  },
  {
   "cell_type": "code",
   "execution_count": 31,
   "metadata": {},
   "outputs": [
    {
     "data": {
      "image/png": "[encoded data removed]"
     },
     "metadata": {},
     "output_type": "display_data"
    }
   ],
   "source": [
    "%%R -i coefficent_vectors\n",
    "(\n",
    "    ggplot(coefficent_vectors, aes(x=`Wavelength.region`, y=`b.O2PLS`))\n",
    "    + geom_bar(stat='identity')\n",
    "    + nice_theme\n",
    ")"
   ]
  },
  {
   "cell_type": "markdown",
   "metadata": {},
   "source": [
    "#### Does SVD yields good results?"
   ]
  },
  {
   "cell_type": "code",
   "execution_count": 32,
   "metadata": {},
   "outputs": [],
   "source": [
    "o2_svd = make_pipeline(\n",
    "    O2PLS(\n",
    "        joint_components=1, x_ortho_components=4, y_ortho_components=0,\n",
    "        algorithm='svd'\n",
    "    )\n",
    ")\n",
    "o2_svd.fit(calibartion_X, calibartion_y)\n",
    "o2_svd = o2_svd._final_estimator\n",
    "coefficent_vectors = fig_12b(o2_svd)"
   ]
  },
  {
   "cell_type": "code",
   "execution_count": 33,
   "metadata": {},
   "outputs": [
    {
     "data": {
      "text/html": [
       "<div>\n",
       "<style scoped>\n",
       "    .dataframe tbody tr th:only-of-type {\n",
       "        vertical-align: middle;\n",
       "    }\n",
       "\n",
       "    .dataframe tbody tr th {\n",
       "        vertical-align: top;\n",
       "    }\n",
       "\n",
       "    .dataframe thead th {\n",
       "        text-align: right;\n",
       "    }\n",
       "</style>\n",
       "<table border=\"1\" class=\"dataframe\">\n",
       "  <thead>\n",
       "    <tr style=\"text-align: right;\">\n",
       "      <th></th>\n",
       "      <th>$Q^2X_{hat}$</th>\n",
       "      <th>$Q^2Y_{hat}$</th>\n",
       "      <th>$\\frac{Q^2X_{hat} + Q^2Y_{hat}}{2}$</th>\n",
       "    </tr>\n",
       "  </thead>\n",
       "  <tbody>\n",
       "    <tr>\n",
       "      <th>0</th>\n",
       "      <td>0.90253</td>\n",
       "      <td>0.839486</td>\n",
       "      <td>0.871008</td>\n",
       "    </tr>\n",
       "  </tbody>\n",
       "</table>\n",
       "</div>"
      ],
      "text/plain": [
       "   $Q^2X_{hat}$  $Q^2Y_{hat}$  $\\frac{Q^2X_{hat} + Q^2Y_{hat}}{2}$\n",
       "0  0.90253       0.839486      0.871008                           "
      ]
     },
     "metadata": {},
     "output_type": "display_data"
    }
   ],
   "source": [
    "show_table(o2_svd.calc_metrics(X=validation_X, Y=validation_y))"
   ]
  },
  {
   "cell_type": "code",
   "execution_count": 34,
   "metadata": {},
   "outputs": [
    {
     "data": {
      "image/png": "[encoded data removed]"
     },
     "metadata": {},
     "output_type": "display_data"
    }
   ],
   "source": [
    "%%R -i coefficent_vectors\n",
    "(\n",
    "    ggplot(coefficent_vectors, aes(x=`Wavelength.region`, y=`b.O2PLS`))\n",
    "    + geom_bar(stat='identity')\n",
    "    + nice_theme\n",
    ")"
   ]
  },
  {
   "cell_type": "markdown",
   "metadata": {},
   "source": [
    "But what seems good in the statistics is not necessarily easily seen:"
   ]
  },
  {
   "cell_type": "code",
   "execution_count": 35,
   "metadata": {},
   "outputs": [],
   "source": [
    "actual = calibartion_y[:,0]\n",
    "predicted = o2_svd.predict_y(calibartion_X)[:,0]\n",
    "df = DataFrame(dict(predicted=predicted, actual=actual)).sort_values('actual').reset_index(drop=True).reset_index()"
   ]
  },
  {
   "cell_type": "code",
   "execution_count": 36,
   "metadata": {},
   "outputs": [
    {
     "data": {
      "image/png": "[encoded data removed]",
      "text/plain": [
       "<Figure size 432x288 with 1 Axes>"
      ]
     },
     "metadata": {
      "needs_background": "light"
     },
     "output_type": "display_data"
    }
   ],
   "source": [
    "df.plot.scatter(x='index', y='actual');"
   ]
  },
  {
   "cell_type": "code",
   "execution_count": 37,
   "metadata": {},
   "outputs": [
    {
     "data": {
      "image/png": "[encoded data removed]",
      "text/plain": [
       "<Figure size 432x288 with 1 Axes>"
      ]
     },
     "metadata": {
      "needs_background": "light"
     },
     "output_type": "display_data"
    }
   ],
   "source": [
    "df.plot.scatter(x='index', y='predicted');"
   ]
  },
  {
   "cell_type": "code",
   "execution_count": 38,
   "metadata": {},
   "outputs": [],
   "source": [
    "from scipy.stats import pearsonr, spearmanr"
   ]
  },
  {
   "cell_type": "code",
   "execution_count": 39,
   "metadata": {},
   "outputs": [
    {
     "data": {
      "text/plain": [
       "(-0.21401628940538392, 0.018917337878748462)"
      ]
     },
     "execution_count": 39,
     "metadata": {},
     "output_type": "execute_result"
    }
   ],
   "source": [
    "pearsonr(actual, predicted)"
   ]
  },
  {
   "cell_type": "code",
   "execution_count": 40,
   "metadata": {},
   "outputs": [
    {
     "data": {
      "text/plain": [
       "SpearmanrResult(correlation=-0.16128752263615806, pvalue=0.07843080613681683)"
      ]
     },
     "execution_count": 40,
     "metadata": {},
     "output_type": "execute_result"
    }
   ],
   "source": [
    "spearmanr(actual, predicted)"
   ]
  },
  {
   "cell_type": "markdown",
   "metadata": {},
   "source": [
    "### Why is there discrepancy in R2 and the correlation?\n",
    "\n",
    "This is $R^2_0$, with no intercept, representing fit against a noise rather than a line.\n",
    "\n",
    "This is different from R2 used in PLS normally!\n",
    "\n",
    "It is sensitive to the mean centering, and after centering we will get more realistic picture:"
   ]
  },
  {
   "cell_type": "code",
   "execution_count": 41,
   "metadata": {},
   "outputs": [],
   "source": [
    "pareto = ChemometricsScaler(scale_power=0.5, with_mean=True)\n",
    "o2_svd = make_pipeline(\n",
    "    pareto,\n",
    "    O2PLS(\n",
    "        joint_components=1, x_ortho_components=4, y_ortho_components=0,\n",
    "        algorithm='svd'\n",
    "    )\n",
    ")\n",
    "o2_svd.fit(calibartion_X, calibartion_y)\n",
    "o2_svd = o2_svd._final_estimator"
   ]
  },
  {
   "cell_type": "code",
   "execution_count": 42,
   "metadata": {},
   "outputs": [
    {
     "data": {
      "text/html": [
       "<div>\n",
       "<style scoped>\n",
       "    .dataframe tbody tr th:only-of-type {\n",
       "        vertical-align: middle;\n",
       "    }\n",
       "\n",
       "    .dataframe tbody tr th {\n",
       "        vertical-align: top;\n",
       "    }\n",
       "\n",
       "    .dataframe thead th {\n",
       "        text-align: right;\n",
       "    }\n",
       "</style>\n",
       "<table border=\"1\" class=\"dataframe\">\n",
       "  <thead>\n",
       "    <tr style=\"text-align: right;\">\n",
       "      <th></th>\n",
       "      <th>$R^2X$</th>\n",
       "      <th>$R^2Y$</th>\n",
       "      <th>$R^2X_{hat}$</th>\n",
       "      <th>$R^2Y_{hat}$</th>\n",
       "      <th>$R^2X_{YO}$</th>\n",
       "      <th>$R^2Y_{XO}$</th>\n",
       "      <th>$R^2X_{corr}$</th>\n",
       "      <th>$R^2Y_{corr}$</th>\n",
       "    </tr>\n",
       "  </thead>\n",
       "  <tbody>\n",
       "    <tr>\n",
       "      <th>0</th>\n",
       "      <td>0.00013</td>\n",
       "      <td>-0.000276</td>\n",
       "      <td>0.00013</td>\n",
       "      <td>-0.000276</td>\n",
       "      <td>0.000004</td>\n",
       "      <td>0.0</td>\n",
       "      <td>0.269915</td>\n",
       "      <td>1.0</td>\n",
       "    </tr>\n",
       "  </tbody>\n",
       "</table>\n",
       "</div>"
      ],
      "text/plain": [
       "    $R^2X$    $R^2Y$  $R^2X_{hat}$  $R^2Y_{hat}$  $R^2X_{YO}$  $R^2Y_{XO}$  \\\n",
       "0  0.00013 -0.000276       0.00013     -0.000276     0.000004          0.0   \n",
       "\n",
       "   $R^2X_{corr}$  $R^2Y_{corr}$  \n",
       "0       0.269915            1.0  "
      ]
     },
     "execution_count": 42,
     "metadata": {},
     "output_type": "execute_result"
    }
   ],
   "source": [
    "o2_svd.calc_metrics()"
   ]
  },
  {
   "cell_type": "code",
   "execution_count": 43,
   "metadata": {},
   "outputs": [],
   "source": [
    "actual = calibartion_y[:,0]\n",
    "predicted = o2_svd.predict_y(pareto.fit_transform(calibartion_X))[:,0]\n",
    "df = DataFrame(dict(predicted=predicted, actual=actual)).sort_values('actual').reset_index(drop=True).reset_index()"
   ]
  },
  {
   "cell_type": "code",
   "execution_count": 44,
   "metadata": {},
   "outputs": [
    {
     "data": {
      "image/png": "[encoded data removed]",
      "text/plain": [
       "<Figure size 432x288 with 1 Axes>"
      ]
     },
     "metadata": {
      "needs_background": "light"
     },
     "output_type": "display_data"
    }
   ],
   "source": [
    "df.plot.scatter(x='index', y='predicted');"
   ]
  },
  {
   "cell_type": "code",
   "execution_count": 45,
   "metadata": {},
   "outputs": [
    {
     "data": {
      "text/plain": [
       "(0.2678056452590982, 0.0031047558031799174)"
      ]
     },
     "execution_count": 45,
     "metadata": {},
     "output_type": "execute_result"
    }
   ],
   "source": [
    "pearsonr(actual, predicted)"
   ]
  },
  {
   "cell_type": "code",
   "execution_count": 46,
   "metadata": {},
   "outputs": [
    {
     "data": {
      "text/plain": [
       "SpearmanrResult(correlation=0.2040034946106371, pvalue=0.0254230333242249)"
      ]
     },
     "execution_count": 46,
     "metadata": {},
     "output_type": "execute_result"
    }
   ],
   "source": [
    "spearmanr(actual, predicted)"
   ]
  },
  {
   "cell_type": "markdown",
   "metadata": {},
   "source": [
    "See more here: https://stats.stackexchange.com/a/26205/233900"
   ]
  },
  {
   "cell_type": "markdown",
   "metadata": {},
   "source": [
    "### Comparing statistics from Table IV for O2PLS X model for cellulose example:"
   ]
  },
  {
   "cell_type": "code",
   "execution_count": 47,
   "metadata": {},
   "outputs": [
    {
     "data": {
      "text/html": [
       "<div>\n",
       "<style scoped>\n",
       "    .dataframe tbody tr th:only-of-type {\n",
       "        vertical-align: middle;\n",
       "    }\n",
       "\n",
       "    .dataframe tbody tr th {\n",
       "        vertical-align: top;\n",
       "    }\n",
       "\n",
       "    .dataframe thead th {\n",
       "        text-align: right;\n",
       "    }\n",
       "</style>\n",
       "<table border=\"1\" class=\"dataframe\">\n",
       "  <thead>\n",
       "    <tr style=\"text-align: right;\">\n",
       "      <th>$X$ model</th>\n",
       "      <th>$Q^2Y_{hat}$</th>\n",
       "      <th>$R^2X$</th>\n",
       "      <th>$R^2X_{YO}$</th>\n",
       "      <th>$R^2X_{corr}$</th>\n",
       "      <th>$R^2Y_{hat}$</th>\n",
       "    </tr>\n",
       "    <tr>\n",
       "      <th>component</th>\n",
       "      <th></th>\n",
       "      <th></th>\n",
       "      <th></th>\n",
       "      <th></th>\n",
       "      <th></th>\n",
       "    </tr>\n",
       "  </thead>\n",
       "  <tbody>\n",
       "    <tr>\n",
       "      <th>n=1, x_orth=0</th>\n",
       "      <td>1.00 ± 0.00</td>\n",
       "      <td>1.00 ± 0.00</td>\n",
       "      <td>0.00 ± 0.00</td>\n",
       "      <td>1.00 ± 0.00</td>\n",
       "      <td>1.00 ± 0.00</td>\n",
       "    </tr>\n",
       "    <tr>\n",
       "      <th>n=1, x_orth=1</th>\n",
       "      <td>1.00 ± 0.00</td>\n",
       "      <td>1.00 ± 0.00</td>\n",
       "      <td>0.00 ± 0.00</td>\n",
       "      <td>1.00 ± 0.00</td>\n",
       "      <td>1.00 ± 0.00</td>\n",
       "    </tr>\n",
       "    <tr>\n",
       "      <th>n=1, x_orth=2</th>\n",
       "      <td>1.00 ± 0.00</td>\n",
       "      <td>1.00 ± 0.00</td>\n",
       "      <td>0.00 ± 0.00</td>\n",
       "      <td>1.00 ± 0.00</td>\n",
       "      <td>1.00 ± 0.00</td>\n",
       "    </tr>\n",
       "    <tr>\n",
       "      <th>n=1, x_orth=3</th>\n",
       "      <td>1.00 ± 0.00</td>\n",
       "      <td>1.00 ± 0.00</td>\n",
       "      <td>0.00 ± 0.00</td>\n",
       "      <td>1.00 ± 0.00</td>\n",
       "      <td>1.00 ± 0.00</td>\n",
       "    </tr>\n",
       "    <tr>\n",
       "      <th>n=1, x_orth=4</th>\n",
       "      <td>1.00 ± 0.00</td>\n",
       "      <td>1.00 ± 0.00</td>\n",
       "      <td>0.00 ± 0.00</td>\n",
       "      <td>1.00 ± 0.00</td>\n",
       "      <td>1.00 ± 0.00</td>\n",
       "    </tr>\n",
       "  </tbody>\n",
       "</table>\n",
       "</div>"
      ],
      "text/plain": [
       "$X$ model     $Q^2Y_{hat}$       $R^2X$  $R^2X_{YO}$ $R^2X_{corr}$  \\\n",
       "component                                                            \n",
       "n=1, x_orth=0  1.00 ± 0.00  1.00 ± 0.00  0.00 ± 0.00   1.00 ± 0.00   \n",
       "n=1, x_orth=1  1.00 ± 0.00  1.00 ± 0.00  0.00 ± 0.00   1.00 ± 0.00   \n",
       "n=1, x_orth=2  1.00 ± 0.00  1.00 ± 0.00  0.00 ± 0.00   1.00 ± 0.00   \n",
       "n=1, x_orth=3  1.00 ± 0.00  1.00 ± 0.00  0.00 ± 0.00   1.00 ± 0.00   \n",
       "n=1, x_orth=4  1.00 ± 0.00  1.00 ± 0.00  0.00 ± 0.00   1.00 ± 0.00   \n",
       "\n",
       "$X$ model     $R^2Y_{hat}$  \n",
       "component                   \n",
       "n=1, x_orth=0  1.00 ± 0.00  \n",
       "n=1, x_orth=1  1.00 ± 0.00  \n",
       "n=1, x_orth=2  1.00 ± 0.00  \n",
       "n=1, x_orth=3  1.00 ± 0.00  \n",
       "n=1, x_orth=4  1.00 ± 0.00  "
      ]
     },
     "execution_count": 47,
     "metadata": {},
     "output_type": "execute_result"
    }
   ],
   "source": [
    "summary_table_for(\n",
    "    grid_results,\n",
    "    'X', joint_components=1, x_ortho_components=4, y_ortho_components=0\n",
    ")"
   ]
  },
  {
   "cell_type": "code",
   "execution_count": 48,
   "metadata": {},
   "outputs": [
    {
     "data": {
      "text/html": [
       "<div>\n",
       "<style scoped>\n",
       "    .dataframe tbody tr th:only-of-type {\n",
       "        vertical-align: middle;\n",
       "    }\n",
       "\n",
       "    .dataframe tbody tr th {\n",
       "        vertical-align: top;\n",
       "    }\n",
       "\n",
       "    .dataframe thead th {\n",
       "        text-align: right;\n",
       "    }\n",
       "</style>\n",
       "<table border=\"1\" class=\"dataframe\">\n",
       "  <thead>\n",
       "    <tr style=\"text-align: right;\">\n",
       "      <th></th>\n",
       "      <th>$Q^2X_{hat}$</th>\n",
       "      <th>$Q^2Y_{hat}$</th>\n",
       "      <th>$\\frac{Q^2X_{hat} + Q^2Y_{hat}}{2}$</th>\n",
       "    </tr>\n",
       "  </thead>\n",
       "  <tbody>\n",
       "    <tr>\n",
       "      <th>0</th>\n",
       "      <td>0.90253</td>\n",
       "      <td>0.839544</td>\n",
       "      <td>0.871037</td>\n",
       "    </tr>\n",
       "  </tbody>\n",
       "</table>\n",
       "</div>"
      ],
      "text/plain": [
       "   $Q^2X_{hat}$  $Q^2Y_{hat}$  $\\frac{Q^2X_{hat} + Q^2Y_{hat}}{2}$\n",
       "0       0.90253      0.839544                             0.871037"
      ]
     },
     "execution_count": 48,
     "metadata": {},
     "output_type": "execute_result"
    }
   ],
   "source": [
    "cv_search_cellulose.best_estimator_._final_estimator.calc_metrics(X=validation_X, Y=validation_y)"
   ]
  },
  {
   "cell_type": "markdown",
   "metadata": {},
   "source": [
    "Let's repeat but with mean centering:"
   ]
  },
  {
   "cell_type": "code",
   "execution_count": 49,
   "metadata": {},
   "outputs": [
    {
     "data": {
      "text/plain": [
       "{'o2pls__joint_components': 1,\n",
       " 'o2pls__x_ortho_components': 0,\n",
       " 'o2pls__y_ortho_components': 0}"
      ]
     },
     "execution_count": 49,
     "metadata": {},
     "output_type": "execute_result"
    }
   ],
   "source": [
    "cv_search_cellulose = cellulose_cv_grid_search(make_pipeline(\n",
    "        ChemometricsScaler(with_mean=T),\n",
    "        O2PLS(algorithm='svd')\n",
    "    ),\n",
    "    param_grid=tuned_parameters\n",
    ")\n",
    "cv_search_cellulose.fit(calibartion_X, calibartion_y)\n",
    "cv_search_cellulose.best_params_"
   ]
  },
  {
   "cell_type": "code",
   "execution_count": 50,
   "metadata": {},
   "outputs": [],
   "source": [
    "grid_results = add_grid_metadata(format_grid_results(cv_search_cellulose))"
   ]
  },
  {
   "cell_type": "code",
   "execution_count": 51,
   "metadata": {},
   "outputs": [
    {
     "data": {
      "text/html": [
       "<div>\n",
       "<style scoped>\n",
       "    .dataframe tbody tr th:only-of-type {\n",
       "        vertical-align: middle;\n",
       "    }\n",
       "\n",
       "    .dataframe tbody tr th {\n",
       "        vertical-align: top;\n",
       "    }\n",
       "\n",
       "    .dataframe thead th {\n",
       "        text-align: right;\n",
       "    }\n",
       "</style>\n",
       "<table border=\"1\" class=\"dataframe\">\n",
       "  <thead>\n",
       "    <tr style=\"text-align: right;\">\n",
       "      <th>$X$ model</th>\n",
       "      <th>$Q^2Y_{hat}$</th>\n",
       "      <th>$R^2X$</th>\n",
       "      <th>$R^2X_{YO}$</th>\n",
       "      <th>$R^2X_{corr}$</th>\n",
       "      <th>$R^2Y_{hat}$</th>\n",
       "    </tr>\n",
       "    <tr>\n",
       "      <th>component</th>\n",
       "      <th></th>\n",
       "      <th></th>\n",
       "      <th></th>\n",
       "      <th></th>\n",
       "      <th></th>\n",
       "    </tr>\n",
       "  </thead>\n",
       "  <tbody>\n",
       "    <tr>\n",
       "      <th>n=1, x_orth=0</th>\n",
       "      <td>-0.03 ± 0.01</td>\n",
       "      <td>0.00 ± 0.00</td>\n",
       "      <td>0.00 ± 0.00</td>\n",
       "      <td>0.79 ± 0.09</td>\n",
       "      <td>0.00 ± 0.00</td>\n",
       "    </tr>\n",
       "    <tr>\n",
       "      <th>n=1, x_orth=1</th>\n",
       "      <td>-0.04 ± 0.01</td>\n",
       "      <td>0.00 ± 0.00</td>\n",
       "      <td>0.00 ± 0.00</td>\n",
       "      <td>0.52 ± 0.11</td>\n",
       "      <td>0.00 ± 0.00</td>\n",
       "    </tr>\n",
       "    <tr>\n",
       "      <th>n=1, x_orth=2</th>\n",
       "      <td>-0.04 ± 0.01</td>\n",
       "      <td>0.00 ± 0.00</td>\n",
       "      <td>0.00 ± 0.00</td>\n",
       "      <td>0.52 ± 0.12</td>\n",
       "      <td>0.00 ± 0.00</td>\n",
       "    </tr>\n",
       "    <tr>\n",
       "      <th>n=1, x_orth=3</th>\n",
       "      <td>-0.05 ± 0.01</td>\n",
       "      <td>0.00 ± 0.00</td>\n",
       "      <td>0.00 ± 0.00</td>\n",
       "      <td>0.46 ± 0.13</td>\n",
       "      <td>0.00 ± 0.00</td>\n",
       "    </tr>\n",
       "    <tr>\n",
       "      <th>n=1, x_orth=4</th>\n",
       "      <td>-0.06 ± 0.01</td>\n",
       "      <td>0.00 ± 0.00</td>\n",
       "      <td>0.00 ± 0.00</td>\n",
       "      <td>0.35 ± 0.13</td>\n",
       "      <td>-0.00 ± 0.00</td>\n",
       "    </tr>\n",
       "  </tbody>\n",
       "</table>\n",
       "</div>"
      ],
      "text/plain": [
       "$X$ model      $Q^2Y_{hat}$       $R^2X$  $R^2X_{YO}$ $R^2X_{corr}$  \\\n",
       "component                                                             \n",
       "n=1, x_orth=0  -0.03 ± 0.01  0.00 ± 0.00  0.00 ± 0.00   0.79 ± 0.09   \n",
       "n=1, x_orth=1  -0.04 ± 0.01  0.00 ± 0.00  0.00 ± 0.00   0.52 ± 0.11   \n",
       "n=1, x_orth=2  -0.04 ± 0.01  0.00 ± 0.00  0.00 ± 0.00   0.52 ± 0.12   \n",
       "n=1, x_orth=3  -0.05 ± 0.01  0.00 ± 0.00  0.00 ± 0.00   0.46 ± 0.13   \n",
       "n=1, x_orth=4  -0.06 ± 0.01  0.00 ± 0.00  0.00 ± 0.00   0.35 ± 0.13   \n",
       "\n",
       "$X$ model      $R^2Y_{hat}$  \n",
       "component                    \n",
       "n=1, x_orth=0   0.00 ± 0.00  \n",
       "n=1, x_orth=1   0.00 ± 0.00  \n",
       "n=1, x_orth=2   0.00 ± 0.00  \n",
       "n=1, x_orth=3   0.00 ± 0.00  \n",
       "n=1, x_orth=4  -0.00 ± 0.00  "
      ]
     },
     "execution_count": 51,
     "metadata": {},
     "output_type": "execute_result"
    }
   ],
   "source": [
    "summary_table_for(\n",
    "    grid_results,\n",
    "    'X', joint_components=1, x_ortho_components=4, y_ortho_components=0\n",
    ")"
   ]
  },
  {
   "cell_type": "markdown",
   "metadata": {},
   "source": [
    "The values of measured statistics (my own code) do not correspond to the values reported in the original publication; possible causes include:\n",
    " - differences in implementations (most likely in the orthogonality filter, as no pseudocode was given in the publications - only equations)\n",
    " - differences in statistics definitions (the statistics were very carefully defined in the original publication)\n",
    " \n",
    "The negative values are worrying (while R^2 can be negative this should not generally be a case for a good model)."
   ]
  },
  {
   "cell_type": "markdown",
   "metadata": {},
   "source": [
    "The values computed by the OmicsPLS package depart from those in the original publication as well:"
   ]
  },
  {
   "cell_type": "code",
   "execution_count": 52,
   "metadata": {},
   "outputs": [
    {
     "data": {
      "text/html": [
       "<div>\n",
       "<style scoped>\n",
       "    .dataframe tbody tr th:only-of-type {\n",
       "        vertical-align: middle;\n",
       "    }\n",
       "\n",
       "    .dataframe tbody tr th {\n",
       "        vertical-align: top;\n",
       "    }\n",
       "\n",
       "    .dataframe thead th {\n",
       "        text-align: right;\n",
       "    }\n",
       "</style>\n",
       "<table border=\"1\" class=\"dataframe\">\n",
       "  <thead>\n",
       "    <tr style=\"text-align: right;\">\n",
       "      <th></th>\n",
       "      <th>R2X</th>\n",
       "      <th>R2Y</th>\n",
       "      <th>R2Xcorr</th>\n",
       "      <th>R2Ycorr</th>\n",
       "      <th>R2X_YO</th>\n",
       "      <th>R2Y_XO</th>\n",
       "      <th>R2Xhat</th>\n",
       "      <th>R2Yhat</th>\n",
       "    </tr>\n",
       "  </thead>\n",
       "  <tbody>\n",
       "    <tr>\n",
       "      <th>0</th>\n",
       "      <td>0.006732</td>\n",
       "      <td>1.0</td>\n",
       "      <td>0.000021</td>\n",
       "      <td>1.0</td>\n",
       "      <td>0.00671</td>\n",
       "      <td>0.0</td>\n",
       "      <td>3.681101e-09</td>\n",
       "      <td>0.000172</td>\n",
       "    </tr>\n",
       "  </tbody>\n",
       "</table>\n",
       "</div>"
      ],
      "text/plain": [
       "        R2X  R2Y   R2Xcorr  R2Ycorr   R2X_YO  R2Y_XO        R2Xhat    R2Yhat\n",
       "0  0.006732  1.0  0.000021  1.0      0.00671  0.0     3.681101e-09  0.000172"
      ]
     },
     "metadata": {},
     "output_type": "display_data"
    }
   ],
   "source": [
    "show_table(o2_nipals.r_metrics)"
   ]
  },
  {
   "cell_type": "markdown",
   "metadata": {},
   "source": [
    "The exact statistics as computed by me for full model are similar:"
   ]
  },
  {
   "cell_type": "code",
   "execution_count": 53,
   "metadata": {},
   "outputs": [
    {
     "data": {
      "text/html": [
       "<div>\n",
       "<style scoped>\n",
       "    .dataframe tbody tr th:only-of-type {\n",
       "        vertical-align: middle;\n",
       "    }\n",
       "\n",
       "    .dataframe tbody tr th {\n",
       "        vertical-align: top;\n",
       "    }\n",
       "\n",
       "    .dataframe thead th {\n",
       "        text-align: right;\n",
       "    }\n",
       "</style>\n",
       "<table border=\"1\" class=\"dataframe\">\n",
       "  <thead>\n",
       "    <tr style=\"text-align: right;\">\n",
       "      <th></th>\n",
       "      <th>$R^2X$</th>\n",
       "      <th>$R^2Y$</th>\n",
       "      <th>$R^2X_{hat}$</th>\n",
       "      <th>$R^2Y_{hat}$</th>\n",
       "      <th>$R^2X_{YO}$</th>\n",
       "      <th>$R^2Y_{XO}$</th>\n",
       "      <th>$R^2X_{corr}$</th>\n",
       "      <th>$R^2Y_{corr}$</th>\n",
       "    </tr>\n",
       "  </thead>\n",
       "  <tbody>\n",
       "    <tr>\n",
       "      <th>0</th>\n",
       "      <td>0.000024</td>\n",
       "      <td>0.812184</td>\n",
       "      <td>0.000024</td>\n",
       "      <td>0.812184</td>\n",
       "      <td>0.033825</td>\n",
       "      <td>0.0</td>\n",
       "      <td>0.000021</td>\n",
       "      <td>1.0</td>\n",
       "    </tr>\n",
       "  </tbody>\n",
       "</table>\n",
       "</div>"
      ],
      "text/plain": [
       "     $R^2X$    $R^2Y$  $R^2X_{hat}$  $R^2Y_{hat}$  $R^2X_{YO}$  $R^2Y_{XO}$  \\\n",
       "0  0.000024  0.812184  0.000024      0.812184      0.033825     0.0           \n",
       "\n",
       "   $R^2X_{corr}$  $R^2Y_{corr}$  \n",
       "0  0.000021       1.0            "
      ]
     },
     "metadata": {},
     "output_type": "display_data"
    }
   ],
   "source": [
    "show_table(o2_nipals.calc_metrics())"
   ]
  },
  {
   "cell_type": "markdown",
   "metadata": {},
   "source": [
    "For SVD (with pre-scaling and mean centering):"
   ]
  },
  {
   "cell_type": "code",
   "execution_count": 54,
   "metadata": {},
   "outputs": [
    {
     "data": {
      "text/html": [
       "<div>\n",
       "<style scoped>\n",
       "    .dataframe tbody tr th:only-of-type {\n",
       "        vertical-align: middle;\n",
       "    }\n",
       "\n",
       "    .dataframe tbody tr th {\n",
       "        vertical-align: top;\n",
       "    }\n",
       "\n",
       "    .dataframe thead th {\n",
       "        text-align: right;\n",
       "    }\n",
       "</style>\n",
       "<table border=\"1\" class=\"dataframe\">\n",
       "  <thead>\n",
       "    <tr style=\"text-align: right;\">\n",
       "      <th></th>\n",
       "      <th>E</th>\n",
       "      <th>Ff</th>\n",
       "      <th>X_hat</th>\n",
       "      <th>Y_hat</th>\n",
       "      <th>R2X</th>\n",
       "      <th>R2Y</th>\n",
       "      <th>R2Xcorr</th>\n",
       "      <th>R2Ycorr</th>\n",
       "      <th>R2X_YO</th>\n",
       "      <th>R2Y_XO</th>\n",
       "      <th>R2Xhat</th>\n",
       "      <th>R2Yhat</th>\n",
       "    </tr>\n",
       "  </thead>\n",
       "  <tbody>\n",
       "    <tr>\n",
       "      <th>0</th>\n",
       "      <td>0.0</td>\n",
       "      <td>0.0</td>\n",
       "      <td>0.0</td>\n",
       "      <td>0.0</td>\n",
       "      <td>0.56812</td>\n",
       "      <td>1.0</td>\n",
       "      <td>0.269915</td>\n",
       "      <td>1.0</td>\n",
       "      <td>0.298205</td>\n",
       "      <td>0.0</td>\n",
       "      <td>0.00013</td>\n",
       "      <td>0.000483</td>\n",
       "    </tr>\n",
       "  </tbody>\n",
       "</table>\n",
       "</div>"
      ],
      "text/plain": [
       "     E   Ff  X_hat  Y_hat      R2X  R2Y   R2Xcorr  R2Ycorr    R2X_YO  R2Y_XO  \\\n",
       "0  0.0  0.0  0.0    0.0    0.56812  1.0  0.269915  1.0      0.298205  0.0      \n",
       "\n",
       "    R2Xhat    R2Yhat  \n",
       "0  0.00013  0.000483  "
      ]
     },
     "metadata": {},
     "output_type": "display_data"
    }
   ],
   "source": [
    "show_table(o2_svd.r_metrics)"
   ]
  },
  {
   "cell_type": "code",
   "execution_count": 55,
   "metadata": {},
   "outputs": [
    {
     "data": {
      "text/html": [
       "<div>\n",
       "<style scoped>\n",
       "    .dataframe tbody tr th:only-of-type {\n",
       "        vertical-align: middle;\n",
       "    }\n",
       "\n",
       "    .dataframe tbody tr th {\n",
       "        vertical-align: top;\n",
       "    }\n",
       "\n",
       "    .dataframe thead th {\n",
       "        text-align: right;\n",
       "    }\n",
       "</style>\n",
       "<table border=\"1\" class=\"dataframe\">\n",
       "  <thead>\n",
       "    <tr style=\"text-align: right;\">\n",
       "      <th></th>\n",
       "      <th>$R^2X$</th>\n",
       "      <th>$R^2Y$</th>\n",
       "      <th>$R^2X_{hat}$</th>\n",
       "      <th>$R^2Y_{hat}$</th>\n",
       "      <th>$R^2X_{YO}$</th>\n",
       "      <th>$R^2Y_{XO}$</th>\n",
       "      <th>$R^2X_{corr}$</th>\n",
       "      <th>$R^2Y_{corr}$</th>\n",
       "    </tr>\n",
       "  </thead>\n",
       "  <tbody>\n",
       "    <tr>\n",
       "      <th>0</th>\n",
       "      <td>0.00013</td>\n",
       "      <td>-0.000276</td>\n",
       "      <td>0.00013</td>\n",
       "      <td>-0.000276</td>\n",
       "      <td>0.000004</td>\n",
       "      <td>0.0</td>\n",
       "      <td>0.269915</td>\n",
       "      <td>1.0</td>\n",
       "    </tr>\n",
       "  </tbody>\n",
       "</table>\n",
       "</div>"
      ],
      "text/plain": [
       "    $R^2X$    $R^2Y$  $R^2X_{hat}$  $R^2Y_{hat}$  $R^2X_{YO}$  $R^2Y_{XO}$  \\\n",
       "0  0.00013 -0.000276  0.00013      -0.000276      0.000004     0.0           \n",
       "\n",
       "   $R^2X_{corr}$  $R^2Y_{corr}$  \n",
       "0  0.269915       1.0            "
      ]
     },
     "metadata": {},
     "output_type": "display_data"
    }
   ],
   "source": [
    "show_table(o2_svd.calc_metrics())"
   ]
  },
  {
   "cell_type": "markdown",
   "metadata": {},
   "source": [
    "Given the algorithm description provided in the publication, it seems as the best current reproduction effort. Sadly, the original publication does not provide code, algorithm's details, details on the simulated data nor on the pre-processing steps they used."
   ]
  },
  {
   "cell_type": "markdown",
   "metadata": {},
   "source": [
    "#### Comparison to ropls package"
   ]
  },
  {
   "cell_type": "markdown",
   "metadata": {},
   "source": [
    "However, for standard PLS, the ropls package reproduces the results of the publication almost exactly:"
   ]
  },
  {
   "cell_type": "code",
   "execution_count": 56,
   "metadata": {},
   "outputs": [],
   "source": [
    "%R import::here(plot_opls, plot_opls_all, plot_summary, run_and_plot_opls, .from='plots/ropls.R')"
   ]
  },
  {
   "cell_type": "code",
   "execution_count": 57,
   "metadata": {},
   "outputs": [
    {
     "name": "stdout",
     "output_type": "stream",
     "text": [
      "PLS\n",
      "180 samples x 1201 variables and 1 response\n",
      "standard scaling of predictors and response(s)\n",
      "      R2X(cum) R2Y(cum) Q2(cum) RMSEE pre ort pR2Y  pQ2\n",
      "Total    0.991    0.729   0.692   142   5   0 0.05 0.05\n",
      "dev.new(): using pdf(file=\"Rplots24.pdf\")\n"
     ]
    }
   ],
   "source": [
    "%%R\n",
    "pls_nipals = ropls::opls(nirMN, as.matrix(viscoVn), predI=5);"
   ]
  },
  {
   "cell_type": "markdown",
   "metadata": {},
   "source": [
    "O-PLS as implemented in ropls also reproduces the results of the original study with high fidelity:"
   ]
  },
  {
   "cell_type": "code",
   "execution_count": 58,
   "metadata": {},
   "outputs": [
    {
     "name": "stdout",
     "output_type": "stream",
     "text": [
      "OPLS\n",
      "180 samples x 1201 variables and 1 response\n",
      "standard scaling of predictors and response(s)\n",
      "      R2X(cum) R2Y(cum) Q2(cum) RMSEE pre ort pR2Y  pQ2\n",
      "Total    0.991    0.729   0.701   142   1   4 0.05 0.05\n",
      "dev.new(): using pdf(file=\"Rplots25.pdf\")\n"
     ]
    }
   ],
   "source": [
    "%%R -o o_nipals\n",
    "o_nipals = ropls::opls(nirMN, as.matrix(viscoVn), predI=1, orthoI=4);"
   ]
  },
  {
   "cell_type": "code",
   "execution_count": 59,
   "metadata": {},
   "outputs": [],
   "source": [
    "from types import SimpleNamespace\n",
    "\n",
    "r_model = o_nipals.slots\n",
    "\n",
    "opls_model = SimpleNamespace(\n",
    "    X=nirMN,\n",
    "    Y=viscoVn,\n",
    "    T=r_model['scoreMN'],\n",
    "    U=r_model['uMN'],\n",
    "    T_Yosc=r_model['orthoScoreMN'],\n",
    "    P_Yosc=r_model['orthoLoadingMN'],\n",
    "    W_Yosc=r_model['orthoWeightMN'],\n",
    "    C=r_model['loadingMN'],\n",
    "    W=r_model['weightMN'],\n",
    "    coefficients=r_model['coefficientMN']\n",
    ")"
   ]
  },
  {
   "cell_type": "code",
   "execution_count": 60,
   "metadata": {},
   "outputs": [],
   "source": [
    "%%R -o predicted_y\n",
    "predicted_y = predict(o_nipals, nirMN)"
   ]
  },
  {
   "cell_type": "markdown",
   "metadata": {},
   "source": [
    "My R squared function produces the same result, as can be seen in ropls results (above):"
   ]
  },
  {
   "cell_type": "code",
   "execution_count": 61,
   "metadata": {},
   "outputs": [
    {
     "data": {
      "text/plain": [
       "0.9916373418086629"
      ]
     },
     "execution_count": 61,
     "metadata": {},
     "output_type": "execute_result"
    }
   ],
   "source": [
    "r2(viscoVn, predicted_y)"
   ]
  },
  {
   "cell_type": "markdown",
   "metadata": {},
   "source": [
    "This suggests difference between what OmicsPLS calculates and what was presented in the publication.\n",
    "\n",
    "This is complicated by the fact that the example has single y-vectors - in a publication introducing O2-PLS! - which one could argue that reduces to OPLS. Most certainly the implementation details may lead to different solutions and this seems to be the case here."
   ]
  },
  {
   "cell_type": "markdown",
   "metadata": {},
   "source": [
    "Note: While the code for some of the OmicsPLS statistics differ from the published equations, I got very similar results for many statistics.\n",
    "\n",
    "These differ:\n",
    "```R\n",
    "R2X_YO <- (ssq(T_Yosc)/ssq(X_true))\n",
    "R2Y_XO <- (ssq(U_Xosc)/ssq(Y_true))\n",
    "```\n",
    "\n",
    "Publication would suggest:\n",
    "\n",
    "```R\n",
    "R2X_YO <- (ssq(T_Yosc @ P_xosc^T)/ssq(X_true))\n",
    "```\n",
    "\n",
    "This one:\n",
    "\n",
    "```R\n",
    "R2Xhat <- (ssq(U %*% B_U)/ssq(X_true))\n",
    "R2Yhat <- (ssq(Tt %*% B_T)/ssq(Y_true))\n",
    "```\n",
    "\n",
    "should take the difference of prediction and true value in the first term:\n",
    "\n",
    "```R\n",
    "R2Xhat <- 1 - (ssq(U %*% B_U - X_true)/ssq(X_true))\n",
    "R2Yhat <- 1 - (ssq(Tt %*% B_T - Y_true)/ssq(Y_true))\n",
    "```\n",
    "\n",
    "And:\n",
    "\n",
    "```R\n",
    "R2Xcorr <- (ssq(Tt)/ssq(X_true))\n",
    "R2Ycorr <- (ssq(U)/ssq(Y_true))\n",
    "```\n",
    "\n",
    "should be\n",
    "    \n",
    "```R\n",
    "R2Xcorr <- (ssq(Tt @ W^T)/ssq(X_true))\n",
    "R2Xcorr <- (ssq(U @ C^T)/ssq(X_true))\n",
    "```"
   ]
  },
  {
   "cell_type": "markdown",
   "metadata": {},
   "source": [
    "Other concerns for O2PLS: do the initialization messages:\n",
    "  > The initialization of the power method lied in a degenerate space\n",
    "  > Initialization changed and power method rerun\n",
    "\n",
    "really entail an action or are only just hang out there?"
   ]
  },
  {
   "cell_type": "markdown",
   "metadata": {},
   "source": [
    "## Further validation on multi-dimensional Y data is required\n",
    "\n",
    "TODO\n",
    "\n",
    "(Check against SIMCA; using simulated data was not a success, will need to check on something else)"
   ]
  }
 ],
 "metadata": {
  "kernelspec": {
   "display_name": "Python 3",
   "language": "python",
   "name": "python3"
  },
  "language_info": {
   "codemirror_mode": {
    "name": "ipython",
    "version": 3
   },
   "file_extension": ".py",
   "mimetype": "text/x-python",
   "name": "python",
   "nbconvert_exporter": "python",
   "pygments_lexer": "ipython3",
   "version": "3.7.2"
  },
  "widgets": {
   "application/vnd.jupyter.widget-state+json": {
    "state": {},
    "version_major": 2,
    "version_minor": 0
   }
  }
 },
 "nbformat": 4,
 "nbformat_minor": 4
}
