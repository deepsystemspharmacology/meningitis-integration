{
 "cells": [
  {
   "cell_type": "code",
   "execution_count": 1,
   "metadata": {},
   "outputs": [],
   "source": [
    "from helpers.utilities import *\n",
    "%run helpers/notebook_setup.ipynb"
   ]
  },
  {
   "cell_type": "code",
   "execution_count": 2,
   "metadata": {
    "tags": [
     "parameters"
    ]
   },
   "outputs": [],
   "source": [
    "# clinical_data_path = 'data/clean/clinical/data.csv'\n",
    "# output_path = 'data/clean/clinical/data_with_derived_variables.csv'"
   ]
  },
  {
   "cell_type": "code",
   "execution_count": 3,
   "metadata": {},
   "outputs": [],
   "source": [
    "clinical_data = read_csv(\n",
    "    clinical_data_path, index_col=0,\n",
    "    parse_dates=['AdmissionDate', 'Birthday', 'DateDeath']\n",
    ")"
   ]
  },
  {
   "cell_type": "markdown",
   "metadata": {},
   "source": [
    "## Adding derived clinical variables:"
   ]
  },
  {
   "cell_type": "markdown",
   "metadata": {},
   "source": [
    "### Age"
   ]
  },
  {
   "cell_type": "code",
   "execution_count": 4,
   "metadata": {},
   "outputs": [
    {
     "data": {
      "image/png": "[encoded data removed]",
      "text/plain": [
       "<Figure size 432x288 with 1 Axes>"
      ]
     },
     "metadata": {
      "needs_background": "light"
     },
     "output_type": "display_data"
    }
   ],
   "source": [
    "clinical_data['age_at_admission'] = clinical_data['AdmissionDate'] - clinical_data['Birthday']\n",
    "clinical_data['age_at_admission_years'] = clinical_data['age_at_admission'].dt.days / 360\n",
    "clinical_data['age_at_admission_years'].hist();"
   ]
  },
  {
   "cell_type": "code",
   "execution_count": 5,
   "metadata": {},
   "outputs": [
    {
     "data": {
      "text/plain": [
       "count    95.000000\n",
       "mean     39.805058\n",
       "std      12.397218\n",
       "min      19.786111\n",
       "25%      31.409722\n",
       "50%      35.602778\n",
       "75%      45.772222\n",
       "max      80.966667\n",
       "Name: age_at_admission_years, dtype: float64"
      ]
     },
     "execution_count": 5,
     "metadata": {},
     "output_type": "execute_result"
    }
   ],
   "source": [
    "clinical_data['age_at_admission_years'].describe()"
   ]
  },
  {
   "cell_type": "code",
   "execution_count": 6,
   "metadata": {},
   "outputs": [
    {
     "data": {
      "text/plain": [
       "36.0"
      ]
     },
     "execution_count": 6,
     "metadata": {},
     "output_type": "execute_result"
    }
   ],
   "source": [
    "clinical_data['age_at_admission_years'].round().median()"
   ]
  },
  {
   "cell_type": "markdown",
   "metadata": {},
   "source": [
    "### Survival"
   ]
  },
  {
   "cell_type": "code",
   "execution_count": 7,
   "metadata": {},
   "outputs": [
    {
     "data": {
      "text/plain": [
       "count                         22\n",
       "mean     36 days 21:49:05.454545\n",
       "std      46 days 02:28:45.945168\n",
       "min              2 days 00:00:00\n",
       "25%              9 days 06:00:00\n",
       "50%             16 days 12:00:00\n",
       "75%             30 days 06:00:00\n",
       "max            161 days 00:00:00\n",
       "Name: survival, dtype: object"
      ]
     },
     "execution_count": 7,
     "metadata": {},
     "output_type": "execute_result"
    }
   ],
   "source": [
    "clinical_data['survival'] = (\n",
    "    clinical_data['DateDeath'] - clinical_data['AdmissionDate']\n",
    ")\n",
    "clinical_data['survival'].describe()"
   ]
  },
  {
   "cell_type": "markdown",
   "metadata": {},
   "source": [
    "The figures above describe only the 22 deceased patients. As the follow-up was 6 months:"
   ]
  },
  {
   "cell_type": "code",
   "execution_count": 8,
   "metadata": {},
   "outputs": [],
   "source": [
    "follow_up = np.timedelta64(6, 'M')"
   ]
  },
  {
   "cell_type": "code",
   "execution_count": 9,
   "metadata": {},
   "outputs": [
    {
     "data": {
      "text/plain": [
       "PatientID\n",
       "247.CM    182 days 14:54:36\n",
       "248.TMD   182 days 14:54:36\n",
       "255.VM    182 days 14:54:36\n",
       "256.CM    182 days 14:54:36\n",
       "261.CM     10 days 00:00:00\n",
       "Name: censored_survival, dtype: timedelta64[ns]"
      ]
     },
     "execution_count": 9,
     "metadata": {},
     "output_type": "execute_result"
    }
   ],
   "source": [
    "clinical_data['censored_survival'] = clinical_data.survival.fillna(follow_up)\n",
    "clinical_data['censored_survival'].tail()"
   ]
  },
  {
   "cell_type": "markdown",
   "metadata": {},
   "source": [
    "Convert to days:"
   ]
  },
  {
   "cell_type": "code",
   "execution_count": 10,
   "metadata": {},
   "outputs": [],
   "source": [
    "clinical_data['survival'] = clinical_data['survival'].dt.days\n",
    "clinical_data['censored_survival'] = clinical_data['censored_survival'].dt.days"
   ]
  },
  {
   "cell_type": "code",
   "execution_count": 11,
   "metadata": {},
   "outputs": [
    {
     "data": {
      "image/png": "[encoded data removed]",
      "text/plain": [
       "<Figure size 432x288 with 1 Axes>"
      ]
     },
     "metadata": {
      "needs_background": "light"
     },
     "output_type": "display_data"
    }
   ],
   "source": [
    "clinical_data['censored_survival'].hist();"
   ]
  },
  {
   "cell_type": "markdown",
   "metadata": {},
   "source": [
    "### Adding disease data"
   ]
  },
  {
   "cell_type": "markdown",
   "metadata": {},
   "source": [
    "Extract vectors with nicely formatted (and ordered) condition (disease) names:"
   ]
  },
  {
   "cell_type": "code",
   "execution_count": 12,
   "metadata": {},
   "outputs": [],
   "source": [
    "from plots.annotations import conditions_names, tuberculosis_status"
   ]
  },
  {
   "cell_type": "code",
   "execution_count": 13,
   "metadata": {},
   "outputs": [
    {
     "data": {
      "text/plain": [
       "{'CM': 'Cryptococcal',\n",
       " 'HC': 'Healthy control',\n",
       " 'TMD': 'Tuberculosis',\n",
       " 'TMR': 'Tuberculosis',\n",
       " 'TMS': 'Tuberculosis',\n",
       " 'VM': 'Viral',\n",
       " 'BM': 'Bacterial'}"
      ]
     },
     "execution_count": 13,
     "metadata": {},
     "output_type": "execute_result"
    }
   ],
   "source": [
    "conditions_names"
   ]
  },
  {
   "cell_type": "code",
   "execution_count": 14,
   "metadata": {},
   "outputs": [],
   "source": [
    "granular_conditions = clinical_data.index.str.split('.').str[1]\n",
    "by_condition = granular_conditions.map(conditions_names)"
   ]
  },
  {
   "cell_type": "code",
   "execution_count": 15,
   "metadata": {},
   "outputs": [],
   "source": [
    "clinical_data['Meningitis'] = by_condition"
   ]
  },
  {
   "cell_type": "code",
   "execution_count": 16,
   "metadata": {},
   "outputs": [],
   "source": [
    "assert not clinical_data['Meningitis'].isnull().any()"
   ]
  },
  {
   "cell_type": "code",
   "execution_count": 17,
   "metadata": {},
   "outputs": [
    {
     "data": {
      "text/plain": [
       "{'TMD': 'Definite', 'TMR': 'Probable', 'TMS': 'Possible'}"
      ]
     },
     "execution_count": 17,
     "metadata": {},
     "output_type": "execute_result"
    }
   ],
   "source": [
    "tuberculosis_status"
   ]
  },
  {
   "cell_type": "code",
   "execution_count": 18,
   "metadata": {},
   "outputs": [],
   "source": [
    "clinical_data['Tuberculosis'] = granular_conditions.map(tuberculosis_status).fillna('-')"
   ]
  },
  {
   "cell_type": "markdown",
   "metadata": {},
   "source": [
    "### Saving expanded dataset"
   ]
  },
  {
   "cell_type": "code",
   "execution_count": 19,
   "metadata": {},
   "outputs": [],
   "source": [
    "clinical_data.to_csv(output_path)"
   ]
  },
  {
   "cell_type": "markdown",
   "metadata": {},
   "source": [
    "TODO: split into dependent/independent variables and confounders?"
   ]
  },
  {
   "cell_type": "markdown",
   "metadata": {},
   "source": [
    "## Correlation of the clinical variables"
   ]
  },
  {
   "cell_type": "markdown",
   "metadata": {},
   "source": [
    "TODO"
   ]
  },
  {
   "cell_type": "markdown",
   "metadata": {},
   "source": [
    "## Which variables to use for analyses?\n",
    "\n",
    "### Regression\n",
    "\n",
    "We may want to regress on:\n",
    "- symptoms severity (e.g. duration of lethargy, reduced consciousness, sickness, etc)\n",
    "- some of the interval clinical variables (Level of glucose in CSF, CD4 count)\n",
    "- ordinal variables (in between the regression and classification - ordinal/multinomial regression):\n",
    "  - grade of TBM (1-3)\n",
    "  - tuberculosis \"certainty\" status on the TB (+viral?) patients only\n",
    "\n",
    "Variable selection:\n",
    " - lasso: per each objective (to determine the top proteins influencing each response variable)\n",
    " - differential \"expression\"\n",
    "\n",
    "### Classification\n",
    "\n",
    "- HIV status (logistic regression?)\n",
    "- Patient group (4 meningitis groups)\n",
    "- CSF appearance (4 combinations or 2x2)\n"
   ]
  }
 ],
 "metadata": {
  "kernelspec": {
   "display_name": "Python 3",
   "language": "python",
   "name": "python3"
  },
  "language_info": {
   "codemirror_mode": {
    "name": "ipython",
    "version": 3
   },
   "file_extension": ".py",
   "mimetype": "text/x-python",
   "name": "python",
   "nbconvert_exporter": "python",
   "pygments_lexer": "ipython3",
   "version": "3.7.2"
  }
 },
 "nbformat": 4,
 "nbformat_minor": 2
}
