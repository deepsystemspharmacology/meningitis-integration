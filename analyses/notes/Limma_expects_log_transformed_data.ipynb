{
 "cells": [
  {
   "cell_type": "code",
   "execution_count": 1,
   "metadata": {},
   "outputs": [],
   "source": [
    "from helpers.utilities import *\n",
    "%run helpers/notebook_setup.ipynb"
   ]
  },
  {
   "cell_type": "markdown",
   "metadata": {},
   "source": [
    "While attempting to compare limma's results for log-transformed an non-transformed data, it was noticed (and brought up by Dr Tim) That the values of logFC produced by limma for non-transformed data are of wrong order of magnitude."
   ]
  },
  {
   "cell_type": "markdown",
   "metadata": {},
   "source": [
    "I have investigated the issue, following the limma calculations for non-transformed data step by step:"
   ]
  },
  {
   "cell_type": "code",
   "execution_count": 2,
   "metadata": {
    "tags": [
     "parameters"
    ]
   },
   "outputs": [],
   "source": [
    "indexed_by_target_path = 'data/clean/protein/indexed_by_target.csv'\n",
    "clinical_path = 'data/clean/protein/clinical_data_ordered_to_match_proteins_matrix.csv'"
   ]
  },
  {
   "cell_type": "code",
   "execution_count": 3,
   "metadata": {},
   "outputs": [],
   "source": [
    "clinical = read_csv(clinical_path, index_col=0)\n",
    "raw_protein_matrix = read_csv(indexed_by_target_path, index_col=0)"
   ]
  },
  {
   "cell_type": "code",
   "execution_count": 4,
   "metadata": {},
   "outputs": [],
   "source": [
    "by_condition = clinical.Meningitis"
   ]
  },
  {
   "cell_type": "code",
   "execution_count": 5,
   "metadata": {},
   "outputs": [],
   "source": [
    "tb_lysozyme = raw_protein_matrix[\n",
    "    raw_protein_matrix.columns[by_condition == 'Tuberculosis']\n",
    "].loc['Lysozyme'].mean()"
   ]
  },
  {
   "cell_type": "code",
   "execution_count": 6,
   "metadata": {},
   "outputs": [],
   "source": [
    "hc_lysozyme = raw_protein_matrix[\n",
    "    raw_protein_matrix.columns[by_condition == 'Healthy control']\n",
    "].loc['Lysozyme'].mean()"
   ]
  },
  {
   "cell_type": "code",
   "execution_count": 7,
   "metadata": {},
   "outputs": [
    {
     "data": {
      "text/plain": [
       "3.14204409697397"
      ]
     },
     "execution_count": 7,
     "metadata": {},
     "output_type": "execute_result"
    }
   ],
   "source": [
    "tb_lysozyme / hc_lysozyme"
   ]
  },
  {
   "cell_type": "code",
   "execution_count": 8,
   "metadata": {},
   "outputs": [
    {
     "data": {
      "text/plain": [
       "90648.31153846152"
      ]
     },
     "execution_count": 8,
     "metadata": {},
     "output_type": "execute_result"
    }
   ],
   "source": [
    "tb_lysozyme"
   ]
  },
  {
   "cell_type": "code",
   "execution_count": 9,
   "metadata": {},
   "outputs": [
    {
     "data": {
      "text/plain": [
       "28850.108000000004"
      ]
     },
     "execution_count": 9,
     "metadata": {},
     "output_type": "execute_result"
    }
   ],
   "source": [
    "hc_lysozyme"
   ]
  },
  {
   "cell_type": "markdown",
   "metadata": {},
   "source": [
    "While for the transformed data:"
   ]
  },
  {
   "cell_type": "code",
   "execution_count": 10,
   "metadata": {},
   "outputs": [],
   "source": [
    "from numpy import log10"
   ]
  },
  {
   "cell_type": "code",
   "execution_count": 11,
   "metadata": {},
   "outputs": [
    {
     "data": {
      "text/plain": [
       "4.957359719117039"
      ]
     },
     "execution_count": 11,
     "metadata": {},
     "output_type": "execute_result"
    }
   ],
   "source": [
    "log10(tb_lysozyme)"
   ]
  },
  {
   "cell_type": "code",
   "execution_count": 12,
   "metadata": {},
   "outputs": [
    {
     "data": {
      "text/plain": [
       "4.460147443270476"
      ]
     },
     "execution_count": 12,
     "metadata": {},
     "output_type": "execute_result"
    }
   ],
   "source": [
    "log10(hc_lysozyme)"
   ]
  },
  {
   "cell_type": "code",
   "execution_count": 13,
   "metadata": {},
   "outputs": [
    {
     "data": {
      "text/plain": [
       "1.1114788876759585"
      ]
     },
     "execution_count": 13,
     "metadata": {},
     "output_type": "execute_result"
    }
   ],
   "source": [
    "log10(tb_lysozyme) / log10(hc_lysozyme)"
   ]
  },
  {
   "cell_type": "code",
   "execution_count": 14,
   "metadata": {},
   "outputs": [],
   "source": [
    "protein_matrix = raw_protein_matrix.apply(log10)"
   ]
  },
  {
   "cell_type": "code",
   "execution_count": 15,
   "metadata": {},
   "outputs": [],
   "source": [
    "%%R -i protein_matrix -i by_condition\n",
    "import::here(space_to_dot, dot_to_space, .from='helpers/utilities.R')\n",
    "import::here(\n",
    "    limma_fit, limma_diff_ebayes, full_table,\n",
    "    design_from_conditions, calculate_means,\n",
    "    .from='helpers/differential_expression.R'\n",
    ")\n",
    "\n",
    "diff_ebayes = function(a, b, data=protein_matrix, conditions_vector=by_condition, ...) {\n",
    "    limma_diff_ebayes(a, b, data=data, conditions_vector=conditions_vector, ...)\n",
    "}"
   ]
  },
  {
   "cell_type": "code",
   "execution_count": 16,
   "metadata": {},
   "outputs": [],
   "source": [
    "%%R -o tb_all_proteins_raw -i raw_protein_matrix\n",
    "result = diff_ebayes('Tuberculosis', 'Healthy control', data=raw_protein_matrix)\n",
    "tb_all_proteins_raw = full_table(result)"
   ]
  },
  {
   "cell_type": "code",
   "execution_count": 17,
   "metadata": {},
   "outputs": [
    {
     "name": "stdout",
     "output_type": "stream",
     "text": [
      "                              logFC   AveExpr        t      P.Value\n",
      "Lysozyme                   61798.20  67997.26 12.34222 3.414236e-20\n",
      "TIMP-1                     65320.26  89128.78 11.82749 3.121111e-19\n",
      "IGFBP-4                   104840.02 186800.74 11.56193 9.882769e-19\n",
      "C3d                       124850.49  99248.92 11.43494 1.719287e-18\n",
      "Cyclophilin A             130136.76 117191.29 11.15072 5.970601e-18\n",
      "14-3-3 protein zeta/delta 141689.40 105857.89 10.58352 7.404860e-17\n",
      "                             adj.P.Val         B                   protein\n",
      "Lysozyme                  4.455578e-17 -4.254329                  Lysozyme\n",
      "TIMP-1                    2.036525e-16 -4.264678                    TIMP-1\n",
      "IGFBP-4                   4.299004e-16 -4.270296                   IGFBP-4\n",
      "C3d                       5.609172e-16 -4.273051                       C3d\n",
      "Cyclophilin A             1.558327e-15 -4.279385             Cyclophilin A\n",
      "14-3-3 protein zeta/delta 1.509659e-14 -4.292907 14-3-3 protein zeta/delta\n"
     ]
    }
   ],
   "source": [
    "%%R\n",
    "head(full_table(result, coef=1))"
   ]
  },
  {
   "cell_type": "code",
   "execution_count": 18,
   "metadata": {},
   "outputs": [
    {
     "name": "stdout",
     "output_type": "stream",
     "text": [
      "[1] 61798.2\n"
     ]
    }
   ],
   "source": [
    "%%R\n",
    "# logFC is taken from the coefficient of fit (result):\n",
    "# it seems that the coefficients do not represent the FC as would expected...\n",
    "result$coefficients['Lysozyme', ]"
   ]
  },
  {
   "cell_type": "markdown",
   "metadata": {},
   "source": [
    "We can trace it back to:"
   ]
  },
  {
   "cell_type": "code",
   "execution_count": 19,
   "metadata": {},
   "outputs": [],
   "source": [
    "%%R\n",
    "fit = limma_fit(\n",
    "    data=raw_protein_matrix, conditions_vector=by_condition,\n",
    "    a='Tuberculosis', b='Healthy control'\n",
    ")"
   ]
  },
  {
   "cell_type": "code",
   "execution_count": 20,
   "metadata": {},
   "outputs": [
    {
     "name": "stdout",
     "output_type": "stream",
     "text": [
      "[1] 61798.2\n"
     ]
    }
   ],
   "source": [
    "%%R\n",
    "fit$coefficients['Lysozyme', ]"
   ]
  },
  {
   "cell_type": "markdown",
   "metadata": {},
   "source": [
    "It changes when using using only the data from TB and HC, though it continues to produce large values:"
   ]
  },
  {
   "cell_type": "code",
   "execution_count": 21,
   "metadata": {},
   "outputs": [],
   "source": [
    "%%R\n",
    "fit = limma_fit(\n",
    "    data=raw_protein_matrix, conditions_vector=by_condition,\n",
    "    a='Tuberculosis', b='Healthy control', use_all=F\n",
    ")"
   ]
  },
  {
   "cell_type": "code",
   "execution_count": 22,
   "metadata": {},
   "outputs": [
    {
     "name": "stdout",
     "output_type": "stream",
     "text": [
      "Intercept     Group \n",
      " 59749.21  30899.10 \n"
     ]
    }
   ],
   "source": [
    "%%R\n",
    "fit$coefficients['Lysozyme', ]"
   ]
  },
  {
   "cell_type": "markdown",
   "metadata": {},
   "source": [
    "Getting back to the previous version, we can see that the meansare correctly calculated:"
   ]
  },
  {
   "cell_type": "code",
   "execution_count": 23,
   "metadata": {},
   "outputs": [],
   "source": [
    "%%R\n",
    "design <- design_from_conditions(by_condition)\n",
    "fit <- calculate_means(raw_protein_matrix, design)"
   ]
  },
  {
   "cell_type": "code",
   "execution_count": 24,
   "metadata": {},
   "outputs": [
    {
     "name": "stdout",
     "output_type": "stream",
     "text": [
      "    (Intercept) Healthy.control    Tuberculosis           Viral \n",
      "       84617.54       -55767.43         6030.77       -17925.30 \n"
     ]
    }
   ],
   "source": [
    "%%R\n",
    "fit$coefficients['Lysozyme', ]"
   ]
  },
  {
   "cell_type": "code",
   "execution_count": 25,
   "metadata": {},
   "outputs": [
    {
     "data": {
      "text/plain": [
       "(90648.31153846152, 28850.108000000004)"
      ]
     },
     "execution_count": 25,
     "metadata": {},
     "output_type": "execute_result"
    }
   ],
   "source": [
    "tb_lysozyme, hc_lysozyme"
   ]
  },
  {
   "cell_type": "code",
   "execution_count": 26,
   "metadata": {},
   "outputs": [
    {
     "name": "stdout",
     "output_type": "stream",
     "text": [
      "                 Contrasts\n",
      "Levels            Tuberculosis-Healthy.control\n",
      "  Intercept                                  0\n",
      "  Healthy.control                           -1\n",
      "  Tuberculosis                               1\n",
      "  Viral                                      0\n"
     ]
    }
   ],
   "source": [
    "%%R\n",
    "contrast_specification <- paste(\n",
    "    space_to_dot('Tuberculosis'),\n",
    "    space_to_dot('Healthy control'),\n",
    "    sep='-'\n",
    ")\n",
    "contrast.matrix <- limma::makeContrasts(contrasts=contrast_specification, levels=design)\n",
    "contrast.matrix"
   ]
  },
  {
   "cell_type": "markdown",
   "metadata": {},
   "source": [
    "There is only one step more:\n",
    "\n",
    "> fit <- limma::contrasts.fit(fit, contrast.matrix)\n",
    "\n",
    "so the problem must be here"
   ]
  },
  {
   "cell_type": "code",
   "execution_count": 27,
   "metadata": {},
   "outputs": [
    {
     "name": "stdout",
     "output_type": "stream",
     "text": [
      "[1] 61798.2\n"
     ]
    }
   ],
   "source": [
    "%%R\n",
    "fit_contrasted <- limma::contrasts.fit(fit, contrast.matrix)\n",
    "fit_contrasted$coefficients['Lysozyme', ]"
   ]
  },
  {
   "cell_type": "markdown",
   "metadata": {},
   "source": [
    "Note the result we got: 61798.20 is:"
   ]
  },
  {
   "cell_type": "code",
   "execution_count": 28,
   "metadata": {},
   "outputs": [
    {
     "data": {
      "text/plain": [
       "61798.203538461516"
      ]
     },
     "execution_count": 28,
     "metadata": {},
     "output_type": "execute_result"
    }
   ],
   "source": [
    "tb_lysozyme - hc_lysozyme"
   ]
  },
  {
   "cell_type": "code",
   "execution_count": 29,
   "metadata": {},
   "outputs": [
    {
     "name": "stdout",
     "output_type": "stream",
     "text": [
      "[1] 61798.2\n"
     ]
    }
   ],
   "source": [
    "%%R\n",
    "final_fit = limma::eBayes(fit_contrasted, trend=T, robust=T)\n",
    "final_fit$coefficients['Lysozyme', ]"
   ]
  },
  {
   "cell_type": "markdown",
   "metadata": {},
   "source": [
    "This shows that limma does not produce the fold change at all."
   ]
  },
  {
   "cell_type": "markdown",
   "metadata": {},
   "source": [
    "This is because it assumes that the data are log-transformed upfront. **If we gave it log-transformed data, the difference of logs would be equivalent to division.**"
   ]
  }
 ],
 "metadata": {
  "kernelspec": {
   "display_name": "Python 3",
   "language": "python",
   "name": "python3"
  },
  "language_info": {
   "codemirror_mode": {
    "name": "ipython",
    "version": 3
   },
   "file_extension": ".py",
   "mimetype": "text/x-python",
   "name": "python",
   "nbconvert_exporter": "python",
   "pygments_lexer": "ipython3",
   "version": "3.7.6"
  }
 },
 "nbformat": 4,
 "nbformat_minor": 4
}
