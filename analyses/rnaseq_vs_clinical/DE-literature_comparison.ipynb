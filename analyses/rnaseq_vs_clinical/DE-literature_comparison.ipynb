{
 "cells": [
  {
   "cell_type": "markdown",
   "metadata": {},
   "source": [
    "# Literature search"
   ]
  },
  {
   "cell_type": "markdown",
   "metadata": {},
   "source": [
    "RNA-seq human cells 2015 Mbt against 6 other pathogens https://www.ncbi.nlm.nih.gov/pmc/articles/PMC4653619/ also use limma+voom\n",
    "(found with https://jhubiostatistics.shinyapps.io/recount/, search phrase tuberculosis)"
   ]
  },
  {
   "cell_type": "code",
   "execution_count": null,
   "metadata": {},
   "outputs": [],
   "source": [
    "differential_expression_for_GSE67427 = read_table('data/GSE67427-table-s2.txt', index_col=0)\n",
    "differential_expression_for_GSE67427.head()"
   ]
  },
  {
   "cell_type": "markdown",
   "metadata": {},
   "source": [
    "- GC = Mycobacterium tuberculosis GC1237\n",
    "- Rv = Mycobacterium tuberculosis (MTB) H37Rv\n",
    "- Rv+ = heat-inactivated MTB H37Rv"
   ]
  },
  {
   "cell_type": "code",
   "execution_count": null,
   "metadata": {},
   "outputs": [],
   "source": [
    "# absent\n",
    "'ENSG00000269242' in differential_expression_for_GSE67427.index"
   ]
  },
  {
   "cell_type": "code",
   "execution_count": null,
   "metadata": {},
   "outputs": [],
   "source": [
    "# significant_deseq2\n",
    "# intersection_tmm\n",
    "# show_table(differential_expression_for_GSE67427.loc[significant_deseq2].sort_values('GC.48.adj.P.Val'))"
   ]
  },
  {
   "cell_type": "code",
   "execution_count": null,
   "metadata": {},
   "outputs": [],
   "source": [
    "def get_macrophage_differential_expression(prefix):\n",
    "    return differential_expression_for_GSE67427.rename(columns=lambda x: x.replace(prefix + '.', ''))"
   ]
  },
  {
   "cell_type": "code",
   "execution_count": null,
   "metadata": {},
   "outputs": [],
   "source": [
    "venn4({\n",
    "    'TBM in CSF against CM: voom-TMM': significant_ensembl(definite_tb_cm_limma_cmp_filtered['voom_tmm']),\n",
    "    'TBM in CSF against CM: DESeq2': significant_deseq2,\n",
    "    'TB GC 48h in macrophages (against healthy): voom-TMM': significant_ensembl(get_macrophage_differential_expression('GC.48')),\n",
    "    'TB RV 48h in macrophages (against healthy): voom-TMM': significant_ensembl(get_macrophage_differential_expression('Rv.48'))\n",
    "}, fill='percent');"
   ]
  },
  {
   "cell_type": "code",
   "execution_count": null,
   "metadata": {},
   "outputs": [],
   "source": [
    "venn4({\n",
    "    'TBM in CSF against CM: voom-TMM': significant_ensembl(definite_tb_cm_limma_cmp_filtered['voom_tmm']),\n",
    "    'TBM in CSF against CM: DESeq2': significant_deseq2,\n",
    "    'TB GC 4h in macrophages (against healthy): voom-TMM': significant_ensembl(get_macrophage_differential_expression('GC.4')),\n",
    "    'TB RV 4h in macrophages (against healthy): voom-TMM': significant_ensembl(get_macrophage_differential_expression('Rv.4'))\n",
    "}, fill='percent');"
   ]
  },
  {
   "cell_type": "code",
   "execution_count": null,
   "metadata": {},
   "outputs": [],
   "source": [
    "venn4({\n",
    "    'TBM in CSF against CM: voom-TMM': significant_ensembl(definite_tb_cm_limma_cmp_filtered['voom_tmm']),\n",
    "    'TBM in CSF against CM: DESeq2': significant_deseq2,\n",
    "    'Yers 48h in macrophages (against healthy): voom-TMM': significant_ensembl(get_macrophage_differential_expression('Yers.48')),\n",
    "    'Salm 48h in macrophages (against healthy): voom-TMM': significant_ensembl(get_macrophage_differential_expression('Salm.48'))\n",
    "}, fill='percent');"
   ]
  },
  {
   "cell_type": "markdown",
   "metadata": {},
   "source": [
    "Now, If I do TBM against everything and it improves the overlap percentage, we got (some kind of) an external validation!"
   ]
  }
 ],
 "metadata": {
  "kernelspec": {
   "display_name": "Python 3",
   "language": "python",
   "name": "python3"
  },
  "language_info": {
   "codemirror_mode": {
    "name": "ipython",
    "version": 3
   },
   "file_extension": ".py",
   "mimetype": "text/x-python",
   "name": "python",
   "nbconvert_exporter": "python",
   "pygments_lexer": "ipython3",
   "version": "3.7.6"
  }
 },
 "nbformat": 4,
 "nbformat_minor": 4
}
