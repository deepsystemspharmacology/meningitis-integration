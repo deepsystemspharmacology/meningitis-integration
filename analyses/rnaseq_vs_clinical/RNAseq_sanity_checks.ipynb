{
 "cells": [
  {
   "cell_type": "code",
   "execution_count": 1,
   "metadata": {},
   "outputs": [],
   "source": [
    "from helpers.utilities import *\n",
    "%run helpers/notebook_setup.ipynb"
   ]
  },
  {
   "cell_type": "code",
   "execution_count": 2,
   "metadata": {},
   "outputs": [],
   "source": [
    "%R source('plots/colors.R');"
   ]
  },
  {
   "cell_type": "code",
   "execution_count": 3,
   "metadata": {
    "tags": [
     "parameters",
     "inputs"
    ]
   },
   "outputs": [],
   "source": [
    "clinical_deseq2_path = 'data/clean/rna/clinical_data_ordered_to_match_rna_deseq2.csv'\n",
    "\n",
    "# normalized counts\n",
    "deseq2_path = 'data/clean/rna/all_samples.csv'"
   ]
  },
  {
   "cell_type": "code",
   "execution_count": 4,
   "metadata": {},
   "outputs": [],
   "source": [
    "clinical_deseq2 = read_csv(clinical_deseq2_path, index_col=0)\n",
    "\n",
    "raw_deseq2_matrix = read_csv(deseq2_path, index_col=[0, 1])"
   ]
  },
  {
   "cell_type": "code",
   "execution_count": 5,
   "metadata": {},
   "outputs": [],
   "source": [
    "raw_deseq2_matrix = raw_deseq2_matrix.reset_index()\n",
    "\n",
    "index_columns = raw_deseq2_matrix[['ensembl_id', 'ensembl_gene_id']]\n",
    "\n",
    "raw_deseq2_matrix = raw_deseq2_matrix.drop(columns=['ensembl_gene_id']).set_index('ensembl_id')"
   ]
  },
  {
   "cell_type": "code",
   "execution_count": 6,
   "metadata": {},
   "outputs": [],
   "source": [
    "by_condition = clinical_deseq2.Meningitis"
   ]
  },
  {
   "cell_type": "markdown",
   "metadata": {},
   "source": [
    "## Sanity checks:"
   ]
  },
  {
   "cell_type": "code",
   "execution_count": 7,
   "metadata": {},
   "outputs": [],
   "source": [
    "assert not index_columns.ensembl_id.duplicated().any()"
   ]
  },
  {
   "cell_type": "code",
   "execution_count": 8,
   "metadata": {},
   "outputs": [
    {
     "data": {
      "text/plain": [
       "0    ENSG00000000003\n",
       "1    ENSG00000000005\n",
       "2    ENSG00000000419\n",
       "3    ENSG00000000457\n",
       "4    ENSG00000000460\n",
       "Name: ensembl_id, dtype: object"
      ]
     },
     "execution_count": 8,
     "metadata": {},
     "output_type": "execute_result"
    }
   ],
   "source": [
    "index_columns.ensembl_id.head()"
   ]
  },
  {
   "cell_type": "markdown",
   "metadata": {},
   "source": [
    "However:"
   ]
  },
  {
   "cell_type": "code",
   "execution_count": 9,
   "metadata": {},
   "outputs": [
    {
     "data": {
      "text/plain": [
       "True"
      ]
     },
     "execution_count": 9,
     "metadata": {},
     "output_type": "execute_result"
    }
   ],
   "source": [
    "index_columns.ensembl_gene_id.duplicated().any()"
   ]
  },
  {
   "cell_type": "markdown",
   "metadata": {},
   "source": [
    "Interesting... These are not isoforms but have duplicates:"
   ]
  },
  {
   "cell_type": "code",
   "execution_count": 10,
   "metadata": {},
   "outputs": [
    {
     "data": {
      "text/html": [
       "<div>\n",
       "<style scoped>\n",
       "    .dataframe tbody tr th:only-of-type {\n",
       "        vertical-align: middle;\n",
       "    }\n",
       "\n",
       "    .dataframe tbody tr th {\n",
       "        vertical-align: top;\n",
       "    }\n",
       "\n",
       "    .dataframe thead th {\n",
       "        text-align: right;\n",
       "    }\n",
       "</style>\n",
       "<table border=\"1\" class=\"dataframe\">\n",
       "  <thead>\n",
       "    <tr style=\"text-align: right;\">\n",
       "      <th></th>\n",
       "      <th>ensembl_id</th>\n",
       "      <th>ensembl_gene_id</th>\n",
       "    </tr>\n",
       "  </thead>\n",
       "  <tbody>\n",
       "    <tr>\n",
       "      <th>8573</th>\n",
       "      <td>ENSG00000145416</td>\n",
       "      <td>36951</td>\n",
       "    </tr>\n",
       "    <tr>\n",
       "      <th>15840</th>\n",
       "      <td>ENSG00000186205</td>\n",
       "      <td>36951</td>\n",
       "    </tr>\n",
       "    <tr>\n",
       "      <th>2089</th>\n",
       "      <td>ENSG00000099785</td>\n",
       "      <td>37316</td>\n",
       "    </tr>\n",
       "    <tr>\n",
       "      <th>4707</th>\n",
       "      <td>ENSG00000117791</td>\n",
       "      <td>37316</td>\n",
       "    </tr>\n",
       "    <tr>\n",
       "      <th>28327</th>\n",
       "      <td>ENSG00000249738</td>\n",
       "      <td>AC008691.1</td>\n",
       "    </tr>\n",
       "    <tr>\n",
       "      <th>...</th>\n",
       "      <td>...</td>\n",
       "      <td>...</td>\n",
       "    </tr>\n",
       "    <tr>\n",
       "      <th>22243</th>\n",
       "      <td>ENSG00000228741</td>\n",
       "      <td>SPATA13</td>\n",
       "    </tr>\n",
       "    <tr>\n",
       "      <th>10056</th>\n",
       "      <td>ENSG00000158427</td>\n",
       "      <td>TMSB15B</td>\n",
       "    </tr>\n",
       "    <tr>\n",
       "      <th>34348</th>\n",
       "      <td>ENSG00000269226</td>\n",
       "      <td>TMSB15B</td>\n",
       "    </tr>\n",
       "    <tr>\n",
       "      <th>35935</th>\n",
       "      <td>ENSG00000273768</td>\n",
       "      <td>U1</td>\n",
       "    </tr>\n",
       "    <tr>\n",
       "      <th>36313</th>\n",
       "      <td>ENSG00000275405</td>\n",
       "      <td>U1</td>\n",
       "    </tr>\n",
       "  </tbody>\n",
       "</table>\n",
       "<p>75 rows × 2 columns</p>\n",
       "</div>"
      ],
      "text/plain": [
       "            ensembl_id ensembl_gene_id\n",
       "8573   ENSG00000145416           36951\n",
       "15840  ENSG00000186205           36951\n",
       "2089   ENSG00000099785           37316\n",
       "4707   ENSG00000117791           37316\n",
       "28327  ENSG00000249738      AC008691.1\n",
       "...                ...             ...\n",
       "22243  ENSG00000228741         SPATA13\n",
       "10056  ENSG00000158427         TMSB15B\n",
       "34348  ENSG00000269226         TMSB15B\n",
       "35935  ENSG00000273768              U1\n",
       "36313  ENSG00000275405              U1\n",
       "\n",
       "[75 rows x 2 columns]"
      ]
     },
     "execution_count": 10,
     "metadata": {},
     "output_type": "execute_result"
    }
   ],
   "source": [
    "duplicated = index_columns[index_columns.ensembl_gene_id.duplicated(keep=False)].sort_values('ensembl_gene_id')\n",
    "duplicated"
   ]
  },
  {
   "cell_type": "markdown",
   "metadata": {},
   "source": [
    "Pseudo-autosomal regions? Or just a redundant set?"
   ]
  },
  {
   "cell_type": "code",
   "execution_count": 11,
   "metadata": {},
   "outputs": [],
   "source": [
    "from pyensembl import EnsemblRelease\n",
    "\n",
    "ensembl = EnsemblRelease(95)"
   ]
  },
  {
   "cell_type": "code",
   "execution_count": 12,
   "metadata": {},
   "outputs": [],
   "source": [
    "from helpers.utilities import get_or_dummy, dummy\n",
    "\n",
    "def get_gene(gene_id):\n",
    "    return get_or_dummy(ensembl.gene_by_id, gene_id)"
   ]
  },
  {
   "cell_type": "code",
   "execution_count": 13,
   "metadata": {},
   "outputs": [],
   "source": [
    "duplicated_genes = duplicated.ensembl_id.apply(get_gene)"
   ]
  },
  {
   "cell_type": "markdown",
   "metadata": {},
   "source": [
    "Failed to map:"
   ]
  },
  {
   "cell_type": "code",
   "execution_count": 14,
   "metadata": {},
   "outputs": [
    {
     "data": {
      "text/html": [
       "<div>\n",
       "<style scoped>\n",
       "    .dataframe tbody tr th:only-of-type {\n",
       "        vertical-align: middle;\n",
       "    }\n",
       "\n",
       "    .dataframe tbody tr th {\n",
       "        vertical-align: top;\n",
       "    }\n",
       "\n",
       "    .dataframe thead th {\n",
       "        text-align: right;\n",
       "    }\n",
       "</style>\n",
       "<table border=\"1\" class=\"dataframe\">\n",
       "  <thead>\n",
       "    <tr style=\"text-align: right;\">\n",
       "      <th></th>\n",
       "      <th>ensembl_id</th>\n",
       "      <th>ensembl_gene_id</th>\n",
       "    </tr>\n",
       "  </thead>\n",
       "  <tbody>\n",
       "    <tr>\n",
       "      <th>29552</th>\n",
       "      <td>ENSG00000254199</td>\n",
       "      <td>AC008691.1</td>\n",
       "    </tr>\n",
       "    <tr>\n",
       "      <th>38510</th>\n",
       "      <td>ENSG00000283406</td>\n",
       "      <td>DGCR5</td>\n",
       "    </tr>\n",
       "    <tr>\n",
       "      <th>34184</th>\n",
       "      <td>ENSG00000268439</td>\n",
       "      <td>EMG1</td>\n",
       "    </tr>\n",
       "    <tr>\n",
       "      <th>26894</th>\n",
       "      <td>ENSG00000242150</td>\n",
       "      <td>RPS10P7</td>\n",
       "    </tr>\n",
       "  </tbody>\n",
       "</table>\n",
       "</div>"
      ],
      "text/plain": [
       "            ensembl_id ensembl_gene_id\n",
       "29552  ENSG00000254199  AC008691.1    \n",
       "38510  ENSG00000283406  DGCR5         \n",
       "34184  ENSG00000268439  EMG1          \n",
       "26894  ENSG00000242150  RPS10P7       "
      ]
     },
     "metadata": {},
     "output_type": "display_data"
    }
   ],
   "source": [
    "missing = duplicated[duplicated_genes == dummy]\n",
    "show_table(missing)"
   ]
  },
  {
   "cell_type": "markdown",
   "metadata": {},
   "source": [
    "The sex chromosomes do not appear to be enriched:"
   ]
  },
  {
   "cell_type": "code",
   "execution_count": 15,
   "metadata": {},
   "outputs": [
    {
     "data": {
      "text/html": [
       "<div>\n",
       "<style scoped>\n",
       "    .dataframe tbody tr th:only-of-type {\n",
       "        vertical-align: middle;\n",
       "    }\n",
       "\n",
       "    .dataframe tbody tr th {\n",
       "        vertical-align: top;\n",
       "    }\n",
       "\n",
       "    .dataframe thead th {\n",
       "        text-align: right;\n",
       "    }\n",
       "</style>\n",
       "<table border=\"1\" class=\"dataframe\">\n",
       "  <thead>\n",
       "    <tr style=\"text-align: right;\">\n",
       "      <th></th>\n",
       "      <th>1</th>\n",
       "      <th>2</th>\n",
       "      <th>22</th>\n",
       "      <th>7</th>\n",
       "      <th>10</th>\n",
       "      <th>21</th>\n",
       "      <th>3</th>\n",
       "      <th>5</th>\n",
       "      <th>12</th>\n",
       "      <th>17</th>\n",
       "      <th>16</th>\n",
       "      <th>9</th>\n",
       "      <th>X</th>\n",
       "      <th>4</th>\n",
       "      <th>8</th>\n",
       "      <th>13</th>\n",
       "      <th>19</th>\n",
       "      <th>KI270713.1</th>\n",
       "      <th>15</th>\n",
       "      <th>14</th>\n",
       "    </tr>\n",
       "  </thead>\n",
       "  <tbody>\n",
       "    <tr>\n",
       "      <th>ensembl_id</th>\n",
       "      <td>8</td>\n",
       "      <td>7</td>\n",
       "      <td>7</td>\n",
       "      <td>5</td>\n",
       "      <td>5</td>\n",
       "      <td>4</td>\n",
       "      <td>4</td>\n",
       "      <td>4</td>\n",
       "      <td>4</td>\n",
       "      <td>3</td>\n",
       "      <td>3</td>\n",
       "      <td>3</td>\n",
       "      <td>3</td>\n",
       "      <td>2</td>\n",
       "      <td>2</td>\n",
       "      <td>2</td>\n",
       "      <td>2</td>\n",
       "      <td>1</td>\n",
       "      <td>1</td>\n",
       "      <td>1</td>\n",
       "    </tr>\n",
       "  </tbody>\n",
       "</table>\n",
       "</div>"
      ],
      "text/plain": [
       "            1  2  22  7  10  21  3  5  12  17  16  9  X  4  8  13  19  \\\n",
       "ensembl_id  8  7  7   5  5   4   4  4  4   3   3   3  3  2  2  2   2    \n",
       "\n",
       "            KI270713.1  15  14  \n",
       "ensembl_id  1           1   1   "
      ]
     },
     "metadata": {},
     "output_type": "display_data"
    }
   ],
   "source": [
    "show_table(\n",
    "    duplicated_genes.apply(lambda gene: gene.contig).value_counts().to_frame().T\n",
    ")"
   ]
  },
  {
   "cell_type": "code",
   "execution_count": 16,
   "metadata": {},
   "outputs": [],
   "source": [
    "not_missing = duplicated_genes[~duplicated.ensembl_gene_id.isin(missing.ensembl_gene_id)]\n",
    "\n",
    "gene_data = DataFrame(not_missing.apply(lambda g: g.__dict__).to_list()).drop(['db', 'genome'], axis=1)"
   ]
  },
  {
   "cell_type": "code",
   "execution_count": 17,
   "metadata": {},
   "outputs": [
    {
     "data": {
      "text/html": [
       "<div>\n",
       "<style scoped>\n",
       "    .dataframe tbody tr th:only-of-type {\n",
       "        vertical-align: middle;\n",
       "    }\n",
       "\n",
       "    .dataframe tbody tr th {\n",
       "        vertical-align: top;\n",
       "    }\n",
       "\n",
       "    .dataframe thead th {\n",
       "        text-align: right;\n",
       "    }\n",
       "</style>\n",
       "<table border=\"1\" class=\"dataframe\">\n",
       "  <thead>\n",
       "    <tr style=\"text-align: right;\">\n",
       "      <th></th>\n",
       "      <th>contig</th>\n",
       "      <th>strand</th>\n",
       "      <th>start</th>\n",
       "      <th>end</th>\n",
       "      <th>biotype</th>\n",
       "      <th>gene_id</th>\n",
       "      <th>gene_name</th>\n",
       "    </tr>\n",
       "  </thead>\n",
       "  <tbody>\n",
       "    <tr>\n",
       "      <th>0</th>\n",
       "      <td>4</td>\n",
       "      <td>-</td>\n",
       "      <td>163524298</td>\n",
       "      <td>164384050</td>\n",
       "      <td>protein_coding</td>\n",
       "      <td>ENSG00000145416</td>\n",
       "      <td>MARCH1</td>\n",
       "    </tr>\n",
       "    <tr>\n",
       "      <th>1</th>\n",
       "      <td>1</td>\n",
       "      <td>+</td>\n",
       "      <td>220786759</td>\n",
       "      <td>220819657</td>\n",
       "      <td>protein_coding</td>\n",
       "      <td>ENSG00000186205</td>\n",
       "      <td>MARC1</td>\n",
       "    </tr>\n",
       "    <tr>\n",
       "      <th>2</th>\n",
       "      <td>19</td>\n",
       "      <td>+</td>\n",
       "      <td>8413270</td>\n",
       "      <td>8439017</td>\n",
       "      <td>protein_coding</td>\n",
       "      <td>ENSG00000099785</td>\n",
       "      <td>MARCH2</td>\n",
       "    </tr>\n",
       "    <tr>\n",
       "      <th>3</th>\n",
       "      <td>1</td>\n",
       "      <td>+</td>\n",
       "      <td>220748225</td>\n",
       "      <td>220784815</td>\n",
       "      <td>protein_coding</td>\n",
       "      <td>ENSG00000117791</td>\n",
       "      <td>MARC2</td>\n",
       "    </tr>\n",
       "    <tr>\n",
       "      <th>4</th>\n",
       "      <td>2</td>\n",
       "      <td>+</td>\n",
       "      <td>91940668</td>\n",
       "      <td>91942040</td>\n",
       "      <td>processed_pseudogene</td>\n",
       "      <td>ENSG00000226481</td>\n",
       "      <td>ACTR3BP2</td>\n",
       "    </tr>\n",
       "    <tr>\n",
       "      <th>...</th>\n",
       "      <td>...</td>\n",
       "      <td>...</td>\n",
       "      <td>...</td>\n",
       "      <td>...</td>\n",
       "      <td>...</td>\n",
       "      <td>...</td>\n",
       "      <td>...</td>\n",
       "    </tr>\n",
       "    <tr>\n",
       "      <th>62</th>\n",
       "      <td>13</td>\n",
       "      <td>+</td>\n",
       "      <td>23979810</td>\n",
       "      <td>24035027</td>\n",
       "      <td>lincRNA</td>\n",
       "      <td>ENSG00000228741</td>\n",
       "      <td>SPATA13</td>\n",
       "    </tr>\n",
       "    <tr>\n",
       "      <th>63</th>\n",
       "      <td>X</td>\n",
       "      <td>+</td>\n",
       "      <td>103918896</td>\n",
       "      <td>103966712</td>\n",
       "      <td>protein_coding</td>\n",
       "      <td>ENSG00000158427</td>\n",
       "      <td>TMSB15B</td>\n",
       "    </tr>\n",
       "    <tr>\n",
       "      <th>64</th>\n",
       "      <td>X</td>\n",
       "      <td>-</td>\n",
       "      <td>104063871</td>\n",
       "      <td>104076212</td>\n",
       "      <td>protein_coding</td>\n",
       "      <td>ENSG00000269226</td>\n",
       "      <td>TMSB15B</td>\n",
       "    </tr>\n",
       "    <tr>\n",
       "      <th>65</th>\n",
       "      <td>1</td>\n",
       "      <td>+</td>\n",
       "      <td>146376807</td>\n",
       "      <td>146376970</td>\n",
       "      <td>snRNA</td>\n",
       "      <td>ENSG00000273768</td>\n",
       "      <td>RF00003</td>\n",
       "    </tr>\n",
       "    <tr>\n",
       "      <th>66</th>\n",
       "      <td>KI270713.1</td>\n",
       "      <td>-</td>\n",
       "      <td>21861</td>\n",
       "      <td>22024</td>\n",
       "      <td>snRNA</td>\n",
       "      <td>ENSG00000275405</td>\n",
       "      <td>RF00003</td>\n",
       "    </tr>\n",
       "  </tbody>\n",
       "</table>\n",
       "<p>67 rows × 7 columns</p>\n",
       "</div>"
      ],
      "text/plain": [
       "        contig strand      start        end               biotype  \\\n",
       "0   4           -      163524298  164384050  protein_coding         \n",
       "1   1           +      220786759  220819657  protein_coding         \n",
       "2   19          +      8413270    8439017    protein_coding         \n",
       "3   1           +      220748225  220784815  protein_coding         \n",
       "4   2           +      91940668   91942040   processed_pseudogene   \n",
       ".. ..          ..           ...        ...                    ...   \n",
       "62  13          +      23979810   24035027   lincRNA                \n",
       "63  X           +      103918896  103966712  protein_coding         \n",
       "64  X           -      104063871  104076212  protein_coding         \n",
       "65  1           +      146376807  146376970  snRNA                  \n",
       "66  KI270713.1  -      21861      22024      snRNA                  \n",
       "\n",
       "            gene_id gene_name  \n",
       "0   ENSG00000145416  MARCH1    \n",
       "1   ENSG00000186205  MARC1     \n",
       "2   ENSG00000099785  MARCH2    \n",
       "3   ENSG00000117791  MARC2     \n",
       "4   ENSG00000226481  ACTR3BP2  \n",
       "..              ...       ...  \n",
       "62  ENSG00000228741  SPATA13   \n",
       "63  ENSG00000158427  TMSB15B   \n",
       "64  ENSG00000269226  TMSB15B   \n",
       "65  ENSG00000273768  RF00003   \n",
       "66  ENSG00000275405  RF00003   \n",
       "\n",
       "[67 rows x 7 columns]"
      ]
     },
     "metadata": {},
     "output_type": "display_data"
    }
   ],
   "source": [
    "show_table(gene_data)"
   ]
  },
  {
   "cell_type": "code",
   "execution_count": 18,
   "metadata": {},
   "outputs": [
    {
     "data": {
      "text/plain": [
       "protein_coding                        23\n",
       "misc_RNA                              17\n",
       "lincRNA                               10\n",
       "antisense                              6\n",
       "processed_transcript                   2\n",
       "transcribed_unprocessed_pseudogene     2\n",
       "snRNA                                  2\n",
       "processed_pseudogene                   2\n",
       "rRNA                                   2\n",
       "sense_overlapping                      1\n",
       "Name: biotype, dtype: int64"
      ]
     },
     "execution_count": 18,
     "metadata": {},
     "output_type": "execute_result"
    }
   ],
   "source": [
    "gene_data.biotype.value_counts()"
   ]
  },
  {
   "cell_type": "markdown",
   "metadata": {},
   "source": [
    "Copies on different chromosomes:"
   ]
  },
  {
   "cell_type": "code",
   "execution_count": 19,
   "metadata": {},
   "outputs": [
    {
     "data": {
      "text/html": [
       "<div>\n",
       "<style scoped>\n",
       "    .dataframe tbody tr th:only-of-type {\n",
       "        vertical-align: middle;\n",
       "    }\n",
       "\n",
       "    .dataframe tbody tr th {\n",
       "        vertical-align: top;\n",
       "    }\n",
       "\n",
       "    .dataframe thead th {\n",
       "        text-align: right;\n",
       "    }\n",
       "</style>\n",
       "<table border=\"1\" class=\"dataframe\">\n",
       "  <thead>\n",
       "    <tr style=\"text-align: right;\">\n",
       "      <th></th>\n",
       "      <th>contig</th>\n",
       "      <th>strand</th>\n",
       "      <th>start</th>\n",
       "      <th>end</th>\n",
       "      <th>biotype</th>\n",
       "      <th>gene_id</th>\n",
       "      <th>gene_name</th>\n",
       "    </tr>\n",
       "  </thead>\n",
       "  <tbody>\n",
       "    <tr>\n",
       "      <th>4</th>\n",
       "      <td>2</td>\n",
       "      <td>+</td>\n",
       "      <td>91940668</td>\n",
       "      <td>91942040</td>\n",
       "      <td>processed_pseudogene</td>\n",
       "      <td>ENSG00000226481</td>\n",
       "      <td>ACTR3BP2</td>\n",
       "    </tr>\n",
       "    <tr>\n",
       "      <th>5</th>\n",
       "      <td>22</td>\n",
       "      <td>+</td>\n",
       "      <td>16486985</td>\n",
       "      <td>16488322</td>\n",
       "      <td>processed_pseudogene</td>\n",
       "      <td>ENSG00000280263</td>\n",
       "      <td>ACTR3BP2</td>\n",
       "    </tr>\n",
       "    <tr>\n",
       "      <th>26</th>\n",
       "      <td>22</td>\n",
       "      <td>+</td>\n",
       "      <td>15746630</td>\n",
       "      <td>15778297</td>\n",
       "      <td>lincRNA</td>\n",
       "      <td>ENSG00000225255</td>\n",
       "      <td>LINC01297</td>\n",
       "    </tr>\n",
       "    <tr>\n",
       "      <th>27</th>\n",
       "      <td>14</td>\n",
       "      <td>-</td>\n",
       "      <td>19344578</td>\n",
       "      <td>19384587</td>\n",
       "      <td>lincRNA</td>\n",
       "      <td>ENSG00000274827</td>\n",
       "      <td>LINC01297</td>\n",
       "    </tr>\n",
       "    <tr>\n",
       "      <th>32</th>\n",
       "      <td>2</td>\n",
       "      <td>+</td>\n",
       "      <td>201097744</td>\n",
       "      <td>201098091</td>\n",
       "      <td>misc_RNA</td>\n",
       "      <td>ENSG00000273975</td>\n",
       "      <td>RF00017</td>\n",
       "    </tr>\n",
       "    <tr>\n",
       "      <th>...</th>\n",
       "      <td>...</td>\n",
       "      <td>...</td>\n",
       "      <td>...</td>\n",
       "      <td>...</td>\n",
       "      <td>...</td>\n",
       "      <td>...</td>\n",
       "      <td>...</td>\n",
       "    </tr>\n",
       "    <tr>\n",
       "      <th>46</th>\n",
       "      <td>1</td>\n",
       "      <td>+</td>\n",
       "      <td>29041199</td>\n",
       "      <td>29041480</td>\n",
       "      <td>misc_RNA</td>\n",
       "      <td>ENSG00000277958</td>\n",
       "      <td>RF00017</td>\n",
       "    </tr>\n",
       "    <tr>\n",
       "      <th>47</th>\n",
       "      <td>16</td>\n",
       "      <td>+</td>\n",
       "      <td>4658851</td>\n",
       "      <td>4659151</td>\n",
       "      <td>misc_RNA</td>\n",
       "      <td>ENSG00000278700</td>\n",
       "      <td>RF00017</td>\n",
       "    </tr>\n",
       "    <tr>\n",
       "      <th>48</th>\n",
       "      <td>17</td>\n",
       "      <td>-</td>\n",
       "      <td>45526466</td>\n",
       "      <td>45526746</td>\n",
       "      <td>misc_RNA</td>\n",
       "      <td>ENSG00000278770</td>\n",
       "      <td>RF00017</td>\n",
       "    </tr>\n",
       "    <tr>\n",
       "      <th>65</th>\n",
       "      <td>1</td>\n",
       "      <td>+</td>\n",
       "      <td>146376807</td>\n",
       "      <td>146376970</td>\n",
       "      <td>snRNA</td>\n",
       "      <td>ENSG00000273768</td>\n",
       "      <td>RF00003</td>\n",
       "    </tr>\n",
       "    <tr>\n",
       "      <th>66</th>\n",
       "      <td>KI270713.1</td>\n",
       "      <td>-</td>\n",
       "      <td>21861</td>\n",
       "      <td>22024</td>\n",
       "      <td>snRNA</td>\n",
       "      <td>ENSG00000275405</td>\n",
       "      <td>RF00003</td>\n",
       "    </tr>\n",
       "  </tbody>\n",
       "</table>\n",
       "<p>23 rows × 7 columns</p>\n",
       "</div>"
      ],
      "text/plain": [
       "        contig strand      start        end               biotype  \\\n",
       "4            2      +   91940668   91942040  processed_pseudogene   \n",
       "5           22      +   16486985   16488322  processed_pseudogene   \n",
       "26          22      +   15746630   15778297               lincRNA   \n",
       "27          14      -   19344578   19384587               lincRNA   \n",
       "32           2      +  201097744  201098091              misc_RNA   \n",
       "..         ...    ...        ...        ...                   ...   \n",
       "46           1      +   29041199   29041480              misc_RNA   \n",
       "47          16      +    4658851    4659151              misc_RNA   \n",
       "48          17      -   45526466   45526746              misc_RNA   \n",
       "65           1      +  146376807  146376970                 snRNA   \n",
       "66  KI270713.1      -      21861      22024                 snRNA   \n",
       "\n",
       "            gene_id  gene_name  \n",
       "4   ENSG00000226481   ACTR3BP2  \n",
       "5   ENSG00000280263   ACTR3BP2  \n",
       "26  ENSG00000225255  LINC01297  \n",
       "27  ENSG00000274827  LINC01297  \n",
       "32  ENSG00000273975    RF00017  \n",
       "..              ...        ...  \n",
       "46  ENSG00000277958    RF00017  \n",
       "47  ENSG00000278700    RF00017  \n",
       "48  ENSG00000278770    RF00017  \n",
       "65  ENSG00000273768    RF00003  \n",
       "66  ENSG00000275405    RF00003  \n",
       "\n",
       "[23 rows x 7 columns]"
      ]
     },
     "execution_count": 19,
     "metadata": {},
     "output_type": "execute_result"
    }
   ],
   "source": [
    "gene_data.groupby('gene_name').filter(lambda genes: len(set(genes.contig)) > 1)"
   ]
  },
  {
   "cell_type": "markdown",
   "metadata": {},
   "source": [
    "Conclusions\n",
    " - many non-protein coding genes (30+/67)\n",
    " - sometimes just a copy on another chromosome (23/67)\n",
    " - duplication due to alternative ORFs?"
   ]
  },
  {
   "cell_type": "markdown",
   "metadata": {},
   "source": [
    "## Closer look at the values"
   ]
  },
  {
   "cell_type": "code",
   "execution_count": 20,
   "metadata": {},
   "outputs": [
    {
     "data": {
      "text/html": [
       "<div>\n",
       "<style scoped>\n",
       "    .dataframe tbody tr th:only-of-type {\n",
       "        vertical-align: middle;\n",
       "    }\n",
       "\n",
       "    .dataframe tbody tr th {\n",
       "        vertical-align: top;\n",
       "    }\n",
       "\n",
       "    .dataframe thead th {\n",
       "        text-align: right;\n",
       "    }\n",
       "</style>\n",
       "<table border=\"1\" class=\"dataframe\">\n",
       "  <thead>\n",
       "    <tr style=\"text-align: right;\">\n",
       "      <th></th>\n",
       "      <th>001.TMD</th>\n",
       "      <th>006.CM</th>\n",
       "      <th>012.BM</th>\n",
       "      <th>016.CM</th>\n",
       "      <th>017.TMD</th>\n",
       "      <th>...</th>\n",
       "      <th>174.CM</th>\n",
       "      <th>011.TMR</th>\n",
       "      <th>043.TMS</th>\n",
       "      <th>078.CM</th>\n",
       "      <th>261.CM</th>\n",
       "    </tr>\n",
       "    <tr>\n",
       "      <th>ensembl_id</th>\n",
       "      <th></th>\n",
       "      <th></th>\n",
       "      <th></th>\n",
       "      <th></th>\n",
       "      <th></th>\n",
       "      <th></th>\n",
       "      <th></th>\n",
       "      <th></th>\n",
       "      <th></th>\n",
       "      <th></th>\n",
       "      <th></th>\n",
       "    </tr>\n",
       "  </thead>\n",
       "  <tbody>\n",
       "    <tr>\n",
       "      <th>ENSG00000000003</th>\n",
       "      <td>11.596119</td>\n",
       "      <td>7.806308</td>\n",
       "      <td>1.391555</td>\n",
       "      <td>39.347366</td>\n",
       "      <td>24.765008</td>\n",
       "      <td>...</td>\n",
       "      <td>4.431071</td>\n",
       "      <td>51.810470</td>\n",
       "      <td>35.628629</td>\n",
       "      <td>0.000000</td>\n",
       "      <td>20.705553</td>\n",
       "    </tr>\n",
       "    <tr>\n",
       "      <th>ENSG00000000005</th>\n",
       "      <td>0.000000</td>\n",
       "      <td>0.000000</td>\n",
       "      <td>0.000000</td>\n",
       "      <td>2.459210</td>\n",
       "      <td>0.000000</td>\n",
       "      <td>...</td>\n",
       "      <td>0.000000</td>\n",
       "      <td>11.102244</td>\n",
       "      <td>0.000000</td>\n",
       "      <td>0.000000</td>\n",
       "      <td>4.141111</td>\n",
       "    </tr>\n",
       "    <tr>\n",
       "      <th>ENSG00000000419</th>\n",
       "      <td>0.000000</td>\n",
       "      <td>31.225230</td>\n",
       "      <td>36.876198</td>\n",
       "      <td>0.000000</td>\n",
       "      <td>72.313823</td>\n",
       "      <td>...</td>\n",
       "      <td>25.478656</td>\n",
       "      <td>11.102244</td>\n",
       "      <td>0.000000</td>\n",
       "      <td>161.520987</td>\n",
       "      <td>39.754662</td>\n",
       "    </tr>\n",
       "    <tr>\n",
       "      <th>ENSG00000000457</th>\n",
       "      <td>127.557309</td>\n",
       "      <td>145.717740</td>\n",
       "      <td>86.276387</td>\n",
       "      <td>95.909204</td>\n",
       "      <td>123.825040</td>\n",
       "      <td>...</td>\n",
       "      <td>121.854440</td>\n",
       "      <td>96.219444</td>\n",
       "      <td>3.958737</td>\n",
       "      <td>92.395480</td>\n",
       "      <td>125.889763</td>\n",
       "    </tr>\n",
       "    <tr>\n",
       "      <th>ENSG00000000460</th>\n",
       "      <td>46.384476</td>\n",
       "      <td>0.000000</td>\n",
       "      <td>50.791744</td>\n",
       "      <td>51.643418</td>\n",
       "      <td>14.859005</td>\n",
       "      <td>...</td>\n",
       "      <td>33.233029</td>\n",
       "      <td>49.960096</td>\n",
       "      <td>38.267787</td>\n",
       "      <td>0.000000</td>\n",
       "      <td>30.644219</td>\n",
       "    </tr>\n",
       "  </tbody>\n",
       "</table>\n",
       "<p>5 rows × 49 columns</p>\n",
       "</div>"
      ],
      "text/plain": [
       "                    001.TMD      006.CM     012.BM     016.CM     017.TMD  \\\n",
       "ensembl_id                                                                  \n",
       "ENSG00000000003   11.596119    7.806308   1.391555  39.347366   24.765008   \n",
       "ENSG00000000005    0.000000    0.000000   0.000000   2.459210    0.000000   \n",
       "ENSG00000000419    0.000000   31.225230  36.876198   0.000000   72.313823   \n",
       "ENSG00000000457  127.557309  145.717740  86.276387  95.909204  123.825040   \n",
       "ENSG00000000460   46.384476    0.000000  50.791744  51.643418   14.859005   \n",
       "\n",
       "                 ...      174.CM    011.TMR    043.TMS      078.CM      261.CM  \n",
       "ensembl_id       ...                                                            \n",
       "ENSG00000000003  ...    4.431071  51.810470  35.628629    0.000000   20.705553  \n",
       "ENSG00000000005  ...    0.000000  11.102244   0.000000    0.000000    4.141111  \n",
       "ENSG00000000419  ...   25.478656  11.102244   0.000000  161.520987   39.754662  \n",
       "ENSG00000000457  ...  121.854440  96.219444   3.958737   92.395480  125.889763  \n",
       "ENSG00000000460  ...   33.233029  49.960096  38.267787    0.000000   30.644219  \n",
       "\n",
       "[5 rows x 49 columns]"
      ]
     },
     "execution_count": 20,
     "metadata": {},
     "output_type": "execute_result"
    }
   ],
   "source": [
    "raw_deseq2_matrix.head()"
   ]
  },
  {
   "cell_type": "code",
   "execution_count": 21,
   "metadata": {},
   "outputs": [],
   "source": [
    "stacked = raw_deseq2_matrix.melt(var_name='patient', value_name='normalised_count')"
   ]
  },
  {
   "cell_type": "code",
   "execution_count": 22,
   "metadata": {},
   "outputs": [],
   "source": [
    "from plots.annotations import tuberculosis_status"
   ]
  },
  {
   "cell_type": "code",
   "execution_count": 23,
   "metadata": {},
   "outputs": [],
   "source": [
    "stacked['group'] = stacked.patient.map(by_condition)\n",
    "stacked['TB_status'] = stacked.patient.apply(lambda patient: patient.split('.')[1]).map(tuberculosis_status).fillna('-')"
   ]
  },
  {
   "cell_type": "code",
   "execution_count": 24,
   "metadata": {},
   "outputs": [
    {
     "data": {
      "text/html": [
       "<div>\n",
       "<style scoped>\n",
       "    .dataframe tbody tr th:only-of-type {\n",
       "        vertical-align: middle;\n",
       "    }\n",
       "\n",
       "    .dataframe tbody tr th {\n",
       "        vertical-align: top;\n",
       "    }\n",
       "\n",
       "    .dataframe thead th {\n",
       "        text-align: right;\n",
       "    }\n",
       "</style>\n",
       "<table border=\"1\" class=\"dataframe\">\n",
       "  <thead>\n",
       "    <tr style=\"text-align: right;\">\n",
       "      <th></th>\n",
       "      <th>patient</th>\n",
       "      <th>normalised_count</th>\n",
       "      <th>group</th>\n",
       "      <th>TB_status</th>\n",
       "    </tr>\n",
       "  </thead>\n",
       "  <tbody>\n",
       "    <tr>\n",
       "      <th>0</th>\n",
       "      <td>001.TMD</td>\n",
       "      <td>11.596119</td>\n",
       "      <td>Tuberculosis</td>\n",
       "      <td>Definite</td>\n",
       "    </tr>\n",
       "    <tr>\n",
       "      <th>1</th>\n",
       "      <td>001.TMD</td>\n",
       "      <td>0.000000</td>\n",
       "      <td>Tuberculosis</td>\n",
       "      <td>Definite</td>\n",
       "    </tr>\n",
       "    <tr>\n",
       "      <th>2</th>\n",
       "      <td>001.TMD</td>\n",
       "      <td>0.000000</td>\n",
       "      <td>Tuberculosis</td>\n",
       "      <td>Definite</td>\n",
       "    </tr>\n",
       "    <tr>\n",
       "      <th>3</th>\n",
       "      <td>001.TMD</td>\n",
       "      <td>127.557309</td>\n",
       "      <td>Tuberculosis</td>\n",
       "      <td>Definite</td>\n",
       "    </tr>\n",
       "    <tr>\n",
       "      <th>4</th>\n",
       "      <td>001.TMD</td>\n",
       "      <td>46.384476</td>\n",
       "      <td>Tuberculosis</td>\n",
       "      <td>Definite</td>\n",
       "    </tr>\n",
       "  </tbody>\n",
       "</table>\n",
       "</div>"
      ],
      "text/plain": [
       "   patient  normalised_count         group TB_status\n",
       "0  001.TMD         11.596119  Tuberculosis  Definite\n",
       "1  001.TMD          0.000000  Tuberculosis  Definite\n",
       "2  001.TMD          0.000000  Tuberculosis  Definite\n",
       "3  001.TMD        127.557309  Tuberculosis  Definite\n",
       "4  001.TMD         46.384476  Tuberculosis  Definite"
      ]
     },
     "execution_count": 24,
     "metadata": {},
     "output_type": "execute_result"
    }
   ],
   "source": [
    "stacked.head()"
   ]
  },
  {
   "cell_type": "code",
   "execution_count": 25,
   "metadata": {},
   "outputs": [],
   "source": [
    "%R -i stacked"
   ]
  },
  {
   "cell_type": "code",
   "execution_count": 26,
   "metadata": {},
   "outputs": [
    {
     "data": {
      "image/png": "[encoded data removed]"
     },
     "metadata": {},
     "output_type": "display_data"
    }
   ],
   "source": [
    "%%R\n",
    "(\n",
    "    ggplot(stacked, aes(x=group, y=log10(normalised_count), fill=group))\n",
    "    + geom_violin()\n",
    "    + geom_boxplot(fill='white', width=.05)\n",
    "    + scale_fill_manual(values=patient_colors$Meningitis)\n",
    "    + theme(legend.position='bottom')\n",
    ")"
   ]
  },
  {
   "cell_type": "code",
   "execution_count": 27,
   "metadata": {},
   "outputs": [
    {
     "data": {
      "image/png": "[encoded data removed]"
     },
     "metadata": {},
     "output_type": "display_data"
    }
   ],
   "source": [
    "%%R -w 800\n",
    "(\n",
    "    ggplot(stacked, aes(x=reorder(patient, normalised_count), y=log10(normalised_count)))\n",
    "    + facet_wrap('~ group', scale='free_x')\n",
    "    + geom_boxplot(notch=T)\n",
    "    + theme(axis.text.x = element_text(angle = 90))\n",
    ")"
   ]
  },
  {
   "cell_type": "code",
   "execution_count": 28,
   "metadata": {},
   "outputs": [
    {
     "data": {
      "image/png": "[encoded data removed]"
     },
     "metadata": {},
     "output_type": "display_data"
    }
   ],
   "source": [
    "%%R -w 800\n",
    "(\n",
    "    ggplot(\n",
    "        stacked[stacked$group == 'Tuberculosis', ],\n",
    "        aes(x=reorder(patient, normalised_count), y=log10(normalised_count))\n",
    "    )\n",
    "    + facet_grid('~ TB_status', scale='free_x', space='free_x')\n",
    "    + geom_boxplot(notch=T)\n",
    "    + scale_fill_manual(values=patient_colors$Meningitis)\n",
    "    + theme(axis.text.x = element_text(angle = 90))\n",
    ")"
   ]
  },
  {
   "cell_type": "markdown",
   "metadata": {},
   "source": [
    "Note: These are already normalised (DESeq2) counts."
   ]
  }
 ],
 "metadata": {
  "kernelspec": {
   "display_name": "Python 3",
   "language": "python",
   "name": "python3"
  },
  "language_info": {
   "codemirror_mode": {
    "name": "ipython",
    "version": 3
   },
   "file_extension": ".py",
   "mimetype": "text/x-python",
   "name": "python",
   "nbconvert_exporter": "python",
   "pygments_lexer": "ipython3",
   "version": "3.7.6"
  }
 },
 "nbformat": 4,
 "nbformat_minor": 4
}
