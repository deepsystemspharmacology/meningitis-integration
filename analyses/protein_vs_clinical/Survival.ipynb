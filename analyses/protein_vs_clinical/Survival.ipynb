{
 "cells": [
  {
   "cell_type": "code",
   "execution_count": 1,
   "metadata": {},
   "outputs": [],
   "source": [
    "from helpers.utilities import *\n",
    "%run helpers/notebook_setup.ipynb"
   ]
  },
  {
   "cell_type": "code",
   "execution_count": 2,
   "metadata": {},
   "outputs": [],
   "source": [
    "%R source('plots/colors.R');"
   ]
  },
  {
   "cell_type": "code",
   "execution_count": 3,
   "metadata": {
    "tags": [
     "parameters"
    ]
   },
   "outputs": [],
   "source": [
    "clinical_path = 'data/clean/clinical/data_with_derived_variables.csv'\n",
    "zz_log_path = 'data/clean/protein/zz_log_10.csv'"
   ]
  },
  {
   "cell_type": "markdown",
   "metadata": {},
   "source": [
    "I am using double z-score transformed log10 abundance levels here. This has an advantage of reducing the effect of technical variation (i.e. more material taken from a patient) and in the second step - centering the protein levels around the mean (so that we can separate easily into two groups i.e. low and high),"
   ]
  },
  {
   "cell_type": "code",
   "execution_count": 4,
   "metadata": {},
   "outputs": [],
   "source": [
    "clinical = read_csv(clinical_path, index_col=0)\n",
    "protein_levels = read_csv(zz_log_path, index_col=0)"
   ]
  },
  {
   "cell_type": "markdown",
   "metadata": {},
   "source": [
    "## Survival analysis"
   ]
  },
  {
   "cell_type": "markdown",
   "metadata": {},
   "source": [
    "Also see the survival analysis on clinical variables only: [Clinical_survival.ipynb](../Clinical_survival.ipynb)."
   ]
  },
  {
   "cell_type": "markdown",
   "metadata": {},
   "source": [
    "How feasible is survival analysis for protein data?"
   ]
  },
  {
   "cell_type": "code",
   "execution_count": 5,
   "metadata": {},
   "outputs": [
    {
     "data": {
      "text/plain": [
       "23"
      ]
     },
     "execution_count": 5,
     "metadata": {},
     "output_type": "execute_result"
    }
   ],
   "source": [
    "sum(~clinical['survival'].isnull())"
   ]
  },
  {
   "cell_type": "markdown",
   "metadata": {},
   "source": [
    "Feasible (15/22 patients ho have deceased have protein data), but any split (esp. other than in half) will have little power, though the censored data may be informative too."
   ]
  },
  {
   "cell_type": "markdown",
   "metadata": {},
   "source": [
    "Important piece: https://www.ncbi.nlm.nih.gov/pmc/articles/PMC3071962/"
   ]
  },
  {
   "cell_type": "code",
   "execution_count": 6,
   "metadata": {},
   "outputs": [],
   "source": [
    "pd.options.mode.chained_assignment = None\n",
    "c = clinical[['censored_survival', 'Death', 'Sex', 'HIVResult', 'Meningitis', 'Tuberculosis']]"
   ]
  },
  {
   "cell_type": "code",
   "execution_count": 7,
   "metadata": {},
   "outputs": [],
   "source": [
    "data = concat([protein_levels.T, c], axis=1)"
   ]
  },
  {
   "cell_type": "code",
   "execution_count": 8,
   "metadata": {},
   "outputs": [
    {
     "name": "stdout",
     "output_type": "stream",
     "text": [
      "Loading required package: ggpubr\n",
      "Loading required package: magrittr\n"
     ]
    }
   ],
   "source": [
    "%%R\n",
    "library(\"survminer\")\n",
    "library(\"survival\")\n",
    "source('helpers/survival.R')"
   ]
  },
  {
   "cell_type": "code",
   "execution_count": 9,
   "metadata": {},
   "outputs": [],
   "source": [
    "data['Albumin_high_low'] = (data['Albumin'] > 0).map({True: 'High', False: 'Low'})"
   ]
  },
  {
   "cell_type": "code",
   "execution_count": 10,
   "metadata": {},
   "outputs": [
    {
     "data": {
      "image/png": "[encoded data removed]"
     },
     "metadata": {},
     "output_type": "display_data"
    }
   ],
   "source": [
    "%%R -i data\n",
    "fit <- survfit(Surv(data$censored_survival, data$Death) ~ Albumin_high_low, data=data)\n",
    "strata = strip_strata_prefix(fit)\n",
    "\n",
    "ggsurvplot(\n",
    "    fit, data=data,\n",
    "    legend.labs=strata,\n",
    "    risk.table=T, ggtheme=theme_bw()\n",
    ")"
   ]
  }
 ],
 "metadata": {
  "kernelspec": {
   "display_name": "Python 3",
   "language": "python",
   "name": "python3"
  },
  "language_info": {
   "codemirror_mode": {
    "name": "ipython",
    "version": 3
   },
   "file_extension": ".py",
   "mimetype": "text/x-python",
   "name": "python",
   "nbconvert_exporter": "python",
   "pygments_lexer": "ipython3",
   "version": "3.7.6"
  }
 },
 "nbformat": 4,
 "nbformat_minor": 4
}
