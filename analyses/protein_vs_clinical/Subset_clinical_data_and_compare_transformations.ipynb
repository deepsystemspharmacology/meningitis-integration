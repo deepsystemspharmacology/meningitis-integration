{
 "cells": [
  {
   "cell_type": "code",
   "execution_count": 1,
   "metadata": {},
   "outputs": [],
   "source": [
    "from helpers.utilities import *\n",
    "%run helpers/notebook_setup.ipynb"
   ]
  },
  {
   "cell_type": "code",
   "execution_count": 2,
   "metadata": {
    "tags": [
     "parameters"
    ]
   },
   "outputs": [],
   "source": [
    "indexed_by_target_path = 'data/clean/protein/indexed_by_target.csv'\n",
    "patients_variance_at_one_path ='data/clean/protein/z_log_10-patients_variance_at_one.csv'\n",
    "zz_log_path = 'data/clean/protein/zz_log_10.csv'\n",
    "log_matrix_path = 'data/clean/protein/log_10.csv'\n",
    "\n",
    "clinical_path = 'data/clean/clinical/data_with_derived_variables.csv'\n",
    "\n",
    "# output\n",
    "subset_path = 'data/clean/protein/clinical_data_ordered_to_match_proteins_matrix.csv'"
   ]
  },
  {
   "cell_type": "code",
   "execution_count": 3,
   "metadata": {},
   "outputs": [],
   "source": [
    "clinical_data = read_csv(clinical_path, index_col=0)\n",
    "\n",
    "raw_protein_matrix = read_csv(indexed_by_target_path, index_col=0)\n",
    "log_matrix = read_csv(log_matrix_path, index_col=0)\n",
    "zz_log_matrix = read_csv(zz_log_path, index_col=0)\n",
    "patients_variance_at_one = read_csv(patients_variance_at_one_path, index_col=0)"
   ]
  },
  {
   "cell_type": "markdown",
   "metadata": {},
   "source": [
    "Take only rows for patients with protein abundance data, ordered to match the `raw_protein_matrix` data frame:"
   ]
  },
  {
   "cell_type": "code",
   "execution_count": 4,
   "metadata": {},
   "outputs": [],
   "source": [
    "ordered_clinical_data = clinical_data.loc[raw_protein_matrix.columns]\n",
    "ordered_clinical_data.to_csv(subset_path)\n",
    "\n",
    "# just in case, so I won't incidentally use the unordered df:\n",
    "del clinical_data"
   ]
  },
  {
   "cell_type": "markdown",
   "metadata": {},
   "source": [
    "Verify that the columns order matches for all protein matrices:"
   ]
  },
  {
   "cell_type": "code",
   "execution_count": 5,
   "metadata": {},
   "outputs": [],
   "source": [
    "for matrix in [raw_protein_matrix, log_matrix, zz_log_matrix, patients_variance_at_one]:\n",
    "    assert (ordered_clinical_data.index == matrix.columns).all()"
   ]
  }
 ],
 "metadata": {
  "kernelspec": {
   "display_name": "Python 3",
   "language": "python",
   "name": "python3"
  },
  "language_info": {
   "codemirror_mode": {
    "name": "ipython",
    "version": 3
   },
   "file_extension": ".py",
   "mimetype": "text/x-python",
   "name": "python",
   "nbconvert_exporter": "python",
   "pygments_lexer": "ipython3",
   "version": "3.7.2"
  }
 },
 "nbformat": 4,
 "nbformat_minor": 2
}
