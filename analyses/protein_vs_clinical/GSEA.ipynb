{
 "cells": [
  {
   "cell_type": "code",
   "execution_count": 1,
   "metadata": {},
   "outputs": [],
   "source": [
    "from helpers.utilities import *\n",
    "%run helpers/notebook_setup.ipynb"
   ]
  },
  {
   "cell_type": "code",
   "execution_count": 2,
   "metadata": {},
   "outputs": [],
   "source": [
    "%R source('plots/colors.R');"
   ]
  },
  {
   "cell_type": "code",
   "execution_count": 3,
   "metadata": {
    "tags": [
     "parameters"
    ]
   },
   "outputs": [],
   "source": [
    "indexed_by_target_path = 'data/clean/protein/indexed_by_target.csv'\n",
    "clinical_path = 'data/clean/protein/clinical_data_ordered_to_match_proteins_matrix.csv'\n",
    "\n",
    "raw_gene_path = 'data/clean/protein/gene_levels_by_entrez.csv'\n",
    "target_to_entrez_path = 'data/clean/protein/protein_to_entrez.csv'\n",
    "\n",
    "log_matrix_filtered_path = 'data/clean/protein/log_10_filtered.csv'"
   ]
  },
  {
   "cell_type": "code",
   "execution_count": 4,
   "metadata": {},
   "outputs": [],
   "source": [
    "clinical = read_csv(clinical_path, index_col=0)\n",
    "raw_protein_matrix = read_csv(indexed_by_target_path, index_col=0)"
   ]
  },
  {
   "cell_type": "code",
   "execution_count": 5,
   "metadata": {},
   "outputs": [],
   "source": [
    "# note: this is already limitted to the patients having the protein measurments\n",
    "by_condition = clinical.Meningitis"
   ]
  },
  {
   "cell_type": "code",
   "execution_count": 6,
   "metadata": {},
   "outputs": [],
   "source": [
    "%%R -i raw_protein_matrix -i by_condition\n",
    "import::here(space_to_dot, dot_to_space, .from='helpers/utilities.R')\n",
    "import::here(\n",
    "    design_from_conditions, calculate_means, limma_fit,\n",
    "    .from='helpers/differential_expression.R'\n",
    ")"
   ]
  },
  {
   "cell_type": "code",
   "execution_count": 7,
   "metadata": {},
   "outputs": [],
   "source": [
    "protein_matrix = read_csv(log_matrix_filtered_path, index_col=0)"
   ]
  },
  {
   "cell_type": "code",
   "execution_count": 8,
   "metadata": {},
   "outputs": [],
   "source": [
    "%%R -i by_condition -i protein_matrix\n",
    "\n",
    "limma_protein_fit = function(data=protein_matrix, conditions_vector=by_condition, ...) {\n",
    "    limma_fit(data=data, conditions_vector=conditions_vector, ...)\n",
    "}\n",
    "\n",
    "diff_ebayes <- function(a, b, ...) {\n",
    "    fit = limma_protein_fit(a=a, b=b, ...)\n",
    "    limma::eBayes(fit, trend=T, robust=T)\n",
    "}"
   ]
  },
  {
   "cell_type": "markdown",
   "metadata": {},
   "source": [
    "## Gene set enrichment"
   ]
  },
  {
   "cell_type": "code",
   "execution_count": 9,
   "metadata": {},
   "outputs": [],
   "source": [
    "from gsea_api.molecular_signatures_db import MolecularSignaturesDatabase\n",
    "\n",
    "db = MolecularSignaturesDatabase('data/msigdb', version='6.2')"
   ]
  },
  {
   "cell_type": "code",
   "execution_count": 10,
   "metadata": {},
   "outputs": [],
   "source": [
    "from helpers.gse import collection_to_R, formatter_to_fix_letter_case, calculate_overlap"
   ]
  },
  {
   "cell_type": "markdown",
   "metadata": {},
   "source": [
    "Actually, the GMT files in MSigDB are old (released 16-Jul-2018 as a point release with only minor changes).\n",
    "\n",
    "Let's fetch a recent GMT directly from Reactome; `data/ReactomePathways.gmt`, downloaded with `download.sh` script on:"
   ]
  },
  {
   "cell_type": "code",
   "execution_count": 11,
   "metadata": {},
   "outputs": [
    {
     "name": "stdout",
     "output_type": "stream",
     "text": [
      "-rw-r--r-- 1 krassowski krassowski 845606 Mar 12 16:56 data/ReactomePathways.gmt\n"
     ]
    }
   ],
   "source": [
    "!ls data/ReactomePathways.gmt -l"
   ]
  },
  {
   "cell_type": "code",
   "execution_count": 12,
   "metadata": {},
   "outputs": [],
   "source": [
    "from gsea_api.molecular_signatures_db import GeneMatrixTransposed"
   ]
  },
  {
   "cell_type": "code",
   "execution_count": 13,
   "metadata": {},
   "outputs": [
    {
     "name": "stderr",
     "output_type": "stream",
     "text": [
      "/home/krassowski/.pyenv/versions/3.7.6/envs/meningitis/lib/python3.7/site-packages/gsea_api/molecular_signatures_db.py:65: UserWarning: Provided gene sets are not redundant; there are 117 gene sets having more than one name assigned; use `find_redundant()` to investigate further.\n",
      "  warn(message)\n"
     ]
    }
   ],
   "source": [
    "reactome_new_symbol = GeneMatrixTransposed.from_gmt('data/ReactomePathways.gmt', name='reactome_new_symbol')\n",
    "\n",
    "# use the recent Reactome to improve the pathways name formatting in MSigDB for increased readability \n",
    "try_to_fix_letter_case = formatter_to_fix_letter_case(reactome_new_symbol)\n",
    "\n",
    "reactome_pathways_entrez = db.load(gene_sets='c2.cp.reactome', id_type='entrez').format_names(try_to_fix_letter_case)\n",
    "reactome_pathways_symbol = db.load(gene_sets='c2.cp.reactome', id_type='symbols').format_names(try_to_fix_letter_case)"
   ]
  },
  {
   "cell_type": "markdown",
   "metadata": {},
   "source": [
    "Simple symbol-based protein-gene matching performs poorly:"
   ]
  },
  {
   "cell_type": "code",
   "execution_count": 14,
   "metadata": {},
   "outputs": [
    {
     "name": "stdout",
     "output_type": "stream",
     "text": [
      "12.92%\n"
     ]
    }
   ],
   "source": [
    "calculate_overlap(reactome_pathways_symbol, protein_matrix)"
   ]
  },
  {
   "cell_type": "markdown",
   "metadata": {},
   "source": [
    "And the full, recent Reactome version provides only moderate improvement:"
   ]
  },
  {
   "cell_type": "code",
   "execution_count": 15,
   "metadata": {},
   "outputs": [
    {
     "name": "stdout",
     "output_type": "stream",
     "text": [
      "21.08%\n"
     ]
    }
   ],
   "source": [
    "calculate_overlap(reactome_new_symbol, protein_matrix)"
   ]
  },
  {
   "cell_type": "markdown",
   "metadata": {},
   "source": [
    "Instead I will use Entrez ID based mapping, as described in [Gene_level_mapping.ipynb](Gene_level_mapping.ipynb) notebook:"
   ]
  },
  {
   "cell_type": "code",
   "execution_count": 16,
   "metadata": {},
   "outputs": [],
   "source": [
    "raw_gene_matrix = read_csv(raw_gene_path, index_col=0)"
   ]
  },
  {
   "cell_type": "code",
   "execution_count": 17,
   "metadata": {},
   "outputs": [],
   "source": [
    "assert not raw_gene_matrix.index.duplicated().any()"
   ]
  },
  {
   "cell_type": "code",
   "execution_count": 18,
   "metadata": {},
   "outputs": [],
   "source": [
    "from numpy import log10"
   ]
  },
  {
   "cell_type": "code",
   "execution_count": 19,
   "metadata": {},
   "outputs": [],
   "source": [
    "log10_gene_matrix = raw_gene_matrix.apply(log10)"
   ]
  },
  {
   "cell_type": "markdown",
   "metadata": {},
   "source": [
    "It matches much more genes:"
   ]
  },
  {
   "cell_type": "code",
   "execution_count": 20,
   "metadata": {},
   "outputs": [
    {
     "name": "stdout",
     "output_type": "stream",
     "text": [
      "55.50%\n"
     ]
    }
   ],
   "source": [
    "calculate_overlap(reactome_pathways_entrez, raw_gene_matrix)"
   ]
  },
  {
   "cell_type": "code",
   "execution_count": 21,
   "metadata": {},
   "outputs": [
    {
     "name": "stdout",
     "output_type": "stream",
     "text": [
      "55.50%\n"
     ]
    }
   ],
   "source": [
    "kegg_pathways_entrez = db.load(gene_sets='c2.cp.kegg', id_type='entrez')\n",
    "calculate_overlap(reactome_pathways_entrez, raw_gene_matrix)"
   ]
  },
  {
   "cell_type": "code",
   "execution_count": 22,
   "metadata": {},
   "outputs": [],
   "source": [
    "id_to_symbol = read_table('data/hgnc/entrez_to_gene_symbol.tsv', index_col=0)['Approved symbol']"
   ]
  },
  {
   "cell_type": "code",
   "execution_count": 23,
   "metadata": {},
   "outputs": [
    {
     "data": {
      "text/plain": [
       "NCBI Gene ID\n",
       "51704.0           GPRC5B\n",
       "29765.0            TMOD4\n",
       "54676.0           GTPBP2\n",
       "105369454.0    LINC02713\n",
       "23768.0            FLRT2\n",
       "Name: Approved symbol, dtype: object"
      ]
     },
     "execution_count": 23,
     "metadata": {},
     "output_type": "execute_result"
    }
   ],
   "source": [
    "id_to_symbol.head()"
   ]
  },
  {
   "cell_type": "code",
   "execution_count": 24,
   "metadata": {},
   "outputs": [],
   "source": [
    "from numpy import nan"
   ]
  },
  {
   "cell_type": "code",
   "execution_count": 25,
   "metadata": {},
   "outputs": [],
   "source": [
    "symbols = raw_gene_matrix.index.map(lambda entrez_id: id_to_symbol.get(float(entrez_id), nan))\n",
    "raw_gene_matrix_by_symbols = copy(raw_gene_matrix)\n",
    "raw_gene_matrix_by_symbols.index = symbols"
   ]
  },
  {
   "cell_type": "code",
   "execution_count": 26,
   "metadata": {},
   "outputs": [
    {
     "data": {
      "text/plain": [
       "[4233,\n",
       " 4276,\n",
       " 4481,\n",
       " 5136,\n",
       " 8600,\n",
       " 10288,\n",
       " 12372,\n",
       " 51330,\n",
       " 64806,\n",
       " 91179,\n",
       " 1489079,\n",
       " 1489089,\n",
       " 1724716,\n",
       " 100293534]"
      ]
     },
     "execution_count": 26,
     "metadata": {},
     "output_type": "execute_result"
    }
   ],
   "source": [
    "genes_missing_symbols = raw_gene_matrix.index[raw_gene_matrix_by_symbols.index.isnull()]\n",
    "sorted(genes_missing_symbols)"
   ]
  },
  {
   "cell_type": "code",
   "execution_count": 27,
   "metadata": {},
   "outputs": [],
   "source": [
    "# reflects state for 16 Apr 2020\n",
    "manual_map = {\n",
    "    4276.0: 'MICA',\n",
    "    100293534: 'C4B_2',\n",
    "    51330: 'TNFRSF12A',\n",
    "    64806: 'IL25',\n",
    "    91179: 'SCARF2',\n",
    "    4481: 'MSR1',\n",
    "    5136: 'PDE1A',\n",
    "    8600: 'TNFSF11',\n",
    "    10288: 'LILRB2',\n",
    "    4233: 'MET'\n",
    "}"
   ]
  },
  {
   "cell_type": "markdown",
   "metadata": {},
   "source": [
    "- 4276 - replaced with 100507436 but symbol stayed the same (MICA)\n",
    "   > Gene ID: 4276, discontinued on 10-Nov-2010\n",
    "   >\n",
    "  > This record was replaced with Gene ID: 100507436\n",
    "- 12372 - mouse protein\n",
    "- 1489079, 1489089, 1724716 - viral proteins"
   ]
  },
  {
   "cell_type": "code",
   "execution_count": 28,
   "metadata": {},
   "outputs": [],
   "source": [
    "id_to_symbol_curated = {**id_to_symbol, **manual_map}"
   ]
  },
  {
   "cell_type": "code",
   "execution_count": 29,
   "metadata": {},
   "outputs": [],
   "source": [
    "symbols_curated = raw_gene_matrix.index.map(lambda entrez_id: id_to_symbol_curated.get(float(entrez_id), nan))"
   ]
  },
  {
   "cell_type": "code",
   "execution_count": 30,
   "metadata": {},
   "outputs": [],
   "source": [
    "raw_gene_matrix_by_symbols.index = symbols_curated\n",
    "raw_gene_matrix_by_symbols = raw_gene_matrix_by_symbols[~raw_gene_matrix_by_symbols.index.isnull()]"
   ]
  },
  {
   "cell_type": "markdown",
   "metadata": {},
   "source": [
    "However, MICA and ICOSLG are already captured by other entrez ids - so I can remove the duplicates:"
   ]
  },
  {
   "cell_type": "code",
   "execution_count": 31,
   "metadata": {},
   "outputs": [
    {
     "data": {
      "text/html": [
       "<div>\n",
       "<style scoped>\n",
       "    .dataframe tbody tr th:only-of-type {\n",
       "        vertical-align: middle;\n",
       "    }\n",
       "\n",
       "    .dataframe tbody tr th {\n",
       "        vertical-align: top;\n",
       "    }\n",
       "\n",
       "    .dataframe thead th {\n",
       "        text-align: right;\n",
       "    }\n",
       "</style>\n",
       "<table border=\"1\" class=\"dataframe\">\n",
       "  <thead>\n",
       "    <tr style=\"text-align: right;\">\n",
       "      <th></th>\n",
       "      <th>149.TMD</th>\n",
       "      <th>007.TMD</th>\n",
       "      <th>001.TMD</th>\n",
       "      <th>064.TMD</th>\n",
       "      <th>151.TMD</th>\n",
       "      <th>...</th>\n",
       "      <th>177.HC</th>\n",
       "      <th>189.HC</th>\n",
       "      <th>217.HC</th>\n",
       "      <th>221.HC</th>\n",
       "      <th>245.HC</th>\n",
       "    </tr>\n",
       "  </thead>\n",
       "  <tbody>\n",
       "    <tr>\n",
       "      <th>MICA</th>\n",
       "      <td>51.75</td>\n",
       "      <td>207.25</td>\n",
       "      <td>5.65</td>\n",
       "      <td>7.05</td>\n",
       "      <td>22.0</td>\n",
       "      <td>...</td>\n",
       "      <td>10.45</td>\n",
       "      <td>11.85</td>\n",
       "      <td>6.65</td>\n",
       "      <td>11.6</td>\n",
       "      <td>11.95</td>\n",
       "    </tr>\n",
       "    <tr>\n",
       "      <th>MICA</th>\n",
       "      <td>51.75</td>\n",
       "      <td>207.25</td>\n",
       "      <td>5.65</td>\n",
       "      <td>7.05</td>\n",
       "      <td>22.0</td>\n",
       "      <td>...</td>\n",
       "      <td>10.45</td>\n",
       "      <td>11.85</td>\n",
       "      <td>6.65</td>\n",
       "      <td>11.6</td>\n",
       "      <td>11.95</td>\n",
       "    </tr>\n",
       "  </tbody>\n",
       "</table>\n",
       "<p>2 rows × 82 columns</p>\n",
       "</div>"
      ],
      "text/plain": [
       "      149.TMD  007.TMD  001.TMD  064.TMD  151.TMD  ...  177.HC  189.HC  \\\n",
       "MICA    51.75   207.25     5.65     7.05     22.0  ...   10.45   11.85   \n",
       "MICA    51.75   207.25     5.65     7.05     22.0  ...   10.45   11.85   \n",
       "\n",
       "      217.HC  221.HC  245.HC  \n",
       "MICA    6.65    11.6   11.95  \n",
       "MICA    6.65    11.6   11.95  \n",
       "\n",
       "[2 rows x 82 columns]"
      ]
     },
     "execution_count": 31,
     "metadata": {},
     "output_type": "execute_result"
    }
   ],
   "source": [
    "raw_gene_matrix_by_symbols[raw_gene_matrix_by_symbols.index.duplicated(keep=False)]"
   ]
  },
  {
   "cell_type": "code",
   "execution_count": 32,
   "metadata": {},
   "outputs": [],
   "source": [
    "raw_gene_matrix_by_symbols = raw_gene_matrix_by_symbols[~raw_gene_matrix_by_symbols.index.duplicated()]"
   ]
  },
  {
   "cell_type": "code",
   "execution_count": 33,
   "metadata": {},
   "outputs": [
    {
     "name": "stdout",
     "output_type": "stream",
     "text": [
      "86.09%\n"
     ]
    }
   ],
   "source": [
    "calculate_overlap(reactome_new_symbol, raw_gene_matrix_by_symbols)"
   ]
  },
  {
   "cell_type": "markdown",
   "metadata": {},
   "source": [
    "Using the recent Reactome GMT mapped via entrez IDs to symbol seems good enough. Is it superior to just using the symbols provided in aptamers metadata?"
   ]
  },
  {
   "cell_type": "code",
   "execution_count": 34,
   "metadata": {},
   "outputs": [],
   "source": [
    "aptamers = read_csv('data/other/relevant_aptamers.csv')"
   ]
  },
  {
   "cell_type": "code",
   "execution_count": 35,
   "metadata": {},
   "outputs": [
    {
     "data": {
      "text/plain": [
       "86.73312883435584"
      ]
     },
     "execution_count": 35,
     "metadata": {},
     "output_type": "execute_result"
    }
   ],
   "source": [
    "soma = set(symbol for symbols in aptamers.EntrezGeneSymbol.str.split(' ') for symbol in symbols)\n",
    "precentage = len(reactome_new_symbol.all_genes & soma) / len(soma) * 100\n",
    "precentage"
   ]
  },
  {
   "cell_type": "code",
   "execution_count": 36,
   "metadata": {},
   "outputs": [
    {
     "data": {
      "text/plain": [
       "(1304, 1323)"
      ]
     },
     "execution_count": 36,
     "metadata": {},
     "output_type": "execute_result"
    }
   ],
   "source": [
    "len(soma), len(raw_gene_matrix_by_symbols)"
   ]
  },
  {
   "cell_type": "markdown",
   "metadata": {},
   "source": [
    "It's about the same. But I feel much more confident using the entrez-id mapping step."
   ]
  },
  {
   "cell_type": "code",
   "execution_count": 37,
   "metadata": {},
   "outputs": [
    {
     "name": "stdout",
     "output_type": "stream",
     "text": [
      "c2.cp.kegg 103\n",
      "reactome_new_symbol 760\n",
      "c2.cp.reactome 297\n"
     ]
    },
    {
     "name": "stderr",
     "output_type": "stream",
     "text": [
      "/home/krassowski/.pyenv/versions/3.7.6/envs/meningitis/lib/python3.7/site-packages/gsea_api/molecular_signatures_db.py:65: UserWarning: Provided gene sets are not redundant; there are 4 gene sets having more than one name assigned; use `find_redundant()` to investigate further.\n",
      "  warn(message)\n",
      "/home/krassowski/.pyenv/versions/3.7.6/envs/meningitis/lib/python3.7/site-packages/gsea_api/molecular_signatures_db.py:75: UserWarning: There are 24 empty gene sets: use `empty_gene_sets` property to investigate further.\n",
      "  warn(f'There are {len(empty_gene_sets)} empty gene sets: {empty_message}')\n",
      "/home/krassowski/.pyenv/versions/3.7.6/envs/meningitis/lib/python3.7/site-packages/gsea_api/molecular_signatures_db.py:79: UserWarning: 24 empty gene sets were removed.\n",
      "  warn(f'{len(empty_gene_sets)} empty gene sets were removed.')\n",
      "/home/krassowski/.pyenv/versions/3.7.6/envs/meningitis/lib/python3.7/site-packages/gsea_api/molecular_signatures_db.py:65: UserWarning: Provided gene sets are not redundant; there are 202 gene sets having more than one name assigned; use `find_redundant()` to investigate further.\n",
      "  warn(message)\n",
      "/home/krassowski/.pyenv/versions/3.7.6/envs/meningitis/lib/python3.7/site-packages/gsea_api/molecular_signatures_db.py:75: UserWarning: There are 688 empty gene sets: use `empty_gene_sets` property to investigate further.\n",
      "  warn(f'There are {len(empty_gene_sets)} empty gene sets: {empty_message}')\n",
      "/home/krassowski/.pyenv/versions/3.7.6/envs/meningitis/lib/python3.7/site-packages/gsea_api/molecular_signatures_db.py:79: UserWarning: 688 empty gene sets were removed.\n",
      "  warn(f'{len(empty_gene_sets)} empty gene sets were removed.')\n",
      "/home/krassowski/.pyenv/versions/3.7.6/envs/meningitis/lib/python3.7/site-packages/gsea_api/molecular_signatures_db.py:65: UserWarning: Provided gene sets are not redundant; there are 57 gene sets having more than one name assigned; use `find_redundant()` to investigate further.\n",
      "  warn(message)\n",
      "/home/krassowski/.pyenv/versions/3.7.6/envs/meningitis/lib/python3.7/site-packages/gsea_api/molecular_signatures_db.py:75: UserWarning: There are 105 empty gene sets: use `empty_gene_sets` property to investigate further.\n",
      "  warn(f'There are {len(empty_gene_sets)} empty gene sets: {empty_message}')\n",
      "/home/krassowski/.pyenv/versions/3.7.6/envs/meningitis/lib/python3.7/site-packages/gsea_api/molecular_signatures_db.py:79: UserWarning: 105 empty gene sets were removed.\n",
      "  warn(f'{len(empty_gene_sets)} empty gene sets were removed.')\n"
     ]
    }
   ],
   "source": [
    "entrez_ids = set(map(str, raw_gene_matrix.index))\n",
    "symbols = set(raw_gene_matrix_by_symbols.index)\n",
    "\n",
    "for collection, genes in [\n",
    "    (kegg_pathways_entrez, entrez_ids),\n",
    "    (reactome_new_symbol, symbols),\n",
    "    (reactome_pathways_entrez, entrez_ids)\n",
    "]:\n",
    "    after_trimming = collection_to_R(collection, trim_to=genes)\n",
    "    print(collection.name, len(after_trimming))"
   ]
  },
  {
   "cell_type": "code",
   "execution_count": 38,
   "metadata": {},
   "outputs": [],
   "source": [
    "%%R\n",
    "gse = function(data, groups, contrast, collection, nrot=9999){\n",
    "    design = design_from_conditions(groups, intercept='Healthy.control')\n",
    "    limma::mroast(data, collection, design=design, contrast=contrast, geneid=dimnames(data)[[1]], nrot=nrot)\n",
    "}"
   ]
  },
  {
   "cell_type": "code",
   "execution_count": 39,
   "metadata": {},
   "outputs": [],
   "source": [
    "log10_gene_matrix_symbols = raw_gene_matrix_by_symbols.apply(log10)"
   ]
  },
  {
   "cell_type": "markdown",
   "metadata": {},
   "source": [
    "## Simple multiple rotational GSE testing is not well suited to prioritetize pathways in imbalanced dataset"
   ]
  },
  {
   "cell_type": "markdown",
   "metadata": {},
   "source": [
    "Because ROAST is self-contained it performs poorly in a setting where everything is up:"
   ]
  },
  {
   "cell_type": "markdown",
   "metadata": {},
   "source": [
    "### The results from recent Reactome release uncover more hits"
   ]
  },
  {
   "cell_type": "code",
   "execution_count": 40,
   "metadata": {},
   "outputs": [
    {
     "data": {
      "text/html": [
       "<div>\n",
       "<style scoped>\n",
       "    .dataframe tbody tr th:only-of-type {\n",
       "        vertical-align: middle;\n",
       "    }\n",
       "\n",
       "    .dataframe tbody tr th {\n",
       "        vertical-align: top;\n",
       "    }\n",
       "\n",
       "    .dataframe thead th {\n",
       "        text-align: right;\n",
       "    }\n",
       "</style>\n",
       "<table border=\"1\" class=\"dataframe\">\n",
       "  <thead>\n",
       "    <tr style=\"text-align: right;\">\n",
       "      <th></th>\n",
       "      <th>NGenes</th>\n",
       "      <th>PropDown</th>\n",
       "      <th>PropUp</th>\n",
       "      <th>Direction</th>\n",
       "      <th>PValue</th>\n",
       "      <th>FDR</th>\n",
       "      <th>PValue.Mixed</th>\n",
       "      <th>FDR.Mixed</th>\n",
       "    </tr>\n",
       "  </thead>\n",
       "  <tbody>\n",
       "    <tr>\n",
       "      <th>Apoptosis</th>\n",
       "      <td>42</td>\n",
       "      <td>0.0</td>\n",
       "      <td>1.0</td>\n",
       "      <td>Up</td>\n",
       "      <td>0.0001</td>\n",
       "      <td>0.0001</td>\n",
       "      <td>0.0001</td>\n",
       "      <td>0.0001</td>\n",
       "    </tr>\n",
       "    <tr>\n",
       "      <th>Integrin cell surface interactions</th>\n",
       "      <td>38</td>\n",
       "      <td>0.0</td>\n",
       "      <td>1.0</td>\n",
       "      <td>Up</td>\n",
       "      <td>0.0001</td>\n",
       "      <td>0.0001</td>\n",
       "      <td>0.0001</td>\n",
       "      <td>0.0001</td>\n",
       "    </tr>\n",
       "    <tr>\n",
       "      <th>Cell Cycle</th>\n",
       "      <td>34</td>\n",
       "      <td>0.0</td>\n",
       "      <td>1.0</td>\n",
       "      <td>Up</td>\n",
       "      <td>0.0001</td>\n",
       "      <td>0.0001</td>\n",
       "      <td>0.0001</td>\n",
       "      <td>0.0001</td>\n",
       "    </tr>\n",
       "    <tr>\n",
       "      <th>Signaling by the B Cell Receptor (BCR)</th>\n",
       "      <td>28</td>\n",
       "      <td>0.0</td>\n",
       "      <td>1.0</td>\n",
       "      <td>Up</td>\n",
       "      <td>0.0001</td>\n",
       "      <td>0.0001</td>\n",
       "      <td>0.0001</td>\n",
       "      <td>0.0001</td>\n",
       "    </tr>\n",
       "    <tr>\n",
       "      <th>Cell Cycle Mitotic</th>\n",
       "      <td>26</td>\n",
       "      <td>0.0</td>\n",
       "      <td>1.0</td>\n",
       "      <td>Up</td>\n",
       "      <td>0.0001</td>\n",
       "      <td>0.0001</td>\n",
       "      <td>0.0001</td>\n",
       "      <td>0.0001</td>\n",
       "    </tr>\n",
       "    <tr>\n",
       "      <th>Costimulation by the CD28 family</th>\n",
       "      <td>26</td>\n",
       "      <td>0.0</td>\n",
       "      <td>1.0</td>\n",
       "      <td>Up</td>\n",
       "      <td>0.0001</td>\n",
       "      <td>0.0001</td>\n",
       "      <td>0.0001</td>\n",
       "      <td>0.0001</td>\n",
       "    </tr>\n",
       "  </tbody>\n",
       "</table>\n",
       "</div>"
      ],
      "text/plain": [
       "                                        NGenes  PropDown  PropUp Direction  \\\n",
       "Apoptosis                                   42       0.0     1.0        Up   \n",
       "Integrin cell surface interactions          38       0.0     1.0        Up   \n",
       "Cell Cycle                                  34       0.0     1.0        Up   \n",
       "Signaling by the B Cell Receptor (BCR)      28       0.0     1.0        Up   \n",
       "Cell Cycle Mitotic                          26       0.0     1.0        Up   \n",
       "Costimulation by the CD28 family            26       0.0     1.0        Up   \n",
       "\n",
       "                                        PValue     FDR  PValue.Mixed  \\\n",
       "Apoptosis                               0.0001  0.0001        0.0001   \n",
       "Integrin cell surface interactions      0.0001  0.0001        0.0001   \n",
       "Cell Cycle                              0.0001  0.0001        0.0001   \n",
       "Signaling by the B Cell Receptor (BCR)  0.0001  0.0001        0.0001   \n",
       "Cell Cycle Mitotic                      0.0001  0.0001        0.0001   \n",
       "Costimulation by the CD28 family        0.0001  0.0001        0.0001   \n",
       "\n",
       "                                        FDR.Mixed  \n",
       "Apoptosis                                  0.0001  \n",
       "Integrin cell surface interactions         0.0001  \n",
       "Cell Cycle                                 0.0001  \n",
       "Signaling by the B Cell Receptor (BCR)     0.0001  \n",
       "Cell Cycle Mitotic                         0.0001  \n",
       "Costimulation by the CD28 family           0.0001  "
      ]
     },
     "execution_count": 40,
     "metadata": {},
     "output_type": "execute_result"
    }
   ],
   "source": [
    "%R -i log10_gene_matrix -i log10_gene_matrix_symbols\n",
    "%R head(gse(log10_gene_matrix, by_condition, 'Tuberculosis', c2.cp.reactome))"
   ]
  },
  {
   "cell_type": "code",
   "execution_count": 41,
   "metadata": {},
   "outputs": [
    {
     "data": {
      "text/html": [
       "<div>\n",
       "<style scoped>\n",
       "    .dataframe tbody tr th:only-of-type {\n",
       "        vertical-align: middle;\n",
       "    }\n",
       "\n",
       "    .dataframe tbody tr th {\n",
       "        vertical-align: top;\n",
       "    }\n",
       "\n",
       "    .dataframe thead th {\n",
       "        text-align: right;\n",
       "    }\n",
       "</style>\n",
       "<table border=\"1\" class=\"dataframe\">\n",
       "  <thead>\n",
       "    <tr style=\"text-align: right;\">\n",
       "      <th></th>\n",
       "      <th>NGenes</th>\n",
       "      <th>PropDown</th>\n",
       "      <th>PropUp</th>\n",
       "      <th>Direction</th>\n",
       "      <th>PValue</th>\n",
       "      <th>FDR</th>\n",
       "      <th>PValue.Mixed</th>\n",
       "      <th>FDR.Mixed</th>\n",
       "    </tr>\n",
       "  </thead>\n",
       "  <tbody>\n",
       "    <tr>\n",
       "      <th>Cell Cycle</th>\n",
       "      <td>69</td>\n",
       "      <td>0.0</td>\n",
       "      <td>1.0</td>\n",
       "      <td>Up</td>\n",
       "      <td>0.0001</td>\n",
       "      <td>0.0001</td>\n",
       "      <td>0.0001</td>\n",
       "      <td>0.0001</td>\n",
       "    </tr>\n",
       "    <tr>\n",
       "      <th>Cell Cycle, Mitotic</th>\n",
       "      <td>59</td>\n",
       "      <td>0.0</td>\n",
       "      <td>1.0</td>\n",
       "      <td>Up</td>\n",
       "      <td>0.0001</td>\n",
       "      <td>0.0001</td>\n",
       "      <td>0.0001</td>\n",
       "      <td>0.0001</td>\n",
       "    </tr>\n",
       "    <tr>\n",
       "      <th>Transcriptional Regulation by TP53</th>\n",
       "      <td>58</td>\n",
       "      <td>0.0</td>\n",
       "      <td>1.0</td>\n",
       "      <td>Up</td>\n",
       "      <td>0.0001</td>\n",
       "      <td>0.0001</td>\n",
       "      <td>0.0001</td>\n",
       "      <td>0.0001</td>\n",
       "    </tr>\n",
       "    <tr>\n",
       "      <th>Programmed Cell Death</th>\n",
       "      <td>56</td>\n",
       "      <td>0.0</td>\n",
       "      <td>1.0</td>\n",
       "      <td>Up</td>\n",
       "      <td>0.0001</td>\n",
       "      <td>0.0001</td>\n",
       "      <td>0.0001</td>\n",
       "      <td>0.0001</td>\n",
       "    </tr>\n",
       "    <tr>\n",
       "      <th>Apoptosis</th>\n",
       "      <td>55</td>\n",
       "      <td>0.0</td>\n",
       "      <td>1.0</td>\n",
       "      <td>Up</td>\n",
       "      <td>0.0001</td>\n",
       "      <td>0.0001</td>\n",
       "      <td>0.0001</td>\n",
       "      <td>0.0001</td>\n",
       "    </tr>\n",
       "    <tr>\n",
       "      <th>Signaling by VEGF</th>\n",
       "      <td>41</td>\n",
       "      <td>0.0</td>\n",
       "      <td>1.0</td>\n",
       "      <td>Up</td>\n",
       "      <td>0.0001</td>\n",
       "      <td>0.0001</td>\n",
       "      <td>0.0001</td>\n",
       "      <td>0.0001</td>\n",
       "    </tr>\n",
       "  </tbody>\n",
       "</table>\n",
       "</div>"
      ],
      "text/plain": [
       "                                    NGenes  PropDown  PropUp Direction  \\\n",
       "Cell Cycle                              69       0.0     1.0        Up   \n",
       "Cell Cycle, Mitotic                     59       0.0     1.0        Up   \n",
       "Transcriptional Regulation by TP53      58       0.0     1.0        Up   \n",
       "Programmed Cell Death                   56       0.0     1.0        Up   \n",
       "Apoptosis                               55       0.0     1.0        Up   \n",
       "Signaling by VEGF                       41       0.0     1.0        Up   \n",
       "\n",
       "                                    PValue     FDR  PValue.Mixed  FDR.Mixed  \n",
       "Cell Cycle                          0.0001  0.0001        0.0001     0.0001  \n",
       "Cell Cycle, Mitotic                 0.0001  0.0001        0.0001     0.0001  \n",
       "Transcriptional Regulation by TP53  0.0001  0.0001        0.0001     0.0001  \n",
       "Programmed Cell Death               0.0001  0.0001        0.0001     0.0001  \n",
       "Apoptosis                           0.0001  0.0001        0.0001     0.0001  \n",
       "Signaling by VEGF                   0.0001  0.0001        0.0001     0.0001  "
      ]
     },
     "execution_count": 41,
     "metadata": {},
     "output_type": "execute_result"
    }
   ],
   "source": [
    "%R head(gse(log10_gene_matrix_symbols, by_condition, 'Tuberculosis', reactome_new_symbol))"
   ]
  },
  {
   "cell_type": "markdown",
   "metadata": {},
   "source": [
    "## Camera (after limma with trend correction) is better suited for the imbalanced dataset"
   ]
  },
  {
   "cell_type": "markdown",
   "metadata": {},
   "source": [
    "- Because it is a competitive test.\n",
    "- because we take advantage of the mean-variance trend correction and robust statistics"
   ]
  },
  {
   "cell_type": "code",
   "execution_count": 42,
   "metadata": {},
   "outputs": [],
   "source": [
    "%%R\n",
    "camera = function(a, b, data, collection, design=by_condition, ...) {\n",
    "    result = diff_ebayes(a, b, data=data, conditions_vector=design, ...)\n",
    "    # using t-statistic\n",
    "    limma::cameraPR(result$t[,1], collection)\n",
    "}"
   ]
  },
  {
   "cell_type": "markdown",
   "metadata": {},
   "source": [
    "TODO maybe use voom, maybe use normal camera: there are lessons learned during RNASeq analysis to be backported here"
   ]
  },
  {
   "cell_type": "code",
   "execution_count": 43,
   "metadata": {},
   "outputs": [],
   "source": [
    "%%R -o tb_log_msig\n",
    "tb_log_msig = camera('Tuberculosis', 'Healthy control', log10_gene_matrix, c2.cp.reactome)"
   ]
  },
  {
   "cell_type": "code",
   "execution_count": 44,
   "metadata": {},
   "outputs": [
    {
     "data": {
      "text/html": [
       "<div>\n",
       "<style scoped>\n",
       "    .dataframe tbody tr th:only-of-type {\n",
       "        vertical-align: middle;\n",
       "    }\n",
       "\n",
       "    .dataframe tbody tr th {\n",
       "        vertical-align: top;\n",
       "    }\n",
       "\n",
       "    .dataframe thead th {\n",
       "        text-align: right;\n",
       "    }\n",
       "</style>\n",
       "<table border=\"1\" class=\"dataframe\">\n",
       "  <thead>\n",
       "    <tr style=\"text-align: right;\">\n",
       "      <th></th>\n",
       "      <th>NGenes</th>\n",
       "      <th>Direction</th>\n",
       "      <th>PValue</th>\n",
       "      <th>FDR</th>\n",
       "    </tr>\n",
       "  </thead>\n",
       "  <tbody>\n",
       "    <tr>\n",
       "      <th>RNA Pol I Promoter Opening</th>\n",
       "      <td>13.0</td>\n",
       "      <td>Up</td>\n",
       "      <td>1.635869e-11</td>\n",
       "      <td>4.858532e-09</td>\n",
       "    </tr>\n",
       "    <tr>\n",
       "      <th>RNA Pol I Transcription</th>\n",
       "      <td>14.0</td>\n",
       "      <td>Up</td>\n",
       "      <td>8.811001e-11</td>\n",
       "      <td>1.308434e-08</td>\n",
       "    </tr>\n",
       "    <tr>\n",
       "      <th>Meiosis</th>\n",
       "      <td>16.0</td>\n",
       "      <td>Up</td>\n",
       "      <td>3.623204e-10</td>\n",
       "      <td>3.586972e-08</td>\n",
       "    </tr>\n",
       "    <tr>\n",
       "      <th>Meiotic recombination</th>\n",
       "      <td>14.0</td>\n",
       "      <td>Up</td>\n",
       "      <td>7.073650e-10</td>\n",
       "      <td>5.252185e-08</td>\n",
       "    </tr>\n",
       "    <tr>\n",
       "      <th>RNA Pol I RNA Pol Iii And Mitochondrial Transcription</th>\n",
       "      <td>16.0</td>\n",
       "      <td>Up</td>\n",
       "      <td>1.324177e-09</td>\n",
       "      <td>7.865614e-08</td>\n",
       "    </tr>\n",
       "    <tr>\n",
       "      <th>Transcription</th>\n",
       "      <td>18.0</td>\n",
       "      <td>Up</td>\n",
       "      <td>5.071368e-09</td>\n",
       "      <td>2.510327e-07</td>\n",
       "    </tr>\n",
       "    <tr>\n",
       "      <th>Factors involved in megakaryocyte development and platelet production</th>\n",
       "      <td>25.0</td>\n",
       "      <td>Up</td>\n",
       "      <td>8.426624e-05</td>\n",
       "      <td>3.575296e-03</td>\n",
       "    </tr>\n",
       "    <tr>\n",
       "      <th>Signaling by SCF-KIT</th>\n",
       "      <td>38.0</td>\n",
       "      <td>Up</td>\n",
       "      <td>2.342591e-04</td>\n",
       "      <td>8.696868e-03</td>\n",
       "    </tr>\n",
       "    <tr>\n",
       "      <th>Heparan sulfate/heparin (HS-GAG) metabolism</th>\n",
       "      <td>10.0</td>\n",
       "      <td>Down</td>\n",
       "      <td>3.399709e-04</td>\n",
       "      <td>1.121904e-02</td>\n",
       "    </tr>\n",
       "    <tr>\n",
       "      <th>Glycosaminoglycan metabolism</th>\n",
       "      <td>20.0</td>\n",
       "      <td>Down</td>\n",
       "      <td>5.470942e-04</td>\n",
       "      <td>1.607612e-02</td>\n",
       "    </tr>\n",
       "  </tbody>\n",
       "</table>\n",
       "</div>"
      ],
      "text/plain": [
       "                                                    NGenes Direction  \\\n",
       "RNA Pol I Promoter Opening                            13.0        Up   \n",
       "RNA Pol I Transcription                               14.0        Up   \n",
       "Meiosis                                               16.0        Up   \n",
       "Meiotic recombination                                 14.0        Up   \n",
       "RNA Pol I RNA Pol Iii And Mitochondrial Transcr...    16.0        Up   \n",
       "Transcription                                         18.0        Up   \n",
       "Factors involved in megakaryocyte development a...    25.0        Up   \n",
       "Signaling by SCF-KIT                                  38.0        Up   \n",
       "Heparan sulfate/heparin (HS-GAG) metabolism           10.0      Down   \n",
       "Glycosaminoglycan metabolism                          20.0      Down   \n",
       "\n",
       "                                                          PValue           FDR  \n",
       "RNA Pol I Promoter Opening                          1.635869e-11  4.858532e-09  \n",
       "RNA Pol I Transcription                             8.811001e-11  1.308434e-08  \n",
       "Meiosis                                             3.623204e-10  3.586972e-08  \n",
       "Meiotic recombination                               7.073650e-10  5.252185e-08  \n",
       "RNA Pol I RNA Pol Iii And Mitochondrial Transcr...  1.324177e-09  7.865614e-08  \n",
       "Transcription                                       5.071368e-09  2.510327e-07  \n",
       "Factors involved in megakaryocyte development a...  8.426624e-05  3.575296e-03  \n",
       "Signaling by SCF-KIT                                2.342591e-04  8.696868e-03  \n",
       "Heparan sulfate/heparin (HS-GAG) metabolism         3.399709e-04  1.121904e-02  \n",
       "Glycosaminoglycan metabolism                        5.470942e-04  1.607612e-02  "
      ]
     },
     "execution_count": 44,
     "metadata": {},
     "output_type": "execute_result"
    }
   ],
   "source": [
    "tb_log_msig.head(10)"
   ]
  },
  {
   "cell_type": "code",
   "execution_count": 45,
   "metadata": {},
   "outputs": [],
   "source": [
    "%%R -o tb_log_new\n",
    "tb_log_new = camera('Tuberculosis', 'Healthy control', log10_gene_matrix_symbols, reactome_new_symbol)"
   ]
  },
  {
   "cell_type": "code",
   "execution_count": 46,
   "metadata": {},
   "outputs": [
    {
     "data": {
      "text/html": [
       "<div>\n",
       "<style scoped>\n",
       "    .dataframe tbody tr th:only-of-type {\n",
       "        vertical-align: middle;\n",
       "    }\n",
       "\n",
       "    .dataframe tbody tr th {\n",
       "        vertical-align: top;\n",
       "    }\n",
       "\n",
       "    .dataframe thead th {\n",
       "        text-align: right;\n",
       "    }\n",
       "</style>\n",
       "<table border=\"1\" class=\"dataframe\">\n",
       "  <thead>\n",
       "    <tr style=\"text-align: right;\">\n",
       "      <th></th>\n",
       "      <th>NGenes</th>\n",
       "      <th>Direction</th>\n",
       "      <th>PValue</th>\n",
       "      <th>FDR</th>\n",
       "    </tr>\n",
       "  </thead>\n",
       "  <tbody>\n",
       "    <tr>\n",
       "      <th>Signaling by Rho GTPases</th>\n",
       "      <td>39.0</td>\n",
       "      <td>Up</td>\n",
       "      <td>0.000170</td>\n",
       "      <td>0.051507</td>\n",
       "    </tr>\n",
       "    <tr>\n",
       "      <th>Activation of BAD and translocation to mitochondria</th>\n",
       "      <td>12.0</td>\n",
       "      <td>Up</td>\n",
       "      <td>0.000210</td>\n",
       "      <td>0.051507</td>\n",
       "    </tr>\n",
       "    <tr>\n",
       "      <th>Cell Cycle</th>\n",
       "      <td>69.0</td>\n",
       "      <td>Up</td>\n",
       "      <td>0.000241</td>\n",
       "      <td>0.051507</td>\n",
       "    </tr>\n",
       "    <tr>\n",
       "      <th>Neutrophil degranulation</th>\n",
       "      <td>128.0</td>\n",
       "      <td>Up</td>\n",
       "      <td>0.000271</td>\n",
       "      <td>0.051507</td>\n",
       "    </tr>\n",
       "    <tr>\n",
       "      <th>Heparan sulfate/heparin (HS-GAG) metabolism</th>\n",
       "      <td>10.0</td>\n",
       "      <td>Down</td>\n",
       "      <td>0.000344</td>\n",
       "      <td>0.052318</td>\n",
       "    </tr>\n",
       "    <tr>\n",
       "      <th>Glycosaminoglycan metabolism</th>\n",
       "      <td>20.0</td>\n",
       "      <td>Down</td>\n",
       "      <td>0.000552</td>\n",
       "      <td>0.052743</td>\n",
       "    </tr>\n",
       "    <tr>\n",
       "      <th>Chondroitin sulfate/dermatan sulfate metabolism</th>\n",
       "      <td>11.0</td>\n",
       "      <td>Down</td>\n",
       "      <td>0.000723</td>\n",
       "      <td>0.052743</td>\n",
       "    </tr>\n",
       "    <tr>\n",
       "      <th>Intrinsic Pathway for Apoptosis</th>\n",
       "      <td>25.0</td>\n",
       "      <td>Up</td>\n",
       "      <td>0.000749</td>\n",
       "      <td>0.052743</td>\n",
       "    </tr>\n",
       "    <tr>\n",
       "      <th>Apoptosis</th>\n",
       "      <td>55.0</td>\n",
       "      <td>Up</td>\n",
       "      <td>0.000793</td>\n",
       "      <td>0.052743</td>\n",
       "    </tr>\n",
       "    <tr>\n",
       "      <th>RHO GTPase Effectors</th>\n",
       "      <td>35.0</td>\n",
       "      <td>Up</td>\n",
       "      <td>0.000803</td>\n",
       "      <td>0.052743</td>\n",
       "    </tr>\n",
       "  </tbody>\n",
       "</table>\n",
       "</div>"
      ],
      "text/plain": [
       "                                                    NGenes Direction  \\\n",
       "Signaling by Rho GTPases                              39.0        Up   \n",
       "Activation of BAD and translocation to mitochon...    12.0        Up   \n",
       "Cell Cycle                                            69.0        Up   \n",
       "Neutrophil degranulation                             128.0        Up   \n",
       "Heparan sulfate/heparin (HS-GAG) metabolism           10.0      Down   \n",
       "Glycosaminoglycan metabolism                          20.0      Down   \n",
       "Chondroitin sulfate/dermatan sulfate metabolism       11.0      Down   \n",
       "Intrinsic Pathway for Apoptosis                       25.0        Up   \n",
       "Apoptosis                                             55.0        Up   \n",
       "RHO GTPase Effectors                                  35.0        Up   \n",
       "\n",
       "                                                      PValue       FDR  \n",
       "Signaling by Rho GTPases                            0.000170  0.051507  \n",
       "Activation of BAD and translocation to mitochon...  0.000210  0.051507  \n",
       "Cell Cycle                                          0.000241  0.051507  \n",
       "Neutrophil degranulation                            0.000271  0.051507  \n",
       "Heparan sulfate/heparin (HS-GAG) metabolism         0.000344  0.052318  \n",
       "Glycosaminoglycan metabolism                        0.000552  0.052743  \n",
       "Chondroitin sulfate/dermatan sulfate metabolism     0.000723  0.052743  \n",
       "Intrinsic Pathway for Apoptosis                     0.000749  0.052743  \n",
       "Apoptosis                                           0.000793  0.052743  \n",
       "RHO GTPase Effectors                                0.000803  0.052743  "
      ]
     },
     "execution_count": 46,
     "metadata": {},
     "output_type": "execute_result"
    }
   ],
   "source": [
    "tb_log_new.head(10)"
   ]
  },
  {
   "cell_type": "markdown",
   "metadata": {},
   "source": [
    "Some familiar names here:\n",
    " - \"Activation of BAD and translocation to mitochondria\", \"Cell Cycle\" (highlighted by ORA)\n",
    " - RHO GTPase and Neutrophil degranulation - there are frequent mentions in context of TB"
   ]
  },
  {
   "cell_type": "markdown",
   "metadata": {},
   "source": [
    "Note:\n",
    "- Using the full Reactome dataset has an advantage of increased (86% from 55%) number of genes mapped to the pathways\n",
    "- but it might introduce too similar (correlated) gene sets which skew the results of tests - which is not the case for the curated collections\n",
    "- when an agreement between the two methods is reached, we can rest assured that the results are correct"
   ]
  },
  {
   "cell_type": "code",
   "execution_count": 47,
   "metadata": {},
   "outputs": [],
   "source": [
    "def agreement(a, b, cutoff=0.1):\n",
    "    a = copy(a)\n",
    "    b = copy(b)\n",
    "    b['name'] = b.index\n",
    "    a.index = a.index.str.lower()\n",
    "    b.index = b.index.str.lower()\n",
    "    for d in [a, b]:\n",
    "        # this code wants to be rewritten to a regexpr\n",
    "        d.index = d.index.map(lambda x: ''.join([\n",
    "            c if c.isalnum() or c.isspace() else ' '\n",
    "            for c in x\n",
    "        ]).replace('  ', ' ').replace('  ', ' '))\n",
    "    agreement = set(a[a.FDR < cutoff].index) & set(b[b.FDR < cutoff].index)\n",
    "    return a.loc[agreement].merge(b.loc[agreement], left_index=True, right_index=True).sort_values('FDR_y').set_index('name')"
   ]
  },
  {
   "cell_type": "code",
   "execution_count": 48,
   "metadata": {},
   "outputs": [
    {
     "data": {
      "text/html": [
       "<div>\n",
       "<style scoped>\n",
       "    .dataframe tbody tr th:only-of-type {\n",
       "        vertical-align: middle;\n",
       "    }\n",
       "\n",
       "    .dataframe tbody tr th {\n",
       "        vertical-align: top;\n",
       "    }\n",
       "\n",
       "    .dataframe thead th {\n",
       "        text-align: right;\n",
       "    }\n",
       "</style>\n",
       "<table border=\"1\" class=\"dataframe\">\n",
       "  <thead>\n",
       "    <tr style=\"text-align: right;\">\n",
       "      <th></th>\n",
       "      <th>NGenes_x</th>\n",
       "      <th>Direction_x</th>\n",
       "      <th>PValue_x</th>\n",
       "      <th>FDR_x</th>\n",
       "      <th>NGenes_y</th>\n",
       "      <th>Direction_y</th>\n",
       "      <th>PValue_y</th>\n",
       "      <th>FDR_y</th>\n",
       "    </tr>\n",
       "    <tr>\n",
       "      <th>name</th>\n",
       "      <th></th>\n",
       "      <th></th>\n",
       "      <th></th>\n",
       "      <th></th>\n",
       "      <th></th>\n",
       "      <th></th>\n",
       "      <th></th>\n",
       "      <th></th>\n",
       "    </tr>\n",
       "  </thead>\n",
       "  <tbody>\n",
       "    <tr>\n",
       "      <th>Heparan sulfate/heparin (HS-GAG) metabolism</th>\n",
       "      <td>10.0</td>\n",
       "      <td>Down</td>\n",
       "      <td>0.000340</td>\n",
       "      <td>0.011219</td>\n",
       "      <td>10.0</td>\n",
       "      <td>Down</td>\n",
       "      <td>0.000344</td>\n",
       "      <td>0.052318</td>\n",
       "    </tr>\n",
       "    <tr>\n",
       "      <th>CS/DS degradation</th>\n",
       "      <td>6.0</td>\n",
       "      <td>Down</td>\n",
       "      <td>0.000892</td>\n",
       "      <td>0.020368</td>\n",
       "      <td>6.0</td>\n",
       "      <td>Down</td>\n",
       "      <td>0.000902</td>\n",
       "      <td>0.052743</td>\n",
       "    </tr>\n",
       "    <tr>\n",
       "      <th>Apoptosis</th>\n",
       "      <td>42.0</td>\n",
       "      <td>Up</td>\n",
       "      <td>0.004922</td>\n",
       "      <td>0.060912</td>\n",
       "      <td>55.0</td>\n",
       "      <td>Up</td>\n",
       "      <td>0.000793</td>\n",
       "      <td>0.052743</td>\n",
       "    </tr>\n",
       "    <tr>\n",
       "      <th>Chondroitin sulfate/dermatan sulfate metabolism</th>\n",
       "      <td>11.0</td>\n",
       "      <td>Down</td>\n",
       "      <td>0.000716</td>\n",
       "      <td>0.017719</td>\n",
       "      <td>11.0</td>\n",
       "      <td>Down</td>\n",
       "      <td>0.000723</td>\n",
       "      <td>0.052743</td>\n",
       "    </tr>\n",
       "    <tr>\n",
       "      <th>Glycosaminoglycan metabolism</th>\n",
       "      <td>20.0</td>\n",
       "      <td>Down</td>\n",
       "      <td>0.000547</td>\n",
       "      <td>0.016076</td>\n",
       "      <td>20.0</td>\n",
       "      <td>Down</td>\n",
       "      <td>0.000552</td>\n",
       "      <td>0.052743</td>\n",
       "    </tr>\n",
       "    <tr>\n",
       "      <th>Metabolism of RNA</th>\n",
       "      <td>23.0</td>\n",
       "      <td>Up</td>\n",
       "      <td>0.001855</td>\n",
       "      <td>0.036475</td>\n",
       "      <td>34.0</td>\n",
       "      <td>Up</td>\n",
       "      <td>0.001893</td>\n",
       "      <td>0.072002</td>\n",
       "    </tr>\n",
       "    <tr>\n",
       "      <th>Signaling by the B Cell Receptor (BCR)</th>\n",
       "      <td>28.0</td>\n",
       "      <td>Up</td>\n",
       "      <td>0.000595</td>\n",
       "      <td>0.016076</td>\n",
       "      <td>27.0</td>\n",
       "      <td>Up</td>\n",
       "      <td>0.002515</td>\n",
       "      <td>0.079130</td>\n",
       "    </tr>\n",
       "    <tr>\n",
       "      <th>Costimulation by the CD28 family</th>\n",
       "      <td>26.0</td>\n",
       "      <td>Up</td>\n",
       "      <td>0.002307</td>\n",
       "      <td>0.038067</td>\n",
       "      <td>28.0</td>\n",
       "      <td>Up</td>\n",
       "      <td>0.002603</td>\n",
       "      <td>0.079130</td>\n",
       "    </tr>\n",
       "    <tr>\n",
       "      <th>HS-GAG degradation</th>\n",
       "      <td>6.0</td>\n",
       "      <td>Down</td>\n",
       "      <td>0.002472</td>\n",
       "      <td>0.038644</td>\n",
       "      <td>6.0</td>\n",
       "      <td>Down</td>\n",
       "      <td>0.002496</td>\n",
       "      <td>0.079130</td>\n",
       "    </tr>\n",
       "  </tbody>\n",
       "</table>\n",
       "</div>"
      ],
      "text/plain": [
       "                                                 NGenes_x Direction_x  \\\n",
       "name                                                                    \n",
       "Heparan sulfate/heparin (HS-GAG) metabolism          10.0        Down   \n",
       "CS/DS degradation                                     6.0        Down   \n",
       "Apoptosis                                            42.0          Up   \n",
       "Chondroitin sulfate/dermatan sulfate metabolism      11.0        Down   \n",
       "Glycosaminoglycan metabolism                         20.0        Down   \n",
       "Metabolism of RNA                                    23.0          Up   \n",
       "Signaling by the B Cell Receptor (BCR)               28.0          Up   \n",
       "Costimulation by the CD28 family                     26.0          Up   \n",
       "HS-GAG degradation                                    6.0        Down   \n",
       "\n",
       "                                                 PValue_x     FDR_x  NGenes_y  \\\n",
       "name                                                                            \n",
       "Heparan sulfate/heparin (HS-GAG) metabolism      0.000340  0.011219      10.0   \n",
       "CS/DS degradation                                0.000892  0.020368       6.0   \n",
       "Apoptosis                                        0.004922  0.060912      55.0   \n",
       "Chondroitin sulfate/dermatan sulfate metabolism  0.000716  0.017719      11.0   \n",
       "Glycosaminoglycan metabolism                     0.000547  0.016076      20.0   \n",
       "Metabolism of RNA                                0.001855  0.036475      34.0   \n",
       "Signaling by the B Cell Receptor (BCR)           0.000595  0.016076      27.0   \n",
       "Costimulation by the CD28 family                 0.002307  0.038067      28.0   \n",
       "HS-GAG degradation                               0.002472  0.038644       6.0   \n",
       "\n",
       "                                                Direction_y  PValue_y  \\\n",
       "name                                                                    \n",
       "Heparan sulfate/heparin (HS-GAG) metabolism            Down  0.000344   \n",
       "CS/DS degradation                                      Down  0.000902   \n",
       "Apoptosis                                                Up  0.000793   \n",
       "Chondroitin sulfate/dermatan sulfate metabolism        Down  0.000723   \n",
       "Glycosaminoglycan metabolism                           Down  0.000552   \n",
       "Metabolism of RNA                                        Up  0.001893   \n",
       "Signaling by the B Cell Receptor (BCR)                   Up  0.002515   \n",
       "Costimulation by the CD28 family                         Up  0.002603   \n",
       "HS-GAG degradation                                     Down  0.002496   \n",
       "\n",
       "                                                    FDR_y  \n",
       "name                                                       \n",
       "Heparan sulfate/heparin (HS-GAG) metabolism      0.052318  \n",
       "CS/DS degradation                                0.052743  \n",
       "Apoptosis                                        0.052743  \n",
       "Chondroitin sulfate/dermatan sulfate metabolism  0.052743  \n",
       "Glycosaminoglycan metabolism                     0.052743  \n",
       "Metabolism of RNA                                0.072002  \n",
       "Signaling by the B Cell Receptor (BCR)           0.079130  \n",
       "Costimulation by the CD28 family                 0.079130  \n",
       "HS-GAG degradation                               0.079130  "
      ]
     },
     "execution_count": 48,
     "metadata": {},
     "output_type": "execute_result"
    }
   ],
   "source": [
    "tb_log_agreement = agreement(tb_log_msig, tb_log_new, cutoff=0.1)\n",
    "tb_log_agreement"
   ]
  },
  {
   "cell_type": "code",
   "execution_count": 49,
   "metadata": {},
   "outputs": [],
   "source": [
    "%R import::here(barplot, .from='plots/differential_expression.R')"
   ]
  },
  {
   "cell_type": "code",
   "execution_count": 50,
   "metadata": {},
   "outputs": [
    {
     "data": {
      "image/png": "[encoded data removed]"
     },
     "metadata": {},
     "output_type": "display_data"
    }
   ],
   "source": [
    "%%R -w 1000 -u px -i tb_log_agreement\n",
    "sets_of_interest = rownames(tb_log_agreement)\n",
    "result = diff_ebayes('Tuberculosis', 'Healthy control', log10_gene_matrix_symbols)\n",
    "barplot(result$t[,1], sets_of_interest, reactome_new_symbol)"
   ]
  },
  {
   "cell_type": "code",
   "execution_count": 51,
   "metadata": {},
   "outputs": [
    {
     "data": {
      "image/png": "[encoded data removed]"
     },
     "metadata": {},
     "output_type": "display_data"
    }
   ],
   "source": [
    "%%R -w 1000 -u px\n",
    "barplot(rowMeans(log10_gene_matrix_symbols), sets_of_interest, reactome_new_symbol)"
   ]
  },
  {
   "cell_type": "markdown",
   "metadata": {},
   "source": [
    "### TB vs crypto"
   ]
  },
  {
   "cell_type": "code",
   "execution_count": 52,
   "metadata": {},
   "outputs": [],
   "source": [
    "%%R -o tb_cc_log_msig\n",
    "tb_cc_log_msig = camera('Tuberculosis', 'Cryptococcal', log10_gene_matrix, c2.cp.reactome, intercept='Healthy.control')"
   ]
  },
  {
   "cell_type": "code",
   "execution_count": 53,
   "metadata": {},
   "outputs": [
    {
     "data": {
      "text/html": [
       "<div>\n",
       "<style scoped>\n",
       "    .dataframe tbody tr th:only-of-type {\n",
       "        vertical-align: middle;\n",
       "    }\n",
       "\n",
       "    .dataframe tbody tr th {\n",
       "        vertical-align: top;\n",
       "    }\n",
       "\n",
       "    .dataframe thead th {\n",
       "        text-align: right;\n",
       "    }\n",
       "</style>\n",
       "<table border=\"1\" class=\"dataframe\">\n",
       "  <thead>\n",
       "    <tr style=\"text-align: right;\">\n",
       "      <th></th>\n",
       "      <th>NGenes</th>\n",
       "      <th>Direction</th>\n",
       "      <th>PValue</th>\n",
       "      <th>FDR</th>\n",
       "    </tr>\n",
       "  </thead>\n",
       "  <tbody>\n",
       "    <tr>\n",
       "      <th>RNA Pol I Promoter Opening</th>\n",
       "      <td>13.0</td>\n",
       "      <td>Up</td>\n",
       "      <td>4.323392e-07</td>\n",
       "      <td>0.000063</td>\n",
       "    </tr>\n",
       "    <tr>\n",
       "      <th>Transcription</th>\n",
       "      <td>18.0</td>\n",
       "      <td>Up</td>\n",
       "      <td>5.776950e-07</td>\n",
       "      <td>0.000063</td>\n",
       "    </tr>\n",
       "    <tr>\n",
       "      <th>Meiosis</th>\n",
       "      <td>16.0</td>\n",
       "      <td>Up</td>\n",
       "      <td>9.298226e-07</td>\n",
       "      <td>0.000063</td>\n",
       "    </tr>\n",
       "    <tr>\n",
       "      <th>RNA Pol I Transcription</th>\n",
       "      <td>14.0</td>\n",
       "      <td>Up</td>\n",
       "      <td>9.740679e-07</td>\n",
       "      <td>0.000063</td>\n",
       "    </tr>\n",
       "    <tr>\n",
       "      <th>RNA Pol I RNA Pol Iii And Mitochondrial Transcription</th>\n",
       "      <td>16.0</td>\n",
       "      <td>Up</td>\n",
       "      <td>1.251975e-06</td>\n",
       "      <td>0.000063</td>\n",
       "    </tr>\n",
       "    <tr>\n",
       "      <th>Meiotic recombination</th>\n",
       "      <td>14.0</td>\n",
       "      <td>Up</td>\n",
       "      <td>1.263660e-06</td>\n",
       "      <td>0.000063</td>\n",
       "    </tr>\n",
       "    <tr>\n",
       "      <th>Signaling by SCF-KIT</th>\n",
       "      <td>38.0</td>\n",
       "      <td>Up</td>\n",
       "      <td>8.172988e-06</td>\n",
       "      <td>0.000347</td>\n",
       "    </tr>\n",
       "    <tr>\n",
       "      <th>Peptide hormone biosynthesis</th>\n",
       "      <td>8.0</td>\n",
       "      <td>Down</td>\n",
       "      <td>5.207938e-05</td>\n",
       "      <td>0.001933</td>\n",
       "    </tr>\n",
       "    <tr>\n",
       "      <th>Signaling by the B Cell Receptor (BCR)</th>\n",
       "      <td>28.0</td>\n",
       "      <td>Up</td>\n",
       "      <td>9.132370e-05</td>\n",
       "      <td>0.003014</td>\n",
       "    </tr>\n",
       "    <tr>\n",
       "      <th>Glycoprotein hormones</th>\n",
       "      <td>7.0</td>\n",
       "      <td>Down</td>\n",
       "      <td>1.161016e-04</td>\n",
       "      <td>0.003448</td>\n",
       "    </tr>\n",
       "  </tbody>\n",
       "</table>\n",
       "</div>"
      ],
      "text/plain": [
       "                                                    NGenes Direction  \\\n",
       "RNA Pol I Promoter Opening                            13.0        Up   \n",
       "Transcription                                         18.0        Up   \n",
       "Meiosis                                               16.0        Up   \n",
       "RNA Pol I Transcription                               14.0        Up   \n",
       "RNA Pol I RNA Pol Iii And Mitochondrial Transcr...    16.0        Up   \n",
       "Meiotic recombination                                 14.0        Up   \n",
       "Signaling by SCF-KIT                                  38.0        Up   \n",
       "Peptide hormone biosynthesis                           8.0      Down   \n",
       "Signaling by the B Cell Receptor (BCR)                28.0        Up   \n",
       "Glycoprotein hormones                                  7.0      Down   \n",
       "\n",
       "                                                          PValue       FDR  \n",
       "RNA Pol I Promoter Opening                          4.323392e-07  0.000063  \n",
       "Transcription                                       5.776950e-07  0.000063  \n",
       "Meiosis                                             9.298226e-07  0.000063  \n",
       "RNA Pol I Transcription                             9.740679e-07  0.000063  \n",
       "RNA Pol I RNA Pol Iii And Mitochondrial Transcr...  1.251975e-06  0.000063  \n",
       "Meiotic recombination                               1.263660e-06  0.000063  \n",
       "Signaling by SCF-KIT                                8.172988e-06  0.000347  \n",
       "Peptide hormone biosynthesis                        5.207938e-05  0.001933  \n",
       "Signaling by the B Cell Receptor (BCR)              9.132370e-05  0.003014  \n",
       "Glycoprotein hormones                               1.161016e-04  0.003448  "
      ]
     },
     "execution_count": 53,
     "metadata": {},
     "output_type": "execute_result"
    }
   ],
   "source": [
    "tb_cc_log_msig.head(10)"
   ]
  },
  {
   "cell_type": "code",
   "execution_count": 54,
   "metadata": {},
   "outputs": [],
   "source": [
    "%%R -o tb_cc_log_new\n",
    "tb_cc_log_new = camera('Tuberculosis', 'Cryptococcal', log10_gene_matrix_symbols, reactome_new_symbol, intercept='Healthy.control')"
   ]
  },
  {
   "cell_type": "code",
   "execution_count": 55,
   "metadata": {},
   "outputs": [
    {
     "data": {
      "text/html": [
       "<div>\n",
       "<style scoped>\n",
       "    .dataframe tbody tr th:only-of-type {\n",
       "        vertical-align: middle;\n",
       "    }\n",
       "\n",
       "    .dataframe tbody tr th {\n",
       "        vertical-align: top;\n",
       "    }\n",
       "\n",
       "    .dataframe thead th {\n",
       "        text-align: right;\n",
       "    }\n",
       "</style>\n",
       "<table border=\"1\" class=\"dataframe\">\n",
       "  <thead>\n",
       "    <tr style=\"text-align: right;\">\n",
       "      <th></th>\n",
       "      <th>NGenes</th>\n",
       "      <th>Direction</th>\n",
       "      <th>PValue</th>\n",
       "      <th>FDR</th>\n",
       "    </tr>\n",
       "  </thead>\n",
       "  <tbody>\n",
       "    <tr>\n",
       "      <th>Cell Cycle</th>\n",
       "      <td>69.0</td>\n",
       "      <td>Up</td>\n",
       "      <td>0.000020</td>\n",
       "      <td>0.013337</td>\n",
       "    </tr>\n",
       "    <tr>\n",
       "      <th>Cell Cycle, Mitotic</th>\n",
       "      <td>59.0</td>\n",
       "      <td>Up</td>\n",
       "      <td>0.000042</td>\n",
       "      <td>0.013337</td>\n",
       "    </tr>\n",
       "    <tr>\n",
       "      <th>Peptide hormone biosynthesis</th>\n",
       "      <td>8.0</td>\n",
       "      <td>Down</td>\n",
       "      <td>0.000053</td>\n",
       "      <td>0.013337</td>\n",
       "    </tr>\n",
       "    <tr>\n",
       "      <th>Glycoprotein hormones</th>\n",
       "      <td>7.0</td>\n",
       "      <td>Down</td>\n",
       "      <td>0.000117</td>\n",
       "      <td>0.022279</td>\n",
       "    </tr>\n",
       "    <tr>\n",
       "      <th>Assembly of collagen fibrils and other multimeric structures</th>\n",
       "      <td>10.0</td>\n",
       "      <td>Down</td>\n",
       "      <td>0.000198</td>\n",
       "      <td>0.030149</td>\n",
       "    </tr>\n",
       "    <tr>\n",
       "      <th>M Phase</th>\n",
       "      <td>38.0</td>\n",
       "      <td>Up</td>\n",
       "      <td>0.000254</td>\n",
       "      <td>0.032130</td>\n",
       "    </tr>\n",
       "    <tr>\n",
       "      <th>Signaling by Rho GTPases</th>\n",
       "      <td>39.0</td>\n",
       "      <td>Up</td>\n",
       "      <td>0.000375</td>\n",
       "      <td>0.040083</td>\n",
       "    </tr>\n",
       "    <tr>\n",
       "      <th>CREB1 phosphorylation through NMDA receptor-mediated activation of RAS signaling</th>\n",
       "      <td>8.0</td>\n",
       "      <td>Up</td>\n",
       "      <td>0.000442</td>\n",
       "      <td>0.040083</td>\n",
       "    </tr>\n",
       "    <tr>\n",
       "      <th>Signaling by SCF-KIT</th>\n",
       "      <td>24.0</td>\n",
       "      <td>Up</td>\n",
       "      <td>0.000475</td>\n",
       "      <td>0.040083</td>\n",
       "    </tr>\n",
       "    <tr>\n",
       "      <th>Collagen degradation</th>\n",
       "      <td>17.0</td>\n",
       "      <td>Down</td>\n",
       "      <td>0.000812</td>\n",
       "      <td>0.061497</td>\n",
       "    </tr>\n",
       "  </tbody>\n",
       "</table>\n",
       "</div>"
      ],
      "text/plain": [
       "                                                    NGenes Direction  \\\n",
       "Cell Cycle                                            69.0        Up   \n",
       "Cell Cycle, Mitotic                                   59.0        Up   \n",
       "Peptide hormone biosynthesis                           8.0      Down   \n",
       "Glycoprotein hormones                                  7.0      Down   \n",
       "Assembly of collagen fibrils and other multimer...    10.0      Down   \n",
       "M Phase                                               38.0        Up   \n",
       "Signaling by Rho GTPases                              39.0        Up   \n",
       "CREB1 phosphorylation through NMDA receptor-med...     8.0        Up   \n",
       "Signaling by SCF-KIT                                  24.0        Up   \n",
       "Collagen degradation                                  17.0      Down   \n",
       "\n",
       "                                                      PValue       FDR  \n",
       "Cell Cycle                                          0.000020  0.013337  \n",
       "Cell Cycle, Mitotic                                 0.000042  0.013337  \n",
       "Peptide hormone biosynthesis                        0.000053  0.013337  \n",
       "Glycoprotein hormones                               0.000117  0.022279  \n",
       "Assembly of collagen fibrils and other multimer...  0.000198  0.030149  \n",
       "M Phase                                             0.000254  0.032130  \n",
       "Signaling by Rho GTPases                            0.000375  0.040083  \n",
       "CREB1 phosphorylation through NMDA receptor-med...  0.000442  0.040083  \n",
       "Signaling by SCF-KIT                                0.000475  0.040083  \n",
       "Collagen degradation                                0.000812  0.061497  "
      ]
     },
     "execution_count": 55,
     "metadata": {},
     "output_type": "execute_result"
    }
   ],
   "source": [
    "tb_cc_log_new.head(10)"
   ]
  },
  {
   "cell_type": "code",
   "execution_count": 56,
   "metadata": {},
   "outputs": [
    {
     "data": {
      "text/html": [
       "<div>\n",
       "<style scoped>\n",
       "    .dataframe tbody tr th:only-of-type {\n",
       "        vertical-align: middle;\n",
       "    }\n",
       "\n",
       "    .dataframe tbody tr th {\n",
       "        vertical-align: top;\n",
       "    }\n",
       "\n",
       "    .dataframe thead th {\n",
       "        text-align: right;\n",
       "    }\n",
       "</style>\n",
       "<table border=\"1\" class=\"dataframe\">\n",
       "  <thead>\n",
       "    <tr style=\"text-align: right;\">\n",
       "      <th></th>\n",
       "      <th>NGenes_x</th>\n",
       "      <th>Direction_x</th>\n",
       "      <th>PValue_x</th>\n",
       "      <th>FDR_x</th>\n",
       "      <th>NGenes_y</th>\n",
       "      <th>Direction_y</th>\n",
       "      <th>PValue_y</th>\n",
       "      <th>FDR_y</th>\n",
       "    </tr>\n",
       "    <tr>\n",
       "      <th>name</th>\n",
       "      <th></th>\n",
       "      <th></th>\n",
       "      <th></th>\n",
       "      <th></th>\n",
       "      <th></th>\n",
       "      <th></th>\n",
       "      <th></th>\n",
       "      <th></th>\n",
       "    </tr>\n",
       "  </thead>\n",
       "  <tbody>\n",
       "    <tr>\n",
       "      <th>Peptide hormone biosynthesis</th>\n",
       "      <td>8.0</td>\n",
       "      <td>Down</td>\n",
       "      <td>0.000052</td>\n",
       "      <td>0.001933</td>\n",
       "      <td>8.0</td>\n",
       "      <td>Down</td>\n",
       "      <td>0.000053</td>\n",
       "      <td>0.013337</td>\n",
       "    </tr>\n",
       "    <tr>\n",
       "      <th>Cell Cycle</th>\n",
       "      <td>34.0</td>\n",
       "      <td>Up</td>\n",
       "      <td>0.007341</td>\n",
       "      <td>0.056209</td>\n",
       "      <td>69.0</td>\n",
       "      <td>Up</td>\n",
       "      <td>0.000020</td>\n",
       "      <td>0.013337</td>\n",
       "    </tr>\n",
       "    <tr>\n",
       "      <th>Glycoprotein hormones</th>\n",
       "      <td>7.0</td>\n",
       "      <td>Down</td>\n",
       "      <td>0.000116</td>\n",
       "      <td>0.003448</td>\n",
       "      <td>7.0</td>\n",
       "      <td>Down</td>\n",
       "      <td>0.000117</td>\n",
       "      <td>0.022279</td>\n",
       "    </tr>\n",
       "    <tr>\n",
       "      <th>Signaling by SCF-KIT</th>\n",
       "      <td>38.0</td>\n",
       "      <td>Up</td>\n",
       "      <td>0.000008</td>\n",
       "      <td>0.000347</td>\n",
       "      <td>24.0</td>\n",
       "      <td>Up</td>\n",
       "      <td>0.000475</td>\n",
       "      <td>0.040083</td>\n",
       "    </tr>\n",
       "    <tr>\n",
       "      <th>Post NMDA receptor activation events</th>\n",
       "      <td>7.0</td>\n",
       "      <td>Up</td>\n",
       "      <td>0.002936</td>\n",
       "      <td>0.034646</td>\n",
       "      <td>22.0</td>\n",
       "      <td>Up</td>\n",
       "      <td>0.001915</td>\n",
       "      <td>0.061755</td>\n",
       "    </tr>\n",
       "    <tr>\n",
       "      <th>Apoptosis</th>\n",
       "      <td>42.0</td>\n",
       "      <td>Up</td>\n",
       "      <td>0.010565</td>\n",
       "      <td>0.066686</td>\n",
       "      <td>55.0</td>\n",
       "      <td>Up</td>\n",
       "      <td>0.001466</td>\n",
       "      <td>0.061755</td>\n",
       "    </tr>\n",
       "    <tr>\n",
       "      <th>Signaling by the B Cell Receptor (BCR)</th>\n",
       "      <td>28.0</td>\n",
       "      <td>Up</td>\n",
       "      <td>0.000091</td>\n",
       "      <td>0.003014</td>\n",
       "      <td>27.0</td>\n",
       "      <td>Up</td>\n",
       "      <td>0.004460</td>\n",
       "      <td>0.074085</td>\n",
       "    </tr>\n",
       "    <tr>\n",
       "      <th>Signalling to ERKs</th>\n",
       "      <td>20.0</td>\n",
       "      <td>Up</td>\n",
       "      <td>0.003939</td>\n",
       "      <td>0.038999</td>\n",
       "      <td>18.0</td>\n",
       "      <td>Up</td>\n",
       "      <td>0.005107</td>\n",
       "      <td>0.074085</td>\n",
       "    </tr>\n",
       "    <tr>\n",
       "      <th>TRAF6 mediated induction of NFkB and MAP kinases upon TLR7/8 or 9 activation</th>\n",
       "      <td>26.0</td>\n",
       "      <td>Up</td>\n",
       "      <td>0.003033</td>\n",
       "      <td>0.034646</td>\n",
       "      <td>29.0</td>\n",
       "      <td>Up</td>\n",
       "      <td>0.004829</td>\n",
       "      <td>0.074085</td>\n",
       "    </tr>\n",
       "    <tr>\n",
       "      <th>AKT phosphorylates targets in the cytosol</th>\n",
       "      <td>7.0</td>\n",
       "      <td>Up</td>\n",
       "      <td>0.007360</td>\n",
       "      <td>0.056209</td>\n",
       "      <td>8.0</td>\n",
       "      <td>Up</td>\n",
       "      <td>0.004874</td>\n",
       "      <td>0.074085</td>\n",
       "    </tr>\n",
       "    <tr>\n",
       "      <th>PIP3 activates AKT signaling</th>\n",
       "      <td>9.0</td>\n",
       "      <td>Up</td>\n",
       "      <td>0.005979</td>\n",
       "      <td>0.050883</td>\n",
       "      <td>81.0</td>\n",
       "      <td>Up</td>\n",
       "      <td>0.003127</td>\n",
       "      <td>0.074085</td>\n",
       "    </tr>\n",
       "    <tr>\n",
       "      <th>Metabolism of RNA</th>\n",
       "      <td>23.0</td>\n",
       "      <td>Up</td>\n",
       "      <td>0.007949</td>\n",
       "      <td>0.056209</td>\n",
       "      <td>34.0</td>\n",
       "      <td>Up</td>\n",
       "      <td>0.003603</td>\n",
       "      <td>0.074085</td>\n",
       "    </tr>\n",
       "    <tr>\n",
       "      <th>MHC class II antigen presentation</th>\n",
       "      <td>12.0</td>\n",
       "      <td>Down</td>\n",
       "      <td>0.002303</td>\n",
       "      <td>0.032776</td>\n",
       "      <td>14.0</td>\n",
       "      <td>Down</td>\n",
       "      <td>0.006385</td>\n",
       "      <td>0.077436</td>\n",
       "    </tr>\n",
       "    <tr>\n",
       "      <th>GPVI-mediated activation cascade</th>\n",
       "      <td>13.0</td>\n",
       "      <td>Up</td>\n",
       "      <td>0.001955</td>\n",
       "      <td>0.032776</td>\n",
       "      <td>14.0</td>\n",
       "      <td>Up</td>\n",
       "      <td>0.005942</td>\n",
       "      <td>0.077436</td>\n",
       "    </tr>\n",
       "    <tr>\n",
       "      <th>Antigen processing: Ubiquitination &amp; Proteasome degradation</th>\n",
       "      <td>12.0</td>\n",
       "      <td>Up</td>\n",
       "      <td>0.008702</td>\n",
       "      <td>0.058506</td>\n",
       "      <td>15.0</td>\n",
       "      <td>Up</td>\n",
       "      <td>0.008463</td>\n",
       "      <td>0.085983</td>\n",
       "    </tr>\n",
       "    <tr>\n",
       "      <th>Regulation of KIT signaling</th>\n",
       "      <td>9.0</td>\n",
       "      <td>Up</td>\n",
       "      <td>0.010196</td>\n",
       "      <td>0.065830</td>\n",
       "      <td>9.0</td>\n",
       "      <td>Up</td>\n",
       "      <td>0.010228</td>\n",
       "      <td>0.093428</td>\n",
       "    </tr>\n",
       "    <tr>\n",
       "      <th>Regulation of mRNA stability by proteins that bind AU-rich elements</th>\n",
       "      <td>17.0</td>\n",
       "      <td>Up</td>\n",
       "      <td>0.015511</td>\n",
       "      <td>0.086917</td>\n",
       "      <td>21.0</td>\n",
       "      <td>Up</td>\n",
       "      <td>0.010923</td>\n",
       "      <td>0.095281</td>\n",
       "    </tr>\n",
       "  </tbody>\n",
       "</table>\n",
       "</div>"
      ],
      "text/plain": [
       "                                                                              NGenes_x  \\\n",
       "name                                                                                     \n",
       "Peptide hormone biosynthesis                                                  8.0        \n",
       "Cell Cycle                                                                    34.0       \n",
       "Glycoprotein hormones                                                         7.0        \n",
       "Signaling by SCF-KIT                                                          38.0       \n",
       "Post NMDA receptor activation events                                          7.0        \n",
       "Apoptosis                                                                     42.0       \n",
       "Signaling by the B Cell Receptor (BCR)                                        28.0       \n",
       "Signalling to ERKs                                                            20.0       \n",
       "TRAF6 mediated induction of NFkB and MAP kinases upon TLR7/8 or 9 activation  26.0       \n",
       "AKT phosphorylates targets in the cytosol                                     7.0        \n",
       "PIP3 activates AKT signaling                                                  9.0        \n",
       "Metabolism of RNA                                                             23.0       \n",
       "MHC class II antigen presentation                                             12.0       \n",
       "GPVI-mediated activation cascade                                              13.0       \n",
       "Antigen processing: Ubiquitination & Proteasome degradation                   12.0       \n",
       "Regulation of KIT signaling                                                   9.0        \n",
       "Regulation of mRNA stability by proteins that bind AU-rich elements           17.0       \n",
       "\n",
       "                                                                             Direction_x  \\\n",
       "name                                                                                       \n",
       "Peptide hormone biosynthesis                                                  Down         \n",
       "Cell Cycle                                                                    Up           \n",
       "Glycoprotein hormones                                                         Down         \n",
       "Signaling by SCF-KIT                                                          Up           \n",
       "Post NMDA receptor activation events                                          Up           \n",
       "Apoptosis                                                                     Up           \n",
       "Signaling by the B Cell Receptor (BCR)                                        Up           \n",
       "Signalling to ERKs                                                            Up           \n",
       "TRAF6 mediated induction of NFkB and MAP kinases upon TLR7/8 or 9 activation  Up           \n",
       "AKT phosphorylates targets in the cytosol                                     Up           \n",
       "PIP3 activates AKT signaling                                                  Up           \n",
       "Metabolism of RNA                                                             Up           \n",
       "MHC class II antigen presentation                                             Down         \n",
       "GPVI-mediated activation cascade                                              Up           \n",
       "Antigen processing: Ubiquitination & Proteasome degradation                   Up           \n",
       "Regulation of KIT signaling                                                   Up           \n",
       "Regulation of mRNA stability by proteins that bind AU-rich elements           Up           \n",
       "\n",
       "                                                                              PValue_x  \\\n",
       "name                                                                                     \n",
       "Peptide hormone biosynthesis                                                  0.000052   \n",
       "Cell Cycle                                                                    0.007341   \n",
       "Glycoprotein hormones                                                         0.000116   \n",
       "Signaling by SCF-KIT                                                          0.000008   \n",
       "Post NMDA receptor activation events                                          0.002936   \n",
       "Apoptosis                                                                     0.010565   \n",
       "Signaling by the B Cell Receptor (BCR)                                        0.000091   \n",
       "Signalling to ERKs                                                            0.003939   \n",
       "TRAF6 mediated induction of NFkB and MAP kinases upon TLR7/8 or 9 activation  0.003033   \n",
       "AKT phosphorylates targets in the cytosol                                     0.007360   \n",
       "PIP3 activates AKT signaling                                                  0.005979   \n",
       "Metabolism of RNA                                                             0.007949   \n",
       "MHC class II antigen presentation                                             0.002303   \n",
       "GPVI-mediated activation cascade                                              0.001955   \n",
       "Antigen processing: Ubiquitination & Proteasome degradation                   0.008702   \n",
       "Regulation of KIT signaling                                                   0.010196   \n",
       "Regulation of mRNA stability by proteins that bind AU-rich elements           0.015511   \n",
       "\n",
       "                                                                                 FDR_x  \\\n",
       "name                                                                                     \n",
       "Peptide hormone biosynthesis                                                  0.001933   \n",
       "Cell Cycle                                                                    0.056209   \n",
       "Glycoprotein hormones                                                         0.003448   \n",
       "Signaling by SCF-KIT                                                          0.000347   \n",
       "Post NMDA receptor activation events                                          0.034646   \n",
       "Apoptosis                                                                     0.066686   \n",
       "Signaling by the B Cell Receptor (BCR)                                        0.003014   \n",
       "Signalling to ERKs                                                            0.038999   \n",
       "TRAF6 mediated induction of NFkB and MAP kinases upon TLR7/8 or 9 activation  0.034646   \n",
       "AKT phosphorylates targets in the cytosol                                     0.056209   \n",
       "PIP3 activates AKT signaling                                                  0.050883   \n",
       "Metabolism of RNA                                                             0.056209   \n",
       "MHC class II antigen presentation                                             0.032776   \n",
       "GPVI-mediated activation cascade                                              0.032776   \n",
       "Antigen processing: Ubiquitination & Proteasome degradation                   0.058506   \n",
       "Regulation of KIT signaling                                                   0.065830   \n",
       "Regulation of mRNA stability by proteins that bind AU-rich elements           0.086917   \n",
       "\n",
       "                                                                              NGenes_y  \\\n",
       "name                                                                                     \n",
       "Peptide hormone biosynthesis                                                  8.0        \n",
       "Cell Cycle                                                                    69.0       \n",
       "Glycoprotein hormones                                                         7.0        \n",
       "Signaling by SCF-KIT                                                          24.0       \n",
       "Post NMDA receptor activation events                                          22.0       \n",
       "Apoptosis                                                                     55.0       \n",
       "Signaling by the B Cell Receptor (BCR)                                        27.0       \n",
       "Signalling to ERKs                                                            18.0       \n",
       "TRAF6 mediated induction of NFkB and MAP kinases upon TLR7/8 or 9 activation  29.0       \n",
       "AKT phosphorylates targets in the cytosol                                     8.0        \n",
       "PIP3 activates AKT signaling                                                  81.0       \n",
       "Metabolism of RNA                                                             34.0       \n",
       "MHC class II antigen presentation                                             14.0       \n",
       "GPVI-mediated activation cascade                                              14.0       \n",
       "Antigen processing: Ubiquitination & Proteasome degradation                   15.0       \n",
       "Regulation of KIT signaling                                                   9.0        \n",
       "Regulation of mRNA stability by proteins that bind AU-rich elements           21.0       \n",
       "\n",
       "                                                                             Direction_y  \\\n",
       "name                                                                                       \n",
       "Peptide hormone biosynthesis                                                  Down         \n",
       "Cell Cycle                                                                    Up           \n",
       "Glycoprotein hormones                                                         Down         \n",
       "Signaling by SCF-KIT                                                          Up           \n",
       "Post NMDA receptor activation events                                          Up           \n",
       "Apoptosis                                                                     Up           \n",
       "Signaling by the B Cell Receptor (BCR)                                        Up           \n",
       "Signalling to ERKs                                                            Up           \n",
       "TRAF6 mediated induction of NFkB and MAP kinases upon TLR7/8 or 9 activation  Up           \n",
       "AKT phosphorylates targets in the cytosol                                     Up           \n",
       "PIP3 activates AKT signaling                                                  Up           \n",
       "Metabolism of RNA                                                             Up           \n",
       "MHC class II antigen presentation                                             Down         \n",
       "GPVI-mediated activation cascade                                              Up           \n",
       "Antigen processing: Ubiquitination & Proteasome degradation                   Up           \n",
       "Regulation of KIT signaling                                                   Up           \n",
       "Regulation of mRNA stability by proteins that bind AU-rich elements           Up           \n",
       "\n",
       "                                                                              PValue_y  \\\n",
       "name                                                                                     \n",
       "Peptide hormone biosynthesis                                                  0.000053   \n",
       "Cell Cycle                                                                    0.000020   \n",
       "Glycoprotein hormones                                                         0.000117   \n",
       "Signaling by SCF-KIT                                                          0.000475   \n",
       "Post NMDA receptor activation events                                          0.001915   \n",
       "Apoptosis                                                                     0.001466   \n",
       "Signaling by the B Cell Receptor (BCR)                                        0.004460   \n",
       "Signalling to ERKs                                                            0.005107   \n",
       "TRAF6 mediated induction of NFkB and MAP kinases upon TLR7/8 or 9 activation  0.004829   \n",
       "AKT phosphorylates targets in the cytosol                                     0.004874   \n",
       "PIP3 activates AKT signaling                                                  0.003127   \n",
       "Metabolism of RNA                                                             0.003603   \n",
       "MHC class II antigen presentation                                             0.006385   \n",
       "GPVI-mediated activation cascade                                              0.005942   \n",
       "Antigen processing: Ubiquitination & Proteasome degradation                   0.008463   \n",
       "Regulation of KIT signaling                                                   0.010228   \n",
       "Regulation of mRNA stability by proteins that bind AU-rich elements           0.010923   \n",
       "\n",
       "                                                                                 FDR_y  \n",
       "name                                                                                    \n",
       "Peptide hormone biosynthesis                                                  0.013337  \n",
       "Cell Cycle                                                                    0.013337  \n",
       "Glycoprotein hormones                                                         0.022279  \n",
       "Signaling by SCF-KIT                                                          0.040083  \n",
       "Post NMDA receptor activation events                                          0.061755  \n",
       "Apoptosis                                                                     0.061755  \n",
       "Signaling by the B Cell Receptor (BCR)                                        0.074085  \n",
       "Signalling to ERKs                                                            0.074085  \n",
       "TRAF6 mediated induction of NFkB and MAP kinases upon TLR7/8 or 9 activation  0.074085  \n",
       "AKT phosphorylates targets in the cytosol                                     0.074085  \n",
       "PIP3 activates AKT signaling                                                  0.074085  \n",
       "Metabolism of RNA                                                             0.074085  \n",
       "MHC class II antigen presentation                                             0.077436  \n",
       "GPVI-mediated activation cascade                                              0.077436  \n",
       "Antigen processing: Ubiquitination & Proteasome degradation                   0.085983  \n",
       "Regulation of KIT signaling                                                   0.093428  \n",
       "Regulation of mRNA stability by proteins that bind AU-rich elements           0.095281  "
      ]
     },
     "metadata": {},
     "output_type": "display_data"
    }
   ],
   "source": [
    "show_table(agreement(tb_cc_log_msig, tb_cc_log_new, cutoff=0.1))"
   ]
  },
  {
   "cell_type": "markdown",
   "metadata": {},
   "source": [
    "TODO: Cell cycle - what makes it come"
   ]
  },
  {
   "cell_type": "code",
   "execution_count": 57,
   "metadata": {},
   "outputs": [],
   "source": [
    "%R import::here(gene_set_heatmap, .from='plots/differential_expression.R')"
   ]
  },
  {
   "cell_type": "code",
   "execution_count": 58,
   "metadata": {},
   "outputs": [],
   "source": [
    "from plots.annotations import generate_patient_annotations\n",
    "counts_patient_annotations = generate_patient_annotations(clinical)"
   ]
  },
  {
   "cell_type": "code",
   "execution_count": 59,
   "metadata": {},
   "outputs": [
    {
     "data": {
      "image/png": "[encoded data removed]"
     },
     "metadata": {},
     "output_type": "display_data"
    }
   ],
   "source": [
    "%%R -w 1000 -h 900 -i counts_patient_annotations\n",
    "\n",
    "# TODO: handle the globals below\n",
    "names(counts_patient_annotations) = dot_to_space(names(counts_patient_annotations))\n",
    "outliers=c()\n",
    "\n",
    "# TODO: use complex heatmap instead\n",
    "gene_set_heatmap(\n",
    "    head(tb_cc_log_msig, 50), log10_gene_matrix,\n",
    "    collection=c2.cp.reactome, id_type=NULL\n",
    ")"
   ]
  },
  {
   "cell_type": "markdown",
   "metadata": {},
   "source": [
    "## HIV?"
   ]
  },
  {
   "cell_type": "code",
   "execution_count": 60,
   "metadata": {},
   "outputs": [],
   "source": [
    "hiv_status = clinical.HIVResult"
   ]
  },
  {
   "cell_type": "code",
   "execution_count": 61,
   "metadata": {},
   "outputs": [],
   "source": [
    "%%R -i hiv_status -o hiv_pos_vs_neg\n",
    "hiv_pos_vs_neg = camera('Positive', '(Intercept)', log10_gene_matrix, c2.cp.reactome, design=hiv_status)"
   ]
  },
  {
   "cell_type": "code",
   "execution_count": 62,
   "metadata": {},
   "outputs": [
    {
     "data": {
      "text/html": [
       "<div>\n",
       "<style scoped>\n",
       "    .dataframe tbody tr th:only-of-type {\n",
       "        vertical-align: middle;\n",
       "    }\n",
       "\n",
       "    .dataframe tbody tr th {\n",
       "        vertical-align: top;\n",
       "    }\n",
       "\n",
       "    .dataframe thead th {\n",
       "        text-align: right;\n",
       "    }\n",
       "</style>\n",
       "<table border=\"1\" class=\"dataframe\">\n",
       "  <thead>\n",
       "    <tr style=\"text-align: right;\">\n",
       "      <th></th>\n",
       "      <th>NGenes</th>\n",
       "      <th>Direction</th>\n",
       "      <th>PValue</th>\n",
       "      <th>FDR</th>\n",
       "    </tr>\n",
       "  </thead>\n",
       "  <tbody>\n",
       "    <tr>\n",
       "      <th>Regulation of Complement cascade</th>\n",
       "      <td>8.0</td>\n",
       "      <td>Down</td>\n",
       "      <td>2.872949e-09</td>\n",
       "      <td>8.532659e-07</td>\n",
       "    </tr>\n",
       "    <tr>\n",
       "      <th>Complement cascade</th>\n",
       "      <td>22.0</td>\n",
       "      <td>Down</td>\n",
       "      <td>6.034508e-08</td>\n",
       "      <td>8.961244e-06</td>\n",
       "    </tr>\n",
       "    <tr>\n",
       "      <th>Common Pathway</th>\n",
       "      <td>10.0</td>\n",
       "      <td>Down</td>\n",
       "      <td>6.436680e-07</td>\n",
       "      <td>6.372313e-05</td>\n",
       "    </tr>\n",
       "    <tr>\n",
       "      <th>Regulation Of Insulin Like Growth Factor Igf Activity By Insulin Like Growth Factor Binding Proteins Igfbps</th>\n",
       "      <td>13.0</td>\n",
       "      <td>Down</td>\n",
       "      <td>2.261444e-06</td>\n",
       "      <td>1.679122e-04</td>\n",
       "    </tr>\n",
       "    <tr>\n",
       "      <th>Hdl Mediated Lipid Transport</th>\n",
       "      <td>6.0</td>\n",
       "      <td>Down</td>\n",
       "      <td>2.963196e-06</td>\n",
       "      <td>1.760139e-04</td>\n",
       "    </tr>\n",
       "    <tr>\n",
       "      <th>Initial triggering of complement</th>\n",
       "      <td>11.0</td>\n",
       "      <td>Down</td>\n",
       "      <td>1.427589e-05</td>\n",
       "      <td>7.066565e-04</td>\n",
       "    </tr>\n",
       "    <tr>\n",
       "      <th>G alpha (q) signalling events</th>\n",
       "      <td>16.0</td>\n",
       "      <td>Down</td>\n",
       "      <td>3.028667e-04</td>\n",
       "      <td>1.285020e-02</td>\n",
       "    </tr>\n",
       "    <tr>\n",
       "      <th>Lipoprotein Metabolism</th>\n",
       "      <td>9.0</td>\n",
       "      <td>Down</td>\n",
       "      <td>6.187618e-04</td>\n",
       "      <td>2.297153e-02</td>\n",
       "    </tr>\n",
       "    <tr>\n",
       "      <th>Formation of Fibrin Clot (Clotting Cascade)</th>\n",
       "      <td>22.0</td>\n",
       "      <td>Down</td>\n",
       "      <td>1.085712e-03</td>\n",
       "      <td>3.582849e-02</td>\n",
       "    </tr>\n",
       "    <tr>\n",
       "      <th>Lipid Digestion Mobilization And Transport</th>\n",
       "      <td>10.0</td>\n",
       "      <td>Down</td>\n",
       "      <td>2.008847e-03</td>\n",
       "      <td>5.187171e-02</td>\n",
       "    </tr>\n",
       "  </tbody>\n",
       "</table>\n",
       "</div>"
      ],
      "text/plain": [
       "                                                    NGenes Direction  \\\n",
       "Regulation of Complement cascade                       8.0      Down   \n",
       "Complement cascade                                    22.0      Down   \n",
       "Common Pathway                                        10.0      Down   \n",
       "Regulation Of Insulin Like Growth Factor Igf Ac...    13.0      Down   \n",
       "Hdl Mediated Lipid Transport                           6.0      Down   \n",
       "Initial triggering of complement                      11.0      Down   \n",
       "G alpha (q) signalling events                         16.0      Down   \n",
       "Lipoprotein Metabolism                                 9.0      Down   \n",
       "Formation of Fibrin Clot (Clotting Cascade)           22.0      Down   \n",
       "Lipid Digestion Mobilization And Transport            10.0      Down   \n",
       "\n",
       "                                                          PValue           FDR  \n",
       "Regulation of Complement cascade                    2.872949e-09  8.532659e-07  \n",
       "Complement cascade                                  6.034508e-08  8.961244e-06  \n",
       "Common Pathway                                      6.436680e-07  6.372313e-05  \n",
       "Regulation Of Insulin Like Growth Factor Igf Ac...  2.261444e-06  1.679122e-04  \n",
       "Hdl Mediated Lipid Transport                        2.963196e-06  1.760139e-04  \n",
       "Initial triggering of complement                    1.427589e-05  7.066565e-04  \n",
       "G alpha (q) signalling events                       3.028667e-04  1.285020e-02  \n",
       "Lipoprotein Metabolism                              6.187618e-04  2.297153e-02  \n",
       "Formation of Fibrin Clot (Clotting Cascade)         1.085712e-03  3.582849e-02  \n",
       "Lipid Digestion Mobilization And Transport          2.008847e-03  5.187171e-02  "
      ]
     },
     "execution_count": 62,
     "metadata": {},
     "output_type": "execute_result"
    }
   ],
   "source": [
    "hiv_pos_vs_neg.head(10)"
   ]
  },
  {
   "cell_type": "code",
   "execution_count": 63,
   "metadata": {},
   "outputs": [],
   "source": [
    "%%R -i hiv_status -o hiv_pos_vs_neg_new\n",
    "hiv_pos_vs_neg_new = camera('Positive', '(Intercept)', log10_gene_matrix_symbols, reactome_new_symbol, design=hiv_status)"
   ]
  },
  {
   "cell_type": "code",
   "execution_count": 64,
   "metadata": {},
   "outputs": [
    {
     "data": {
      "text/html": [
       "<div>\n",
       "<style scoped>\n",
       "    .dataframe tbody tr th:only-of-type {\n",
       "        vertical-align: middle;\n",
       "    }\n",
       "\n",
       "    .dataframe tbody tr th {\n",
       "        vertical-align: top;\n",
       "    }\n",
       "\n",
       "    .dataframe thead th {\n",
       "        text-align: right;\n",
       "    }\n",
       "</style>\n",
       "<table border=\"1\" class=\"dataframe\">\n",
       "  <thead>\n",
       "    <tr style=\"text-align: right;\">\n",
       "      <th></th>\n",
       "      <th>NGenes</th>\n",
       "      <th>Direction</th>\n",
       "      <th>PValue</th>\n",
       "      <th>FDR</th>\n",
       "    </tr>\n",
       "  </thead>\n",
       "  <tbody>\n",
       "    <tr>\n",
       "      <th>Classical antibody-mediated complement activation</th>\n",
       "      <td>9.0</td>\n",
       "      <td>Down</td>\n",
       "      <td>5.895192e-22</td>\n",
       "      <td>4.480346e-19</td>\n",
       "    </tr>\n",
       "    <tr>\n",
       "      <th>Regulation of Complement cascade</th>\n",
       "      <td>32.0</td>\n",
       "      <td>Down</td>\n",
       "      <td>2.818548e-21</td>\n",
       "      <td>1.071048e-18</td>\n",
       "    </tr>\n",
       "    <tr>\n",
       "      <th>Regulation of Insulin-like Growth Factor (IGF) transport and uptake by Insulin-like Growth Factor Binding Proteins (IGFBPs)</th>\n",
       "      <td>59.0</td>\n",
       "      <td>Down</td>\n",
       "      <td>5.644123e-16</td>\n",
       "      <td>1.429845e-13</td>\n",
       "    </tr>\n",
       "    <tr>\n",
       "      <th>Complement cascade</th>\n",
       "      <td>40.0</td>\n",
       "      <td>Down</td>\n",
       "      <td>2.038265e-15</td>\n",
       "      <td>3.872703e-13</td>\n",
       "    </tr>\n",
       "    <tr>\n",
       "      <th>Initial triggering of complement</th>\n",
       "      <td>21.0</td>\n",
       "      <td>Down</td>\n",
       "      <td>1.817567e-14</td>\n",
       "      <td>2.762702e-12</td>\n",
       "    </tr>\n",
       "    <tr>\n",
       "      <th>Post-translational protein phosphorylation</th>\n",
       "      <td>47.0</td>\n",
       "      <td>Down</td>\n",
       "      <td>1.203344e-13</td>\n",
       "      <td>1.524236e-11</td>\n",
       "    </tr>\n",
       "    <tr>\n",
       "      <th>Creation of C4 and C2 activators</th>\n",
       "      <td>15.0</td>\n",
       "      <td>Down</td>\n",
       "      <td>1.174034e-11</td>\n",
       "      <td>1.274666e-09</td>\n",
       "    </tr>\n",
       "    <tr>\n",
       "      <th>Role of phospholipids in phagocytosis</th>\n",
       "      <td>10.0</td>\n",
       "      <td>Down</td>\n",
       "      <td>3.324494e-08</td>\n",
       "      <td>3.158269e-06</td>\n",
       "    </tr>\n",
       "    <tr>\n",
       "      <th>Amyloid fiber formation</th>\n",
       "      <td>21.0</td>\n",
       "      <td>Down</td>\n",
       "      <td>7.319071e-07</td>\n",
       "      <td>6.180549e-05</td>\n",
       "    </tr>\n",
       "    <tr>\n",
       "      <th>FCGR activation</th>\n",
       "      <td>12.0</td>\n",
       "      <td>Down</td>\n",
       "      <td>1.557769e-06</td>\n",
       "      <td>1.183905e-04</td>\n",
       "    </tr>\n",
       "  </tbody>\n",
       "</table>\n",
       "</div>"
      ],
      "text/plain": [
       "                                                    NGenes Direction  \\\n",
       "Classical antibody-mediated complement activation      9.0      Down   \n",
       "Regulation of Complement cascade                      32.0      Down   \n",
       "Regulation of Insulin-like Growth Factor (IGF) ...    59.0      Down   \n",
       "Complement cascade                                    40.0      Down   \n",
       "Initial triggering of complement                      21.0      Down   \n",
       "Post-translational protein phosphorylation            47.0      Down   \n",
       "Creation of C4 and C2 activators                      15.0      Down   \n",
       "Role of phospholipids in phagocytosis                 10.0      Down   \n",
       "Amyloid fiber formation                               21.0      Down   \n",
       "FCGR activation                                       12.0      Down   \n",
       "\n",
       "                                                          PValue           FDR  \n",
       "Classical antibody-mediated complement activation   5.895192e-22  4.480346e-19  \n",
       "Regulation of Complement cascade                    2.818548e-21  1.071048e-18  \n",
       "Regulation of Insulin-like Growth Factor (IGF) ...  5.644123e-16  1.429845e-13  \n",
       "Complement cascade                                  2.038265e-15  3.872703e-13  \n",
       "Initial triggering of complement                    1.817567e-14  2.762702e-12  \n",
       "Post-translational protein phosphorylation          1.203344e-13  1.524236e-11  \n",
       "Creation of C4 and C2 activators                    1.174034e-11  1.274666e-09  \n",
       "Role of phospholipids in phagocytosis               3.324494e-08  3.158269e-06  \n",
       "Amyloid fiber formation                             7.319071e-07  6.180549e-05  \n",
       "FCGR activation                                     1.557769e-06  1.183905e-04  "
      ]
     },
     "execution_count": 64,
     "metadata": {},
     "output_type": "execute_result"
    }
   ],
   "source": [
    "hiv_pos_vs_neg_new.head(10)"
   ]
  },
  {
   "cell_type": "markdown",
   "metadata": {},
   "source": [
    "TODO: compare different pathways between groups"
   ]
  },
  {
   "cell_type": "markdown",
   "metadata": {},
   "source": [
    "TODO: correct for age, group etc?"
   ]
  },
  {
   "cell_type": "markdown",
   "metadata": {},
   "source": [
    "## Traditional GSEA"
   ]
  },
  {
   "cell_type": "markdown",
   "metadata": {},
   "source": [
    "Is kind of both competitive and self-contained "
   ]
  },
  {
   "cell_type": "code",
   "execution_count": 65,
   "metadata": {},
   "outputs": [],
   "source": [
    "from gsea_api.gsea import GSEADesktop"
   ]
  },
  {
   "cell_type": "code",
   "execution_count": 66,
   "metadata": {},
   "outputs": [],
   "source": [
    "from gsea_api.expression_set import ExpressionSet"
   ]
  },
  {
   "cell_type": "code",
   "execution_count": 67,
   "metadata": {},
   "outputs": [],
   "source": [
    "gsea = GSEADesktop(gsea_jar_path='thirdparty/gsea-3.0.jar')"
   ]
  },
  {
   "cell_type": "markdown",
   "metadata": {},
   "source": [
    "Notes on the FDR:\n",
    " - the cutoff of .25 was recommended for GSEA in the User Guide for exploratory anaylsis when using phenotype permutations:\n",
    "    > The GSEA analysis report highlights enrichment gene sets with an FDR of less than 25% as those most likely to generate interesting hypotheses and drive further research, but provides analysis results for all analyzed gene sets. In general, given the lack of coherence in most expression datasets and the relatively small number of gene sets being analyzed, an FDR cutoff of 25% is appropriate.\n",
    " - however for viral class, we should set it to a lower value as this has fewer samples (also encouraged in the User Guide)"
   ]
  },
  {
   "cell_type": "code",
   "execution_count": 68,
   "metadata": {},
   "outputs": [],
   "source": [
    "def run_gsea(a, b, matrix, curated=False, design=by_condition):\n",
    "    result = gsea.run(\n",
    "        ExpressionSet(matrix, design).contrast(a, b),\n",
    "        reactome_pathways_entrez if curated else reactome_new_symbol,\n",
    "        metric='Signal2Noise',\n",
    "        permutations=1000\n",
    "    )\n",
    "    return concat([\n",
    "        result[a.replace(' ', '_')].assign(direction='up'),\n",
    "        result[b.replace(' ', '_')].assign(direction='down')\n",
    "    ])[['nes', 'fdr_q-val', 'fwer_p-val', 'direction']].sort_values('fdr_q-val')"
   ]
  },
  {
   "cell_type": "markdown",
   "metadata": {},
   "source": [
    "Whether to use the log transformed data is not obvious in this case. However, usually the log transform is embedded in the metric and the method was originally designed to handle natural data. Also:\n",
    "\n",
    "> **Should I use natural or log scale data for GSEA?**\n",
    ">\n",
    "> We recommend using natural scale data. We used it when we calibrated the GSEA method and it seems to work well in general cases.\n",
    ">\n",
    "> Traditional modeling techniques, such as clustering, often benefit from data preprocessing. For example, one might filter expression data to remove genes that have low variance across the dataset and/or log transform the data to make the distribution more symmetric. The GSEA algorithm does not benefit from such preprocessing of the data.\n",
    "https://software.broadinstitute.org/cancer/software/gsea/wiki/index.php/FAQ#Should_I_use_natural_or_log_scale_data_for_GSEA.3F"
   ]
  },
  {
   "cell_type": "code",
   "execution_count": 69,
   "metadata": {},
   "outputs": [
    {
     "data": {
      "text/html": [
       "<div>\n",
       "<style scoped>\n",
       "    .dataframe tbody tr th:only-of-type {\n",
       "        vertical-align: middle;\n",
       "    }\n",
       "\n",
       "    .dataframe tbody tr th {\n",
       "        vertical-align: top;\n",
       "    }\n",
       "\n",
       "    .dataframe thead th {\n",
       "        text-align: right;\n",
       "    }\n",
       "</style>\n",
       "<table border=\"1\" class=\"dataframe\">\n",
       "  <thead>\n",
       "    <tr style=\"text-align: right;\">\n",
       "      <th></th>\n",
       "      <th>nes</th>\n",
       "      <th>fdr_q-val</th>\n",
       "      <th>fwer_p-val</th>\n",
       "      <th>direction</th>\n",
       "    </tr>\n",
       "    <tr>\n",
       "      <th>name</th>\n",
       "      <th></th>\n",
       "      <th></th>\n",
       "      <th></th>\n",
       "      <th></th>\n",
       "    </tr>\n",
       "  </thead>\n",
       "  <tbody>\n",
       "    <tr>\n",
       "      <th>INNATE IMMUNE SYSTEM</th>\n",
       "      <td>2.150008</td>\n",
       "      <td>0.134013</td>\n",
       "      <td>0.069</td>\n",
       "      <td>up</td>\n",
       "    </tr>\n",
       "    <tr>\n",
       "      <th>NEUTROPHIL DEGRANULATION</th>\n",
       "      <td>2.202045</td>\n",
       "      <td>0.179490</td>\n",
       "      <td>0.051</td>\n",
       "      <td>up</td>\n",
       "    </tr>\n",
       "    <tr>\n",
       "      <th>ANTIMICROBIAL PEPTIDES</th>\n",
       "      <td>1.788503</td>\n",
       "      <td>0.311163</td>\n",
       "      <td>0.292</td>\n",
       "      <td>up</td>\n",
       "    </tr>\n",
       "    <tr>\n",
       "      <th>POST-TRANSLATIONAL PROTEIN PHOSPHORYLATION</th>\n",
       "      <td>1.809437</td>\n",
       "      <td>0.315031</td>\n",
       "      <td>0.266</td>\n",
       "      <td>up</td>\n",
       "    </tr>\n",
       "    <tr>\n",
       "      <th>RESPONSE TO ELEVATED PLATELET CYTOSOLIC CA2+</th>\n",
       "      <td>1.813232</td>\n",
       "      <td>0.360271</td>\n",
       "      <td>0.261</td>\n",
       "      <td>up</td>\n",
       "    </tr>\n",
       "  </tbody>\n",
       "</table>\n",
       "</div>"
      ],
      "text/plain": [
       "                                                   nes  fdr_q-val  fwer_p-val  \\\n",
       "name                                                                            \n",
       "INNATE IMMUNE SYSTEM                          2.150008   0.134013       0.069   \n",
       "NEUTROPHIL DEGRANULATION                      2.202045   0.179490       0.051   \n",
       "ANTIMICROBIAL PEPTIDES                        1.788503   0.311163       0.292   \n",
       "POST-TRANSLATIONAL PROTEIN PHOSPHORYLATION    1.809437   0.315031       0.266   \n",
       "RESPONSE TO ELEVATED PLATELET CYTOSOLIC CA2+  1.813232   0.360271       0.261   \n",
       "\n",
       "                                             direction  \n",
       "name                                                    \n",
       "INNATE IMMUNE SYSTEM                                up  \n",
       "NEUTROPHIL DEGRANULATION                            up  \n",
       "ANTIMICROBIAL PEPTIDES                              up  \n",
       "POST-TRANSLATIONAL PROTEIN PHOSPHORYLATION          up  \n",
       "RESPONSE TO ELEVATED PLATELET CYTOSOLIC CA2+        up  "
      ]
     },
     "execution_count": 69,
     "metadata": {},
     "output_type": "execute_result"
    }
   ],
   "source": [
    "run_gsea('Tuberculosis', 'Healthy control', raw_gene_matrix_by_symbols).head()"
   ]
  },
  {
   "cell_type": "markdown",
   "metadata": {},
   "source": [
    "Just to have a glimpse on how that would look like for log transformed data (so possibly elucidating less-obvious processes):"
   ]
  },
  {
   "cell_type": "code",
   "execution_count": 70,
   "metadata": {},
   "outputs": [
    {
     "data": {
      "text/html": [
       "<div>\n",
       "<style scoped>\n",
       "    .dataframe tbody tr th:only-of-type {\n",
       "        vertical-align: middle;\n",
       "    }\n",
       "\n",
       "    .dataframe tbody tr th {\n",
       "        vertical-align: top;\n",
       "    }\n",
       "\n",
       "    .dataframe thead th {\n",
       "        text-align: right;\n",
       "    }\n",
       "</style>\n",
       "<table border=\"1\" class=\"dataframe\">\n",
       "  <thead>\n",
       "    <tr style=\"text-align: right;\">\n",
       "      <th></th>\n",
       "      <th>nes</th>\n",
       "      <th>fdr_q-val</th>\n",
       "      <th>fwer_p-val</th>\n",
       "      <th>direction</th>\n",
       "    </tr>\n",
       "    <tr>\n",
       "      <th>name</th>\n",
       "      <th></th>\n",
       "      <th></th>\n",
       "      <th></th>\n",
       "      <th></th>\n",
       "    </tr>\n",
       "  </thead>\n",
       "  <tbody>\n",
       "    <tr>\n",
       "      <th>BETA-CATENIN INDEPENDENT WNT SIGNALING</th>\n",
       "      <td>1.338741</td>\n",
       "      <td>0.300568</td>\n",
       "      <td>0.670</td>\n",
       "      <td>up</td>\n",
       "    </tr>\n",
       "    <tr>\n",
       "      <th>INNATE IMMUNE SYSTEM</th>\n",
       "      <td>1.389176</td>\n",
       "      <td>0.303140</td>\n",
       "      <td>0.635</td>\n",
       "      <td>up</td>\n",
       "    </tr>\n",
       "    <tr>\n",
       "      <th>INTERLEUKIN-12 FAMILY SIGNALING</th>\n",
       "      <td>1.277010</td>\n",
       "      <td>0.303461</td>\n",
       "      <td>0.718</td>\n",
       "      <td>up</td>\n",
       "    </tr>\n",
       "    <tr>\n",
       "      <th>GENE EXPRESSION (TRANSCRIPTION)</th>\n",
       "      <td>1.266322</td>\n",
       "      <td>0.303715</td>\n",
       "      <td>0.726</td>\n",
       "      <td>up</td>\n",
       "    </tr>\n",
       "    <tr>\n",
       "      <th>INTERLEUKIN-17 SIGNALING</th>\n",
       "      <td>1.279745</td>\n",
       "      <td>0.303735</td>\n",
       "      <td>0.716</td>\n",
       "      <td>up</td>\n",
       "    </tr>\n",
       "  </tbody>\n",
       "</table>\n",
       "</div>"
      ],
      "text/plain": [
       "                                             nes  fdr_q-val  fwer_p-val  \\\n",
       "name                                                                      \n",
       "BETA-CATENIN INDEPENDENT WNT SIGNALING  1.338741   0.300568       0.670   \n",
       "INNATE IMMUNE SYSTEM                    1.389176   0.303140       0.635   \n",
       "INTERLEUKIN-12 FAMILY SIGNALING         1.277010   0.303461       0.718   \n",
       "GENE EXPRESSION (TRANSCRIPTION)         1.266322   0.303715       0.726   \n",
       "INTERLEUKIN-17 SIGNALING                1.279745   0.303735       0.716   \n",
       "\n",
       "                                       direction  \n",
       "name                                              \n",
       "BETA-CATENIN INDEPENDENT WNT SIGNALING        up  \n",
       "INNATE IMMUNE SYSTEM                          up  \n",
       "INTERLEUKIN-12 FAMILY SIGNALING               up  \n",
       "GENE EXPRESSION (TRANSCRIPTION)               up  \n",
       "INTERLEUKIN-17 SIGNALING                      up  "
      ]
     },
     "execution_count": 70,
     "metadata": {},
     "output_type": "execute_result"
    }
   ],
   "source": [
    "run_gsea('Tuberculosis', 'Healthy control', log10_gene_matrix_symbols).head()"
   ]
  },
  {
   "cell_type": "markdown",
   "metadata": {},
   "source": [
    "And using the curated dataset (not transformed):"
   ]
  },
  {
   "cell_type": "code",
   "execution_count": 71,
   "metadata": {},
   "outputs": [
    {
     "data": {
      "text/html": [
       "<div>\n",
       "<style scoped>\n",
       "    .dataframe tbody tr th:only-of-type {\n",
       "        vertical-align: middle;\n",
       "    }\n",
       "\n",
       "    .dataframe tbody tr th {\n",
       "        vertical-align: top;\n",
       "    }\n",
       "\n",
       "    .dataframe thead th {\n",
       "        text-align: right;\n",
       "    }\n",
       "</style>\n",
       "<table border=\"1\" class=\"dataframe\">\n",
       "  <thead>\n",
       "    <tr style=\"text-align: right;\">\n",
       "      <th></th>\n",
       "      <th>nes</th>\n",
       "      <th>fdr_q-val</th>\n",
       "      <th>fwer_p-val</th>\n",
       "      <th>direction</th>\n",
       "    </tr>\n",
       "    <tr>\n",
       "      <th>name</th>\n",
       "      <th></th>\n",
       "      <th></th>\n",
       "      <th></th>\n",
       "      <th></th>\n",
       "    </tr>\n",
       "  </thead>\n",
       "  <tbody>\n",
       "    <tr>\n",
       "      <th>AMYLOIDS</th>\n",
       "      <td>2.052714</td>\n",
       "      <td>0.122525</td>\n",
       "      <td>0.045</td>\n",
       "      <td>up</td>\n",
       "    </tr>\n",
       "    <tr>\n",
       "      <th>DEGRADATION OF THE EXTRACELLULAR MATRIX</th>\n",
       "      <td>1.612328</td>\n",
       "      <td>0.261798</td>\n",
       "      <td>0.398</td>\n",
       "      <td>up</td>\n",
       "    </tr>\n",
       "    <tr>\n",
       "      <th>COMPLEMENT CASCADE</th>\n",
       "      <td>1.612624</td>\n",
       "      <td>0.294080</td>\n",
       "      <td>0.398</td>\n",
       "      <td>up</td>\n",
       "    </tr>\n",
       "    <tr>\n",
       "      <th>INNATE IMMUNE SYSTEM</th>\n",
       "      <td>1.624686</td>\n",
       "      <td>0.313798</td>\n",
       "      <td>0.380</td>\n",
       "      <td>up</td>\n",
       "    </tr>\n",
       "    <tr>\n",
       "      <th>HEMOSTASIS</th>\n",
       "      <td>1.637017</td>\n",
       "      <td>0.339284</td>\n",
       "      <td>0.359</td>\n",
       "      <td>up</td>\n",
       "    </tr>\n",
       "  </tbody>\n",
       "</table>\n",
       "</div>"
      ],
      "text/plain": [
       "                                              nes  fdr_q-val  fwer_p-val  \\\n",
       "name                                                                       \n",
       "AMYLOIDS                                 2.052714   0.122525       0.045   \n",
       "DEGRADATION OF THE EXTRACELLULAR MATRIX  1.612328   0.261798       0.398   \n",
       "COMPLEMENT CASCADE                       1.612624   0.294080       0.398   \n",
       "INNATE IMMUNE SYSTEM                     1.624686   0.313798       0.380   \n",
       "HEMOSTASIS                               1.637017   0.339284       0.359   \n",
       "\n",
       "                                        direction  \n",
       "name                                               \n",
       "AMYLOIDS                                       up  \n",
       "DEGRADATION OF THE EXTRACELLULAR MATRIX        up  \n",
       "COMPLEMENT CASCADE                             up  \n",
       "INNATE IMMUNE SYSTEM                           up  \n",
       "HEMOSTASIS                                     up  "
      ]
     },
     "execution_count": 71,
     "metadata": {},
     "output_type": "execute_result"
    }
   ],
   "source": [
    "run_gsea('Tuberculosis', 'Healthy control', raw_gene_matrix, curated=True).head()"
   ]
  },
  {
   "cell_type": "markdown",
   "metadata": {},
   "source": [
    "Again, there is a big difference between the results obtained using the curated and full Reactome collections,"
   ]
  },
  {
   "cell_type": "markdown",
   "metadata": {},
   "source": [
    "### Crypto"
   ]
  },
  {
   "cell_type": "code",
   "execution_count": 72,
   "metadata": {},
   "outputs": [
    {
     "data": {
      "text/html": [
       "<div>\n",
       "<style scoped>\n",
       "    .dataframe tbody tr th:only-of-type {\n",
       "        vertical-align: middle;\n",
       "    }\n",
       "\n",
       "    .dataframe tbody tr th {\n",
       "        vertical-align: top;\n",
       "    }\n",
       "\n",
       "    .dataframe thead th {\n",
       "        text-align: right;\n",
       "    }\n",
       "</style>\n",
       "<table border=\"1\" class=\"dataframe\">\n",
       "  <thead>\n",
       "    <tr style=\"text-align: right;\">\n",
       "      <th></th>\n",
       "      <th>nes</th>\n",
       "      <th>fdr_q-val</th>\n",
       "      <th>fwer_p-val</th>\n",
       "      <th>direction</th>\n",
       "    </tr>\n",
       "    <tr>\n",
       "      <th>name</th>\n",
       "      <th></th>\n",
       "      <th></th>\n",
       "      <th></th>\n",
       "      <th></th>\n",
       "    </tr>\n",
       "  </thead>\n",
       "  <tbody>\n",
       "    <tr>\n",
       "      <th>SIGNALING BY NUCLEAR RECEPTORS</th>\n",
       "      <td>0.952179</td>\n",
       "      <td>0.836653</td>\n",
       "      <td>0.881</td>\n",
       "      <td>up</td>\n",
       "    </tr>\n",
       "    <tr>\n",
       "      <th>TRANSMISSION ACROSS CHEMICAL SYNAPSES</th>\n",
       "      <td>0.944928</td>\n",
       "      <td>0.838925</td>\n",
       "      <td>0.884</td>\n",
       "      <td>up</td>\n",
       "    </tr>\n",
       "    <tr>\n",
       "      <th>TRANSCRIPTIONAL REGULATION BY RUNX3</th>\n",
       "      <td>0.956801</td>\n",
       "      <td>0.839363</td>\n",
       "      <td>0.880</td>\n",
       "      <td>up</td>\n",
       "    </tr>\n",
       "    <tr>\n",
       "      <th>DDX58/IFIH1-MEDIATED INDUCTION OF INTERFERON-ALPHA/BETA</th>\n",
       "      <td>0.952517</td>\n",
       "      <td>0.842612</td>\n",
       "      <td>0.881</td>\n",
       "      <td>up</td>\n",
       "    </tr>\n",
       "    <tr>\n",
       "      <th>AUTOPHAGY</th>\n",
       "      <td>0.946505</td>\n",
       "      <td>0.842777</td>\n",
       "      <td>0.884</td>\n",
       "      <td>up</td>\n",
       "    </tr>\n",
       "  </tbody>\n",
       "</table>\n",
       "</div>"
      ],
      "text/plain": [
       "                                                         nes  fdr_q-val  \\\n",
       "name                                                                      \n",
       "SIGNALING BY NUCLEAR RECEPTORS                      0.952179   0.836653   \n",
       "TRANSMISSION ACROSS CHEMICAL SYNAPSES               0.944928   0.838925   \n",
       "TRANSCRIPTIONAL REGULATION BY RUNX3                 0.956801   0.839363   \n",
       "DDX58/IFIH1-MEDIATED INDUCTION OF INTERFERON-AL...  0.952517   0.842612   \n",
       "AUTOPHAGY                                           0.946505   0.842777   \n",
       "\n",
       "                                                    fwer_p-val direction  \n",
       "name                                                                      \n",
       "SIGNALING BY NUCLEAR RECEPTORS                           0.881        up  \n",
       "TRANSMISSION ACROSS CHEMICAL SYNAPSES                    0.884        up  \n",
       "TRANSCRIPTIONAL REGULATION BY RUNX3                      0.880        up  \n",
       "DDX58/IFIH1-MEDIATED INDUCTION OF INTERFERON-AL...       0.881        up  \n",
       "AUTOPHAGY                                                0.884        up  "
      ]
     },
     "execution_count": 72,
     "metadata": {},
     "output_type": "execute_result"
    }
   ],
   "source": [
    "run_gsea('Cryptococcal', 'Healthy control', raw_gene_matrix_by_symbols).head()"
   ]
  },
  {
   "cell_type": "markdown",
   "metadata": {},
   "source": [
    "### TB vs crypto"
   ]
  },
  {
   "cell_type": "code",
   "execution_count": 73,
   "metadata": {},
   "outputs": [
    {
     "data": {
      "text/html": [
       "<div>\n",
       "<style scoped>\n",
       "    .dataframe tbody tr th:only-of-type {\n",
       "        vertical-align: middle;\n",
       "    }\n",
       "\n",
       "    .dataframe tbody tr th {\n",
       "        vertical-align: top;\n",
       "    }\n",
       "\n",
       "    .dataframe thead th {\n",
       "        text-align: right;\n",
       "    }\n",
       "</style>\n",
       "<table border=\"1\" class=\"dataframe\">\n",
       "  <thead>\n",
       "    <tr style=\"text-align: right;\">\n",
       "      <th></th>\n",
       "      <th>nes</th>\n",
       "      <th>fdr_q-val</th>\n",
       "      <th>fwer_p-val</th>\n",
       "      <th>direction</th>\n",
       "    </tr>\n",
       "    <tr>\n",
       "      <th>name</th>\n",
       "      <th></th>\n",
       "      <th></th>\n",
       "      <th></th>\n",
       "      <th></th>\n",
       "    </tr>\n",
       "  </thead>\n",
       "  <tbody>\n",
       "    <tr>\n",
       "      <th>TOLL LIKE RECEPTOR 4 (TLR4) CASCADE</th>\n",
       "      <td>1.837445</td>\n",
       "      <td>0.139081</td>\n",
       "      <td>0.233</td>\n",
       "      <td>up</td>\n",
       "    </tr>\n",
       "    <tr>\n",
       "      <th>TOLL LIKE RECEPTOR 3 (TLR3) CASCADE</th>\n",
       "      <td>1.815880</td>\n",
       "      <td>0.149801</td>\n",
       "      <td>0.258</td>\n",
       "      <td>up</td>\n",
       "    </tr>\n",
       "    <tr>\n",
       "      <th>TOLL LIKE RECEPTOR 9 (TLR9) CASCADE</th>\n",
       "      <td>1.838596</td>\n",
       "      <td>0.150318</td>\n",
       "      <td>0.231</td>\n",
       "      <td>up</td>\n",
       "    </tr>\n",
       "    <tr>\n",
       "      <th>TOLL LIKE RECEPTOR TLR6:TLR2 CASCADE</th>\n",
       "      <td>1.890587</td>\n",
       "      <td>0.164001</td>\n",
       "      <td>0.186</td>\n",
       "      <td>up</td>\n",
       "    </tr>\n",
       "    <tr>\n",
       "      <th>MAP KINASE ACTIVATION</th>\n",
       "      <td>1.787054</td>\n",
       "      <td>0.164839</td>\n",
       "      <td>0.290</td>\n",
       "      <td>up</td>\n",
       "    </tr>\n",
       "  </tbody>\n",
       "</table>\n",
       "</div>"
      ],
      "text/plain": [
       "                                           nes  fdr_q-val  fwer_p-val  \\\n",
       "name                                                                    \n",
       "TOLL LIKE RECEPTOR 4 (TLR4) CASCADE   1.837445   0.139081       0.233   \n",
       "TOLL LIKE RECEPTOR 3 (TLR3) CASCADE   1.815880   0.149801       0.258   \n",
       "TOLL LIKE RECEPTOR 9 (TLR9) CASCADE   1.838596   0.150318       0.231   \n",
       "TOLL LIKE RECEPTOR TLR6:TLR2 CASCADE  1.890587   0.164001       0.186   \n",
       "MAP KINASE ACTIVATION                 1.787054   0.164839       0.290   \n",
       "\n",
       "                                     direction  \n",
       "name                                            \n",
       "TOLL LIKE RECEPTOR 4 (TLR4) CASCADE         up  \n",
       "TOLL LIKE RECEPTOR 3 (TLR3) CASCADE         up  \n",
       "TOLL LIKE RECEPTOR 9 (TLR9) CASCADE         up  \n",
       "TOLL LIKE RECEPTOR TLR6:TLR2 CASCADE        up  \n",
       "MAP KINASE ACTIVATION                       up  "
      ]
     },
     "execution_count": 73,
     "metadata": {},
     "output_type": "execute_result"
    }
   ],
   "source": [
    "run_gsea('Tuberculosis', 'Cryptococcal', raw_gene_matrix_by_symbols).head()"
   ]
  },
  {
   "cell_type": "markdown",
   "metadata": {},
   "source": [
    "The top hits may be related to HIV-1:\n",
    "\n",
    "> RNA can serve as a danger signal, both in its double-stranded form (that is associated with viral infection), as well as single-stranded RNA (ssRNA). Specifically, guanosine (G)- and uridine (U)-rich ssRNA oligonucleotides **derived from human immunodeficiency virus-1 (HIV-1)**, for example, stimulate dendritic cells (DC) and macrophages to secrete interferon-alpha and proinflammatory, as well as regulatory, cytokines. This has been found to be mediated by TLR7, as well as TLR8. Separate studies showed that imidazoquinoline compounds (e.g. imiquimod and R-848, low-molecular-weight immune response modifiers that can induce the synthesis of interferon-alpha) also exert their effects in a MyD88-dependent fashion independently through TLR7 and 8 (Heil et al. 2004).\n",
    "https://reactome.org/content/detail/R-HSA-168181"
   ]
  },
  {
   "cell_type": "code",
   "execution_count": 74,
   "metadata": {},
   "outputs": [
    {
     "data": {
      "text/html": [
       "<div>\n",
       "<style scoped>\n",
       "    .dataframe tbody tr th:only-of-type {\n",
       "        vertical-align: middle;\n",
       "    }\n",
       "\n",
       "    .dataframe tbody tr th {\n",
       "        vertical-align: top;\n",
       "    }\n",
       "\n",
       "    .dataframe thead th {\n",
       "        text-align: right;\n",
       "    }\n",
       "</style>\n",
       "<table border=\"1\" class=\"dataframe\">\n",
       "  <thead>\n",
       "    <tr style=\"text-align: right;\">\n",
       "      <th></th>\n",
       "      <th>nes</th>\n",
       "      <th>fdr_q-val</th>\n",
       "      <th>fwer_p-val</th>\n",
       "      <th>direction</th>\n",
       "    </tr>\n",
       "    <tr>\n",
       "      <th>name</th>\n",
       "      <th></th>\n",
       "      <th></th>\n",
       "      <th></th>\n",
       "      <th></th>\n",
       "    </tr>\n",
       "  </thead>\n",
       "  <tbody>\n",
       "    <tr>\n",
       "      <th>TRAF6 MEDIATED INDUCTION OF NFKB AND MAP KINASES UPON TLR7/8 OR 9 ACTIVATION</th>\n",
       "      <td>1.693053</td>\n",
       "      <td>0.123600</td>\n",
       "      <td>0.297</td>\n",
       "      <td>up</td>\n",
       "    </tr>\n",
       "    <tr>\n",
       "      <th>SIGNALLING TO ERKS</th>\n",
       "      <td>1.675307</td>\n",
       "      <td>0.126999</td>\n",
       "      <td>0.319</td>\n",
       "      <td>up</td>\n",
       "    </tr>\n",
       "    <tr>\n",
       "      <th>MEIOSIS</th>\n",
       "      <td>1.696795</td>\n",
       "      <td>0.131179</td>\n",
       "      <td>0.290</td>\n",
       "      <td>up</td>\n",
       "    </tr>\n",
       "    <tr>\n",
       "      <th>INTERFERON GAMMA SIGNALING</th>\n",
       "      <td>1.626954</td>\n",
       "      <td>0.132151</td>\n",
       "      <td>0.386</td>\n",
       "      <td>up</td>\n",
       "    </tr>\n",
       "    <tr>\n",
       "      <th>SIGNALING BY SCF-KIT</th>\n",
       "      <td>1.632210</td>\n",
       "      <td>0.136327</td>\n",
       "      <td>0.379</td>\n",
       "      <td>up</td>\n",
       "    </tr>\n",
       "  </tbody>\n",
       "</table>\n",
       "</div>"
      ],
      "text/plain": [
       "                                                         nes  fdr_q-val  \\\n",
       "name                                                                      \n",
       "TRAF6 MEDIATED INDUCTION OF NFKB AND MAP KINASE...  1.693053   0.123600   \n",
       "SIGNALLING TO ERKS                                  1.675307   0.126999   \n",
       "MEIOSIS                                             1.696795   0.131179   \n",
       "INTERFERON GAMMA SIGNALING                          1.626954   0.132151   \n",
       "SIGNALING BY SCF-KIT                                1.632210   0.136327   \n",
       "\n",
       "                                                    fwer_p-val direction  \n",
       "name                                                                      \n",
       "TRAF6 MEDIATED INDUCTION OF NFKB AND MAP KINASE...       0.297        up  \n",
       "SIGNALLING TO ERKS                                       0.319        up  \n",
       "MEIOSIS                                                  0.290        up  \n",
       "INTERFERON GAMMA SIGNALING                               0.386        up  \n",
       "SIGNALING BY SCF-KIT                                     0.379        up  "
      ]
     },
     "execution_count": 74,
     "metadata": {},
     "output_type": "execute_result"
    }
   ],
   "source": [
    "run_gsea('Tuberculosis', 'Cryptococcal', raw_gene_matrix, curated=True).head()"
   ]
  },
  {
   "cell_type": "markdown",
   "metadata": {},
   "source": [
    "### Side check: does either collection gives more reasonable results for (HIV vs not HIV)?"
   ]
  },
  {
   "cell_type": "code",
   "execution_count": 75,
   "metadata": {},
   "outputs": [
    {
     "data": {
      "text/html": [
       "<div>\n",
       "<style scoped>\n",
       "    .dataframe tbody tr th:only-of-type {\n",
       "        vertical-align: middle;\n",
       "    }\n",
       "\n",
       "    .dataframe tbody tr th {\n",
       "        vertical-align: top;\n",
       "    }\n",
       "\n",
       "    .dataframe thead th {\n",
       "        text-align: right;\n",
       "    }\n",
       "</style>\n",
       "<table border=\"1\" class=\"dataframe\">\n",
       "  <thead>\n",
       "    <tr style=\"text-align: right;\">\n",
       "      <th></th>\n",
       "      <th>nes</th>\n",
       "      <th>fdr_q-val</th>\n",
       "      <th>fwer_p-val</th>\n",
       "      <th>direction</th>\n",
       "    </tr>\n",
       "    <tr>\n",
       "      <th>name</th>\n",
       "      <th></th>\n",
       "      <th></th>\n",
       "      <th></th>\n",
       "      <th></th>\n",
       "    </tr>\n",
       "  </thead>\n",
       "  <tbody>\n",
       "    <tr>\n",
       "      <th>TNFS BIND THEIR PHYSIOLOGICAL RECEPTORS</th>\n",
       "      <td>1.866545</td>\n",
       "      <td>0.322965</td>\n",
       "      <td>0.209</td>\n",
       "      <td>up</td>\n",
       "    </tr>\n",
       "    <tr>\n",
       "      <th>SIGNALING BY NOTCH1</th>\n",
       "      <td>1.734285</td>\n",
       "      <td>0.458904</td>\n",
       "      <td>0.387</td>\n",
       "      <td>up</td>\n",
       "    </tr>\n",
       "    <tr>\n",
       "      <th>IMMUNOREGULATORY INTERACTIONS BETWEEN A LYMPHOID AND A NON-LYMPHOID CELL</th>\n",
       "      <td>1.869150</td>\n",
       "      <td>0.471749</td>\n",
       "      <td>0.204</td>\n",
       "      <td>up</td>\n",
       "    </tr>\n",
       "    <tr>\n",
       "      <th>SIGNALING BY TGF-BETA FAMILY MEMBERS</th>\n",
       "      <td>1.670244</td>\n",
       "      <td>0.493410</td>\n",
       "      <td>0.498</td>\n",
       "      <td>up</td>\n",
       "    </tr>\n",
       "    <tr>\n",
       "      <th>EPH-EPHRIN MEDIATED REPULSION OF CELLS</th>\n",
       "      <td>1.758812</td>\n",
       "      <td>0.494166</td>\n",
       "      <td>0.349</td>\n",
       "      <td>up</td>\n",
       "    </tr>\n",
       "  </tbody>\n",
       "</table>\n",
       "</div>"
      ],
      "text/plain": [
       "                                                         nes  fdr_q-val  \\\n",
       "name                                                                      \n",
       "TNFS BIND THEIR PHYSIOLOGICAL RECEPTORS             1.866545   0.322965   \n",
       "SIGNALING BY NOTCH1                                 1.734285   0.458904   \n",
       "IMMUNOREGULATORY INTERACTIONS BETWEEN A LYMPHOI...  1.869150   0.471749   \n",
       "SIGNALING BY TGF-BETA FAMILY MEMBERS                1.670244   0.493410   \n",
       "EPH-EPHRIN MEDIATED REPULSION OF CELLS              1.758812   0.494166   \n",
       "\n",
       "                                                    fwer_p-val direction  \n",
       "name                                                                      \n",
       "TNFS BIND THEIR PHYSIOLOGICAL RECEPTORS                  0.209        up  \n",
       "SIGNALING BY NOTCH1                                      0.387        up  \n",
       "IMMUNOREGULATORY INTERACTIONS BETWEEN A LYMPHOI...       0.204        up  \n",
       "SIGNALING BY TGF-BETA FAMILY MEMBERS                     0.498        up  \n",
       "EPH-EPHRIN MEDIATED REPULSION OF CELLS                   0.349        up  "
      ]
     },
     "execution_count": 75,
     "metadata": {},
     "output_type": "execute_result"
    }
   ],
   "source": [
    "run_gsea('Positive', 'Negative', raw_gene_matrix_by_symbols, design=clinical.HIVResult).head()"
   ]
  },
  {
   "cell_type": "code",
   "execution_count": 76,
   "metadata": {},
   "outputs": [
    {
     "data": {
      "text/html": [
       "<div>\n",
       "<style scoped>\n",
       "    .dataframe tbody tr th:only-of-type {\n",
       "        vertical-align: middle;\n",
       "    }\n",
       "\n",
       "    .dataframe tbody tr th {\n",
       "        vertical-align: top;\n",
       "    }\n",
       "\n",
       "    .dataframe thead th {\n",
       "        text-align: right;\n",
       "    }\n",
       "</style>\n",
       "<table border=\"1\" class=\"dataframe\">\n",
       "  <thead>\n",
       "    <tr style=\"text-align: right;\">\n",
       "      <th></th>\n",
       "      <th>nes</th>\n",
       "      <th>fdr_q-val</th>\n",
       "      <th>fwer_p-val</th>\n",
       "      <th>direction</th>\n",
       "    </tr>\n",
       "    <tr>\n",
       "      <th>name</th>\n",
       "      <th></th>\n",
       "      <th></th>\n",
       "      <th></th>\n",
       "      <th></th>\n",
       "    </tr>\n",
       "  </thead>\n",
       "  <tbody>\n",
       "    <tr>\n",
       "      <th>SIGNALING BY NOTCH</th>\n",
       "      <td>1.572383</td>\n",
       "      <td>0.696880</td>\n",
       "      <td>0.475</td>\n",
       "      <td>up</td>\n",
       "    </tr>\n",
       "    <tr>\n",
       "      <th>IMMUNOREGULATORY INTERACTIONS BETWEEN A LYMPHOID AND A NON-LYMPHOID CELL</th>\n",
       "      <td>1.497732</td>\n",
       "      <td>0.814879</td>\n",
       "      <td>0.578</td>\n",
       "      <td>up</td>\n",
       "    </tr>\n",
       "    <tr>\n",
       "      <th>INTEGRIN ALPHAIIB BETA3 SIGNALING</th>\n",
       "      <td>0.744076</td>\n",
       "      <td>0.856831</td>\n",
       "      <td>0.965</td>\n",
       "      <td>up</td>\n",
       "    </tr>\n",
       "    <tr>\n",
       "      <th>CLASS I MHC MEDIATED ANTIGEN PROCESSING PRESENTATION</th>\n",
       "      <td>0.707660</td>\n",
       "      <td>0.867047</td>\n",
       "      <td>0.975</td>\n",
       "      <td>up</td>\n",
       "    </tr>\n",
       "    <tr>\n",
       "      <th>DNA REPLICATION</th>\n",
       "      <td>0.745710</td>\n",
       "      <td>0.870261</td>\n",
       "      <td>0.965</td>\n",
       "      <td>up</td>\n",
       "    </tr>\n",
       "  </tbody>\n",
       "</table>\n",
       "</div>"
      ],
      "text/plain": [
       "                                                         nes  fdr_q-val  \\\n",
       "name                                                                      \n",
       "SIGNALING BY NOTCH                                  1.572383   0.696880   \n",
       "IMMUNOREGULATORY INTERACTIONS BETWEEN A LYMPHOI...  1.497732   0.814879   \n",
       "INTEGRIN ALPHAIIB BETA3 SIGNALING                   0.744076   0.856831   \n",
       "CLASS I MHC MEDIATED ANTIGEN PROCESSING PRESENT...  0.707660   0.867047   \n",
       "DNA REPLICATION                                     0.745710   0.870261   \n",
       "\n",
       "                                                    fwer_p-val direction  \n",
       "name                                                                      \n",
       "SIGNALING BY NOTCH                                       0.475        up  \n",
       "IMMUNOREGULATORY INTERACTIONS BETWEEN A LYMPHOI...       0.578        up  \n",
       "INTEGRIN ALPHAIIB BETA3 SIGNALING                        0.965        up  \n",
       "CLASS I MHC MEDIATED ANTIGEN PROCESSING PRESENT...       0.975        up  \n",
       "DNA REPLICATION                                          0.965        up  "
      ]
     },
     "execution_count": 76,
     "metadata": {},
     "output_type": "execute_result"
    }
   ],
   "source": [
    "run_gsea('Positive', 'Negative', raw_gene_matrix, curated=True, design=clinical.HIVResult).head()"
   ]
  },
  {
   "cell_type": "markdown",
   "metadata": {},
   "source": [
    "Does not look good to me."
   ]
  },
  {
   "cell_type": "markdown",
   "metadata": {},
   "source": [
    "## Overall distributions"
   ]
  },
  {
   "cell_type": "code",
   "execution_count": 77,
   "metadata": {},
   "outputs": [],
   "source": [
    "stacked = raw_protein_matrix.melt(var_name='patient', value_name='abundance')"
   ]
  },
  {
   "cell_type": "code",
   "execution_count": 78,
   "metadata": {},
   "outputs": [],
   "source": [
    "from plots.annotations import tuberculosis_status"
   ]
  },
  {
   "cell_type": "code",
   "execution_count": 79,
   "metadata": {},
   "outputs": [],
   "source": [
    "stacked['group'] = stacked.patient.map(by_condition)\n",
    "stacked['TB_status'] = stacked.patient.apply(lambda patient: patient.split('.')[1]).map(tuberculosis_status).fillna('-')"
   ]
  },
  {
   "cell_type": "code",
   "execution_count": 80,
   "metadata": {},
   "outputs": [],
   "source": [
    "%R -i stacked"
   ]
  },
  {
   "cell_type": "code",
   "execution_count": 81,
   "metadata": {},
   "outputs": [],
   "source": [
    "from jupyter_helpers import rpy2_autocompletion"
   ]
  },
  {
   "cell_type": "code",
   "execution_count": 82,
   "metadata": {},
   "outputs": [
    {
     "data": {
      "image/png": "[encoded data removed]"
     },
     "metadata": {},
     "output_type": "display_data"
    }
   ],
   "source": [
    "%%R\n",
    "(\n",
    "    ggplot(stacked, aes(x=group, y=log10(abundance), fill=group))\n",
    "    + geom_violin()\n",
    "    + geom_boxplot(fill='white', width=.05)\n",
    "    + scale_fill_manual(values=patient_colors$Meningitis)\n",
    "    + theme(legend.position='bottom')\n",
    ")"
   ]
  },
  {
   "cell_type": "code",
   "execution_count": 83,
   "metadata": {},
   "outputs": [
    {
     "data": {
      "image/png": "[encoded data removed]"
     },
     "metadata": {},
     "output_type": "display_data"
    }
   ],
   "source": [
    "%%R -w 800\n",
    "(\n",
    "    ggplot(stacked, aes(x=reorder(patient, abundance), y=log10(abundance)))\n",
    "    + facet_wrap('~ group', scale='free_x')\n",
    "    + geom_boxplot(notch=T)\n",
    "    + theme(axis.text.x = element_text(angle = 90))\n",
    ")"
   ]
  },
  {
   "cell_type": "code",
   "execution_count": 84,
   "metadata": {},
   "outputs": [
    {
     "data": {
      "image/png": "[encoded data removed]"
     },
     "metadata": {},
     "output_type": "display_data"
    }
   ],
   "source": [
    "%%R -w 800\n",
    "(\n",
    "    ggplot(stacked[stacked$group == 'Tuberculosis',], aes(x=reorder(patient, abundance), y=log10(abundance)))\n",
    "    + facet_grid('~ TB_status', scale='free_x', space='free_x')\n",
    "    + geom_boxplot(notch=T)\n",
    "    + scale_fill_manual(values=patient_colors$Meningitis)\n",
    "    + theme(axis.text.x = element_text(angle = 90))\n",
    ")"
   ]
  },
  {
   "cell_type": "markdown",
   "metadata": {},
   "source": [
    "## Caveats of SOMAScan"
   ]
  },
  {
   "cell_type": "markdown",
   "metadata": {},
   "source": [
    "A quick notes from [(Joshi and Mayr, 2018)](https://www.ahajournals.org/doi/full/10.1161/CIRCULATIONAHA.118.036823):\n",
    "- non specificity, cross-reactivity a known problem\n",
    "- SNPs a known problem too\n",
    "- PTMs(!) a potential problem (IMO more than SNPs), an important consideration for signaling proteins and signaling pathways - these may be under-represented!\n",
    "\n",
    "**Thus: (!!)**\n",
    "Cross checking with RNA-seq is crucial and may hint us not only about the biological differences (i.e. SOMAScan detecting protein previously expressed and folded, while RNA-seq detecting proteins being actively expressed) but also about the discrepancies arising from failing SOMAScan failing to detect PTM modified signaling proteins or proteins bearing an important (and conformation changing) SNP."
   ]
  }
 ],
 "metadata": {
  "kernelspec": {
   "display_name": "Python 3",
   "language": "python",
   "name": "python3"
  },
  "language_info": {
   "codemirror_mode": {
    "name": "ipython",
    "version": 3
   },
   "file_extension": ".py",
   "mimetype": "text/x-python",
   "name": "python",
   "nbconvert_exporter": "python",
   "pygments_lexer": "ipython3",
   "version": "3.7.6"
  }
 },
 "nbformat": 4,
 "nbformat_minor": 4
}
