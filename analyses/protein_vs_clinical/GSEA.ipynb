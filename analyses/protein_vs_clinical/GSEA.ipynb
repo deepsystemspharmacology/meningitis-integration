{
 "cells": [
  {
   "cell_type": "code",
   "execution_count": 1,
   "metadata": {},
   "outputs": [],
   "source": [
    "from helpers.utilities import *\n",
    "%run helpers/notebook_setup.ipynb"
   ]
  },
  {
   "cell_type": "code",
   "execution_count": 2,
   "metadata": {},
   "outputs": [],
   "source": [
    "%R source('plots/colors.R');"
   ]
  },
  {
   "cell_type": "code",
   "execution_count": 3,
   "metadata": {
    "tags": [
     "parameters"
    ]
   },
   "outputs": [],
   "source": [
    "indexed_by_target_path = 'data/clean/protein/indexed_by_target.csv'\n",
    "clinical_path = 'data/clean/protein/clinical_data_ordered_to_match_proteins_matrix.csv'\n",
    "\n",
    "raw_gene_path = 'data/clean/protein/gene_levels_by_entrez.csv'\n",
    "target_to_entrez_path = 'data/clean/protein/protein_to_entrez.csv'\n",
    "\n",
    "log_matrix_filtered_path = 'data/clean/protein/log_10_filtered.csv'"
   ]
  },
  {
   "cell_type": "code",
   "execution_count": 4,
   "metadata": {},
   "outputs": [],
   "source": [
    "clinical = read_csv(clinical_path, index_col=0)\n",
    "raw_protein_matrix = read_csv(indexed_by_target_path, index_col=0)"
   ]
  },
  {
   "cell_type": "code",
   "execution_count": 5,
   "metadata": {},
   "outputs": [],
   "source": [
    "# note: this is already limitted to the patients having the protein measurments\n",
    "by_condition = clinical.Meningitis"
   ]
  },
  {
   "cell_type": "code",
   "execution_count": 6,
   "metadata": {},
   "outputs": [],
   "source": [
    "%%R -i raw_protein_matrix -i by_condition\n",
    "import::here(space_to_dot, dot_to_space, .from='helpers/utilities.R')\n",
    "import::here(\n",
    "    design_from_conditions, calculate_means, limma_fit,\n",
    "    .from='helpers/differential_expression.R'\n",
    ")"
   ]
  },
  {
   "cell_type": "code",
   "execution_count": 7,
   "metadata": {},
   "outputs": [],
   "source": [
    "protein_matrix = read_csv(log_matrix_filtered_path, index_col=0)"
   ]
  },
  {
   "cell_type": "code",
   "execution_count": 8,
   "metadata": {},
   "outputs": [],
   "source": [
    "%%R -i by_condition -i protein_matrix\n",
    "\n",
    "limma_protein_fit = function(data=protein_matrix, conditions_vector=by_condition, ...) {\n",
    "    limma_fit(data=data, conditions_vector=conditions_vector, ...)\n",
    "}\n",
    "\n",
    "diff_ebayes <- function(a, b, ...){\n",
    "    fit = limma_protein_fit(a=a, b=b, ...)\n",
    "    limma::eBayes(fit, trend=T, robust=T)\n",
    "}"
   ]
  },
  {
   "cell_type": "markdown",
   "metadata": {},
   "source": [
    "## Gene set enrichment"
   ]
  },
  {
   "cell_type": "code",
   "execution_count": 9,
   "metadata": {},
   "outputs": [],
   "source": [
    "from gsea_api.molecular_signatures_db import MolecularSignaturesDatabase\n",
    "\n",
    "db = MolecularSignaturesDatabase('data/msigdb', version='6.2')"
   ]
  },
  {
   "cell_type": "markdown",
   "metadata": {},
   "source": [
    "Simple symbol-based protein-gene matching performs poorly:"
   ]
  },
  {
   "cell_type": "code",
   "execution_count": 10,
   "metadata": {},
   "outputs": [],
   "source": [
    "from helpers.gse import collection_to_R, nice_reactome, calculate_overlap"
   ]
  },
  {
   "cell_type": "code",
   "execution_count": 12,
   "metadata": {},
   "outputs": [],
   "source": [
    "reactome_pathways_entrez = db.load(gene_sets='c2.cp.reactome', id_type='entrez').format_names(nice_reactome)\n",
    "reactome_pathways_symbol = db.load(gene_sets='c2.cp.reactome', id_type='symbols').format_names(nice_reactome)"
   ]
  },
  {
   "cell_type": "code",
   "execution_count": 13,
   "metadata": {},
   "outputs": [
    {
     "name": "stdout",
     "output_type": "stream",
     "text": [
      "12.92%\n"
     ]
    }
   ],
   "source": [
    "calculate_overlap(reactome_pathways_symbol, protein_matrix)"
   ]
  },
  {
   "cell_type": "markdown",
   "metadata": {},
   "source": [
    "Actually, the GMT files in MSigDB are old (released 16-Jul-2018 as a point release with only minor changes). Let's fetch a modern GMT directly from Reactome:"
   ]
  },
  {
   "cell_type": "code",
   "execution_count": 14,
   "metadata": {},
   "outputs": [],
   "source": [
    "# !wget https://reactome.org/download/current/ReactomePathways.gmt.zip\n",
    "# !unzip ReactomePathways.gmt.zip"
   ]
  },
  {
   "cell_type": "code",
   "execution_count": 15,
   "metadata": {},
   "outputs": [],
   "source": [
    "from gsea_api.molecular_signatures_db import GeneMatrixTransposed"
   ]
  },
  {
   "cell_type": "code",
   "execution_count": 16,
   "metadata": {},
   "outputs": [],
   "source": [
    "reactome_new_symbol = GeneMatrixTransposed.from_gmt('ReactomePathways.gmt', name='reactome_new_symbol')"
   ]
  },
  {
   "cell_type": "code",
   "execution_count": 17,
   "metadata": {},
   "outputs": [
    {
     "name": "stdout",
     "output_type": "stream",
     "text": [
      "21.00%\n"
     ]
    }
   ],
   "source": [
    "calculate_overlap(reactome_new_symbol, protein_matrix)"
   ]
  },
  {
   "cell_type": "markdown",
   "metadata": {},
   "source": [
    "This is still not very good."
   ]
  },
  {
   "cell_type": "markdown",
   "metadata": {},
   "source": [
    "Instead I will use Entrez ID based mapping, as described in [Gene_level_mapping.ipynb](Gene_level_mapping.ipynb) notebook:"
   ]
  },
  {
   "cell_type": "code",
   "execution_count": 18,
   "metadata": {},
   "outputs": [],
   "source": [
    "raw_gene_matrix = read_csv(raw_gene_path, index_col=0)"
   ]
  },
  {
   "cell_type": "code",
   "execution_count": 19,
   "metadata": {},
   "outputs": [],
   "source": [
    "assert not raw_gene_matrix.index.duplicated().any()"
   ]
  },
  {
   "cell_type": "code",
   "execution_count": 20,
   "metadata": {},
   "outputs": [],
   "source": [
    "from numpy import log10"
   ]
  },
  {
   "cell_type": "code",
   "execution_count": 21,
   "metadata": {},
   "outputs": [],
   "source": [
    "log10_gene_matrix = raw_gene_matrix.apply(log10)"
   ]
  },
  {
   "cell_type": "markdown",
   "metadata": {},
   "source": [
    "It matches much more genes:"
   ]
  },
  {
   "cell_type": "code",
   "execution_count": 22,
   "metadata": {},
   "outputs": [
    {
     "name": "stdout",
     "output_type": "stream",
     "text": [
      "55.46%\n"
     ]
    }
   ],
   "source": [
    "calculate_overlap(reactome_pathways_entrez, raw_gene_matrix)"
   ]
  },
  {
   "cell_type": "code",
   "execution_count": 23,
   "metadata": {},
   "outputs": [
    {
     "name": "stdout",
     "output_type": "stream",
     "text": [
      "55.46%\n"
     ]
    }
   ],
   "source": [
    "kegg_pathways_entrez = db.load(gene_sets='c2.cp.kegg', id_type='entrez')\n",
    "calculate_overlap(reactome_pathways_entrez, raw_gene_matrix)"
   ]
  },
  {
   "cell_type": "code",
   "execution_count": 24,
   "metadata": {},
   "outputs": [],
   "source": [
    "# !cat data/LRG_RefSeqGene | cut -f 2,3 | sort | uniq > data/entrez_id_to_symbol.tsv\n",
    "# even bettter:\n",
    "# https://www.genenames.org/cgi-bin/download/custom?col=gd_hgnc_id&col=gd_app_sym&col=gd_status&col=md_eg_id&status=Approved&status=Entry%20Withdrawn&hgnc_dbtag=on&order_by=gd_app_sym_sort&format=text&submit=submit"
   ]
  },
  {
   "cell_type": "code",
   "execution_count": 25,
   "metadata": {},
   "outputs": [],
   "source": [
    "id_to_symbol_df = read_table('data/hgnc/entrez_ids_to_gene_symbol.tsv', index_col=3)"
   ]
  },
  {
   "cell_type": "code",
   "execution_count": 26,
   "metadata": {},
   "outputs": [
    {
     "data": {
      "text/html": [
       "<div>\n",
       "<style scoped>\n",
       "    .dataframe tbody tr th:only-of-type {\n",
       "        vertical-align: middle;\n",
       "    }\n",
       "\n",
       "    .dataframe tbody tr th {\n",
       "        vertical-align: top;\n",
       "    }\n",
       "\n",
       "    .dataframe thead th {\n",
       "        text-align: right;\n",
       "    }\n",
       "</style>\n",
       "<table border=\"1\" class=\"dataframe\">\n",
       "  <thead>\n",
       "    <tr style=\"text-align: right;\">\n",
       "      <th></th>\n",
       "      <th>HGNC ID</th>\n",
       "      <th>Approved symbol</th>\n",
       "      <th>Status</th>\n",
       "    </tr>\n",
       "    <tr>\n",
       "      <th>NCBI Gene ID(supplied by NCBI)</th>\n",
       "      <th></th>\n",
       "      <th></th>\n",
       "      <th></th>\n",
       "    </tr>\n",
       "  </thead>\n",
       "  <tbody>\n",
       "    <tr>\n",
       "      <th>1.0</th>\n",
       "      <td>HGNC:5</td>\n",
       "      <td>A1BG</td>\n",
       "      <td>Approved</td>\n",
       "    </tr>\n",
       "    <tr>\n",
       "      <th>503538.0</th>\n",
       "      <td>HGNC:37133</td>\n",
       "      <td>A1BG-AS1</td>\n",
       "      <td>Approved</td>\n",
       "    </tr>\n",
       "    <tr>\n",
       "      <th>29974.0</th>\n",
       "      <td>HGNC:24086</td>\n",
       "      <td>A1CF</td>\n",
       "      <td>Approved</td>\n",
       "    </tr>\n",
       "    <tr>\n",
       "      <th>NaN</th>\n",
       "      <td>HGNC:6</td>\n",
       "      <td>A1S9T~withdrawn</td>\n",
       "      <td>Symbol Withdrawn</td>\n",
       "    </tr>\n",
       "    <tr>\n",
       "      <th>2.0</th>\n",
       "      <td>HGNC:7</td>\n",
       "      <td>A2M</td>\n",
       "      <td>Approved</td>\n",
       "    </tr>\n",
       "  </tbody>\n",
       "</table>\n",
       "</div>"
      ],
      "text/plain": [
       "                                   HGNC ID  Approved symbol            Status\n",
       "NCBI Gene ID(supplied by NCBI)                                               \n",
       "1.0                                 HGNC:5             A1BG          Approved\n",
       "503538.0                        HGNC:37133         A1BG-AS1          Approved\n",
       "29974.0                         HGNC:24086             A1CF          Approved\n",
       "NaN                                 HGNC:6  A1S9T~withdrawn  Symbol Withdrawn\n",
       "2.0                                 HGNC:7              A2M          Approved"
      ]
     },
     "execution_count": 26,
     "metadata": {},
     "output_type": "execute_result"
    }
   ],
   "source": [
    "id_to_symbol_df.head()"
   ]
  },
  {
   "cell_type": "code",
   "execution_count": 27,
   "metadata": {},
   "outputs": [
    {
     "data": {
      "text/plain": [
       "array(['Approved', 'Symbol Withdrawn', 'Entry Withdrawn'], dtype=object)"
      ]
     },
     "execution_count": 27,
     "metadata": {},
     "output_type": "execute_result"
    }
   ],
   "source": [
    "id_to_symbol_df.Status.unique()"
   ]
  },
  {
   "cell_type": "code",
   "execution_count": 28,
   "metadata": {},
   "outputs": [],
   "source": [
    "id_to_symbol = id_to_symbol_df[id_to_symbol_df.Status == 'Approved']['Approved symbol'].to_dict()"
   ]
  },
  {
   "cell_type": "code",
   "execution_count": 29,
   "metadata": {},
   "outputs": [],
   "source": [
    "from numpy import nan"
   ]
  },
  {
   "cell_type": "code",
   "execution_count": 30,
   "metadata": {},
   "outputs": [],
   "source": [
    "symbols = raw_gene_matrix.index.map(lambda entrez_id: id_to_symbol.get(float(entrez_id), nan))\n",
    "raw_gene_matrix_by_symbols = copy(raw_gene_matrix)\n",
    "raw_gene_matrix_by_symbols.index = symbols"
   ]
  },
  {
   "cell_type": "code",
   "execution_count": 31,
   "metadata": {},
   "outputs": [
    {
     "data": {
      "text/plain": [
       "[4276, 12372, 1489079, 1489089, 1724716, 102723996]"
      ]
     },
     "execution_count": 31,
     "metadata": {},
     "output_type": "execute_result"
    }
   ],
   "source": [
    "genes_missing_symbols = raw_gene_matrix.index[raw_gene_matrix_by_symbols.index.isnull()]\n",
    "sorted(genes_missing_symbols)"
   ]
  },
  {
   "cell_type": "code",
   "execution_count": 32,
   "metadata": {},
   "outputs": [],
   "source": [
    "manual_map = {\n",
    "    4276.0: 'MICA',\n",
    "    102723996.0: 'ICOSLG'\n",
    "}"
   ]
  },
  {
   "cell_type": "markdown",
   "metadata": {},
   "source": [
    "- 4276 - replaced with 100507436 but symbol stayed the same (MICA)\n",
    "   > Gene ID: 4276, discontinued on 10-Nov-2010\n",
    "   >\n",
    "  > This record was replaced with Gene ID: 100507436\n",
    "- 12372 - mouse protein\n",
    "- 1489079, 1489089, 1724716 - viral proteins\n",
    "- 102723996 - a recent addition, ICOS ligand https://www.ncbi.nlm.nih.gov/gene/?term=102723996"
   ]
  },
  {
   "cell_type": "code",
   "execution_count": 33,
   "metadata": {},
   "outputs": [],
   "source": [
    "id_to_symbol_curated = {**id_to_symbol, **manual_map}"
   ]
  },
  {
   "cell_type": "code",
   "execution_count": 34,
   "metadata": {},
   "outputs": [],
   "source": [
    "symbols_curated = raw_gene_matrix.index.map(lambda entrez_id: id_to_symbol_curated.get(float(entrez_id), nan))"
   ]
  },
  {
   "cell_type": "code",
   "execution_count": 35,
   "metadata": {},
   "outputs": [],
   "source": [
    "raw_gene_matrix_by_symbols.index = symbols_curated\n",
    "raw_gene_matrix_by_symbols = raw_gene_matrix_by_symbols[~raw_gene_matrix_by_symbols.index.isnull()]"
   ]
  },
  {
   "cell_type": "markdown",
   "metadata": {},
   "source": [
    "However, MICA and ICOSLG are already captured by other entrez ids - so I can remove the duplicates:"
   ]
  },
  {
   "cell_type": "code",
   "execution_count": 36,
   "metadata": {},
   "outputs": [
    {
     "data": {
      "text/html": [
       "<div>\n",
       "<style scoped>\n",
       "    .dataframe tbody tr th:only-of-type {\n",
       "        vertical-align: middle;\n",
       "    }\n",
       "\n",
       "    .dataframe tbody tr th {\n",
       "        vertical-align: top;\n",
       "    }\n",
       "\n",
       "    .dataframe thead th {\n",
       "        text-align: right;\n",
       "    }\n",
       "</style>\n",
       "<table border=\"1\" class=\"dataframe\">\n",
       "  <thead>\n",
       "    <tr style=\"text-align: right;\">\n",
       "      <th></th>\n",
       "      <th>149.TMD</th>\n",
       "      <th>007.TMD</th>\n",
       "      <th>001.TMD</th>\n",
       "      <th>064.TMD</th>\n",
       "      <th>151.TMD</th>\n",
       "      <th>...</th>\n",
       "      <th>177.HC</th>\n",
       "      <th>189.HC</th>\n",
       "      <th>217.HC</th>\n",
       "      <th>221.HC</th>\n",
       "      <th>245.HC</th>\n",
       "    </tr>\n",
       "  </thead>\n",
       "  <tbody>\n",
       "    <tr>\n",
       "      <th>MICA</th>\n",
       "      <td>51.75</td>\n",
       "      <td>207.25</td>\n",
       "      <td>5.65</td>\n",
       "      <td>7.05</td>\n",
       "      <td>22.0</td>\n",
       "      <td>...</td>\n",
       "      <td>10.45</td>\n",
       "      <td>11.85</td>\n",
       "      <td>6.65</td>\n",
       "      <td>11.60</td>\n",
       "      <td>11.95</td>\n",
       "    </tr>\n",
       "    <tr>\n",
       "      <th>MICA</th>\n",
       "      <td>51.75</td>\n",
       "      <td>207.25</td>\n",
       "      <td>5.65</td>\n",
       "      <td>7.05</td>\n",
       "      <td>22.0</td>\n",
       "      <td>...</td>\n",
       "      <td>10.45</td>\n",
       "      <td>11.85</td>\n",
       "      <td>6.65</td>\n",
       "      <td>11.60</td>\n",
       "      <td>11.95</td>\n",
       "    </tr>\n",
       "    <tr>\n",
       "      <th>ICOSLG</th>\n",
       "      <td>6890.40</td>\n",
       "      <td>42844.10</td>\n",
       "      <td>8329.50</td>\n",
       "      <td>16044.35</td>\n",
       "      <td>22721.1</td>\n",
       "      <td>...</td>\n",
       "      <td>153.50</td>\n",
       "      <td>91.20</td>\n",
       "      <td>114.90</td>\n",
       "      <td>288.75</td>\n",
       "      <td>554.70</td>\n",
       "    </tr>\n",
       "    <tr>\n",
       "      <th>ICOSLG</th>\n",
       "      <td>6890.40</td>\n",
       "      <td>42844.10</td>\n",
       "      <td>8329.50</td>\n",
       "      <td>16044.35</td>\n",
       "      <td>22721.1</td>\n",
       "      <td>...</td>\n",
       "      <td>153.50</td>\n",
       "      <td>91.20</td>\n",
       "      <td>114.90</td>\n",
       "      <td>288.75</td>\n",
       "      <td>554.70</td>\n",
       "    </tr>\n",
       "  </tbody>\n",
       "</table>\n",
       "<p>4 rows × 82 columns</p>\n",
       "</div>"
      ],
      "text/plain": [
       "        149.TMD   007.TMD  001.TMD   064.TMD  151.TMD  ...  177.HC  189.HC  \\\n",
       "MICA      51.75    207.25     5.65      7.05     22.0  ...   10.45   11.85   \n",
       "MICA      51.75    207.25     5.65      7.05     22.0  ...   10.45   11.85   \n",
       "ICOSLG  6890.40  42844.10  8329.50  16044.35  22721.1  ...  153.50   91.20   \n",
       "ICOSLG  6890.40  42844.10  8329.50  16044.35  22721.1  ...  153.50   91.20   \n",
       "\n",
       "        217.HC  221.HC  245.HC  \n",
       "MICA      6.65   11.60   11.95  \n",
       "MICA      6.65   11.60   11.95  \n",
       "ICOSLG  114.90  288.75  554.70  \n",
       "ICOSLG  114.90  288.75  554.70  \n",
       "\n",
       "[4 rows x 82 columns]"
      ]
     },
     "execution_count": 36,
     "metadata": {},
     "output_type": "execute_result"
    }
   ],
   "source": [
    "raw_gene_matrix_by_symbols[raw_gene_matrix_by_symbols.index.duplicated(keep=False)]"
   ]
  },
  {
   "cell_type": "code",
   "execution_count": 37,
   "metadata": {},
   "outputs": [],
   "source": [
    "raw_gene_matrix_by_symbols = raw_gene_matrix_by_symbols[~raw_gene_matrix_by_symbols.index.duplicated()]"
   ]
  },
  {
   "cell_type": "code",
   "execution_count": 38,
   "metadata": {},
   "outputs": [
    {
     "name": "stdout",
     "output_type": "stream",
     "text": [
      "86.02%\n"
     ]
    }
   ],
   "source": [
    "calculate_overlap(reactome_new_symbol, raw_gene_matrix_by_symbols)"
   ]
  },
  {
   "cell_type": "markdown",
   "metadata": {},
   "source": [
    "Using the recent Reactome GMT mapped via entrez IDs to symbol seems good enough. Is it superior to just using the symbols provided in aptamers metadata?"
   ]
  },
  {
   "cell_type": "code",
   "execution_count": 39,
   "metadata": {},
   "outputs": [],
   "source": [
    "aptamers = read_csv('data/other/relevant_aptamers.csv')"
   ]
  },
  {
   "cell_type": "code",
   "execution_count": 40,
   "metadata": {},
   "outputs": [
    {
     "data": {
      "text/plain": [
       "86.73312883435584"
      ]
     },
     "execution_count": 40,
     "metadata": {},
     "output_type": "execute_result"
    }
   ],
   "source": [
    "soma = set(symbol for symbols in aptamers.EntrezGeneSymbol.str.split(' ') for symbol in symbols)\n",
    "precentage = len(reactome_new_symbol.all_identifiers & soma) / len(soma) * 100\n",
    "precentage"
   ]
  },
  {
   "cell_type": "code",
   "execution_count": 41,
   "metadata": {},
   "outputs": [
    {
     "data": {
      "text/plain": [
       "(1304, 1323)"
      ]
     },
     "execution_count": 41,
     "metadata": {},
     "output_type": "execute_result"
    }
   ],
   "source": [
    "len(soma), len(raw_gene_matrix_by_symbols)"
   ]
  },
  {
   "cell_type": "markdown",
   "metadata": {},
   "source": [
    "It's about the same. But I feel much more confident using the entrez-id mapping step."
   ]
  },
  {
   "cell_type": "code",
   "execution_count": 43,
   "metadata": {},
   "outputs": [
    {
     "name": "stdout",
     "output_type": "stream",
     "text": [
      "c2.cp.kegg\n",
      "reactome_new_symbol\n",
      "c2.cp.reactome\n"
     ]
    }
   ],
   "source": [
    "entrez_ids = set(map(str, raw_gene_matrix.index))\n",
    "symbols = set(raw_gene_matrix_by_symbols.index)\n",
    "\n",
    "for collection, genes in [\n",
    "    (kegg_pathways_entrez, entrez_ids),\n",
    "    (reactome_new_symbol, symbols),\n",
    "    (reactome_pathways_entrez, entrez_ids)\n",
    "]:\n",
    "    print(collection.name)\n",
    "    collection_to_R(collection, trim_to=genes)"
   ]
  },
  {
   "cell_type": "code",
   "execution_count": 44,
   "metadata": {},
   "outputs": [],
   "source": [
    "%%R\n",
    "gse = function(data, groups, contrast, collection, nrot=9999){\n",
    "    design = design_from_conditions(groups, intercept='Healthy.control')\n",
    "    limma::mroast(data, collection, design=design, contrast=contrast, geneid=dimnames(data)[[1]], nrot=nrot)\n",
    "}"
   ]
  },
  {
   "cell_type": "code",
   "execution_count": 45,
   "metadata": {},
   "outputs": [],
   "source": [
    "log10_gene_matrix_symbols = raw_gene_matrix_by_symbols.apply(log10)"
   ]
  },
  {
   "cell_type": "markdown",
   "metadata": {},
   "source": [
    "## Simple multiple rotational GSE testing is not well suited to prioritetize pathways in imbalanced dataset"
   ]
  },
  {
   "cell_type": "markdown",
   "metadata": {},
   "source": [
    "Because ROAST is self-contained it performs poorly in a setting where everything is up:"
   ]
  },
  {
   "cell_type": "markdown",
   "metadata": {},
   "source": [
    "### The results from recent Reactome release uncover more hits"
   ]
  },
  {
   "cell_type": "code",
   "execution_count": 46,
   "metadata": {},
   "outputs": [
    {
     "name": "stdout",
     "output_type": "stream",
     "text": [
      "                                     NGenes PropDown PropUp Direction PValue\n",
      "Apoptosis                                42        0      1        Up  1e-04\n",
      "Integrin Cell Surface Interactions       38        0      1        Up  1e-04\n",
      "Cell Cycle                               34        0      1        Up  1e-04\n",
      "Signaling By The B Cell Receptor Bcr     28        0      1        Up  1e-04\n",
      "Cell Cycle Mitotic                       26        0      1        Up  1e-04\n",
      "Costimulation By The Cd28 Family         26        0      1        Up  1e-04\n",
      "                                       FDR PValue.Mixed FDR.Mixed\n",
      "Apoptosis                            1e-04        1e-04     1e-04\n",
      "Integrin Cell Surface Interactions   1e-04        1e-04     1e-04\n",
      "Cell Cycle                           1e-04        1e-04     1e-04\n",
      "Signaling By The B Cell Receptor Bcr 1e-04        1e-04     1e-04\n",
      "Cell Cycle Mitotic                   1e-04        1e-04     1e-04\n",
      "Costimulation By The Cd28 Family     1e-04        1e-04     1e-04\n"
     ]
    }
   ],
   "source": [
    "%%R -o tb_top_pathways -i log10_gene_matrix\n",
    "tb_top_pathways = gse(log10_gene_matrix, by_condition, 'Tuberculosis', c2.cp.reactome)\n",
    "head(tb_top_pathways)"
   ]
  },
  {
   "cell_type": "code",
   "execution_count": 47,
   "metadata": {},
   "outputs": [
    {
     "name": "stdout",
     "output_type": "stream",
     "text": [
      "                                   NGenes PropDown PropUp Direction PValue\n",
      "Cell Cycle                             67        0      1        Up  1e-04\n",
      "Transcriptional Regulation by TP53     58        0      1        Up  1e-04\n",
      "Cell Cycle, Mitotic                    56        0      1        Up  1e-04\n",
      "Programmed Cell Death                  55        0      1        Up  1e-04\n",
      "Apoptosis                              54        0      1        Up  1e-04\n",
      "Signaling by VEGF                      41        0      1        Up  1e-04\n",
      "                                     FDR PValue.Mixed FDR.Mixed\n",
      "Cell Cycle                         1e-04        1e-04     1e-04\n",
      "Transcriptional Regulation by TP53 1e-04        1e-04     1e-04\n",
      "Cell Cycle, Mitotic                1e-04        1e-04     1e-04\n",
      "Programmed Cell Death              1e-04        1e-04     1e-04\n",
      "Apoptosis                          1e-04        1e-04     1e-04\n",
      "Signaling by VEGF                  1e-04        1e-04     1e-04\n"
     ]
    }
   ],
   "source": [
    "%%R -o tb_top_pathways -i log10_gene_matrix_symbols\n",
    "tb_top_pathways = gse(log10_gene_matrix_symbols, by_condition, 'Tuberculosis', reactome_new_symbol)\n",
    "head(tb_top_pathways)"
   ]
  },
  {
   "cell_type": "markdown",
   "metadata": {},
   "source": [
    "## Using camera (on limma with trend correction) is better suited for the imbalanced dataset"
   ]
  },
  {
   "cell_type": "markdown",
   "metadata": {},
   "source": [
    "- Because it is a competitive test.\n",
    "- because we take advantage of the mean-variance trend correction and robust statistics"
   ]
  },
  {
   "cell_type": "code",
   "execution_count": 48,
   "metadata": {},
   "outputs": [],
   "source": [
    "%%R\n",
    "camera = function(a, b, data, collection, design=by_condition) {\n",
    "    result = diff_ebayes(a, b, data=data, conditions_vector=design)\n",
    "    # using t-statistic\n",
    "    limma::cameraPR(result$t[,1], collection)\n",
    "}"
   ]
  },
  {
   "cell_type": "code",
   "execution_count": 49,
   "metadata": {},
   "outputs": [],
   "source": [
    "%%R -o tb_log_msig\n",
    "tb_log_msig = camera('Tuberculosis', 'Healthy control', log10_gene_matrix, c2.cp.reactome)"
   ]
  },
  {
   "cell_type": "code",
   "execution_count": 50,
   "metadata": {},
   "outputs": [
    {
     "data": {
      "text/html": [
       "<div>\n",
       "<style scoped>\n",
       "    .dataframe tbody tr th:only-of-type {\n",
       "        vertical-align: middle;\n",
       "    }\n",
       "\n",
       "    .dataframe tbody tr th {\n",
       "        vertical-align: top;\n",
       "    }\n",
       "\n",
       "    .dataframe thead th {\n",
       "        text-align: right;\n",
       "    }\n",
       "</style>\n",
       "<table border=\"1\" class=\"dataframe\">\n",
       "  <thead>\n",
       "    <tr style=\"text-align: right;\">\n",
       "      <th></th>\n",
       "      <th>NGenes</th>\n",
       "      <th>Direction</th>\n",
       "      <th>PValue</th>\n",
       "      <th>FDR</th>\n",
       "    </tr>\n",
       "  </thead>\n",
       "  <tbody>\n",
       "    <tr>\n",
       "      <th>Rna Pol I Promoter Opening</th>\n",
       "      <td>13.0</td>\n",
       "      <td>Up</td>\n",
       "      <td>1.674224e-11</td>\n",
       "      <td>4.972446e-09</td>\n",
       "    </tr>\n",
       "    <tr>\n",
       "      <th>Rna Pol I Transcription</th>\n",
       "      <td>14.0</td>\n",
       "      <td>Up</td>\n",
       "      <td>9.014255e-11</td>\n",
       "      <td>1.338617e-08</td>\n",
       "    </tr>\n",
       "    <tr>\n",
       "      <th>Meiosis</th>\n",
       "      <td>16.0</td>\n",
       "      <td>Up</td>\n",
       "      <td>3.708488e-10</td>\n",
       "      <td>3.671403e-08</td>\n",
       "    </tr>\n",
       "    <tr>\n",
       "      <th>Meiotic Recombination</th>\n",
       "      <td>14.0</td>\n",
       "      <td>Up</td>\n",
       "      <td>7.226758e-10</td>\n",
       "      <td>5.365868e-08</td>\n",
       "    </tr>\n",
       "    <tr>\n",
       "      <th>Rna Pol I Rna Pol Iii And Mitochondrial Transcription</th>\n",
       "      <td>16.0</td>\n",
       "      <td>Up</td>\n",
       "      <td>1.353965e-09</td>\n",
       "      <td>8.042555e-08</td>\n",
       "    </tr>\n",
       "    <tr>\n",
       "      <th>Transcription</th>\n",
       "      <td>18.0</td>\n",
       "      <td>Up</td>\n",
       "      <td>5.185914e-09</td>\n",
       "      <td>2.567028e-07</td>\n",
       "    </tr>\n",
       "    <tr>\n",
       "      <th>Factors Involved In Megakaryocyte Development And Platelet Production</th>\n",
       "      <td>25.0</td>\n",
       "      <td>Up</td>\n",
       "      <td>8.569384e-05</td>\n",
       "      <td>3.635867e-03</td>\n",
       "    </tr>\n",
       "    <tr>\n",
       "      <th>Signaling By Scf Kit</th>\n",
       "      <td>38.0</td>\n",
       "      <td>Up</td>\n",
       "      <td>2.386632e-04</td>\n",
       "      <td>8.860371e-03</td>\n",
       "    </tr>\n",
       "    <tr>\n",
       "      <th>Heparan Sulfate Heparin Hs Gag Metabolism</th>\n",
       "      <td>10.0</td>\n",
       "      <td>Down</td>\n",
       "      <td>3.368020e-04</td>\n",
       "      <td>1.111447e-02</td>\n",
       "    </tr>\n",
       "    <tr>\n",
       "      <th>Glycosaminoglycan Metabolism</th>\n",
       "      <td>20.0</td>\n",
       "      <td>Down</td>\n",
       "      <td>5.405008e-04</td>\n",
       "      <td>1.605287e-02</td>\n",
       "    </tr>\n",
       "  </tbody>\n",
       "</table>\n",
       "</div>"
      ],
      "text/plain": [
       "                                                    NGenes Direction  \\\n",
       "Rna Pol I Promoter Opening                            13.0        Up   \n",
       "Rna Pol I Transcription                               14.0        Up   \n",
       "Meiosis                                               16.0        Up   \n",
       "Meiotic Recombination                                 14.0        Up   \n",
       "Rna Pol I Rna Pol Iii And Mitochondrial Transcr...    16.0        Up   \n",
       "Transcription                                         18.0        Up   \n",
       "Factors Involved In Megakaryocyte Development A...    25.0        Up   \n",
       "Signaling By Scf Kit                                  38.0        Up   \n",
       "Heparan Sulfate Heparin Hs Gag Metabolism             10.0      Down   \n",
       "Glycosaminoglycan Metabolism                          20.0      Down   \n",
       "\n",
       "                                                          PValue           FDR  \n",
       "Rna Pol I Promoter Opening                          1.674224e-11  4.972446e-09  \n",
       "Rna Pol I Transcription                             9.014255e-11  1.338617e-08  \n",
       "Meiosis                                             3.708488e-10  3.671403e-08  \n",
       "Meiotic Recombination                               7.226758e-10  5.365868e-08  \n",
       "Rna Pol I Rna Pol Iii And Mitochondrial Transcr...  1.353965e-09  8.042555e-08  \n",
       "Transcription                                       5.185914e-09  2.567028e-07  \n",
       "Factors Involved In Megakaryocyte Development A...  8.569384e-05  3.635867e-03  \n",
       "Signaling By Scf Kit                                2.386632e-04  8.860371e-03  \n",
       "Heparan Sulfate Heparin Hs Gag Metabolism           3.368020e-04  1.111447e-02  \n",
       "Glycosaminoglycan Metabolism                        5.405008e-04  1.605287e-02  "
      ]
     },
     "execution_count": 50,
     "metadata": {},
     "output_type": "execute_result"
    }
   ],
   "source": [
    "tb_log_msig.head(10)"
   ]
  },
  {
   "cell_type": "code",
   "execution_count": 51,
   "metadata": {},
   "outputs": [],
   "source": [
    "%%R -o tb_log_new\n",
    "tb_log_new = camera('Tuberculosis', 'Healthy control', log10_gene_matrix_symbols, reactome_new_symbol)"
   ]
  },
  {
   "cell_type": "code",
   "execution_count": 52,
   "metadata": {},
   "outputs": [
    {
     "data": {
      "text/html": [
       "<div>\n",
       "<style scoped>\n",
       "    .dataframe tbody tr th:only-of-type {\n",
       "        vertical-align: middle;\n",
       "    }\n",
       "\n",
       "    .dataframe tbody tr th {\n",
       "        vertical-align: top;\n",
       "    }\n",
       "\n",
       "    .dataframe thead th {\n",
       "        text-align: right;\n",
       "    }\n",
       "</style>\n",
       "<table border=\"1\" class=\"dataframe\">\n",
       "  <thead>\n",
       "    <tr style=\"text-align: right;\">\n",
       "      <th></th>\n",
       "      <th>NGenes</th>\n",
       "      <th>Direction</th>\n",
       "      <th>PValue</th>\n",
       "      <th>FDR</th>\n",
       "    </tr>\n",
       "  </thead>\n",
       "  <tbody>\n",
       "    <tr>\n",
       "      <th>Signaling by Rho GTPases</th>\n",
       "      <td>40.0</td>\n",
       "      <td>Up</td>\n",
       "      <td>0.000062</td>\n",
       "      <td>0.041932</td>\n",
       "    </tr>\n",
       "    <tr>\n",
       "      <th>RHO GTPases activate PKNs</th>\n",
       "      <td>11.0</td>\n",
       "      <td>Up</td>\n",
       "      <td>0.000179</td>\n",
       "      <td>0.041932</td>\n",
       "    </tr>\n",
       "    <tr>\n",
       "      <th>Activation of BAD and translocation to mitochondria</th>\n",
       "      <td>12.0</td>\n",
       "      <td>Up</td>\n",
       "      <td>0.000210</td>\n",
       "      <td>0.041932</td>\n",
       "    </tr>\n",
       "    <tr>\n",
       "      <th>Neutrophil degranulation</th>\n",
       "      <td>128.0</td>\n",
       "      <td>Up</td>\n",
       "      <td>0.000271</td>\n",
       "      <td>0.041932</td>\n",
       "    </tr>\n",
       "    <tr>\n",
       "      <th>RHO GTPase Effectors</th>\n",
       "      <td>36.0</td>\n",
       "      <td>Up</td>\n",
       "      <td>0.000299</td>\n",
       "      <td>0.041932</td>\n",
       "    </tr>\n",
       "    <tr>\n",
       "      <th>Heparan sulfate/heparin (HS-GAG) metabolism</th>\n",
       "      <td>10.0</td>\n",
       "      <td>Down</td>\n",
       "      <td>0.000344</td>\n",
       "      <td>0.041932</td>\n",
       "    </tr>\n",
       "    <tr>\n",
       "      <th>Cell Cycle</th>\n",
       "      <td>67.0</td>\n",
       "      <td>Up</td>\n",
       "      <td>0.000416</td>\n",
       "      <td>0.043445</td>\n",
       "    </tr>\n",
       "    <tr>\n",
       "      <th>Glycosaminoglycan metabolism</th>\n",
       "      <td>20.0</td>\n",
       "      <td>Down</td>\n",
       "      <td>0.000552</td>\n",
       "      <td>0.050417</td>\n",
       "    </tr>\n",
       "    <tr>\n",
       "      <th>Chondroitin sulfate/dermatan sulfate metabolism</th>\n",
       "      <td>11.0</td>\n",
       "      <td>Down</td>\n",
       "      <td>0.000723</td>\n",
       "      <td>0.054624</td>\n",
       "    </tr>\n",
       "    <tr>\n",
       "      <th>Intrinsic Pathway for Apoptosis</th>\n",
       "      <td>24.0</td>\n",
       "      <td>Up</td>\n",
       "      <td>0.000749</td>\n",
       "      <td>0.054624</td>\n",
       "    </tr>\n",
       "  </tbody>\n",
       "</table>\n",
       "</div>"
      ],
      "text/plain": [
       "                                                    NGenes Direction  \\\n",
       "Signaling by Rho GTPases                              40.0        Up   \n",
       "RHO GTPases activate PKNs                             11.0        Up   \n",
       "Activation of BAD and translocation to mitochon...    12.0        Up   \n",
       "Neutrophil degranulation                             128.0        Up   \n",
       "RHO GTPase Effectors                                  36.0        Up   \n",
       "Heparan sulfate/heparin (HS-GAG) metabolism           10.0      Down   \n",
       "Cell Cycle                                            67.0        Up   \n",
       "Glycosaminoglycan metabolism                          20.0      Down   \n",
       "Chondroitin sulfate/dermatan sulfate metabolism       11.0      Down   \n",
       "Intrinsic Pathway for Apoptosis                       24.0        Up   \n",
       "\n",
       "                                                      PValue       FDR  \n",
       "Signaling by Rho GTPases                            0.000062  0.041932  \n",
       "RHO GTPases activate PKNs                           0.000179  0.041932  \n",
       "Activation of BAD and translocation to mitochon...  0.000210  0.041932  \n",
       "Neutrophil degranulation                            0.000271  0.041932  \n",
       "RHO GTPase Effectors                                0.000299  0.041932  \n",
       "Heparan sulfate/heparin (HS-GAG) metabolism         0.000344  0.041932  \n",
       "Cell Cycle                                          0.000416  0.043445  \n",
       "Glycosaminoglycan metabolism                        0.000552  0.050417  \n",
       "Chondroitin sulfate/dermatan sulfate metabolism     0.000723  0.054624  \n",
       "Intrinsic Pathway for Apoptosis                     0.000749  0.054624  "
      ]
     },
     "execution_count": 52,
     "metadata": {},
     "output_type": "execute_result"
    }
   ],
   "source": [
    "tb_log_new.head(10)"
   ]
  },
  {
   "cell_type": "markdown",
   "metadata": {},
   "source": [
    "Some familiar names here:\n",
    " - \"Activation of BAD and translocation to mitochondria\", \"Cell Cycle\" (highlighted by ORA)\n",
    " - RHO GTPase and Neutrophil degranulation - there are frequent mentions in context of TB"
   ]
  },
  {
   "cell_type": "markdown",
   "metadata": {},
   "source": [
    "Note:\n",
    "- Using the full Reactome dataset has an advantage of increased (86% from 55%) number of genes mapped to the pathways\n",
    "- but it might introduce too similar (correlated) gene sets which skew the results of tests - which is not the case for the curated collections\n",
    "- when an agreement between the two methods is reached, we can rest assured that the results are correct"
   ]
  },
  {
   "cell_type": "code",
   "execution_count": 53,
   "metadata": {},
   "outputs": [],
   "source": [
    "def agreement(a, b, cutoff=0.1):\n",
    "    a = copy(a)\n",
    "    b = copy(b)\n",
    "    b['name'] = b.index\n",
    "    a.index = a.index.str.lower()\n",
    "    b.index = b.index.str.lower()\n",
    "    for d in [a, b]:\n",
    "        # this code wants to be rewritten to a regexpr\n",
    "        d.index = d.index.map(lambda x: ''.join([\n",
    "            c if c.isalnum() or c.isspace() else ' '\n",
    "            for c in x\n",
    "        ]).replace('  ', ' ').replace('  ', ' '))\n",
    "    agreement = set(a[a.FDR < cutoff].index) & set(b[b.FDR < cutoff].index)\n",
    "    return a.loc[agreement].merge(b.loc[agreement], left_index=True, right_index=True).sort_values('FDR_y').set_index('name')"
   ]
  },
  {
   "cell_type": "code",
   "execution_count": 54,
   "metadata": {},
   "outputs": [
    {
     "data": {
      "text/html": [
       "<div>\n",
       "<style scoped>\n",
       "    .dataframe tbody tr th:only-of-type {\n",
       "        vertical-align: middle;\n",
       "    }\n",
       "\n",
       "    .dataframe tbody tr th {\n",
       "        vertical-align: top;\n",
       "    }\n",
       "\n",
       "    .dataframe thead th {\n",
       "        text-align: right;\n",
       "    }\n",
       "</style>\n",
       "<table border=\"1\" class=\"dataframe\">\n",
       "  <thead>\n",
       "    <tr style=\"text-align: right;\">\n",
       "      <th></th>\n",
       "      <th>NGenes_x</th>\n",
       "      <th>Direction_x</th>\n",
       "      <th>PValue_x</th>\n",
       "      <th>FDR_x</th>\n",
       "      <th>NGenes_y</th>\n",
       "      <th>Direction_y</th>\n",
       "      <th>PValue_y</th>\n",
       "      <th>FDR_y</th>\n",
       "    </tr>\n",
       "    <tr>\n",
       "      <th>name</th>\n",
       "      <th></th>\n",
       "      <th></th>\n",
       "      <th></th>\n",
       "      <th></th>\n",
       "      <th></th>\n",
       "      <th></th>\n",
       "      <th></th>\n",
       "      <th></th>\n",
       "    </tr>\n",
       "  </thead>\n",
       "  <tbody>\n",
       "    <tr>\n",
       "      <th>Heparan sulfate/heparin (HS-GAG) metabolism</th>\n",
       "      <td>10.0</td>\n",
       "      <td>Down</td>\n",
       "      <td>0.000337</td>\n",
       "      <td>0.011114</td>\n",
       "      <td>10.0</td>\n",
       "      <td>Down</td>\n",
       "      <td>0.000344</td>\n",
       "      <td>0.041932</td>\n",
       "    </tr>\n",
       "    <tr>\n",
       "      <th>Glycosaminoglycan metabolism</th>\n",
       "      <td>20.0</td>\n",
       "      <td>Down</td>\n",
       "      <td>0.000541</td>\n",
       "      <td>0.016053</td>\n",
       "      <td>20.0</td>\n",
       "      <td>Down</td>\n",
       "      <td>0.000552</td>\n",
       "      <td>0.050417</td>\n",
       "    </tr>\n",
       "    <tr>\n",
       "      <th>Apoptosis</th>\n",
       "      <td>42.0</td>\n",
       "      <td>Up</td>\n",
       "      <td>0.005001</td>\n",
       "      <td>0.061889</td>\n",
       "      <td>54.0</td>\n",
       "      <td>Up</td>\n",
       "      <td>0.000822</td>\n",
       "      <td>0.054624</td>\n",
       "    </tr>\n",
       "    <tr>\n",
       "      <th>Chondroitin sulfate/dermatan sulfate metabolism</th>\n",
       "      <td>11.0</td>\n",
       "      <td>Down</td>\n",
       "      <td>0.000709</td>\n",
       "      <td>0.017554</td>\n",
       "      <td>11.0</td>\n",
       "      <td>Down</td>\n",
       "      <td>0.000723</td>\n",
       "      <td>0.054624</td>\n",
       "    </tr>\n",
       "    <tr>\n",
       "      <th>CS/DS degradation</th>\n",
       "      <td>6.0</td>\n",
       "      <td>Down</td>\n",
       "      <td>0.000886</td>\n",
       "      <td>0.020238</td>\n",
       "      <td>6.0</td>\n",
       "      <td>Down</td>\n",
       "      <td>0.000902</td>\n",
       "      <td>0.054952</td>\n",
       "    </tr>\n",
       "    <tr>\n",
       "      <th>Costimulation by the CD28 family</th>\n",
       "      <td>26.0</td>\n",
       "      <td>Up</td>\n",
       "      <td>0.002343</td>\n",
       "      <td>0.038406</td>\n",
       "      <td>28.0</td>\n",
       "      <td>Up</td>\n",
       "      <td>0.002608</td>\n",
       "      <td>0.070598</td>\n",
       "    </tr>\n",
       "    <tr>\n",
       "      <th>HS-GAG degradation</th>\n",
       "      <td>6.0</td>\n",
       "      <td>Down</td>\n",
       "      <td>0.002457</td>\n",
       "      <td>0.038406</td>\n",
       "      <td>6.0</td>\n",
       "      <td>Down</td>\n",
       "      <td>0.002496</td>\n",
       "      <td>0.070598</td>\n",
       "    </tr>\n",
       "    <tr>\n",
       "      <th>Metabolism of RNA</th>\n",
       "      <td>23.0</td>\n",
       "      <td>Up</td>\n",
       "      <td>0.001880</td>\n",
       "      <td>0.036946</td>\n",
       "      <td>34.0</td>\n",
       "      <td>Up</td>\n",
       "      <td>0.001894</td>\n",
       "      <td>0.070598</td>\n",
       "    </tr>\n",
       "  </tbody>\n",
       "</table>\n",
       "</div>"
      ],
      "text/plain": [
       "                                                 NGenes_x Direction_x  \\\n",
       "name                                                                    \n",
       "Heparan sulfate/heparin (HS-GAG) metabolism          10.0        Down   \n",
       "Glycosaminoglycan metabolism                         20.0        Down   \n",
       "Apoptosis                                            42.0          Up   \n",
       "Chondroitin sulfate/dermatan sulfate metabolism      11.0        Down   \n",
       "CS/DS degradation                                     6.0        Down   \n",
       "Costimulation by the CD28 family                     26.0          Up   \n",
       "HS-GAG degradation                                    6.0        Down   \n",
       "Metabolism of RNA                                    23.0          Up   \n",
       "\n",
       "                                                 PValue_x     FDR_x  NGenes_y  \\\n",
       "name                                                                            \n",
       "Heparan sulfate/heparin (HS-GAG) metabolism      0.000337  0.011114      10.0   \n",
       "Glycosaminoglycan metabolism                     0.000541  0.016053      20.0   \n",
       "Apoptosis                                        0.005001  0.061889      54.0   \n",
       "Chondroitin sulfate/dermatan sulfate metabolism  0.000709  0.017554      11.0   \n",
       "CS/DS degradation                                0.000886  0.020238       6.0   \n",
       "Costimulation by the CD28 family                 0.002343  0.038406      28.0   \n",
       "HS-GAG degradation                               0.002457  0.038406       6.0   \n",
       "Metabolism of RNA                                0.001880  0.036946      34.0   \n",
       "\n",
       "                                                Direction_y  PValue_y  \\\n",
       "name                                                                    \n",
       "Heparan sulfate/heparin (HS-GAG) metabolism            Down  0.000344   \n",
       "Glycosaminoglycan metabolism                           Down  0.000552   \n",
       "Apoptosis                                                Up  0.000822   \n",
       "Chondroitin sulfate/dermatan sulfate metabolism        Down  0.000723   \n",
       "CS/DS degradation                                      Down  0.000902   \n",
       "Costimulation by the CD28 family                         Up  0.002608   \n",
       "HS-GAG degradation                                     Down  0.002496   \n",
       "Metabolism of RNA                                        Up  0.001894   \n",
       "\n",
       "                                                    FDR_y  \n",
       "name                                                       \n",
       "Heparan sulfate/heparin (HS-GAG) metabolism      0.041932  \n",
       "Glycosaminoglycan metabolism                     0.050417  \n",
       "Apoptosis                                        0.054624  \n",
       "Chondroitin sulfate/dermatan sulfate metabolism  0.054624  \n",
       "CS/DS degradation                                0.054952  \n",
       "Costimulation by the CD28 family                 0.070598  \n",
       "HS-GAG degradation                               0.070598  \n",
       "Metabolism of RNA                                0.070598  "
      ]
     },
     "execution_count": 54,
     "metadata": {},
     "output_type": "execute_result"
    }
   ],
   "source": [
    "tb_log_agreement = agreement(tb_log_msig, tb_log_new, cutoff=0.1)\n",
    "tb_log_agreement"
   ]
  },
  {
   "cell_type": "code",
   "execution_count": 55,
   "metadata": {},
   "outputs": [],
   "source": [
    "%%R\n",
    "barplot = function(values, gene_sets, collection) {\n",
    "    df = as.data.frame(values)\n",
    "    df$gene = rownames(df)\n",
    "\n",
    "    sets = collection[gene_sets]\n",
    "\n",
    "    l = list()\n",
    "    i = 0\n",
    "    for(set_name in names(sets)) {\n",
    "        genes = sets[[set_name]]\n",
    "        for (gene in genes) {\n",
    "            i = i + 1\n",
    "            x = df[rownames(df) == gene, 'values']\n",
    "            l[[i]] = data.frame(\n",
    "                gene=gene,\n",
    "                gene_set=set_name,\n",
    "                values=x\n",
    "            )\n",
    "        }\n",
    "    }\n",
    "    df$gene_set = 'All genes'\n",
    "    df2 = rbind(df, do.call(rbind, l))\n",
    "    df2$mean = ave(df2$values, df2$gene_set)\n",
    "\n",
    "    df2 <- transform(df2, variable=reorder(gene, values) ) \n",
    "    (\n",
    "        ggplot(df2, aes(x=reorder(gene, values), y=reorder(gene_set, mean), fill=values))\n",
    "        + theme_bw()\n",
    "        + geom_tile(colour='white')\n",
    "        + theme(\n",
    "            legend.position = 'bottom',\n",
    "            axis.text.x = element_text(angle = 90),\n",
    "            plot.background = element_blank(),\n",
    "            panel.grid.major = element_blank(),\n",
    "            panel.grid.minor = element_blank()\n",
    "        )\n",
    "        + scale_x_discrete(breaks=df2[df2$gene_set != 'All genes', 'gene'][0:0])\n",
    "        + scale_fill_gradient2(low='navy', mid='white', high='red', midpoint=0)\n",
    "    )\n",
    "}"
   ]
  },
  {
   "cell_type": "code",
   "execution_count": 56,
   "metadata": {},
   "outputs": [
    {
     "data": {
      "image/png": "[encoded data removed]"
     },
     "metadata": {},
     "output_type": "display_data"
    }
   ],
   "source": [
    "%%R -w 1000 -u px -i tb_log_agreement\n",
    "sets_of_interest = rownames(tb_log_agreement)\n",
    "result = diff_ebayes('Tuberculosis', 'Healthy control', log10_gene_matrix_symbols)\n",
    "barplot(result$t[,1], sets_of_interest, reactome_new_symbol)"
   ]
  },
  {
   "cell_type": "code",
   "execution_count": 57,
   "metadata": {},
   "outputs": [
    {
     "data": {
      "image/png": "[encoded data removed]"
     },
     "metadata": {},
     "output_type": "display_data"
    }
   ],
   "source": [
    "%%R -w 1000 -u px\n",
    "barplot(rowMeans(log10_gene_matrix_symbols), sets_of_interest, reactome_new_symbol)"
   ]
  },
  {
   "cell_type": "markdown",
   "metadata": {},
   "source": [
    "### TB vs crypto"
   ]
  },
  {
   "cell_type": "code",
   "execution_count": 58,
   "metadata": {},
   "outputs": [],
   "source": [
    "%%R -o tb_cc_log_msig\n",
    "tb_cc_log_msig = camera('Tuberculosis', 'Cryptococcal', log10_gene_matrix, c2.cp.reactome)"
   ]
  },
  {
   "cell_type": "code",
   "execution_count": 59,
   "metadata": {},
   "outputs": [
    {
     "data": {
      "text/html": [
       "<div>\n",
       "<style scoped>\n",
       "    .dataframe tbody tr th:only-of-type {\n",
       "        vertical-align: middle;\n",
       "    }\n",
       "\n",
       "    .dataframe tbody tr th {\n",
       "        vertical-align: top;\n",
       "    }\n",
       "\n",
       "    .dataframe thead th {\n",
       "        text-align: right;\n",
       "    }\n",
       "</style>\n",
       "<table border=\"1\" class=\"dataframe\">\n",
       "  <thead>\n",
       "    <tr style=\"text-align: right;\">\n",
       "      <th></th>\n",
       "      <th>NGenes</th>\n",
       "      <th>Direction</th>\n",
       "      <th>PValue</th>\n",
       "      <th>FDR</th>\n",
       "    </tr>\n",
       "  </thead>\n",
       "  <tbody>\n",
       "    <tr>\n",
       "      <th>Rna Pol I Promoter Opening</th>\n",
       "      <td>13.0</td>\n",
       "      <td>Up</td>\n",
       "      <td>4.374749e-07</td>\n",
       "      <td>0.000063</td>\n",
       "    </tr>\n",
       "    <tr>\n",
       "      <th>Transcription</th>\n",
       "      <td>18.0</td>\n",
       "      <td>Up</td>\n",
       "      <td>5.856757e-07</td>\n",
       "      <td>0.000063</td>\n",
       "    </tr>\n",
       "    <tr>\n",
       "      <th>Meiosis</th>\n",
       "      <td>16.0</td>\n",
       "      <td>Up</td>\n",
       "      <td>9.417996e-07</td>\n",
       "      <td>0.000063</td>\n",
       "    </tr>\n",
       "    <tr>\n",
       "      <th>Rna Pol I Transcription</th>\n",
       "      <td>14.0</td>\n",
       "      <td>Up</td>\n",
       "      <td>9.857308e-07</td>\n",
       "      <td>0.000063</td>\n",
       "    </tr>\n",
       "    <tr>\n",
       "      <th>Rna Pol I Rna Pol Iii And Mitochondrial Transcription</th>\n",
       "      <td>16.0</td>\n",
       "      <td>Up</td>\n",
       "      <td>1.267866e-06</td>\n",
       "      <td>0.000063</td>\n",
       "    </tr>\n",
       "    <tr>\n",
       "      <th>Meiotic Recombination</th>\n",
       "      <td>14.0</td>\n",
       "      <td>Up</td>\n",
       "      <td>1.278593e-06</td>\n",
       "      <td>0.000063</td>\n",
       "    </tr>\n",
       "    <tr>\n",
       "      <th>Signaling By Scf Kit</th>\n",
       "      <td>38.0</td>\n",
       "      <td>Up</td>\n",
       "      <td>8.320456e-06</td>\n",
       "      <td>0.000353</td>\n",
       "    </tr>\n",
       "    <tr>\n",
       "      <th>Peptide Hormone Biosynthesis</th>\n",
       "      <td>8.0</td>\n",
       "      <td>Down</td>\n",
       "      <td>5.161046e-05</td>\n",
       "      <td>0.001916</td>\n",
       "    </tr>\n",
       "    <tr>\n",
       "      <th>Signaling By The B Cell Receptor Bcr</th>\n",
       "      <td>28.0</td>\n",
       "      <td>Up</td>\n",
       "      <td>9.258122e-05</td>\n",
       "      <td>0.003055</td>\n",
       "    </tr>\n",
       "    <tr>\n",
       "      <th>Glycoprotein Hormones</th>\n",
       "      <td>7.0</td>\n",
       "      <td>Down</td>\n",
       "      <td>1.151620e-04</td>\n",
       "      <td>0.003420</td>\n",
       "    </tr>\n",
       "  </tbody>\n",
       "</table>\n",
       "</div>"
      ],
      "text/plain": [
       "                                                    NGenes Direction  \\\n",
       "Rna Pol I Promoter Opening                            13.0        Up   \n",
       "Transcription                                         18.0        Up   \n",
       "Meiosis                                               16.0        Up   \n",
       "Rna Pol I Transcription                               14.0        Up   \n",
       "Rna Pol I Rna Pol Iii And Mitochondrial Transcr...    16.0        Up   \n",
       "Meiotic Recombination                                 14.0        Up   \n",
       "Signaling By Scf Kit                                  38.0        Up   \n",
       "Peptide Hormone Biosynthesis                           8.0      Down   \n",
       "Signaling By The B Cell Receptor Bcr                  28.0        Up   \n",
       "Glycoprotein Hormones                                  7.0      Down   \n",
       "\n",
       "                                                          PValue       FDR  \n",
       "Rna Pol I Promoter Opening                          4.374749e-07  0.000063  \n",
       "Transcription                                       5.856757e-07  0.000063  \n",
       "Meiosis                                             9.417996e-07  0.000063  \n",
       "Rna Pol I Transcription                             9.857308e-07  0.000063  \n",
       "Rna Pol I Rna Pol Iii And Mitochondrial Transcr...  1.267866e-06  0.000063  \n",
       "Meiotic Recombination                               1.278593e-06  0.000063  \n",
       "Signaling By Scf Kit                                8.320456e-06  0.000353  \n",
       "Peptide Hormone Biosynthesis                        5.161046e-05  0.001916  \n",
       "Signaling By The B Cell Receptor Bcr                9.258122e-05  0.003055  \n",
       "Glycoprotein Hormones                               1.151620e-04  0.003420  "
      ]
     },
     "execution_count": 59,
     "metadata": {},
     "output_type": "execute_result"
    }
   ],
   "source": [
    "tb_cc_log_msig.head(10)"
   ]
  },
  {
   "cell_type": "code",
   "execution_count": 60,
   "metadata": {},
   "outputs": [],
   "source": [
    "%%R -o tb_cc_log_new\n",
    "tb_cc_log_new = camera('Tuberculosis', 'Cryptococcal', log10_gene_matrix_symbols, reactome_new_symbol)"
   ]
  },
  {
   "cell_type": "code",
   "execution_count": 61,
   "metadata": {},
   "outputs": [
    {
     "data": {
      "text/html": [
       "<div>\n",
       "<style scoped>\n",
       "    .dataframe tbody tr th:only-of-type {\n",
       "        vertical-align: middle;\n",
       "    }\n",
       "\n",
       "    .dataframe tbody tr th {\n",
       "        vertical-align: top;\n",
       "    }\n",
       "\n",
       "    .dataframe thead th {\n",
       "        text-align: right;\n",
       "    }\n",
       "</style>\n",
       "<table border=\"1\" class=\"dataframe\">\n",
       "  <thead>\n",
       "    <tr style=\"text-align: right;\">\n",
       "      <th></th>\n",
       "      <th>NGenes</th>\n",
       "      <th>Direction</th>\n",
       "      <th>PValue</th>\n",
       "      <th>FDR</th>\n",
       "    </tr>\n",
       "  </thead>\n",
       "  <tbody>\n",
       "    <tr>\n",
       "      <th>Cell Cycle</th>\n",
       "      <td>67.0</td>\n",
       "      <td>Up</td>\n",
       "      <td>0.000020</td>\n",
       "      <td>0.012829</td>\n",
       "    </tr>\n",
       "    <tr>\n",
       "      <th>Cell Cycle, Mitotic</th>\n",
       "      <td>56.0</td>\n",
       "      <td>Up</td>\n",
       "      <td>0.000050</td>\n",
       "      <td>0.012829</td>\n",
       "    </tr>\n",
       "    <tr>\n",
       "      <th>Peptide hormone biosynthesis</th>\n",
       "      <td>8.0</td>\n",
       "      <td>Down</td>\n",
       "      <td>0.000053</td>\n",
       "      <td>0.012829</td>\n",
       "    </tr>\n",
       "    <tr>\n",
       "      <th>Glycoprotein hormones</th>\n",
       "      <td>7.0</td>\n",
       "      <td>Down</td>\n",
       "      <td>0.000117</td>\n",
       "      <td>0.021431</td>\n",
       "    </tr>\n",
       "    <tr>\n",
       "      <th>Assembly of collagen fibrils and other multimeric structures</th>\n",
       "      <td>10.0</td>\n",
       "      <td>Down</td>\n",
       "      <td>0.000198</td>\n",
       "      <td>0.028174</td>\n",
       "    </tr>\n",
       "    <tr>\n",
       "      <th>Signaling by Rho GTPases</th>\n",
       "      <td>40.0</td>\n",
       "      <td>Up</td>\n",
       "      <td>0.000231</td>\n",
       "      <td>0.028174</td>\n",
       "    </tr>\n",
       "    <tr>\n",
       "      <th>M Phase</th>\n",
       "      <td>35.0</td>\n",
       "      <td>Up</td>\n",
       "      <td>0.000309</td>\n",
       "      <td>0.030913</td>\n",
       "    </tr>\n",
       "    <tr>\n",
       "      <th>Cellular responses to external stimuli</th>\n",
       "      <td>80.0</td>\n",
       "      <td>Up</td>\n",
       "      <td>0.000338</td>\n",
       "      <td>0.030913</td>\n",
       "    </tr>\n",
       "    <tr>\n",
       "      <th>CREB1 phosphorylation through NMDA receptor-mediated activation of RAS signaling</th>\n",
       "      <td>8.0</td>\n",
       "      <td>Up</td>\n",
       "      <td>0.000442</td>\n",
       "      <td>0.034688</td>\n",
       "    </tr>\n",
       "    <tr>\n",
       "      <th>Signaling by SCF-KIT</th>\n",
       "      <td>24.0</td>\n",
       "      <td>Up</td>\n",
       "      <td>0.000475</td>\n",
       "      <td>0.034688</td>\n",
       "    </tr>\n",
       "  </tbody>\n",
       "</table>\n",
       "</div>"
      ],
      "text/plain": [
       "                                                    NGenes Direction  \\\n",
       "Cell Cycle                                            67.0        Up   \n",
       "Cell Cycle, Mitotic                                   56.0        Up   \n",
       "Peptide hormone biosynthesis                           8.0      Down   \n",
       "Glycoprotein hormones                                  7.0      Down   \n",
       "Assembly of collagen fibrils and other multimer...    10.0      Down   \n",
       "Signaling by Rho GTPases                              40.0        Up   \n",
       "M Phase                                               35.0        Up   \n",
       "Cellular responses to external stimuli                80.0        Up   \n",
       "CREB1 phosphorylation through NMDA receptor-med...     8.0        Up   \n",
       "Signaling by SCF-KIT                                  24.0        Up   \n",
       "\n",
       "                                                      PValue       FDR  \n",
       "Cell Cycle                                          0.000020  0.012829  \n",
       "Cell Cycle, Mitotic                                 0.000050  0.012829  \n",
       "Peptide hormone biosynthesis                        0.000053  0.012829  \n",
       "Glycoprotein hormones                               0.000117  0.021431  \n",
       "Assembly of collagen fibrils and other multimer...  0.000198  0.028174  \n",
       "Signaling by Rho GTPases                            0.000231  0.028174  \n",
       "M Phase                                             0.000309  0.030913  \n",
       "Cellular responses to external stimuli              0.000338  0.030913  \n",
       "CREB1 phosphorylation through NMDA receptor-med...  0.000442  0.034688  \n",
       "Signaling by SCF-KIT                                0.000475  0.034688  "
      ]
     },
     "execution_count": 61,
     "metadata": {},
     "output_type": "execute_result"
    }
   ],
   "source": [
    "tb_cc_log_new.head(10)"
   ]
  },
  {
   "cell_type": "code",
   "execution_count": 62,
   "metadata": {},
   "outputs": [
    {
     "data": {
      "text/html": [
       "<div>\n",
       "<style scoped>\n",
       "    .dataframe tbody tr th:only-of-type {\n",
       "        vertical-align: middle;\n",
       "    }\n",
       "\n",
       "    .dataframe tbody tr th {\n",
       "        vertical-align: top;\n",
       "    }\n",
       "\n",
       "    .dataframe thead th {\n",
       "        text-align: right;\n",
       "    }\n",
       "</style>\n",
       "<table border=\"1\" class=\"dataframe\">\n",
       "  <thead>\n",
       "    <tr style=\"text-align: right;\">\n",
       "      <th></th>\n",
       "      <th>NGenes_x</th>\n",
       "      <th>Direction_x</th>\n",
       "      <th>PValue_x</th>\n",
       "      <th>FDR_x</th>\n",
       "      <th>NGenes_y</th>\n",
       "      <th>Direction_y</th>\n",
       "      <th>PValue_y</th>\n",
       "      <th>FDR_y</th>\n",
       "    </tr>\n",
       "    <tr>\n",
       "      <th>name</th>\n",
       "      <th></th>\n",
       "      <th></th>\n",
       "      <th></th>\n",
       "      <th></th>\n",
       "      <th></th>\n",
       "      <th></th>\n",
       "      <th></th>\n",
       "      <th></th>\n",
       "    </tr>\n",
       "  </thead>\n",
       "  <tbody>\n",
       "    <tr>\n",
       "      <th>Cell Cycle</th>\n",
       "      <td>34.0</td>\n",
       "      <td>Up</td>\n",
       "      <td>7.420455e-03</td>\n",
       "      <td>0.056719</td>\n",
       "      <td>67.0</td>\n",
       "      <td>Up</td>\n",
       "      <td>0.000020</td>\n",
       "      <td>0.012829</td>\n",
       "    </tr>\n",
       "    <tr>\n",
       "      <th>Peptide hormone biosynthesis</th>\n",
       "      <td>8.0</td>\n",
       "      <td>Down</td>\n",
       "      <td>5.161046e-05</td>\n",
       "      <td>0.001916</td>\n",
       "      <td>8.0</td>\n",
       "      <td>Down</td>\n",
       "      <td>0.000053</td>\n",
       "      <td>0.012829</td>\n",
       "    </tr>\n",
       "    <tr>\n",
       "      <th>Glycoprotein hormones</th>\n",
       "      <td>7.0</td>\n",
       "      <td>Down</td>\n",
       "      <td>1.151620e-04</td>\n",
       "      <td>0.003420</td>\n",
       "      <td>7.0</td>\n",
       "      <td>Down</td>\n",
       "      <td>0.000117</td>\n",
       "      <td>0.021431</td>\n",
       "    </tr>\n",
       "    <tr>\n",
       "      <th>Signaling by SCF-KIT</th>\n",
       "      <td>38.0</td>\n",
       "      <td>Up</td>\n",
       "      <td>8.320456e-06</td>\n",
       "      <td>0.000353</td>\n",
       "      <td>24.0</td>\n",
       "      <td>Up</td>\n",
       "      <td>0.000475</td>\n",
       "      <td>0.034688</td>\n",
       "    </tr>\n",
       "    <tr>\n",
       "      <th>Apoptosis</th>\n",
       "      <td>42.0</td>\n",
       "      <td>Up</td>\n",
       "      <td>1.069480e-02</td>\n",
       "      <td>0.067258</td>\n",
       "      <td>54.0</td>\n",
       "      <td>Up</td>\n",
       "      <td>0.001569</td>\n",
       "      <td>0.053811</td>\n",
       "    </tr>\n",
       "    <tr>\n",
       "      <th>Post NMDA receptor activation events</th>\n",
       "      <td>7.0</td>\n",
       "      <td>Up</td>\n",
       "      <td>2.952276e-03</td>\n",
       "      <td>0.035006</td>\n",
       "      <td>22.0</td>\n",
       "      <td>Up</td>\n",
       "      <td>0.001914</td>\n",
       "      <td>0.053811</td>\n",
       "    </tr>\n",
       "    <tr>\n",
       "      <th>PIP3 activates AKT signaling</th>\n",
       "      <td>9.0</td>\n",
       "      <td>Up</td>\n",
       "      <td>6.014611e-03</td>\n",
       "      <td>0.051408</td>\n",
       "      <td>81.0</td>\n",
       "      <td>Up</td>\n",
       "      <td>0.003127</td>\n",
       "      <td>0.061788</td>\n",
       "    </tr>\n",
       "    <tr>\n",
       "      <th>TRAF6 mediated induction of NFkB and MAP kinases upon TLR7/8 or 9 activation</th>\n",
       "      <td>26.0</td>\n",
       "      <td>Up</td>\n",
       "      <td>3.064509e-03</td>\n",
       "      <td>0.035006</td>\n",
       "      <td>29.0</td>\n",
       "      <td>Up</td>\n",
       "      <td>0.004831</td>\n",
       "      <td>0.064468</td>\n",
       "    </tr>\n",
       "    <tr>\n",
       "      <th>Metabolism of RNA</th>\n",
       "      <td>23.0</td>\n",
       "      <td>Up</td>\n",
       "      <td>8.020807e-03</td>\n",
       "      <td>0.056719</td>\n",
       "      <td>34.0</td>\n",
       "      <td>Up</td>\n",
       "      <td>0.003603</td>\n",
       "      <td>0.064468</td>\n",
       "    </tr>\n",
       "    <tr>\n",
       "      <th>AKT phosphorylates targets in the cytosol</th>\n",
       "      <td>7.0</td>\n",
       "      <td>Up</td>\n",
       "      <td>7.397800e-03</td>\n",
       "      <td>0.056719</td>\n",
       "      <td>8.0</td>\n",
       "      <td>Up</td>\n",
       "      <td>0.004873</td>\n",
       "      <td>0.064468</td>\n",
       "    </tr>\n",
       "    <tr>\n",
       "      <th>GPVI-mediated activation cascade</th>\n",
       "      <td>13.0</td>\n",
       "      <td>Up</td>\n",
       "      <td>1.970616e-03</td>\n",
       "      <td>0.033179</td>\n",
       "      <td>14.0</td>\n",
       "      <td>Up</td>\n",
       "      <td>0.005941</td>\n",
       "      <td>0.067572</td>\n",
       "    </tr>\n",
       "    <tr>\n",
       "      <th>MHC class II antigen presentation</th>\n",
       "      <td>12.0</td>\n",
       "      <td>Down</td>\n",
       "      <td>2.283974e-03</td>\n",
       "      <td>0.033179</td>\n",
       "      <td>14.0</td>\n",
       "      <td>Down</td>\n",
       "      <td>0.006386</td>\n",
       "      <td>0.067811</td>\n",
       "    </tr>\n",
       "    <tr>\n",
       "      <th>Antigen processing: Ubiquitination &amp; Proteasome degradation</th>\n",
       "      <td>12.0</td>\n",
       "      <td>Up</td>\n",
       "      <td>8.760945e-03</td>\n",
       "      <td>0.059091</td>\n",
       "      <td>15.0</td>\n",
       "      <td>Up</td>\n",
       "      <td>0.008467</td>\n",
       "      <td>0.076555</td>\n",
       "    </tr>\n",
       "    <tr>\n",
       "      <th>Meiosis</th>\n",
       "      <td>16.0</td>\n",
       "      <td>Up</td>\n",
       "      <td>9.417996e-07</td>\n",
       "      <td>0.000063</td>\n",
       "      <td>7.0</td>\n",
       "      <td>Up</td>\n",
       "      <td>0.008366</td>\n",
       "      <td>0.076555</td>\n",
       "    </tr>\n",
       "    <tr>\n",
       "      <th>Signalling to ERKs</th>\n",
       "      <td>20.0</td>\n",
       "      <td>Up</td>\n",
       "      <td>3.975503e-03</td>\n",
       "      <td>0.039357</td>\n",
       "      <td>16.0</td>\n",
       "      <td>Up</td>\n",
       "      <td>0.010886</td>\n",
       "      <td>0.080468</td>\n",
       "    </tr>\n",
       "    <tr>\n",
       "      <th>Regulation of mRNA stability by proteins that bind AU-rich elements</th>\n",
       "      <td>17.0</td>\n",
       "      <td>Up</td>\n",
       "      <td>1.562517e-02</td>\n",
       "      <td>0.087560</td>\n",
       "      <td>21.0</td>\n",
       "      <td>Up</td>\n",
       "      <td>0.010926</td>\n",
       "      <td>0.080468</td>\n",
       "    </tr>\n",
       "    <tr>\n",
       "      <th>Regulation of KIT signaling</th>\n",
       "      <td>9.0</td>\n",
       "      <td>Up</td>\n",
       "      <td>1.025747e-02</td>\n",
       "      <td>0.066228</td>\n",
       "      <td>9.0</td>\n",
       "      <td>Up</td>\n",
       "      <td>0.010226</td>\n",
       "      <td>0.080468</td>\n",
       "    </tr>\n",
       "    <tr>\n",
       "      <th>Apoptotic execution phase</th>\n",
       "      <td>15.0</td>\n",
       "      <td>Up</td>\n",
       "      <td>1.229984e-02</td>\n",
       "      <td>0.072421</td>\n",
       "      <td>15.0</td>\n",
       "      <td>Up</td>\n",
       "      <td>0.012240</td>\n",
       "      <td>0.084762</td>\n",
       "    </tr>\n",
       "    <tr>\n",
       "      <th>Costimulation by the CD28 family</th>\n",
       "      <td>26.0</td>\n",
       "      <td>Up</td>\n",
       "      <td>1.678561e-02</td>\n",
       "      <td>0.092321</td>\n",
       "      <td>28.0</td>\n",
       "      <td>Up</td>\n",
       "      <td>0.013506</td>\n",
       "      <td>0.088154</td>\n",
       "    </tr>\n",
       "    <tr>\n",
       "      <th>Signaling by Insulin receptor</th>\n",
       "      <td>39.0</td>\n",
       "      <td>Up</td>\n",
       "      <td>7.850865e-03</td>\n",
       "      <td>0.056719</td>\n",
       "      <td>33.0</td>\n",
       "      <td>Up</td>\n",
       "      <td>0.015987</td>\n",
       "      <td>0.098207</td>\n",
       "    </tr>\n",
       "    <tr>\n",
       "      <th>Insulin receptor signalling cascade</th>\n",
       "      <td>39.0</td>\n",
       "      <td>Up</td>\n",
       "      <td>7.850865e-03</td>\n",
       "      <td>0.056719</td>\n",
       "      <td>33.0</td>\n",
       "      <td>Up</td>\n",
       "      <td>0.015987</td>\n",
       "      <td>0.098207</td>\n",
       "    </tr>\n",
       "    <tr>\n",
       "      <th>CD28 co-stimulation</th>\n",
       "      <td>17.0</td>\n",
       "      <td>Up</td>\n",
       "      <td>1.400780e-02</td>\n",
       "      <td>0.080006</td>\n",
       "      <td>18.0</td>\n",
       "      <td>Up</td>\n",
       "      <td>0.015878</td>\n",
       "      <td>0.098207</td>\n",
       "    </tr>\n",
       "  </tbody>\n",
       "</table>\n",
       "</div>"
      ],
      "text/plain": [
       "                                                                              NGenes_x  \\\n",
       "name                                                                                     \n",
       "Cell Cycle                                                                    34.0       \n",
       "Peptide hormone biosynthesis                                                  8.0        \n",
       "Glycoprotein hormones                                                         7.0        \n",
       "Signaling by SCF-KIT                                                          38.0       \n",
       "Apoptosis                                                                     42.0       \n",
       "Post NMDA receptor activation events                                          7.0        \n",
       "PIP3 activates AKT signaling                                                  9.0        \n",
       "TRAF6 mediated induction of NFkB and MAP kinases upon TLR7/8 or 9 activation  26.0       \n",
       "Metabolism of RNA                                                             23.0       \n",
       "AKT phosphorylates targets in the cytosol                                     7.0        \n",
       "GPVI-mediated activation cascade                                              13.0       \n",
       "MHC class II antigen presentation                                             12.0       \n",
       "Antigen processing: Ubiquitination & Proteasome degradation                   12.0       \n",
       "Meiosis                                                                       16.0       \n",
       "Signalling to ERKs                                                            20.0       \n",
       "Regulation of mRNA stability by proteins that bind AU-rich elements           17.0       \n",
       "Regulation of KIT signaling                                                   9.0        \n",
       "Apoptotic execution phase                                                     15.0       \n",
       "Costimulation by the CD28 family                                              26.0       \n",
       "Signaling by Insulin receptor                                                 39.0       \n",
       "Insulin receptor signalling cascade                                           39.0       \n",
       "CD28 co-stimulation                                                           17.0       \n",
       "\n",
       "                                                                             Direction_x  \\\n",
       "name                                                                                       \n",
       "Cell Cycle                                                                    Up           \n",
       "Peptide hormone biosynthesis                                                  Down         \n",
       "Glycoprotein hormones                                                         Down         \n",
       "Signaling by SCF-KIT                                                          Up           \n",
       "Apoptosis                                                                     Up           \n",
       "Post NMDA receptor activation events                                          Up           \n",
       "PIP3 activates AKT signaling                                                  Up           \n",
       "TRAF6 mediated induction of NFkB and MAP kinases upon TLR7/8 or 9 activation  Up           \n",
       "Metabolism of RNA                                                             Up           \n",
       "AKT phosphorylates targets in the cytosol                                     Up           \n",
       "GPVI-mediated activation cascade                                              Up           \n",
       "MHC class II antigen presentation                                             Down         \n",
       "Antigen processing: Ubiquitination & Proteasome degradation                   Up           \n",
       "Meiosis                                                                       Up           \n",
       "Signalling to ERKs                                                            Up           \n",
       "Regulation of mRNA stability by proteins that bind AU-rich elements           Up           \n",
       "Regulation of KIT signaling                                                   Up           \n",
       "Apoptotic execution phase                                                     Up           \n",
       "Costimulation by the CD28 family                                              Up           \n",
       "Signaling by Insulin receptor                                                 Up           \n",
       "Insulin receptor signalling cascade                                           Up           \n",
       "CD28 co-stimulation                                                           Up           \n",
       "\n",
       "                                                                                  PValue_x  \\\n",
       "name                                                                                         \n",
       "Cell Cycle                                                                    7.420455e-03   \n",
       "Peptide hormone biosynthesis                                                  5.161046e-05   \n",
       "Glycoprotein hormones                                                         1.151620e-04   \n",
       "Signaling by SCF-KIT                                                          8.320456e-06   \n",
       "Apoptosis                                                                     1.069480e-02   \n",
       "Post NMDA receptor activation events                                          2.952276e-03   \n",
       "PIP3 activates AKT signaling                                                  6.014611e-03   \n",
       "TRAF6 mediated induction of NFkB and MAP kinases upon TLR7/8 or 9 activation  3.064509e-03   \n",
       "Metabolism of RNA                                                             8.020807e-03   \n",
       "AKT phosphorylates targets in the cytosol                                     7.397800e-03   \n",
       "GPVI-mediated activation cascade                                              1.970616e-03   \n",
       "MHC class II antigen presentation                                             2.283974e-03   \n",
       "Antigen processing: Ubiquitination & Proteasome degradation                   8.760945e-03   \n",
       "Meiosis                                                                       9.417996e-07   \n",
       "Signalling to ERKs                                                            3.975503e-03   \n",
       "Regulation of mRNA stability by proteins that bind AU-rich elements           1.562517e-02   \n",
       "Regulation of KIT signaling                                                   1.025747e-02   \n",
       "Apoptotic execution phase                                                     1.229984e-02   \n",
       "Costimulation by the CD28 family                                              1.678561e-02   \n",
       "Signaling by Insulin receptor                                                 7.850865e-03   \n",
       "Insulin receptor signalling cascade                                           7.850865e-03   \n",
       "CD28 co-stimulation                                                           1.400780e-02   \n",
       "\n",
       "                                                                                 FDR_x  \\\n",
       "name                                                                                     \n",
       "Cell Cycle                                                                    0.056719   \n",
       "Peptide hormone biosynthesis                                                  0.001916   \n",
       "Glycoprotein hormones                                                         0.003420   \n",
       "Signaling by SCF-KIT                                                          0.000353   \n",
       "Apoptosis                                                                     0.067258   \n",
       "Post NMDA receptor activation events                                          0.035006   \n",
       "PIP3 activates AKT signaling                                                  0.051408   \n",
       "TRAF6 mediated induction of NFkB and MAP kinases upon TLR7/8 or 9 activation  0.035006   \n",
       "Metabolism of RNA                                                             0.056719   \n",
       "AKT phosphorylates targets in the cytosol                                     0.056719   \n",
       "GPVI-mediated activation cascade                                              0.033179   \n",
       "MHC class II antigen presentation                                             0.033179   \n",
       "Antigen processing: Ubiquitination & Proteasome degradation                   0.059091   \n",
       "Meiosis                                                                       0.000063   \n",
       "Signalling to ERKs                                                            0.039357   \n",
       "Regulation of mRNA stability by proteins that bind AU-rich elements           0.087560   \n",
       "Regulation of KIT signaling                                                   0.066228   \n",
       "Apoptotic execution phase                                                     0.072421   \n",
       "Costimulation by the CD28 family                                              0.092321   \n",
       "Signaling by Insulin receptor                                                 0.056719   \n",
       "Insulin receptor signalling cascade                                           0.056719   \n",
       "CD28 co-stimulation                                                           0.080006   \n",
       "\n",
       "                                                                              NGenes_y  \\\n",
       "name                                                                                     \n",
       "Cell Cycle                                                                    67.0       \n",
       "Peptide hormone biosynthesis                                                  8.0        \n",
       "Glycoprotein hormones                                                         7.0        \n",
       "Signaling by SCF-KIT                                                          24.0       \n",
       "Apoptosis                                                                     54.0       \n",
       "Post NMDA receptor activation events                                          22.0       \n",
       "PIP3 activates AKT signaling                                                  81.0       \n",
       "TRAF6 mediated induction of NFkB and MAP kinases upon TLR7/8 or 9 activation  29.0       \n",
       "Metabolism of RNA                                                             34.0       \n",
       "AKT phosphorylates targets in the cytosol                                     8.0        \n",
       "GPVI-mediated activation cascade                                              14.0       \n",
       "MHC class II antigen presentation                                             14.0       \n",
       "Antigen processing: Ubiquitination & Proteasome degradation                   15.0       \n",
       "Meiosis                                                                       7.0        \n",
       "Signalling to ERKs                                                            16.0       \n",
       "Regulation of mRNA stability by proteins that bind AU-rich elements           21.0       \n",
       "Regulation of KIT signaling                                                   9.0        \n",
       "Apoptotic execution phase                                                     15.0       \n",
       "Costimulation by the CD28 family                                              28.0       \n",
       "Signaling by Insulin receptor                                                 33.0       \n",
       "Insulin receptor signalling cascade                                           33.0       \n",
       "CD28 co-stimulation                                                           18.0       \n",
       "\n",
       "                                                                             Direction_y  \\\n",
       "name                                                                                       \n",
       "Cell Cycle                                                                    Up           \n",
       "Peptide hormone biosynthesis                                                  Down         \n",
       "Glycoprotein hormones                                                         Down         \n",
       "Signaling by SCF-KIT                                                          Up           \n",
       "Apoptosis                                                                     Up           \n",
       "Post NMDA receptor activation events                                          Up           \n",
       "PIP3 activates AKT signaling                                                  Up           \n",
       "TRAF6 mediated induction of NFkB and MAP kinases upon TLR7/8 or 9 activation  Up           \n",
       "Metabolism of RNA                                                             Up           \n",
       "AKT phosphorylates targets in the cytosol                                     Up           \n",
       "GPVI-mediated activation cascade                                              Up           \n",
       "MHC class II antigen presentation                                             Down         \n",
       "Antigen processing: Ubiquitination & Proteasome degradation                   Up           \n",
       "Meiosis                                                                       Up           \n",
       "Signalling to ERKs                                                            Up           \n",
       "Regulation of mRNA stability by proteins that bind AU-rich elements           Up           \n",
       "Regulation of KIT signaling                                                   Up           \n",
       "Apoptotic execution phase                                                     Up           \n",
       "Costimulation by the CD28 family                                              Up           \n",
       "Signaling by Insulin receptor                                                 Up           \n",
       "Insulin receptor signalling cascade                                           Up           \n",
       "CD28 co-stimulation                                                           Up           \n",
       "\n",
       "                                                                              PValue_y  \\\n",
       "name                                                                                     \n",
       "Cell Cycle                                                                    0.000020   \n",
       "Peptide hormone biosynthesis                                                  0.000053   \n",
       "Glycoprotein hormones                                                         0.000117   \n",
       "Signaling by SCF-KIT                                                          0.000475   \n",
       "Apoptosis                                                                     0.001569   \n",
       "Post NMDA receptor activation events                                          0.001914   \n",
       "PIP3 activates AKT signaling                                                  0.003127   \n",
       "TRAF6 mediated induction of NFkB and MAP kinases upon TLR7/8 or 9 activation  0.004831   \n",
       "Metabolism of RNA                                                             0.003603   \n",
       "AKT phosphorylates targets in the cytosol                                     0.004873   \n",
       "GPVI-mediated activation cascade                                              0.005941   \n",
       "MHC class II antigen presentation                                             0.006386   \n",
       "Antigen processing: Ubiquitination & Proteasome degradation                   0.008467   \n",
       "Meiosis                                                                       0.008366   \n",
       "Signalling to ERKs                                                            0.010886   \n",
       "Regulation of mRNA stability by proteins that bind AU-rich elements           0.010926   \n",
       "Regulation of KIT signaling                                                   0.010226   \n",
       "Apoptotic execution phase                                                     0.012240   \n",
       "Costimulation by the CD28 family                                              0.013506   \n",
       "Signaling by Insulin receptor                                                 0.015987   \n",
       "Insulin receptor signalling cascade                                           0.015987   \n",
       "CD28 co-stimulation                                                           0.015878   \n",
       "\n",
       "                                                                                 FDR_y  \n",
       "name                                                                                    \n",
       "Cell Cycle                                                                    0.012829  \n",
       "Peptide hormone biosynthesis                                                  0.012829  \n",
       "Glycoprotein hormones                                                         0.021431  \n",
       "Signaling by SCF-KIT                                                          0.034688  \n",
       "Apoptosis                                                                     0.053811  \n",
       "Post NMDA receptor activation events                                          0.053811  \n",
       "PIP3 activates AKT signaling                                                  0.061788  \n",
       "TRAF6 mediated induction of NFkB and MAP kinases upon TLR7/8 or 9 activation  0.064468  \n",
       "Metabolism of RNA                                                             0.064468  \n",
       "AKT phosphorylates targets in the cytosol                                     0.064468  \n",
       "GPVI-mediated activation cascade                                              0.067572  \n",
       "MHC class II antigen presentation                                             0.067811  \n",
       "Antigen processing: Ubiquitination & Proteasome degradation                   0.076555  \n",
       "Meiosis                                                                       0.076555  \n",
       "Signalling to ERKs                                                            0.080468  \n",
       "Regulation of mRNA stability by proteins that bind AU-rich elements           0.080468  \n",
       "Regulation of KIT signaling                                                   0.080468  \n",
       "Apoptotic execution phase                                                     0.084762  \n",
       "Costimulation by the CD28 family                                              0.088154  \n",
       "Signaling by Insulin receptor                                                 0.098207  \n",
       "Insulin receptor signalling cascade                                           0.098207  \n",
       "CD28 co-stimulation                                                           0.098207  "
      ]
     },
     "metadata": {},
     "output_type": "display_data"
    }
   ],
   "source": [
    "show_table(agreement(tb_cc_log_msig, tb_cc_log_new, cutoff=0.1))"
   ]
  },
  {
   "cell_type": "markdown",
   "metadata": {},
   "source": [
    "TODO: Cell cycle - what makes it come"
   ]
  },
  {
   "cell_type": "markdown",
   "metadata": {},
   "source": [
    "## HIV?"
   ]
  },
  {
   "cell_type": "code",
   "execution_count": 63,
   "metadata": {},
   "outputs": [],
   "source": [
    "hiv_status = clinical.HIVResult"
   ]
  },
  {
   "cell_type": "code",
   "execution_count": 64,
   "metadata": {},
   "outputs": [],
   "source": [
    "%%R -i hiv_status -o hiv_pos_vs_neg\n",
    "hiv_pos_vs_neg = camera('Positive', 'Negative', log10_gene_matrix, c2.cp.reactome, design=hiv_status)"
   ]
  },
  {
   "cell_type": "code",
   "execution_count": 65,
   "metadata": {},
   "outputs": [
    {
     "data": {
      "text/html": [
       "<div>\n",
       "<style scoped>\n",
       "    .dataframe tbody tr th:only-of-type {\n",
       "        vertical-align: middle;\n",
       "    }\n",
       "\n",
       "    .dataframe tbody tr th {\n",
       "        vertical-align: top;\n",
       "    }\n",
       "\n",
       "    .dataframe thead th {\n",
       "        text-align: right;\n",
       "    }\n",
       "</style>\n",
       "<table border=\"1\" class=\"dataframe\">\n",
       "  <thead>\n",
       "    <tr style=\"text-align: right;\">\n",
       "      <th></th>\n",
       "      <th>NGenes</th>\n",
       "      <th>Direction</th>\n",
       "      <th>PValue</th>\n",
       "      <th>FDR</th>\n",
       "    </tr>\n",
       "  </thead>\n",
       "  <tbody>\n",
       "    <tr>\n",
       "      <th>Hs Gag Degradation</th>\n",
       "      <td>6.0</td>\n",
       "      <td>Down</td>\n",
       "      <td>0.008375</td>\n",
       "      <td>0.823244</td>\n",
       "    </tr>\n",
       "    <tr>\n",
       "      <th>Extrinsic Pathway For Apoptosis</th>\n",
       "      <td>6.0</td>\n",
       "      <td>Up</td>\n",
       "      <td>0.017753</td>\n",
       "      <td>0.823244</td>\n",
       "    </tr>\n",
       "    <tr>\n",
       "      <th>G Alpha Q Signalling Events</th>\n",
       "      <td>16.0</td>\n",
       "      <td>Down</td>\n",
       "      <td>0.022348</td>\n",
       "      <td>0.823244</td>\n",
       "    </tr>\n",
       "    <tr>\n",
       "      <th>Gastrin Creb Signalling Pathway Via Pkc And Mapk</th>\n",
       "      <td>29.0</td>\n",
       "      <td>Down</td>\n",
       "      <td>0.023289</td>\n",
       "      <td>0.823244</td>\n",
       "    </tr>\n",
       "    <tr>\n",
       "      <th>Regulation Of Insulin Like Growth Factor Igf Activity By Insulin Like Growth Factor Binding Proteins Igfbps</th>\n",
       "      <td>13.0</td>\n",
       "      <td>Down</td>\n",
       "      <td>0.023643</td>\n",
       "      <td>0.823244</td>\n",
       "    </tr>\n",
       "    <tr>\n",
       "      <th>Glycosaminoglycan Metabolism</th>\n",
       "      <td>20.0</td>\n",
       "      <td>Down</td>\n",
       "      <td>0.029601</td>\n",
       "      <td>0.823244</td>\n",
       "    </tr>\n",
       "    <tr>\n",
       "      <th>Other Semaphorin Interactions</th>\n",
       "      <td>6.0</td>\n",
       "      <td>Down</td>\n",
       "      <td>0.029786</td>\n",
       "      <td>0.823244</td>\n",
       "    </tr>\n",
       "    <tr>\n",
       "      <th>Keratan Sulfate Keratin Metabolism</th>\n",
       "      <td>6.0</td>\n",
       "      <td>Down</td>\n",
       "      <td>0.029864</td>\n",
       "      <td>0.823244</td>\n",
       "    </tr>\n",
       "    <tr>\n",
       "      <th>Gamma Carboxylation Transport And Amino Terminal Cleavage Of Proteins</th>\n",
       "      <td>6.0</td>\n",
       "      <td>Down</td>\n",
       "      <td>0.031089</td>\n",
       "      <td>0.823244</td>\n",
       "    </tr>\n",
       "    <tr>\n",
       "      <th>Class A1 Rhodopsin Like Receptors</th>\n",
       "      <td>52.0</td>\n",
       "      <td>Down</td>\n",
       "      <td>0.032779</td>\n",
       "      <td>0.823244</td>\n",
       "    </tr>\n",
       "  </tbody>\n",
       "</table>\n",
       "</div>"
      ],
      "text/plain": [
       "                                                    NGenes Direction  \\\n",
       "Hs Gag Degradation                                     6.0      Down   \n",
       "Extrinsic Pathway For Apoptosis                        6.0        Up   \n",
       "G Alpha Q Signalling Events                           16.0      Down   \n",
       "Gastrin Creb Signalling Pathway Via Pkc And Mapk      29.0      Down   \n",
       "Regulation Of Insulin Like Growth Factor Igf Ac...    13.0      Down   \n",
       "Glycosaminoglycan Metabolism                          20.0      Down   \n",
       "Other Semaphorin Interactions                          6.0      Down   \n",
       "Keratan Sulfate Keratin Metabolism                     6.0      Down   \n",
       "Gamma Carboxylation Transport And Amino Termina...     6.0      Down   \n",
       "Class A1 Rhodopsin Like Receptors                     52.0      Down   \n",
       "\n",
       "                                                      PValue       FDR  \n",
       "Hs Gag Degradation                                  0.008375  0.823244  \n",
       "Extrinsic Pathway For Apoptosis                     0.017753  0.823244  \n",
       "G Alpha Q Signalling Events                         0.022348  0.823244  \n",
       "Gastrin Creb Signalling Pathway Via Pkc And Mapk    0.023289  0.823244  \n",
       "Regulation Of Insulin Like Growth Factor Igf Ac...  0.023643  0.823244  \n",
       "Glycosaminoglycan Metabolism                        0.029601  0.823244  \n",
       "Other Semaphorin Interactions                       0.029786  0.823244  \n",
       "Keratan Sulfate Keratin Metabolism                  0.029864  0.823244  \n",
       "Gamma Carboxylation Transport And Amino Termina...  0.031089  0.823244  \n",
       "Class A1 Rhodopsin Like Receptors                   0.032779  0.823244  "
      ]
     },
     "execution_count": 65,
     "metadata": {},
     "output_type": "execute_result"
    }
   ],
   "source": [
    "hiv_pos_vs_neg.head(10)"
   ]
  },
  {
   "cell_type": "code",
   "execution_count": 66,
   "metadata": {},
   "outputs": [],
   "source": [
    "%%R -i hiv_status -o hiv_pos_vs_neg_new\n",
    "hiv_pos_vs_neg_new = camera('Positive', 'Negative', log10_gene_matrix_symbols, reactome_new_symbol, design=hiv_status)"
   ]
  },
  {
   "cell_type": "code",
   "execution_count": 67,
   "metadata": {},
   "outputs": [
    {
     "data": {
      "text/html": [
       "<div>\n",
       "<style scoped>\n",
       "    .dataframe tbody tr th:only-of-type {\n",
       "        vertical-align: middle;\n",
       "    }\n",
       "\n",
       "    .dataframe tbody tr th {\n",
       "        vertical-align: top;\n",
       "    }\n",
       "\n",
       "    .dataframe thead th {\n",
       "        text-align: right;\n",
       "    }\n",
       "</style>\n",
       "<table border=\"1\" class=\"dataframe\">\n",
       "  <thead>\n",
       "    <tr style=\"text-align: right;\">\n",
       "      <th></th>\n",
       "      <th>NGenes</th>\n",
       "      <th>Direction</th>\n",
       "      <th>PValue</th>\n",
       "      <th>FDR</th>\n",
       "    </tr>\n",
       "  </thead>\n",
       "  <tbody>\n",
       "    <tr>\n",
       "      <th>Regulation of Insulin-like Growth Factor (IGF) transport and uptake by Insulin-like Growth Factor Binding Proteins (IGFBPs)</th>\n",
       "      <td>59.0</td>\n",
       "      <td>Down</td>\n",
       "      <td>0.000047</td>\n",
       "      <td>0.034399</td>\n",
       "    </tr>\n",
       "    <tr>\n",
       "      <th>TNFs bind their physiological receptors</th>\n",
       "      <td>25.0</td>\n",
       "      <td>Up</td>\n",
       "      <td>0.000239</td>\n",
       "      <td>0.087408</td>\n",
       "    </tr>\n",
       "    <tr>\n",
       "      <th>Classical antibody-mediated complement activation</th>\n",
       "      <td>9.0</td>\n",
       "      <td>Down</td>\n",
       "      <td>0.000499</td>\n",
       "      <td>0.090544</td>\n",
       "    </tr>\n",
       "    <tr>\n",
       "      <th>TNFR2 non-canonical NF-kB pathway</th>\n",
       "      <td>44.0</td>\n",
       "      <td>Up</td>\n",
       "      <td>0.000536</td>\n",
       "      <td>0.090544</td>\n",
       "    </tr>\n",
       "    <tr>\n",
       "      <th>Post-translational protein phosphorylation</th>\n",
       "      <td>47.0</td>\n",
       "      <td>Down</td>\n",
       "      <td>0.000619</td>\n",
       "      <td>0.090544</td>\n",
       "    </tr>\n",
       "    <tr>\n",
       "      <th>Regulation of Complement cascade</th>\n",
       "      <td>32.0</td>\n",
       "      <td>Down</td>\n",
       "      <td>0.001686</td>\n",
       "      <td>0.205388</td>\n",
       "    </tr>\n",
       "    <tr>\n",
       "      <th>Immunoregulatory interactions between a Lymphoid and a non-Lymphoid cell</th>\n",
       "      <td>43.0</td>\n",
       "      <td>Up</td>\n",
       "      <td>0.002665</td>\n",
       "      <td>0.263723</td>\n",
       "    </tr>\n",
       "    <tr>\n",
       "      <th>Creation of C4 and C2 activators</th>\n",
       "      <td>15.0</td>\n",
       "      <td>Down</td>\n",
       "      <td>0.002886</td>\n",
       "      <td>0.263723</td>\n",
       "    </tr>\n",
       "    <tr>\n",
       "      <th>FCGR activation</th>\n",
       "      <td>12.0</td>\n",
       "      <td>Down</td>\n",
       "      <td>0.003537</td>\n",
       "      <td>0.287314</td>\n",
       "    </tr>\n",
       "    <tr>\n",
       "      <th>Metabolism of Angiotensinogen to Angiotensins</th>\n",
       "      <td>9.0</td>\n",
       "      <td>Down</td>\n",
       "      <td>0.004664</td>\n",
       "      <td>0.340932</td>\n",
       "    </tr>\n",
       "  </tbody>\n",
       "</table>\n",
       "</div>"
      ],
      "text/plain": [
       "                                                    NGenes Direction  \\\n",
       "Regulation of Insulin-like Growth Factor (IGF) ...    59.0      Down   \n",
       "TNFs bind their physiological receptors               25.0        Up   \n",
       "Classical antibody-mediated complement activation      9.0      Down   \n",
       "TNFR2 non-canonical NF-kB pathway                     44.0        Up   \n",
       "Post-translational protein phosphorylation            47.0      Down   \n",
       "Regulation of Complement cascade                      32.0      Down   \n",
       "Immunoregulatory interactions between a Lymphoi...    43.0        Up   \n",
       "Creation of C4 and C2 activators                      15.0      Down   \n",
       "FCGR activation                                       12.0      Down   \n",
       "Metabolism of Angiotensinogen to Angiotensins          9.0      Down   \n",
       "\n",
       "                                                      PValue       FDR  \n",
       "Regulation of Insulin-like Growth Factor (IGF) ...  0.000047  0.034399  \n",
       "TNFs bind their physiological receptors             0.000239  0.087408  \n",
       "Classical antibody-mediated complement activation   0.000499  0.090544  \n",
       "TNFR2 non-canonical NF-kB pathway                   0.000536  0.090544  \n",
       "Post-translational protein phosphorylation          0.000619  0.090544  \n",
       "Regulation of Complement cascade                    0.001686  0.205388  \n",
       "Immunoregulatory interactions between a Lymphoi...  0.002665  0.263723  \n",
       "Creation of C4 and C2 activators                    0.002886  0.263723  \n",
       "FCGR activation                                     0.003537  0.287314  \n",
       "Metabolism of Angiotensinogen to Angiotensins       0.004664  0.340932  "
      ]
     },
     "execution_count": 67,
     "metadata": {},
     "output_type": "execute_result"
    }
   ],
   "source": [
    "hiv_pos_vs_neg_new.head(10)"
   ]
  },
  {
   "cell_type": "markdown",
   "metadata": {},
   "source": [
    "TODO: compare different pathways between groups"
   ]
  },
  {
   "cell_type": "markdown",
   "metadata": {},
   "source": [
    "## Traditional GSEA"
   ]
  },
  {
   "cell_type": "markdown",
   "metadata": {},
   "source": [
    "Is kind of both competitive and self-contained "
   ]
  },
  {
   "cell_type": "code",
   "execution_count": 68,
   "metadata": {},
   "outputs": [],
   "source": [
    "from gsea_api.gsea import GSEADesktop"
   ]
  },
  {
   "cell_type": "code",
   "execution_count": 69,
   "metadata": {},
   "outputs": [],
   "source": [
    "from gsea_api.expression_set import ExpressionSet"
   ]
  },
  {
   "cell_type": "code",
   "execution_count": 70,
   "metadata": {},
   "outputs": [],
   "source": [
    "gsea = GSEADesktop()"
   ]
  },
  {
   "cell_type": "markdown",
   "metadata": {},
   "source": [
    "Notes on the FDR:\n",
    " - the cutoff of .25 was recommended for GSEA in the User Guide for exploratory anaylsis when using phenotype permutations:\n",
    "    > The GSEA analysis report highlights enrichment gene sets with an FDR of less than 25% as those most likely to generate interesting hypotheses and drive further research, but provides analysis results for all analyzed gene sets. In general, given the lack of coherence in most expression datasets and the relatively small number of gene sets being analyzed, an FDR cutoff of 25% is appropriate.\n",
    " - however for viral class, we should set it to a lower value as this has fewer samples (also encouraged in the User Guide)"
   ]
  },
  {
   "cell_type": "code",
   "execution_count": 71,
   "metadata": {},
   "outputs": [],
   "source": [
    "def run_gsea(a, b, matrix, curated=False, design=by_condition):\n",
    "    result = gsea.run(\n",
    "        ExpressionSet(matrix, design).contrast(a, b),\n",
    "        reactome_pathways_entrez if curated else reactome_new_symbol,\n",
    "        metric='Signal2Noise',\n",
    "        permutations=1000\n",
    "    )\n",
    "    return concat([\n",
    "        result[a.replace(' ', '_')].assign(direction='up'),\n",
    "        result[b.replace(' ', '_')].assign(direction='down')\n",
    "    ])[['nes', 'fdr_q-val', 'fwer_p-val', 'direction']].sort_values('fdr_q-val')"
   ]
  },
  {
   "cell_type": "markdown",
   "metadata": {},
   "source": [
    "Whether to use the log transformed data is not obvious in this case. However, usually the log transform is embedded in the metric and the method was originally designed to handle natural data. Also:\n",
    "\n",
    "> **Should I use natural or log scale data for GSEA?**\n",
    ">\n",
    "> We recommend using natural scale data. We used it when we calibrated the GSEA method and it seems to work well in general cases.\n",
    ">\n",
    "> Traditional modeling techniques, such as clustering, often benefit from data preprocessing. For example, one might filter expression data to remove genes that have low variance across the dataset and/or log transform the data to make the distribution more symmetric. The GSEA algorithm does not benefit from such preprocessing of the data.\n",
    "https://software.broadinstitute.org/cancer/software/gsea/wiki/index.php/FAQ#Should_I_use_natural_or_log_scale_data_for_GSEA.3F"
   ]
  },
  {
   "cell_type": "code",
   "execution_count": 72,
   "metadata": {},
   "outputs": [
    {
     "data": {
      "text/html": [
       "<div>\n",
       "<style scoped>\n",
       "    .dataframe tbody tr th:only-of-type {\n",
       "        vertical-align: middle;\n",
       "    }\n",
       "\n",
       "    .dataframe tbody tr th {\n",
       "        vertical-align: top;\n",
       "    }\n",
       "\n",
       "    .dataframe thead th {\n",
       "        text-align: right;\n",
       "    }\n",
       "</style>\n",
       "<table border=\"1\" class=\"dataframe\">\n",
       "  <thead>\n",
       "    <tr style=\"text-align: right;\">\n",
       "      <th></th>\n",
       "      <th>nes</th>\n",
       "      <th>fdr_q-val</th>\n",
       "      <th>fwer_p-val</th>\n",
       "      <th>direction</th>\n",
       "    </tr>\n",
       "    <tr>\n",
       "      <th>name</th>\n",
       "      <th></th>\n",
       "      <th></th>\n",
       "      <th></th>\n",
       "      <th></th>\n",
       "    </tr>\n",
       "  </thead>\n",
       "  <tbody>\n",
       "    <tr>\n",
       "      <th>INNATE IMMUNE SYSTEM</th>\n",
       "      <td>2.117977</td>\n",
       "      <td>0.148085</td>\n",
       "      <td>0.080</td>\n",
       "      <td>up</td>\n",
       "    </tr>\n",
       "    <tr>\n",
       "      <th>NEUTROPHIL DEGRANULATION</th>\n",
       "      <td>2.136583</td>\n",
       "      <td>0.258096</td>\n",
       "      <td>0.077</td>\n",
       "      <td>up</td>\n",
       "    </tr>\n",
       "    <tr>\n",
       "      <th>BINDING AND UPTAKE OF LIGANDS BY SCAVENGER RECEPTORS</th>\n",
       "      <td>1.704598</td>\n",
       "      <td>0.494873</td>\n",
       "      <td>0.381</td>\n",
       "      <td>up</td>\n",
       "    </tr>\n",
       "    <tr>\n",
       "      <th>RESPONSE TO ELEVATED PLATELET CYTOSOLIC CA2+</th>\n",
       "      <td>1.726046</td>\n",
       "      <td>0.503820</td>\n",
       "      <td>0.354</td>\n",
       "      <td>up</td>\n",
       "    </tr>\n",
       "    <tr>\n",
       "      <th>AMYLOID FIBER FORMATION</th>\n",
       "      <td>1.873488</td>\n",
       "      <td>0.510202</td>\n",
       "      <td>0.193</td>\n",
       "      <td>up</td>\n",
       "    </tr>\n",
       "  </tbody>\n",
       "</table>\n",
       "</div>"
      ],
      "text/plain": [
       "                                                         nes  fdr_q-val  \\\n",
       "name                                                                      \n",
       "INNATE IMMUNE SYSTEM                                2.117977   0.148085   \n",
       "NEUTROPHIL DEGRANULATION                            2.136583   0.258096   \n",
       "BINDING AND UPTAKE OF LIGANDS BY SCAVENGER RECE...  1.704598   0.494873   \n",
       "RESPONSE TO ELEVATED PLATELET CYTOSOLIC CA2+        1.726046   0.503820   \n",
       "AMYLOID FIBER FORMATION                             1.873488   0.510202   \n",
       "\n",
       "                                                    fwer_p-val direction  \n",
       "name                                                                      \n",
       "INNATE IMMUNE SYSTEM                                     0.080        up  \n",
       "NEUTROPHIL DEGRANULATION                                 0.077        up  \n",
       "BINDING AND UPTAKE OF LIGANDS BY SCAVENGER RECE...       0.381        up  \n",
       "RESPONSE TO ELEVATED PLATELET CYTOSOLIC CA2+             0.354        up  \n",
       "AMYLOID FIBER FORMATION                                  0.193        up  "
      ]
     },
     "execution_count": 72,
     "metadata": {},
     "output_type": "execute_result"
    }
   ],
   "source": [
    "run_gsea('Tuberculosis', 'Healthy control', raw_gene_matrix_by_symbols).head()"
   ]
  },
  {
   "cell_type": "markdown",
   "metadata": {},
   "source": [
    "Just to have a glimpse on how that would look like for log transformed data (so possibly elucidating less-obvious processes):"
   ]
  },
  {
   "cell_type": "code",
   "execution_count": 73,
   "metadata": {},
   "outputs": [
    {
     "data": {
      "text/html": [
       "<div>\n",
       "<style scoped>\n",
       "    .dataframe tbody tr th:only-of-type {\n",
       "        vertical-align: middle;\n",
       "    }\n",
       "\n",
       "    .dataframe tbody tr th {\n",
       "        vertical-align: top;\n",
       "    }\n",
       "\n",
       "    .dataframe thead th {\n",
       "        text-align: right;\n",
       "    }\n",
       "</style>\n",
       "<table border=\"1\" class=\"dataframe\">\n",
       "  <thead>\n",
       "    <tr style=\"text-align: right;\">\n",
       "      <th></th>\n",
       "      <th>nes</th>\n",
       "      <th>fdr_q-val</th>\n",
       "      <th>fwer_p-val</th>\n",
       "      <th>direction</th>\n",
       "    </tr>\n",
       "    <tr>\n",
       "      <th>name</th>\n",
       "      <th></th>\n",
       "      <th></th>\n",
       "      <th></th>\n",
       "      <th></th>\n",
       "    </tr>\n",
       "  </thead>\n",
       "  <tbody>\n",
       "    <tr>\n",
       "      <th>TOLL LIKE RECEPTOR 3 (TLR3) CASCADE</th>\n",
       "      <td>1.433290</td>\n",
       "      <td>0.297214</td>\n",
       "      <td>0.580</td>\n",
       "      <td>up</td>\n",
       "    </tr>\n",
       "    <tr>\n",
       "      <th>CELLULAR SENESCENCE</th>\n",
       "      <td>1.363102</td>\n",
       "      <td>0.301956</td>\n",
       "      <td>0.637</td>\n",
       "      <td>up</td>\n",
       "    </tr>\n",
       "    <tr>\n",
       "      <th>TOLL LIKE RECEPTOR 10 (TLR10) CASCADE</th>\n",
       "      <td>1.500779</td>\n",
       "      <td>0.302240</td>\n",
       "      <td>0.516</td>\n",
       "      <td>up</td>\n",
       "    </tr>\n",
       "    <tr>\n",
       "      <th>TOLL LIKE RECEPTOR 9 (TLR9) CASCADE</th>\n",
       "      <td>1.433470</td>\n",
       "      <td>0.305272</td>\n",
       "      <td>0.580</td>\n",
       "      <td>up</td>\n",
       "    </tr>\n",
       "    <tr>\n",
       "      <th>SIGNALING BY RAS MUTANTS</th>\n",
       "      <td>1.406721</td>\n",
       "      <td>0.305877</td>\n",
       "      <td>0.608</td>\n",
       "      <td>up</td>\n",
       "    </tr>\n",
       "  </tbody>\n",
       "</table>\n",
       "</div>"
      ],
      "text/plain": [
       "                                            nes  fdr_q-val  fwer_p-val  \\\n",
       "name                                                                     \n",
       "TOLL LIKE RECEPTOR 3 (TLR3) CASCADE    1.433290   0.297214       0.580   \n",
       "CELLULAR SENESCENCE                    1.363102   0.301956       0.637   \n",
       "TOLL LIKE RECEPTOR 10 (TLR10) CASCADE  1.500779   0.302240       0.516   \n",
       "TOLL LIKE RECEPTOR 9 (TLR9) CASCADE    1.433470   0.305272       0.580   \n",
       "SIGNALING BY RAS MUTANTS               1.406721   0.305877       0.608   \n",
       "\n",
       "                                      direction  \n",
       "name                                             \n",
       "TOLL LIKE RECEPTOR 3 (TLR3) CASCADE          up  \n",
       "CELLULAR SENESCENCE                          up  \n",
       "TOLL LIKE RECEPTOR 10 (TLR10) CASCADE        up  \n",
       "TOLL LIKE RECEPTOR 9 (TLR9) CASCADE          up  \n",
       "SIGNALING BY RAS MUTANTS                     up  "
      ]
     },
     "execution_count": 73,
     "metadata": {},
     "output_type": "execute_result"
    }
   ],
   "source": [
    "run_gsea('Tuberculosis', 'Healthy control', log10_gene_matrix_symbols).head()"
   ]
  },
  {
   "cell_type": "markdown",
   "metadata": {},
   "source": [
    "And using the curated dataset (not transformed):"
   ]
  },
  {
   "cell_type": "code",
   "execution_count": 74,
   "metadata": {},
   "outputs": [
    {
     "data": {
      "text/html": [
       "<div>\n",
       "<style scoped>\n",
       "    .dataframe tbody tr th:only-of-type {\n",
       "        vertical-align: middle;\n",
       "    }\n",
       "\n",
       "    .dataframe tbody tr th {\n",
       "        vertical-align: top;\n",
       "    }\n",
       "\n",
       "    .dataframe thead th {\n",
       "        text-align: right;\n",
       "    }\n",
       "</style>\n",
       "<table border=\"1\" class=\"dataframe\">\n",
       "  <thead>\n",
       "    <tr style=\"text-align: right;\">\n",
       "      <th></th>\n",
       "      <th>nes</th>\n",
       "      <th>fdr_q-val</th>\n",
       "      <th>fwer_p-val</th>\n",
       "      <th>direction</th>\n",
       "    </tr>\n",
       "    <tr>\n",
       "      <th>name</th>\n",
       "      <th></th>\n",
       "      <th></th>\n",
       "      <th></th>\n",
       "      <th></th>\n",
       "    </tr>\n",
       "  </thead>\n",
       "  <tbody>\n",
       "    <tr>\n",
       "      <th>AMYLOIDS</th>\n",
       "      <td>2.021037</td>\n",
       "      <td>0.169993</td>\n",
       "      <td>0.060</td>\n",
       "      <td>up</td>\n",
       "    </tr>\n",
       "    <tr>\n",
       "      <th>INNATE IMMUNE SYSTEM</th>\n",
       "      <td>1.578337</td>\n",
       "      <td>0.402706</td>\n",
       "      <td>0.412</td>\n",
       "      <td>up</td>\n",
       "    </tr>\n",
       "    <tr>\n",
       "      <th>HEMOSTASIS</th>\n",
       "      <td>1.605637</td>\n",
       "      <td>0.412667</td>\n",
       "      <td>0.385</td>\n",
       "      <td>up</td>\n",
       "    </tr>\n",
       "    <tr>\n",
       "      <th>COMPLEMENT CASCADE</th>\n",
       "      <td>1.517433</td>\n",
       "      <td>0.429003</td>\n",
       "      <td>0.464</td>\n",
       "      <td>up</td>\n",
       "    </tr>\n",
       "    <tr>\n",
       "      <th>SIGNALLING TO ERKS</th>\n",
       "      <td>1.458186</td>\n",
       "      <td>0.433615</td>\n",
       "      <td>0.538</td>\n",
       "      <td>up</td>\n",
       "    </tr>\n",
       "  </tbody>\n",
       "</table>\n",
       "</div>"
      ],
      "text/plain": [
       "                           nes  fdr_q-val  fwer_p-val direction\n",
       "name                                                           \n",
       "AMYLOIDS              2.021037   0.169993       0.060        up\n",
       "INNATE IMMUNE SYSTEM  1.578337   0.402706       0.412        up\n",
       "HEMOSTASIS            1.605637   0.412667       0.385        up\n",
       "COMPLEMENT CASCADE    1.517433   0.429003       0.464        up\n",
       "SIGNALLING TO ERKS    1.458186   0.433615       0.538        up"
      ]
     },
     "execution_count": 74,
     "metadata": {},
     "output_type": "execute_result"
    }
   ],
   "source": [
    "run_gsea('Tuberculosis', 'Healthy control', raw_gene_matrix, curated=True).head()"
   ]
  },
  {
   "cell_type": "markdown",
   "metadata": {},
   "source": [
    "Again, there is a big difference between the results obtained using the curated and full Reactome collections,"
   ]
  },
  {
   "cell_type": "markdown",
   "metadata": {},
   "source": [
    "### Crypto"
   ]
  },
  {
   "cell_type": "code",
   "execution_count": 75,
   "metadata": {},
   "outputs": [
    {
     "data": {
      "text/html": [
       "<div>\n",
       "<style scoped>\n",
       "    .dataframe tbody tr th:only-of-type {\n",
       "        vertical-align: middle;\n",
       "    }\n",
       "\n",
       "    .dataframe tbody tr th {\n",
       "        vertical-align: top;\n",
       "    }\n",
       "\n",
       "    .dataframe thead th {\n",
       "        text-align: right;\n",
       "    }\n",
       "</style>\n",
       "<table border=\"1\" class=\"dataframe\">\n",
       "  <thead>\n",
       "    <tr style=\"text-align: right;\">\n",
       "      <th></th>\n",
       "      <th>nes</th>\n",
       "      <th>fdr_q-val</th>\n",
       "      <th>fwer_p-val</th>\n",
       "      <th>direction</th>\n",
       "    </tr>\n",
       "    <tr>\n",
       "      <th>name</th>\n",
       "      <th></th>\n",
       "      <th></th>\n",
       "      <th></th>\n",
       "      <th></th>\n",
       "    </tr>\n",
       "  </thead>\n",
       "  <tbody>\n",
       "    <tr>\n",
       "      <th>G2/M TRANSITION</th>\n",
       "      <td>0.936579</td>\n",
       "      <td>0.778576</td>\n",
       "      <td>0.899</td>\n",
       "      <td>up</td>\n",
       "    </tr>\n",
       "    <tr>\n",
       "      <th>TRANSPORT OF SMALL MOLECULES</th>\n",
       "      <td>0.908908</td>\n",
       "      <td>0.784076</td>\n",
       "      <td>0.908</td>\n",
       "      <td>up</td>\n",
       "    </tr>\n",
       "    <tr>\n",
       "      <th>DEVELOPMENTAL BIOLOGY</th>\n",
       "      <td>0.906090</td>\n",
       "      <td>0.784323</td>\n",
       "      <td>0.908</td>\n",
       "      <td>up</td>\n",
       "    </tr>\n",
       "    <tr>\n",
       "      <th>MITOTIC G2-G2/M PHASES</th>\n",
       "      <td>0.936579</td>\n",
       "      <td>0.784474</td>\n",
       "      <td>0.899</td>\n",
       "      <td>up</td>\n",
       "    </tr>\n",
       "    <tr>\n",
       "      <th>INTEGRIN SIGNALING</th>\n",
       "      <td>0.938667</td>\n",
       "      <td>0.786858</td>\n",
       "      <td>0.899</td>\n",
       "      <td>up</td>\n",
       "    </tr>\n",
       "  </tbody>\n",
       "</table>\n",
       "</div>"
      ],
      "text/plain": [
       "                                   nes  fdr_q-val  fwer_p-val direction\n",
       "name                                                                   \n",
       "G2/M TRANSITION               0.936579   0.778576       0.899        up\n",
       "TRANSPORT OF SMALL MOLECULES  0.908908   0.784076       0.908        up\n",
       "DEVELOPMENTAL BIOLOGY         0.906090   0.784323       0.908        up\n",
       "MITOTIC G2-G2/M PHASES        0.936579   0.784474       0.899        up\n",
       "INTEGRIN SIGNALING            0.938667   0.786858       0.899        up"
      ]
     },
     "execution_count": 75,
     "metadata": {},
     "output_type": "execute_result"
    }
   ],
   "source": [
    "run_gsea('Cryptococcal', 'Healthy control', raw_gene_matrix_by_symbols).head()"
   ]
  },
  {
   "cell_type": "markdown",
   "metadata": {},
   "source": [
    "### TB vs crypto"
   ]
  },
  {
   "cell_type": "code",
   "execution_count": 76,
   "metadata": {},
   "outputs": [
    {
     "data": {
      "text/html": [
       "<div>\n",
       "<style scoped>\n",
       "    .dataframe tbody tr th:only-of-type {\n",
       "        vertical-align: middle;\n",
       "    }\n",
       "\n",
       "    .dataframe tbody tr th {\n",
       "        vertical-align: top;\n",
       "    }\n",
       "\n",
       "    .dataframe thead th {\n",
       "        text-align: right;\n",
       "    }\n",
       "</style>\n",
       "<table border=\"1\" class=\"dataframe\">\n",
       "  <thead>\n",
       "    <tr style=\"text-align: right;\">\n",
       "      <th></th>\n",
       "      <th>nes</th>\n",
       "      <th>fdr_q-val</th>\n",
       "      <th>fwer_p-val</th>\n",
       "      <th>direction</th>\n",
       "    </tr>\n",
       "    <tr>\n",
       "      <th>name</th>\n",
       "      <th></th>\n",
       "      <th></th>\n",
       "      <th></th>\n",
       "      <th></th>\n",
       "    </tr>\n",
       "  </thead>\n",
       "  <tbody>\n",
       "    <tr>\n",
       "      <th>TOLL LIKE RECEPTOR 10 (TLR10) CASCADE</th>\n",
       "      <td>1.931159</td>\n",
       "      <td>0.109697</td>\n",
       "      <td>0.143</td>\n",
       "      <td>up</td>\n",
       "    </tr>\n",
       "    <tr>\n",
       "      <th>SENESCENCE-ASSOCIATED SECRETORY PHENOTYPE (SASP)</th>\n",
       "      <td>1.832602</td>\n",
       "      <td>0.114866</td>\n",
       "      <td>0.233</td>\n",
       "      <td>up</td>\n",
       "    </tr>\n",
       "    <tr>\n",
       "      <th>TOLL LIKE RECEPTOR 9 (TLR9) CASCADE</th>\n",
       "      <td>1.842558</td>\n",
       "      <td>0.116150</td>\n",
       "      <td>0.224</td>\n",
       "      <td>up</td>\n",
       "    </tr>\n",
       "    <tr>\n",
       "      <th>TOLL LIKE RECEPTOR 3 (TLR3) CASCADE</th>\n",
       "      <td>1.812747</td>\n",
       "      <td>0.123704</td>\n",
       "      <td>0.251</td>\n",
       "      <td>up</td>\n",
       "    </tr>\n",
       "    <tr>\n",
       "      <th>TOLL LIKE RECEPTOR 7/8 (TLR7/8) CASCADE</th>\n",
       "      <td>1.842558</td>\n",
       "      <td>0.125829</td>\n",
       "      <td>0.224</td>\n",
       "      <td>up</td>\n",
       "    </tr>\n",
       "  </tbody>\n",
       "</table>\n",
       "</div>"
      ],
      "text/plain": [
       "                                                       nes  fdr_q-val  \\\n",
       "name                                                                    \n",
       "TOLL LIKE RECEPTOR 10 (TLR10) CASCADE             1.931159   0.109697   \n",
       "SENESCENCE-ASSOCIATED SECRETORY PHENOTYPE (SASP)  1.832602   0.114866   \n",
       "TOLL LIKE RECEPTOR 9 (TLR9) CASCADE               1.842558   0.116150   \n",
       "TOLL LIKE RECEPTOR 3 (TLR3) CASCADE               1.812747   0.123704   \n",
       "TOLL LIKE RECEPTOR 7/8 (TLR7/8) CASCADE           1.842558   0.125829   \n",
       "\n",
       "                                                  fwer_p-val direction  \n",
       "name                                                                    \n",
       "TOLL LIKE RECEPTOR 10 (TLR10) CASCADE                  0.143        up  \n",
       "SENESCENCE-ASSOCIATED SECRETORY PHENOTYPE (SASP)       0.233        up  \n",
       "TOLL LIKE RECEPTOR 9 (TLR9) CASCADE                    0.224        up  \n",
       "TOLL LIKE RECEPTOR 3 (TLR3) CASCADE                    0.251        up  \n",
       "TOLL LIKE RECEPTOR 7/8 (TLR7/8) CASCADE                0.224        up  "
      ]
     },
     "execution_count": 76,
     "metadata": {},
     "output_type": "execute_result"
    }
   ],
   "source": [
    "run_gsea('Tuberculosis', 'Cryptococcal', raw_gene_matrix_by_symbols).head()"
   ]
  },
  {
   "cell_type": "markdown",
   "metadata": {},
   "source": [
    "The top hits may be related to HIV-1:\n",
    "\n",
    "> RNA can serve as a danger signal, both in its double-stranded form (that is associated with viral infection), as well as single-stranded RNA (ssRNA). Specifically, guanosine (G)- and uridine (U)-rich ssRNA oligonucleotides **derived from human immunodeficiency virus-1 (HIV-1)**, for example, stimulate dendritic cells (DC) and macrophages to secrete interferon-alpha and proinflammatory, as well as regulatory, cytokines. This has been found to be mediated by TLR7, as well as TLR8. Separate studies showed that imidazoquinoline compounds (e.g. imiquimod and R-848, low-molecular-weight immune response modifiers that can induce the synthesis of interferon-alpha) also exert their effects in a MyD88-dependent fashion independently through TLR7 and 8 (Heil et al. 2004).\n",
    "https://reactome.org/content/detail/R-HSA-168181"
   ]
  },
  {
   "cell_type": "code",
   "execution_count": 77,
   "metadata": {},
   "outputs": [
    {
     "data": {
      "text/html": [
       "<div>\n",
       "<style scoped>\n",
       "    .dataframe tbody tr th:only-of-type {\n",
       "        vertical-align: middle;\n",
       "    }\n",
       "\n",
       "    .dataframe tbody tr th {\n",
       "        vertical-align: top;\n",
       "    }\n",
       "\n",
       "    .dataframe thead th {\n",
       "        text-align: right;\n",
       "    }\n",
       "</style>\n",
       "<table border=\"1\" class=\"dataframe\">\n",
       "  <thead>\n",
       "    <tr style=\"text-align: right;\">\n",
       "      <th></th>\n",
       "      <th>nes</th>\n",
       "      <th>fdr_q-val</th>\n",
       "      <th>fwer_p-val</th>\n",
       "      <th>direction</th>\n",
       "    </tr>\n",
       "    <tr>\n",
       "      <th>name</th>\n",
       "      <th></th>\n",
       "      <th></th>\n",
       "      <th></th>\n",
       "      <th></th>\n",
       "    </tr>\n",
       "  </thead>\n",
       "  <tbody>\n",
       "    <tr>\n",
       "      <th>INTERFERON GAMMA SIGNALING</th>\n",
       "      <td>1.652951</td>\n",
       "      <td>0.103947</td>\n",
       "      <td>0.334</td>\n",
       "      <td>up</td>\n",
       "    </tr>\n",
       "    <tr>\n",
       "      <th>FACTORS INVOLVED IN MEGAKARYOCYTE DEVELOPMENT AND PLATELET PRODUCTION</th>\n",
       "      <td>1.660282</td>\n",
       "      <td>0.105686</td>\n",
       "      <td>0.326</td>\n",
       "      <td>up</td>\n",
       "    </tr>\n",
       "    <tr>\n",
       "      <th>L1CAM INTERACTIONS</th>\n",
       "      <td>1.665435</td>\n",
       "      <td>0.109084</td>\n",
       "      <td>0.315</td>\n",
       "      <td>up</td>\n",
       "    </tr>\n",
       "    <tr>\n",
       "      <th>TRIF MEDIATED TLR3 SIGNALING</th>\n",
       "      <td>1.683691</td>\n",
       "      <td>0.113307</td>\n",
       "      <td>0.295</td>\n",
       "      <td>up</td>\n",
       "    </tr>\n",
       "    <tr>\n",
       "      <th>SIGNALING BY SCF KIT</th>\n",
       "      <td>1.631833</td>\n",
       "      <td>0.113684</td>\n",
       "      <td>0.354</td>\n",
       "      <td>up</td>\n",
       "    </tr>\n",
       "  </tbody>\n",
       "</table>\n",
       "</div>"
      ],
      "text/plain": [
       "                                                         nes  fdr_q-val  \\\n",
       "name                                                                      \n",
       "INTERFERON GAMMA SIGNALING                          1.652951   0.103947   \n",
       "FACTORS INVOLVED IN MEGAKARYOCYTE DEVELOPMENT A...  1.660282   0.105686   \n",
       "L1CAM INTERACTIONS                                  1.665435   0.109084   \n",
       "TRIF MEDIATED TLR3 SIGNALING                        1.683691   0.113307   \n",
       "SIGNALING BY SCF KIT                                1.631833   0.113684   \n",
       "\n",
       "                                                    fwer_p-val direction  \n",
       "name                                                                      \n",
       "INTERFERON GAMMA SIGNALING                               0.334        up  \n",
       "FACTORS INVOLVED IN MEGAKARYOCYTE DEVELOPMENT A...       0.326        up  \n",
       "L1CAM INTERACTIONS                                       0.315        up  \n",
       "TRIF MEDIATED TLR3 SIGNALING                             0.295        up  \n",
       "SIGNALING BY SCF KIT                                     0.354        up  "
      ]
     },
     "execution_count": 77,
     "metadata": {},
     "output_type": "execute_result"
    }
   ],
   "source": [
    "run_gsea('Tuberculosis', 'Cryptococcal', raw_gene_matrix, curated=True).head()"
   ]
  },
  {
   "cell_type": "markdown",
   "metadata": {},
   "source": [
    "### Side check: does either collection gives more reasonable results for (HIV vs not HIV)?"
   ]
  },
  {
   "cell_type": "code",
   "execution_count": 78,
   "metadata": {},
   "outputs": [
    {
     "data": {
      "text/html": [
       "<div>\n",
       "<style scoped>\n",
       "    .dataframe tbody tr th:only-of-type {\n",
       "        vertical-align: middle;\n",
       "    }\n",
       "\n",
       "    .dataframe tbody tr th {\n",
       "        vertical-align: top;\n",
       "    }\n",
       "\n",
       "    .dataframe thead th {\n",
       "        text-align: right;\n",
       "    }\n",
       "</style>\n",
       "<table border=\"1\" class=\"dataframe\">\n",
       "  <thead>\n",
       "    <tr style=\"text-align: right;\">\n",
       "      <th></th>\n",
       "      <th>nes</th>\n",
       "      <th>fdr_q-val</th>\n",
       "      <th>fwer_p-val</th>\n",
       "      <th>direction</th>\n",
       "    </tr>\n",
       "    <tr>\n",
       "      <th>name</th>\n",
       "      <th></th>\n",
       "      <th></th>\n",
       "      <th></th>\n",
       "      <th></th>\n",
       "    </tr>\n",
       "  </thead>\n",
       "  <tbody>\n",
       "    <tr>\n",
       "      <th>EPH-EPHRIN MEDIATED REPULSION OF CELLS</th>\n",
       "      <td>1.801915</td>\n",
       "      <td>0.339854</td>\n",
       "      <td>0.275</td>\n",
       "      <td>up</td>\n",
       "    </tr>\n",
       "    <tr>\n",
       "      <th>SIGNALING BY NOTCH1</th>\n",
       "      <td>1.730336</td>\n",
       "      <td>0.352878</td>\n",
       "      <td>0.365</td>\n",
       "      <td>up</td>\n",
       "    </tr>\n",
       "    <tr>\n",
       "      <th>EPH-EPHRIN SIGNALING</th>\n",
       "      <td>1.749980</td>\n",
       "      <td>0.372699</td>\n",
       "      <td>0.332</td>\n",
       "      <td>up</td>\n",
       "    </tr>\n",
       "    <tr>\n",
       "      <th>TNFR2 NON-CANONICAL NF-KB PATHWAY</th>\n",
       "      <td>1.815513</td>\n",
       "      <td>0.411648</td>\n",
       "      <td>0.254</td>\n",
       "      <td>up</td>\n",
       "    </tr>\n",
       "    <tr>\n",
       "      <th>SIGNALING BY TGF-BETA FAMILY MEMBERS</th>\n",
       "      <td>1.655416</td>\n",
       "      <td>0.415506</td>\n",
       "      <td>0.493</td>\n",
       "      <td>up</td>\n",
       "    </tr>\n",
       "  </tbody>\n",
       "</table>\n",
       "</div>"
      ],
      "text/plain": [
       "                                             nes  fdr_q-val  fwer_p-val  \\\n",
       "name                                                                      \n",
       "EPH-EPHRIN MEDIATED REPULSION OF CELLS  1.801915   0.339854       0.275   \n",
       "SIGNALING BY NOTCH1                     1.730336   0.352878       0.365   \n",
       "EPH-EPHRIN SIGNALING                    1.749980   0.372699       0.332   \n",
       "TNFR2 NON-CANONICAL NF-KB PATHWAY       1.815513   0.411648       0.254   \n",
       "SIGNALING BY TGF-BETA FAMILY MEMBERS    1.655416   0.415506       0.493   \n",
       "\n",
       "                                       direction  \n",
       "name                                              \n",
       "EPH-EPHRIN MEDIATED REPULSION OF CELLS        up  \n",
       "SIGNALING BY NOTCH1                           up  \n",
       "EPH-EPHRIN SIGNALING                          up  \n",
       "TNFR2 NON-CANONICAL NF-KB PATHWAY             up  \n",
       "SIGNALING BY TGF-BETA FAMILY MEMBERS          up  "
      ]
     },
     "execution_count": 78,
     "metadata": {},
     "output_type": "execute_result"
    }
   ],
   "source": [
    "run_gsea('Positive', 'Negative', raw_gene_matrix_by_symbols, design=clinical.HIVResult).head()"
   ]
  },
  {
   "cell_type": "code",
   "execution_count": 79,
   "metadata": {},
   "outputs": [
    {
     "data": {
      "text/html": [
       "<div>\n",
       "<style scoped>\n",
       "    .dataframe tbody tr th:only-of-type {\n",
       "        vertical-align: middle;\n",
       "    }\n",
       "\n",
       "    .dataframe tbody tr th {\n",
       "        vertical-align: top;\n",
       "    }\n",
       "\n",
       "    .dataframe thead th {\n",
       "        text-align: right;\n",
       "    }\n",
       "</style>\n",
       "<table border=\"1\" class=\"dataframe\">\n",
       "  <thead>\n",
       "    <tr style=\"text-align: right;\">\n",
       "      <th></th>\n",
       "      <th>nes</th>\n",
       "      <th>fdr_q-val</th>\n",
       "      <th>fwer_p-val</th>\n",
       "      <th>direction</th>\n",
       "    </tr>\n",
       "    <tr>\n",
       "      <th>name</th>\n",
       "      <th></th>\n",
       "      <th></th>\n",
       "      <th></th>\n",
       "      <th></th>\n",
       "    </tr>\n",
       "  </thead>\n",
       "  <tbody>\n",
       "    <tr>\n",
       "      <th>IMMUNOREGULATORY INTERACTIONS BETWEEN A LYMPHOID AND A NON LYMPHOID CELL</th>\n",
       "      <td>1.518227</td>\n",
       "      <td>0.733480</td>\n",
       "      <td>0.553</td>\n",
       "      <td>up</td>\n",
       "    </tr>\n",
       "    <tr>\n",
       "      <th>SIGNALING BY NOTCH</th>\n",
       "      <td>1.559836</td>\n",
       "      <td>0.753081</td>\n",
       "      <td>0.489</td>\n",
       "      <td>up</td>\n",
       "    </tr>\n",
       "    <tr>\n",
       "      <th>INTEGRIN ALPHAIIB BETA3 SIGNALING</th>\n",
       "      <td>0.733523</td>\n",
       "      <td>0.867831</td>\n",
       "      <td>0.959</td>\n",
       "      <td>up</td>\n",
       "    </tr>\n",
       "    <tr>\n",
       "      <th>CLASS I MHC MEDIATED ANTIGEN PROCESSING PRESENTATION</th>\n",
       "      <td>0.707919</td>\n",
       "      <td>0.875251</td>\n",
       "      <td>0.968</td>\n",
       "      <td>up</td>\n",
       "    </tr>\n",
       "    <tr>\n",
       "      <th>INTERFERON SIGNALING</th>\n",
       "      <td>1.598784</td>\n",
       "      <td>0.881975</td>\n",
       "      <td>0.418</td>\n",
       "      <td>up</td>\n",
       "    </tr>\n",
       "  </tbody>\n",
       "</table>\n",
       "</div>"
      ],
      "text/plain": [
       "                                                         nes  fdr_q-val  \\\n",
       "name                                                                      \n",
       "IMMUNOREGULATORY INTERACTIONS BETWEEN A LYMPHOI...  1.518227   0.733480   \n",
       "SIGNALING BY NOTCH                                  1.559836   0.753081   \n",
       "INTEGRIN ALPHAIIB BETA3 SIGNALING                   0.733523   0.867831   \n",
       "CLASS I MHC MEDIATED ANTIGEN PROCESSING PRESENT...  0.707919   0.875251   \n",
       "INTERFERON SIGNALING                                1.598784   0.881975   \n",
       "\n",
       "                                                    fwer_p-val direction  \n",
       "name                                                                      \n",
       "IMMUNOREGULATORY INTERACTIONS BETWEEN A LYMPHOI...       0.553        up  \n",
       "SIGNALING BY NOTCH                                       0.489        up  \n",
       "INTEGRIN ALPHAIIB BETA3 SIGNALING                        0.959        up  \n",
       "CLASS I MHC MEDIATED ANTIGEN PROCESSING PRESENT...       0.968        up  \n",
       "INTERFERON SIGNALING                                     0.418        up  "
      ]
     },
     "execution_count": 79,
     "metadata": {},
     "output_type": "execute_result"
    }
   ],
   "source": [
    "run_gsea('Positive', 'Negative', raw_gene_matrix, curated=True, design=clinical.HIVResult).head()"
   ]
  },
  {
   "cell_type": "markdown",
   "metadata": {},
   "source": [
    "Does not look good to me."
   ]
  },
  {
   "cell_type": "markdown",
   "metadata": {},
   "source": [
    "## Overall distributions"
   ]
  },
  {
   "cell_type": "code",
   "execution_count": 80,
   "metadata": {},
   "outputs": [],
   "source": [
    "stacked = raw_protein_matrix.melt(var_name='patient', value_name='abundance')"
   ]
  },
  {
   "cell_type": "code",
   "execution_count": 81,
   "metadata": {},
   "outputs": [],
   "source": [
    "from plots.annotations import tuberculosis_status"
   ]
  },
  {
   "cell_type": "code",
   "execution_count": 82,
   "metadata": {},
   "outputs": [],
   "source": [
    "stacked['group'] = stacked.patient.map(by_condition)\n",
    "stacked['TB_status'] = stacked.patient.apply(lambda patient: patient.split('.')[1]).map(tuberculosis_status).fillna('-')"
   ]
  },
  {
   "cell_type": "code",
   "execution_count": 83,
   "metadata": {},
   "outputs": [],
   "source": [
    "%R -i stacked"
   ]
  },
  {
   "cell_type": "code",
   "execution_count": 84,
   "metadata": {},
   "outputs": [],
   "source": [
    "from jupyter_helpers import rpy2_autocompletion"
   ]
  },
  {
   "cell_type": "code",
   "execution_count": 85,
   "metadata": {},
   "outputs": [
    {
     "data": {
      "image/png": "[encoded data removed]"
     },
     "metadata": {},
     "output_type": "display_data"
    }
   ],
   "source": [
    "%%R\n",
    "(\n",
    "    ggplot(stacked, aes(x=group, y=log10(abundance), fill=group))\n",
    "    + geom_violin()\n",
    "    + geom_boxplot(fill='white', width=.05)\n",
    "    + scale_fill_manual(values=patient_colors$Meningitis)\n",
    "    + theme(legend.position='bottom')\n",
    ")"
   ]
  },
  {
   "cell_type": "code",
   "execution_count": 86,
   "metadata": {},
   "outputs": [
    {
     "data": {
      "image/png": "[encoded data removed]"
     },
     "metadata": {},
     "output_type": "display_data"
    }
   ],
   "source": [
    "%%R -w 800\n",
    "(\n",
    "    ggplot(stacked, aes(x=reorder(patient, abundance), y=log10(abundance)))\n",
    "    + facet_wrap('~ group', scale='free_x')\n",
    "    + geom_boxplot(notch=T)\n",
    "    + theme(axis.text.x = element_text(angle = 90))\n",
    ")"
   ]
  },
  {
   "cell_type": "code",
   "execution_count": 87,
   "metadata": {},
   "outputs": [
    {
     "data": {
      "image/png": "[encoded data removed]"
     },
     "metadata": {},
     "output_type": "display_data"
    }
   ],
   "source": [
    "%%R -w 800\n",
    "(\n",
    "    ggplot(stacked[stacked$group == 'Tuberculosis',], aes(x=reorder(patient, abundance), y=log10(abundance)))\n",
    "    + facet_grid('~ TB_status', scale='free_x', space='free_x')\n",
    "    + geom_boxplot(notch=T)\n",
    "    + scale_fill_manual(values=patient_colors$Meningitis)\n",
    "    + theme(axis.text.x = element_text(angle = 90))\n",
    ")"
   ]
  },
  {
   "cell_type": "markdown",
   "metadata": {},
   "source": [
    "## Caveats of SOMAScan"
   ]
  },
  {
   "cell_type": "markdown",
   "metadata": {},
   "source": [
    "A quick notes from [(Joshi and Mayr, 2018)](https://www.ahajournals.org/doi/full/10.1161/CIRCULATIONAHA.118.036823):\n",
    "- non specificity, cross-reactivity a known problem\n",
    "- SNPs a known problem too\n",
    "- PTMs(!) a potential problem (IMO more than SNPs), an important consideration for signaling proteins and signaling pathways - these may be under-represented!\n",
    "\n",
    "**Thus: (!!)**\n",
    "Cross checking with RNA-seq is crucial and may hint us not only about the biological differences (i.e. SOMAScan detecting protein previously expressed and folded, while RNA-seq detecting proteins being actively expressed) but also about the discrepancies arising from failing SOMAScan failing to detect PTM modified signaling proteins or proteins bearing an important (and conformation changing) SNP."
   ]
  }
 ],
 "metadata": {
  "kernelspec": {
   "display_name": "Python 3",
   "language": "python",
   "name": "python3"
  },
  "language_info": {
   "codemirror_mode": {
    "name": "ipython",
    "version": 3
   },
   "file_extension": ".py",
   "mimetype": "text/x-python",
   "name": "python",
   "nbconvert_exporter": "python",
   "pygments_lexer": "ipython3",
   "version": "3.7.2"
  }
 },
 "nbformat": 4,
 "nbformat_minor": 2
}
