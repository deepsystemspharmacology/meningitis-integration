{
 "cells": [
  {
   "cell_type": "code",
   "execution_count": 1,
   "metadata": {},
   "outputs": [],
   "source": [
    "from helpers.utilities import *\n",
    "%run helpers/notebook_setup.ipynb"
   ]
  },
  {
   "cell_type": "code",
   "execution_count": 2,
   "metadata": {},
   "outputs": [],
   "source": [
    "%R source('plots/colors.R');"
   ]
  },
  {
   "cell_type": "code",
   "execution_count": 3,
   "metadata": {
    "tags": [
     "parameters"
    ]
   },
   "outputs": [],
   "source": [
    "indexed_by_target_path = 'data/clean/protein/indexed_by_target.csv'\n",
    "clinical_path = 'data/clean/protein/clinical_data_ordered_to_match_proteins_matrix.csv'\n",
    "\n",
    "raw_gene_path = 'data/clean/protein/gene_levels_by_entrez.csv'\n",
    "target_to_entrez_path = 'data/clean/protein/protein_to_entrez.csv'\n",
    "\n",
    "log_matrix_filtered_path = 'data/clean/protein/log_10_filtered.csv'"
   ]
  },
  {
   "cell_type": "code",
   "execution_count": 4,
   "metadata": {},
   "outputs": [],
   "source": [
    "clinical = read_csv(clinical_path, index_col=0)\n",
    "raw_protein_matrix = read_csv(indexed_by_target_path, index_col=0)"
   ]
  },
  {
   "cell_type": "code",
   "execution_count": 5,
   "metadata": {},
   "outputs": [],
   "source": [
    "# note: this is already limitted to the patients having the protein measurments\n",
    "by_condition = clinical.Meningitis"
   ]
  },
  {
   "cell_type": "code",
   "execution_count": 6,
   "metadata": {},
   "outputs": [],
   "source": [
    "%%R -i raw_protein_matrix -i by_condition\n",
    "import::here(space_to_dot, dot_to_space, .from='helpers/utilities.R')\n",
    "import::here(\n",
    "    design_from_conditions, calculate_means, limma_fit,\n",
    "    .from='helpers/differential_expression.R'\n",
    ")"
   ]
  },
  {
   "cell_type": "code",
   "execution_count": 7,
   "metadata": {},
   "outputs": [],
   "source": [
    "protein_matrix = read_csv(log_matrix_filtered_path, index_col=0)"
   ]
  },
  {
   "cell_type": "code",
   "execution_count": 8,
   "metadata": {},
   "outputs": [],
   "source": [
    "%%R -i by_condition -i protein_matrix\n",
    "\n",
    "limma_protein_fit = function(data=protein_matrix, conditions_vector=by_condition, ...) {\n",
    "    limma_fit(data=data, conditions_vector=conditions_vector, ...)\n",
    "}\n",
    "\n",
    "diff_ebayes <- function(a, b, ...) {\n",
    "    fit = limma_protein_fit(a=a, b=b, ...)\n",
    "    limma::eBayes(fit, trend=T, robust=T)\n",
    "}"
   ]
  },
  {
   "cell_type": "markdown",
   "metadata": {},
   "source": [
    "## Gene set enrichment"
   ]
  },
  {
   "cell_type": "code",
   "execution_count": 9,
   "metadata": {},
   "outputs": [],
   "source": [
    "from gsea_api.molecular_signatures_db import MolecularSignaturesDatabase\n",
    "\n",
    "db = MolecularSignaturesDatabase('data/msigdb', version='7.1')"
   ]
  },
  {
   "cell_type": "code",
   "execution_count": 10,
   "metadata": {},
   "outputs": [],
   "source": [
    "from helpers.gse import collection_to_R, formatter_to_fix_letter_case, calculate_overlap"
   ]
  },
  {
   "cell_type": "markdown",
   "metadata": {},
   "source": [
    "Actually, the GMT files in MSigDB are old (released 16-Jul-2018 as a point release with only minor changes).\n",
    "\n",
    "Let's fetch a recent GMT directly from Reactome; `data/ReactomePathways.gmt`, downloaded with `download.sh` script on:"
   ]
  },
  {
   "cell_type": "code",
   "execution_count": 11,
   "metadata": {},
   "outputs": [
    {
     "name": "stdout",
     "output_type": "stream",
     "text": [
      "-rw-r--r-- 1 krassowski krassowski 845606 Mar 12 16:56 data/ReactomePathways.gmt\n"
     ]
    }
   ],
   "source": [
    "!ls data/ReactomePathways.gmt -l"
   ]
  },
  {
   "cell_type": "code",
   "execution_count": 12,
   "metadata": {},
   "outputs": [],
   "source": [
    "from gsea_api.molecular_signatures_db import GeneMatrixTransposed"
   ]
  },
  {
   "cell_type": "code",
   "execution_count": 13,
   "metadata": {},
   "outputs": [
    {
     "name": "stderr",
     "output_type": "stream",
     "text": [
      "/home/krassowski/.pyenv/versions/3.7.6/envs/meningitis/lib/python3.7/site-packages/gsea_api/molecular_signatures_db.py:65: UserWarning: Provided gene sets are not redundant; there are 117 gene sets having more than one name assigned; use `find_redundant()` to investigate further.\n",
      "  warn(message)\n"
     ]
    }
   ],
   "source": [
    "reactome_full_symbol = GeneMatrixTransposed.from_gmt('data/ReactomePathways.gmt', name='reactome_full_symbol')\n",
    "\n",
    "# use the recent Reactome to improve the pathways name formatting in MSigDB for increased readability \n",
    "try_to_fix_letter_case = formatter_to_fix_letter_case(reactome_full_symbol)\n",
    "\n",
    "reactome_pathways_entrez = db.load(gene_sets='c2.cp.reactome', id_type='entrez').format_names(try_to_fix_letter_case)\n",
    "reactome_pathways_symbol = db.load(gene_sets='c2.cp.reactome', id_type='symbols').format_names(try_to_fix_letter_case)"
   ]
  },
  {
   "cell_type": "markdown",
   "metadata": {},
   "source": [
    "Simple symbol-based protein-gene matching performs poorly:"
   ]
  },
  {
   "cell_type": "code",
   "execution_count": 14,
   "metadata": {},
   "outputs": [
    {
     "name": "stdout",
     "output_type": "stream",
     "text": [
      "20.92%\n"
     ]
    }
   ],
   "source": [
    "calculate_overlap(reactome_pathways_symbol, protein_matrix)"
   ]
  },
  {
   "cell_type": "markdown",
   "metadata": {},
   "source": [
    "And the full, recent Reactome version provides only moderate improvement:"
   ]
  },
  {
   "cell_type": "code",
   "execution_count": 15,
   "metadata": {},
   "outputs": [
    {
     "name": "stdout",
     "output_type": "stream",
     "text": [
      "21.08%\n"
     ]
    }
   ],
   "source": [
    "calculate_overlap(reactome_full_symbol, protein_matrix)"
   ]
  },
  {
   "cell_type": "markdown",
   "metadata": {},
   "source": [
    "Instead I will use Entrez ID based mapping, as described in [Gene_level_mapping.ipynb](Gene_level_mapping.ipynb) notebook:"
   ]
  },
  {
   "cell_type": "code",
   "execution_count": 16,
   "metadata": {},
   "outputs": [],
   "source": [
    "raw_gene_matrix = read_csv(raw_gene_path, index_col=0)"
   ]
  },
  {
   "cell_type": "code",
   "execution_count": 17,
   "metadata": {},
   "outputs": [],
   "source": [
    "assert not raw_gene_matrix.index.duplicated().any()"
   ]
  },
  {
   "cell_type": "code",
   "execution_count": 18,
   "metadata": {},
   "outputs": [],
   "source": [
    "from numpy import log10"
   ]
  },
  {
   "cell_type": "code",
   "execution_count": 19,
   "metadata": {},
   "outputs": [],
   "source": [
    "log10_gene_matrix = raw_gene_matrix.apply(log10)"
   ]
  },
  {
   "cell_type": "markdown",
   "metadata": {},
   "source": [
    "It matches much more genes:"
   ]
  },
  {
   "cell_type": "code",
   "execution_count": 20,
   "metadata": {},
   "outputs": [
    {
     "name": "stdout",
     "output_type": "stream",
     "text": [
      "87.05%\n"
     ]
    }
   ],
   "source": [
    "calculate_overlap(reactome_pathways_entrez, raw_gene_matrix)"
   ]
  },
  {
   "cell_type": "code",
   "execution_count": 21,
   "metadata": {},
   "outputs": [
    {
     "name": "stdout",
     "output_type": "stream",
     "text": [
      "87.05%\n"
     ]
    }
   ],
   "source": [
    "kegg_pathways_entrez = db.load(gene_sets='c2.cp.kegg', id_type='entrez')\n",
    "calculate_overlap(reactome_pathways_entrez, raw_gene_matrix)"
   ]
  },
  {
   "cell_type": "code",
   "execution_count": 22,
   "metadata": {},
   "outputs": [],
   "source": [
    "id_to_symbol = read_table('data/hgnc/entrez_to_gene_symbol.tsv', index_col=0)['Approved symbol']"
   ]
  },
  {
   "cell_type": "code",
   "execution_count": 23,
   "metadata": {},
   "outputs": [
    {
     "data": {
      "text/plain": [
       "NCBI Gene ID\n",
       "51704.0           GPRC5B\n",
       "29765.0            TMOD4\n",
       "54676.0           GTPBP2\n",
       "105369454.0    LINC02713\n",
       "23768.0            FLRT2\n",
       "Name: Approved symbol, dtype: object"
      ]
     },
     "execution_count": 23,
     "metadata": {},
     "output_type": "execute_result"
    }
   ],
   "source": [
    "id_to_symbol.head()"
   ]
  },
  {
   "cell_type": "code",
   "execution_count": 24,
   "metadata": {},
   "outputs": [],
   "source": [
    "from numpy import nan"
   ]
  },
  {
   "cell_type": "code",
   "execution_count": 25,
   "metadata": {},
   "outputs": [],
   "source": [
    "symbols = raw_gene_matrix.index.map(lambda entrez_id: id_to_symbol.get(float(entrez_id), nan))\n",
    "raw_gene_matrix_by_symbols = copy(raw_gene_matrix)\n",
    "raw_gene_matrix_by_symbols.index = symbols"
   ]
  },
  {
   "cell_type": "code",
   "execution_count": 26,
   "metadata": {},
   "outputs": [
    {
     "data": {
      "text/plain": [
       "[4233,\n",
       " 4276,\n",
       " 4481,\n",
       " 5136,\n",
       " 8600,\n",
       " 10288,\n",
       " 12372,\n",
       " 51330,\n",
       " 64806,\n",
       " 91179,\n",
       " 1489079,\n",
       " 1489089,\n",
       " 1724716,\n",
       " 100293534]"
      ]
     },
     "execution_count": 26,
     "metadata": {},
     "output_type": "execute_result"
    }
   ],
   "source": [
    "genes_missing_symbols = raw_gene_matrix.index[raw_gene_matrix_by_symbols.index.isnull()]\n",
    "sorted(genes_missing_symbols)"
   ]
  },
  {
   "cell_type": "code",
   "execution_count": 27,
   "metadata": {},
   "outputs": [],
   "source": [
    "# reflects state for 16 Apr 2020\n",
    "manual_map = {\n",
    "    4276.0: 'MICA',\n",
    "    100293534: 'C4B_2',\n",
    "    51330: 'TNFRSF12A',\n",
    "    64806: 'IL25',\n",
    "    91179: 'SCARF2',\n",
    "    4481: 'MSR1',\n",
    "    5136: 'PDE1A',\n",
    "    8600: 'TNFSF11',\n",
    "    10288: 'LILRB2',\n",
    "    4233: 'MET'\n",
    "}"
   ]
  },
  {
   "cell_type": "markdown",
   "metadata": {},
   "source": [
    "- 4276 - replaced with 100507436 but symbol stayed the same (MICA)\n",
    "   > Gene ID: 4276, discontinued on 10-Nov-2010\n",
    "   >\n",
    "  > This record was replaced with Gene ID: 100507436\n",
    "- 12372 - mouse protein\n",
    "- 1489079, 1489089, 1724716 - viral proteins"
   ]
  },
  {
   "cell_type": "code",
   "execution_count": 28,
   "metadata": {},
   "outputs": [],
   "source": [
    "id_to_symbol_curated = {**id_to_symbol, **manual_map}"
   ]
  },
  {
   "cell_type": "code",
   "execution_count": 29,
   "metadata": {},
   "outputs": [],
   "source": [
    "symbols_curated = raw_gene_matrix.index.map(lambda entrez_id: id_to_symbol_curated.get(float(entrez_id), nan))"
   ]
  },
  {
   "cell_type": "code",
   "execution_count": 30,
   "metadata": {},
   "outputs": [],
   "source": [
    "raw_gene_matrix_by_symbols.index = symbols_curated\n",
    "raw_gene_matrix_by_symbols = raw_gene_matrix_by_symbols[~raw_gene_matrix_by_symbols.index.isnull()]"
   ]
  },
  {
   "cell_type": "markdown",
   "metadata": {},
   "source": [
    "However, MICA and ICOSLG are already captured by other entrez ids - so I can remove the duplicates:"
   ]
  },
  {
   "cell_type": "code",
   "execution_count": 31,
   "metadata": {},
   "outputs": [
    {
     "data": {
      "text/html": [
       "<div>\n",
       "<style scoped>\n",
       "    .dataframe tbody tr th:only-of-type {\n",
       "        vertical-align: middle;\n",
       "    }\n",
       "\n",
       "    .dataframe tbody tr th {\n",
       "        vertical-align: top;\n",
       "    }\n",
       "\n",
       "    .dataframe thead th {\n",
       "        text-align: right;\n",
       "    }\n",
       "</style>\n",
       "<table border=\"1\" class=\"dataframe\">\n",
       "  <thead>\n",
       "    <tr style=\"text-align: right;\">\n",
       "      <th></th>\n",
       "      <th>149.TMD</th>\n",
       "      <th>007.TMD</th>\n",
       "      <th>001.TMD</th>\n",
       "      <th>064.TMD</th>\n",
       "      <th>151.TMD</th>\n",
       "      <th>...</th>\n",
       "      <th>177.HC</th>\n",
       "      <th>189.HC</th>\n",
       "      <th>217.HC</th>\n",
       "      <th>221.HC</th>\n",
       "      <th>245.HC</th>\n",
       "    </tr>\n",
       "  </thead>\n",
       "  <tbody>\n",
       "    <tr>\n",
       "      <th>MICA</th>\n",
       "      <td>51.75</td>\n",
       "      <td>207.25</td>\n",
       "      <td>5.65</td>\n",
       "      <td>7.05</td>\n",
       "      <td>22.0</td>\n",
       "      <td>...</td>\n",
       "      <td>10.45</td>\n",
       "      <td>11.85</td>\n",
       "      <td>6.65</td>\n",
       "      <td>11.6</td>\n",
       "      <td>11.95</td>\n",
       "    </tr>\n",
       "    <tr>\n",
       "      <th>MICA</th>\n",
       "      <td>51.75</td>\n",
       "      <td>207.25</td>\n",
       "      <td>5.65</td>\n",
       "      <td>7.05</td>\n",
       "      <td>22.0</td>\n",
       "      <td>...</td>\n",
       "      <td>10.45</td>\n",
       "      <td>11.85</td>\n",
       "      <td>6.65</td>\n",
       "      <td>11.6</td>\n",
       "      <td>11.95</td>\n",
       "    </tr>\n",
       "  </tbody>\n",
       "</table>\n",
       "<p>2 rows × 82 columns</p>\n",
       "</div>"
      ],
      "text/plain": [
       "      149.TMD  007.TMD  001.TMD  064.TMD  151.TMD  ...  177.HC  189.HC  \\\n",
       "MICA    51.75   207.25     5.65     7.05     22.0  ...   10.45   11.85   \n",
       "MICA    51.75   207.25     5.65     7.05     22.0  ...   10.45   11.85   \n",
       "\n",
       "      217.HC  221.HC  245.HC  \n",
       "MICA    6.65    11.6   11.95  \n",
       "MICA    6.65    11.6   11.95  \n",
       "\n",
       "[2 rows x 82 columns]"
      ]
     },
     "execution_count": 31,
     "metadata": {},
     "output_type": "execute_result"
    }
   ],
   "source": [
    "raw_gene_matrix_by_symbols[raw_gene_matrix_by_symbols.index.duplicated(keep=False)]"
   ]
  },
  {
   "cell_type": "code",
   "execution_count": 32,
   "metadata": {},
   "outputs": [],
   "source": [
    "raw_gene_matrix_by_symbols = raw_gene_matrix_by_symbols[~raw_gene_matrix_by_symbols.index.duplicated()]"
   ]
  },
  {
   "cell_type": "code",
   "execution_count": 33,
   "metadata": {},
   "outputs": [
    {
     "name": "stdout",
     "output_type": "stream",
     "text": [
      "86.09%\n"
     ]
    }
   ],
   "source": [
    "calculate_overlap(reactome_full_symbol, raw_gene_matrix_by_symbols)"
   ]
  },
  {
   "cell_type": "markdown",
   "metadata": {},
   "source": [
    "Using the recent Reactome GMT mapped via entrez IDs to symbol seems good enough. Is it superior to just using the symbols provided in aptamers metadata?"
   ]
  },
  {
   "cell_type": "code",
   "execution_count": 34,
   "metadata": {},
   "outputs": [],
   "source": [
    "aptamers = read_csv('data/other/relevant_aptamers.csv')"
   ]
  },
  {
   "cell_type": "code",
   "execution_count": 35,
   "metadata": {},
   "outputs": [
    {
     "data": {
      "text/plain": [
       "86.73312883435584"
      ]
     },
     "execution_count": 35,
     "metadata": {},
     "output_type": "execute_result"
    }
   ],
   "source": [
    "soma = set(symbol for symbols in aptamers.EntrezGeneSymbol.str.split(' ') for symbol in symbols)\n",
    "precentage = len(reactome_full_symbol.all_genes & soma) / len(soma) * 100\n",
    "precentage"
   ]
  },
  {
   "cell_type": "code",
   "execution_count": 36,
   "metadata": {},
   "outputs": [
    {
     "data": {
      "text/plain": [
       "(1304, 1323)"
      ]
     },
     "execution_count": 36,
     "metadata": {},
     "output_type": "execute_result"
    }
   ],
   "source": [
    "len(soma), len(raw_gene_matrix_by_symbols)"
   ]
  },
  {
   "cell_type": "markdown",
   "metadata": {},
   "source": [
    "It's about the same. But I feel much more confident using the entrez-id mapping step."
   ]
  },
  {
   "cell_type": "code",
   "execution_count": 37,
   "metadata": {},
   "outputs": [
    {
     "name": "stdout",
     "output_type": "stream",
     "text": [
      "c2.cp.kegg 103\n",
      "reactome_full_symbol 760\n",
      "c2.cp.reactome 639\n"
     ]
    },
    {
     "name": "stderr",
     "output_type": "stream",
     "text": [
      "/home/krassowski/.pyenv/versions/3.7.6/envs/meningitis/lib/python3.7/site-packages/gsea_api/molecular_signatures_db.py:65: UserWarning: Provided gene sets are not redundant; there are 4 gene sets having more than one name assigned; use `find_redundant()` to investigate further.\n",
      "  warn(message)\n",
      "/home/krassowski/.pyenv/versions/3.7.6/envs/meningitis/lib/python3.7/site-packages/gsea_api/molecular_signatures_db.py:75: UserWarning: There are 24 empty gene sets: use `empty_gene_sets` property to investigate further.\n",
      "  warn(f'There are {len(empty_gene_sets)} empty gene sets: {empty_message}')\n",
      "/home/krassowski/.pyenv/versions/3.7.6/envs/meningitis/lib/python3.7/site-packages/gsea_api/molecular_signatures_db.py:79: UserWarning: 24 empty gene sets were removed.\n",
      "  warn(f'{len(empty_gene_sets)} empty gene sets were removed.')\n",
      "/home/krassowski/.pyenv/versions/3.7.6/envs/meningitis/lib/python3.7/site-packages/gsea_api/molecular_signatures_db.py:65: UserWarning: Provided gene sets are not redundant; there are 202 gene sets having more than one name assigned; use `find_redundant()` to investigate further.\n",
      "  warn(message)\n",
      "/home/krassowski/.pyenv/versions/3.7.6/envs/meningitis/lib/python3.7/site-packages/gsea_api/molecular_signatures_db.py:75: UserWarning: There are 688 empty gene sets: use `empty_gene_sets` property to investigate further.\n",
      "  warn(f'There are {len(empty_gene_sets)} empty gene sets: {empty_message}')\n",
      "/home/krassowski/.pyenv/versions/3.7.6/envs/meningitis/lib/python3.7/site-packages/gsea_api/molecular_signatures_db.py:79: UserWarning: 688 empty gene sets were removed.\n",
      "  warn(f'{len(empty_gene_sets)} empty gene sets were removed.')\n",
      "/home/krassowski/.pyenv/versions/3.7.6/envs/meningitis/lib/python3.7/site-packages/gsea_api/molecular_signatures_db.py:65: UserWarning: Provided gene sets are not redundant; there are 102 gene sets having more than one name assigned; use `find_redundant()` to investigate further.\n",
      "  warn(message)\n",
      "/home/krassowski/.pyenv/versions/3.7.6/envs/meningitis/lib/python3.7/site-packages/gsea_api/molecular_signatures_db.py:75: UserWarning: There are 271 empty gene sets: use `empty_gene_sets` property to investigate further.\n",
      "  warn(f'There are {len(empty_gene_sets)} empty gene sets: {empty_message}')\n",
      "/home/krassowski/.pyenv/versions/3.7.6/envs/meningitis/lib/python3.7/site-packages/gsea_api/molecular_signatures_db.py:79: UserWarning: 271 empty gene sets were removed.\n",
      "  warn(f'{len(empty_gene_sets)} empty gene sets were removed.')\n"
     ]
    }
   ],
   "source": [
    "entrez_ids = set(map(str, raw_gene_matrix.index))\n",
    "symbols = set(raw_gene_matrix_by_symbols.index)\n",
    "\n",
    "for collection, genes in [\n",
    "    (kegg_pathways_entrez, entrez_ids),\n",
    "    (reactome_full_symbol, symbols),\n",
    "    (reactome_pathways_entrez, entrez_ids)\n",
    "]:\n",
    "    after_trimming = collection_to_R(collection, trim_to=genes)\n",
    "    print(collection.name, len(after_trimming))"
   ]
  },
  {
   "cell_type": "code",
   "execution_count": 38,
   "metadata": {},
   "outputs": [],
   "source": [
    "%%R\n",
    "gse = function(data, groups, contrast, collection, nrot=9999){\n",
    "    design = design_from_conditions(groups, intercept='Healthy.control')\n",
    "    limma::mroast(data, collection, design=design, contrast=contrast, geneid=dimnames(data)[[1]], nrot=nrot)\n",
    "}"
   ]
  },
  {
   "cell_type": "code",
   "execution_count": 39,
   "metadata": {},
   "outputs": [],
   "source": [
    "log10_gene_matrix_symbols = raw_gene_matrix_by_symbols.apply(log10)"
   ]
  },
  {
   "cell_type": "markdown",
   "metadata": {},
   "source": [
    "## Simple multiple rotational GSE testing is not well suited to prioritetize pathways in imbalanced dataset"
   ]
  },
  {
   "cell_type": "markdown",
   "metadata": {},
   "source": [
    "Because ROAST is self-contained it performs poorly in a setting where everything is up:"
   ]
  },
  {
   "cell_type": "code",
   "execution_count": 40,
   "metadata": {},
   "outputs": [
    {
     "data": {
      "text/html": [
       "<div>\n",
       "<style scoped>\n",
       "    .dataframe tbody tr th:only-of-type {\n",
       "        vertical-align: middle;\n",
       "    }\n",
       "\n",
       "    .dataframe tbody tr th {\n",
       "        vertical-align: top;\n",
       "    }\n",
       "\n",
       "    .dataframe thead th {\n",
       "        text-align: right;\n",
       "    }\n",
       "</style>\n",
       "<table border=\"1\" class=\"dataframe\">\n",
       "  <thead>\n",
       "    <tr style=\"text-align: right;\">\n",
       "      <th></th>\n",
       "      <th>NGenes</th>\n",
       "      <th>PropDown</th>\n",
       "      <th>PropUp</th>\n",
       "      <th>Direction</th>\n",
       "      <th>PValue</th>\n",
       "      <th>FDR</th>\n",
       "      <th>PValue.Mixed</th>\n",
       "      <th>FDR.Mixed</th>\n",
       "    </tr>\n",
       "  </thead>\n",
       "  <tbody>\n",
       "    <tr>\n",
       "      <th>Cell Cycle</th>\n",
       "      <td>79</td>\n",
       "      <td>0.0</td>\n",
       "      <td>1.0</td>\n",
       "      <td>Up</td>\n",
       "      <td>0.0001</td>\n",
       "      <td>0.0001</td>\n",
       "      <td>0.0001</td>\n",
       "      <td>0.0001</td>\n",
       "    </tr>\n",
       "    <tr>\n",
       "      <th>Cell Cycle Mitotic</th>\n",
       "      <td>69</td>\n",
       "      <td>0.0</td>\n",
       "      <td>1.0</td>\n",
       "      <td>Up</td>\n",
       "      <td>0.0001</td>\n",
       "      <td>0.0001</td>\n",
       "      <td>0.0001</td>\n",
       "      <td>0.0001</td>\n",
       "    </tr>\n",
       "    <tr>\n",
       "      <th>Transcriptional Regulation by TP53</th>\n",
       "      <td>58</td>\n",
       "      <td>0.0</td>\n",
       "      <td>1.0</td>\n",
       "      <td>Up</td>\n",
       "      <td>0.0001</td>\n",
       "      <td>0.0001</td>\n",
       "      <td>0.0001</td>\n",
       "      <td>0.0001</td>\n",
       "    </tr>\n",
       "    <tr>\n",
       "      <th>Programmed Cell Death</th>\n",
       "      <td>56</td>\n",
       "      <td>0.0</td>\n",
       "      <td>1.0</td>\n",
       "      <td>Up</td>\n",
       "      <td>0.0001</td>\n",
       "      <td>0.0001</td>\n",
       "      <td>0.0001</td>\n",
       "      <td>0.0001</td>\n",
       "    </tr>\n",
       "    <tr>\n",
       "      <th>Signaling by Rho GTPases</th>\n",
       "      <td>49</td>\n",
       "      <td>0.0</td>\n",
       "      <td>1.0</td>\n",
       "      <td>Up</td>\n",
       "      <td>0.0001</td>\n",
       "      <td>0.0001</td>\n",
       "      <td>0.0001</td>\n",
       "      <td>0.0001</td>\n",
       "    </tr>\n",
       "    <tr>\n",
       "      <th>M Phase</th>\n",
       "      <td>48</td>\n",
       "      <td>0.0</td>\n",
       "      <td>1.0</td>\n",
       "      <td>Up</td>\n",
       "      <td>0.0001</td>\n",
       "      <td>0.0001</td>\n",
       "      <td>0.0001</td>\n",
       "      <td>0.0001</td>\n",
       "    </tr>\n",
       "  </tbody>\n",
       "</table>\n",
       "</div>"
      ],
      "text/plain": [
       "                                    NGenes  PropDown  PropUp Direction  \\\n",
       "Cell Cycle                              79       0.0     1.0        Up   \n",
       "Cell Cycle Mitotic                      69       0.0     1.0        Up   \n",
       "Transcriptional Regulation by TP53      58       0.0     1.0        Up   \n",
       "Programmed Cell Death                   56       0.0     1.0        Up   \n",
       "Signaling by Rho GTPases                49       0.0     1.0        Up   \n",
       "M Phase                                 48       0.0     1.0        Up   \n",
       "\n",
       "                                    PValue     FDR  PValue.Mixed  FDR.Mixed  \n",
       "Cell Cycle                          0.0001  0.0001        0.0001     0.0001  \n",
       "Cell Cycle Mitotic                  0.0001  0.0001        0.0001     0.0001  \n",
       "Transcriptional Regulation by TP53  0.0001  0.0001        0.0001     0.0001  \n",
       "Programmed Cell Death               0.0001  0.0001        0.0001     0.0001  \n",
       "Signaling by Rho GTPases            0.0001  0.0001        0.0001     0.0001  \n",
       "M Phase                             0.0001  0.0001        0.0001     0.0001  "
      ]
     },
     "execution_count": 40,
     "metadata": {},
     "output_type": "execute_result"
    }
   ],
   "source": [
    "%R -i log10_gene_matrix -i log10_gene_matrix_symbols\n",
    "%R head(gse(log10_gene_matrix, by_condition, 'Tuberculosis', c2.cp.reactome))"
   ]
  },
  {
   "cell_type": "code",
   "execution_count": 41,
   "metadata": {},
   "outputs": [
    {
     "data": {
      "text/html": [
       "<div>\n",
       "<style scoped>\n",
       "    .dataframe tbody tr th:only-of-type {\n",
       "        vertical-align: middle;\n",
       "    }\n",
       "\n",
       "    .dataframe tbody tr th {\n",
       "        vertical-align: top;\n",
       "    }\n",
       "\n",
       "    .dataframe thead th {\n",
       "        text-align: right;\n",
       "    }\n",
       "</style>\n",
       "<table border=\"1\" class=\"dataframe\">\n",
       "  <thead>\n",
       "    <tr style=\"text-align: right;\">\n",
       "      <th></th>\n",
       "      <th>NGenes</th>\n",
       "      <th>PropDown</th>\n",
       "      <th>PropUp</th>\n",
       "      <th>Direction</th>\n",
       "      <th>PValue</th>\n",
       "      <th>FDR</th>\n",
       "      <th>PValue.Mixed</th>\n",
       "      <th>FDR.Mixed</th>\n",
       "    </tr>\n",
       "  </thead>\n",
       "  <tbody>\n",
       "    <tr>\n",
       "      <th>Cell Cycle</th>\n",
       "      <td>69</td>\n",
       "      <td>0.0</td>\n",
       "      <td>1.0</td>\n",
       "      <td>Up</td>\n",
       "      <td>0.0001</td>\n",
       "      <td>0.0001</td>\n",
       "      <td>0.0001</td>\n",
       "      <td>0.0001</td>\n",
       "    </tr>\n",
       "    <tr>\n",
       "      <th>Cell Cycle, Mitotic</th>\n",
       "      <td>59</td>\n",
       "      <td>0.0</td>\n",
       "      <td>1.0</td>\n",
       "      <td>Up</td>\n",
       "      <td>0.0001</td>\n",
       "      <td>0.0001</td>\n",
       "      <td>0.0001</td>\n",
       "      <td>0.0001</td>\n",
       "    </tr>\n",
       "    <tr>\n",
       "      <th>Transcriptional Regulation by TP53</th>\n",
       "      <td>58</td>\n",
       "      <td>0.0</td>\n",
       "      <td>1.0</td>\n",
       "      <td>Up</td>\n",
       "      <td>0.0001</td>\n",
       "      <td>0.0001</td>\n",
       "      <td>0.0001</td>\n",
       "      <td>0.0001</td>\n",
       "    </tr>\n",
       "    <tr>\n",
       "      <th>Programmed Cell Death</th>\n",
       "      <td>56</td>\n",
       "      <td>0.0</td>\n",
       "      <td>1.0</td>\n",
       "      <td>Up</td>\n",
       "      <td>0.0001</td>\n",
       "      <td>0.0001</td>\n",
       "      <td>0.0001</td>\n",
       "      <td>0.0001</td>\n",
       "    </tr>\n",
       "    <tr>\n",
       "      <th>Apoptosis</th>\n",
       "      <td>55</td>\n",
       "      <td>0.0</td>\n",
       "      <td>1.0</td>\n",
       "      <td>Up</td>\n",
       "      <td>0.0001</td>\n",
       "      <td>0.0001</td>\n",
       "      <td>0.0001</td>\n",
       "      <td>0.0001</td>\n",
       "    </tr>\n",
       "    <tr>\n",
       "      <th>Signaling by VEGF</th>\n",
       "      <td>41</td>\n",
       "      <td>0.0</td>\n",
       "      <td>1.0</td>\n",
       "      <td>Up</td>\n",
       "      <td>0.0001</td>\n",
       "      <td>0.0001</td>\n",
       "      <td>0.0001</td>\n",
       "      <td>0.0001</td>\n",
       "    </tr>\n",
       "  </tbody>\n",
       "</table>\n",
       "</div>"
      ],
      "text/plain": [
       "                                    NGenes  PropDown  PropUp Direction  \\\n",
       "Cell Cycle                              69       0.0     1.0        Up   \n",
       "Cell Cycle, Mitotic                     59       0.0     1.0        Up   \n",
       "Transcriptional Regulation by TP53      58       0.0     1.0        Up   \n",
       "Programmed Cell Death                   56       0.0     1.0        Up   \n",
       "Apoptosis                               55       0.0     1.0        Up   \n",
       "Signaling by VEGF                       41       0.0     1.0        Up   \n",
       "\n",
       "                                    PValue     FDR  PValue.Mixed  FDR.Mixed  \n",
       "Cell Cycle                          0.0001  0.0001        0.0001     0.0001  \n",
       "Cell Cycle, Mitotic                 0.0001  0.0001        0.0001     0.0001  \n",
       "Transcriptional Regulation by TP53  0.0001  0.0001        0.0001     0.0001  \n",
       "Programmed Cell Death               0.0001  0.0001        0.0001     0.0001  \n",
       "Apoptosis                           0.0001  0.0001        0.0001     0.0001  \n",
       "Signaling by VEGF                   0.0001  0.0001        0.0001     0.0001  "
      ]
     },
     "execution_count": 41,
     "metadata": {},
     "output_type": "execute_result"
    }
   ],
   "source": [
    "%R head(gse(log10_gene_matrix_symbols, by_condition, 'Tuberculosis', reactome_full_symbol))"
   ]
  },
  {
   "cell_type": "markdown",
   "metadata": {},
   "source": [
    "## Camera (after limma with trend correction) is better suited for the imbalanced dataset"
   ]
  },
  {
   "cell_type": "markdown",
   "metadata": {},
   "source": [
    "- Because it is a competitive test.\n",
    "- because we take advantage of the mean-variance trend correction and robust statistics"
   ]
  },
  {
   "cell_type": "code",
   "execution_count": 42,
   "metadata": {},
   "outputs": [],
   "source": [
    "%%R\n",
    "camera = function(a, b, data, collection, design=by_condition, ...) {\n",
    "    result = diff_ebayes(a, b, data=data, conditions_vector=design, ...)\n",
    "    # using t-statistic\n",
    "    limma::cameraPR(result$t[, 1], collection)\n",
    "}"
   ]
  },
  {
   "cell_type": "markdown",
   "metadata": {},
   "source": [
    "TODO maybe use voom, maybe use normal camera: there are lessons learned during RNASeq analysis to be backported here"
   ]
  },
  {
   "cell_type": "code",
   "execution_count": 43,
   "metadata": {},
   "outputs": [],
   "source": [
    "%%R -o tb_log_msig\n",
    "tb_log_msig = camera('Tuberculosis', 'Healthy control', log10_gene_matrix, c2.cp.reactome)"
   ]
  },
  {
   "cell_type": "markdown",
   "metadata": {},
   "source": [
    "The new (7.x) version of MSigDB has not only updated the Reactome pathways, but also filtered them using correlation and distance from the root criteria; we also have much higher Entrez ID match rate (55.5 → 87%)."
   ]
  },
  {
   "cell_type": "code",
   "execution_count": 44,
   "metadata": {},
   "outputs": [
    {
     "data": {
      "text/html": [
       "<div>\n",
       "<style scoped>\n",
       "    .dataframe tbody tr th:only-of-type {\n",
       "        vertical-align: middle;\n",
       "    }\n",
       "\n",
       "    .dataframe tbody tr th {\n",
       "        vertical-align: top;\n",
       "    }\n",
       "\n",
       "    .dataframe thead th {\n",
       "        text-align: right;\n",
       "    }\n",
       "</style>\n",
       "<table border=\"1\" class=\"dataframe\">\n",
       "  <thead>\n",
       "    <tr style=\"text-align: right;\">\n",
       "      <th></th>\n",
       "      <th>NGenes</th>\n",
       "      <th>Direction</th>\n",
       "      <th>PValue</th>\n",
       "      <th>FDR</th>\n",
       "    </tr>\n",
       "  </thead>\n",
       "  <tbody>\n",
       "    <tr>\n",
       "      <th>Gene Silencing by RNA</th>\n",
       "      <td>14.0</td>\n",
       "      <td>Up</td>\n",
       "      <td>1.149155e-12</td>\n",
       "      <td>7.343098e-10</td>\n",
       "    </tr>\n",
       "    <tr>\n",
       "      <th>HDACs deacetylate histones</th>\n",
       "      <td>13.0</td>\n",
       "      <td>Up</td>\n",
       "      <td>4.659188e-12</td>\n",
       "      <td>1.035632e-09</td>\n",
       "    </tr>\n",
       "    <tr>\n",
       "      <th>Transcriptional regulation by small RNAs</th>\n",
       "      <td>13.0</td>\n",
       "      <td>Up</td>\n",
       "      <td>4.862124e-12</td>\n",
       "      <td>1.035632e-09</td>\n",
       "    </tr>\n",
       "    <tr>\n",
       "      <th>HATs acetylate histones</th>\n",
       "      <td>14.0</td>\n",
       "      <td>Up</td>\n",
       "      <td>2.080962e-11</td>\n",
       "      <td>2.145208e-09</td>\n",
       "    </tr>\n",
       "    <tr>\n",
       "      <th>RHO GTPases activate PKNs</th>\n",
       "      <td>20.0</td>\n",
       "      <td>Up</td>\n",
       "      <td>2.344796e-11</td>\n",
       "      <td>2.145208e-09</td>\n",
       "    </tr>\n",
       "    <tr>\n",
       "      <th>PRC2 methylates histones and DNA</th>\n",
       "      <td>12.0</td>\n",
       "      <td>Up</td>\n",
       "      <td>2.644541e-11</td>\n",
       "      <td>2.145208e-09</td>\n",
       "    </tr>\n",
       "    <tr>\n",
       "      <th>DNA methylation</th>\n",
       "      <td>12.0</td>\n",
       "      <td>Up</td>\n",
       "      <td>2.644541e-11</td>\n",
       "      <td>2.145208e-09</td>\n",
       "    </tr>\n",
       "    <tr>\n",
       "      <th>Activation of anterior HOX genes in hindbrain development during early embryogenesis</th>\n",
       "      <td>13.0</td>\n",
       "      <td>Up</td>\n",
       "      <td>2.685706e-11</td>\n",
       "      <td>2.145208e-09</td>\n",
       "    </tr>\n",
       "    <tr>\n",
       "      <th>RMTs methylate histone arginines</th>\n",
       "      <td>13.0</td>\n",
       "      <td>Up</td>\n",
       "      <td>6.956895e-11</td>\n",
       "      <td>4.939395e-09</td>\n",
       "    </tr>\n",
       "    <tr>\n",
       "      <th>HCMV Late Events</th>\n",
       "      <td>13.0</td>\n",
       "      <td>Up</td>\n",
       "      <td>9.361596e-11</td>\n",
       "      <td>5.468700e-09</td>\n",
       "    </tr>\n",
       "  </tbody>\n",
       "</table>\n",
       "</div>"
      ],
      "text/plain": [
       "                                                    NGenes Direction  \\\n",
       "Gene Silencing by RNA                                 14.0        Up   \n",
       "HDACs deacetylate histones                            13.0        Up   \n",
       "Transcriptional regulation by small RNAs              13.0        Up   \n",
       "HATs acetylate histones                               14.0        Up   \n",
       "RHO GTPases activate PKNs                             20.0        Up   \n",
       "PRC2 methylates histones and DNA                      12.0        Up   \n",
       "DNA methylation                                       12.0        Up   \n",
       "Activation of anterior HOX genes in hindbrain d...    13.0        Up   \n",
       "RMTs methylate histone arginines                      13.0        Up   \n",
       "HCMV Late Events                                      13.0        Up   \n",
       "\n",
       "                                                          PValue           FDR  \n",
       "Gene Silencing by RNA                               1.149155e-12  7.343098e-10  \n",
       "HDACs deacetylate histones                          4.659188e-12  1.035632e-09  \n",
       "Transcriptional regulation by small RNAs            4.862124e-12  1.035632e-09  \n",
       "HATs acetylate histones                             2.080962e-11  2.145208e-09  \n",
       "RHO GTPases activate PKNs                           2.344796e-11  2.145208e-09  \n",
       "PRC2 methylates histones and DNA                    2.644541e-11  2.145208e-09  \n",
       "DNA methylation                                     2.644541e-11  2.145208e-09  \n",
       "Activation of anterior HOX genes in hindbrain d...  2.685706e-11  2.145208e-09  \n",
       "RMTs methylate histone arginines                    6.956895e-11  4.939395e-09  \n",
       "HCMV Late Events                                    9.361596e-11  5.468700e-09  "
      ]
     },
     "execution_count": 44,
     "metadata": {},
     "output_type": "execute_result"
    }
   ],
   "source": [
    "tb_log_msig.head(10)"
   ]
  },
  {
   "cell_type": "code",
   "execution_count": 45,
   "metadata": {},
   "outputs": [],
   "source": [
    "%%R -o tb_log_full\n",
    "tb_log_full = camera('Tuberculosis', 'Healthy control', log10_gene_matrix_symbols, reactome_full_symbol)"
   ]
  },
  {
   "cell_type": "code",
   "execution_count": 46,
   "metadata": {},
   "outputs": [
    {
     "data": {
      "text/html": [
       "<div>\n",
       "<style scoped>\n",
       "    .dataframe tbody tr th:only-of-type {\n",
       "        vertical-align: middle;\n",
       "    }\n",
       "\n",
       "    .dataframe tbody tr th {\n",
       "        vertical-align: top;\n",
       "    }\n",
       "\n",
       "    .dataframe thead th {\n",
       "        text-align: right;\n",
       "    }\n",
       "</style>\n",
       "<table border=\"1\" class=\"dataframe\">\n",
       "  <thead>\n",
       "    <tr style=\"text-align: right;\">\n",
       "      <th></th>\n",
       "      <th>NGenes</th>\n",
       "      <th>Direction</th>\n",
       "      <th>PValue</th>\n",
       "      <th>FDR</th>\n",
       "    </tr>\n",
       "  </thead>\n",
       "  <tbody>\n",
       "    <tr>\n",
       "      <th>Signaling by Rho GTPases</th>\n",
       "      <td>39.0</td>\n",
       "      <td>Up</td>\n",
       "      <td>0.000170</td>\n",
       "      <td>0.051507</td>\n",
       "    </tr>\n",
       "    <tr>\n",
       "      <th>Activation of BAD and translocation to mitochondria</th>\n",
       "      <td>12.0</td>\n",
       "      <td>Up</td>\n",
       "      <td>0.000210</td>\n",
       "      <td>0.051507</td>\n",
       "    </tr>\n",
       "    <tr>\n",
       "      <th>Cell Cycle</th>\n",
       "      <td>69.0</td>\n",
       "      <td>Up</td>\n",
       "      <td>0.000241</td>\n",
       "      <td>0.051507</td>\n",
       "    </tr>\n",
       "    <tr>\n",
       "      <th>Neutrophil degranulation</th>\n",
       "      <td>128.0</td>\n",
       "      <td>Up</td>\n",
       "      <td>0.000271</td>\n",
       "      <td>0.051507</td>\n",
       "    </tr>\n",
       "    <tr>\n",
       "      <th>Heparan sulfate/heparin (HS-GAG) metabolism</th>\n",
       "      <td>10.0</td>\n",
       "      <td>Down</td>\n",
       "      <td>0.000344</td>\n",
       "      <td>0.052318</td>\n",
       "    </tr>\n",
       "    <tr>\n",
       "      <th>Glycosaminoglycan metabolism</th>\n",
       "      <td>20.0</td>\n",
       "      <td>Down</td>\n",
       "      <td>0.000552</td>\n",
       "      <td>0.052743</td>\n",
       "    </tr>\n",
       "    <tr>\n",
       "      <th>Chondroitin sulfate/dermatan sulfate metabolism</th>\n",
       "      <td>11.0</td>\n",
       "      <td>Down</td>\n",
       "      <td>0.000723</td>\n",
       "      <td>0.052743</td>\n",
       "    </tr>\n",
       "    <tr>\n",
       "      <th>Intrinsic Pathway for Apoptosis</th>\n",
       "      <td>25.0</td>\n",
       "      <td>Up</td>\n",
       "      <td>0.000749</td>\n",
       "      <td>0.052743</td>\n",
       "    </tr>\n",
       "    <tr>\n",
       "      <th>Apoptosis</th>\n",
       "      <td>55.0</td>\n",
       "      <td>Up</td>\n",
       "      <td>0.000793</td>\n",
       "      <td>0.052743</td>\n",
       "    </tr>\n",
       "    <tr>\n",
       "      <th>RHO GTPase Effectors</th>\n",
       "      <td>35.0</td>\n",
       "      <td>Up</td>\n",
       "      <td>0.000803</td>\n",
       "      <td>0.052743</td>\n",
       "    </tr>\n",
       "  </tbody>\n",
       "</table>\n",
       "</div>"
      ],
      "text/plain": [
       "                                                    NGenes Direction  \\\n",
       "Signaling by Rho GTPases                              39.0        Up   \n",
       "Activation of BAD and translocation to mitochon...    12.0        Up   \n",
       "Cell Cycle                                            69.0        Up   \n",
       "Neutrophil degranulation                             128.0        Up   \n",
       "Heparan sulfate/heparin (HS-GAG) metabolism           10.0      Down   \n",
       "Glycosaminoglycan metabolism                          20.0      Down   \n",
       "Chondroitin sulfate/dermatan sulfate metabolism       11.0      Down   \n",
       "Intrinsic Pathway for Apoptosis                       25.0        Up   \n",
       "Apoptosis                                             55.0        Up   \n",
       "RHO GTPase Effectors                                  35.0        Up   \n",
       "\n",
       "                                                      PValue       FDR  \n",
       "Signaling by Rho GTPases                            0.000170  0.051507  \n",
       "Activation of BAD and translocation to mitochon...  0.000210  0.051507  \n",
       "Cell Cycle                                          0.000241  0.051507  \n",
       "Neutrophil degranulation                            0.000271  0.051507  \n",
       "Heparan sulfate/heparin (HS-GAG) metabolism         0.000344  0.052318  \n",
       "Glycosaminoglycan metabolism                        0.000552  0.052743  \n",
       "Chondroitin sulfate/dermatan sulfate metabolism     0.000723  0.052743  \n",
       "Intrinsic Pathway for Apoptosis                     0.000749  0.052743  \n",
       "Apoptosis                                           0.000793  0.052743  \n",
       "RHO GTPase Effectors                                0.000803  0.052743  "
      ]
     },
     "execution_count": 46,
     "metadata": {},
     "output_type": "execute_result"
    }
   ],
   "source": [
    "tb_log_full.head(10)"
   ]
  },
  {
   "cell_type": "markdown",
   "metadata": {},
   "source": [
    "Some familiar names here:\n",
    " - \"Activation of BAD and translocation to mitochondria\", \"Cell Cycle\" (highlighted by ORA)\n",
    " - RHO GTPase and Neutrophil degranulation - there are frequent mentions in context of TB"
   ]
  },
  {
   "cell_type": "markdown",
   "metadata": {},
   "source": [
    "Note:\n",
    "- Using the full Reactome dataset has an comparable number of genes mapped to the pathways: 86% vs 87% (in older MSigDB version 6.1 this was as low as <s>55%</s>)\n",
    "- but it might introduce too similar (correlated) gene sets which skew the results of tests - which is not the case for the curated collections\n",
    "- when an agreement between the two methods is reached, we can rest assured that the results are correct"
   ]
  },
  {
   "cell_type": "code",
   "execution_count": 47,
   "metadata": {},
   "outputs": [],
   "source": [
    "def agreement(a, b, cutoff=0.1):\n",
    "    a = copy(a)\n",
    "    b = copy(b)\n",
    "    b['name'] = b.index\n",
    "    a.index = a.index.str.lower()\n",
    "    b.index = b.index.str.lower()\n",
    "    for d in [a, b]:\n",
    "        # this code wants to be rewritten to a regexpr\n",
    "        d.index = d.index.map(lambda x: ''.join([\n",
    "            c if c.isalnum() or c.isspace() else ' '\n",
    "            for c in x\n",
    "        ]).replace('  ', ' ').replace('  ', ' '))\n",
    "    agreement = set(a[a.FDR < cutoff].index) & set(b[b.FDR < cutoff].index)\n",
    "    return a.loc[agreement].merge(b.loc[agreement], left_index=True, right_index=True).sort_values('FDR_y').set_index('name')"
   ]
  },
  {
   "cell_type": "code",
   "execution_count": 48,
   "metadata": {},
   "outputs": [
    {
     "data": {
      "text/html": [
       "<div>\n",
       "<style scoped>\n",
       "    .dataframe tbody tr th:only-of-type {\n",
       "        vertical-align: middle;\n",
       "    }\n",
       "\n",
       "    .dataframe tbody tr th {\n",
       "        vertical-align: top;\n",
       "    }\n",
       "\n",
       "    .dataframe thead th {\n",
       "        text-align: right;\n",
       "    }\n",
       "</style>\n",
       "<table border=\"1\" class=\"dataframe\">\n",
       "  <thead>\n",
       "    <tr style=\"text-align: right;\">\n",
       "      <th></th>\n",
       "      <th>NGenes_x</th>\n",
       "      <th>Direction_x</th>\n",
       "      <th>PValue_x</th>\n",
       "      <th>FDR_x</th>\n",
       "      <th>NGenes_y</th>\n",
       "      <th>Direction_y</th>\n",
       "      <th>PValue_y</th>\n",
       "      <th>FDR_y</th>\n",
       "    </tr>\n",
       "    <tr>\n",
       "      <th>name</th>\n",
       "      <th></th>\n",
       "      <th></th>\n",
       "      <th></th>\n",
       "      <th></th>\n",
       "      <th></th>\n",
       "      <th></th>\n",
       "      <th></th>\n",
       "      <th></th>\n",
       "    </tr>\n",
       "  </thead>\n",
       "  <tbody>\n",
       "    <tr>\n",
       "      <th>Neutrophil degranulation</th>\n",
       "      <td>129.0</td>\n",
       "      <td>Up</td>\n",
       "      <td>2.417761e-04</td>\n",
       "      <td>2.971056e-03</td>\n",
       "      <td>128.0</td>\n",
       "      <td>Up</td>\n",
       "      <td>0.000271</td>\n",
       "      <td>0.051507</td>\n",
       "    </tr>\n",
       "    <tr>\n",
       "      <th>Signaling by Rho GTPases</th>\n",
       "      <td>49.0</td>\n",
       "      <td>Up</td>\n",
       "      <td>4.301442e-09</td>\n",
       "      <td>9.478005e-08</td>\n",
       "      <td>39.0</td>\n",
       "      <td>Up</td>\n",
       "      <td>0.000170</td>\n",
       "      <td>0.051507</td>\n",
       "    </tr>\n",
       "    <tr>\n",
       "      <th>Cell Cycle</th>\n",
       "      <td>79.0</td>\n",
       "      <td>Up</td>\n",
       "      <td>1.310838e-07</td>\n",
       "      <td>2.204277e-06</td>\n",
       "      <td>69.0</td>\n",
       "      <td>Up</td>\n",
       "      <td>0.000241</td>\n",
       "      <td>0.051507</td>\n",
       "    </tr>\n",
       "    <tr>\n",
       "      <th>Activation of BAD and translocation to mitochondria</th>\n",
       "      <td>12.0</td>\n",
       "      <td>Up</td>\n",
       "      <td>2.038413e-04</td>\n",
       "      <td>2.605092e-03</td>\n",
       "      <td>12.0</td>\n",
       "      <td>Up</td>\n",
       "      <td>0.000210</td>\n",
       "      <td>0.051507</td>\n",
       "    </tr>\n",
       "    <tr>\n",
       "      <th>Heparan sulfate/heparin (HS-GAG) metabolism</th>\n",
       "      <td>10.0</td>\n",
       "      <td>Down</td>\n",
       "      <td>3.399709e-04</td>\n",
       "      <td>3.949844e-03</td>\n",
       "      <td>10.0</td>\n",
       "      <td>Down</td>\n",
       "      <td>0.000344</td>\n",
       "      <td>0.052318</td>\n",
       "    </tr>\n",
       "    <tr>\n",
       "      <th>...</th>\n",
       "      <td>...</td>\n",
       "      <td>...</td>\n",
       "      <td>...</td>\n",
       "      <td>...</td>\n",
       "      <td>...</td>\n",
       "      <td>...</td>\n",
       "      <td>...</td>\n",
       "      <td>...</td>\n",
       "    </tr>\n",
       "    <tr>\n",
       "      <th>Costimulation by the CD28 family</th>\n",
       "      <td>28.0</td>\n",
       "      <td>Up</td>\n",
       "      <td>2.538081e-03</td>\n",
       "      <td>2.191668e-02</td>\n",
       "      <td>28.0</td>\n",
       "      <td>Up</td>\n",
       "      <td>0.002603</td>\n",
       "      <td>0.079130</td>\n",
       "    </tr>\n",
       "    <tr>\n",
       "      <th>Signaling by the B Cell Receptor (BCR)</th>\n",
       "      <td>27.0</td>\n",
       "      <td>Up</td>\n",
       "      <td>2.453618e-03</td>\n",
       "      <td>2.163976e-02</td>\n",
       "      <td>27.0</td>\n",
       "      <td>Up</td>\n",
       "      <td>0.002515</td>\n",
       "      <td>0.079130</td>\n",
       "    </tr>\n",
       "    <tr>\n",
       "      <th>Translocation of SLC2A4 (GLUT4) to the plasma membrane</th>\n",
       "      <td>12.0</td>\n",
       "      <td>Up</td>\n",
       "      <td>2.276106e-03</td>\n",
       "      <td>2.048496e-02</td>\n",
       "      <td>12.0</td>\n",
       "      <td>Up</td>\n",
       "      <td>0.002328</td>\n",
       "      <td>0.079130</td>\n",
       "    </tr>\n",
       "    <tr>\n",
       "      <th>HS-GAG degradation</th>\n",
       "      <td>6.0</td>\n",
       "      <td>Down</td>\n",
       "      <td>2.472148e-03</td>\n",
       "      <td>2.163976e-02</td>\n",
       "      <td>6.0</td>\n",
       "      <td>Down</td>\n",
       "      <td>0.002496</td>\n",
       "      <td>0.079130</td>\n",
       "    </tr>\n",
       "    <tr>\n",
       "      <th>Cellular response to heat stress</th>\n",
       "      <td>17.0</td>\n",
       "      <td>Up</td>\n",
       "      <td>3.476806e-03</td>\n",
       "      <td>2.962238e-02</td>\n",
       "      <td>16.0</td>\n",
       "      <td>Up</td>\n",
       "      <td>0.003230</td>\n",
       "      <td>0.094420</td>\n",
       "    </tr>\n",
       "  </tbody>\n",
       "</table>\n",
       "<p>25 rows × 8 columns</p>\n",
       "</div>"
      ],
      "text/plain": [
       "                                                    NGenes_x Direction_x  \\\n",
       "name                                                                       \n",
       "Neutrophil degranulation                               129.0          Up   \n",
       "Signaling by Rho GTPases                                49.0          Up   \n",
       "Cell Cycle                                              79.0          Up   \n",
       "Activation of BAD and translocation to mitochon...      12.0          Up   \n",
       "Heparan sulfate/heparin (HS-GAG) metabolism             10.0        Down   \n",
       "...                                                      ...         ...   \n",
       "Costimulation by the CD28 family                        28.0          Up   \n",
       "Signaling by the B Cell Receptor (BCR)                  27.0          Up   \n",
       "Translocation of SLC2A4 (GLUT4) to the plasma m...      12.0          Up   \n",
       "HS-GAG degradation                                       6.0        Down   \n",
       "Cellular response to heat stress                        17.0          Up   \n",
       "\n",
       "                                                        PValue_x  \\\n",
       "name                                                               \n",
       "Neutrophil degranulation                            2.417761e-04   \n",
       "Signaling by Rho GTPases                            4.301442e-09   \n",
       "Cell Cycle                                          1.310838e-07   \n",
       "Activation of BAD and translocation to mitochon...  2.038413e-04   \n",
       "Heparan sulfate/heparin (HS-GAG) metabolism         3.399709e-04   \n",
       "...                                                          ...   \n",
       "Costimulation by the CD28 family                    2.538081e-03   \n",
       "Signaling by the B Cell Receptor (BCR)              2.453618e-03   \n",
       "Translocation of SLC2A4 (GLUT4) to the plasma m...  2.276106e-03   \n",
       "HS-GAG degradation                                  2.472148e-03   \n",
       "Cellular response to heat stress                    3.476806e-03   \n",
       "\n",
       "                                                           FDR_x  NGenes_y  \\\n",
       "name                                                                         \n",
       "Neutrophil degranulation                            2.971056e-03     128.0   \n",
       "Signaling by Rho GTPases                            9.478005e-08      39.0   \n",
       "Cell Cycle                                          2.204277e-06      69.0   \n",
       "Activation of BAD and translocation to mitochon...  2.605092e-03      12.0   \n",
       "Heparan sulfate/heparin (HS-GAG) metabolism         3.949844e-03      10.0   \n",
       "...                                                          ...       ...   \n",
       "Costimulation by the CD28 family                    2.191668e-02      28.0   \n",
       "Signaling by the B Cell Receptor (BCR)              2.163976e-02      27.0   \n",
       "Translocation of SLC2A4 (GLUT4) to the plasma m...  2.048496e-02      12.0   \n",
       "HS-GAG degradation                                  2.163976e-02       6.0   \n",
       "Cellular response to heat stress                    2.962238e-02      16.0   \n",
       "\n",
       "                                                   Direction_y  PValue_y  \\\n",
       "name                                                                       \n",
       "Neutrophil degranulation                                    Up  0.000271   \n",
       "Signaling by Rho GTPases                                    Up  0.000170   \n",
       "Cell Cycle                                                  Up  0.000241   \n",
       "Activation of BAD and translocation to mitochon...          Up  0.000210   \n",
       "Heparan sulfate/heparin (HS-GAG) metabolism               Down  0.000344   \n",
       "...                                                        ...       ...   \n",
       "Costimulation by the CD28 family                            Up  0.002603   \n",
       "Signaling by the B Cell Receptor (BCR)                      Up  0.002515   \n",
       "Translocation of SLC2A4 (GLUT4) to the plasma m...          Up  0.002328   \n",
       "HS-GAG degradation                                        Down  0.002496   \n",
       "Cellular response to heat stress                            Up  0.003230   \n",
       "\n",
       "                                                       FDR_y  \n",
       "name                                                          \n",
       "Neutrophil degranulation                            0.051507  \n",
       "Signaling by Rho GTPases                            0.051507  \n",
       "Cell Cycle                                          0.051507  \n",
       "Activation of BAD and translocation to mitochon...  0.051507  \n",
       "Heparan sulfate/heparin (HS-GAG) metabolism         0.052318  \n",
       "...                                                      ...  \n",
       "Costimulation by the CD28 family                    0.079130  \n",
       "Signaling by the B Cell Receptor (BCR)              0.079130  \n",
       "Translocation of SLC2A4 (GLUT4) to the plasma m...  0.079130  \n",
       "HS-GAG degradation                                  0.079130  \n",
       "Cellular response to heat stress                    0.094420  \n",
       "\n",
       "[25 rows x 8 columns]"
      ]
     },
     "execution_count": 48,
     "metadata": {},
     "output_type": "execute_result"
    }
   ],
   "source": [
    "tb_log_agreement = agreement(tb_log_msig, tb_log_full, cutoff=0.1)\n",
    "tb_log_agreement"
   ]
  },
  {
   "cell_type": "code",
   "execution_count": 49,
   "metadata": {},
   "outputs": [],
   "source": [
    "%R import::here(barplot, .from='plots/differential_expression.R')"
   ]
  },
  {
   "cell_type": "code",
   "execution_count": 50,
   "metadata": {},
   "outputs": [
    {
     "data": {
      "image/png": "[encoded data removed]"
     },
     "metadata": {},
     "output_type": "display_data"
    }
   ],
   "source": [
    "%%R -w 1000 -u px -i tb_log_agreement\n",
    "sets_of_interest = rownames(tb_log_agreement)\n",
    "result = diff_ebayes('Tuberculosis', 'Healthy control', log10_gene_matrix_symbols)\n",
    "barplot(result$t[, 1], sets_of_interest, reactome_full_symbol)"
   ]
  },
  {
   "cell_type": "code",
   "execution_count": 51,
   "metadata": {},
   "outputs": [
    {
     "data": {
      "image/png": "[encoded data removed]"
     },
     "metadata": {},
     "output_type": "display_data"
    }
   ],
   "source": [
    "%%R -w 1000 -u px\n",
    "barplot(rowMeans(log10_gene_matrix_symbols), sets_of_interest, reactome_full_symbol)"
   ]
  },
  {
   "cell_type": "markdown",
   "metadata": {},
   "source": [
    "### TB vs crypto"
   ]
  },
  {
   "cell_type": "code",
   "execution_count": 52,
   "metadata": {},
   "outputs": [],
   "source": [
    "%%R -o tb_cc_log_msig\n",
    "tb_cc_log_msig = camera('Tuberculosis', 'Cryptococcal', log10_gene_matrix, c2.cp.reactome, intercept='Healthy.control')"
   ]
  },
  {
   "cell_type": "code",
   "execution_count": 53,
   "metadata": {},
   "outputs": [
    {
     "data": {
      "text/html": [
       "<div>\n",
       "<style scoped>\n",
       "    .dataframe tbody tr th:only-of-type {\n",
       "        vertical-align: middle;\n",
       "    }\n",
       "\n",
       "    .dataframe tbody tr th {\n",
       "        vertical-align: top;\n",
       "    }\n",
       "\n",
       "    .dataframe thead th {\n",
       "        text-align: right;\n",
       "    }\n",
       "</style>\n",
       "<table border=\"1\" class=\"dataframe\">\n",
       "  <thead>\n",
       "    <tr style=\"text-align: right;\">\n",
       "      <th></th>\n",
       "      <th>NGenes</th>\n",
       "      <th>Direction</th>\n",
       "      <th>PValue</th>\n",
       "      <th>FDR</th>\n",
       "    </tr>\n",
       "  </thead>\n",
       "  <tbody>\n",
       "    <tr>\n",
       "      <th>Cell Cycle</th>\n",
       "      <td>79.0</td>\n",
       "      <td>Up</td>\n",
       "      <td>1.495939e-07</td>\n",
       "      <td>0.000026</td>\n",
       "    </tr>\n",
       "    <tr>\n",
       "      <th>Cell Cycle Mitotic</th>\n",
       "      <td>69.0</td>\n",
       "      <td>Up</td>\n",
       "      <td>2.330103e-07</td>\n",
       "      <td>0.000026</td>\n",
       "    </tr>\n",
       "    <tr>\n",
       "      <th>Chromatin modifying enzymes</th>\n",
       "      <td>18.0</td>\n",
       "      <td>Up</td>\n",
       "      <td>2.661106e-07</td>\n",
       "      <td>0.000026</td>\n",
       "    </tr>\n",
       "    <tr>\n",
       "      <th>RMTs methylate histone arginines</th>\n",
       "      <td>13.0</td>\n",
       "      <td>Up</td>\n",
       "      <td>3.947302e-07</td>\n",
       "      <td>0.000026</td>\n",
       "    </tr>\n",
       "    <tr>\n",
       "      <th>HATs acetylate histones</th>\n",
       "      <td>14.0</td>\n",
       "      <td>Up</td>\n",
       "      <td>4.488237e-07</td>\n",
       "      <td>0.000026</td>\n",
       "    </tr>\n",
       "    <tr>\n",
       "      <th>B-WICH complex positively regulates rRNA expression</th>\n",
       "      <td>14.0</td>\n",
       "      <td>Up</td>\n",
       "      <td>4.767700e-07</td>\n",
       "      <td>0.000026</td>\n",
       "    </tr>\n",
       "    <tr>\n",
       "      <th>M Phase</th>\n",
       "      <td>48.0</td>\n",
       "      <td>Up</td>\n",
       "      <td>5.347536e-07</td>\n",
       "      <td>0.000026</td>\n",
       "    </tr>\n",
       "    <tr>\n",
       "      <th>PRC2 methylates histones and DNA</th>\n",
       "      <td>12.0</td>\n",
       "      <td>Up</td>\n",
       "      <td>5.350905e-07</td>\n",
       "      <td>0.000026</td>\n",
       "    </tr>\n",
       "    <tr>\n",
       "      <th>DNA methylation</th>\n",
       "      <td>12.0</td>\n",
       "      <td>Up</td>\n",
       "      <td>5.350905e-07</td>\n",
       "      <td>0.000026</td>\n",
       "    </tr>\n",
       "    <tr>\n",
       "      <th>RNA Polymerase I Promoter Escape</th>\n",
       "      <td>13.0</td>\n",
       "      <td>Up</td>\n",
       "      <td>5.770761e-07</td>\n",
       "      <td>0.000026</td>\n",
       "    </tr>\n",
       "  </tbody>\n",
       "</table>\n",
       "</div>"
      ],
      "text/plain": [
       "                                                    NGenes Direction  \\\n",
       "Cell Cycle                                            79.0        Up   \n",
       "Cell Cycle Mitotic                                    69.0        Up   \n",
       "Chromatin modifying enzymes                           18.0        Up   \n",
       "RMTs methylate histone arginines                      13.0        Up   \n",
       "HATs acetylate histones                               14.0        Up   \n",
       "B-WICH complex positively regulates rRNA expres...    14.0        Up   \n",
       "M Phase                                               48.0        Up   \n",
       "PRC2 methylates histones and DNA                      12.0        Up   \n",
       "DNA methylation                                       12.0        Up   \n",
       "RNA Polymerase I Promoter Escape                      13.0        Up   \n",
       "\n",
       "                                                          PValue       FDR  \n",
       "Cell Cycle                                          1.495939e-07  0.000026  \n",
       "Cell Cycle Mitotic                                  2.330103e-07  0.000026  \n",
       "Chromatin modifying enzymes                         2.661106e-07  0.000026  \n",
       "RMTs methylate histone arginines                    3.947302e-07  0.000026  \n",
       "HATs acetylate histones                             4.488237e-07  0.000026  \n",
       "B-WICH complex positively regulates rRNA expres...  4.767700e-07  0.000026  \n",
       "M Phase                                             5.347536e-07  0.000026  \n",
       "PRC2 methylates histones and DNA                    5.350905e-07  0.000026  \n",
       "DNA methylation                                     5.350905e-07  0.000026  \n",
       "RNA Polymerase I Promoter Escape                    5.770761e-07  0.000026  "
      ]
     },
     "execution_count": 53,
     "metadata": {},
     "output_type": "execute_result"
    }
   ],
   "source": [
    "tb_cc_log_msig.head(10)"
   ]
  },
  {
   "cell_type": "code",
   "execution_count": 54,
   "metadata": {},
   "outputs": [],
   "source": [
    "%%R -o tb_cc_log_full\n",
    "tb_cc_log_full = camera('Tuberculosis', 'Cryptococcal', log10_gene_matrix_symbols, reactome_full_symbol, intercept='Healthy.control')"
   ]
  },
  {
   "cell_type": "code",
   "execution_count": 55,
   "metadata": {},
   "outputs": [
    {
     "data": {
      "text/html": [
       "<div>\n",
       "<style scoped>\n",
       "    .dataframe tbody tr th:only-of-type {\n",
       "        vertical-align: middle;\n",
       "    }\n",
       "\n",
       "    .dataframe tbody tr th {\n",
       "        vertical-align: top;\n",
       "    }\n",
       "\n",
       "    .dataframe thead th {\n",
       "        text-align: right;\n",
       "    }\n",
       "</style>\n",
       "<table border=\"1\" class=\"dataframe\">\n",
       "  <thead>\n",
       "    <tr style=\"text-align: right;\">\n",
       "      <th></th>\n",
       "      <th>NGenes</th>\n",
       "      <th>Direction</th>\n",
       "      <th>PValue</th>\n",
       "      <th>FDR</th>\n",
       "    </tr>\n",
       "  </thead>\n",
       "  <tbody>\n",
       "    <tr>\n",
       "      <th>Cell Cycle</th>\n",
       "      <td>69.0</td>\n",
       "      <td>Up</td>\n",
       "      <td>0.000020</td>\n",
       "      <td>0.013337</td>\n",
       "    </tr>\n",
       "    <tr>\n",
       "      <th>Cell Cycle, Mitotic</th>\n",
       "      <td>59.0</td>\n",
       "      <td>Up</td>\n",
       "      <td>0.000042</td>\n",
       "      <td>0.013337</td>\n",
       "    </tr>\n",
       "    <tr>\n",
       "      <th>Peptide hormone biosynthesis</th>\n",
       "      <td>8.0</td>\n",
       "      <td>Down</td>\n",
       "      <td>0.000053</td>\n",
       "      <td>0.013337</td>\n",
       "    </tr>\n",
       "    <tr>\n",
       "      <th>Glycoprotein hormones</th>\n",
       "      <td>7.0</td>\n",
       "      <td>Down</td>\n",
       "      <td>0.000117</td>\n",
       "      <td>0.022279</td>\n",
       "    </tr>\n",
       "    <tr>\n",
       "      <th>Assembly of collagen fibrils and other multimeric structures</th>\n",
       "      <td>10.0</td>\n",
       "      <td>Down</td>\n",
       "      <td>0.000198</td>\n",
       "      <td>0.030149</td>\n",
       "    </tr>\n",
       "    <tr>\n",
       "      <th>M Phase</th>\n",
       "      <td>38.0</td>\n",
       "      <td>Up</td>\n",
       "      <td>0.000254</td>\n",
       "      <td>0.032130</td>\n",
       "    </tr>\n",
       "    <tr>\n",
       "      <th>Signaling by Rho GTPases</th>\n",
       "      <td>39.0</td>\n",
       "      <td>Up</td>\n",
       "      <td>0.000375</td>\n",
       "      <td>0.040083</td>\n",
       "    </tr>\n",
       "    <tr>\n",
       "      <th>CREB1 phosphorylation through NMDA receptor-mediated activation of RAS signaling</th>\n",
       "      <td>8.0</td>\n",
       "      <td>Up</td>\n",
       "      <td>0.000442</td>\n",
       "      <td>0.040083</td>\n",
       "    </tr>\n",
       "    <tr>\n",
       "      <th>Signaling by SCF-KIT</th>\n",
       "      <td>24.0</td>\n",
       "      <td>Up</td>\n",
       "      <td>0.000475</td>\n",
       "      <td>0.040083</td>\n",
       "    </tr>\n",
       "    <tr>\n",
       "      <th>Collagen degradation</th>\n",
       "      <td>17.0</td>\n",
       "      <td>Down</td>\n",
       "      <td>0.000812</td>\n",
       "      <td>0.061497</td>\n",
       "    </tr>\n",
       "  </tbody>\n",
       "</table>\n",
       "</div>"
      ],
      "text/plain": [
       "                                                    NGenes Direction  \\\n",
       "Cell Cycle                                            69.0        Up   \n",
       "Cell Cycle, Mitotic                                   59.0        Up   \n",
       "Peptide hormone biosynthesis                           8.0      Down   \n",
       "Glycoprotein hormones                                  7.0      Down   \n",
       "Assembly of collagen fibrils and other multimer...    10.0      Down   \n",
       "M Phase                                               38.0        Up   \n",
       "Signaling by Rho GTPases                              39.0        Up   \n",
       "CREB1 phosphorylation through NMDA receptor-med...     8.0        Up   \n",
       "Signaling by SCF-KIT                                  24.0        Up   \n",
       "Collagen degradation                                  17.0      Down   \n",
       "\n",
       "                                                      PValue       FDR  \n",
       "Cell Cycle                                          0.000020  0.013337  \n",
       "Cell Cycle, Mitotic                                 0.000042  0.013337  \n",
       "Peptide hormone biosynthesis                        0.000053  0.013337  \n",
       "Glycoprotein hormones                               0.000117  0.022279  \n",
       "Assembly of collagen fibrils and other multimer...  0.000198  0.030149  \n",
       "M Phase                                             0.000254  0.032130  \n",
       "Signaling by Rho GTPases                            0.000375  0.040083  \n",
       "CREB1 phosphorylation through NMDA receptor-med...  0.000442  0.040083  \n",
       "Signaling by SCF-KIT                                0.000475  0.040083  \n",
       "Collagen degradation                                0.000812  0.061497  "
      ]
     },
     "execution_count": 55,
     "metadata": {},
     "output_type": "execute_result"
    }
   ],
   "source": [
    "tb_cc_log_full.head(10)"
   ]
  },
  {
   "cell_type": "code",
   "execution_count": 56,
   "metadata": {},
   "outputs": [
    {
     "data": {
      "text/html": [
       "<div>\n",
       "<style scoped>\n",
       "    .dataframe tbody tr th:only-of-type {\n",
       "        vertical-align: middle;\n",
       "    }\n",
       "\n",
       "    .dataframe tbody tr th {\n",
       "        vertical-align: top;\n",
       "    }\n",
       "\n",
       "    .dataframe thead th {\n",
       "        text-align: right;\n",
       "    }\n",
       "</style>\n",
       "<table border=\"1\" class=\"dataframe\">\n",
       "  <thead>\n",
       "    <tr style=\"text-align: right;\">\n",
       "      <th></th>\n",
       "      <th>NGenes_x</th>\n",
       "      <th>Direction_x</th>\n",
       "      <th>PValue_x</th>\n",
       "      <th>FDR_x</th>\n",
       "      <th>NGenes_y</th>\n",
       "      <th>Direction_y</th>\n",
       "      <th>PValue_y</th>\n",
       "      <th>FDR_y</th>\n",
       "    </tr>\n",
       "    <tr>\n",
       "      <th>name</th>\n",
       "      <th></th>\n",
       "      <th></th>\n",
       "      <th></th>\n",
       "      <th></th>\n",
       "      <th></th>\n",
       "      <th></th>\n",
       "      <th></th>\n",
       "      <th></th>\n",
       "    </tr>\n",
       "  </thead>\n",
       "  <tbody>\n",
       "    <tr>\n",
       "      <th>Peptide hormone biosynthesis</th>\n",
       "      <td>8.0</td>\n",
       "      <td>Down</td>\n",
       "      <td>5.207938e-05</td>\n",
       "      <td>0.000723</td>\n",
       "      <td>8.0</td>\n",
       "      <td>Down</td>\n",
       "      <td>0.000053</td>\n",
       "      <td>0.013337</td>\n",
       "    </tr>\n",
       "    <tr>\n",
       "      <th>Cell Cycle</th>\n",
       "      <td>79.0</td>\n",
       "      <td>Up</td>\n",
       "      <td>1.495939e-07</td>\n",
       "      <td>0.000026</td>\n",
       "      <td>69.0</td>\n",
       "      <td>Up</td>\n",
       "      <td>0.000020</td>\n",
       "      <td>0.013337</td>\n",
       "    </tr>\n",
       "    <tr>\n",
       "      <th>Cell Cycle, Mitotic</th>\n",
       "      <td>69.0</td>\n",
       "      <td>Up</td>\n",
       "      <td>2.330103e-07</td>\n",
       "      <td>0.000026</td>\n",
       "      <td>59.0</td>\n",
       "      <td>Up</td>\n",
       "      <td>0.000042</td>\n",
       "      <td>0.013337</td>\n",
       "    </tr>\n",
       "    <tr>\n",
       "      <th>Assembly of collagen fibrils and other multimeric structures</th>\n",
       "      <td>10.0</td>\n",
       "      <td>Down</td>\n",
       "      <td>1.964822e-04</td>\n",
       "      <td>0.002562</td>\n",
       "      <td>10.0</td>\n",
       "      <td>Down</td>\n",
       "      <td>0.000198</td>\n",
       "      <td>0.030149</td>\n",
       "    </tr>\n",
       "    <tr>\n",
       "      <th>M Phase</th>\n",
       "      <td>48.0</td>\n",
       "      <td>Up</td>\n",
       "      <td>5.347536e-07</td>\n",
       "      <td>0.000026</td>\n",
       "      <td>38.0</td>\n",
       "      <td>Up</td>\n",
       "      <td>0.000254</td>\n",
       "      <td>0.032130</td>\n",
       "    </tr>\n",
       "    <tr>\n",
       "      <th>...</th>\n",
       "      <td>...</td>\n",
       "      <td>...</td>\n",
       "      <td>...</td>\n",
       "      <td>...</td>\n",
       "      <td>...</td>\n",
       "      <td>...</td>\n",
       "      <td>...</td>\n",
       "      <td>...</td>\n",
       "    </tr>\n",
       "    <tr>\n",
       "      <th>Intrinsic Pathway for Apoptosis</th>\n",
       "      <td>25.0</td>\n",
       "      <td>Up</td>\n",
       "      <td>1.080046e-02</td>\n",
       "      <td>0.062741</td>\n",
       "      <td>25.0</td>\n",
       "      <td>Up</td>\n",
       "      <td>0.010825</td>\n",
       "      <td>0.095281</td>\n",
       "    </tr>\n",
       "    <tr>\n",
       "      <th>Chromatin modifying enzymes</th>\n",
       "      <td>18.0</td>\n",
       "      <td>Up</td>\n",
       "      <td>2.661106e-07</td>\n",
       "      <td>0.000026</td>\n",
       "      <td>7.0</td>\n",
       "      <td>Up</td>\n",
       "      <td>0.011221</td>\n",
       "      <td>0.095281</td>\n",
       "    </tr>\n",
       "    <tr>\n",
       "      <th>Regulation of RUNX2 expression and activity</th>\n",
       "      <td>15.0</td>\n",
       "      <td>Up</td>\n",
       "      <td>1.108819e-02</td>\n",
       "      <td>0.063262</td>\n",
       "      <td>15.0</td>\n",
       "      <td>Up</td>\n",
       "      <td>0.011113</td>\n",
       "      <td>0.095281</td>\n",
       "    </tr>\n",
       "    <tr>\n",
       "      <th>EPH-Ephrin signaling</th>\n",
       "      <td>26.0</td>\n",
       "      <td>Down</td>\n",
       "      <td>1.122282e-02</td>\n",
       "      <td>0.063464</td>\n",
       "      <td>26.0</td>\n",
       "      <td>Down</td>\n",
       "      <td>0.011283</td>\n",
       "      <td>0.095281</td>\n",
       "    </tr>\n",
       "    <tr>\n",
       "      <th>Senescence-Associated Secretory Phenotype (SASP)</th>\n",
       "      <td>29.0</td>\n",
       "      <td>Up</td>\n",
       "      <td>7.684674e-06</td>\n",
       "      <td>0.000133</td>\n",
       "      <td>19.0</td>\n",
       "      <td>Up</td>\n",
       "      <td>0.011784</td>\n",
       "      <td>0.098415</td>\n",
       "    </tr>\n",
       "  </tbody>\n",
       "</table>\n",
       "<p>67 rows × 8 columns</p>\n",
       "</div>"
      ],
      "text/plain": [
       "                                                              NGenes_x  \\\n",
       "name                                                                     \n",
       "Peptide hormone biosynthesis                                  8.0        \n",
       "Cell Cycle                                                    79.0       \n",
       "Cell Cycle, Mitotic                                           69.0       \n",
       "Assembly of collagen fibrils and other multimeric structures  10.0       \n",
       "M Phase                                                       48.0       \n",
       "...                                                            ...       \n",
       "Intrinsic Pathway for Apoptosis                               25.0       \n",
       "Chromatin modifying enzymes                                   18.0       \n",
       "Regulation of RUNX2 expression and activity                   15.0       \n",
       "EPH-Ephrin signaling                                          26.0       \n",
       "Senescence-Associated Secretory Phenotype (SASP)              29.0       \n",
       "\n",
       "                                                             Direction_x  \\\n",
       "name                                                                       \n",
       "Peptide hormone biosynthesis                                  Down         \n",
       "Cell Cycle                                                    Up           \n",
       "Cell Cycle, Mitotic                                           Up           \n",
       "Assembly of collagen fibrils and other multimeric structures  Down         \n",
       "M Phase                                                       Up           \n",
       "...                                                            ...         \n",
       "Intrinsic Pathway for Apoptosis                               Up           \n",
       "Chromatin modifying enzymes                                   Up           \n",
       "Regulation of RUNX2 expression and activity                   Up           \n",
       "EPH-Ephrin signaling                                          Down         \n",
       "Senescence-Associated Secretory Phenotype (SASP)              Up           \n",
       "\n",
       "                                                                  PValue_x  \\\n",
       "name                                                                         \n",
       "Peptide hormone biosynthesis                                  5.207938e-05   \n",
       "Cell Cycle                                                    1.495939e-07   \n",
       "Cell Cycle, Mitotic                                           2.330103e-07   \n",
       "Assembly of collagen fibrils and other multimeric structures  1.964822e-04   \n",
       "M Phase                                                       5.347536e-07   \n",
       "...                                                                    ...   \n",
       "Intrinsic Pathway for Apoptosis                               1.080046e-02   \n",
       "Chromatin modifying enzymes                                   2.661106e-07   \n",
       "Regulation of RUNX2 expression and activity                   1.108819e-02   \n",
       "EPH-Ephrin signaling                                          1.122282e-02   \n",
       "Senescence-Associated Secretory Phenotype (SASP)              7.684674e-06   \n",
       "\n",
       "                                                                 FDR_x  \\\n",
       "name                                                                     \n",
       "Peptide hormone biosynthesis                                  0.000723   \n",
       "Cell Cycle                                                    0.000026   \n",
       "Cell Cycle, Mitotic                                           0.000026   \n",
       "Assembly of collagen fibrils and other multimeric structures  0.002562   \n",
       "M Phase                                                       0.000026   \n",
       "...                                                                ...   \n",
       "Intrinsic Pathway for Apoptosis                               0.062741   \n",
       "Chromatin modifying enzymes                                   0.000026   \n",
       "Regulation of RUNX2 expression and activity                   0.063262   \n",
       "EPH-Ephrin signaling                                          0.063464   \n",
       "Senescence-Associated Secretory Phenotype (SASP)              0.000133   \n",
       "\n",
       "                                                              NGenes_y  \\\n",
       "name                                                                     \n",
       "Peptide hormone biosynthesis                                  8.0        \n",
       "Cell Cycle                                                    69.0       \n",
       "Cell Cycle, Mitotic                                           59.0       \n",
       "Assembly of collagen fibrils and other multimeric structures  10.0       \n",
       "M Phase                                                       38.0       \n",
       "...                                                            ...       \n",
       "Intrinsic Pathway for Apoptosis                               25.0       \n",
       "Chromatin modifying enzymes                                   7.0        \n",
       "Regulation of RUNX2 expression and activity                   15.0       \n",
       "EPH-Ephrin signaling                                          26.0       \n",
       "Senescence-Associated Secretory Phenotype (SASP)              19.0       \n",
       "\n",
       "                                                             Direction_y  \\\n",
       "name                                                                       \n",
       "Peptide hormone biosynthesis                                  Down         \n",
       "Cell Cycle                                                    Up           \n",
       "Cell Cycle, Mitotic                                           Up           \n",
       "Assembly of collagen fibrils and other multimeric structures  Down         \n",
       "M Phase                                                       Up           \n",
       "...                                                            ...         \n",
       "Intrinsic Pathway for Apoptosis                               Up           \n",
       "Chromatin modifying enzymes                                   Up           \n",
       "Regulation of RUNX2 expression and activity                   Up           \n",
       "EPH-Ephrin signaling                                          Down         \n",
       "Senescence-Associated Secretory Phenotype (SASP)              Up           \n",
       "\n",
       "                                                              PValue_y  \\\n",
       "name                                                                     \n",
       "Peptide hormone biosynthesis                                  0.000053   \n",
       "Cell Cycle                                                    0.000020   \n",
       "Cell Cycle, Mitotic                                           0.000042   \n",
       "Assembly of collagen fibrils and other multimeric structures  0.000198   \n",
       "M Phase                                                       0.000254   \n",
       "...                                                                ...   \n",
       "Intrinsic Pathway for Apoptosis                               0.010825   \n",
       "Chromatin modifying enzymes                                   0.011221   \n",
       "Regulation of RUNX2 expression and activity                   0.011113   \n",
       "EPH-Ephrin signaling                                          0.011283   \n",
       "Senescence-Associated Secretory Phenotype (SASP)              0.011784   \n",
       "\n",
       "                                                                 FDR_y  \n",
       "name                                                                    \n",
       "Peptide hormone biosynthesis                                  0.013337  \n",
       "Cell Cycle                                                    0.013337  \n",
       "Cell Cycle, Mitotic                                           0.013337  \n",
       "Assembly of collagen fibrils and other multimeric structures  0.030149  \n",
       "M Phase                                                       0.032130  \n",
       "...                                                                ...  \n",
       "Intrinsic Pathway for Apoptosis                               0.095281  \n",
       "Chromatin modifying enzymes                                   0.095281  \n",
       "Regulation of RUNX2 expression and activity                   0.095281  \n",
       "EPH-Ephrin signaling                                          0.095281  \n",
       "Senescence-Associated Secretory Phenotype (SASP)              0.098415  \n",
       "\n",
       "[67 rows x 8 columns]"
      ]
     },
     "metadata": {},
     "output_type": "display_data"
    }
   ],
   "source": [
    "show_table(agreement(tb_cc_log_msig, tb_cc_log_full, cutoff=0.1))"
   ]
  },
  {
   "cell_type": "code",
   "execution_count": 57,
   "metadata": {},
   "outputs": [
    {
     "data": {
      "text/plain": [
       "97"
      ]
     },
     "execution_count": 57,
     "metadata": {},
     "output_type": "execute_result"
    }
   ],
   "source": [
    "len(tb_cc_log_msig[tb_cc_log_msig.FDR < 0.05])"
   ]
  },
  {
   "cell_type": "code",
   "execution_count": 58,
   "metadata": {},
   "outputs": [],
   "source": [
    "%R import::here(gene_set_heatmap, .from='plots/differential_expression.R')"
   ]
  },
  {
   "cell_type": "code",
   "execution_count": 59,
   "metadata": {},
   "outputs": [],
   "source": [
    "from plots.annotations import generate_patient_annotations\n",
    "counts_patient_annotations = generate_patient_annotations(clinical)"
   ]
  },
  {
   "cell_type": "code",
   "execution_count": 60,
   "metadata": {},
   "outputs": [
    {
     "data": {
      "image/png": "[encoded data removed]"
     },
     "metadata": {},
     "output_type": "display_data"
    }
   ],
   "source": [
    "%%R -w 1200 -h 900 -i counts_patient_annotations\n",
    "\n",
    "# TODO: handle the globals below\n",
    "names(counts_patient_annotations) = dot_to_space(names(counts_patient_annotations))\n",
    "outliers=c()\n",
    "\n",
    "# TODO: use complex heatmap instead\n",
    "gene_set_heatmap(\n",
    "    tb_cc_log_msig[tb_cc_log_msig$FDR < 0.05, ], log10_gene_matrix,\n",
    "    collection=c2.cp.reactome, id_type=NULL, show_colnames=FALSE,\n",
    "    trim=55\n",
    ")"
   ]
  },
  {
   "cell_type": "markdown",
   "metadata": {},
   "source": [
    "## HIV?"
   ]
  },
  {
   "cell_type": "code",
   "execution_count": 61,
   "metadata": {},
   "outputs": [],
   "source": [
    "hiv_status = clinical.HIVResult"
   ]
  },
  {
   "cell_type": "code",
   "execution_count": 62,
   "metadata": {},
   "outputs": [],
   "source": [
    "%%R -i hiv_status -o hiv_pos_vs_neg\n",
    "hiv_pos_vs_neg = camera('Positive', '(Intercept)', log10_gene_matrix, c2.cp.reactome, design=hiv_status)"
   ]
  },
  {
   "cell_type": "code",
   "execution_count": 63,
   "metadata": {},
   "outputs": [
    {
     "data": {
      "text/html": [
       "<div>\n",
       "<style scoped>\n",
       "    .dataframe tbody tr th:only-of-type {\n",
       "        vertical-align: middle;\n",
       "    }\n",
       "\n",
       "    .dataframe tbody tr th {\n",
       "        vertical-align: top;\n",
       "    }\n",
       "\n",
       "    .dataframe thead th {\n",
       "        text-align: right;\n",
       "    }\n",
       "</style>\n",
       "<table border=\"1\" class=\"dataframe\">\n",
       "  <thead>\n",
       "    <tr style=\"text-align: right;\">\n",
       "      <th></th>\n",
       "      <th>NGenes</th>\n",
       "      <th>Direction</th>\n",
       "      <th>PValue</th>\n",
       "      <th>FDR</th>\n",
       "    </tr>\n",
       "  </thead>\n",
       "  <tbody>\n",
       "    <tr>\n",
       "      <th>Regulation of Insulin-like Growth Factor (IGF) transport and uptake by Insulin-like Growth Factor Binding Proteins (IGFBPs)</th>\n",
       "      <td>59.0</td>\n",
       "      <td>Down</td>\n",
       "      <td>4.701732e-16</td>\n",
       "      <td>3.004407e-13</td>\n",
       "    </tr>\n",
       "    <tr>\n",
       "      <th>Complement cascade</th>\n",
       "      <td>41.0</td>\n",
       "      <td>Down</td>\n",
       "      <td>6.744120e-14</td>\n",
       "      <td>2.154746e-11</td>\n",
       "    </tr>\n",
       "    <tr>\n",
       "      <th>Initial triggering of complement</th>\n",
       "      <td>22.0</td>\n",
       "      <td>Down</td>\n",
       "      <td>2.890067e-12</td>\n",
       "      <td>6.155844e-10</td>\n",
       "    </tr>\n",
       "    <tr>\n",
       "      <th>Creation of C4 and C2 activators</th>\n",
       "      <td>14.0</td>\n",
       "      <td>Down</td>\n",
       "      <td>9.370407e-09</td>\n",
       "      <td>1.496922e-06</td>\n",
       "    </tr>\n",
       "    <tr>\n",
       "      <th>Plasma lipoprotein remodeling</th>\n",
       "      <td>6.0</td>\n",
       "      <td>Down</td>\n",
       "      <td>1.553498e-05</td>\n",
       "      <td>1.678688e-03</td>\n",
       "    </tr>\n",
       "    <tr>\n",
       "      <th>Activation of C3 and C5</th>\n",
       "      <td>8.0</td>\n",
       "      <td>Down</td>\n",
       "      <td>1.576233e-05</td>\n",
       "      <td>1.678688e-03</td>\n",
       "    </tr>\n",
       "    <tr>\n",
       "      <th>Modulation by Mtb of host immune system</th>\n",
       "      <td>6.0</td>\n",
       "      <td>Down</td>\n",
       "      <td>2.052075e-05</td>\n",
       "      <td>1.873252e-03</td>\n",
       "    </tr>\n",
       "    <tr>\n",
       "      <th>Plasma lipoprotein clearance</th>\n",
       "      <td>6.0</td>\n",
       "      <td>Down</td>\n",
       "      <td>2.498373e-05</td>\n",
       "      <td>1.953325e-03</td>\n",
       "    </tr>\n",
       "    <tr>\n",
       "      <th>Role of phospholipids in phagocytosis</th>\n",
       "      <td>9.0</td>\n",
       "      <td>Down</td>\n",
       "      <td>2.751161e-05</td>\n",
       "      <td>1.953325e-03</td>\n",
       "    </tr>\n",
       "    <tr>\n",
       "      <th>Common Pathway of Fibrin Clot Formation</th>\n",
       "      <td>15.0</td>\n",
       "      <td>Down</td>\n",
       "      <td>1.618793e-04</td>\n",
       "      <td>1.034409e-02</td>\n",
       "    </tr>\n",
       "  </tbody>\n",
       "</table>\n",
       "</div>"
      ],
      "text/plain": [
       "                                                    NGenes Direction  \\\n",
       "Regulation of Insulin-like Growth Factor (IGF) ...    59.0      Down   \n",
       "Complement cascade                                    41.0      Down   \n",
       "Initial triggering of complement                      22.0      Down   \n",
       "Creation of C4 and C2 activators                      14.0      Down   \n",
       "Plasma lipoprotein remodeling                          6.0      Down   \n",
       "Activation of C3 and C5                                8.0      Down   \n",
       "Modulation by Mtb of host immune system                6.0      Down   \n",
       "Plasma lipoprotein clearance                           6.0      Down   \n",
       "Role of phospholipids in phagocytosis                  9.0      Down   \n",
       "Common Pathway of Fibrin Clot Formation               15.0      Down   \n",
       "\n",
       "                                                          PValue           FDR  \n",
       "Regulation of Insulin-like Growth Factor (IGF) ...  4.701732e-16  3.004407e-13  \n",
       "Complement cascade                                  6.744120e-14  2.154746e-11  \n",
       "Initial triggering of complement                    2.890067e-12  6.155844e-10  \n",
       "Creation of C4 and C2 activators                    9.370407e-09  1.496922e-06  \n",
       "Plasma lipoprotein remodeling                       1.553498e-05  1.678688e-03  \n",
       "Activation of C3 and C5                             1.576233e-05  1.678688e-03  \n",
       "Modulation by Mtb of host immune system             2.052075e-05  1.873252e-03  \n",
       "Plasma lipoprotein clearance                        2.498373e-05  1.953325e-03  \n",
       "Role of phospholipids in phagocytosis               2.751161e-05  1.953325e-03  \n",
       "Common Pathway of Fibrin Clot Formation             1.618793e-04  1.034409e-02  "
      ]
     },
     "execution_count": 63,
     "metadata": {},
     "output_type": "execute_result"
    }
   ],
   "source": [
    "hiv_pos_vs_neg.head(10)"
   ]
  },
  {
   "cell_type": "code",
   "execution_count": 64,
   "metadata": {},
   "outputs": [],
   "source": [
    "%%R -i hiv_status -o hiv_pos_vs_neg_full\n",
    "hiv_pos_vs_neg_full = camera('Positive', '(Intercept)', log10_gene_matrix_symbols, reactome_full_symbol, design=hiv_status)"
   ]
  },
  {
   "cell_type": "code",
   "execution_count": 65,
   "metadata": {},
   "outputs": [
    {
     "data": {
      "text/html": [
       "<div>\n",
       "<style scoped>\n",
       "    .dataframe tbody tr th:only-of-type {\n",
       "        vertical-align: middle;\n",
       "    }\n",
       "\n",
       "    .dataframe tbody tr th {\n",
       "        vertical-align: top;\n",
       "    }\n",
       "\n",
       "    .dataframe thead th {\n",
       "        text-align: right;\n",
       "    }\n",
       "</style>\n",
       "<table border=\"1\" class=\"dataframe\">\n",
       "  <thead>\n",
       "    <tr style=\"text-align: right;\">\n",
       "      <th></th>\n",
       "      <th>NGenes</th>\n",
       "      <th>Direction</th>\n",
       "      <th>PValue</th>\n",
       "      <th>FDR</th>\n",
       "    </tr>\n",
       "  </thead>\n",
       "  <tbody>\n",
       "    <tr>\n",
       "      <th>Classical antibody-mediated complement activation</th>\n",
       "      <td>9.0</td>\n",
       "      <td>Down</td>\n",
       "      <td>5.895192e-22</td>\n",
       "      <td>4.480346e-19</td>\n",
       "    </tr>\n",
       "    <tr>\n",
       "      <th>Regulation of Complement cascade</th>\n",
       "      <td>32.0</td>\n",
       "      <td>Down</td>\n",
       "      <td>2.818548e-21</td>\n",
       "      <td>1.071048e-18</td>\n",
       "    </tr>\n",
       "    <tr>\n",
       "      <th>Regulation of Insulin-like Growth Factor (IGF) transport and uptake by Insulin-like Growth Factor Binding Proteins (IGFBPs)</th>\n",
       "      <td>59.0</td>\n",
       "      <td>Down</td>\n",
       "      <td>5.644123e-16</td>\n",
       "      <td>1.429845e-13</td>\n",
       "    </tr>\n",
       "    <tr>\n",
       "      <th>Complement cascade</th>\n",
       "      <td>40.0</td>\n",
       "      <td>Down</td>\n",
       "      <td>2.038265e-15</td>\n",
       "      <td>3.872703e-13</td>\n",
       "    </tr>\n",
       "    <tr>\n",
       "      <th>Initial triggering of complement</th>\n",
       "      <td>21.0</td>\n",
       "      <td>Down</td>\n",
       "      <td>1.817567e-14</td>\n",
       "      <td>2.762702e-12</td>\n",
       "    </tr>\n",
       "    <tr>\n",
       "      <th>Post-translational protein phosphorylation</th>\n",
       "      <td>47.0</td>\n",
       "      <td>Down</td>\n",
       "      <td>1.203344e-13</td>\n",
       "      <td>1.524236e-11</td>\n",
       "    </tr>\n",
       "    <tr>\n",
       "      <th>Creation of C4 and C2 activators</th>\n",
       "      <td>15.0</td>\n",
       "      <td>Down</td>\n",
       "      <td>1.174034e-11</td>\n",
       "      <td>1.274666e-09</td>\n",
       "    </tr>\n",
       "    <tr>\n",
       "      <th>Role of phospholipids in phagocytosis</th>\n",
       "      <td>10.0</td>\n",
       "      <td>Down</td>\n",
       "      <td>3.324494e-08</td>\n",
       "      <td>3.158269e-06</td>\n",
       "    </tr>\n",
       "    <tr>\n",
       "      <th>Amyloid fiber formation</th>\n",
       "      <td>21.0</td>\n",
       "      <td>Down</td>\n",
       "      <td>7.319071e-07</td>\n",
       "      <td>6.180549e-05</td>\n",
       "    </tr>\n",
       "    <tr>\n",
       "      <th>FCGR activation</th>\n",
       "      <td>12.0</td>\n",
       "      <td>Down</td>\n",
       "      <td>1.557769e-06</td>\n",
       "      <td>1.183905e-04</td>\n",
       "    </tr>\n",
       "  </tbody>\n",
       "</table>\n",
       "</div>"
      ],
      "text/plain": [
       "                                                    NGenes Direction  \\\n",
       "Classical antibody-mediated complement activation      9.0      Down   \n",
       "Regulation of Complement cascade                      32.0      Down   \n",
       "Regulation of Insulin-like Growth Factor (IGF) ...    59.0      Down   \n",
       "Complement cascade                                    40.0      Down   \n",
       "Initial triggering of complement                      21.0      Down   \n",
       "Post-translational protein phosphorylation            47.0      Down   \n",
       "Creation of C4 and C2 activators                      15.0      Down   \n",
       "Role of phospholipids in phagocytosis                 10.0      Down   \n",
       "Amyloid fiber formation                               21.0      Down   \n",
       "FCGR activation                                       12.0      Down   \n",
       "\n",
       "                                                          PValue           FDR  \n",
       "Classical antibody-mediated complement activation   5.895192e-22  4.480346e-19  \n",
       "Regulation of Complement cascade                    2.818548e-21  1.071048e-18  \n",
       "Regulation of Insulin-like Growth Factor (IGF) ...  5.644123e-16  1.429845e-13  \n",
       "Complement cascade                                  2.038265e-15  3.872703e-13  \n",
       "Initial triggering of complement                    1.817567e-14  2.762702e-12  \n",
       "Post-translational protein phosphorylation          1.203344e-13  1.524236e-11  \n",
       "Creation of C4 and C2 activators                    1.174034e-11  1.274666e-09  \n",
       "Role of phospholipids in phagocytosis               3.324494e-08  3.158269e-06  \n",
       "Amyloid fiber formation                             7.319071e-07  6.180549e-05  \n",
       "FCGR activation                                     1.557769e-06  1.183905e-04  "
      ]
     },
     "execution_count": 65,
     "metadata": {},
     "output_type": "execute_result"
    }
   ],
   "source": [
    "hiv_pos_vs_neg_full.head(10)"
   ]
  },
  {
   "cell_type": "markdown",
   "metadata": {},
   "source": [
    "TODO: compare different pathways between groups"
   ]
  },
  {
   "cell_type": "markdown",
   "metadata": {},
   "source": [
    "TODO: correct for age, group etc?"
   ]
  },
  {
   "cell_type": "markdown",
   "metadata": {},
   "source": [
    "## Traditional GSEA"
   ]
  },
  {
   "cell_type": "markdown",
   "metadata": {},
   "source": [
    "Is kind of both competitive and self-contained "
   ]
  },
  {
   "cell_type": "code",
   "execution_count": 66,
   "metadata": {},
   "outputs": [],
   "source": [
    "from gsea_api.gsea import GSEADesktop"
   ]
  },
  {
   "cell_type": "code",
   "execution_count": 67,
   "metadata": {},
   "outputs": [],
   "source": [
    "from gsea_api.expression_set import ExpressionSet"
   ]
  },
  {
   "cell_type": "code",
   "execution_count": 68,
   "metadata": {},
   "outputs": [],
   "source": [
    "gsea = GSEADesktop(gsea_jar_path='thirdparty/gsea-3.0.jar')"
   ]
  },
  {
   "cell_type": "markdown",
   "metadata": {},
   "source": [
    "Notes on the FDR:\n",
    " - the cutoff of .25 was recommended for GSEA in the User Guide for exploratory anaylsis when using phenotype permutations:\n",
    "    > The GSEA analysis report highlights enrichment gene sets with an FDR of less than 25% as those most likely to generate interesting hypotheses and drive further research, but provides analysis results for all analyzed gene sets. In general, given the lack of coherence in most expression datasets and the relatively small number of gene sets being analyzed, an FDR cutoff of 25% is appropriate.\n",
    " - however for viral class, we should set it to a lower value as this has fewer samples (also encouraged in the User Guide)"
   ]
  },
  {
   "cell_type": "code",
   "execution_count": 69,
   "metadata": {},
   "outputs": [],
   "source": [
    "def run_gsea(a, b, matrix, curated=False, design=by_condition):\n",
    "    result = gsea.run(\n",
    "        ExpressionSet(matrix, design).contrast(a, b),\n",
    "        reactome_pathways_entrez if curated else reactome_full_symbol,\n",
    "        metric='Signal2Noise',\n",
    "        permutations=1000\n",
    "    )\n",
    "    return concat([\n",
    "        result[a.replace(' ', '_')].assign(direction='up'),\n",
    "        result[b.replace(' ', '_')].assign(direction='down')\n",
    "    ])[['nes', 'fdr_q-val', 'fwer_p-val', 'direction']].sort_values('fdr_q-val')"
   ]
  },
  {
   "cell_type": "markdown",
   "metadata": {},
   "source": [
    "Whether to use the log transformed data is not obvious in this case. However, usually the log transform is embedded in the metric and the method was originally designed to handle natural data. Also:\n",
    "\n",
    "> **Should I use natural or log scale data for GSEA?**\n",
    ">\n",
    "> We recommend using natural scale data. We used it when we calibrated the GSEA method and it seems to work well in general cases.\n",
    ">\n",
    "> Traditional modeling techniques, such as clustering, often benefit from data preprocessing. For example, one might filter expression data to remove genes that have low variance across the dataset and/or log transform the data to make the distribution more symmetric. The GSEA algorithm does not benefit from such preprocessing of the data.\n",
    "https://software.broadinstitute.org/cancer/software/gsea/wiki/index.php/FAQ#Should_I_use_natural_or_log_scale_data_for_GSEA.3F"
   ]
  },
  {
   "cell_type": "code",
   "execution_count": 70,
   "metadata": {},
   "outputs": [
    {
     "data": {
      "text/html": [
       "<div>\n",
       "<style scoped>\n",
       "    .dataframe tbody tr th:only-of-type {\n",
       "        vertical-align: middle;\n",
       "    }\n",
       "\n",
       "    .dataframe tbody tr th {\n",
       "        vertical-align: top;\n",
       "    }\n",
       "\n",
       "    .dataframe thead th {\n",
       "        text-align: right;\n",
       "    }\n",
       "</style>\n",
       "<table border=\"1\" class=\"dataframe\">\n",
       "  <thead>\n",
       "    <tr style=\"text-align: right;\">\n",
       "      <th></th>\n",
       "      <th>nes</th>\n",
       "      <th>fdr_q-val</th>\n",
       "      <th>fwer_p-val</th>\n",
       "      <th>direction</th>\n",
       "    </tr>\n",
       "    <tr>\n",
       "      <th>name</th>\n",
       "      <th></th>\n",
       "      <th></th>\n",
       "      <th></th>\n",
       "      <th></th>\n",
       "    </tr>\n",
       "  </thead>\n",
       "  <tbody>\n",
       "    <tr>\n",
       "      <th>INNATE IMMUNE SYSTEM</th>\n",
       "      <td>2.062313</td>\n",
       "      <td>0.234026</td>\n",
       "      <td>0.092</td>\n",
       "      <td>up</td>\n",
       "    </tr>\n",
       "    <tr>\n",
       "      <th>NEUTROPHIL DEGRANULATION</th>\n",
       "      <td>2.099777</td>\n",
       "      <td>0.371553</td>\n",
       "      <td>0.081</td>\n",
       "      <td>up</td>\n",
       "    </tr>\n",
       "    <tr>\n",
       "      <th>RESPONSE TO ELEVATED PLATELET CYTOSOLIC CA2+</th>\n",
       "      <td>1.738363</td>\n",
       "      <td>0.516208</td>\n",
       "      <td>0.351</td>\n",
       "      <td>up</td>\n",
       "    </tr>\n",
       "    <tr>\n",
       "      <th>PLATELET DEGRANULATION</th>\n",
       "      <td>1.747712</td>\n",
       "      <td>0.570726</td>\n",
       "      <td>0.345</td>\n",
       "      <td>up</td>\n",
       "    </tr>\n",
       "    <tr>\n",
       "      <th>TOLL-LIKE RECEPTOR CASCADES</th>\n",
       "      <td>1.674880</td>\n",
       "      <td>0.572330</td>\n",
       "      <td>0.445</td>\n",
       "      <td>up</td>\n",
       "    </tr>\n",
       "  </tbody>\n",
       "</table>\n",
       "</div>"
      ],
      "text/plain": [
       "                                                   nes  fdr_q-val  fwer_p-val  \\\n",
       "name                                                                            \n",
       "INNATE IMMUNE SYSTEM                          2.062313   0.234026       0.092   \n",
       "NEUTROPHIL DEGRANULATION                      2.099777   0.371553       0.081   \n",
       "RESPONSE TO ELEVATED PLATELET CYTOSOLIC CA2+  1.738363   0.516208       0.351   \n",
       "PLATELET DEGRANULATION                        1.747712   0.570726       0.345   \n",
       "TOLL-LIKE RECEPTOR CASCADES                   1.674880   0.572330       0.445   \n",
       "\n",
       "                                             direction  \n",
       "name                                                    \n",
       "INNATE IMMUNE SYSTEM                                up  \n",
       "NEUTROPHIL DEGRANULATION                            up  \n",
       "RESPONSE TO ELEVATED PLATELET CYTOSOLIC CA2+        up  \n",
       "PLATELET DEGRANULATION                              up  \n",
       "TOLL-LIKE RECEPTOR CASCADES                         up  "
      ]
     },
     "execution_count": 70,
     "metadata": {},
     "output_type": "execute_result"
    }
   ],
   "source": [
    "run_gsea('Tuberculosis', 'Healthy control', raw_gene_matrix_by_symbols).head()"
   ]
  },
  {
   "cell_type": "markdown",
   "metadata": {},
   "source": [
    "Just to have a glimpse on how that would look like for log transformed data (so possibly elucidating less-obvious processes):"
   ]
  },
  {
   "cell_type": "code",
   "execution_count": 71,
   "metadata": {},
   "outputs": [
    {
     "data": {
      "text/html": [
       "<div>\n",
       "<style scoped>\n",
       "    .dataframe tbody tr th:only-of-type {\n",
       "        vertical-align: middle;\n",
       "    }\n",
       "\n",
       "    .dataframe tbody tr th {\n",
       "        vertical-align: top;\n",
       "    }\n",
       "\n",
       "    .dataframe thead th {\n",
       "        text-align: right;\n",
       "    }\n",
       "</style>\n",
       "<table border=\"1\" class=\"dataframe\">\n",
       "  <thead>\n",
       "    <tr style=\"text-align: right;\">\n",
       "      <th></th>\n",
       "      <th>nes</th>\n",
       "      <th>fdr_q-val</th>\n",
       "      <th>fwer_p-val</th>\n",
       "      <th>direction</th>\n",
       "    </tr>\n",
       "    <tr>\n",
       "      <th>name</th>\n",
       "      <th></th>\n",
       "      <th></th>\n",
       "      <th></th>\n",
       "      <th></th>\n",
       "    </tr>\n",
       "  </thead>\n",
       "  <tbody>\n",
       "    <tr>\n",
       "      <th>BETA-CATENIN INDEPENDENT WNT SIGNALING</th>\n",
       "      <td>1.347100</td>\n",
       "      <td>0.325813</td>\n",
       "      <td>0.663</td>\n",
       "      <td>up</td>\n",
       "    </tr>\n",
       "    <tr>\n",
       "      <th>TOLL LIKE RECEPTOR 2 (TLR2) CASCADE</th>\n",
       "      <td>1.349582</td>\n",
       "      <td>0.327158</td>\n",
       "      <td>0.661</td>\n",
       "      <td>up</td>\n",
       "    </tr>\n",
       "    <tr>\n",
       "      <th>SIGNALING BY GPCR</th>\n",
       "      <td>1.257129</td>\n",
       "      <td>0.330274</td>\n",
       "      <td>0.734</td>\n",
       "      <td>up</td>\n",
       "    </tr>\n",
       "    <tr>\n",
       "      <th>GENE EXPRESSION (TRANSCRIPTION)</th>\n",
       "      <td>1.258161</td>\n",
       "      <td>0.331347</td>\n",
       "      <td>0.733</td>\n",
       "      <td>up</td>\n",
       "    </tr>\n",
       "    <tr>\n",
       "      <th>TOLL LIKE RECEPTOR TLR6:TLR2 CASCADE</th>\n",
       "      <td>1.349582</td>\n",
       "      <td>0.332192</td>\n",
       "      <td>0.661</td>\n",
       "      <td>up</td>\n",
       "    </tr>\n",
       "  </tbody>\n",
       "</table>\n",
       "</div>"
      ],
      "text/plain": [
       "                                             nes  fdr_q-val  fwer_p-val  \\\n",
       "name                                                                      \n",
       "BETA-CATENIN INDEPENDENT WNT SIGNALING  1.347100   0.325813       0.663   \n",
       "TOLL LIKE RECEPTOR 2 (TLR2) CASCADE     1.349582   0.327158       0.661   \n",
       "SIGNALING BY GPCR                       1.257129   0.330274       0.734   \n",
       "GENE EXPRESSION (TRANSCRIPTION)         1.258161   0.331347       0.733   \n",
       "TOLL LIKE RECEPTOR TLR6:TLR2 CASCADE    1.349582   0.332192       0.661   \n",
       "\n",
       "                                       direction  \n",
       "name                                              \n",
       "BETA-CATENIN INDEPENDENT WNT SIGNALING        up  \n",
       "TOLL LIKE RECEPTOR 2 (TLR2) CASCADE           up  \n",
       "SIGNALING BY GPCR                             up  \n",
       "GENE EXPRESSION (TRANSCRIPTION)               up  \n",
       "TOLL LIKE RECEPTOR TLR6:TLR2 CASCADE          up  "
      ]
     },
     "execution_count": 71,
     "metadata": {},
     "output_type": "execute_result"
    }
   ],
   "source": [
    "run_gsea('Tuberculosis', 'Healthy control', log10_gene_matrix_symbols).head()"
   ]
  },
  {
   "cell_type": "markdown",
   "metadata": {},
   "source": [
    "And using the curated dataset (not transformed):"
   ]
  },
  {
   "cell_type": "code",
   "execution_count": 72,
   "metadata": {},
   "outputs": [
    {
     "data": {
      "text/html": [
       "<div>\n",
       "<style scoped>\n",
       "    .dataframe tbody tr th:only-of-type {\n",
       "        vertical-align: middle;\n",
       "    }\n",
       "\n",
       "    .dataframe tbody tr th {\n",
       "        vertical-align: top;\n",
       "    }\n",
       "\n",
       "    .dataframe thead th {\n",
       "        text-align: right;\n",
       "    }\n",
       "</style>\n",
       "<table border=\"1\" class=\"dataframe\">\n",
       "  <thead>\n",
       "    <tr style=\"text-align: right;\">\n",
       "      <th></th>\n",
       "      <th>nes</th>\n",
       "      <th>fdr_q-val</th>\n",
       "      <th>fwer_p-val</th>\n",
       "      <th>direction</th>\n",
       "    </tr>\n",
       "    <tr>\n",
       "      <th>name</th>\n",
       "      <th></th>\n",
       "      <th></th>\n",
       "      <th></th>\n",
       "      <th></th>\n",
       "    </tr>\n",
       "  </thead>\n",
       "  <tbody>\n",
       "    <tr>\n",
       "      <th>INNATE IMMUNE SYSTEM</th>\n",
       "      <td>2.165950</td>\n",
       "      <td>0.135013</td>\n",
       "      <td>0.061</td>\n",
       "      <td>up</td>\n",
       "    </tr>\n",
       "    <tr>\n",
       "      <th>NEUTROPHIL DEGRANULATION</th>\n",
       "      <td>2.214902</td>\n",
       "      <td>0.180413</td>\n",
       "      <td>0.051</td>\n",
       "      <td>up</td>\n",
       "    </tr>\n",
       "    <tr>\n",
       "      <th>COMPLEMENT CASCADE</th>\n",
       "      <td>1.622905</td>\n",
       "      <td>0.298465</td>\n",
       "      <td>0.497</td>\n",
       "      <td>up</td>\n",
       "    </tr>\n",
       "    <tr>\n",
       "      <th>HCMV EARLY EVENTS</th>\n",
       "      <td>1.626223</td>\n",
       "      <td>0.307497</td>\n",
       "      <td>0.494</td>\n",
       "      <td>up</td>\n",
       "    </tr>\n",
       "    <tr>\n",
       "      <th>PLATELET ACTIVATION SIGNALING AND AGGREGATION</th>\n",
       "      <td>1.606912</td>\n",
       "      <td>0.307673</td>\n",
       "      <td>0.514</td>\n",
       "      <td>up</td>\n",
       "    </tr>\n",
       "  </tbody>\n",
       "</table>\n",
       "</div>"
      ],
      "text/plain": [
       "                                                    nes  fdr_q-val  \\\n",
       "name                                                                 \n",
       "INNATE IMMUNE SYSTEM                           2.165950   0.135013   \n",
       "NEUTROPHIL DEGRANULATION                       2.214902   0.180413   \n",
       "COMPLEMENT CASCADE                             1.622905   0.298465   \n",
       "HCMV EARLY EVENTS                              1.626223   0.307497   \n",
       "PLATELET ACTIVATION SIGNALING AND AGGREGATION  1.606912   0.307673   \n",
       "\n",
       "                                               fwer_p-val direction  \n",
       "name                                                                 \n",
       "INNATE IMMUNE SYSTEM                                0.061        up  \n",
       "NEUTROPHIL DEGRANULATION                            0.051        up  \n",
       "COMPLEMENT CASCADE                                  0.497        up  \n",
       "HCMV EARLY EVENTS                                   0.494        up  \n",
       "PLATELET ACTIVATION SIGNALING AND AGGREGATION       0.514        up  "
      ]
     },
     "execution_count": 72,
     "metadata": {},
     "output_type": "execute_result"
    }
   ],
   "source": [
    "run_gsea('Tuberculosis', 'Healthy control', raw_gene_matrix, curated=True).head()"
   ]
  },
  {
   "cell_type": "markdown",
   "metadata": {},
   "source": [
    "Again, there is a big difference between the results obtained using the curated and full Reactome collections,"
   ]
  },
  {
   "cell_type": "markdown",
   "metadata": {},
   "source": [
    "### Crypto"
   ]
  },
  {
   "cell_type": "code",
   "execution_count": 73,
   "metadata": {},
   "outputs": [
    {
     "data": {
      "text/html": [
       "<div>\n",
       "<style scoped>\n",
       "    .dataframe tbody tr th:only-of-type {\n",
       "        vertical-align: middle;\n",
       "    }\n",
       "\n",
       "    .dataframe tbody tr th {\n",
       "        vertical-align: top;\n",
       "    }\n",
       "\n",
       "    .dataframe thead th {\n",
       "        text-align: right;\n",
       "    }\n",
       "</style>\n",
       "<table border=\"1\" class=\"dataframe\">\n",
       "  <thead>\n",
       "    <tr style=\"text-align: right;\">\n",
       "      <th></th>\n",
       "      <th>nes</th>\n",
       "      <th>fdr_q-val</th>\n",
       "      <th>fwer_p-val</th>\n",
       "      <th>direction</th>\n",
       "    </tr>\n",
       "    <tr>\n",
       "      <th>name</th>\n",
       "      <th></th>\n",
       "      <th></th>\n",
       "      <th></th>\n",
       "      <th></th>\n",
       "    </tr>\n",
       "  </thead>\n",
       "  <tbody>\n",
       "    <tr>\n",
       "      <th>DDX58/IFIH1-MEDIATED INDUCTION OF INTERFERON-ALPHA/BETA</th>\n",
       "      <td>0.943665</td>\n",
       "      <td>0.827228</td>\n",
       "      <td>0.897</td>\n",
       "      <td>up</td>\n",
       "    </tr>\n",
       "    <tr>\n",
       "      <th>NEUROTRANSMITTER RECEPTORS AND POSTSYNAPTIC SIGNAL TRANSMISSION</th>\n",
       "      <td>0.926365</td>\n",
       "      <td>0.828776</td>\n",
       "      <td>0.906</td>\n",
       "      <td>up</td>\n",
       "    </tr>\n",
       "    <tr>\n",
       "      <th>ANTIMICROBIAL PEPTIDES</th>\n",
       "      <td>0.945042</td>\n",
       "      <td>0.829774</td>\n",
       "      <td>0.897</td>\n",
       "      <td>up</td>\n",
       "    </tr>\n",
       "    <tr>\n",
       "      <th>SIGNALING BY ROBO RECEPTORS</th>\n",
       "      <td>0.950321</td>\n",
       "      <td>0.830673</td>\n",
       "      <td>0.894</td>\n",
       "      <td>up</td>\n",
       "    </tr>\n",
       "    <tr>\n",
       "      <th>INTERLEUKIN-1 FAMILY SIGNALING</th>\n",
       "      <td>0.946434</td>\n",
       "      <td>0.832480</td>\n",
       "      <td>0.896</td>\n",
       "      <td>up</td>\n",
       "    </tr>\n",
       "  </tbody>\n",
       "</table>\n",
       "</div>"
      ],
      "text/plain": [
       "                                                         nes  fdr_q-val  \\\n",
       "name                                                                      \n",
       "DDX58/IFIH1-MEDIATED INDUCTION OF INTERFERON-AL...  0.943665   0.827228   \n",
       "NEUROTRANSMITTER RECEPTORS AND POSTSYNAPTIC SIG...  0.926365   0.828776   \n",
       "ANTIMICROBIAL PEPTIDES                              0.945042   0.829774   \n",
       "SIGNALING BY ROBO RECEPTORS                         0.950321   0.830673   \n",
       "INTERLEUKIN-1 FAMILY SIGNALING                      0.946434   0.832480   \n",
       "\n",
       "                                                    fwer_p-val direction  \n",
       "name                                                                      \n",
       "DDX58/IFIH1-MEDIATED INDUCTION OF INTERFERON-AL...       0.897        up  \n",
       "NEUROTRANSMITTER RECEPTORS AND POSTSYNAPTIC SIG...       0.906        up  \n",
       "ANTIMICROBIAL PEPTIDES                                   0.897        up  \n",
       "SIGNALING BY ROBO RECEPTORS                              0.894        up  \n",
       "INTERLEUKIN-1 FAMILY SIGNALING                           0.896        up  "
      ]
     },
     "execution_count": 73,
     "metadata": {},
     "output_type": "execute_result"
    }
   ],
   "source": [
    "run_gsea('Cryptococcal', 'Healthy control', raw_gene_matrix_by_symbols).head()"
   ]
  },
  {
   "cell_type": "markdown",
   "metadata": {},
   "source": [
    "### TB vs crypto"
   ]
  },
  {
   "cell_type": "code",
   "execution_count": 74,
   "metadata": {},
   "outputs": [
    {
     "data": {
      "text/html": [
       "<div>\n",
       "<style scoped>\n",
       "    .dataframe tbody tr th:only-of-type {\n",
       "        vertical-align: middle;\n",
       "    }\n",
       "\n",
       "    .dataframe tbody tr th {\n",
       "        vertical-align: top;\n",
       "    }\n",
       "\n",
       "    .dataframe thead th {\n",
       "        text-align: right;\n",
       "    }\n",
       "</style>\n",
       "<table border=\"1\" class=\"dataframe\">\n",
       "  <thead>\n",
       "    <tr style=\"text-align: right;\">\n",
       "      <th></th>\n",
       "      <th>nes</th>\n",
       "      <th>fdr_q-val</th>\n",
       "      <th>fwer_p-val</th>\n",
       "      <th>direction</th>\n",
       "    </tr>\n",
       "    <tr>\n",
       "      <th>name</th>\n",
       "      <th></th>\n",
       "      <th></th>\n",
       "      <th></th>\n",
       "      <th></th>\n",
       "    </tr>\n",
       "  </thead>\n",
       "  <tbody>\n",
       "    <tr>\n",
       "      <th>TOLL LIKE RECEPTOR 2 (TLR2) CASCADE</th>\n",
       "      <td>1.920125</td>\n",
       "      <td>0.136443</td>\n",
       "      <td>0.155</td>\n",
       "      <td>up</td>\n",
       "    </tr>\n",
       "    <tr>\n",
       "      <th>MYD88 DEPENDENT CASCADE INITIATED ON ENDOSOME</th>\n",
       "      <td>1.827264</td>\n",
       "      <td>0.150618</td>\n",
       "      <td>0.241</td>\n",
       "      <td>up</td>\n",
       "    </tr>\n",
       "    <tr>\n",
       "      <th>TOLL LIKE RECEPTOR 3 (TLR3) CASCADE</th>\n",
       "      <td>1.808290</td>\n",
       "      <td>0.157580</td>\n",
       "      <td>0.262</td>\n",
       "      <td>up</td>\n",
       "    </tr>\n",
       "    <tr>\n",
       "      <th>TOLL LIKE RECEPTOR TLR6:TLR2 CASCADE</th>\n",
       "      <td>1.920125</td>\n",
       "      <td>0.159183</td>\n",
       "      <td>0.155</td>\n",
       "      <td>up</td>\n",
       "    </tr>\n",
       "    <tr>\n",
       "      <th>TOLL LIKE RECEPTOR 9 (TLR9) CASCADE</th>\n",
       "      <td>1.827264</td>\n",
       "      <td>0.164311</td>\n",
       "      <td>0.241</td>\n",
       "      <td>up</td>\n",
       "    </tr>\n",
       "  </tbody>\n",
       "</table>\n",
       "</div>"
      ],
      "text/plain": [
       "                                                    nes  fdr_q-val  \\\n",
       "name                                                                 \n",
       "TOLL LIKE RECEPTOR 2 (TLR2) CASCADE            1.920125   0.136443   \n",
       "MYD88 DEPENDENT CASCADE INITIATED ON ENDOSOME  1.827264   0.150618   \n",
       "TOLL LIKE RECEPTOR 3 (TLR3) CASCADE            1.808290   0.157580   \n",
       "TOLL LIKE RECEPTOR TLR6:TLR2 CASCADE           1.920125   0.159183   \n",
       "TOLL LIKE RECEPTOR 9 (TLR9) CASCADE            1.827264   0.164311   \n",
       "\n",
       "                                               fwer_p-val direction  \n",
       "name                                                                 \n",
       "TOLL LIKE RECEPTOR 2 (TLR2) CASCADE                 0.155        up  \n",
       "MYD88 DEPENDENT CASCADE INITIATED ON ENDOSOME       0.241        up  \n",
       "TOLL LIKE RECEPTOR 3 (TLR3) CASCADE                 0.262        up  \n",
       "TOLL LIKE RECEPTOR TLR6:TLR2 CASCADE                0.155        up  \n",
       "TOLL LIKE RECEPTOR 9 (TLR9) CASCADE                 0.241        up  "
      ]
     },
     "execution_count": 74,
     "metadata": {},
     "output_type": "execute_result"
    }
   ],
   "source": [
    "run_gsea('Tuberculosis', 'Cryptococcal', raw_gene_matrix_by_symbols).head()"
   ]
  },
  {
   "cell_type": "markdown",
   "metadata": {},
   "source": [
    "The top hits may be related to HIV-1:\n",
    "\n",
    "> RNA can serve as a danger signal, both in its double-stranded form (that is associated with viral infection), as well as single-stranded RNA (ssRNA). Specifically, guanosine (G)- and uridine (U)-rich ssRNA oligonucleotides **derived from human immunodeficiency virus-1 (HIV-1)**, for example, stimulate dendritic cells (DC) and macrophages to secrete interferon-alpha and proinflammatory, as well as regulatory, cytokines. This has been found to be mediated by TLR7, as well as TLR8. Separate studies showed that imidazoquinoline compounds (e.g. imiquimod and R-848, low-molecular-weight immune response modifiers that can induce the synthesis of interferon-alpha) also exert their effects in a MyD88-dependent fashion independently through TLR7 and 8 (Heil et al. 2004).\n",
    "https://reactome.org/content/detail/R-HSA-168181"
   ]
  },
  {
   "cell_type": "code",
   "execution_count": 75,
   "metadata": {},
   "outputs": [
    {
     "data": {
      "text/html": [
       "<div>\n",
       "<style scoped>\n",
       "    .dataframe tbody tr th:only-of-type {\n",
       "        vertical-align: middle;\n",
       "    }\n",
       "\n",
       "    .dataframe tbody tr th {\n",
       "        vertical-align: top;\n",
       "    }\n",
       "\n",
       "    .dataframe thead th {\n",
       "        text-align: right;\n",
       "    }\n",
       "</style>\n",
       "<table border=\"1\" class=\"dataframe\">\n",
       "  <thead>\n",
       "    <tr style=\"text-align: right;\">\n",
       "      <th></th>\n",
       "      <th>nes</th>\n",
       "      <th>fdr_q-val</th>\n",
       "      <th>fwer_p-val</th>\n",
       "      <th>direction</th>\n",
       "    </tr>\n",
       "    <tr>\n",
       "      <th>name</th>\n",
       "      <th></th>\n",
       "      <th></th>\n",
       "      <th></th>\n",
       "      <th></th>\n",
       "    </tr>\n",
       "  </thead>\n",
       "  <tbody>\n",
       "    <tr>\n",
       "      <th>OXIDATIVE STRESS INDUCED SENESCENCE</th>\n",
       "      <td>2.097890</td>\n",
       "      <td>0.096009</td>\n",
       "      <td>0.059</td>\n",
       "      <td>up</td>\n",
       "    </tr>\n",
       "    <tr>\n",
       "      <th>PRE-NOTCH EXPRESSION AND PROCESSING</th>\n",
       "      <td>1.855195</td>\n",
       "      <td>0.142267</td>\n",
       "      <td>0.202</td>\n",
       "      <td>up</td>\n",
       "    </tr>\n",
       "    <tr>\n",
       "      <th>MEIOSIS</th>\n",
       "      <td>1.680710</td>\n",
       "      <td>0.146654</td>\n",
       "      <td>0.429</td>\n",
       "      <td>up</td>\n",
       "    </tr>\n",
       "    <tr>\n",
       "      <th>TOLL LIKE RECEPTOR 9 (TLR9) CASCADE</th>\n",
       "      <td>1.863452</td>\n",
       "      <td>0.148290</td>\n",
       "      <td>0.189</td>\n",
       "      <td>up</td>\n",
       "    </tr>\n",
       "    <tr>\n",
       "      <th>MYD88-INDEPENDENT TLR4 CASCADE</th>\n",
       "      <td>1.655734</td>\n",
       "      <td>0.149783</td>\n",
       "      <td>0.462</td>\n",
       "      <td>up</td>\n",
       "    </tr>\n",
       "  </tbody>\n",
       "</table>\n",
       "</div>"
      ],
      "text/plain": [
       "                                          nes  fdr_q-val  fwer_p-val direction\n",
       "name                                                                          \n",
       "OXIDATIVE STRESS INDUCED SENESCENCE  2.097890   0.096009       0.059        up\n",
       "PRE-NOTCH EXPRESSION AND PROCESSING  1.855195   0.142267       0.202        up\n",
       "MEIOSIS                              1.680710   0.146654       0.429        up\n",
       "TOLL LIKE RECEPTOR 9 (TLR9) CASCADE  1.863452   0.148290       0.189        up\n",
       "MYD88-INDEPENDENT TLR4 CASCADE       1.655734   0.149783       0.462        up"
      ]
     },
     "execution_count": 75,
     "metadata": {},
     "output_type": "execute_result"
    }
   ],
   "source": [
    "run_gsea('Tuberculosis', 'Cryptococcal', raw_gene_matrix, curated=True).head()"
   ]
  },
  {
   "cell_type": "markdown",
   "metadata": {},
   "source": [
    "### Side check: does either collection gives more reasonable results for (HIV vs not HIV)?"
   ]
  },
  {
   "cell_type": "code",
   "execution_count": 76,
   "metadata": {},
   "outputs": [
    {
     "data": {
      "text/html": [
       "<div>\n",
       "<style scoped>\n",
       "    .dataframe tbody tr th:only-of-type {\n",
       "        vertical-align: middle;\n",
       "    }\n",
       "\n",
       "    .dataframe tbody tr th {\n",
       "        vertical-align: top;\n",
       "    }\n",
       "\n",
       "    .dataframe thead th {\n",
       "        text-align: right;\n",
       "    }\n",
       "</style>\n",
       "<table border=\"1\" class=\"dataframe\">\n",
       "  <thead>\n",
       "    <tr style=\"text-align: right;\">\n",
       "      <th></th>\n",
       "      <th>nes</th>\n",
       "      <th>fdr_q-val</th>\n",
       "      <th>fwer_p-val</th>\n",
       "      <th>direction</th>\n",
       "    </tr>\n",
       "    <tr>\n",
       "      <th>name</th>\n",
       "      <th></th>\n",
       "      <th></th>\n",
       "      <th></th>\n",
       "      <th></th>\n",
       "    </tr>\n",
       "  </thead>\n",
       "  <tbody>\n",
       "    <tr>\n",
       "      <th>IMMUNOREGULATORY INTERACTIONS BETWEEN A LYMPHOID AND A NON-LYMPHOID CELL</th>\n",
       "      <td>1.849571</td>\n",
       "      <td>0.318197</td>\n",
       "      <td>0.207</td>\n",
       "      <td>up</td>\n",
       "    </tr>\n",
       "    <tr>\n",
       "      <th>TNFR2 NON-CANONICAL NF-KB PATHWAY</th>\n",
       "      <td>1.852291</td>\n",
       "      <td>0.467542</td>\n",
       "      <td>0.203</td>\n",
       "      <td>up</td>\n",
       "    </tr>\n",
       "    <tr>\n",
       "      <th>EPH-EPHRIN MEDIATED REPULSION OF CELLS</th>\n",
       "      <td>1.713134</td>\n",
       "      <td>0.508184</td>\n",
       "      <td>0.399</td>\n",
       "      <td>up</td>\n",
       "    </tr>\n",
       "    <tr>\n",
       "      <th>TNFS BIND THEIR PHYSIOLOGICAL RECEPTORS</th>\n",
       "      <td>1.911742</td>\n",
       "      <td>0.594734</td>\n",
       "      <td>0.154</td>\n",
       "      <td>up</td>\n",
       "    </tr>\n",
       "    <tr>\n",
       "      <th>TRANSCRIPTIONAL REGULATION BY RUNX3</th>\n",
       "      <td>1.617923</td>\n",
       "      <td>0.596034</td>\n",
       "      <td>0.551</td>\n",
       "      <td>up</td>\n",
       "    </tr>\n",
       "  </tbody>\n",
       "</table>\n",
       "</div>"
      ],
      "text/plain": [
       "                                                         nes  fdr_q-val  \\\n",
       "name                                                                      \n",
       "IMMUNOREGULATORY INTERACTIONS BETWEEN A LYMPHOI...  1.849571   0.318197   \n",
       "TNFR2 NON-CANONICAL NF-KB PATHWAY                   1.852291   0.467542   \n",
       "EPH-EPHRIN MEDIATED REPULSION OF CELLS              1.713134   0.508184   \n",
       "TNFS BIND THEIR PHYSIOLOGICAL RECEPTORS             1.911742   0.594734   \n",
       "TRANSCRIPTIONAL REGULATION BY RUNX3                 1.617923   0.596034   \n",
       "\n",
       "                                                    fwer_p-val direction  \n",
       "name                                                                      \n",
       "IMMUNOREGULATORY INTERACTIONS BETWEEN A LYMPHOI...       0.207        up  \n",
       "TNFR2 NON-CANONICAL NF-KB PATHWAY                        0.203        up  \n",
       "EPH-EPHRIN MEDIATED REPULSION OF CELLS                   0.399        up  \n",
       "TNFS BIND THEIR PHYSIOLOGICAL RECEPTORS                  0.154        up  \n",
       "TRANSCRIPTIONAL REGULATION BY RUNX3                      0.551        up  "
      ]
     },
     "execution_count": 76,
     "metadata": {},
     "output_type": "execute_result"
    }
   ],
   "source": [
    "run_gsea('Positive', 'Negative', raw_gene_matrix_by_symbols, design=clinical.HIVResult).head()"
   ]
  },
  {
   "cell_type": "code",
   "execution_count": 77,
   "metadata": {},
   "outputs": [
    {
     "data": {
      "text/html": [
       "<div>\n",
       "<style scoped>\n",
       "    .dataframe tbody tr th:only-of-type {\n",
       "        vertical-align: middle;\n",
       "    }\n",
       "\n",
       "    .dataframe tbody tr th {\n",
       "        vertical-align: top;\n",
       "    }\n",
       "\n",
       "    .dataframe thead th {\n",
       "        text-align: right;\n",
       "    }\n",
       "</style>\n",
       "<table border=\"1\" class=\"dataframe\">\n",
       "  <thead>\n",
       "    <tr style=\"text-align: right;\">\n",
       "      <th></th>\n",
       "      <th>nes</th>\n",
       "      <th>fdr_q-val</th>\n",
       "      <th>fwer_p-val</th>\n",
       "      <th>direction</th>\n",
       "    </tr>\n",
       "    <tr>\n",
       "      <th>name</th>\n",
       "      <th></th>\n",
       "      <th></th>\n",
       "      <th></th>\n",
       "      <th></th>\n",
       "    </tr>\n",
       "  </thead>\n",
       "  <tbody>\n",
       "    <tr>\n",
       "      <th>TNFR2 NON-CANONICAL NF-KB PATHWAY</th>\n",
       "      <td>1.906123</td>\n",
       "      <td>0.279724</td>\n",
       "      <td>0.159</td>\n",
       "      <td>up</td>\n",
       "    </tr>\n",
       "    <tr>\n",
       "      <th>EPH-EPHRIN MEDIATED REPULSION OF CELLS</th>\n",
       "      <td>1.804255</td>\n",
       "      <td>0.294994</td>\n",
       "      <td>0.278</td>\n",
       "      <td>up</td>\n",
       "    </tr>\n",
       "    <tr>\n",
       "      <th>SIGNALING BY NOTCH1</th>\n",
       "      <td>1.748021</td>\n",
       "      <td>0.346845</td>\n",
       "      <td>0.363</td>\n",
       "      <td>up</td>\n",
       "    </tr>\n",
       "    <tr>\n",
       "      <th>IMMUNOREGULATORY INTERACTIONS BETWEEN A LYMPHOID AND A NON-LYMPHOID CELL</th>\n",
       "      <td>1.816932</td>\n",
       "      <td>0.356280</td>\n",
       "      <td>0.262</td>\n",
       "      <td>up</td>\n",
       "    </tr>\n",
       "    <tr>\n",
       "      <th>TNFS BIND THEIR PHYSIOLOGICAL RECEPTORS</th>\n",
       "      <td>1.956485</td>\n",
       "      <td>0.367085</td>\n",
       "      <td>0.120</td>\n",
       "      <td>up</td>\n",
       "    </tr>\n",
       "  </tbody>\n",
       "</table>\n",
       "</div>"
      ],
      "text/plain": [
       "                                                         nes  fdr_q-val  \\\n",
       "name                                                                      \n",
       "TNFR2 NON-CANONICAL NF-KB PATHWAY                   1.906123   0.279724   \n",
       "EPH-EPHRIN MEDIATED REPULSION OF CELLS              1.804255   0.294994   \n",
       "SIGNALING BY NOTCH1                                 1.748021   0.346845   \n",
       "IMMUNOREGULATORY INTERACTIONS BETWEEN A LYMPHOI...  1.816932   0.356280   \n",
       "TNFS BIND THEIR PHYSIOLOGICAL RECEPTORS             1.956485   0.367085   \n",
       "\n",
       "                                                    fwer_p-val direction  \n",
       "name                                                                      \n",
       "TNFR2 NON-CANONICAL NF-KB PATHWAY                        0.159        up  \n",
       "EPH-EPHRIN MEDIATED REPULSION OF CELLS                   0.278        up  \n",
       "SIGNALING BY NOTCH1                                      0.363        up  \n",
       "IMMUNOREGULATORY INTERACTIONS BETWEEN A LYMPHOI...       0.262        up  \n",
       "TNFS BIND THEIR PHYSIOLOGICAL RECEPTORS                  0.120        up  "
      ]
     },
     "execution_count": 77,
     "metadata": {},
     "output_type": "execute_result"
    }
   ],
   "source": [
    "run_gsea('Positive', 'Negative', raw_gene_matrix, curated=True, design=clinical.HIVResult).head()"
   ]
  },
  {
   "cell_type": "markdown",
   "metadata": {},
   "source": [
    "Does not look good to me."
   ]
  },
  {
   "cell_type": "markdown",
   "metadata": {},
   "source": [
    "## Overall distributions"
   ]
  },
  {
   "cell_type": "code",
   "execution_count": 78,
   "metadata": {},
   "outputs": [],
   "source": [
    "stacked = raw_protein_matrix.melt(var_name='patient', value_name='abundance')"
   ]
  },
  {
   "cell_type": "code",
   "execution_count": 79,
   "metadata": {},
   "outputs": [],
   "source": [
    "from plots.annotations import tuberculosis_status"
   ]
  },
  {
   "cell_type": "code",
   "execution_count": 80,
   "metadata": {},
   "outputs": [],
   "source": [
    "stacked['group'] = stacked.patient.map(by_condition)\n",
    "stacked['TB_status'] = stacked.patient.apply(lambda patient: patient.split('.')[1]).map(tuberculosis_status).fillna('-')"
   ]
  },
  {
   "cell_type": "code",
   "execution_count": 81,
   "metadata": {},
   "outputs": [],
   "source": [
    "%R -i stacked"
   ]
  },
  {
   "cell_type": "code",
   "execution_count": 82,
   "metadata": {},
   "outputs": [],
   "source": [
    "from jupyter_helpers import rpy2_autocompletion"
   ]
  },
  {
   "cell_type": "code",
   "execution_count": 83,
   "metadata": {},
   "outputs": [
    {
     "data": {
      "image/png": "[encoded data removed]"
     },
     "metadata": {},
     "output_type": "display_data"
    }
   ],
   "source": [
    "%%R\n",
    "(\n",
    "    ggplot(stacked, aes(x=group, y=log10(abundance), fill=group))\n",
    "    + geom_violin()\n",
    "    + geom_boxplot(fill='white', width=.05)\n",
    "    + scale_fill_manual(values=patient_colors$Meningitis)\n",
    "    + theme(legend.position='bottom')\n",
    ")"
   ]
  },
  {
   "cell_type": "code",
   "execution_count": 84,
   "metadata": {},
   "outputs": [
    {
     "data": {
      "image/png": "[encoded data removed]"
     },
     "metadata": {},
     "output_type": "display_data"
    }
   ],
   "source": [
    "%%R -w 800\n",
    "(\n",
    "    ggplot(stacked, aes(x=reorder(patient, abundance), y=log10(abundance)))\n",
    "    + facet_wrap('~ group', scale='free_x')\n",
    "    + geom_boxplot(notch=T)\n",
    "    + theme(axis.text.x = element_text(angle = 90))\n",
    ")"
   ]
  },
  {
   "cell_type": "code",
   "execution_count": 85,
   "metadata": {},
   "outputs": [
    {
     "data": {
      "image/png": "[encoded data removed]"
     },
     "metadata": {},
     "output_type": "display_data"
    }
   ],
   "source": [
    "%%R -w 800\n",
    "(\n",
    "    ggplot(stacked[stacked$group == 'Tuberculosis',], aes(x=reorder(patient, abundance), y=log10(abundance)))\n",
    "    + facet_grid('~ TB_status', scale='free_x', space='free_x')\n",
    "    + geom_boxplot(notch=T)\n",
    "    + scale_fill_manual(values=patient_colors$Meningitis)\n",
    "    + theme(axis.text.x = element_text(angle = 90))\n",
    ")"
   ]
  },
  {
   "cell_type": "markdown",
   "metadata": {},
   "source": [
    "## Caveats of SOMAScan"
   ]
  },
  {
   "cell_type": "markdown",
   "metadata": {},
   "source": [
    "A quick notes from [(Joshi and Mayr, 2018)](https://www.ahajournals.org/doi/full/10.1161/CIRCULATIONAHA.118.036823):\n",
    "- non specificity, cross-reactivity a known problem\n",
    "- SNPs a known problem too\n",
    "- PTMs(!) a potential problem (IMO more than SNPs), an important consideration for signaling proteins and signaling pathways - these may be under-represented!\n",
    "\n",
    "**Thus: (!!)**\n",
    "Cross checking with RNA-seq is crucial and may hint us not only about the biological differences (i.e. SOMAScan detecting protein previously expressed and folded, while RNA-seq detecting proteins being actively expressed) but also about the discrepancies arising from failing SOMAScan failing to detect PTM modified signaling proteins or proteins bearing an important (and conformation changing) SNP."
   ]
  }
 ],
 "metadata": {
  "kernelspec": {
   "display_name": "Python 3",
   "language": "python",
   "name": "python3"
  },
  "language_info": {
   "codemirror_mode": {
    "name": "ipython",
    "version": 3
   },
   "file_extension": ".py",
   "mimetype": "text/x-python",
   "name": "python",
   "nbconvert_exporter": "python",
   "pygments_lexer": "ipython3",
   "version": "3.7.6"
  }
 },
 "nbformat": 4,
 "nbformat_minor": 4
}
