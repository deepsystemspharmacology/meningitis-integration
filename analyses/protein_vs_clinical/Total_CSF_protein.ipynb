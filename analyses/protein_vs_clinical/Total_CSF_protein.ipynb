{
 "cells": [
  {
   "cell_type": "code",
   "execution_count": 1,
   "metadata": {},
   "outputs": [],
   "source": [
    "from jupyter_helpers.selective_import import notebooks_importer "
   ]
  },
  {
   "cell_type": "code",
   "execution_count": 2,
   "metadata": {},
   "outputs": [],
   "source": [
    "from helpers.utilities import *\n",
    "%run helpers/notebook_setup.ipynb"
   ]
  },
  {
   "cell_type": "code",
   "execution_count": 3,
   "metadata": {
    "tags": [
     "parameters"
    ]
   },
   "outputs": [],
   "source": [
    "indexed_by_target_path = 'data/clean/protein/indexed_by_target.csv'\n",
    "log_matrix_path = 'data/clean/protein/log_10.csv'\n",
    "\n",
    "clinical_subset = 'data/clean/protein/clinical_data_ordered_to_match_proteins_matrix.csv'"
   ]
  },
  {
   "cell_type": "code",
   "execution_count": 4,
   "metadata": {},
   "outputs": [],
   "source": [
    "clinical = read_csv(clinical_subset)\n",
    "\n",
    "raw_protein_matrix = read_csv(indexed_by_target_path, index_col=0)\n",
    "log_matrix = read_csv(log_matrix_path, index_col=0)"
   ]
  },
  {
   "cell_type": "code",
   "execution_count": 5,
   "metadata": {},
   "outputs": [],
   "source": [
    "%R source('plots/colors.R');"
   ]
  },
  {
   "cell_type": "markdown",
   "metadata": {},
   "source": [
    "### Total CSF Protein"
   ]
  },
  {
   "cell_type": "markdown",
   "metadata": {},
   "source": [
    "**Actually, I am not sure what protein it is.** Is it somehow correlated with SOMAScan?"
   ]
  },
  {
   "cell_type": "code",
   "execution_count": 6,
   "metadata": {},
   "outputs": [],
   "source": [
    "from scipy.stats import spearmanr"
   ]
  },
  {
   "cell_type": "code",
   "execution_count": 7,
   "metadata": {},
   "outputs": [
    {
     "data": {
      "text/plain": [
       "SpearmanrResult(correlation=0.8996201248447334, pvalue=1.6079629180954385e-30)"
      ]
     },
     "execution_count": 7,
     "metadata": {},
     "output_type": "execute_result"
    }
   ],
   "source": [
    "spearmanr(log_matrix.abs().sum(), clinical['Protein'])"
   ]
  },
  {
   "cell_type": "code",
   "execution_count": 8,
   "metadata": {},
   "outputs": [
    {
     "data": {
      "text/plain": [
       "SpearmanrResult(correlation=0.9096450511594136, pvalue=2.9191213096280035e-32)"
      ]
     },
     "execution_count": 8,
     "metadata": {},
     "output_type": "execute_result"
    }
   ],
   "source": [
    "spearmanr(raw_protein_matrix.sum(), clinical['Protein'])"
   ]
  },
  {
   "cell_type": "markdown",
   "metadata": {},
   "source": [
    "Yes it is. But what about the scale and units?"
   ]
  },
  {
   "cell_type": "code",
   "execution_count": 9,
   "metadata": {},
   "outputs": [
    {
     "data": {
      "text/plain": [
       "0    2.84\n",
       "1    9.58\n",
       "2    1.21\n",
       "3    3.61\n",
       "4    1.53\n",
       "Name: Protein, dtype: float64"
      ]
     },
     "execution_count": 9,
     "metadata": {},
     "output_type": "execute_result"
    }
   ],
   "source": [
    "clinical['Protein'].head()"
   ]
  },
  {
   "cell_type": "code",
   "execution_count": 10,
   "metadata": {},
   "outputs": [
    {
     "data": {
      "text/plain": [
       "149.TMD    22256146.8\n",
       "007.TMD    28233178.4\n",
       "001.TMD    17776003.3\n",
       "064.TMD    24980056.0\n",
       "151.TMD    17658752.4\n",
       "dtype: float64"
      ]
     },
     "execution_count": 10,
     "metadata": {},
     "output_type": "execute_result"
    }
   ],
   "source": [
    "raw_protein_matrix.sum().head()"
   ]
  },
  {
   "cell_type": "markdown",
   "metadata": {},
   "source": [
    "I have no idea..."
   ]
  },
  {
   "cell_type": "markdown",
   "metadata": {},
   "source": [
    "**Update after consultation with dr Rachel**:\n",
    "- this is the total protein in CSF, measured independently of the SOMAScan\n",
    "- the signal is assumed to be dominated by albumin\n",
    "- the high correlation of the total protein CSF and summed SOMAScan values (even though we only measure about <10% of proteins) reassures us about the coherence of protein measurements"
   ]
  },
  {
   "cell_type": "markdown",
   "metadata": {},
   "source": [
    "### Total CSF protein is in the expect ranges for specific patient groups "
   ]
  },
  {
   "cell_type": "markdown",
   "metadata": {},
   "source": [
    "Personal research:"
   ]
  },
  {
   "cell_type": "markdown",
   "metadata": {},
   "source": [
    "A recent systematic review of [total CSF protein in adults](https://www.ncbi.nlm.nih.gov/pubmed/30617996) suggests that:\n",
    "- in people above the age of 50, the value of 0.60 g/L is still normal (as the median age in our cohort 36 years, we would expect the value of healthy controls to be below 0.6)\n",
    "- importantly the value changes with age \n",
    "- this is regardless of gender and lab methods"
   ]
  },
  {
   "cell_type": "markdown",
   "metadata": {},
   "source": [
    "A [website of an NHS hospital](https://www.gloshospitals.nhs.uk/our-services/services-we-offer/pathology/tests-and-investigations/cerebral-spinal-fluids-csf-protein-and-glucose/) suggests that:\n",
    "- mild elevation (usually below 1 g/L?) is associated with viral meningitis\n",
    "- moderate and high is associated with bacterial and TB meningitis\n",
    "\n",
    "TODO: find relevant literature to support and refine these claims"
   ]
  },
  {
   "cell_type": "markdown",
   "metadata": {},
   "source": [
    "Can we compare results from healthy patients to that?"
   ]
  },
  {
   "cell_type": "code",
   "execution_count": 11,
   "metadata": {},
   "outputs": [],
   "source": [
    "from scipy.stats import zscore\n",
    "\n",
    "df = clinical[['Meningitis', 'Protein']].reset_index()\n",
    "df['z_score'] = df.groupby('Meningitis')['Protein'].transform(lambda x: zscore(x))"
   ]
  },
  {
   "cell_type": "code",
   "execution_count": 12,
   "metadata": {},
   "outputs": [
    {
     "name": "stdout",
     "output_type": "stream",
     "text": [
      "notch went outside hinges. Try setting notch=FALSE.\n",
      "notch went outside hinges. Try setting notch=FALSE.\n"
     ]
    },
    {
     "data": {
      "image/png": "[encoded data removed]"
     },
     "metadata": {},
     "output_type": "display_data"
    }
   ],
   "source": [
    "%%R -i df\n",
    "library(ggbeeswarm)\n",
    "library(ggrepel)\n",
    "\n",
    "# prepare labels but only for potential outliers\n",
    "df[df$z_score < 1.5, 'index'] = NA\n",
    "\n",
    "(\n",
    "    ggplot(df, aes(x=Meningitis, y=Protein, color=Meningitis, label=index))\n",
    "    + theme_minimal()\n",
    "    + geom_boxplot(outlier.shape=NA, color='grey75', notch=T)\n",
    "    + geom_quasirandom()\n",
    "    + scale_color_manual(values=patient_colors$Meningitis)\n",
    "    + theme(legend.position='bottom')\n",
    "    + geom_label_repel(\n",
    "        position=position_quasirandom(),\n",
    "        min.segment.length=.1, direction='x',\n",
    "        force=10,\n",
    "        show.legend=F, max.max.overlaps=Inf\n",
    "    )\n",
    "    # line marking the reference 0.6 value for helthy controls\n",
    "    + annotate('segment', x=1.5, xend=2.5, y=0.6, yend=0.6, color='pink')\n",
    "    + ylab('Total CSF protein')\n",
    ")"
   ]
  },
  {
   "cell_type": "markdown",
   "metadata": {},
   "source": [
    "This picture agrees with expected trends."
   ]
  },
  {
   "cell_type": "code",
   "execution_count": 13,
   "metadata": {},
   "outputs": [],
   "source": [
    "df['SOMAScan_zscore'] = zscore(raw_protein_matrix.sum())\n",
    "df['TotalProtein_zscore'] = zscore(df['Protein'])"
   ]
  },
  {
   "cell_type": "code",
   "execution_count": 14,
   "metadata": {},
   "outputs": [],
   "source": [
    "def reshape_for_pair_plot(df, id_vars=['index', 'Meningitis']):\n",
    "    df_paired = df.melt(\n",
    "        id_vars=id_vars,\n",
    "        value_vars=['TotalProtein_zscore', 'SOMAScan_zscore'],\n",
    "        var_name='method', value_name='zscore'\n",
    "    )\n",
    "    df_paired['method'] = df_paired['method'].str.replace('_zscore', '')\n",
    "    df_paired['rank'] = df_paired['zscore'].rank(ascending=False)\n",
    "    df_paired['shift'] = df_paired['method'].map({'TotalProtein': -1, 'SOMAScan': 1})\n",
    "    return df_paired"
   ]
  },
  {
   "cell_type": "code",
   "execution_count": 15,
   "metadata": {},
   "outputs": [],
   "source": [
    "df_paired = reshape_for_pair_plot(df)"
   ]
  },
  {
   "cell_type": "markdown",
   "metadata": {},
   "source": [
    "### Sum of SOMAScan measurements correlates with the total CSF protein"
   ]
  },
  {
   "cell_type": "code",
   "execution_count": 16,
   "metadata": {},
   "outputs": [
    {
     "data": {
      "image/png": "[encoded data removed]"
     },
     "metadata": {},
     "output_type": "display_data"
    }
   ],
   "source": [
    "%%R -i df_paired\n",
    "df_paired[df_paired$rank > 4, 'index'] = NA\n",
    "(\n",
    "    ggpubr::ggpaired(\n",
    "        df_paired, x='method', y='zscore',\n",
    "        color='method', line.color='gray', xlab='Measurment method'\n",
    "    )\n",
    "    + ggpubr::stat_compare_means(paired=T, label.x=2)\n",
    "    + geom_label_repel(aes(label=index), direction='x', nudge_x=df_paired$shift/5)\n",
    "    + ylab('z-score')\n",
    ")"
   ]
  },
  {
   "cell_type": "markdown",
   "metadata": {},
   "source": [
    "- Mann-Whitney U test (habitually referred to as Wilcoxon in R for some reason) supports the finding obtained via Spearman correlation. Note: violation of independence.\n",
    "- the outliers are correlated, but\n",
    "- the correlation for outliers is far from perfect, which **suggests a potential technical error - at least for the SOMAscan outliers (24, 239)** - and not necessarily the other way around (as SOMAScan measures a subset of proteins, 007 might be just missing measurements in SOMAScan).\n",
    "- **the correlation seems to be higher for low values, but not for high values; this could tell us how much of the disease-driven variation we capture with SOMASscan.**\n",
    "- come to think of it quantile-quantile normalization could have been nicer, though less informative."
   ]
  },
  {
   "cell_type": "code",
   "execution_count": 17,
   "metadata": {},
   "outputs": [],
   "source": [
    "df_faceted = []\n",
    "\n",
    "for group in df.Meningitis.unique():\n",
    "    mask = df.Meningitis == group\n",
    "    soma = raw_protein_matrix.sum().loc[list(mask)]\n",
    "    total = df[mask]['Protein']\n",
    "    spearman = spearmanr(soma, total)\n",
    "    df_faceted.append(DataFrame(dict(\n",
    "        SOMAScan_zscore =zscore(soma),\n",
    "        TotalProtein_zscore=zscore(total),\n",
    "        spearman=f'r={spearman[0]:.2f}, p={spearman[1]:.2e}',\n",
    "        Meningitis=group,\n",
    "        index=df[mask]['index']\n",
    "    )))\n",
    "df_faceted = concat(df_faceted)"
   ]
  },
  {
   "cell_type": "code",
   "execution_count": 18,
   "metadata": {},
   "outputs": [],
   "source": [
    "df_paired = reshape_for_pair_plot(df_faceted, id_vars=['index', 'Meningitis', 'spearman'])"
   ]
  },
  {
   "cell_type": "code",
   "execution_count": 19,
   "metadata": {},
   "outputs": [
    {
     "data": {
      "image/png": "[encoded data removed]"
     },
     "metadata": {},
     "output_type": "display_data"
    }
   ],
   "source": [
    "%%R -i df_paired\n",
    "annotations = df_paired[, c('Meningitis', 'spearman')]\n",
    "annotations = annotations[!duplicated(annotations), ]\n",
    "(\n",
    "    ggpubr::ggpaired(\n",
    "        df_paired, x='method', y='zscore', facet.by='Meningitis',\n",
    "        color='method', line.color='gray', xlab='Measurment method'\n",
    "    )\n",
    "    + ggpubr::stat_compare_means(paired=T, label.x=1.5, hjust=0)\n",
    "    + geom_text(data=annotations, aes(label=spearman), x=1.5, y=3.7, hjust=0)\n",
    "    + ylab('z-score')\n",
    ")"
   ]
  },
  {
   "cell_type": "markdown",
   "metadata": {},
   "source": [
    "Intuition: if the values from SOMASscan for healthy patients correlate more with Total CSF protein than the values for diseased ones, we are missing substantial amount of disease driven variation in SOMAScan. This derives from an assumption that for healthy patients the protein levels are generally low."
   ]
  },
  {
   "cell_type": "markdown",
   "metadata": {},
   "source": [
    "The plot above shows that:\n",
    "- the correlation appears to be roughly the same for each of the patient groups, thus\n",
    "- if a disease modulates only a fraction of proteins, the SOMAScan panel covers substantial amount of them (here naively assuming that the contributions of each protein is comparable)\n",
    "- if a disease modulates most of the proteins, we cannot claim the above\n",
    "- if a fraction of proteins drives the overall change in protein level, we got this fraction covered by SOMAScan (the suspected effect of albumin) "
   ]
  },
  {
   "cell_type": "markdown",
   "metadata": {},
   "source": [
    "### Albumin levels are different than expected"
   ]
  },
  {
   "cell_type": "markdown",
   "metadata": {},
   "source": [
    "#### Does albumin explain most of the variation?"
   ]
  },
  {
   "cell_type": "code",
   "execution_count": 20,
   "metadata": {},
   "outputs": [
    {
     "data": {
      "text/plain": [
       "SpearmanrResult(correlation=0.8947110675505742, pvalue=9.84177497838464e-30)"
      ]
     },
     "execution_count": 20,
     "metadata": {},
     "output_type": "execute_result"
    }
   ],
   "source": [
    "albumin = raw_protein_matrix.loc['Albumin']\n",
    "spearmanr(albumin, clinical['Protein'])"
   ]
  },
  {
   "cell_type": "markdown",
   "metadata": {},
   "source": [
    "Interesting, the correlation is lower than the overall correlation..."
   ]
  },
  {
   "cell_type": "markdown",
   "metadata": {},
   "source": [
    "Are there any other albumin isoforms?"
   ]
  },
  {
   "cell_type": "markdown",
   "metadata": {},
   "source": [
    "First, I will look up by the full name:"
   ]
  },
  {
   "cell_type": "code",
   "execution_count": 21,
   "metadata": {},
   "outputs": [],
   "source": [
    "relevant_aptamers = read_csv('data/other/relevant_aptamers.csv')"
   ]
  },
  {
   "cell_type": "code",
   "execution_count": 22,
   "metadata": {},
   "outputs": [
    {
     "data": {
      "text/html": [
       "<div>\n",
       "<style scoped>\n",
       "    .dataframe tbody tr th:only-of-type {\n",
       "        vertical-align: middle;\n",
       "    }\n",
       "\n",
       "    .dataframe tbody tr th {\n",
       "        vertical-align: top;\n",
       "    }\n",
       "\n",
       "    .dataframe thead th {\n",
       "        text-align: right;\n",
       "    }\n",
       "</style>\n",
       "<table border=\"1\" class=\"dataframe\">\n",
       "  <thead>\n",
       "    <tr style=\"text-align: right;\">\n",
       "      <th></th>\n",
       "      <th>Unnamed: 0</th>\n",
       "      <th>AptamerId</th>\n",
       "      <th>SomaId</th>\n",
       "      <th>Target</th>\n",
       "      <th>TargetFullName</th>\n",
       "      <th>...</th>\n",
       "      <th>Type</th>\n",
       "      <th>PlasmaDilution</th>\n",
       "      <th>SerumDilution</th>\n",
       "      <th>IsIn1310Panel</th>\n",
       "      <th>IsIn1129Panel</th>\n",
       "    </tr>\n",
       "  </thead>\n",
       "  <tbody>\n",
       "    <tr>\n",
       "      <th>246</th>\n",
       "      <td>249</td>\n",
       "      <td>3707-12</td>\n",
       "      <td>SL000254</td>\n",
       "      <td>Albumin</td>\n",
       "      <td>Serum albumin</td>\n",
       "      <td>...</td>\n",
       "      <td>Protein</td>\n",
       "      <td>0.005</td>\n",
       "      <td>0.005</td>\n",
       "      <td>1</td>\n",
       "      <td>1</td>\n",
       "    </tr>\n",
       "  </tbody>\n",
       "</table>\n",
       "<p>1 rows × 15 columns</p>\n",
       "</div>"
      ],
      "text/plain": [
       "     Unnamed: 0 AptamerId    SomaId   Target TargetFullName  ...     Type  \\\n",
       "246         249   3707-12  SL000254  Albumin  Serum albumin  ...  Protein   \n",
       "\n",
       "    PlasmaDilution SerumDilution IsIn1310Panel IsIn1129Panel  \n",
       "246          0.005         0.005             1             1  \n",
       "\n",
       "[1 rows x 15 columns]"
      ]
     },
     "execution_count": 22,
     "metadata": {},
     "output_type": "execute_result"
    }
   ],
   "source": [
    "relevant_aptamers[relevant_aptamers.TargetFullName.str.lower().str.contains('albumin')]"
   ]
  },
  {
   "cell_type": "markdown",
   "metadata": {},
   "source": [
    "Then, I check by the correlations:"
   ]
  },
  {
   "cell_type": "code",
   "execution_count": 23,
   "metadata": {},
   "outputs": [],
   "source": [
    "from helpers.r import p_adjust"
   ]
  },
  {
   "cell_type": "code",
   "execution_count": 24,
   "metadata": {},
   "outputs": [],
   "source": [
    "def somascan_correlations(reference, data=raw_protein_matrix, mask=None, method=spearmanr):\n",
    "    if mask is not None:\n",
    "        mask = list(mask)\n",
    "        data = data[data.columns[mask]]\n",
    "        reference = reference[mask]\n",
    "    df = data.apply(lambda protein: method(protein, reference), axis=1)\n",
    "    df = DataFrame(df.values.tolist(), index=data.index, columns=['correlation', 'pvalue'])\n",
    "    df['qvalue'] = p_adjust(df.pvalue.tolist())\n",
    "    df['full_name'] = relevant_aptamers.set_index('Target')['TargetFullName'][df.index]\n",
    "    df['% of sum(SOMAScan)'] = 100 * data.sum(axis=1) / data.sum().sum()\n",
    "    return df.sort_values('correlation')"
   ]
  },
  {
   "cell_type": "code",
   "execution_count": 25,
   "metadata": {},
   "outputs": [
    {
     "data": {
      "text/html": [
       "<div>\n",
       "<style scoped>\n",
       "    .dataframe tbody tr th:only-of-type {\n",
       "        vertical-align: middle;\n",
       "    }\n",
       "\n",
       "    .dataframe tbody tr th {\n",
       "        vertical-align: top;\n",
       "    }\n",
       "\n",
       "    .dataframe thead th {\n",
       "        text-align: right;\n",
       "    }\n",
       "</style>\n",
       "<table border=\"1\" class=\"dataframe\">\n",
       "  <thead>\n",
       "    <tr style=\"text-align: right;\">\n",
       "      <th></th>\n",
       "      <th>correlation</th>\n",
       "      <th>pvalue</th>\n",
       "      <th>qvalue</th>\n",
       "      <th>full_name</th>\n",
       "      <th>% of sum(SOMAScan)</th>\n",
       "    </tr>\n",
       "    <tr>\n",
       "      <th>target</th>\n",
       "      <th></th>\n",
       "      <th></th>\n",
       "      <th></th>\n",
       "      <th></th>\n",
       "      <th></th>\n",
       "    </tr>\n",
       "  </thead>\n",
       "  <tbody>\n",
       "    <tr>\n",
       "      <th>C5</th>\n",
       "      <td>0.927014</td>\n",
       "      <td>8.053779e-36</td>\n",
       "      <td>1.043770e-32</td>\n",
       "      <td>Complement C5</td>\n",
       "      <td>0.263528</td>\n",
       "    </tr>\n",
       "    <tr>\n",
       "      <th>Prekallikrein</th>\n",
       "      <td>0.927188</td>\n",
       "      <td>7.345019e-36</td>\n",
       "      <td>9.526490e-33</td>\n",
       "      <td>Plasma kallikrein</td>\n",
       "      <td>0.707306</td>\n",
       "    </tr>\n",
       "    <tr>\n",
       "      <th>C5b, 6 Complex</th>\n",
       "      <td>0.928821</td>\n",
       "      <td>3.062141e-36</td>\n",
       "      <td>3.977721e-33</td>\n",
       "      <td>Complement C5b-C6 complex</td>\n",
       "      <td>0.075634</td>\n",
       "    </tr>\n",
       "    <tr>\n",
       "      <th>HRG</th>\n",
       "      <td>0.928821</td>\n",
       "      <td>3.062141e-36</td>\n",
       "      <td>3.977721e-33</td>\n",
       "      <td>Histidine-rich glycoprotein</td>\n",
       "      <td>0.180771</td>\n",
       "    </tr>\n",
       "    <tr>\n",
       "      <th>Plasminogen</th>\n",
       "      <td>0.930736</td>\n",
       "      <td>1.067815e-36</td>\n",
       "      <td>1.388159e-33</td>\n",
       "      <td>Plasminogen</td>\n",
       "      <td>0.263125</td>\n",
       "    </tr>\n",
       "    <tr>\n",
       "      <th>HGFA</th>\n",
       "      <td>0.932217</td>\n",
       "      <td>4.633136e-37</td>\n",
       "      <td>6.027710e-34</td>\n",
       "      <td>Hepatocyte growth factor activator</td>\n",
       "      <td>0.263545</td>\n",
       "    </tr>\n",
       "    <tr>\n",
       "      <th>a2-HS-Glycoprotein</th>\n",
       "      <td>0.937288</td>\n",
       "      <td>2.280911e-38</td>\n",
       "      <td>2.969747e-35</td>\n",
       "      <td>Alpha-2-HS-glycoprotein</td>\n",
       "      <td>0.148111</td>\n",
       "    </tr>\n",
       "    <tr>\n",
       "      <th>Angiostatin</th>\n",
       "      <td>0.940183</td>\n",
       "      <td>3.644898e-39</td>\n",
       "      <td>4.749301e-36</td>\n",
       "      <td>Angiostatin</td>\n",
       "      <td>0.032770</td>\n",
       "    </tr>\n",
       "    <tr>\n",
       "      <th>Apo A-I</th>\n",
       "      <td>0.950022</td>\n",
       "      <td>3.337059e-42</td>\n",
       "      <td>4.351525e-39</td>\n",
       "      <td>Apolipoprotein A-I</td>\n",
       "      <td>0.332351</td>\n",
       "    </tr>\n",
       "    <tr>\n",
       "      <th>Albumin</th>\n",
       "      <td>1.000000</td>\n",
       "      <td>0.000000e+00</td>\n",
       "      <td>0.000000e+00</td>\n",
       "      <td>Serum albumin</td>\n",
       "      <td>0.565023</td>\n",
       "    </tr>\n",
       "  </tbody>\n",
       "</table>\n",
       "</div>"
      ],
      "text/plain": [
       "                    correlation        pvalue        qvalue  \\\n",
       "target                                                        \n",
       "C5                     0.927014  8.053779e-36  1.043770e-32   \n",
       "Prekallikrein          0.927188  7.345019e-36  9.526490e-33   \n",
       "C5b, 6 Complex         0.928821  3.062141e-36  3.977721e-33   \n",
       "HRG                    0.928821  3.062141e-36  3.977721e-33   \n",
       "Plasminogen            0.930736  1.067815e-36  1.388159e-33   \n",
       "HGFA                   0.932217  4.633136e-37  6.027710e-34   \n",
       "a2-HS-Glycoprotein     0.937288  2.280911e-38  2.969747e-35   \n",
       "Angiostatin            0.940183  3.644898e-39  4.749301e-36   \n",
       "Apo A-I                0.950022  3.337059e-42  4.351525e-39   \n",
       "Albumin                1.000000  0.000000e+00  0.000000e+00   \n",
       "\n",
       "                                             full_name  % of sum(SOMAScan)  \n",
       "target                                                                      \n",
       "C5                                       Complement C5            0.263528  \n",
       "Prekallikrein                        Plasma kallikrein            0.707306  \n",
       "C5b, 6 Complex               Complement C5b-C6 complex            0.075634  \n",
       "HRG                        Histidine-rich glycoprotein            0.180771  \n",
       "Plasminogen                                Plasminogen            0.263125  \n",
       "HGFA                Hepatocyte growth factor activator            0.263545  \n",
       "a2-HS-Glycoprotein             Alpha-2-HS-glycoprotein            0.148111  \n",
       "Angiostatin                                Angiostatin            0.032770  \n",
       "Apo A-I                             Apolipoprotein A-I            0.332351  \n",
       "Albumin                                  Serum albumin            0.565023  "
      ]
     },
     "execution_count": 25,
     "metadata": {},
     "output_type": "execute_result"
    }
   ],
   "source": [
    "albumin_correlations = somascan_correlations(albumin)\n",
    "albumin_correlations.tail(10)"
   ]
  },
  {
   "cell_type": "markdown",
   "metadata": {},
   "source": [
    "I do not see any obvious albumin isoforms nor albumin-like proteins. There are three isoforms in UniProt at the time of writing (April 12th '19) and eight non-annotated matches for 90% similarity query, non of which overlaps with the list above, so I conclude that the lower than expected overall correlation of albumin is a thing.\n",
    "\n",
    "Though, maybe I should have been looking at the healthy patients only?"
   ]
  },
  {
   "cell_type": "code",
   "execution_count": 26,
   "metadata": {},
   "outputs": [],
   "source": [
    "is_healthy = clinical.Meningitis == 'Healthy control'"
   ]
  },
  {
   "cell_type": "code",
   "execution_count": 27,
   "metadata": {},
   "outputs": [
    {
     "data": {
      "text/plain": [
       "correlation                0.654987\n",
       "pvalue                  0.000380687\n",
       "qvalue                     0.325868\n",
       "full_name             Serum albumin\n",
       "% of sum(SOMAScan)         0.501776\n",
       "Name: Albumin, dtype: object"
      ]
     },
     "execution_count": 27,
     "metadata": {},
     "output_type": "execute_result"
    }
   ],
   "source": [
    "somascan_correlations(clinical['Protein'], mask=is_healthy).loc['Albumin']"
   ]
  },
  {
   "cell_type": "markdown",
   "metadata": {},
   "source": [
    "Well, it's even worse! Albumin still might compose a considerable proportion of the CSF proteins, but it appears that it does not drive nor define it (NB: assuming correctness of SOMAScan and acknowledging low sample size)."
   ]
  },
  {
   "cell_type": "markdown",
   "metadata": {},
   "source": [
    "Also, albumin accounts only for 0.6% (0.5% for healthy patients) of the total protein abundance in SOMAScan-measured CSF proteins."
   ]
  },
  {
   "cell_type": "markdown",
   "metadata": {},
   "source": [
    "Some sanity checks are needed, **did we really expect albumin to be high?** (or did I just misunderstand something at the meeting?)"
   ]
  },
  {
   "cell_type": "markdown",
   "metadata": {},
   "source": [
    "Yes!\n",
    "\n",
    "- \"The same as in blood, albumin is the most concentrated protein, representing 35–80% of total CSF protein\" [Editorial on “Cerebrospinal fluid total protein reference intervals derived from 20 years of patient data”, 2018](http://jlpm.amegroups.com/article/view/4323/5321)\n",
    "  - just a paragraph-level reference to [Proteins in cerebrospinal fluid and blood: Barriers, CSF flow rate and source-related dynamics, 2003](https://www.ncbi.nlm.nih.gov/pubmed/14530572) (TODO: read in full), which states that:\n",
    "    > The main fraction of proteins in the normal cerebrospinal fluid originates from blood, e.g. albumin which constitutes 35–80% of total protein in CSF[11]\n",
    "  - which leads us to [Cerebrospinal fluid analysis: disease-related data patterns and evaluation programs, 2001](https://www-sciencedirect-com.iclibezp1.cc.ic.ac.uk/science/article/pii/S0022510X00005013). Table 2 contains relevant statistics. There are references to previous studies investigating the prevalence of albumin, see [(Ganrot and Laurell, 1974)](http://clinchem.aaccjnls.org/content/20/5/571.short) discussed below \n",
    "- many studies discuss the ratio of albumin/total CSF etc as a marker for TBM and other meningitis diseases, though do not necessarily claim albumin to be high on its own"
   ]
  },
  {
   "cell_type": "markdown",
   "metadata": {},
   "source": [
    "Possible explanations:\n",
    "- data analyst issue: I may be missing something \n",
    "- technical issue:\n",
    "  - SOMAScan may fail to capture the abundance of albumin\n",
    "  - a fraction of albumin might have been filtered out in the sample treatment\n",
    "- literature issue (less likely): albumin may not be the most concentrated protein in CSF"
   ]
  },
  {
   "cell_type": "markdown",
   "metadata": {},
   "source": [
    "A further check supports the second option, as according to the literature:\n",
    "\n",
    "> A high correlation (r = 0.85) normally exists between the concentration of albumin and of IgG in cerebrospinal fluid (CSF) \n",
    "[(Ganrot and Laurell, 1974)](http://clinchem.aaccjnls.org/content/20/5/571.short)"
   ]
  },
  {
   "cell_type": "code",
   "execution_count": 28,
   "metadata": {},
   "outputs": [
    {
     "data": {
      "text/plain": [
       "correlation                   0.153078\n",
       "pvalue                        0.169749\n",
       "qvalue                               1\n",
       "full_name             Immunoglobulin G\n",
       "% of sum(SOMAScan)             1.16857\n",
       "Name: IgG, dtype: object"
      ]
     },
     "execution_count": 28,
     "metadata": {},
     "output_type": "execute_result"
    }
   ],
   "source": [
    "albumin_correlations.loc['IgG']"
   ]
  },
  {
   "cell_type": "code",
   "execution_count": 29,
   "metadata": {},
   "outputs": [
    {
     "data": {
      "text/plain": [
       "correlation                  0.0192308\n",
       "pvalue                        0.927302\n",
       "qvalue                               1\n",
       "full_name             Immunoglobulin G\n",
       "% of sum(SOMAScan)             1.75922\n",
       "Name: IgG, dtype: object"
      ]
     },
     "execution_count": 29,
     "metadata": {},
     "output_type": "execute_result"
    }
   ],
   "source": [
    "# healthy patients only:\n",
    "somascan_correlations(albumin, mask=is_healthy).loc['IgG']"
   ]
  },
  {
   "cell_type": "markdown",
   "metadata": {},
   "source": [
    "Well, not if measured by SOMAScan"
   ]
  },
  {
   "cell_type": "markdown",
   "metadata": {},
   "source": [
    "#### If not albumin, what correlates the most with the total CSF protein?"
   ]
  },
  {
   "cell_type": "code",
   "execution_count": 30,
   "metadata": {},
   "outputs": [
    {
     "data": {
      "text/html": [
       "<div>\n",
       "<style scoped>\n",
       "    .dataframe tbody tr th:only-of-type {\n",
       "        vertical-align: middle;\n",
       "    }\n",
       "\n",
       "    .dataframe tbody tr th {\n",
       "        vertical-align: top;\n",
       "    }\n",
       "\n",
       "    .dataframe thead th {\n",
       "        text-align: right;\n",
       "    }\n",
       "</style>\n",
       "<table border=\"1\" class=\"dataframe\">\n",
       "  <thead>\n",
       "    <tr style=\"text-align: right;\">\n",
       "      <th></th>\n",
       "      <th>correlation</th>\n",
       "      <th>pvalue</th>\n",
       "      <th>qvalue</th>\n",
       "      <th>full_name</th>\n",
       "      <th>% of sum(SOMAScan)</th>\n",
       "    </tr>\n",
       "    <tr>\n",
       "      <th>target</th>\n",
       "      <th></th>\n",
       "      <th></th>\n",
       "      <th></th>\n",
       "      <th></th>\n",
       "      <th></th>\n",
       "    </tr>\n",
       "  </thead>\n",
       "  <tbody>\n",
       "    <tr>\n",
       "      <th>Kallikrein 7</th>\n",
       "      <td>-0.715460</td>\n",
       "      <td>4.270795e-14</td>\n",
       "      <td>1.627173e-11</td>\n",
       "      <td>Kallikrein-7</td>\n",
       "      <td>0.025559</td>\n",
       "    </tr>\n",
       "    <tr>\n",
       "      <th>IGF-I</th>\n",
       "      <td>-0.696270</td>\n",
       "      <td>3.802914e-13</td>\n",
       "      <td>1.300597e-10</td>\n",
       "      <td>Insulin-like growth factor I</td>\n",
       "      <td>0.107171</td>\n",
       "    </tr>\n",
       "    <tr>\n",
       "      <th>Semaphorin 3E</th>\n",
       "      <td>-0.643500</td>\n",
       "      <td>7.021849e-11</td>\n",
       "      <td>1.994205e-08</td>\n",
       "      <td>Semaphorin-3E</td>\n",
       "      <td>0.014663</td>\n",
       "    </tr>\n",
       "    <tr>\n",
       "      <th>ON</th>\n",
       "      <td>-0.605066</td>\n",
       "      <td>1.734593e-09</td>\n",
       "      <td>4.423213e-07</td>\n",
       "      <td>SPARC</td>\n",
       "      <td>0.507669</td>\n",
       "    </tr>\n",
       "    <tr>\n",
       "      <th>IDS</th>\n",
       "      <td>-0.582066</td>\n",
       "      <td>9.717538e-09</td>\n",
       "      <td>2.283621e-06</td>\n",
       "      <td>Iduronate 2-sulfatase</td>\n",
       "      <td>0.021610</td>\n",
       "    </tr>\n",
       "    <tr>\n",
       "      <th>...</th>\n",
       "      <td>...</td>\n",
       "      <td>...</td>\n",
       "      <td>...</td>\n",
       "      <td>...</td>\n",
       "      <td>...</td>\n",
       "    </tr>\n",
       "    <tr>\n",
       "      <th>C5b, 6 Complex</th>\n",
       "      <td>0.944128</td>\n",
       "      <td>2.570815e-40</td>\n",
       "      <td>3.344630e-37</td>\n",
       "      <td>Complement C5b-C6 complex</td>\n",
       "      <td>0.075634</td>\n",
       "    </tr>\n",
       "    <tr>\n",
       "      <th>C5</th>\n",
       "      <td>0.944215</td>\n",
       "      <td>2.419436e-40</td>\n",
       "      <td>3.150106e-37</td>\n",
       "      <td>Complement C5</td>\n",
       "      <td>0.263528</td>\n",
       "    </tr>\n",
       "    <tr>\n",
       "      <th>DC-SIGNR</th>\n",
       "      <td>0.945554</td>\n",
       "      <td>9.398676e-41</td>\n",
       "      <td>1.224647e-37</td>\n",
       "      <td>C-type lectin domain family 4 member M</td>\n",
       "      <td>0.078448</td>\n",
       "    </tr>\n",
       "    <tr>\n",
       "      <th>Coagulation Factor IXab</th>\n",
       "      <td>0.947894</td>\n",
       "      <td>1.697051e-41</td>\n",
       "      <td>2.212955e-38</td>\n",
       "      <td>Coagulation factor IXab</td>\n",
       "      <td>0.311407</td>\n",
       "    </tr>\n",
       "    <tr>\n",
       "      <th>Angiostatin</th>\n",
       "      <td>0.950899</td>\n",
       "      <td>1.673036e-42</td>\n",
       "      <td>2.183311e-39</td>\n",
       "      <td>Angiostatin</td>\n",
       "      <td>0.032770</td>\n",
       "    </tr>\n",
       "  </tbody>\n",
       "</table>\n",
       "<p>1305 rows × 5 columns</p>\n",
       "</div>"
      ],
      "text/plain": [
       "                         correlation        pvalue        qvalue  \\\n",
       "target                                                             \n",
       "Kallikrein 7               -0.715460  4.270795e-14  1.627173e-11   \n",
       "IGF-I                      -0.696270  3.802914e-13  1.300597e-10   \n",
       "Semaphorin 3E              -0.643500  7.021849e-11  1.994205e-08   \n",
       "ON                         -0.605066  1.734593e-09  4.423213e-07   \n",
       "IDS                        -0.582066  9.717538e-09  2.283621e-06   \n",
       "...                              ...           ...           ...   \n",
       "C5b, 6 Complex              0.944128  2.570815e-40  3.344630e-37   \n",
       "C5                          0.944215  2.419436e-40  3.150106e-37   \n",
       "DC-SIGNR                    0.945554  9.398676e-41  1.224647e-37   \n",
       "Coagulation Factor IXab     0.947894  1.697051e-41  2.212955e-38   \n",
       "Angiostatin                 0.950899  1.673036e-42  2.183311e-39   \n",
       "\n",
       "                                                      full_name  \\\n",
       "target                                                            \n",
       "Kallikrein 7                                       Kallikrein-7   \n",
       "IGF-I                              Insulin-like growth factor I   \n",
       "Semaphorin 3E                                     Semaphorin-3E   \n",
       "ON                                                        SPARC   \n",
       "IDS                                       Iduronate 2-sulfatase   \n",
       "...                                                         ...   \n",
       "C5b, 6 Complex                        Complement C5b-C6 complex   \n",
       "C5                                                Complement C5   \n",
       "DC-SIGNR                 C-type lectin domain family 4 member M   \n",
       "Coagulation Factor IXab                 Coagulation factor IXab   \n",
       "Angiostatin                                         Angiostatin   \n",
       "\n",
       "                         % of sum(SOMAScan)  \n",
       "target                                       \n",
       "Kallikrein 7                       0.025559  \n",
       "IGF-I                              0.107171  \n",
       "Semaphorin 3E                      0.014663  \n",
       "ON                                 0.507669  \n",
       "IDS                                0.021610  \n",
       "...                                     ...  \n",
       "C5b, 6 Complex                     0.075634  \n",
       "C5                                 0.263528  \n",
       "DC-SIGNR                           0.078448  \n",
       "Coagulation Factor IXab            0.311407  \n",
       "Angiostatin                        0.032770  \n",
       "\n",
       "[1305 rows x 5 columns]"
      ]
     },
     "execution_count": 30,
     "metadata": {},
     "output_type": "execute_result"
    }
   ],
   "source": [
    "total_protein_correlations = somascan_correlations(clinical['Protein'])\n",
    "total_protein_correlations"
   ]
  },
  {
   "cell_type": "markdown",
   "metadata": {},
   "source": [
    "And where is albumin in the ranked list?"
   ]
  },
  {
   "cell_type": "code",
   "execution_count": 31,
   "metadata": {},
   "outputs": [
    {
     "data": {
      "text/plain": [
       "113.0"
      ]
     },
     "execution_count": 31,
     "metadata": {},
     "output_type": "execute_result"
    }
   ],
   "source": [
    "total_protein_correlations.rank(ascending=False).loc['Albumin'].correlation"
   ]
  },
  {
   "cell_type": "markdown",
   "metadata": {},
   "source": [
    "There are 112 proteins (about 8%) that correlate more with the total CSF than albumin (using data from all patients)."
   ]
  },
  {
   "cell_type": "markdown",
   "metadata": {},
   "source": [
    "Which proteins have the highest contribution to the abundance as measured by SOMAScan? Do these corrrelate with total CSF?"
   ]
  },
  {
   "cell_type": "code",
   "execution_count": 32,
   "metadata": {},
   "outputs": [
    {
     "data": {
      "text/html": [
       "<div>\n",
       "<style scoped>\n",
       "    .dataframe tbody tr th:only-of-type {\n",
       "        vertical-align: middle;\n",
       "    }\n",
       "\n",
       "    .dataframe tbody tr th {\n",
       "        vertical-align: top;\n",
       "    }\n",
       "\n",
       "    .dataframe thead th {\n",
       "        text-align: right;\n",
       "    }\n",
       "</style>\n",
       "<table border=\"1\" class=\"dataframe\">\n",
       "  <thead>\n",
       "    <tr style=\"text-align: right;\">\n",
       "      <th></th>\n",
       "      <th>correlation</th>\n",
       "      <th>pvalue</th>\n",
       "      <th>qvalue</th>\n",
       "      <th>full_name</th>\n",
       "      <th>% of sum(SOMAScan)</th>\n",
       "    </tr>\n",
       "    <tr>\n",
       "      <th>target</th>\n",
       "      <th></th>\n",
       "      <th></th>\n",
       "      <th></th>\n",
       "      <th></th>\n",
       "      <th></th>\n",
       "    </tr>\n",
       "  </thead>\n",
       "  <tbody>\n",
       "    <tr>\n",
       "      <th>C9</th>\n",
       "      <td>0.764496</td>\n",
       "      <td>6.408260e-17</td>\n",
       "      <td>3.210538e-14</td>\n",
       "      <td>Complement component C9</td>\n",
       "      <td>1.215595</td>\n",
       "    </tr>\n",
       "    <tr>\n",
       "      <th>CNDP1</th>\n",
       "      <td>0.133306</td>\n",
       "      <td>2.324987e-01</td>\n",
       "      <td>1.000000e+00</td>\n",
       "      <td>Beta-Ala-His dipeptidase</td>\n",
       "      <td>1.257596</td>\n",
       "    </tr>\n",
       "    <tr>\n",
       "      <th>PEDF</th>\n",
       "      <td>-0.043496</td>\n",
       "      <td>6.980101e-01</td>\n",
       "      <td>1.000000e+00</td>\n",
       "      <td>Pigment epithelium-derived factor</td>\n",
       "      <td>1.261949</td>\n",
       "    </tr>\n",
       "    <tr>\n",
       "      <th>Transferrin</th>\n",
       "      <td>0.053521</td>\n",
       "      <td>6.329686e-01</td>\n",
       "      <td>1.000000e+00</td>\n",
       "      <td>Serotransferrin</td>\n",
       "      <td>1.265309</td>\n",
       "    </tr>\n",
       "    <tr>\n",
       "      <th>amyloid precursor protein</th>\n",
       "      <td>-0.260224</td>\n",
       "      <td>1.822173e-02</td>\n",
       "      <td>1.000000e+00</td>\n",
       "      <td>Amyloid beta A4 protein</td>\n",
       "      <td>1.348588</td>\n",
       "    </tr>\n",
       "    <tr>\n",
       "      <th>a1-Antichymotrypsin</th>\n",
       "      <td>-0.072460</td>\n",
       "      <td>5.176747e-01</td>\n",
       "      <td>1.000000e+00</td>\n",
       "      <td>Alpha-1-antichymotrypsin</td>\n",
       "      <td>1.350698</td>\n",
       "    </tr>\n",
       "    <tr>\n",
       "      <th>Antithrombin III</th>\n",
       "      <td>0.436743</td>\n",
       "      <td>4.093352e-05</td>\n",
       "      <td>6.099094e-03</td>\n",
       "      <td>Antithrombin-III</td>\n",
       "      <td>1.377927</td>\n",
       "    </tr>\n",
       "    <tr>\n",
       "      <th>Apo E4</th>\n",
       "      <td>-0.038543</td>\n",
       "      <td>7.310020e-01</td>\n",
       "      <td>1.000000e+00</td>\n",
       "      <td>Apolipoprotein E (isoform E4)</td>\n",
       "      <td>1.425484</td>\n",
       "    </tr>\n",
       "    <tr>\n",
       "      <th>Apo E2</th>\n",
       "      <td>-0.043909</td>\n",
       "      <td>6.952789e-01</td>\n",
       "      <td>1.000000e+00</td>\n",
       "      <td>Apolipoprotein E (isoform E2)</td>\n",
       "      <td>1.614840</td>\n",
       "    </tr>\n",
       "    <tr>\n",
       "      <th>Apo E3</th>\n",
       "      <td>-0.043768</td>\n",
       "      <td>6.962128e-01</td>\n",
       "      <td>1.000000e+00</td>\n",
       "      <td>Apolipoprotein E (isoform E3)</td>\n",
       "      <td>1.661588</td>\n",
       "    </tr>\n",
       "  </tbody>\n",
       "</table>\n",
       "</div>"
      ],
      "text/plain": [
       "                           correlation        pvalue        qvalue  \\\n",
       "target                                                               \n",
       "C9                            0.764496  6.408260e-17  3.210538e-14   \n",
       "CNDP1                         0.133306  2.324987e-01  1.000000e+00   \n",
       "PEDF                         -0.043496  6.980101e-01  1.000000e+00   \n",
       "Transferrin                   0.053521  6.329686e-01  1.000000e+00   \n",
       "amyloid precursor protein    -0.260224  1.822173e-02  1.000000e+00   \n",
       "a1-Antichymotrypsin          -0.072460  5.176747e-01  1.000000e+00   \n",
       "Antithrombin III              0.436743  4.093352e-05  6.099094e-03   \n",
       "Apo E4                       -0.038543  7.310020e-01  1.000000e+00   \n",
       "Apo E2                       -0.043909  6.952789e-01  1.000000e+00   \n",
       "Apo E3                       -0.043768  6.962128e-01  1.000000e+00   \n",
       "\n",
       "                                                   full_name  \\\n",
       "target                                                         \n",
       "C9                                   Complement component C9   \n",
       "CNDP1                               Beta-Ala-His dipeptidase   \n",
       "PEDF                       Pigment epithelium-derived factor   \n",
       "Transferrin                                  Serotransferrin   \n",
       "amyloid precursor protein            Amyloid beta A4 protein   \n",
       "a1-Antichymotrypsin                 Alpha-1-antichymotrypsin   \n",
       "Antithrombin III                            Antithrombin-III   \n",
       "Apo E4                         Apolipoprotein E (isoform E4)   \n",
       "Apo E2                         Apolipoprotein E (isoform E2)   \n",
       "Apo E3                         Apolipoprotein E (isoform E3)   \n",
       "\n",
       "                           % of sum(SOMAScan)  \n",
       "target                                         \n",
       "C9                                   1.215595  \n",
       "CNDP1                                1.257596  \n",
       "PEDF                                 1.261949  \n",
       "Transferrin                          1.265309  \n",
       "amyloid precursor protein            1.348588  \n",
       "a1-Antichymotrypsin                  1.350698  \n",
       "Antithrombin III                     1.377927  \n",
       "Apo E4                               1.425484  \n",
       "Apo E2                               1.614840  \n",
       "Apo E3                               1.661588  "
      ]
     },
     "execution_count": 32,
     "metadata": {},
     "output_type": "execute_result"
    }
   ],
   "source": [
    "total_protein_correlations.sort_values('% of sum(SOMAScan)').tail(10)"
   ]
  },
  {
   "cell_type": "markdown",
   "metadata": {},
   "source": [
    "The lack of correlation with the total CSF protein for the most abundant proteins measured by SOMAScan is slightly surprising. Together with high overall correlation (0.9!), it suggests that **the total CSF protein increase is driven by small contributions of numerous proteins**. Which might have been expected given the previous PCA analysis which showed the clear increase in fraction of proteins from inside of the cells being detected in the diseased patients (and the disease status  correlates with high CSF total protein)."
   ]
  },
  {
   "cell_type": "markdown",
   "metadata": {},
   "source": [
    "Side note: would the the lowest values come hand to define noise levels?"
   ]
  },
  {
   "cell_type": "code",
   "execution_count": 33,
   "metadata": {},
   "outputs": [
    {
     "data": {
      "text/html": [
       "<div>\n",
       "<style scoped>\n",
       "    .dataframe tbody tr th:only-of-type {\n",
       "        vertical-align: middle;\n",
       "    }\n",
       "\n",
       "    .dataframe tbody tr th {\n",
       "        vertical-align: top;\n",
       "    }\n",
       "\n",
       "    .dataframe thead th {\n",
       "        text-align: right;\n",
       "    }\n",
       "</style>\n",
       "<table border=\"1\" class=\"dataframe\">\n",
       "  <thead>\n",
       "    <tr style=\"text-align: right;\">\n",
       "      <th></th>\n",
       "      <th>correlation</th>\n",
       "      <th>pvalue</th>\n",
       "      <th>qvalue</th>\n",
       "      <th>full_name</th>\n",
       "      <th>% of sum(SOMAScan)</th>\n",
       "    </tr>\n",
       "    <tr>\n",
       "      <th>target</th>\n",
       "      <th></th>\n",
       "      <th></th>\n",
       "      <th></th>\n",
       "      <th></th>\n",
       "      <th></th>\n",
       "    </tr>\n",
       "  </thead>\n",
       "  <tbody>\n",
       "    <tr>\n",
       "      <th>CTLA-4</th>\n",
       "      <td>0.495214</td>\n",
       "      <td>2.247226e-06</td>\n",
       "      <td>4.045006e-04</td>\n",
       "      <td>Cytotoxic T-lymphocyte protein 4</td>\n",
       "      <td>0.000053</td>\n",
       "    </tr>\n",
       "    <tr>\n",
       "      <th>Neurotrophin-3</th>\n",
       "      <td>0.491738</td>\n",
       "      <td>2.711666e-06</td>\n",
       "      <td>4.799649e-04</td>\n",
       "      <td>Neurotrophin-3</td>\n",
       "      <td>0.000070</td>\n",
       "    </tr>\n",
       "    <tr>\n",
       "      <th>NANOG</th>\n",
       "      <td>0.581118</td>\n",
       "      <td>1.040361e-08</td>\n",
       "      <td>2.424041e-06</td>\n",
       "      <td>Homeobox protein NANOG</td>\n",
       "      <td>0.000083</td>\n",
       "    </tr>\n",
       "    <tr>\n",
       "      <th>FER</th>\n",
       "      <td>0.770128</td>\n",
       "      <td>2.744937e-17</td>\n",
       "      <td>1.441092e-14</td>\n",
       "      <td>Tyrosine-protein kinase Fer</td>\n",
       "      <td>0.000085</td>\n",
       "    </tr>\n",
       "    <tr>\n",
       "      <th>LRRT1</th>\n",
       "      <td>0.597530</td>\n",
       "      <td>3.096856e-09</td>\n",
       "      <td>7.711171e-07</td>\n",
       "      <td>Leucine-rich repeat transmembrane neuronal pro...</td>\n",
       "      <td>0.000088</td>\n",
       "    </tr>\n",
       "  </tbody>\n",
       "</table>\n",
       "</div>"
      ],
      "text/plain": [
       "                correlation        pvalue        qvalue  \\\n",
       "target                                                    \n",
       "CTLA-4             0.495214  2.247226e-06  4.045006e-04   \n",
       "Neurotrophin-3     0.491738  2.711666e-06  4.799649e-04   \n",
       "NANOG              0.581118  1.040361e-08  2.424041e-06   \n",
       "FER                0.770128  2.744937e-17  1.441092e-14   \n",
       "LRRT1              0.597530  3.096856e-09  7.711171e-07   \n",
       "\n",
       "                                                        full_name  \\\n",
       "target                                                              \n",
       "CTLA-4                           Cytotoxic T-lymphocyte protein 4   \n",
       "Neurotrophin-3                                     Neurotrophin-3   \n",
       "NANOG                                      Homeobox protein NANOG   \n",
       "FER                                   Tyrosine-protein kinase Fer   \n",
       "LRRT1           Leucine-rich repeat transmembrane neuronal pro...   \n",
       "\n",
       "                % of sum(SOMAScan)  \n",
       "target                              \n",
       "CTLA-4                    0.000053  \n",
       "Neurotrophin-3            0.000070  \n",
       "NANOG                     0.000083  \n",
       "FER                       0.000085  \n",
       "LRRT1                     0.000088  "
      ]
     },
     "execution_count": 33,
     "metadata": {},
     "output_type": "execute_result"
    }
   ],
   "source": [
    "total_protein_correlations.sort_values('% of sum(SOMAScan)').head(5)"
   ]
  },
  {
   "cell_type": "markdown",
   "metadata": {},
   "source": [
    "And in healthy patients only:"
   ]
  },
  {
   "cell_type": "code",
   "execution_count": 34,
   "metadata": {},
   "outputs": [
    {
     "data": {
      "text/html": [
       "<div>\n",
       "<style scoped>\n",
       "    .dataframe tbody tr th:only-of-type {\n",
       "        vertical-align: middle;\n",
       "    }\n",
       "\n",
       "    .dataframe tbody tr th {\n",
       "        vertical-align: top;\n",
       "    }\n",
       "\n",
       "    .dataframe thead th {\n",
       "        text-align: right;\n",
       "    }\n",
       "</style>\n",
       "<table border=\"1\" class=\"dataframe\">\n",
       "  <thead>\n",
       "    <tr style=\"text-align: right;\">\n",
       "      <th></th>\n",
       "      <th>correlation</th>\n",
       "      <th>pvalue</th>\n",
       "      <th>qvalue</th>\n",
       "      <th>full_name</th>\n",
       "      <th>% of sum(SOMAScan)</th>\n",
       "    </tr>\n",
       "    <tr>\n",
       "      <th>target</th>\n",
       "      <th></th>\n",
       "      <th></th>\n",
       "      <th></th>\n",
       "      <th></th>\n",
       "      <th></th>\n",
       "    </tr>\n",
       "  </thead>\n",
       "  <tbody>\n",
       "    <tr>\n",
       "      <th>TGF-b2</th>\n",
       "      <td>-0.453303</td>\n",
       "      <td>2.286204e-02</td>\n",
       "      <td>1.000000</td>\n",
       "      <td>Transforming growth factor beta-2</td>\n",
       "      <td>0.000320</td>\n",
       "    </tr>\n",
       "    <tr>\n",
       "      <th>Cathepsin D</th>\n",
       "      <td>-0.444744</td>\n",
       "      <td>2.590856e-02</td>\n",
       "      <td>1.000000</td>\n",
       "      <td>Cathepsin D</td>\n",
       "      <td>1.509303</td>\n",
       "    </tr>\n",
       "    <tr>\n",
       "      <th>a1-Antichymotrypsin</th>\n",
       "      <td>-0.437813</td>\n",
       "      <td>2.860860e-02</td>\n",
       "      <td>1.000000</td>\n",
       "      <td>Alpha-1-antichymotrypsin</td>\n",
       "      <td>2.060182</td>\n",
       "    </tr>\n",
       "    <tr>\n",
       "      <th>PEDF</th>\n",
       "      <td>-0.431267</td>\n",
       "      <td>3.136177e-02</td>\n",
       "      <td>1.000000</td>\n",
       "      <td>Pigment epithelium-derived factor</td>\n",
       "      <td>1.911921</td>\n",
       "    </tr>\n",
       "    <tr>\n",
       "      <th>Apo E3</th>\n",
       "      <td>-0.391221</td>\n",
       "      <td>5.313312e-02</td>\n",
       "      <td>1.000000</td>\n",
       "      <td>Apolipoprotein E (isoform E3)</td>\n",
       "      <td>2.523853</td>\n",
       "    </tr>\n",
       "    <tr>\n",
       "      <th>...</th>\n",
       "      <td>...</td>\n",
       "      <td>...</td>\n",
       "      <td>...</td>\n",
       "      <td>...</td>\n",
       "      <td>...</td>\n",
       "    </tr>\n",
       "    <tr>\n",
       "      <th>LRRK2</th>\n",
       "      <td>0.843281</td>\n",
       "      <td>1.207165e-07</td>\n",
       "      <td>0.000157</td>\n",
       "      <td>Leucine-rich repeat serine/threonine-protein k...</td>\n",
       "      <td>0.001867</td>\n",
       "    </tr>\n",
       "    <tr>\n",
       "      <th>C5a</th>\n",
       "      <td>0.849827</td>\n",
       "      <td>7.644868e-08</td>\n",
       "      <td>0.000100</td>\n",
       "      <td>C5a anaphylatoxin</td>\n",
       "      <td>0.001288</td>\n",
       "    </tr>\n",
       "    <tr>\n",
       "      <th>sICAM-2</th>\n",
       "      <td>0.851753</td>\n",
       "      <td>6.656401e-08</td>\n",
       "      <td>0.000087</td>\n",
       "      <td>Intercellular adhesion molecule 2</td>\n",
       "      <td>0.001138</td>\n",
       "    </tr>\n",
       "    <tr>\n",
       "      <th>VCAM-1</th>\n",
       "      <td>0.873316</td>\n",
       "      <td>1.219706e-08</td>\n",
       "      <td>0.000016</td>\n",
       "      <td>Vascular cell adhesion protein 1</td>\n",
       "      <td>0.004687</td>\n",
       "    </tr>\n",
       "    <tr>\n",
       "      <th>LY9</th>\n",
       "      <td>0.874471</td>\n",
       "      <td>1.104247e-08</td>\n",
       "      <td>0.000014</td>\n",
       "      <td>T-lymphocyte surface antigen Ly-9</td>\n",
       "      <td>0.000809</td>\n",
       "    </tr>\n",
       "  </tbody>\n",
       "</table>\n",
       "<p>1305 rows × 5 columns</p>\n",
       "</div>"
      ],
      "text/plain": [
       "                     correlation        pvalue    qvalue  \\\n",
       "target                                                     \n",
       "TGF-b2                 -0.453303  2.286204e-02  1.000000   \n",
       "Cathepsin D            -0.444744  2.590856e-02  1.000000   \n",
       "a1-Antichymotrypsin    -0.437813  2.860860e-02  1.000000   \n",
       "PEDF                   -0.431267  3.136177e-02  1.000000   \n",
       "Apo E3                 -0.391221  5.313312e-02  1.000000   \n",
       "...                          ...           ...       ...   \n",
       "LRRK2                   0.843281  1.207165e-07  0.000157   \n",
       "C5a                     0.849827  7.644868e-08  0.000100   \n",
       "sICAM-2                 0.851753  6.656401e-08  0.000087   \n",
       "VCAM-1                  0.873316  1.219706e-08  0.000016   \n",
       "LY9                     0.874471  1.104247e-08  0.000014   \n",
       "\n",
       "                                                             full_name  \\\n",
       "target                                                                   \n",
       "TGF-b2                               Transforming growth factor beta-2   \n",
       "Cathepsin D                                                Cathepsin D   \n",
       "a1-Antichymotrypsin                           Alpha-1-antichymotrypsin   \n",
       "PEDF                                 Pigment epithelium-derived factor   \n",
       "Apo E3                                   Apolipoprotein E (isoform E3)   \n",
       "...                                                                ...   \n",
       "LRRK2                Leucine-rich repeat serine/threonine-protein k...   \n",
       "C5a                                                  C5a anaphylatoxin   \n",
       "sICAM-2                              Intercellular adhesion molecule 2   \n",
       "VCAM-1                                Vascular cell adhesion protein 1   \n",
       "LY9                                  T-lymphocyte surface antigen Ly-9   \n",
       "\n",
       "                     % of sum(SOMAScan)  \n",
       "target                                   \n",
       "TGF-b2                         0.000320  \n",
       "Cathepsin D                    1.509303  \n",
       "a1-Antichymotrypsin            2.060182  \n",
       "PEDF                           1.911921  \n",
       "Apo E3                         2.523853  \n",
       "...                                 ...  \n",
       "LRRK2                          0.001867  \n",
       "C5a                            0.001288  \n",
       "sICAM-2                        0.001138  \n",
       "VCAM-1                         0.004687  \n",
       "LY9                            0.000809  \n",
       "\n",
       "[1305 rows x 5 columns]"
      ]
     },
     "execution_count": 34,
     "metadata": {},
     "output_type": "execute_result"
    }
   ],
   "source": [
    "somascan_correlations(clinical['Protein'], mask=is_healthy)"
   ]
  },
  {
   "cell_type": "markdown",
   "metadata": {},
   "source": [
    "Meningitis only:"
   ]
  },
  {
   "cell_type": "code",
   "execution_count": 35,
   "metadata": {},
   "outputs": [
    {
     "data": {
      "text/html": [
       "<div>\n",
       "<style scoped>\n",
       "    .dataframe tbody tr th:only-of-type {\n",
       "        vertical-align: middle;\n",
       "    }\n",
       "\n",
       "    .dataframe tbody tr th {\n",
       "        vertical-align: top;\n",
       "    }\n",
       "\n",
       "    .dataframe thead th {\n",
       "        text-align: right;\n",
       "    }\n",
       "</style>\n",
       "<table border=\"1\" class=\"dataframe\">\n",
       "  <thead>\n",
       "    <tr style=\"text-align: right;\">\n",
       "      <th></th>\n",
       "      <th>correlation</th>\n",
       "      <th>pvalue</th>\n",
       "      <th>qvalue</th>\n",
       "      <th>full_name</th>\n",
       "      <th>% of sum(SOMAScan)</th>\n",
       "    </tr>\n",
       "    <tr>\n",
       "      <th>target</th>\n",
       "      <th></th>\n",
       "      <th></th>\n",
       "      <th></th>\n",
       "      <th></th>\n",
       "      <th></th>\n",
       "    </tr>\n",
       "  </thead>\n",
       "  <tbody>\n",
       "    <tr>\n",
       "      <th>IGF-I</th>\n",
       "      <td>-0.670816</td>\n",
       "      <td>1.133503e-08</td>\n",
       "      <td>5.214114e-06</td>\n",
       "      <td>Insulin-like growth factor I</td>\n",
       "      <td>0.077420</td>\n",
       "    </tr>\n",
       "    <tr>\n",
       "      <th>Kallikrein 7</th>\n",
       "      <td>-0.584760</td>\n",
       "      <td>1.784080e-06</td>\n",
       "      <td>5.566331e-04</td>\n",
       "      <td>Kallikrein-7</td>\n",
       "      <td>0.010763</td>\n",
       "    </tr>\n",
       "    <tr>\n",
       "      <th>DHH</th>\n",
       "      <td>-0.507358</td>\n",
       "      <td>5.626728e-05</td>\n",
       "      <td>1.367295e-02</td>\n",
       "      <td>Desert hedgehog protein N-product</td>\n",
       "      <td>0.003297</td>\n",
       "    </tr>\n",
       "    <tr>\n",
       "      <th>IDS</th>\n",
       "      <td>-0.476015</td>\n",
       "      <td>1.821429e-04</td>\n",
       "      <td>3.988929e-02</td>\n",
       "      <td>Iduronate 2-sulfatase</td>\n",
       "      <td>0.014244</td>\n",
       "    </tr>\n",
       "    <tr>\n",
       "      <th>Nr-CAM</th>\n",
       "      <td>-0.463471</td>\n",
       "      <td>2.825962e-04</td>\n",
       "      <td>5.849741e-02</td>\n",
       "      <td>Neuronal cell adhesion molecule</td>\n",
       "      <td>0.258409</td>\n",
       "    </tr>\n",
       "    <tr>\n",
       "      <th>...</th>\n",
       "      <td>...</td>\n",
       "      <td>...</td>\n",
       "      <td>...</td>\n",
       "      <td>...</td>\n",
       "      <td>...</td>\n",
       "    </tr>\n",
       "    <tr>\n",
       "      <th>C5</th>\n",
       "      <td>0.925321</td>\n",
       "      <td>7.925619e-25</td>\n",
       "      <td>1.031123e-21</td>\n",
       "      <td>Complement C5</td>\n",
       "      <td>0.302105</td>\n",
       "    </tr>\n",
       "    <tr>\n",
       "      <th>Coagulation Factor IXab</th>\n",
       "      <td>0.926358</td>\n",
       "      <td>5.469649e-25</td>\n",
       "      <td>7.121483e-22</td>\n",
       "      <td>Coagulation factor IXab</td>\n",
       "      <td>0.354175</td>\n",
       "    </tr>\n",
       "    <tr>\n",
       "      <th>C5b, 6 Complex</th>\n",
       "      <td>0.928951</td>\n",
       "      <td>2.112253e-25</td>\n",
       "      <td>2.752266e-22</td>\n",
       "      <td>Complement C5b-C6 complex</td>\n",
       "      <td>0.089011</td>\n",
       "    </tr>\n",
       "    <tr>\n",
       "      <th>Heparin cofactor II</th>\n",
       "      <td>0.929924</td>\n",
       "      <td>1.464688e-25</td>\n",
       "      <td>1.909953e-22</td>\n",
       "      <td>Heparin cofactor 2</td>\n",
       "      <td>0.155590</td>\n",
       "    </tr>\n",
       "    <tr>\n",
       "      <th>Angiostatin</th>\n",
       "      <td>0.930475</td>\n",
       "      <td>1.187481e-25</td>\n",
       "      <td>1.549663e-22</td>\n",
       "      <td>Angiostatin</td>\n",
       "      <td>0.038410</td>\n",
       "    </tr>\n",
       "  </tbody>\n",
       "</table>\n",
       "<p>1305 rows × 5 columns</p>\n",
       "</div>"
      ],
      "text/plain": [
       "                         correlation        pvalue        qvalue  \\\n",
       "target                                                             \n",
       "IGF-I                      -0.670816  1.133503e-08  5.214114e-06   \n",
       "Kallikrein 7               -0.584760  1.784080e-06  5.566331e-04   \n",
       "DHH                        -0.507358  5.626728e-05  1.367295e-02   \n",
       "IDS                        -0.476015  1.821429e-04  3.988929e-02   \n",
       "Nr-CAM                     -0.463471  2.825962e-04  5.849741e-02   \n",
       "...                              ...           ...           ...   \n",
       "C5                          0.925321  7.925619e-25  1.031123e-21   \n",
       "Coagulation Factor IXab     0.926358  5.469649e-25  7.121483e-22   \n",
       "C5b, 6 Complex              0.928951  2.112253e-25  2.752266e-22   \n",
       "Heparin cofactor II         0.929924  1.464688e-25  1.909953e-22   \n",
       "Angiostatin                 0.930475  1.187481e-25  1.549663e-22   \n",
       "\n",
       "                                                 full_name  % of sum(SOMAScan)  \n",
       "target                                                                          \n",
       "IGF-I                         Insulin-like growth factor I            0.077420  \n",
       "Kallikrein 7                                  Kallikrein-7            0.010763  \n",
       "DHH                      Desert hedgehog protein N-product            0.003297  \n",
       "IDS                                  Iduronate 2-sulfatase            0.014244  \n",
       "Nr-CAM                     Neuronal cell adhesion molecule            0.258409  \n",
       "...                                                    ...                 ...  \n",
       "C5                                           Complement C5            0.302105  \n",
       "Coagulation Factor IXab            Coagulation factor IXab            0.354175  \n",
       "C5b, 6 Complex                   Complement C5b-C6 complex            0.089011  \n",
       "Heparin cofactor II                     Heparin cofactor 2            0.155590  \n",
       "Angiostatin                                    Angiostatin            0.038410  \n",
       "\n",
       "[1305 rows x 5 columns]"
      ]
     },
     "execution_count": 35,
     "metadata": {},
     "output_type": "execute_result"
    }
   ],
   "source": [
    "somascan_correlations(clinical['Protein'], mask=~is_healthy)"
   ]
  },
  {
   "cell_type": "markdown",
   "metadata": {},
   "source": [
    "When looking at the exact values and not on the ranks only:"
   ]
  },
  {
   "cell_type": "code",
   "execution_count": 36,
   "metadata": {},
   "outputs": [],
   "source": [
    "from scipy.stats import pearsonr"
   ]
  },
  {
   "cell_type": "code",
   "execution_count": 37,
   "metadata": {},
   "outputs": [
    {
     "data": {
      "text/html": [
       "<div>\n",
       "<style scoped>\n",
       "    .dataframe tbody tr th:only-of-type {\n",
       "        vertical-align: middle;\n",
       "    }\n",
       "\n",
       "    .dataframe tbody tr th {\n",
       "        vertical-align: top;\n",
       "    }\n",
       "\n",
       "    .dataframe thead th {\n",
       "        text-align: right;\n",
       "    }\n",
       "</style>\n",
       "<table border=\"1\" class=\"dataframe\">\n",
       "  <thead>\n",
       "    <tr style=\"text-align: right;\">\n",
       "      <th></th>\n",
       "      <th>correlation</th>\n",
       "      <th>pvalue</th>\n",
       "      <th>qvalue</th>\n",
       "      <th>full_name</th>\n",
       "      <th>% of sum(SOMAScan)</th>\n",
       "    </tr>\n",
       "    <tr>\n",
       "      <th>target</th>\n",
       "      <th></th>\n",
       "      <th></th>\n",
       "      <th></th>\n",
       "      <th></th>\n",
       "      <th></th>\n",
       "    </tr>\n",
       "  </thead>\n",
       "  <tbody>\n",
       "    <tr>\n",
       "      <th>IGF-I</th>\n",
       "      <td>-0.628917</td>\n",
       "      <td>1.614006e-07</td>\n",
       "      <td>1.525236e-04</td>\n",
       "      <td>Insulin-like growth factor I</td>\n",
       "      <td>0.077420</td>\n",
       "    </tr>\n",
       "    <tr>\n",
       "      <th>PIANP</th>\n",
       "      <td>-0.410053</td>\n",
       "      <td>1.535903e-03</td>\n",
       "      <td>4.131579e-01</td>\n",
       "      <td>PILR alpha-associated neural protein</td>\n",
       "      <td>0.207425</td>\n",
       "    </tr>\n",
       "    <tr>\n",
       "      <th>Nr-CAM</th>\n",
       "      <td>-0.397267</td>\n",
       "      <td>2.214453e-03</td>\n",
       "      <td>5.580420e-01</td>\n",
       "      <td>Neuronal cell adhesion molecule</td>\n",
       "      <td>0.258409</td>\n",
       "    </tr>\n",
       "    <tr>\n",
       "      <th>Kallikrein 7</th>\n",
       "      <td>-0.396996</td>\n",
       "      <td>2.231389e-03</td>\n",
       "      <td>5.580420e-01</td>\n",
       "      <td>Kallikrein-7</td>\n",
       "      <td>0.010763</td>\n",
       "    </tr>\n",
       "    <tr>\n",
       "      <th>PKC-G</th>\n",
       "      <td>-0.378785</td>\n",
       "      <td>3.666408e-03</td>\n",
       "      <td>8.286083e-01</td>\n",
       "      <td>Protein kinase C gamma type</td>\n",
       "      <td>0.001945</td>\n",
       "    </tr>\n",
       "    <tr>\n",
       "      <th>...</th>\n",
       "      <td>...</td>\n",
       "      <td>...</td>\n",
       "      <td>...</td>\n",
       "      <td>...</td>\n",
       "      <td>...</td>\n",
       "    </tr>\n",
       "    <tr>\n",
       "      <th>C5</th>\n",
       "      <td>0.820793</td>\n",
       "      <td>5.449453e-15</td>\n",
       "      <td>7.089739e-12</td>\n",
       "      <td>Complement C5</td>\n",
       "      <td>0.302105</td>\n",
       "    </tr>\n",
       "    <tr>\n",
       "      <th>AK1A1</th>\n",
       "      <td>0.824479</td>\n",
       "      <td>3.239108e-15</td>\n",
       "      <td>4.217319e-12</td>\n",
       "      <td>Alcohol dehydrogenase [NADP(+)]</td>\n",
       "      <td>0.306103</td>\n",
       "    </tr>\n",
       "    <tr>\n",
       "      <th>SLAF7</th>\n",
       "      <td>0.833139</td>\n",
       "      <td>9.086920e-16</td>\n",
       "      <td>1.184026e-12</td>\n",
       "      <td>SLAM family member 7</td>\n",
       "      <td>0.040507</td>\n",
       "    </tr>\n",
       "    <tr>\n",
       "      <th>Azurocidin</th>\n",
       "      <td>0.841337</td>\n",
       "      <td>2.546503e-16</td>\n",
       "      <td>3.320640e-13</td>\n",
       "      <td>Azurocidin</td>\n",
       "      <td>0.001037</td>\n",
       "    </tr>\n",
       "    <tr>\n",
       "      <th>DC-SIGNR</th>\n",
       "      <td>0.862685</td>\n",
       "      <td>6.418983e-18</td>\n",
       "      <td>8.376773e-15</td>\n",
       "      <td>C-type lectin domain family 4 member M</td>\n",
       "      <td>0.085996</td>\n",
       "    </tr>\n",
       "  </tbody>\n",
       "</table>\n",
       "<p>1305 rows × 5 columns</p>\n",
       "</div>"
      ],
      "text/plain": [
       "              correlation        pvalue        qvalue  \\\n",
       "target                                                  \n",
       "IGF-I           -0.628917  1.614006e-07  1.525236e-04   \n",
       "PIANP           -0.410053  1.535903e-03  4.131579e-01   \n",
       "Nr-CAM          -0.397267  2.214453e-03  5.580420e-01   \n",
       "Kallikrein 7    -0.396996  2.231389e-03  5.580420e-01   \n",
       "PKC-G           -0.378785  3.666408e-03  8.286083e-01   \n",
       "...                   ...           ...           ...   \n",
       "C5               0.820793  5.449453e-15  7.089739e-12   \n",
       "AK1A1            0.824479  3.239108e-15  4.217319e-12   \n",
       "SLAF7            0.833139  9.086920e-16  1.184026e-12   \n",
       "Azurocidin       0.841337  2.546503e-16  3.320640e-13   \n",
       "DC-SIGNR         0.862685  6.418983e-18  8.376773e-15   \n",
       "\n",
       "                                           full_name  % of sum(SOMAScan)  \n",
       "target                                                                    \n",
       "IGF-I                   Insulin-like growth factor I            0.077420  \n",
       "PIANP           PILR alpha-associated neural protein            0.207425  \n",
       "Nr-CAM               Neuronal cell adhesion molecule            0.258409  \n",
       "Kallikrein 7                            Kallikrein-7            0.010763  \n",
       "PKC-G                    Protein kinase C gamma type            0.001945  \n",
       "...                                              ...                 ...  \n",
       "C5                                     Complement C5            0.302105  \n",
       "AK1A1                Alcohol dehydrogenase [NADP(+)]            0.306103  \n",
       "SLAF7                           SLAM family member 7            0.040507  \n",
       "Azurocidin                                Azurocidin            0.001037  \n",
       "DC-SIGNR      C-type lectin domain family 4 member M            0.085996  \n",
       "\n",
       "[1305 rows x 5 columns]"
      ]
     },
     "execution_count": 37,
     "metadata": {},
     "output_type": "execute_result"
    }
   ],
   "source": [
    "somascan_correlations(clinical['Protein'], mask=~is_healthy, method=pearsonr)"
   ]
  },
  {
   "cell_type": "markdown",
   "metadata": {},
   "source": [
    "Key take-aways:\n",
    " - albumin may not be the key player (or it might not be measured proportionally by SOMAScan)\n",
    " - there are many proteins having levels highly and positively correlated with the total protein abundance in CSF; these are candidates for further investigation at some point;\n",
    " - while some of such proteins may be interesting to look at, my intuition is that these may not be the best candidates for >>novel<< biomarkers - we already know of the correlation between total CSF protein and disease status. Thus:\n",
    "  - negative correlations might be of more interest - these are less obvious; observing lower level of such proteins might relevant for diagnosis \n",
    "  - it might be worth keeping this list to highlight proteins highly correlated with total CSF protein in the final biomarker candidates results; this would inform the reader of this special relation with its pros and cons (pro: can be easily measured; con: is already being measured indirectly by total CSF protein)\n",
    "\n",
    " - IGF-I negatively correlates with the total protein in CSF is diseased patients (which is associated with the disease status itself). A [study from 2012](https://journals.lww.com/infectdis/Abstract/2012/03000/Cerebrospinal_Fluid_and_Serum_Levels_of_Growth.9.aspx?trendmd-shared=0) investigated this topic [disclaimer: I read only abstract].\n",
    " - Kallikrein 7 may be interesting to investigate. I did not find relevant literature, except for Kallikrein-6 under-expression reported in\n",
    " - [iTRAQ-based quantitative proteomic analysis of cerebrospinal fluid reveals NELL2 as a potential diagnostic biomarker of tuberculous meningitis](https://www.spandidos-publications.com/ijmm/35/5/1323), table II which is an important article and table but to avoid biasing myself with such knowledge (and straying off the topic) I will leave comparisons for later"
   ]
  },
  {
   "cell_type": "markdown",
   "metadata": {},
   "source": [
    "### This may be because the healthy controls are still HIV positive"
   ]
  },
  {
   "cell_type": "markdown",
   "metadata": {},
   "source": [
    "Dr Rachel noted that the healthy control patients are still likely to be HIV positive, which can influence the levels of Albumin"
   ]
  },
  {
   "cell_type": "markdown",
   "metadata": {},
   "source": [
    "TODO: verify that"
   ]
  }
 ],
 "metadata": {
  "kernelspec": {
   "display_name": "Python 3",
   "language": "python",
   "name": "python3"
  },
  "language_info": {
   "codemirror_mode": {
    "name": "ipython",
    "version": 3
   },
   "file_extension": ".py",
   "mimetype": "text/x-python",
   "name": "python",
   "nbconvert_exporter": "python",
   "pygments_lexer": "ipython3",
   "version": "3.7.6"
  }
 },
 "nbformat": 4,
 "nbformat_minor": 4
}
