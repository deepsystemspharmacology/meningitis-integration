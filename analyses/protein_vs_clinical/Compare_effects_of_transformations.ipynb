{
 "cells": [
  {
   "cell_type": "code",
   "execution_count": 1,
   "metadata": {},
   "outputs": [],
   "source": [
    "from helpers.utilities import *\n",
    "%run helpers/notebook_setup.ipynb"
   ]
  },
  {
   "cell_type": "code",
   "execution_count": 2,
   "metadata": {
    "tags": [
     "parameters"
    ]
   },
   "outputs": [],
   "source": [
    "indexed_by_target_path = 'data/clean/protein/indexed_by_target.csv'\n",
    "patients_variance_at_one_path ='data/clean/protein/z_log_10-patients_variance_at_one.csv'\n",
    "zz_log_path = 'data/clean/protein/zz_log_10.csv'\n",
    "log_matrix_path = 'data/clean/protein/log_10.csv'\n",
    "\n",
    "clinical_path = 'data/clean/protein/clinical_data_ordered_to_match_proteins_matrix.csv'"
   ]
  },
  {
   "cell_type": "code",
   "execution_count": 3,
   "metadata": {},
   "outputs": [],
   "source": [
    "raw_protein_matrix = read_csv(indexed_by_target_path, index_col=0)\n",
    "log_matrix = read_csv(log_matrix_path, index_col=0)\n",
    "zz_log_matrix = read_csv(zz_log_path, index_col=0)\n",
    "patients_variance_at_one = read_csv(patients_variance_at_one_path, index_col=0)"
   ]
  },
  {
   "cell_type": "code",
   "execution_count": 4,
   "metadata": {},
   "outputs": [],
   "source": [
    "clinical = read_csv(clinical_path, index_col=0)"
   ]
  },
  {
   "cell_type": "code",
   "execution_count": 5,
   "metadata": {},
   "outputs": [],
   "source": [
    "by_condition = clinical['Meningitis']\n",
    "conditions =  sorted(set(by_condition))"
   ]
  },
  {
   "cell_type": "code",
   "execution_count": 6,
   "metadata": {},
   "outputs": [],
   "source": [
    "matrices = {\n",
    "    'raw': raw_protein_matrix,\n",
    "    'log': log_matrix,\n",
    "    'z-score patients then z-score proteins': zz_log_matrix,\n",
    "    'z-score patients': patients_variance_at_one\n",
    "}"
   ]
  },
  {
   "cell_type": "markdown",
   "metadata": {},
   "source": [
    "## Patient-to-patient variance of each of the proteins, grouped by their condition:"
   ]
  },
  {
   "cell_type": "code",
   "execution_count": 7,
   "metadata": {},
   "outputs": [
    {
     "data": {
      "text/html": [
       "<div>\n",
       "<style scoped>\n",
       "    .dataframe tbody tr th:only-of-type {\n",
       "        vertical-align: middle;\n",
       "    }\n",
       "\n",
       "    .dataframe tbody tr th {\n",
       "        vertical-align: top;\n",
       "    }\n",
       "\n",
       "    .dataframe thead th {\n",
       "        text-align: right;\n",
       "    }\n",
       "</style>\n",
       "<table border=\"1\" class=\"dataframe\">\n",
       "  <thead>\n",
       "    <tr style=\"text-align: right;\">\n",
       "      <th></th>\n",
       "      <th>condition</th>\n",
       "      <th>transform</th>\n",
       "      <th>variance</th>\n",
       "      <th>protein</th>\n",
       "      <th>variance_ratio</th>\n",
       "    </tr>\n",
       "  </thead>\n",
       "  <tbody>\n",
       "    <tr>\n",
       "      <th>0</th>\n",
       "      <td>Cryptococcal</td>\n",
       "      <td>raw</td>\n",
       "      <td>5.916837e+03</td>\n",
       "      <td>CHIP</td>\n",
       "      <td>0.036270</td>\n",
       "    </tr>\n",
       "    <tr>\n",
       "      <th>1</th>\n",
       "      <td>Cryptococcal</td>\n",
       "      <td>raw</td>\n",
       "      <td>1.021597e+03</td>\n",
       "      <td>CEBPB</td>\n",
       "      <td>0.097015</td>\n",
       "    </tr>\n",
       "    <tr>\n",
       "      <th>2</th>\n",
       "      <td>Cryptococcal</td>\n",
       "      <td>raw</td>\n",
       "      <td>2.006106e+07</td>\n",
       "      <td>NSE</td>\n",
       "      <td>0.458795</td>\n",
       "    </tr>\n",
       "    <tr>\n",
       "      <th>3</th>\n",
       "      <td>Cryptococcal</td>\n",
       "      <td>raw</td>\n",
       "      <td>6.622159e+02</td>\n",
       "      <td>PIAS4</td>\n",
       "      <td>0.128626</td>\n",
       "    </tr>\n",
       "    <tr>\n",
       "      <th>4</th>\n",
       "      <td>Cryptococcal</td>\n",
       "      <td>raw</td>\n",
       "      <td>4.266223e+03</td>\n",
       "      <td>IL-10 Ra</td>\n",
       "      <td>0.313316</td>\n",
       "    </tr>\n",
       "  </tbody>\n",
       "</table>\n",
       "</div>"
      ],
      "text/plain": [
       "      condition transform      variance   protein  variance_ratio\n",
       "0  Cryptococcal       raw  5.916837e+03      CHIP        0.036270\n",
       "1  Cryptococcal       raw  1.021597e+03     CEBPB        0.097015\n",
       "2  Cryptococcal       raw  2.006106e+07       NSE        0.458795\n",
       "3  Cryptococcal       raw  6.622159e+02     PIAS4        0.128626\n",
       "4  Cryptococcal       raw  4.266223e+03  IL-10 Ra        0.313316"
      ]
     },
     "execution_count": 7,
     "metadata": {},
     "output_type": "execute_result"
    }
   ],
   "source": [
    "proteins_variance = []\n",
    "for condition in conditions:\n",
    "    for transform, matrix in matrices.items():\n",
    "        for protein, variance in matrix.T[by_condition == condition].T.var(axis=1).items():\n",
    "            proteins_variance.append(\n",
    "                {\n",
    "                    'condition': condition,\n",
    "                    'transform': transform,\n",
    "                    'variance': variance,\n",
    "                    'protein': protein,\n",
    "                    'variance_ratio': variance / matrix.loc[protein].var()\n",
    "                }\n",
    "            )\n",
    "proteins_variance = DataFrame(proteins_variance)\n",
    "proteins_variance.head()"
   ]
  },
  {
   "cell_type": "code",
   "execution_count": 8,
   "metadata": {},
   "outputs": [
    {
     "data": {
      "image/png": "[encoded data removed]"
     },
     "metadata": {},
     "output_type": "display_data"
    }
   ],
   "source": [
    "%%R -i proteins_variance -w 800\n",
    "(\n",
    "    ggplot(proteins_variance, aes(x=condition, y=variance, fill=transform))\n",
    "    + geom_boxplot()\n",
    "    + scale_y_log10()\n",
    "    + theme(legend.position='bottom')\n",
    ")"
   ]
  },
  {
   "cell_type": "markdown",
   "metadata": {},
   "source": [
    "If we assume that the variance of proteins between patients in the same group should be lower than the variance between proteins among all samples, we can get a meaningful comparison of the proposed transformations:"
   ]
  },
  {
   "cell_type": "code",
   "execution_count": 9,
   "metadata": {},
   "outputs": [
    {
     "data": {
      "image/png": "[encoded data removed]"
     },
     "metadata": {},
     "output_type": "display_data"
    }
   ],
   "source": [
    "%%R -i proteins_variance -w 800\n",
    "(\n",
    "    ggplot(proteins_variance, aes(x=condition, y=variance_ratio, fill=transform))\n",
    "    + geom_boxplot()\n",
    "    + scale_y_log10()\n",
    "    + theme(legend.position='bottom')\n",
    ")"
   ]
  },
  {
   "cell_type": "markdown",
   "metadata": {},
   "source": [
    "- It is not obvious if the comparison of raw values to log transformed values gives us a clear picture (because the division by log transformed value and by raw value is not the same thing), but\n",
    "- it seems that the benefit of log transform is the greatest in the TB group (worth remembering)\n",
    "- the same goes for fixing the variance of each patient at one (benefit visible in the TB group)\n",
    "- and for the double z-score transform. While in the absolute terms the in-group variance for this procedure increased (see the plot above), when we compared it to the global variance, this method is as good as single z-score - which is contrary to my  consternations"
   ]
  },
  {
   "cell_type": "markdown",
   "metadata": {},
   "source": [
    "## Protein-to-protein variance of each of the patients, grouped by their condition:"
   ]
  },
  {
   "cell_type": "markdown",
   "metadata": {},
   "source": [
    "This time I compare how variable is each sample (patient) against the group that they belong to. This one has no strong biological intuition, but one could say that very similar patients should have comparable variances. This is of course an oversimplification and generally not true in many situations."
   ]
  },
  {
   "cell_type": "code",
   "execution_count": 10,
   "metadata": {},
   "outputs": [
    {
     "data": {
      "text/html": [
       "<div>\n",
       "<style scoped>\n",
       "    .dataframe tbody tr th:only-of-type {\n",
       "        vertical-align: middle;\n",
       "    }\n",
       "\n",
       "    .dataframe tbody tr th {\n",
       "        vertical-align: top;\n",
       "    }\n",
       "\n",
       "    .dataframe thead th {\n",
       "        text-align: right;\n",
       "    }\n",
       "</style>\n",
       "<table border=\"1\" class=\"dataframe\">\n",
       "  <thead>\n",
       "    <tr style=\"text-align: right;\">\n",
       "      <th></th>\n",
       "      <th>condition</th>\n",
       "      <th>transform</th>\n",
       "      <th>variance</th>\n",
       "      <th>patient</th>\n",
       "      <th>variance_ratio</th>\n",
       "    </tr>\n",
       "  </thead>\n",
       "  <tbody>\n",
       "    <tr>\n",
       "      <th>0</th>\n",
       "      <td>Cryptococcal</td>\n",
       "      <td>raw</td>\n",
       "      <td>1.236473e+09</td>\n",
       "      <td>016.CM</td>\n",
       "      <td>0.920972</td>\n",
       "    </tr>\n",
       "    <tr>\n",
       "      <th>1</th>\n",
       "      <td>Cryptococcal</td>\n",
       "      <td>raw</td>\n",
       "      <td>1.416878e+09</td>\n",
       "      <td>006.CM</td>\n",
       "      <td>1.055345</td>\n",
       "    </tr>\n",
       "    <tr>\n",
       "      <th>2</th>\n",
       "      <td>Cryptococcal</td>\n",
       "      <td>raw</td>\n",
       "      <td>1.958862e+09</td>\n",
       "      <td>015.CM</td>\n",
       "      <td>1.459035</td>\n",
       "    </tr>\n",
       "    <tr>\n",
       "      <th>3</th>\n",
       "      <td>Cryptococcal</td>\n",
       "      <td>raw</td>\n",
       "      <td>9.029527e+08</td>\n",
       "      <td>013.CM</td>\n",
       "      <td>0.672554</td>\n",
       "    </tr>\n",
       "    <tr>\n",
       "      <th>4</th>\n",
       "      <td>Cryptococcal</td>\n",
       "      <td>raw</td>\n",
       "      <td>1.201501e+09</td>\n",
       "      <td>018.CM</td>\n",
       "      <td>0.894923</td>\n",
       "    </tr>\n",
       "  </tbody>\n",
       "</table>\n",
       "</div>"
      ],
      "text/plain": [
       "      condition transform      variance patient  variance_ratio\n",
       "0  Cryptococcal       raw  1.236473e+09  016.CM        0.920972\n",
       "1  Cryptococcal       raw  1.416878e+09  006.CM        1.055345\n",
       "2  Cryptococcal       raw  1.958862e+09  015.CM        1.459035\n",
       "3  Cryptococcal       raw  9.029527e+08  013.CM        0.672554\n",
       "4  Cryptococcal       raw  1.201501e+09  018.CM        0.894923"
      ]
     },
     "execution_count": 10,
     "metadata": {},
     "output_type": "execute_result"
    }
   ],
   "source": [
    "patients_variance = []\n",
    "for condition in conditions:\n",
    "    for transform, matrix in matrices.items():\n",
    "        for patient, variance in matrix.T[by_condition == condition].T.var(axis=0).items():\n",
    "            patients_variance.append(\n",
    "                {\n",
    "                    'condition': condition,\n",
    "                    'transform': transform,\n",
    "                    'variance': variance,\n",
    "                    'patient': patient,\n",
    "                    'variance_ratio': variance / matrix.T[by_condition == condition].T.var().mean(),\n",
    "                }\n",
    "            )\n",
    "patients_variance = DataFrame(patients_variance)\n",
    "patients_variance.head()"
   ]
  },
  {
   "cell_type": "code",
   "execution_count": 11,
   "metadata": {},
   "outputs": [
    {
     "data": {
      "image/png": "[encoded data removed]"
     },
     "metadata": {},
     "output_type": "display_data"
    }
   ],
   "source": [
    "%%R -i patients_variance -w 800\n",
    "(\n",
    "    ggplot(patients_variance, aes(x=condition, y=variance, fill=transform))\n",
    "    + geom_boxplot()\n",
    "    + scale_y_log10()\n",
    "    + theme(legend.position='bottom')\n",
    ")"
   ]
  },
  {
   "cell_type": "code",
   "execution_count": 12,
   "metadata": {},
   "outputs": [
    {
     "data": {
      "image/png": "[encoded data removed]"
     },
     "metadata": {},
     "output_type": "display_data"
    }
   ],
   "source": [
    "%%R -i patients_variance -w 800\n",
    "(\n",
    "    ggplot(patients_variance, aes(x=condition, y=variance_ratio, fill=transform))\n",
    "    + geom_boxplot()\n",
    "    + theme(legend.position='bottom')\n",
    ")\n",
    "# closer to one = variances more similar = the desired output"
   ]
  },
  {
   "cell_type": "markdown",
   "metadata": {},
   "source": [
    "- the single z-score transform has unit variance on patients by definition thus is not worth additional discussion\n",
    "- the double z-score performs (on average) considerably worse than other methods (as expected - this is the cost of the trade-off of having fixed variance in proteins rather than patients)"
   ]
  },
  {
   "cell_type": "markdown",
   "metadata": {},
   "source": [
    "### Mean abundance of proteins in each of the patients, compared against the mean of the group"
   ]
  },
  {
   "cell_type": "markdown",
   "metadata": {},
   "source": [
    "In non-transformed data this is influenced by:\n",
    " - the disease\n",
    " - the technical variation\n",
    " \n",
    "If we compare the patients proteins abundance to the mean abundance of the disease group, we expect to get comparable results.\n",
    "\n",
    "A good transformation would reduce the technical variation thus reducing the variance in such comparison."
   ]
  },
  {
   "cell_type": "code",
   "execution_count": 13,
   "metadata": {},
   "outputs": [
    {
     "data": {
      "text/html": [
       "<div>\n",
       "<style scoped>\n",
       "    .dataframe tbody tr th:only-of-type {\n",
       "        vertical-align: middle;\n",
       "    }\n",
       "\n",
       "    .dataframe tbody tr th {\n",
       "        vertical-align: top;\n",
       "    }\n",
       "\n",
       "    .dataframe thead th {\n",
       "        text-align: right;\n",
       "    }\n",
       "</style>\n",
       "<table border=\"1\" class=\"dataframe\">\n",
       "  <thead>\n",
       "    <tr style=\"text-align: right;\">\n",
       "      <th></th>\n",
       "      <th>condition</th>\n",
       "      <th>transform</th>\n",
       "      <th>mean</th>\n",
       "      <th>patient</th>\n",
       "      <th>mean_ratio</th>\n",
       "    </tr>\n",
       "  </thead>\n",
       "  <tbody>\n",
       "    <tr>\n",
       "      <th>0</th>\n",
       "      <td>Cryptococcal</td>\n",
       "      <td>raw</td>\n",
       "      <td>13606.752337</td>\n",
       "      <td>016.CM</td>\n",
       "      <td>1.081039</td>\n",
       "    </tr>\n",
       "    <tr>\n",
       "      <th>1</th>\n",
       "      <td>Cryptococcal</td>\n",
       "      <td>raw</td>\n",
       "      <td>15630.479923</td>\n",
       "      <td>006.CM</td>\n",
       "      <td>1.241822</td>\n",
       "    </tr>\n",
       "    <tr>\n",
       "      <th>2</th>\n",
       "      <td>Cryptococcal</td>\n",
       "      <td>raw</td>\n",
       "      <td>16001.292874</td>\n",
       "      <td>015.CM</td>\n",
       "      <td>1.271283</td>\n",
       "    </tr>\n",
       "    <tr>\n",
       "      <th>3</th>\n",
       "      <td>Cryptococcal</td>\n",
       "      <td>raw</td>\n",
       "      <td>10326.165977</td>\n",
       "      <td>013.CM</td>\n",
       "      <td>0.820401</td>\n",
       "    </tr>\n",
       "    <tr>\n",
       "      <th>4</th>\n",
       "      <td>Cryptococcal</td>\n",
       "      <td>raw</td>\n",
       "      <td>13048.722146</td>\n",
       "      <td>018.CM</td>\n",
       "      <td>1.036705</td>\n",
       "    </tr>\n",
       "  </tbody>\n",
       "</table>\n",
       "</div>"
      ],
      "text/plain": [
       "      condition transform          mean patient  mean_ratio\n",
       "0  Cryptococcal       raw  13606.752337  016.CM    1.081039\n",
       "1  Cryptococcal       raw  15630.479923  006.CM    1.241822\n",
       "2  Cryptococcal       raw  16001.292874  015.CM    1.271283\n",
       "3  Cryptococcal       raw  10326.165977  013.CM    0.820401\n",
       "4  Cryptococcal       raw  13048.722146  018.CM    1.036705"
      ]
     },
     "execution_count": 13,
     "metadata": {},
     "output_type": "execute_result"
    }
   ],
   "source": [
    "patients_mean_protein_abundance = []\n",
    "for condition in conditions:\n",
    "    for transform, matrix in matrices.items():\n",
    "        mean_condition = matrix.T[by_condition == condition].T.mean(axis=0).mean()\n",
    "        # print(condition, transform, mean_condition)\n",
    "        for patient, mean in matrix.T[by_condition == condition].T.mean(axis=0).items():\n",
    "            patients_mean_protein_abundance.append(\n",
    "                {\n",
    "                    'condition': condition,\n",
    "                    'transform': transform,\n",
    "                    'mean': mean,\n",
    "                    'patient': patient,\n",
    "                    'mean_ratio': mean / mean_condition,\n",
    "                }\n",
    "            )\n",
    "patients_mean_protein_abundance = DataFrame(patients_mean_protein_abundance)\n",
    "patients_mean_protein_abundance.head()"
   ]
  },
  {
   "cell_type": "code",
   "execution_count": 14,
   "metadata": {},
   "outputs": [
    {
     "data": {
      "image/png": "[encoded data removed]"
     },
     "metadata": {},
     "output_type": "display_data"
    }
   ],
   "source": [
    "%%R -i patients_mean_protein_abundance -w 800\n",
    "(\n",
    "    ggplot(patients_mean_protein_abundance, aes(x=condition, y=mean, fill=transform))\n",
    "    + geom_boxplot()\n",
    "    + scale_y_log10()\n",
    "    + theme(legend.position='bottom')\n",
    ")"
   ]
  },
  {
   "cell_type": "code",
   "execution_count": 15,
   "metadata": {},
   "outputs": [
    {
     "data": {
      "image/png": "[encoded data removed]"
     },
     "metadata": {},
     "output_type": "display_data"
    }
   ],
   "source": [
    "%%R -i patients_mean_protein_abundance -w 800\n",
    "(\n",
    "    ggplot(patients_mean_protein_abundance, aes(x=condition, y=mean_ratio, fill=transform))\n",
    "    + geom_boxplot()\n",
    "    + theme(legend.position='bottom')\n",
    ")"
   ]
  },
  {
   "cell_type": "markdown",
   "metadata": {},
   "source": [
    "- single z-score (patients variance = 1, mean = 0) performed worse. It should not. This may be due to instability of the computations (we are dividing a number which is essentially a 0 by another number which is a mean of multiple \"almost\" zeros, e.g. -3.598654e-16 / 6.011499383558319e-17 (see below)\n",
    "- the results for viral/double z-score are concerning. This seems to the most important finding in this notebook."
   ]
  },
  {
   "cell_type": "code",
   "execution_count": 16,
   "metadata": {},
   "outputs": [
    {
     "data": {
      "text/html": [
       "<div>\n",
       "<style scoped>\n",
       "    .dataframe tbody tr th:only-of-type {\n",
       "        vertical-align: middle;\n",
       "    }\n",
       "\n",
       "    .dataframe tbody tr th {\n",
       "        vertical-align: top;\n",
       "    }\n",
       "\n",
       "    .dataframe thead th {\n",
       "        text-align: right;\n",
       "    }\n",
       "</style>\n",
       "<table border=\"1\" class=\"dataframe\">\n",
       "  <thead>\n",
       "    <tr style=\"text-align: right;\">\n",
       "      <th></th>\n",
       "      <th>condition</th>\n",
       "      <th>transform</th>\n",
       "      <th>mean</th>\n",
       "      <th>patient</th>\n",
       "      <th>mean_ratio</th>\n",
       "    </tr>\n",
       "  </thead>\n",
       "  <tbody>\n",
       "    <tr>\n",
       "      <th>72</th>\n",
       "      <td>Cryptococcal</td>\n",
       "      <td>z-score patients</td>\n",
       "      <td>1.083850e-16</td>\n",
       "      <td>016.CM</td>\n",
       "      <td>3.361478</td>\n",
       "    </tr>\n",
       "    <tr>\n",
       "      <th>73</th>\n",
       "      <td>Cryptococcal</td>\n",
       "      <td>z-score patients</td>\n",
       "      <td>1.643641e-16</td>\n",
       "      <td>006.CM</td>\n",
       "      <td>5.097625</td>\n",
       "    </tr>\n",
       "    <tr>\n",
       "      <th>74</th>\n",
       "      <td>Cryptococcal</td>\n",
       "      <td>z-score patients</td>\n",
       "      <td>1.871640e-17</td>\n",
       "      <td>015.CM</td>\n",
       "      <td>0.580475</td>\n",
       "    </tr>\n",
       "    <tr>\n",
       "      <th>75</th>\n",
       "      <td>Cryptococcal</td>\n",
       "      <td>z-score patients</td>\n",
       "      <td>1.905670e-17</td>\n",
       "      <td>013.CM</td>\n",
       "      <td>0.591029</td>\n",
       "    </tr>\n",
       "    <tr>\n",
       "      <th>76</th>\n",
       "      <td>Cryptococcal</td>\n",
       "      <td>z-score patients</td>\n",
       "      <td>2.234058e-16</td>\n",
       "      <td>018.CM</td>\n",
       "      <td>6.928760</td>\n",
       "    </tr>\n",
       "  </tbody>\n",
       "</table>\n",
       "</div>"
      ],
      "text/plain": [
       "       condition         transform          mean patient  mean_ratio\n",
       "72  Cryptococcal  z-score patients  1.083850e-16  016.CM    3.361478\n",
       "73  Cryptococcal  z-score patients  1.643641e-16  006.CM    5.097625\n",
       "74  Cryptococcal  z-score patients  1.871640e-17  015.CM    0.580475\n",
       "75  Cryptococcal  z-score patients  1.905670e-17  013.CM    0.591029\n",
       "76  Cryptococcal  z-score patients  2.234058e-16  018.CM    6.928760"
      ]
     },
     "execution_count": 16,
     "metadata": {},
     "output_type": "execute_result"
    }
   ],
   "source": [
    "patients_mean_protein_abundance[patients_mean_protein_abundance['transform']=='z-score patients'].head()"
   ]
  },
  {
   "cell_type": "markdown",
   "metadata": {},
   "source": [
    "### Why double z-score transform increases the difference between means in the viral group?"
   ]
  },
  {
   "cell_type": "markdown",
   "metadata": {},
   "source": [
    "The data must not conform to our expectations. There is nothing unstable numerically:"
   ]
  },
  {
   "cell_type": "code",
   "execution_count": 17,
   "metadata": {},
   "outputs": [
    {
     "data": {
      "text/html": [
       "<div>\n",
       "<style scoped>\n",
       "    .dataframe tbody tr th:only-of-type {\n",
       "        vertical-align: middle;\n",
       "    }\n",
       "\n",
       "    .dataframe tbody tr th {\n",
       "        vertical-align: top;\n",
       "    }\n",
       "\n",
       "    .dataframe thead th {\n",
       "        text-align: right;\n",
       "    }\n",
       "</style>\n",
       "<table border=\"1\" class=\"dataframe\">\n",
       "  <thead>\n",
       "    <tr style=\"text-align: right;\">\n",
       "      <th></th>\n",
       "      <th>condition</th>\n",
       "      <th>transform</th>\n",
       "      <th>mean</th>\n",
       "      <th>patient</th>\n",
       "      <th>mean_ratio</th>\n",
       "    </tr>\n",
       "  </thead>\n",
       "  <tbody>\n",
       "    <tr>\n",
       "      <th>48</th>\n",
       "      <td>Cryptococcal</td>\n",
       "      <td>z-score patients then z-score proteins</td>\n",
       "      <td>-0.079070</td>\n",
       "      <td>016.CM</td>\n",
       "      <td>1.303121</td>\n",
       "    </tr>\n",
       "    <tr>\n",
       "      <th>49</th>\n",
       "      <td>Cryptococcal</td>\n",
       "      <td>z-score patients then z-score proteins</td>\n",
       "      <td>-0.171163</td>\n",
       "      <td>006.CM</td>\n",
       "      <td>2.820864</td>\n",
       "    </tr>\n",
       "    <tr>\n",
       "      <th>50</th>\n",
       "      <td>Cryptococcal</td>\n",
       "      <td>z-score patients then z-score proteins</td>\n",
       "      <td>-0.121595</td>\n",
       "      <td>015.CM</td>\n",
       "      <td>2.003958</td>\n",
       "    </tr>\n",
       "    <tr>\n",
       "      <th>51</th>\n",
       "      <td>Cryptococcal</td>\n",
       "      <td>z-score patients then z-score proteins</td>\n",
       "      <td>-0.113053</td>\n",
       "      <td>013.CM</td>\n",
       "      <td>1.863173</td>\n",
       "    </tr>\n",
       "    <tr>\n",
       "      <th>52</th>\n",
       "      <td>Cryptococcal</td>\n",
       "      <td>z-score patients then z-score proteins</td>\n",
       "      <td>-0.160406</td>\n",
       "      <td>018.CM</td>\n",
       "      <td>2.643580</td>\n",
       "    </tr>\n",
       "  </tbody>\n",
       "</table>\n",
       "</div>"
      ],
      "text/plain": [
       "       condition                               transform      mean patient  \\\n",
       "48  Cryptococcal  z-score patients then z-score proteins -0.079070  016.CM   \n",
       "49  Cryptococcal  z-score patients then z-score proteins -0.171163  006.CM   \n",
       "50  Cryptococcal  z-score patients then z-score proteins -0.121595  015.CM   \n",
       "51  Cryptococcal  z-score patients then z-score proteins -0.113053  013.CM   \n",
       "52  Cryptococcal  z-score patients then z-score proteins -0.160406  018.CM   \n",
       "\n",
       "    mean_ratio  \n",
       "48    1.303121  \n",
       "49    2.820864  \n",
       "50    2.003958  \n",
       "51    1.863173  \n",
       "52    2.643580  "
      ]
     },
     "execution_count": 17,
     "metadata": {},
     "output_type": "execute_result"
    }
   ],
   "source": [
    "double = patients_mean_protein_abundance[patients_mean_protein_abundance['transform']=='z-score patients then z-score proteins']\n",
    "double.head()"
   ]
  },
  {
   "cell_type": "code",
   "execution_count": 18,
   "metadata": {},
   "outputs": [
    {
     "data": {
      "text/html": [
       "<div>\n",
       "<style scoped>\n",
       "    .dataframe tbody tr th:only-of-type {\n",
       "        vertical-align: middle;\n",
       "    }\n",
       "\n",
       "    .dataframe tbody tr th {\n",
       "        vertical-align: top;\n",
       "    }\n",
       "\n",
       "    .dataframe thead th {\n",
       "        text-align: right;\n",
       "    }\n",
       "</style>\n",
       "<table border=\"1\" class=\"dataframe\">\n",
       "  <thead>\n",
       "    <tr style=\"text-align: right;\">\n",
       "      <th></th>\n",
       "      <th>condition</th>\n",
       "      <th>transform</th>\n",
       "      <th>mean</th>\n",
       "      <th>patient</th>\n",
       "      <th>mean_ratio</th>\n",
       "    </tr>\n",
       "  </thead>\n",
       "  <tbody>\n",
       "    <tr>\n",
       "      <th>314</th>\n",
       "      <td>Viral</td>\n",
       "      <td>z-score patients then z-score proteins</td>\n",
       "      <td>-0.020827</td>\n",
       "      <td>089.VM</td>\n",
       "      <td>7.215776</td>\n",
       "    </tr>\n",
       "    <tr>\n",
       "      <th>315</th>\n",
       "      <td>Viral</td>\n",
       "      <td>z-score patients then z-score proteins</td>\n",
       "      <td>0.081895</td>\n",
       "      <td>095.VM</td>\n",
       "      <td>-28.373649</td>\n",
       "    </tr>\n",
       "    <tr>\n",
       "      <th>316</th>\n",
       "      <td>Viral</td>\n",
       "      <td>z-score patients then z-score proteins</td>\n",
       "      <td>-0.095498</td>\n",
       "      <td>154.VM</td>\n",
       "      <td>33.086833</td>\n",
       "    </tr>\n",
       "    <tr>\n",
       "      <th>317</th>\n",
       "      <td>Viral</td>\n",
       "      <td>z-score patients then z-score proteins</td>\n",
       "      <td>0.010576</td>\n",
       "      <td>156.VM</td>\n",
       "      <td>-3.664303</td>\n",
       "    </tr>\n",
       "    <tr>\n",
       "      <th>318</th>\n",
       "      <td>Viral</td>\n",
       "      <td>z-score patients then z-score proteins</td>\n",
       "      <td>0.071804</td>\n",
       "      <td>165.VM</td>\n",
       "      <td>-24.877565</td>\n",
       "    </tr>\n",
       "  </tbody>\n",
       "</table>\n",
       "</div>"
      ],
      "text/plain": [
       "    condition                               transform      mean patient  \\\n",
       "314     Viral  z-score patients then z-score proteins -0.020827  089.VM   \n",
       "315     Viral  z-score patients then z-score proteins  0.081895  095.VM   \n",
       "316     Viral  z-score patients then z-score proteins -0.095498  154.VM   \n",
       "317     Viral  z-score patients then z-score proteins  0.010576  156.VM   \n",
       "318     Viral  z-score patients then z-score proteins  0.071804  165.VM   \n",
       "\n",
       "     mean_ratio  \n",
       "314    7.215776  \n",
       "315  -28.373649  \n",
       "316   33.086833  \n",
       "317   -3.664303  \n",
       "318  -24.877565  "
      ]
     },
     "execution_count": 18,
     "metadata": {},
     "output_type": "execute_result"
    }
   ],
   "source": [
    "double[double.condition == 'Viral'].head()"
   ]
  },
  {
   "cell_type": "markdown",
   "metadata": {},
   "source": [
    "How is the Viral group different?\n",
    "\n",
    "- fewer samples\n",
    "- potentially different diseases?"
   ]
  },
  {
   "cell_type": "markdown",
   "metadata": {},
   "source": [
    "Hypothesis 1: there are to few samples\n",
    "\n",
    "TODO: test by simulation (permutations test)"
   ]
  }
 ],
 "metadata": {
  "kernelspec": {
   "display_name": "Python 3",
   "language": "python",
   "name": "python3"
  },
  "language_info": {
   "codemirror_mode": {
    "name": "ipython",
    "version": 3
   },
   "file_extension": ".py",
   "mimetype": "text/x-python",
   "name": "python",
   "nbconvert_exporter": "python",
   "pygments_lexer": "ipython3",
   "version": "3.7.6"
  }
 },
 "nbformat": 4,
 "nbformat_minor": 4
}
